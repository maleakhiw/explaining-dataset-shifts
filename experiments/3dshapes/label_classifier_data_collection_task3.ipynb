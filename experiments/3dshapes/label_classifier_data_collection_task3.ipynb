{
 "cells": [
  {
   "cell_type": "markdown",
   "metadata": {},
   "source": [
    "# Label classifier (3dshapes): data collection\n",
    "\n",
    "## Task 3\n",
    "\n",
    "**Author**: Maleakhi A. Wijaya  \n",
    "**Description**: This notebook contains code used to collect experimentation data. We compare the performance of methods discussed in Rabanset et al. against our proposed CBSD method. The end-to-end task for task 3 is to predict binary clusters containing labels from the original orientation latent values."
   ]
  },
  {
   "cell_type": "code",
   "execution_count": 1,
   "metadata": {},
   "outputs": [],
   "source": [
    "# Load utilities functions\n",
    "%run ../../scripts/constants.py\n",
    "%run ../../scripts/3dshapes_utils.py\n",
    "%run ../../scripts/shift_applicator.py\n",
    "%run ../../scripts/shift_dimensionality_reductor.py\n",
    "%run ../../scripts/experiment_utils.py\n",
    "%run ../../scripts/shift_statistical_test.py"
   ]
  },
  {
   "cell_type": "code",
   "execution_count": 2,
   "metadata": {},
   "outputs": [],
   "source": [
    "## Random seed\n",
    "SEED = 20\n",
    "np.random.seed(SEED)\n",
    "tf.random.set_seed(SEED)"
   ]
  },
  {
   "cell_type": "markdown",
   "metadata": {},
   "source": [
    "## Load dataset"
   ]
  },
  {
   "cell_type": "code",
   "execution_count": 3,
   "metadata": {},
   "outputs": [
    {
     "name": "stdout",
     "output_type": "stream",
     "text": [
      "Training samples: 56000\n",
      "Testing samples: 14000\n"
     ]
    }
   ],
   "source": [
    "files_dir = \"../../data/3dshapes.h5\"\n",
    "# index 0 = image category\n",
    "X_train, X_test, y_train, y_test, c_train, c_test = train_test_split_3dshapes(files_dir, 70000, DatasetTask.Task3, \n",
    "                                                                              train_size=0.80, class_index=5)"
   ]
  },
  {
   "cell_type": "code",
   "execution_count": 4,
   "metadata": {},
   "outputs": [],
   "source": [
    "n_classes = len(np.unique(np.concatenate([y_train, y_test])))\n",
    "concept_names = SHAPES3D_CONCEPT_NAMES\n",
    "concept_values = [len(np.unique(np.concatenate([c_train[:, i], c_test[:, i]]))) for i in range(c_train.shape[1])]\n",
    "\n",
    "# Split training into validation set as well \n",
    "X_train, X_valid = X_train[:40000], X_train[40000:]\n",
    "y_train, y_valid = y_train[:40000], y_train[40000:]\n",
    "c_train, c_valid = c_train[:40000], c_train[40000:]"
   ]
  },
  {
   "cell_type": "code",
   "execution_count": 5,
   "metadata": {},
   "outputs": [],
   "source": [
    "# Reshape to appropriate shift input\n",
    "# It is noteworthy that for efficiency, we represent the images as only 2 dimension\n",
    "# when we preprocessing (number of instances/ batch size * flatten size).\n",
    "# When visualising back the image, we need to reshape it back to the original dimension\n",
    "ORIGINAL_SHAPE = X_test.shape[1:] # constant hold the image original shape\n",
    "X_test_flatten = deepcopy(X_test.reshape(X_test.shape[0], -1))\n",
    "X_train_flatten = deepcopy(X_train.reshape(X_train.shape[0], -1))\n",
    "X_valid_flatten = deepcopy(X_valid.reshape(X_valid.shape[0], -1))"
   ]
  },
  {
   "cell_type": "markdown",
   "metadata": {},
   "source": [
    "## Dimensionality reduction\n",
    "\n",
    "We implemented various dimensionality reduction methods, amounting to:\n",
    "- End to end model (label classifiers/ BBSD)\n",
    "- Concept bottleneck model (CBSD)\n",
    "- Principal component analysis (PCA)\n",
    "- Sparse random projection (SRP)"
   ]
  },
  {
   "cell_type": "markdown",
   "metadata": {},
   "source": [
    "### End-to-end model"
   ]
  },
  {
   "cell_type": "code",
   "execution_count": 7,
   "metadata": {
    "collapsed": true
   },
   "outputs": [
    {
     "name": "stdout",
     "output_type": "stream",
     "text": [
      "Epoch 1/200\n",
      "313/313 [==============================] - 10s 31ms/step - loss: 0.7137 - accuracy: 0.5603 - val_loss: 0.6424 - val_accuracy: 0.6421\n",
      "Epoch 2/200\n",
      "313/313 [==============================] - 7s 23ms/step - loss: 0.6069 - accuracy: 0.6412 - val_loss: 0.5286 - val_accuracy: 0.6986\n",
      "Epoch 3/200\n",
      "313/313 [==============================] - 7s 23ms/step - loss: 0.3760 - accuracy: 0.7866 - val_loss: 0.2057 - val_accuracy: 0.8827\n",
      "Epoch 4/200\n",
      "313/313 [==============================] - 7s 23ms/step - loss: 0.1418 - accuracy: 0.9312 - val_loss: 0.0102 - val_accuracy: 0.9999\n",
      "Epoch 5/200\n",
      "313/313 [==============================] - 7s 24ms/step - loss: 0.0264 - accuracy: 0.9913 - val_loss: 0.0019 - val_accuracy: 0.9999\n",
      "Epoch 6/200\n",
      "313/313 [==============================] - 8s 25ms/step - loss: 0.0101 - accuracy: 0.9970 - val_loss: 1.4147e-04 - val_accuracy: 1.0000\n",
      "Epoch 7/200\n",
      "313/313 [==============================] - 8s 25ms/step - loss: 0.0060 - accuracy: 0.9981 - val_loss: 2.4892e-05 - val_accuracy: 1.0000\n",
      "Epoch 8/200\n",
      "313/313 [==============================] - 8s 25ms/step - loss: 0.0037 - accuracy: 0.9990 - val_loss: 1.5269e-05 - val_accuracy: 1.0000\n",
      "Epoch 9/200\n",
      "313/313 [==============================] - 8s 25ms/step - loss: 0.0027 - accuracy: 0.9994 - val_loss: 3.0923e-06 - val_accuracy: 1.0000\n",
      "Epoch 10/200\n",
      "313/313 [==============================] - 8s 25ms/step - loss: 0.0028 - accuracy: 0.9992 - val_loss: 8.4861e-06 - val_accuracy: 1.0000\n",
      "Epoch 11/200\n",
      "313/313 [==============================] - 7s 24ms/step - loss: 0.0024 - accuracy: 0.9992 - val_loss: 4.4128e-06 - val_accuracy: 1.0000\n",
      "Epoch 12/200\n",
      "313/313 [==============================] - 7s 23ms/step - loss: 0.0017 - accuracy: 0.9995 - val_loss: 2.9246e-05 - val_accuracy: 1.0000\n",
      "Epoch 13/200\n",
      "313/313 [==============================] - 7s 24ms/step - loss: 0.0012 - accuracy: 0.9997 - val_loss: 9.0933e-07 - val_accuracy: 1.0000\n",
      "Epoch 14/200\n",
      "313/313 [==============================] - 8s 25ms/step - loss: 7.3665e-04 - accuracy: 0.9998 - val_loss: 5.6238e-07 - val_accuracy: 1.0000\n",
      "Epoch 15/200\n",
      "313/313 [==============================] - 8s 26ms/step - loss: 5.8003e-04 - accuracy: 0.9999 - val_loss: 3.0494e-07 - val_accuracy: 1.0000\n",
      "Epoch 16/200\n",
      "313/313 [==============================] - 8s 25ms/step - loss: 4.7779e-04 - accuracy: 0.9999 - val_loss: 2.9977e-07 - val_accuracy: 1.0000\n",
      "WARNING:tensorflow:From /home/maw219/.local/lib/python3.8/site-packages/tensorflow/python/training/tracking/tracking.py:111: Model.state_updates (from tensorflow.python.keras.engine.training) is deprecated and will be removed in a future version.\n",
      "Instructions for updating:\n",
      "This property should not be used in TensorFlow 2.0, as updates are applied automatically.\n",
      "WARNING:tensorflow:From /home/maw219/.local/lib/python3.8/site-packages/tensorflow/python/training/tracking/tracking.py:111: Layer.updates (from tensorflow.python.keras.engine.base_layer) is deprecated and will be removed in a future version.\n",
      "Instructions for updating:\n",
      "This property should not be used in TensorFlow 2.0, as updates are applied automatically.\n",
      "INFO:tensorflow:Assets written to: ../../models/end_to_end_3dshapes_task3/assets\n"
     ]
    }
   ],
   "source": [
    "path = \"../../models/end_to_end_3dshapes_task3\"\n",
    "# For training and saving\n",
    "histories, end_to_end_model = end_to_end_neural_network(n_classes, Dataset.SHAPES3D, \n",
    "                         X_train, y_train, X_valid, y_valid, path)\n",
    "\n",
    "# For loading\n",
    "end_to_end_model = tf.keras.models.load_model(path)"
   ]
  },
  {
   "cell_type": "code",
   "execution_count": 8,
   "metadata": {},
   "outputs": [
    {
     "name": "stdout",
     "output_type": "stream",
     "text": [
      "              precision    recall  f1-score   support\n",
      "\n",
      "           0       1.00      1.00      1.00      6622\n",
      "           1       1.00      1.00      1.00      7378\n",
      "\n",
      "    accuracy                           1.00     14000\n",
      "   macro avg       1.00      1.00      1.00     14000\n",
      "weighted avg       1.00      1.00      1.00     14000\n",
      "\n"
     ]
    }
   ],
   "source": [
    "# Evaluate model\n",
    "y_pred = end_to_end_model.predict(X_test)\n",
    "y_pred = np.argmax(y_pred, axis=1)\n",
    "print(classification_report(y_test, y_pred))"
   ]
  },
  {
   "cell_type": "markdown",
   "metadata": {},
   "source": [
    "### Concept bottleneck model"
   ]
  },
  {
   "cell_type": "markdown",
   "metadata": {},
   "source": [
    "**Input to Concept**"
   ]
  },
  {
   "cell_type": "code",
   "execution_count": 7,
   "metadata": {},
   "outputs": [],
   "source": [
    "path = \"../../models/multitask_3dshapes\"\n",
    "# For training and saving\n",
    "histories, mt_model = multitask_model(Dataset.SHAPES3D,\n",
    "                                            X_train, c_train,\n",
    "                                            X_valid, c_valid, path, concept_values)\n",
    "\n",
    "# For loading\n",
    "mt_model = tf.keras.models.load_model(path)"
   ]
  },
  {
   "cell_type": "code",
   "execution_count": 8,
   "metadata": {
    "scrolled": true
   },
   "outputs": [
    {
     "name": "stdout",
     "output_type": "stream",
     "text": [
      "******************** Model: color ********************\n",
      "              precision    recall  f1-score   support\n",
      "\n",
      "           0       0.99      1.00      1.00      2386\n",
      "           1       1.00      1.00      1.00      2451\n",
      "           2       1.00      1.00      1.00      2442\n",
      "           3       1.00      1.00      1.00      2439\n",
      "           4       1.00      1.00      1.00      2432\n",
      "\n",
      "    accuracy                           1.00     12150\n",
      "   macro avg       1.00      1.00      1.00     12150\n",
      "weighted avg       1.00      1.00      1.00     12150\n",
      "\n",
      "\n",
      "\n",
      "\n",
      "******************** Model: shape ********************\n",
      "              precision    recall  f1-score   support\n",
      "\n",
      "           0       0.88      0.92      0.90      1251\n",
      "           1       0.92      0.87      0.90      1213\n",
      "           2       0.92      0.92      0.92      1173\n",
      "           3       0.90      0.92      0.91      1227\n",
      "           4       0.90      0.89      0.90      1219\n",
      "           5       0.93      0.90      0.92      1227\n",
      "           6       0.89      0.95      0.92      1183\n",
      "           7       0.93      0.86      0.90      1227\n",
      "           8       0.93      0.94      0.94      1178\n",
      "           9       0.90      0.94      0.92      1252\n",
      "\n",
      "    accuracy                           0.91     12150\n",
      "   macro avg       0.91      0.91      0.91     12150\n",
      "weighted avg       0.91      0.91      0.91     12150\n",
      "\n",
      "\n",
      "\n",
      "\n",
      "******************** Model: scale ********************\n",
      "              precision    recall  f1-score   support\n",
      "\n",
      "           0       0.57      0.81      0.67      1377\n",
      "           1       0.39      0.40      0.39      1326\n",
      "           2       0.47      0.36      0.41      1317\n",
      "           3       0.57      0.47      0.51      1370\n",
      "           4       0.60      0.52      0.56      1342\n",
      "           5       0.59      0.51      0.54      1338\n",
      "           6       0.50      0.45      0.47      1338\n",
      "           7       0.42      0.34      0.37      1370\n",
      "           8       0.55      0.80      0.65      1372\n",
      "\n",
      "    accuracy                           0.52     12150\n",
      "   macro avg       0.52      0.52      0.51     12150\n",
      "weighted avg       0.52      0.52      0.51     12150\n",
      "\n",
      "\n",
      "\n",
      "\n",
      "******************** Model: rotation ********************\n",
      "              precision    recall  f1-score   support\n",
      "\n",
      "           0       0.83      0.83      0.83       680\n",
      "           1       0.87      0.88      0.87       654\n",
      "           2       0.90      0.87      0.88       692\n",
      "           3       0.90      0.86      0.88       697\n",
      "           4       0.84      0.88      0.86       669\n",
      "           5       0.86      0.78      0.82       662\n",
      "           6       0.86      0.83      0.85       682\n",
      "           7       0.83      0.86      0.84       679\n",
      "           8       0.90      0.79      0.84       685\n",
      "           9       0.80      0.88      0.84       672\n",
      "          10       0.87      0.84      0.86       645\n",
      "          11       0.85      0.88      0.87       664\n",
      "          12       0.87      0.83      0.85       712\n",
      "          13       0.79      0.84      0.81       663\n",
      "          14       0.76      0.80      0.78       619\n",
      "          15       0.81      0.82      0.82       721\n",
      "          16       0.79      0.83      0.81       701\n",
      "          17       0.79      0.82      0.81       653\n",
      "\n",
      "    accuracy                           0.84     12150\n",
      "   macro avg       0.84      0.84      0.84     12150\n",
      "weighted avg       0.84      0.84      0.84     12150\n",
      "\n",
      "\n",
      "\n",
      "\n",
      "******************** Model: x ********************\n",
      "              precision    recall  f1-score   support\n",
      "\n",
      "           0       0.79      0.74      0.76      2013\n",
      "           1       0.99      0.99      0.99      1978\n",
      "           2       1.00      1.00      1.00      2058\n",
      "           3       0.75      0.80      0.77      1956\n",
      "           4       1.00      1.00      1.00      2067\n",
      "           5       1.00      1.00      1.00      2078\n",
      "\n",
      "    accuracy                           0.92     12150\n",
      "   macro avg       0.92      0.92      0.92     12150\n",
      "weighted avg       0.92      0.92      0.92     12150\n",
      "\n",
      "\n",
      "\n",
      "\n"
     ]
    }
   ],
   "source": [
    "# Evaluate model\n",
    "for i, pred in enumerate(mt_model.predict(X_test)):\n",
    "    print(\"*\"*20, f\"Model: {SHAPES3D_CONCEPT_NAMES[i]}\", \"*\"*20)\n",
    "    c_truth = c_test[:, i]\n",
    "    c_pred = np.argmax(pred, axis=1)\n",
    "    \n",
    "    print(classification_report(c_truth, c_pred))\n",
    "    print(\"\\n\\n\")"
   ]
  },
  {
   "cell_type": "markdown",
   "metadata": {},
   "source": [
    "**Concept to Output**"
   ]
  },
  {
   "cell_type": "code",
   "execution_count": 11,
   "metadata": {
    "scrolled": true
   },
   "outputs": [
    {
     "data": {
      "text/plain": [
       "LogisticRegression()"
      ]
     },
     "execution_count": 11,
     "metadata": {},
     "output_type": "execute_result"
    }
   ],
   "source": [
    "# Build and train model. For simplicity, we used logistic regression\n",
    "# although can be substituted using other model.\n",
    "com = LogisticRegression()\n",
    "com.fit(c_train, y_train)"
   ]
  },
  {
   "cell_type": "code",
   "execution_count": 12,
   "metadata": {
    "collapsed": true
   },
   "outputs": [
    {
     "name": "stdout",
     "output_type": "stream",
     "text": [
      "              precision    recall  f1-score   support\n",
      "\n",
      "           0       0.56      0.54      0.55      6201\n",
      "           1       0.54      0.56      0.55      5949\n",
      "\n",
      "    accuracy                           0.55     12150\n",
      "   macro avg       0.55      0.55      0.55     12150\n",
      "weighted avg       0.55      0.55      0.55     12150\n",
      "\n",
      "[[3329 2872]\n",
      " [2643 3306]]\n"
     ]
    }
   ],
   "source": [
    "y_test_pred = com.predict(c_test)\n",
    "print(classification_report(y_test_pred, y_test))\n",
    "print(confusion_matrix(y_test_pred, y_test))"
   ]
  },
  {
   "cell_type": "markdown",
   "metadata": {},
   "source": [
    "### Principal component analysis"
   ]
  },
  {
   "cell_type": "code",
   "execution_count": 13,
   "metadata": {},
   "outputs": [
    {
     "name": "stdout",
     "output_type": "stream",
     "text": [
      "The number of components to explain 80% of variance is 2.\n"
     ]
    }
   ],
   "source": [
    "pca, n_components = principal_components_analysis(X_train_flatten)\n",
    "print(f\"The number of components to explain 80% of variance is {n_components}.\")"
   ]
  },
  {
   "cell_type": "markdown",
   "metadata": {},
   "source": [
    "### Sparse random projection"
   ]
  },
  {
   "cell_type": "code",
   "execution_count": 14,
   "metadata": {},
   "outputs": [
    {
     "name": "stdout",
     "output_type": "stream",
     "text": [
      "The number of components to explain 80% of variance is 2.\n"
     ]
    }
   ],
   "source": [
    "srp, n_components = sparse_random_projection(X_train_flatten)\n",
    "print(f\"The number of components to explain 80% of variance is {n_components}.\")"
   ]
  },
  {
   "cell_type": "markdown",
   "metadata": {},
   "source": [
    "## Data collection\n",
    "\n",
    "This section performs various experiments to collect data. We consider various dimensionality reduced methods discussed in the paper and thesis."
   ]
  },
  {
   "cell_type": "markdown",
   "metadata": {},
   "source": [
    "### PCA"
   ]
  },
  {
   "cell_type": "code",
   "execution_count": 6,
   "metadata": {},
   "outputs": [],
   "source": [
    "method = DimensionalityReductor.PCA\n",
    "model = pca\n",
    "method_str = \"PCA\""
   ]
  },
  {
   "cell_type": "markdown",
   "metadata": {},
   "source": [
    "#### Knockout shift"
   ]
  },
  {
   "cell_type": "code",
   "execution_count": 7,
   "metadata": {},
   "outputs": [],
   "source": [
    "shift_type = ShiftType.Knockout\n",
    "shift_type_params = {\"cl\": MAJORITY}\n",
    "shift_str = \"ko_task3\""
   ]
  },
  {
   "cell_type": "code",
   "execution_count": 8,
   "metadata": {},
   "outputs": [],
   "source": [
    "dict_result = main_experiment(model, method, X_valid, y_valid,\n",
    "                             c_valid, X_test_flatten, y_test, c_test,\n",
    "                             shift_type, ORIGINAL_SHAPE, n_classes,\n",
    "                             concept_names, concept_values, \n",
    "                             shift_type_params, n_exp=50, n_std=2)"
   ]
  },
  {
   "cell_type": "code",
   "execution_count": 9,
   "metadata": {},
   "outputs": [
    {
     "name": "stdout",
     "output_type": "stream",
     "text": [
      "Saving successfully.\n"
     ]
    }
   ],
   "source": [
    "# Save file\n",
    "save_result(shift_str, method_str, dict_result, True, \"3dshapes\")"
   ]
  },
  {
   "cell_type": "markdown",
   "metadata": {},
   "source": [
    "### SRP"
   ]
  },
  {
   "cell_type": "code",
   "execution_count": 36,
   "metadata": {},
   "outputs": [],
   "source": [
    "method = DimensionalityReductor.SRP\n",
    "model = srp\n",
    "method_str = \"SRP\""
   ]
  },
  {
   "cell_type": "markdown",
   "metadata": {},
   "source": [
    "#### Knockout shift"
   ]
  },
  {
   "cell_type": "code",
   "execution_count": 7,
   "metadata": {},
   "outputs": [],
   "source": [
    "shift_type = ShiftType.Knockout\n",
    "shift_type_params = {\"cl\": MAJORITY}\n",
    "shift_str = \"ko_task3\""
   ]
  },
  {
   "cell_type": "code",
   "execution_count": 8,
   "metadata": {},
   "outputs": [],
   "source": [
    "dict_result = main_experiment(model, method, X_valid, y_valid,\n",
    "                             c_valid, X_test_flatten, y_test, c_test,\n",
    "                             shift_type, ORIGINAL_SHAPE, n_classes,\n",
    "                             concept_names, concept_values, \n",
    "                             shift_type_params, n_exp=50, n_std=2)"
   ]
  },
  {
   "cell_type": "code",
   "execution_count": 9,
   "metadata": {},
   "outputs": [
    {
     "name": "stdout",
     "output_type": "stream",
     "text": [
      "Saving successfully.\n"
     ]
    }
   ],
   "source": [
    "# Save file\n",
    "save_result(shift_str, method_str, dict_result, True, \"3dshapes\")"
   ]
  },
  {
   "cell_type": "markdown",
   "metadata": {},
   "source": [
    "### BBSDs"
   ]
  },
  {
   "cell_type": "code",
   "execution_count": 36,
   "metadata": {},
   "outputs": [],
   "source": [
    "method = DimensionalityReductor.BBSDs\n",
    "model = end_to_end_model\n",
    "method_str = \"BBSDs\""
   ]
  },
  {
   "cell_type": "markdown",
   "metadata": {},
   "source": [
    "#### Knockout shift"
   ]
  },
  {
   "cell_type": "code",
   "execution_count": 6,
   "metadata": {},
   "outputs": [],
   "source": [
    "shift_type = ShiftType.Knockout\n",
    "shift_type_params = {\"cl\": MAJORITY}\n",
    "shift_str = \"ko_task3\""
   ]
  },
  {
   "cell_type": "code",
   "execution_count": 6,
   "metadata": {},
   "outputs": [],
   "source": [
    "dict_result = main_experiment(model, method, X_valid, y_valid,\n",
    "                             c_valid, X_test_flatten, y_test, c_test,\n",
    "                             shift_type, ORIGINAL_SHAPE, n_classes,\n",
    "                             concept_names, concept_values, \n",
    "                             shift_type_params, n_exp=50, n_std=2)"
   ]
  },
  {
   "cell_type": "code",
   "execution_count": 27,
   "metadata": {},
   "outputs": [
    {
     "name": "stdout",
     "output_type": "stream",
     "text": [
      "Saving successfully.\n"
     ]
    }
   ],
   "source": [
    "# Save file\n",
    "save_result(shift_str, method_str, dict_result, True, \"3dshapes\")"
   ]
  },
  {
   "cell_type": "markdown",
   "metadata": {},
   "source": [
    "#### Concept shifts"
   ]
  },
  {
   "cell_type": "code",
   "execution_count": null,
   "metadata": {},
   "outputs": [],
   "source": [
    "shift_type = ShiftType.Concept\n",
    "\n",
    "list_shift_str = [\n",
    "    \"floor_task3\",\n",
    "    \"wall_task3\",\n",
    "    \"object_scale_task3\",\n",
    "]\n",
    "\n",
    "list_shift_type_params = [\n",
    "    {\"cl\": MAJORITY, \"concept_idx\": 0}, # scale is index 2 in the concept names\n",
    "    {\"cl\": MAJORITY, \"concept_idx\": 1},\n",
    "    [{\"cl\": MAJORITY, \"concept_idx\": 2}, {\"cl\": MAJORITY, \"concept_idx\": 3}],\n",
    "]"
   ]
  },
  {
   "cell_type": "code",
   "execution_count": null,
   "metadata": {},
   "outputs": [],
   "source": [
    "for shift_str, shift_type_params in tqdm(zip(list_shift_str, list_shift_type_params)):\n",
    "    dict_result = main_experiment(model, method, X_valid, y_valid,\n",
    "                             c_valid, X_test_flatten, y_test, c_test,\n",
    "                             shift_type, ORIGINAL_SHAPE, n_classes,\n",
    "                             concept_names, concept_values, \n",
    "                             shift_type_params, n_exp=50, n_std=2)\n",
    "    \n",
    "    # Save\n",
    "    save_result(shift_str, method_str, dict_result, True, \"3dshapes\")"
   ]
  },
  {
   "cell_type": "markdown",
   "metadata": {},
   "source": [
    "#### Image shifts"
   ]
  },
  {
   "cell_type": "code",
   "execution_count": null,
   "metadata": {},
   "outputs": [],
   "source": [
    "list_shift = [\n",
    "    ShiftType.Rotation,\n",
    "    ShiftType.Shear,\n",
    "    ShiftType.Flip,\n",
    "    ShiftType.All\n",
    "]\n",
    "\n",
    "list_shift_str = [\n",
    "    \"rotation_task3\",\n",
    "    \"shear_task3\",\n",
    "    \"flip_task3\",\n",
    "    \"all_task3\"\n",
    "]\n",
    "\n",
    "shift_type_param = {\"orig_dims\": ORIGINAL_SHAPE}"
   ]
  },
  {
   "cell_type": "code",
   "execution_count": null,
   "metadata": {},
   "outputs": [],
   "source": [
    "for shift_str, shift_type in tqdm(zip(list_shift_str, list_shift)):\n",
    "    dict_result = main_experiment(model, method, X_valid, y_valid,\n",
    "                             c_valid, X_test_flatten, y_test, c_test,\n",
    "                             shift_type, ORIGINAL_SHAPE, n_classes,\n",
    "                             concept_names, concept_values, \n",
    "                             shift_type_param, n_exp=50, n_std=2)\n",
    "    \n",
    "    # Save\n",
    "    save_result(shift_str, method_str, dict_result, True, \"3dshapes\")"
   ]
  },
  {
   "cell_type": "markdown",
   "metadata": {},
   "source": [
    "#### Gaussian shift"
   ]
  },
  {
   "cell_type": "code",
   "execution_count": null,
   "metadata": {},
   "outputs": [],
   "source": [
    "shift_type = ShiftType.Gaussian\n",
    "shift_type_params = None\n",
    "shift_str = \"gaussian_task3\""
   ]
  },
  {
   "cell_type": "code",
   "execution_count": null,
   "metadata": {},
   "outputs": [],
   "source": [
    "dict_result = main_experiment(model, method, X_valid, y_valid,\n",
    "                             c_valid, X_test_flatten, y_test, c_test,\n",
    "                             shift_type, ORIGINAL_SHAPE, n_classes,\n",
    "                             concept_names, concept_values, \n",
    "                             shift_type_params, n_exp=50, n_std=2)"
   ]
  },
  {
   "cell_type": "code",
   "execution_count": null,
   "metadata": {},
   "outputs": [],
   "source": [
    "# Save file\n",
    "save_result(shift_str, method_str, dict_result, True, \"3dshapes\")"
   ]
  },
  {
   "cell_type": "markdown",
   "metadata": {},
   "source": [
    "### BBSDh"
   ]
  },
  {
   "cell_type": "code",
   "execution_count": 36,
   "metadata": {},
   "outputs": [],
   "source": [
    "method = DimensionalityReductor.BBSDh\n",
    "model = end_to_end_model\n",
    "method_str = \"BBSDh_task3\""
   ]
  },
  {
   "cell_type": "markdown",
   "metadata": {},
   "source": [
    "#### Knockout shift"
   ]
  },
  {
   "cell_type": "code",
   "execution_count": 6,
   "metadata": {},
   "outputs": [],
   "source": [
    "shift_type = ShiftType.Knockout\n",
    "shift_type_params = {\"cl\": MAJORITY}\n",
    "shift_str = \"ko_task3\""
   ]
  },
  {
   "cell_type": "code",
   "execution_count": 6,
   "metadata": {},
   "outputs": [],
   "source": [
    "dict_result = main_experiment(model, method, X_valid, y_valid,\n",
    "                             c_valid, X_test_flatten, y_test, c_test,\n",
    "                             shift_type, ORIGINAL_SHAPE, n_classes,\n",
    "                             concept_names, concept_values, \n",
    "                             shift_type_params, n_exp=50, n_std=2)"
   ]
  },
  {
   "cell_type": "code",
   "execution_count": 27,
   "metadata": {},
   "outputs": [
    {
     "name": "stdout",
     "output_type": "stream",
     "text": [
      "Saving successfully.\n"
     ]
    }
   ],
   "source": [
    "# Save file\n",
    "save_result(shift_str, method_str, dict_result, True, \"3dshapes\")"
   ]
  },
  {
   "cell_type": "markdown",
   "metadata": {},
   "source": [
    "#### Concept shifts"
   ]
  },
  {
   "cell_type": "code",
   "execution_count": null,
   "metadata": {},
   "outputs": [],
   "source": [
    "shift_type = ShiftType.Concept\n",
    "\n",
    "list_shift_str = [\n",
    "    \"floor_task3\",\n",
    "    \"wall_task3\",\n",
    "    \"object_scale_task3\",\n",
    "]\n",
    "\n",
    "list_shift_type_params = [\n",
    "    {\"cl\": MAJORITY, \"concept_idx\": 0}, # scale is index 2 in the concept names\n",
    "    {\"cl\": MAJORITY, \"concept_idx\": 1},\n",
    "    [{\"cl\": MAJORITY, \"concept_idx\": 2}, {\"cl\": MAJORITY, \"concept_idx\": 3}],\n",
    "]"
   ]
  },
  {
   "cell_type": "code",
   "execution_count": null,
   "metadata": {},
   "outputs": [],
   "source": [
    "for shift_str, shift_type_params in tqdm(zip(list_shift_str, list_shift_type_params)):\n",
    "    dict_result = main_experiment(model, method, X_valid, y_valid,\n",
    "                             c_valid, X_test_flatten, y_test, c_test,\n",
    "                             shift_type, ORIGINAL_SHAPE, n_classes,\n",
    "                             concept_names, concept_values, \n",
    "                             shift_type_params, n_exp=50, n_std=2)\n",
    "    \n",
    "    # Save\n",
    "    save_result(shift_str, method_str, dict_result, True, \"3dshapes\")"
   ]
  },
  {
   "cell_type": "markdown",
   "metadata": {},
   "source": [
    "#### Image shifts"
   ]
  },
  {
   "cell_type": "code",
   "execution_count": null,
   "metadata": {},
   "outputs": [],
   "source": [
    "list_shift = [\n",
    "    ShiftType.Rotation,\n",
    "    ShiftType.Shear,\n",
    "    ShiftType.Flip,\n",
    "    ShiftType.All\n",
    "]\n",
    "\n",
    "list_shift_str = [\n",
    "    \"rotation_task3\",\n",
    "    \"shear_task3\",\n",
    "    \"flip_task3\",\n",
    "    \"all_task3\"\n",
    "]\n",
    "\n",
    "shift_type_param = {\"orig_dims\": ORIGINAL_SHAPE}"
   ]
  },
  {
   "cell_type": "code",
   "execution_count": null,
   "metadata": {},
   "outputs": [],
   "source": [
    "for shift_str, shift_type in tqdm(zip(list_shift_str, list_shift)):\n",
    "    dict_result = main_experiment(model, method, X_valid, y_valid,\n",
    "                             c_valid, X_test_flatten, y_test, c_test,\n",
    "                             shift_type, ORIGINAL_SHAPE, n_classes,\n",
    "                             concept_names, concept_values, \n",
    "                             shift_type_param, n_exp=50, n_std=2)\n",
    "    \n",
    "    # Save\n",
    "    save_result(shift_str, method_str, dict_result, True, \"3dshapes\")"
   ]
  },
  {
   "cell_type": "markdown",
   "metadata": {},
   "source": [
    "#### Gaussian shift"
   ]
  },
  {
   "cell_type": "code",
   "execution_count": null,
   "metadata": {},
   "outputs": [],
   "source": [
    "shift_type = ShiftType.Gaussian\n",
    "shift_type_params = None\n",
    "shift_str = \"gaussian_task3\""
   ]
  },
  {
   "cell_type": "code",
   "execution_count": null,
   "metadata": {},
   "outputs": [],
   "source": [
    "dict_result = main_experiment(model, method, X_valid, y_valid,\n",
    "                             c_valid, X_test_flatten, y_test, c_test,\n",
    "                             shift_type, ORIGINAL_SHAPE, n_classes,\n",
    "                             concept_names, concept_values, \n",
    "                             shift_type_params, n_exp=50, n_std=2)"
   ]
  },
  {
   "cell_type": "code",
   "execution_count": null,
   "metadata": {},
   "outputs": [],
   "source": [
    "# Save file\n",
    "save_result(shift_str, method_str, dict_result, True, \"3dshapes\")"
   ]
  },
  {
   "cell_type": "markdown",
   "metadata": {},
   "source": [
    "### CBSDs"
   ]
  },
  {
   "cell_type": "code",
   "execution_count": 36,
   "metadata": {},
   "outputs": [],
   "source": [
    "method = DimensionalityReductor.CBSDs\n",
    "model = mt_model\n",
    "method_str = \"CBSDs\""
   ]
  },
  {
   "cell_type": "markdown",
   "metadata": {},
   "source": [
    "#### Knockout shift"
   ]
  },
  {
   "cell_type": "code",
   "execution_count": 7,
   "metadata": {},
   "outputs": [],
   "source": [
    "shift_type = ShiftType.Knockout\n",
    "shift_type_params = {\"cl\": MAJORITY}\n",
    "shift_str = \"ko_task3\""
   ]
  },
  {
   "cell_type": "code",
   "execution_count": 8,
   "metadata": {},
   "outputs": [],
   "source": [
    "dict_result = main_experiment(model, method, X_valid, y_valid,\n",
    "                             c_valid, X_test_flatten, y_test, c_test,\n",
    "                             shift_type, ORIGINAL_SHAPE, n_classes,\n",
    "                             concept_names, concept_values, \n",
    "                             shift_type_params, n_exp=50, n_std=2)"
   ]
  },
  {
   "cell_type": "code",
   "execution_count": 9,
   "metadata": {},
   "outputs": [
    {
     "name": "stdout",
     "output_type": "stream",
     "text": [
      "Saving successfully.\n"
     ]
    }
   ],
   "source": [
    "# Save file\n",
    "save_result(shift_str, method_str, dict_result, True, \"3dshapes\")"
   ]
  },
  {
   "cell_type": "markdown",
   "metadata": {},
   "source": [
    "### CBSDh"
   ]
  },
  {
   "cell_type": "code",
   "execution_count": 36,
   "metadata": {},
   "outputs": [],
   "source": [
    "method = DimensionalityReductor.CBSDh\n",
    "model = mt_model\n",
    "method_str = \"CBSDh\""
   ]
  },
  {
   "cell_type": "markdown",
   "metadata": {},
   "source": [
    "#### Knockout shift"
   ]
  },
  {
   "cell_type": "code",
   "execution_count": 7,
   "metadata": {},
   "outputs": [],
   "source": [
    "shift_type = ShiftType.Knockout\n",
    "shift_type_params = {\"cl\": MAJORITY}\n",
    "shift_str = \"ko_task3\""
   ]
  },
  {
   "cell_type": "code",
   "execution_count": 8,
   "metadata": {},
   "outputs": [],
   "source": [
    "dict_result = main_experiment(model, method, X_valid, y_valid,\n",
    "                             c_valid, X_test_flatten, y_test, c_test,\n",
    "                             shift_type, ORIGINAL_SHAPE, n_classes,\n",
    "                             concept_names, concept_values, \n",
    "                             shift_type_params, n_exp=50, n_std=2)"
   ]
  },
  {
   "cell_type": "code",
   "execution_count": 9,
   "metadata": {},
   "outputs": [
    {
     "name": "stdout",
     "output_type": "stream",
     "text": [
      "Saving successfully.\n"
     ]
    }
   ],
   "source": [
    "# Save file\n",
    "save_result(shift_str, method_str, dict_result, True, \"3dshapes\")"
   ]
  }
 ],
 "metadata": {
  "kernelspec": {
   "display_name": "Python 3",
   "language": "python",
   "name": "python3"
  },
  "language_info": {
   "codemirror_mode": {
    "name": "ipython",
    "version": 3
   },
   "file_extension": ".py",
   "mimetype": "text/x-python",
   "name": "python",
   "nbconvert_exporter": "python",
   "pygments_lexer": "ipython3",
   "version": "3.7.6"
  }
 },
 "nbformat": 4,
 "nbformat_minor": 5
}
