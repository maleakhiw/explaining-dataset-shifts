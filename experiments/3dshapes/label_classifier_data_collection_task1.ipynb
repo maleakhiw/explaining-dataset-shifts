{
 "cells": [
  {
   "cell_type": "markdown",
   "metadata": {},
   "source": [
    "# Label classifier (3dshapes): data collection\n",
    "\n",
    "## Task 1\n",
    "\n",
    "**Author**: Maleakhi A. Wijaya  \n",
    "**Description**: This notebook contains code used to collect experimentation data. We compare the performance of methods discussed in Rabanset et al. against our proposed CBSD method. The end-to-end task for task 1 is to predict the scale given the 3dshapes images."
   ]
  },
  {
   "cell_type": "code",
   "execution_count": 1,
   "metadata": {},
   "outputs": [],
   "source": [
    "# Load utilities functions\n",
    "%run ../../scripts/constants.py\n",
    "%run ../../scripts/3dshapes_utils.py\n",
    "%run ../../scripts/shift_applicator.py\n",
    "%run ../../scripts/shift_dimensionality_reductor.py\n",
    "%run ../../scripts/experiment_utils.py\n",
    "%run ../../scripts/shift_statistical_test.py"
   ]
  },
  {
   "cell_type": "code",
   "execution_count": 2,
   "metadata": {},
   "outputs": [],
   "source": [
    "## Random seed\n",
    "SEED = 20\n",
    "np.random.seed(SEED)\n",
    "tf.random.set_seed(SEED)"
   ]
  },
  {
   "cell_type": "markdown",
   "metadata": {},
   "source": [
    "## Load dataset"
   ]
  },
  {
   "cell_type": "code",
   "execution_count": 5,
   "metadata": {},
   "outputs": [
    {
     "name": "stdout",
     "output_type": "stream",
     "text": [
      "Training samples: 56000\n",
      "Testing samples: 14000\n"
     ]
    }
   ],
   "source": [
    "files_dir = \"../../data/3dshapes.h5\"\n",
    "# index 0 = image category\n",
    "X_train, X_test, y_train, y_test, c_train, c_test = train_test_split_3dshapes(files_dir, 70000, DatasetTask.Task1, \n",
    "                                                                               train_size=0.80, class_index=3)"
   ]
  },
  {
   "cell_type": "code",
   "execution_count": 9,
   "metadata": {},
   "outputs": [],
   "source": [
    "n_classes = len(np.unique(np.concatenate([y_train, y_test])))\n",
    "concept_names = SHAPES3D_CONCEPT_NAMES\n",
    "concept_values = [len(np.unique(np.concatenate([c_train[:, i], c_test[:, i]]))) for i in range(c_train.shape[1])]\n",
    "\n",
    "# Split training into validation set as well \n",
    "X_train, X_valid = X_train[:40000], X_train[40000:]\n",
    "y_train, y_valid = y_train[:40000], y_train[40000:]\n",
    "c_train, c_valid = c_train[:40000], c_train[40000:]"
   ]
  },
  {
   "cell_type": "code",
   "execution_count": 5,
   "metadata": {},
   "outputs": [],
   "source": [
    "# Load adversarial samples (we will need this for adversarial\n",
    "# shift).\n",
    "adv_samples = np.load(\"../../data/adversarial_samples/X_adversarial_3dshapes.npy\")"
   ]
  },
  {
   "cell_type": "code",
   "execution_count": 11,
   "metadata": {},
   "outputs": [],
   "source": [
    "# Reshape to appropriate shift input\n",
    "# It is noteworthy that for efficiency, we represent the images as only 2 dimension\n",
    "# when we preprocessing (number of instances/ batch size * flatten size).\n",
    "# When visualising back the image, we need to reshape it back to the original dimension\n",
    "ORIGINAL_SHAPE = X_test.shape[1:] # constant hold the image original shape\n",
    "X_test_flatten = deepcopy(X_test.reshape(X_test.shape[0], -1))\n",
    "X_train_flatten = deepcopy(X_train.reshape(X_train.shape[0], -1))\n",
    "X_valid_flatten = deepcopy(X_valid.reshape(X_valid.shape[0], -1))"
   ]
  },
  {
   "cell_type": "markdown",
   "metadata": {},
   "source": [
    "## Dimensionality reduction\n",
    "\n",
    "We implemented various dimensionality reduction methods, amounting to:\n",
    "- End to end model (label classifiers/ BBSD)\n",
    "- Concept bottleneck model (CBSD)\n",
    "- Principal component analysis (PCA)\n",
    "- Sparse random projection (SRP)"
   ]
  },
  {
   "cell_type": "markdown",
   "metadata": {},
   "source": [
    "### End-to-end model"
   ]
  },
  {
   "cell_type": "code",
   "execution_count": 13,
   "metadata": {
    "collapsed": true
   },
   "outputs": [
    {
     "name": "stdout",
     "output_type": "stream",
     "text": [
      "Epoch 1/200\n",
      "313/313 [==============================] - 7s 23ms/step - loss: 1.9887 - accuracy: 0.2032 - val_loss: 1.6767 - val_accuracy: 0.3778\n",
      "Epoch 2/200\n",
      "313/313 [==============================] - 6s 19ms/step - loss: 1.1458 - accuracy: 0.5017 - val_loss: 0.4289 - val_accuracy: 0.9445\n",
      "Epoch 3/200\n",
      "313/313 [==============================] - 6s 20ms/step - loss: 0.5218 - accuracy: 0.7829 - val_loss: 0.0539 - val_accuracy: 0.9973\n",
      "Epoch 4/200\n",
      "313/313 [==============================] - 6s 20ms/step - loss: 0.2205 - accuracy: 0.9165 - val_loss: 0.0060 - val_accuracy: 1.0000\n",
      "Epoch 5/200\n",
      "313/313 [==============================] - 6s 20ms/step - loss: 0.1153 - accuracy: 0.9580 - val_loss: 0.0015 - val_accuracy: 1.0000\n",
      "Epoch 6/200\n",
      "313/313 [==============================] - 6s 20ms/step - loss: 0.0662 - accuracy: 0.9769 - val_loss: 4.3184e-04 - val_accuracy: 1.0000\n",
      "Epoch 7/200\n",
      "313/313 [==============================] - 6s 20ms/step - loss: 0.0474 - accuracy: 0.9841 - val_loss: 6.4257e-04 - val_accuracy: 1.0000\n",
      "Epoch 8/200\n",
      "313/313 [==============================] - 6s 19ms/step - loss: 0.0334 - accuracy: 0.9888 - val_loss: 1.5697e-04 - val_accuracy: 1.0000\n",
      "Epoch 9/200\n",
      "313/313 [==============================] - 6s 20ms/step - loss: 0.0279 - accuracy: 0.9909 - val_loss: 5.8039e-05 - val_accuracy: 1.0000\n",
      "Epoch 10/200\n",
      "313/313 [==============================] - 6s 21ms/step - loss: 0.0223 - accuracy: 0.9926 - val_loss: 4.3295e-05 - val_accuracy: 1.0000\n",
      "Epoch 11/200\n",
      "313/313 [==============================] - 6s 20ms/step - loss: 0.0179 - accuracy: 0.9940 - val_loss: 2.3454e-05 - val_accuracy: 1.0000\n",
      "Epoch 12/200\n",
      "313/313 [==============================] - 6s 20ms/step - loss: 0.0141 - accuracy: 0.9953 - val_loss: 2.8119e-05 - val_accuracy: 1.0000\n",
      "Epoch 13/200\n",
      "313/313 [==============================] - 6s 20ms/step - loss: 0.0126 - accuracy: 0.9963 - val_loss: 2.1552e-05 - val_accuracy: 1.0000\n",
      "Epoch 14/200\n",
      "313/313 [==============================] - 6s 21ms/step - loss: 0.0126 - accuracy: 0.9960 - val_loss: 1.1845e-05 - val_accuracy: 1.0000\n",
      "Epoch 15/200\n",
      "313/313 [==============================] - 7s 22ms/step - loss: 0.0105 - accuracy: 0.9962 - val_loss: 1.2145e-05 - val_accuracy: 1.0000\n",
      "Epoch 16/200\n",
      "313/313 [==============================] - 7s 21ms/step - loss: 0.0091 - accuracy: 0.9971 - val_loss: 6.2668e-06 - val_accuracy: 1.0000\n",
      "WARNING:tensorflow:From /home/maw219/.local/lib/python3.8/site-packages/tensorflow/python/training/tracking/tracking.py:111: Model.state_updates (from tensorflow.python.keras.engine.training) is deprecated and will be removed in a future version.\n",
      "Instructions for updating:\n",
      "This property should not be used in TensorFlow 2.0, as updates are applied automatically.\n",
      "WARNING:tensorflow:From /home/maw219/.local/lib/python3.8/site-packages/tensorflow/python/training/tracking/tracking.py:111: Layer.updates (from tensorflow.python.keras.engine.base_layer) is deprecated and will be removed in a future version.\n",
      "Instructions for updating:\n",
      "This property should not be used in TensorFlow 2.0, as updates are applied automatically.\n",
      "INFO:tensorflow:Assets written to: ../../models/end_to_end_3dshapes_task1/assets\n"
     ]
    }
   ],
   "source": [
    "path = \"../../models/end_to_end_3dshapes_task1\"\n",
    "# For training and saving\n",
    "# histories, end_to_end_model = end_to_end_neural_network(n_classes, Dataset.SHAPES3D, \n",
    "#                          X_train, y_train, X_valid, y_valid, path)\n",
    "\n",
    "# For loading\n",
    "end_to_end_model = tf.keras.models.load_model(path)"
   ]
  },
  {
   "cell_type": "code",
   "execution_count": 14,
   "metadata": {
    "collapsed": true
   },
   "outputs": [
    {
     "name": "stdout",
     "output_type": "stream",
     "text": [
      "              precision    recall  f1-score   support\n",
      "\n",
      "         0.0       1.00      1.00      1.00      1688\n",
      "         1.0       1.00      1.00      1.00      1704\n",
      "         2.0       1.00      1.00      1.00      1800\n",
      "         3.0       1.00      1.00      1.00      1774\n",
      "         4.0       1.00      1.00      1.00      1748\n",
      "         5.0       1.00      1.00      1.00      1743\n",
      "         6.0       1.00      1.00      1.00      1762\n",
      "         7.0       1.00      1.00      1.00      1781\n",
      "\n",
      "    accuracy                           1.00     14000\n",
      "   macro avg       1.00      1.00      1.00     14000\n",
      "weighted avg       1.00      1.00      1.00     14000\n",
      "\n"
     ]
    }
   ],
   "source": [
    "# Evaluate model\n",
    "y_pred = end_to_end_model.predict(X_test)\n",
    "y_pred = np.argmax(y_pred, axis=1)\n",
    "print(classification_report(y_test, y_pred))"
   ]
  },
  {
   "cell_type": "markdown",
   "metadata": {},
   "source": [
    "### Concept bottleneck model"
   ]
  },
  {
   "cell_type": "markdown",
   "metadata": {},
   "source": [
    "**Input to Concept**"
   ]
  },
  {
   "cell_type": "code",
   "execution_count": 15,
   "metadata": {},
   "outputs": [
    {
     "name": "stdout",
     "output_type": "stream",
     "text": [
      "Epoch 1/200\n",
      "313/313 [==============================] - 12s 37ms/step - loss: 11.9473 - floor_loss: 1.3522 - wall_loss: 2.0598 - object_loss: 2.1339 - scale_loss: 2.1776 - shape_loss: 1.3913 - orientation_loss: 2.8326 - floor_accuracy: 0.4512 - wall_accuracy: 0.2561 - object_accuracy: 0.2167 - scale_accuracy: 0.1350 - shape_accuracy: 0.3208 - orientation_accuracy: 0.0688 - val_loss: 10.5097 - val_floor_loss: 1.0413 - val_wall_loss: 1.7010 - val_object_loss: 1.8302 - val_scale_loss: 2.0393 - val_shape_loss: 1.1812 - val_orientation_loss: 2.7167 - val_floor_accuracy: 0.7563 - val_wall_accuracy: 0.5278 - val_object_accuracy: 0.3962 - val_scale_accuracy: 0.1852 - val_shape_accuracy: 0.5375 - val_orientation_accuracy: 0.0850\n",
      "Epoch 2/200\n",
      "313/313 [==============================] - 10s 31ms/step - loss: 10.4759 - floor_loss: 0.9373 - wall_loss: 1.5977 - object_loss: 1.7429 - scale_loss: 2.1701 - shape_loss: 1.1480 - orientation_loss: 2.8800 - floor_accuracy: 0.6480 - wall_accuracy: 0.4299 - object_accuracy: 0.3700 - scale_accuracy: 0.1753 - shape_accuracy: 0.4845 - orientation_accuracy: 0.0931 - val_loss: 8.1791 - val_floor_loss: 0.5008 - val_wall_loss: 1.1369 - val_object_loss: 1.2911 - val_scale_loss: 1.8610 - val_shape_loss: 0.7573 - val_orientation_loss: 2.6319 - val_floor_accuracy: 0.8990 - val_wall_accuracy: 0.6155 - val_object_accuracy: 0.5527 - val_scale_accuracy: 0.2790 - val_shape_accuracy: 0.7267 - val_orientation_accuracy: 0.1383\n",
      "Epoch 3/200\n",
      "313/313 [==============================] - 10s 32ms/step - loss: 9.1486 - floor_loss: 0.7171 - wall_loss: 1.3259 - object_loss: 1.4335 - scale_loss: 2.0413 - shape_loss: 0.8960 - orientation_loss: 2.7348 - floor_accuracy: 0.7344 - wall_accuracy: 0.5135 - object_accuracy: 0.4778 - scale_accuracy: 0.2329 - shape_accuracy: 0.6066 - orientation_accuracy: 0.1392 - val_loss: 6.2468 - val_floor_loss: 0.2808 - val_wall_loss: 0.7990 - val_object_loss: 0.8184 - val_scale_loss: 1.6011 - val_shape_loss: 0.4919 - val_orientation_loss: 2.2555 - val_floor_accuracy: 0.9600 - val_wall_accuracy: 0.7408 - val_object_accuracy: 0.7493 - val_scale_accuracy: 0.3828 - val_shape_accuracy: 0.8338 - val_orientation_accuracy: 0.2657\n",
      "Epoch 4/200\n",
      "313/313 [==============================] - 9s 30ms/step - loss: 8.0056 - floor_loss: 0.6060 - wall_loss: 1.1572 - object_loss: 1.2360 - scale_loss: 1.8422 - shape_loss: 0.7332 - orientation_loss: 2.4310 - floor_accuracy: 0.7714 - wall_accuracy: 0.5637 - object_accuracy: 0.5380 - scale_accuracy: 0.3002 - shape_accuracy: 0.6883 - orientation_accuracy: 0.2187 - val_loss: 5.0977 - val_floor_loss: 0.2740 - val_wall_loss: 0.6073 - val_object_loss: 0.7571 - val_scale_loss: 1.3396 - val_shape_loss: 0.3488 - val_orientation_loss: 1.7710 - val_floor_accuracy: 0.9235 - val_wall_accuracy: 0.8097 - val_object_accuracy: 0.7563 - val_scale_accuracy: 0.4920 - val_shape_accuracy: 0.9040 - val_orientation_accuracy: 0.4343\n",
      "Epoch 5/200\n",
      "313/313 [==============================] - 9s 30ms/step - loss: 7.0832 - floor_loss: 0.5297 - wall_loss: 1.0441 - object_loss: 1.1327 - scale_loss: 1.6664 - shape_loss: 0.6385 - orientation_loss: 2.0717 - floor_accuracy: 0.8011 - wall_accuracy: 0.6033 - object_accuracy: 0.5763 - scale_accuracy: 0.3600 - shape_accuracy: 0.7289 - orientation_accuracy: 0.3135 - val_loss: 3.8806 - val_floor_loss: 0.1627 - val_wall_loss: 0.4729 - val_object_loss: 0.5592 - val_scale_loss: 1.1081 - val_shape_loss: 0.2724 - val_orientation_loss: 1.3053 - val_floor_accuracy: 0.9840 - val_wall_accuracy: 0.8763 - val_object_accuracy: 0.8518 - val_scale_accuracy: 0.6100 - val_shape_accuracy: 0.9400 - val_orientation_accuracy: 0.6192\n",
      "Epoch 6/200\n",
      "313/313 [==============================] - 9s 28ms/step - loss: 6.3636 - floor_loss: 0.4930 - wall_loss: 0.9580 - object_loss: 1.0580 - scale_loss: 1.5007 - shape_loss: 0.5822 - orientation_loss: 1.7716 - floor_accuracy: 0.8098 - wall_accuracy: 0.6375 - object_accuracy: 0.5986 - scale_accuracy: 0.4130 - shape_accuracy: 0.7575 - orientation_accuracy: 0.4021 - val_loss: 3.0398 - val_floor_loss: 0.1064 - val_wall_loss: 0.3689 - val_object_loss: 0.4185 - val_scale_loss: 0.9341 - val_shape_loss: 0.2083 - val_orientation_loss: 1.0037 - val_floor_accuracy: 0.9962 - val_wall_accuracy: 0.9357 - val_object_accuracy: 0.8923 - val_scale_accuracy: 0.6915 - val_shape_accuracy: 0.9625 - val_orientation_accuracy: 0.7310\n",
      "Epoch 7/200\n",
      "313/313 [==============================] - 9s 28ms/step - loss: 5.7655 - floor_loss: 0.4604 - wall_loss: 0.8836 - object_loss: 0.9954 - scale_loss: 1.3613 - shape_loss: 0.5309 - orientation_loss: 1.5337 - floor_accuracy: 0.8281 - wall_accuracy: 0.6661 - object_accuracy: 0.6244 - scale_accuracy: 0.4618 - shape_accuracy: 0.7808 - orientation_accuracy: 0.4767 - val_loss: 2.4145 - val_floor_loss: 0.0692 - val_wall_loss: 0.2641 - val_object_loss: 0.3704 - val_scale_loss: 0.7742 - val_shape_loss: 0.1601 - val_orientation_loss: 0.7765 - val_floor_accuracy: 0.9958 - val_wall_accuracy: 0.9637 - val_object_accuracy: 0.9128 - val_scale_accuracy: 0.7623 - val_shape_accuracy: 0.9743 - val_orientation_accuracy: 0.8035\n",
      "Epoch 8/200\n",
      "313/313 [==============================] - 8s 27ms/step - loss: 5.3329 - floor_loss: 0.4369 - wall_loss: 0.8179 - object_loss: 0.9504 - scale_loss: 1.2503 - shape_loss: 0.4934 - orientation_loss: 1.3840 - floor_accuracy: 0.8374 - wall_accuracy: 0.6953 - object_accuracy: 0.6367 - scale_accuracy: 0.5019 - shape_accuracy: 0.7992 - orientation_accuracy: 0.5245 - val_loss: 2.0517 - val_floor_loss: 0.0615 - val_wall_loss: 0.2440 - val_object_loss: 0.3367 - val_scale_loss: 0.6632 - val_shape_loss: 0.1299 - val_orientation_loss: 0.6163 - val_floor_accuracy: 0.9988 - val_wall_accuracy: 0.9713 - val_object_accuracy: 0.9412 - val_scale_accuracy: 0.8275 - val_shape_accuracy: 0.9860 - val_orientation_accuracy: 0.8537\n",
      "Epoch 9/200\n",
      "313/313 [==============================] - 8s 27ms/step - loss: 4.9730 - floor_loss: 0.4155 - wall_loss: 0.7620 - object_loss: 0.9186 - scale_loss: 1.1581 - shape_loss: 0.4667 - orientation_loss: 1.2522 - floor_accuracy: 0.8448 - wall_accuracy: 0.7179 - object_accuracy: 0.6491 - scale_accuracy: 0.5351 - shape_accuracy: 0.8142 - orientation_accuracy: 0.5653 - val_loss: 1.7484 - val_floor_loss: 0.0363 - val_wall_loss: 0.2063 - val_object_loss: 0.2929 - val_scale_loss: 0.5781 - val_shape_loss: 0.1014 - val_orientation_loss: 0.5334 - val_floor_accuracy: 0.9998 - val_wall_accuracy: 0.9843 - val_object_accuracy: 0.9578 - val_scale_accuracy: 0.8753 - val_shape_accuracy: 0.9925 - val_orientation_accuracy: 0.8812\n",
      "Epoch 10/200\n",
      "313/313 [==============================] - 8s 26ms/step - loss: 4.6912 - floor_loss: 0.4000 - wall_loss: 0.7326 - object_loss: 0.8725 - scale_loss: 1.0794 - shape_loss: 0.4369 - orientation_loss: 1.1698 - floor_accuracy: 0.8507 - wall_accuracy: 0.7293 - object_accuracy: 0.6686 - scale_accuracy: 0.5668 - shape_accuracy: 0.8280 - orientation_accuracy: 0.5951 - val_loss: 1.5107 - val_floor_loss: 0.0330 - val_wall_loss: 0.1557 - val_object_loss: 0.2850 - val_scale_loss: 0.5036 - val_shape_loss: 0.0869 - val_orientation_loss: 0.4465 - val_floor_accuracy: 1.0000 - val_wall_accuracy: 0.9918 - val_object_accuracy: 0.9537 - val_scale_accuracy: 0.9102 - val_shape_accuracy: 0.9940 - val_orientation_accuracy: 0.9030\n",
      "Epoch 11/200\n",
      "313/313 [==============================] - 9s 29ms/step - loss: 4.4705 - floor_loss: 0.3884 - wall_loss: 0.6991 - object_loss: 0.8509 - scale_loss: 1.0196 - shape_loss: 0.4181 - orientation_loss: 1.0944 - floor_accuracy: 0.8561 - wall_accuracy: 0.7444 - object_accuracy: 0.6741 - scale_accuracy: 0.5879 - shape_accuracy: 0.8367 - orientation_accuracy: 0.6175 - val_loss: 1.2719 - val_floor_loss: 0.0208 - val_wall_loss: 0.1365 - val_object_loss: 0.2309 - val_scale_loss: 0.4390 - val_shape_loss: 0.0679 - val_orientation_loss: 0.3768 - val_floor_accuracy: 1.0000 - val_wall_accuracy: 0.9947 - val_object_accuracy: 0.9767 - val_scale_accuracy: 0.9412 - val_shape_accuracy: 0.9958 - val_orientation_accuracy: 0.9230\n",
      "Epoch 12/200\n",
      "313/313 [==============================] - 10s 31ms/step - loss: 4.2779 - floor_loss: 0.3747 - wall_loss: 0.6772 - object_loss: 0.8261 - scale_loss: 0.9581 - shape_loss: 0.4035 - orientation_loss: 1.0384 - floor_accuracy: 0.8619 - wall_accuracy: 0.7536 - object_accuracy: 0.6859 - scale_accuracy: 0.6147 - shape_accuracy: 0.8426 - orientation_accuracy: 0.6338 - val_loss: 1.2067 - val_floor_loss: 0.0187 - val_wall_loss: 0.1227 - val_object_loss: 0.2227 - val_scale_loss: 0.4232 - val_shape_loss: 0.0607 - val_orientation_loss: 0.3586 - val_floor_accuracy: 1.0000 - val_wall_accuracy: 0.9943 - val_object_accuracy: 0.9773 - val_scale_accuracy: 0.9512 - val_shape_accuracy: 0.9962 - val_orientation_accuracy: 0.9338\n",
      "Epoch 13/200\n",
      "313/313 [==============================] - 9s 30ms/step - loss: 4.1128 - floor_loss: 0.3639 - wall_loss: 0.6524 - object_loss: 0.8023 - scale_loss: 0.9203 - shape_loss: 0.3856 - orientation_loss: 0.9883 - floor_accuracy: 0.8665 - wall_accuracy: 0.7638 - object_accuracy: 0.6929 - scale_accuracy: 0.6296 - shape_accuracy: 0.8515 - orientation_accuracy: 0.6531 - val_loss: 1.1678 - val_floor_loss: 0.0297 - val_wall_loss: 0.1299 - val_object_loss: 0.2527 - val_scale_loss: 0.3860 - val_shape_loss: 0.0513 - val_orientation_loss: 0.3182 - val_floor_accuracy: 1.0000 - val_wall_accuracy: 0.9913 - val_object_accuracy: 0.9497 - val_scale_accuracy: 0.9612 - val_shape_accuracy: 0.9983 - val_orientation_accuracy: 0.9502\n",
      "Epoch 14/200\n",
      "313/313 [==============================] - 9s 30ms/step - loss: 3.9759 - floor_loss: 0.3610 - wall_loss: 0.6354 - object_loss: 0.7735 - scale_loss: 0.8797 - shape_loss: 0.3797 - orientation_loss: 0.9467 - floor_accuracy: 0.8682 - wall_accuracy: 0.7720 - object_accuracy: 0.7028 - scale_accuracy: 0.6478 - shape_accuracy: 0.8556 - orientation_accuracy: 0.6665 - val_loss: 0.9549 - val_floor_loss: 0.0173 - val_wall_loss: 0.0942 - val_object_loss: 0.1882 - val_scale_loss: 0.3378 - val_shape_loss: 0.0392 - val_orientation_loss: 0.2782 - val_floor_accuracy: 1.0000 - val_wall_accuracy: 0.9977 - val_object_accuracy: 0.9872 - val_scale_accuracy: 0.9742 - val_shape_accuracy: 0.9988 - val_orientation_accuracy: 0.9588\n",
      "Epoch 15/200\n",
      "313/313 [==============================] - 10s 31ms/step - loss: 3.8643 - floor_loss: 0.3531 - wall_loss: 0.6208 - object_loss: 0.7681 - scale_loss: 0.8483 - shape_loss: 0.3662 - orientation_loss: 0.9079 - floor_accuracy: 0.8710 - wall_accuracy: 0.7753 - object_accuracy: 0.7058 - scale_accuracy: 0.6647 - shape_accuracy: 0.8614 - orientation_accuracy: 0.6793 - val_loss: 0.8894 - val_floor_loss: 0.0145 - val_wall_loss: 0.0849 - val_object_loss: 0.1750 - val_scale_loss: 0.3218 - val_shape_loss: 0.0384 - val_orientation_loss: 0.2548 - val_floor_accuracy: 1.0000 - val_wall_accuracy: 0.9977 - val_object_accuracy: 0.9892 - val_scale_accuracy: 0.9787 - val_shape_accuracy: 0.9998 - val_orientation_accuracy: 0.9662\n",
      "Epoch 16/200\n",
      "313/313 [==============================] - 10s 31ms/step - loss: 3.7442 - floor_loss: 0.3493 - wall_loss: 0.5938 - object_loss: 0.7424 - scale_loss: 0.8183 - shape_loss: 0.3636 - orientation_loss: 0.8767 - floor_accuracy: 0.8718 - wall_accuracy: 0.7877 - object_accuracy: 0.7151 - scale_accuracy: 0.6743 - shape_accuracy: 0.8616 - orientation_accuracy: 0.6914 - val_loss: 0.8496 - val_floor_loss: 0.0154 - val_wall_loss: 0.0800 - val_object_loss: 0.1824 - val_scale_loss: 0.3001 - val_shape_loss: 0.0361 - val_orientation_loss: 0.2356 - val_floor_accuracy: 0.9998 - val_wall_accuracy: 0.9990 - val_object_accuracy: 0.9797 - val_scale_accuracy: 0.9830 - val_shape_accuracy: 1.0000 - val_orientation_accuracy: 0.9728\n",
      "Epoch 17/200\n",
      "313/313 [==============================] - 10s 31ms/step - loss: 3.6548 - floor_loss: 0.3450 - wall_loss: 0.5873 - object_loss: 0.7270 - scale_loss: 0.7907 - shape_loss: 0.3549 - orientation_loss: 0.8499 - floor_accuracy: 0.8738 - wall_accuracy: 0.7892 - object_accuracy: 0.7231 - scale_accuracy: 0.6839 - shape_accuracy: 0.8652 - orientation_accuracy: 0.6996 - val_loss: 0.8144 - val_floor_loss: 0.0221 - val_wall_loss: 0.0738 - val_object_loss: 0.2102 - val_scale_loss: 0.2683 - val_shape_loss: 0.0278 - val_orientation_loss: 0.2121 - val_floor_accuracy: 0.9998 - val_wall_accuracy: 0.9970 - val_object_accuracy: 0.9645 - val_scale_accuracy: 0.9912 - val_shape_accuracy: 0.9998 - val_orientation_accuracy: 0.9790\n",
      "Epoch 18/200\n",
      "313/313 [==============================] - 10s 31ms/step - loss: 3.5753 - floor_loss: 0.3438 - wall_loss: 0.5789 - object_loss: 0.7164 - scale_loss: 0.7716 - shape_loss: 0.3464 - orientation_loss: 0.8182 - floor_accuracy: 0.8754 - wall_accuracy: 0.7931 - object_accuracy: 0.7259 - scale_accuracy: 0.6939 - shape_accuracy: 0.8696 - orientation_accuracy: 0.7110 - val_loss: 0.7595 - val_floor_loss: 0.0197 - val_wall_loss: 0.0714 - val_object_loss: 0.1684 - val_scale_loss: 0.2682 - val_shape_loss: 0.0293 - val_orientation_loss: 0.2024 - val_floor_accuracy: 1.0000 - val_wall_accuracy: 0.9992 - val_object_accuracy: 0.9952 - val_scale_accuracy: 0.9910 - val_shape_accuracy: 0.9997 - val_orientation_accuracy: 0.9852\n",
      "Epoch 19/200\n",
      "313/313 [==============================] - 9s 30ms/step - loss: 3.5156 - floor_loss: 0.3351 - wall_loss: 0.5774 - object_loss: 0.7069 - scale_loss: 0.7560 - shape_loss: 0.3398 - orientation_loss: 0.8003 - floor_accuracy: 0.8797 - wall_accuracy: 0.7973 - object_accuracy: 0.7315 - scale_accuracy: 0.7023 - shape_accuracy: 0.8711 - orientation_accuracy: 0.7168 - val_loss: 0.7133 - val_floor_loss: 0.0125 - val_wall_loss: 0.0716 - val_object_loss: 0.1655 - val_scale_loss: 0.2460 - val_shape_loss: 0.0266 - val_orientation_loss: 0.1910 - val_floor_accuracy: 1.0000 - val_wall_accuracy: 0.9978 - val_object_accuracy: 0.9913 - val_scale_accuracy: 0.9935 - val_shape_accuracy: 0.9998 - val_orientation_accuracy: 0.9875\n",
      "Epoch 20/200\n",
      "313/313 [==============================] - 10s 32ms/step - loss: 3.4598 - floor_loss: 0.3353 - wall_loss: 0.5637 - object_loss: 0.7068 - scale_loss: 0.7389 - shape_loss: 0.3362 - orientation_loss: 0.7790 - floor_accuracy: 0.8776 - wall_accuracy: 0.7997 - object_accuracy: 0.7324 - scale_accuracy: 0.7110 - shape_accuracy: 0.8716 - orientation_accuracy: 0.7258 - val_loss: 0.6779 - val_floor_loss: 0.0103 - val_wall_loss: 0.0587 - val_object_loss: 0.1615 - val_scale_loss: 0.2374 - val_shape_loss: 0.0248 - val_orientation_loss: 0.1853 - val_floor_accuracy: 1.0000 - val_wall_accuracy: 0.9990 - val_object_accuracy: 0.9887 - val_scale_accuracy: 0.9948 - val_shape_accuracy: 0.9997 - val_orientation_accuracy: 0.9830\n",
      "Epoch 21/200\n",
      "313/313 [==============================] - 10s 33ms/step - loss: 3.3785 - floor_loss: 0.3317 - wall_loss: 0.5498 - object_loss: 0.6910 - scale_loss: 0.7169 - shape_loss: 0.3311 - orientation_loss: 0.7580 - floor_accuracy: 0.8813 - wall_accuracy: 0.8044 - object_accuracy: 0.7358 - scale_accuracy: 0.7207 - shape_accuracy: 0.8770 - orientation_accuracy: 0.7343 - val_loss: 0.6258 - val_floor_loss: 0.0097 - val_wall_loss: 0.0569 - val_object_loss: 0.1530 - val_scale_loss: 0.2233 - val_shape_loss: 0.0219 - val_orientation_loss: 0.1610 - val_floor_accuracy: 1.0000 - val_wall_accuracy: 0.9993 - val_object_accuracy: 0.9948 - val_scale_accuracy: 0.9957 - val_shape_accuracy: 1.0000 - val_orientation_accuracy: 0.9918\n",
      "Epoch 22/200\n",
      "313/313 [==============================] - 10s 31ms/step - loss: 3.3236 - floor_loss: 0.3194 - wall_loss: 0.5507 - object_loss: 0.6833 - scale_loss: 0.7016 - shape_loss: 0.3243 - orientation_loss: 0.7444 - floor_accuracy: 0.8848 - wall_accuracy: 0.8032 - object_accuracy: 0.7410 - scale_accuracy: 0.7239 - shape_accuracy: 0.8770 - orientation_accuracy: 0.7409 - val_loss: 0.5878 - val_floor_loss: 0.0094 - val_wall_loss: 0.0510 - val_object_loss: 0.1379 - val_scale_loss: 0.2129 - val_shape_loss: 0.0216 - val_orientation_loss: 0.1550 - val_floor_accuracy: 1.0000 - val_wall_accuracy: 0.9993 - val_object_accuracy: 0.9983 - val_scale_accuracy: 0.9970 - val_shape_accuracy: 0.9998 - val_orientation_accuracy: 0.9933\n",
      "Epoch 23/200\n"
     ]
    },
    {
     "name": "stdout",
     "output_type": "stream",
     "text": [
      "313/313 [==============================] - 10s 32ms/step - loss: 3.2841 - floor_loss: 0.3228 - wall_loss: 0.5372 - object_loss: 0.6690 - scale_loss: 0.7013 - shape_loss: 0.3222 - orientation_loss: 0.7316 - floor_accuracy: 0.8842 - wall_accuracy: 0.8109 - object_accuracy: 0.7427 - scale_accuracy: 0.7291 - shape_accuracy: 0.8786 - orientation_accuracy: 0.7431 - val_loss: 0.6012 - val_floor_loss: 0.0148 - val_wall_loss: 0.0547 - val_object_loss: 0.1708 - val_scale_loss: 0.1973 - val_shape_loss: 0.0194 - val_orientation_loss: 0.1443 - val_floor_accuracy: 1.0000 - val_wall_accuracy: 0.9988 - val_object_accuracy: 0.9915 - val_scale_accuracy: 0.9967 - val_shape_accuracy: 1.0000 - val_orientation_accuracy: 0.9947\n",
      "Epoch 24/200\n",
      "313/313 [==============================] - 10s 31ms/step - loss: 3.2522 - floor_loss: 0.3292 - wall_loss: 0.5323 - object_loss: 0.6608 - scale_loss: 0.6828 - shape_loss: 0.3198 - orientation_loss: 0.7273 - floor_accuracy: 0.8816 - wall_accuracy: 0.8110 - object_accuracy: 0.7476 - scale_accuracy: 0.7348 - shape_accuracy: 0.8810 - orientation_accuracy: 0.7457 - val_loss: 0.5544 - val_floor_loss: 0.0085 - val_wall_loss: 0.0463 - val_object_loss: 0.1457 - val_scale_loss: 0.1959 - val_shape_loss: 0.0184 - val_orientation_loss: 0.1397 - val_floor_accuracy: 1.0000 - val_wall_accuracy: 0.9998 - val_object_accuracy: 0.9972 - val_scale_accuracy: 0.9973 - val_shape_accuracy: 1.0000 - val_orientation_accuracy: 0.9953\n",
      "Epoch 25/200\n",
      "313/313 [==============================] - 10s 31ms/step - loss: 3.2039 - floor_loss: 0.3225 - wall_loss: 0.5228 - object_loss: 0.6618 - scale_loss: 0.6726 - shape_loss: 0.3180 - orientation_loss: 0.7062 - floor_accuracy: 0.8839 - wall_accuracy: 0.8156 - object_accuracy: 0.7508 - scale_accuracy: 0.7387 - shape_accuracy: 0.8805 - orientation_accuracy: 0.7560 - val_loss: 0.5305 - val_floor_loss: 0.0103 - val_wall_loss: 0.0455 - val_object_loss: 0.1390 - val_scale_loss: 0.1857 - val_shape_loss: 0.0194 - val_orientation_loss: 0.1307 - val_floor_accuracy: 1.0000 - val_wall_accuracy: 0.9998 - val_object_accuracy: 0.9985 - val_scale_accuracy: 0.9985 - val_shape_accuracy: 1.0000 - val_orientation_accuracy: 0.9965\n",
      "Epoch 26/200\n",
      "313/313 [==============================] - 10s 31ms/step - loss: 3.1772 - floor_loss: 0.3184 - wall_loss: 0.5192 - object_loss: 0.6491 - scale_loss: 0.6681 - shape_loss: 0.3250 - orientation_loss: 0.6973 - floor_accuracy: 0.8860 - wall_accuracy: 0.8163 - object_accuracy: 0.7526 - scale_accuracy: 0.7411 - shape_accuracy: 0.8802 - orientation_accuracy: 0.7598 - val_loss: 0.5275 - val_floor_loss: 0.0113 - val_wall_loss: 0.0456 - val_object_loss: 0.1475 - val_scale_loss: 0.1761 - val_shape_loss: 0.0187 - val_orientation_loss: 0.1283 - val_floor_accuracy: 1.0000 - val_wall_accuracy: 0.9998 - val_object_accuracy: 0.9985 - val_scale_accuracy: 0.9988 - val_shape_accuracy: 1.0000 - val_orientation_accuracy: 0.9973\n",
      "Epoch 27/200\n",
      "313/313 [==============================] - 9s 30ms/step - loss: 3.1374 - floor_loss: 0.3122 - wall_loss: 0.5201 - object_loss: 0.6463 - scale_loss: 0.6503 - shape_loss: 0.3168 - orientation_loss: 0.6917 - floor_accuracy: 0.8866 - wall_accuracy: 0.8155 - object_accuracy: 0.7551 - scale_accuracy: 0.7492 - shape_accuracy: 0.8831 - orientation_accuracy: 0.7613 - val_loss: 0.4841 - val_floor_loss: 0.0109 - val_wall_loss: 0.0416 - val_object_loss: 0.1378 - val_scale_loss: 0.1644 - val_shape_loss: 0.0155 - val_orientation_loss: 0.1138 - val_floor_accuracy: 1.0000 - val_wall_accuracy: 1.0000 - val_object_accuracy: 0.9990 - val_scale_accuracy: 0.9990 - val_shape_accuracy: 1.0000 - val_orientation_accuracy: 0.9977\n",
      "Epoch 28/200\n",
      "313/313 [==============================] - 9s 28ms/step - loss: 3.1229 - floor_loss: 0.3184 - wall_loss: 0.5216 - object_loss: 0.6476 - scale_loss: 0.6441 - shape_loss: 0.3129 - orientation_loss: 0.6782 - floor_accuracy: 0.8845 - wall_accuracy: 0.8176 - object_accuracy: 0.7551 - scale_accuracy: 0.7532 - shape_accuracy: 0.8845 - orientation_accuracy: 0.7637 - val_loss: 0.4793 - val_floor_loss: 0.0095 - val_wall_loss: 0.0418 - val_object_loss: 0.1354 - val_scale_loss: 0.1660 - val_shape_loss: 0.0154 - val_orientation_loss: 0.1112 - val_floor_accuracy: 1.0000 - val_wall_accuracy: 1.0000 - val_object_accuracy: 0.9970 - val_scale_accuracy: 0.9985 - val_shape_accuracy: 1.0000 - val_orientation_accuracy: 0.9973\n",
      "Epoch 29/200\n",
      "313/313 [==============================] - 8s 27ms/step - loss: 3.0700 - floor_loss: 0.3071 - wall_loss: 0.5155 - object_loss: 0.6320 - scale_loss: 0.6332 - shape_loss: 0.3110 - orientation_loss: 0.6711 - floor_accuracy: 0.8878 - wall_accuracy: 0.8196 - object_accuracy: 0.7582 - scale_accuracy: 0.7564 - shape_accuracy: 0.8832 - orientation_accuracy: 0.7671 - val_loss: 0.4485 - val_floor_loss: 0.0100 - val_wall_loss: 0.0377 - val_object_loss: 0.1193 - val_scale_loss: 0.1580 - val_shape_loss: 0.0171 - val_orientation_loss: 0.1065 - val_floor_accuracy: 1.0000 - val_wall_accuracy: 0.9998 - val_object_accuracy: 0.9985 - val_scale_accuracy: 0.9992 - val_shape_accuracy: 0.9998 - val_orientation_accuracy: 0.9980\n",
      "Epoch 30/200\n",
      "313/313 [==============================] - 9s 29ms/step - loss: 3.0493 - floor_loss: 0.3160 - wall_loss: 0.5096 - object_loss: 0.6275 - scale_loss: 0.6294 - shape_loss: 0.3065 - orientation_loss: 0.6602 - floor_accuracy: 0.8857 - wall_accuracy: 0.8208 - object_accuracy: 0.7612 - scale_accuracy: 0.7570 - shape_accuracy: 0.8853 - orientation_accuracy: 0.7706 - val_loss: 0.4479 - val_floor_loss: 0.0085 - val_wall_loss: 0.0398 - val_object_loss: 0.1272 - val_scale_loss: 0.1554 - val_shape_loss: 0.0144 - val_orientation_loss: 0.1026 - val_floor_accuracy: 1.0000 - val_wall_accuracy: 1.0000 - val_object_accuracy: 0.9990 - val_scale_accuracy: 0.9992 - val_shape_accuracy: 1.0000 - val_orientation_accuracy: 0.9982\n",
      "Epoch 31/200\n",
      "313/313 [==============================] - 9s 29ms/step - loss: 3.0270 - floor_loss: 0.3110 - wall_loss: 0.5018 - object_loss: 0.6291 - scale_loss: 0.6229 - shape_loss: 0.3082 - orientation_loss: 0.6541 - floor_accuracy: 0.8881 - wall_accuracy: 0.8253 - object_accuracy: 0.7638 - scale_accuracy: 0.7624 - shape_accuracy: 0.8846 - orientation_accuracy: 0.7736 - val_loss: 0.4300 - val_floor_loss: 0.0091 - val_wall_loss: 0.0391 - val_object_loss: 0.1210 - val_scale_loss: 0.1486 - val_shape_loss: 0.0139 - val_orientation_loss: 0.0983 - val_floor_accuracy: 1.0000 - val_wall_accuracy: 0.9993 - val_object_accuracy: 0.9998 - val_scale_accuracy: 0.9992 - val_shape_accuracy: 1.0000 - val_orientation_accuracy: 0.9987\n",
      "Epoch 32/200\n",
      "313/313 [==============================] - 9s 30ms/step - loss: 2.9895 - floor_loss: 0.3064 - wall_loss: 0.4984 - object_loss: 0.6168 - scale_loss: 0.6180 - shape_loss: 0.3066 - orientation_loss: 0.6433 - floor_accuracy: 0.8892 - wall_accuracy: 0.8242 - object_accuracy: 0.7653 - scale_accuracy: 0.7652 - shape_accuracy: 0.8867 - orientation_accuracy: 0.7787 - val_loss: 0.4212 - val_floor_loss: 0.0104 - val_wall_loss: 0.0363 - val_object_loss: 0.1262 - val_scale_loss: 0.1414 - val_shape_loss: 0.0138 - val_orientation_loss: 0.0931 - val_floor_accuracy: 1.0000 - val_wall_accuracy: 0.9997 - val_object_accuracy: 0.9983 - val_scale_accuracy: 0.9990 - val_shape_accuracy: 1.0000 - val_orientation_accuracy: 0.9988\n",
      "Epoch 33/200\n",
      "313/313 [==============================] - 10s 31ms/step - loss: 2.9688 - floor_loss: 0.3062 - wall_loss: 0.5006 - object_loss: 0.6194 - scale_loss: 0.6055 - shape_loss: 0.2970 - orientation_loss: 0.6402 - floor_accuracy: 0.8892 - wall_accuracy: 0.8249 - object_accuracy: 0.7650 - scale_accuracy: 0.7693 - shape_accuracy: 0.8898 - orientation_accuracy: 0.7797 - val_loss: 0.4114 - val_floor_loss: 0.0097 - val_wall_loss: 0.0351 - val_object_loss: 0.1229 - val_scale_loss: 0.1387 - val_shape_loss: 0.0127 - val_orientation_loss: 0.0925 - val_floor_accuracy: 1.0000 - val_wall_accuracy: 1.0000 - val_object_accuracy: 0.9983 - val_scale_accuracy: 0.9995 - val_shape_accuracy: 1.0000 - val_orientation_accuracy: 0.9990\n",
      "Epoch 34/200\n",
      "313/313 [==============================] - 10s 33ms/step - loss: 2.9354 - floor_loss: 0.3088 - wall_loss: 0.4932 - object_loss: 0.6107 - scale_loss: 0.5987 - shape_loss: 0.2994 - orientation_loss: 0.6246 - floor_accuracy: 0.8887 - wall_accuracy: 0.8297 - object_accuracy: 0.7722 - scale_accuracy: 0.7725 - shape_accuracy: 0.8888 - orientation_accuracy: 0.7851 - val_loss: 0.4045 - val_floor_loss: 0.0103 - val_wall_loss: 0.0357 - val_object_loss: 0.1180 - val_scale_loss: 0.1378 - val_shape_loss: 0.0149 - val_orientation_loss: 0.0877 - val_floor_accuracy: 0.9998 - val_wall_accuracy: 0.9998 - val_object_accuracy: 0.9998 - val_scale_accuracy: 0.9992 - val_shape_accuracy: 1.0000 - val_orientation_accuracy: 0.9997\n",
      "Epoch 35/200\n",
      "313/313 [==============================] - 10s 32ms/step - loss: 2.9076 - floor_loss: 0.3015 - wall_loss: 0.4853 - object_loss: 0.6057 - scale_loss: 0.5946 - shape_loss: 0.2921 - orientation_loss: 0.6283 - floor_accuracy: 0.8910 - wall_accuracy: 0.8305 - object_accuracy: 0.7728 - scale_accuracy: 0.7721 - shape_accuracy: 0.8907 - orientation_accuracy: 0.7860 - val_loss: 0.3873 - val_floor_loss: 0.0089 - val_wall_loss: 0.0363 - val_object_loss: 0.1226 - val_scale_loss: 0.1263 - val_shape_loss: 0.0138 - val_orientation_loss: 0.0795 - val_floor_accuracy: 1.0000 - val_wall_accuracy: 0.9998 - val_object_accuracy: 0.9990 - val_scale_accuracy: 0.9993 - val_shape_accuracy: 1.0000 - val_orientation_accuracy: 0.9992\n",
      "Epoch 36/200\n",
      "313/313 [==============================] - 10s 31ms/step - loss: 2.8844 - floor_loss: 0.3032 - wall_loss: 0.4820 - object_loss: 0.5995 - scale_loss: 0.5876 - shape_loss: 0.2979 - orientation_loss: 0.6142 - floor_accuracy: 0.8892 - wall_accuracy: 0.8314 - object_accuracy: 0.7734 - scale_accuracy: 0.7761 - shape_accuracy: 0.8910 - orientation_accuracy: 0.7885 - val_loss: 0.3634 - val_floor_loss: 0.0082 - val_wall_loss: 0.0300 - val_object_loss: 0.1097 - val_scale_loss: 0.1228 - val_shape_loss: 0.0138 - val_orientation_loss: 0.0790 - val_floor_accuracy: 1.0000 - val_wall_accuracy: 0.9998 - val_object_accuracy: 0.9993 - val_scale_accuracy: 0.9998 - val_shape_accuracy: 1.0000 - val_orientation_accuracy: 0.9997\n",
      "Epoch 37/200\n",
      "313/313 [==============================] - 10s 31ms/step - loss: 2.8820 - floor_loss: 0.3055 - wall_loss: 0.4835 - object_loss: 0.6008 - scale_loss: 0.5856 - shape_loss: 0.2965 - orientation_loss: 0.6100 - floor_accuracy: 0.8894 - wall_accuracy: 0.8318 - object_accuracy: 0.7739 - scale_accuracy: 0.7781 - shape_accuracy: 0.8906 - orientation_accuracy: 0.7896 - val_loss: 0.3667 - val_floor_loss: 0.0107 - val_wall_loss: 0.0333 - val_object_loss: 0.1163 - val_scale_loss: 0.1200 - val_shape_loss: 0.0124 - val_orientation_loss: 0.0739 - val_floor_accuracy: 1.0000 - val_wall_accuracy: 0.9998 - val_object_accuracy: 0.9988 - val_scale_accuracy: 0.9995 - val_shape_accuracy: 1.0000 - val_orientation_accuracy: 0.9992\n",
      "Epoch 38/200\n",
      "313/313 [==============================] - 10s 31ms/step - loss: 2.8598 - floor_loss: 0.3047 - wall_loss: 0.4853 - object_loss: 0.5952 - scale_loss: 0.5729 - shape_loss: 0.2944 - orientation_loss: 0.6072 - floor_accuracy: 0.8910 - wall_accuracy: 0.8310 - object_accuracy: 0.7765 - scale_accuracy: 0.7829 - shape_accuracy: 0.8903 - orientation_accuracy: 0.7884 - val_loss: 0.3753 - val_floor_loss: 0.0101 - val_wall_loss: 0.0346 - val_object_loss: 0.1268 - val_scale_loss: 0.1174 - val_shape_loss: 0.0125 - val_orientation_loss: 0.0739 - val_floor_accuracy: 1.0000 - val_wall_accuracy: 1.0000 - val_object_accuracy: 0.9983 - val_scale_accuracy: 1.0000 - val_shape_accuracy: 1.0000 - val_orientation_accuracy: 0.9997\n",
      "Epoch 39/200\n",
      "313/313 [==============================] - 10s 32ms/step - loss: 2.8169 - floor_loss: 0.2919 - wall_loss: 0.4816 - object_loss: 0.5898 - scale_loss: 0.5647 - shape_loss: 0.2887 - orientation_loss: 0.6003 - floor_accuracy: 0.8944 - wall_accuracy: 0.8322 - object_accuracy: 0.7794 - scale_accuracy: 0.7858 - shape_accuracy: 0.8924 - orientation_accuracy: 0.7958 - val_loss: 0.3426 - val_floor_loss: 0.0084 - val_wall_loss: 0.0297 - val_object_loss: 0.1128 - val_scale_loss: 0.1114 - val_shape_loss: 0.0125 - val_orientation_loss: 0.0678 - val_floor_accuracy: 1.0000 - val_wall_accuracy: 1.0000 - val_object_accuracy: 0.9985 - val_scale_accuracy: 1.0000 - val_shape_accuracy: 1.0000 - val_orientation_accuracy: 0.9997\n",
      "Epoch 40/200\n",
      "313/313 [==============================] - 11s 34ms/step - loss: 2.8187 - floor_loss: 0.2980 - wall_loss: 0.4799 - object_loss: 0.5913 - scale_loss: 0.5667 - shape_loss: 0.2917 - orientation_loss: 0.5911 - floor_accuracy: 0.8910 - wall_accuracy: 0.8323 - object_accuracy: 0.7793 - scale_accuracy: 0.7856 - shape_accuracy: 0.8920 - orientation_accuracy: 0.7992 - val_loss: 0.3499 - val_floor_loss: 0.0101 - val_wall_loss: 0.0302 - val_object_loss: 0.1211 - val_scale_loss: 0.1084 - val_shape_loss: 0.0116 - val_orientation_loss: 0.0685 - val_floor_accuracy: 1.0000 - val_wall_accuracy: 1.0000 - val_object_accuracy: 0.9988 - val_scale_accuracy: 1.0000 - val_shape_accuracy: 1.0000 - val_orientation_accuracy: 0.9993\n",
      "Epoch 41/200\n",
      "313/313 [==============================] - 10s 31ms/step - loss: 2.7763 - floor_loss: 0.2975 - wall_loss: 0.4702 - object_loss: 0.5766 - scale_loss: 0.5573 - shape_loss: 0.2870 - orientation_loss: 0.5877 - floor_accuracy: 0.8935 - wall_accuracy: 0.8389 - object_accuracy: 0.7847 - scale_accuracy: 0.7905 - shape_accuracy: 0.8920 - orientation_accuracy: 0.7974 - val_loss: 0.3379 - val_floor_loss: 0.0110 - val_wall_loss: 0.0315 - val_object_loss: 0.1140 - val_scale_loss: 0.1061 - val_shape_loss: 0.0118 - val_orientation_loss: 0.0636 - val_floor_accuracy: 1.0000 - val_wall_accuracy: 0.9998 - val_object_accuracy: 0.9993 - val_scale_accuracy: 1.0000 - val_shape_accuracy: 1.0000 - val_orientation_accuracy: 1.0000\n",
      "Epoch 42/200\n",
      "313/313 [==============================] - 10s 33ms/step - loss: 2.7643 - floor_loss: 0.2902 - wall_loss: 0.4744 - object_loss: 0.5818 - scale_loss: 0.5468 - shape_loss: 0.2879 - orientation_loss: 0.5833 - floor_accuracy: 0.8944 - wall_accuracy: 0.8337 - object_accuracy: 0.7832 - scale_accuracy: 0.7906 - shape_accuracy: 0.8931 - orientation_accuracy: 0.8018 - val_loss: 0.3109 - val_floor_loss: 0.0080 - val_wall_loss: 0.0260 - val_object_loss: 0.0998 - val_scale_loss: 0.1016 - val_shape_loss: 0.0124 - val_orientation_loss: 0.0630 - val_floor_accuracy: 1.0000 - val_wall_accuracy: 0.9998 - val_object_accuracy: 0.9988 - val_scale_accuracy: 0.9998 - val_shape_accuracy: 1.0000 - val_orientation_accuracy: 0.9997\n",
      "Epoch 43/200\n",
      "313/313 [==============================] - 10s 32ms/step - loss: 2.7540 - floor_loss: 0.2976 - wall_loss: 0.4643 - object_loss: 0.5688 - scale_loss: 0.5529 - shape_loss: 0.2839 - orientation_loss: 0.5865 - floor_accuracy: 0.8926 - wall_accuracy: 0.8367 - object_accuracy: 0.7901 - scale_accuracy: 0.7908 - shape_accuracy: 0.8945 - orientation_accuracy: 0.7996 - val_loss: 0.3009 - val_floor_loss: 0.0081 - val_wall_loss: 0.0243 - val_object_loss: 0.0945 - val_scale_loss: 0.1001 - val_shape_loss: 0.0124 - val_orientation_loss: 0.0615 - val_floor_accuracy: 1.0000 - val_wall_accuracy: 1.0000 - val_object_accuracy: 1.0000 - val_scale_accuracy: 0.9997 - val_shape_accuracy: 1.0000 - val_orientation_accuracy: 0.9998\n",
      "Epoch 44/200\n",
      "313/313 [==============================] - 10s 32ms/step - loss: 2.7397 - floor_loss: 0.2957 - wall_loss: 0.4597 - object_loss: 0.5673 - scale_loss: 0.5485 - shape_loss: 0.2903 - orientation_loss: 0.5781 - floor_accuracy: 0.8931 - wall_accuracy: 0.8418 - object_accuracy: 0.7890 - scale_accuracy: 0.7921 - shape_accuracy: 0.8927 - orientation_accuracy: 0.8016 - val_loss: 0.3112 - val_floor_loss: 0.0106 - val_wall_loss: 0.0279 - val_object_loss: 0.1132 - val_scale_loss: 0.0922 - val_shape_loss: 0.0105 - val_orientation_loss: 0.0569 - val_floor_accuracy: 1.0000 - val_wall_accuracy: 0.9998 - val_object_accuracy: 0.9977 - val_scale_accuracy: 1.0000 - val_shape_accuracy: 1.0000 - val_orientation_accuracy: 0.9993\n",
      "Epoch 45/200\n"
     ]
    },
    {
     "name": "stdout",
     "output_type": "stream",
     "text": [
      "313/313 [==============================] - 9s 30ms/step - loss: 2.7243 - floor_loss: 0.2937 - wall_loss: 0.4662 - object_loss: 0.5658 - scale_loss: 0.5357 - shape_loss: 0.2846 - orientation_loss: 0.5783 - floor_accuracy: 0.8959 - wall_accuracy: 0.8386 - object_accuracy: 0.7902 - scale_accuracy: 0.7960 - shape_accuracy: 0.8944 - orientation_accuracy: 0.8011 - val_loss: 0.3003 - val_floor_loss: 0.0100 - val_wall_loss: 0.0266 - val_object_loss: 0.1050 - val_scale_loss: 0.0951 - val_shape_loss: 0.0107 - val_orientation_loss: 0.0529 - val_floor_accuracy: 1.0000 - val_wall_accuracy: 1.0000 - val_object_accuracy: 0.9997 - val_scale_accuracy: 1.0000 - val_shape_accuracy: 1.0000 - val_orientation_accuracy: 1.0000\n",
      "Epoch 46/200\n",
      "313/313 [==============================] - 9s 28ms/step - loss: 2.7049 - floor_loss: 0.2944 - wall_loss: 0.4560 - object_loss: 0.5627 - scale_loss: 0.5360 - shape_loss: 0.2865 - orientation_loss: 0.5693 - floor_accuracy: 0.8931 - wall_accuracy: 0.8418 - object_accuracy: 0.7887 - scale_accuracy: 0.7984 - shape_accuracy: 0.8949 - orientation_accuracy: 0.8058 - val_loss: 0.2764 - val_floor_loss: 0.0078 - val_wall_loss: 0.0238 - val_object_loss: 0.0909 - val_scale_loss: 0.0889 - val_shape_loss: 0.0108 - val_orientation_loss: 0.0543 - val_floor_accuracy: 1.0000 - val_wall_accuracy: 1.0000 - val_object_accuracy: 0.9998 - val_scale_accuracy: 0.9998 - val_shape_accuracy: 1.0000 - val_orientation_accuracy: 1.0000\n",
      "Epoch 47/200\n",
      "313/313 [==============================] - 10s 31ms/step - loss: 2.6865 - floor_loss: 0.2918 - wall_loss: 0.4546 - object_loss: 0.5585 - scale_loss: 0.5342 - shape_loss: 0.2851 - orientation_loss: 0.5624 - floor_accuracy: 0.8941 - wall_accuracy: 0.8403 - object_accuracy: 0.7925 - scale_accuracy: 0.7990 - shape_accuracy: 0.8948 - orientation_accuracy: 0.8090 - val_loss: 0.2833 - val_floor_loss: 0.0085 - val_wall_loss: 0.0254 - val_object_loss: 0.0931 - val_scale_loss: 0.0910 - val_shape_loss: 0.0108 - val_orientation_loss: 0.0546 - val_floor_accuracy: 1.0000 - val_wall_accuracy: 1.0000 - val_object_accuracy: 0.9998 - val_scale_accuracy: 0.9998 - val_shape_accuracy: 1.0000 - val_orientation_accuracy: 0.9998\n",
      "Epoch 48/200\n",
      "313/313 [==============================] - 9s 29ms/step - loss: 2.6615 - floor_loss: 0.2812 - wall_loss: 0.4515 - object_loss: 0.5537 - scale_loss: 0.5291 - shape_loss: 0.2830 - orientation_loss: 0.5630 - floor_accuracy: 0.8981 - wall_accuracy: 0.8416 - object_accuracy: 0.7963 - scale_accuracy: 0.8009 - shape_accuracy: 0.8952 - orientation_accuracy: 0.8075 - val_loss: 0.2755 - val_floor_loss: 0.0101 - val_wall_loss: 0.0238 - val_object_loss: 0.0960 - val_scale_loss: 0.0834 - val_shape_loss: 0.0109 - val_orientation_loss: 0.0513 - val_floor_accuracy: 1.0000 - val_wall_accuracy: 0.9998 - val_object_accuracy: 0.9993 - val_scale_accuracy: 1.0000 - val_shape_accuracy: 1.0000 - val_orientation_accuracy: 0.9998\n",
      "Epoch 49/200\n",
      "313/313 [==============================] - 9s 30ms/step - loss: 2.6496 - floor_loss: 0.2811 - wall_loss: 0.4553 - object_loss: 0.5515 - scale_loss: 0.5263 - shape_loss: 0.2797 - orientation_loss: 0.5557 - floor_accuracy: 0.8988 - wall_accuracy: 0.8416 - object_accuracy: 0.7963 - scale_accuracy: 0.8014 - shape_accuracy: 0.8967 - orientation_accuracy: 0.8114 - val_loss: 0.2833 - val_floor_loss: 0.0110 - val_wall_loss: 0.0281 - val_object_loss: 0.1009 - val_scale_loss: 0.0847 - val_shape_loss: 0.0103 - val_orientation_loss: 0.0483 - val_floor_accuracy: 1.0000 - val_wall_accuracy: 0.9998 - val_object_accuracy: 0.9992 - val_scale_accuracy: 0.9998 - val_shape_accuracy: 1.0000 - val_orientation_accuracy: 1.0000\n",
      "Epoch 50/200\n",
      "313/313 [==============================] - 9s 29ms/step - loss: 2.6292 - floor_loss: 0.2833 - wall_loss: 0.4453 - object_loss: 0.5440 - scale_loss: 0.5188 - shape_loss: 0.2806 - orientation_loss: 0.5571 - floor_accuracy: 0.8985 - wall_accuracy: 0.8427 - object_accuracy: 0.7999 - scale_accuracy: 0.8043 - shape_accuracy: 0.8968 - orientation_accuracy: 0.8085 - val_loss: 0.2559 - val_floor_loss: 0.0105 - val_wall_loss: 0.0260 - val_object_loss: 0.0872 - val_scale_loss: 0.0774 - val_shape_loss: 0.0094 - val_orientation_loss: 0.0454 - val_floor_accuracy: 1.0000 - val_wall_accuracy: 1.0000 - val_object_accuracy: 1.0000 - val_scale_accuracy: 1.0000 - val_shape_accuracy: 1.0000 - val_orientation_accuracy: 1.0000\n",
      "Epoch 51/200\n",
      "313/313 [==============================] - 9s 28ms/step - loss: 2.6289 - floor_loss: 0.2852 - wall_loss: 0.4473 - object_loss: 0.5425 - scale_loss: 0.5234 - shape_loss: 0.2813 - orientation_loss: 0.5494 - floor_accuracy: 0.8968 - wall_accuracy: 0.8414 - object_accuracy: 0.8002 - scale_accuracy: 0.8021 - shape_accuracy: 0.8968 - orientation_accuracy: 0.8106 - val_loss: 0.2647 - val_floor_loss: 0.0091 - val_wall_loss: 0.0228 - val_object_loss: 0.0965 - val_scale_loss: 0.0792 - val_shape_loss: 0.0114 - val_orientation_loss: 0.0457 - val_floor_accuracy: 1.0000 - val_wall_accuracy: 1.0000 - val_object_accuracy: 0.9980 - val_scale_accuracy: 1.0000 - val_shape_accuracy: 1.0000 - val_orientation_accuracy: 1.0000\n",
      "Epoch 52/200\n",
      "313/313 [==============================] - 9s 29ms/step - loss: 2.6007 - floor_loss: 0.2818 - wall_loss: 0.4451 - object_loss: 0.5319 - scale_loss: 0.5117 - shape_loss: 0.2803 - orientation_loss: 0.5498 - floor_accuracy: 0.8988 - wall_accuracy: 0.8431 - object_accuracy: 0.8040 - scale_accuracy: 0.8076 - shape_accuracy: 0.8967 - orientation_accuracy: 0.8145 - val_loss: 0.2479 - val_floor_loss: 0.0106 - val_wall_loss: 0.0238 - val_object_loss: 0.0825 - val_scale_loss: 0.0765 - val_shape_loss: 0.0102 - val_orientation_loss: 0.0443 - val_floor_accuracy: 1.0000 - val_wall_accuracy: 1.0000 - val_object_accuracy: 1.0000 - val_scale_accuracy: 1.0000 - val_shape_accuracy: 1.0000 - val_orientation_accuracy: 0.9998\n",
      "Epoch 53/200\n",
      "313/313 [==============================] - 10s 31ms/step - loss: 2.5980 - floor_loss: 0.2832 - wall_loss: 0.4434 - object_loss: 0.5328 - scale_loss: 0.5083 - shape_loss: 0.2800 - orientation_loss: 0.5504 - floor_accuracy: 0.8975 - wall_accuracy: 0.8433 - object_accuracy: 0.8045 - scale_accuracy: 0.8076 - shape_accuracy: 0.8963 - orientation_accuracy: 0.8125 - val_loss: 0.2421 - val_floor_loss: 0.0095 - val_wall_loss: 0.0226 - val_object_loss: 0.0784 - val_scale_loss: 0.0758 - val_shape_loss: 0.0106 - val_orientation_loss: 0.0452 - val_floor_accuracy: 1.0000 - val_wall_accuracy: 1.0000 - val_object_accuracy: 0.9998 - val_scale_accuracy: 1.0000 - val_shape_accuracy: 1.0000 - val_orientation_accuracy: 0.9998\n",
      "Epoch 54/200\n",
      "313/313 [==============================] - 10s 32ms/step - loss: 2.5582 - floor_loss: 0.2759 - wall_loss: 0.4358 - object_loss: 0.5266 - scale_loss: 0.5099 - shape_loss: 0.2731 - orientation_loss: 0.5370 - floor_accuracy: 0.9005 - wall_accuracy: 0.8475 - object_accuracy: 0.8071 - scale_accuracy: 0.8084 - shape_accuracy: 0.8986 - orientation_accuracy: 0.8188 - val_loss: 0.2293 - val_floor_loss: 0.0079 - val_wall_loss: 0.0224 - val_object_loss: 0.0737 - val_scale_loss: 0.0731 - val_shape_loss: 0.0105 - val_orientation_loss: 0.0417 - val_floor_accuracy: 1.0000 - val_wall_accuracy: 1.0000 - val_object_accuracy: 1.0000 - val_scale_accuracy: 1.0000 - val_shape_accuracy: 1.0000 - val_orientation_accuracy: 1.0000\n",
      "Epoch 55/200\n",
      "313/313 [==============================] - 10s 30ms/step - loss: 2.5399 - floor_loss: 0.2826 - wall_loss: 0.4284 - object_loss: 0.5296 - scale_loss: 0.4950 - shape_loss: 0.2714 - orientation_loss: 0.5329 - floor_accuracy: 0.8997 - wall_accuracy: 0.8496 - object_accuracy: 0.8059 - scale_accuracy: 0.8131 - shape_accuracy: 0.8982 - orientation_accuracy: 0.8195 - val_loss: 0.2311 - val_floor_loss: 0.0101 - val_wall_loss: 0.0211 - val_object_loss: 0.0773 - val_scale_loss: 0.0716 - val_shape_loss: 0.0102 - val_orientation_loss: 0.0407 - val_floor_accuracy: 1.0000 - val_wall_accuracy: 1.0000 - val_object_accuracy: 0.9995 - val_scale_accuracy: 1.0000 - val_shape_accuracy: 1.0000 - val_orientation_accuracy: 0.9998\n",
      "Epoch 56/200\n",
      "313/313 [==============================] - 9s 30ms/step - loss: 2.5412 - floor_loss: 0.2789 - wall_loss: 0.4418 - object_loss: 0.5255 - scale_loss: 0.4932 - shape_loss: 0.2689 - orientation_loss: 0.5329 - floor_accuracy: 0.9005 - wall_accuracy: 0.8472 - object_accuracy: 0.8080 - scale_accuracy: 0.8148 - shape_accuracy: 0.9010 - orientation_accuracy: 0.8183 - val_loss: 0.2303 - val_floor_loss: 0.0095 - val_wall_loss: 0.0209 - val_object_loss: 0.0813 - val_scale_loss: 0.0701 - val_shape_loss: 0.0105 - val_orientation_loss: 0.0381 - val_floor_accuracy: 1.0000 - val_wall_accuracy: 1.0000 - val_object_accuracy: 0.9982 - val_scale_accuracy: 1.0000 - val_shape_accuracy: 1.0000 - val_orientation_accuracy: 0.9997\n",
      "Epoch 57/200\n",
      "313/313 [==============================] - 10s 32ms/step - loss: 2.5135 - floor_loss: 0.2729 - wall_loss: 0.4289 - object_loss: 0.5149 - scale_loss: 0.4977 - shape_loss: 0.2724 - orientation_loss: 0.5267 - floor_accuracy: 0.9002 - wall_accuracy: 0.8502 - object_accuracy: 0.8099 - scale_accuracy: 0.8100 - shape_accuracy: 0.8999 - orientation_accuracy: 0.8213 - val_loss: 0.2161 - val_floor_loss: 0.0090 - val_wall_loss: 0.0206 - val_object_loss: 0.0713 - val_scale_loss: 0.0686 - val_shape_loss: 0.0105 - val_orientation_loss: 0.0362 - val_floor_accuracy: 1.0000 - val_wall_accuracy: 1.0000 - val_object_accuracy: 1.0000 - val_scale_accuracy: 1.0000 - val_shape_accuracy: 1.0000 - val_orientation_accuracy: 1.0000\n",
      "Epoch 58/200\n",
      "313/313 [==============================] - 10s 32ms/step - loss: 2.5155 - floor_loss: 0.2809 - wall_loss: 0.4317 - object_loss: 0.5132 - scale_loss: 0.4931 - shape_loss: 0.2735 - orientation_loss: 0.5231 - floor_accuracy: 0.9010 - wall_accuracy: 0.8505 - object_accuracy: 0.8121 - scale_accuracy: 0.8130 - shape_accuracy: 0.9001 - orientation_accuracy: 0.8227 - val_loss: 0.2194 - val_floor_loss: 0.0095 - val_wall_loss: 0.0227 - val_object_loss: 0.0757 - val_scale_loss: 0.0642 - val_shape_loss: 0.0096 - val_orientation_loss: 0.0378 - val_floor_accuracy: 1.0000 - val_wall_accuracy: 1.0000 - val_object_accuracy: 0.9998 - val_scale_accuracy: 1.0000 - val_shape_accuracy: 1.0000 - val_orientation_accuracy: 0.9998\n",
      "Epoch 59/200\n",
      "313/313 [==============================] - 10s 30ms/step - loss: 2.5130 - floor_loss: 0.2730 - wall_loss: 0.4304 - object_loss: 0.5114 - scale_loss: 0.4907 - shape_loss: 0.2773 - orientation_loss: 0.5302 - floor_accuracy: 0.9027 - wall_accuracy: 0.8496 - object_accuracy: 0.8098 - scale_accuracy: 0.8148 - shape_accuracy: 0.8987 - orientation_accuracy: 0.8167 - val_loss: 0.2089 - val_floor_loss: 0.0094 - val_wall_loss: 0.0218 - val_object_loss: 0.0672 - val_scale_loss: 0.0667 - val_shape_loss: 0.0100 - val_orientation_loss: 0.0338 - val_floor_accuracy: 1.0000 - val_wall_accuracy: 1.0000 - val_object_accuracy: 1.0000 - val_scale_accuracy: 1.0000 - val_shape_accuracy: 1.0000 - val_orientation_accuracy: 0.9998\n",
      "Epoch 60/200\n",
      "313/313 [==============================] - 10s 33ms/step - loss: 2.4934 - floor_loss: 0.2762 - wall_loss: 0.4299 - object_loss: 0.5153 - scale_loss: 0.4857 - shape_loss: 0.2693 - orientation_loss: 0.5170 - floor_accuracy: 0.8997 - wall_accuracy: 0.8496 - object_accuracy: 0.8109 - scale_accuracy: 0.8171 - shape_accuracy: 0.9022 - orientation_accuracy: 0.8239 - val_loss: 0.2195 - val_floor_loss: 0.0119 - val_wall_loss: 0.0201 - val_object_loss: 0.0783 - val_scale_loss: 0.0643 - val_shape_loss: 0.0103 - val_orientation_loss: 0.0346 - val_floor_accuracy: 1.0000 - val_wall_accuracy: 1.0000 - val_object_accuracy: 0.9997 - val_scale_accuracy: 1.0000 - val_shape_accuracy: 1.0000 - val_orientation_accuracy: 0.9998\n",
      "Epoch 61/200\n",
      "313/313 [==============================] - 10s 33ms/step - loss: 2.4674 - floor_loss: 0.2753 - wall_loss: 0.4290 - object_loss: 0.5019 - scale_loss: 0.4803 - shape_loss: 0.2672 - orientation_loss: 0.5137 - floor_accuracy: 0.9011 - wall_accuracy: 0.8517 - object_accuracy: 0.8171 - scale_accuracy: 0.8201 - shape_accuracy: 0.8992 - orientation_accuracy: 0.8231 - val_loss: 0.1956 - val_floor_loss: 0.0096 - val_wall_loss: 0.0191 - val_object_loss: 0.0661 - val_scale_loss: 0.0602 - val_shape_loss: 0.0095 - val_orientation_loss: 0.0312 - val_floor_accuracy: 1.0000 - val_wall_accuracy: 1.0000 - val_object_accuracy: 1.0000 - val_scale_accuracy: 1.0000 - val_shape_accuracy: 1.0000 - val_orientation_accuracy: 0.9998\n",
      "Epoch 62/200\n",
      "313/313 [==============================] - 10s 32ms/step - loss: 2.4516 - floor_loss: 0.2703 - wall_loss: 0.4208 - object_loss: 0.5006 - scale_loss: 0.4788 - shape_loss: 0.2676 - orientation_loss: 0.5135 - floor_accuracy: 0.9032 - wall_accuracy: 0.8537 - object_accuracy: 0.8161 - scale_accuracy: 0.8199 - shape_accuracy: 0.9024 - orientation_accuracy: 0.8245 - val_loss: 0.1880 - val_floor_loss: 0.0085 - val_wall_loss: 0.0201 - val_object_loss: 0.0598 - val_scale_loss: 0.0586 - val_shape_loss: 0.0090 - val_orientation_loss: 0.0321 - val_floor_accuracy: 1.0000 - val_wall_accuracy: 1.0000 - val_object_accuracy: 1.0000 - val_scale_accuracy: 1.0000 - val_shape_accuracy: 1.0000 - val_orientation_accuracy: 0.9997\n",
      "Epoch 63/200\n",
      "313/313 [==============================] - 10s 32ms/step - loss: 2.4360 - floor_loss: 0.2713 - wall_loss: 0.4156 - object_loss: 0.4955 - scale_loss: 0.4737 - shape_loss: 0.2660 - orientation_loss: 0.5138 - floor_accuracy: 0.9018 - wall_accuracy: 0.8553 - object_accuracy: 0.8199 - scale_accuracy: 0.8251 - shape_accuracy: 0.9014 - orientation_accuracy: 0.8248 - val_loss: 0.1897 - val_floor_loss: 0.0098 - val_wall_loss: 0.0193 - val_object_loss: 0.0627 - val_scale_loss: 0.0579 - val_shape_loss: 0.0093 - val_orientation_loss: 0.0306 - val_floor_accuracy: 1.0000 - val_wall_accuracy: 1.0000 - val_object_accuracy: 1.0000 - val_scale_accuracy: 1.0000 - val_shape_accuracy: 1.0000 - val_orientation_accuracy: 1.0000\n",
      "Epoch 64/200\n",
      "313/313 [==============================] - 9s 30ms/step - loss: 2.4246 - floor_loss: 0.2711 - wall_loss: 0.4181 - object_loss: 0.4922 - scale_loss: 0.4719 - shape_loss: 0.2649 - orientation_loss: 0.5064 - floor_accuracy: 0.9016 - wall_accuracy: 0.8536 - object_accuracy: 0.8224 - scale_accuracy: 0.8255 - shape_accuracy: 0.9024 - orientation_accuracy: 0.8276 - val_loss: 0.2193 - val_floor_loss: 0.0139 - val_wall_loss: 0.0244 - val_object_loss: 0.0810 - val_scale_loss: 0.0585 - val_shape_loss: 0.0104 - val_orientation_loss: 0.0311 - val_floor_accuracy: 1.0000 - val_wall_accuracy: 1.0000 - val_object_accuracy: 0.9992 - val_scale_accuracy: 1.0000 - val_shape_accuracy: 1.0000 - val_orientation_accuracy: 0.9998\n",
      "Epoch 65/200\n",
      "313/313 [==============================] - 10s 31ms/step - loss: 2.4190 - floor_loss: 0.2652 - wall_loss: 0.4234 - object_loss: 0.4905 - scale_loss: 0.4691 - shape_loss: 0.2616 - orientation_loss: 0.5093 - floor_accuracy: 0.9042 - wall_accuracy: 0.8518 - object_accuracy: 0.8198 - scale_accuracy: 0.8257 - shape_accuracy: 0.9020 - orientation_accuracy: 0.8274 - val_loss: 0.1801 - val_floor_loss: 0.0093 - val_wall_loss: 0.0185 - val_object_loss: 0.0571 - val_scale_loss: 0.0564 - val_shape_loss: 0.0090 - val_orientation_loss: 0.0298 - val_floor_accuracy: 1.0000 - val_wall_accuracy: 1.0000 - val_object_accuracy: 1.0000 - val_scale_accuracy: 1.0000 - val_shape_accuracy: 1.0000 - val_orientation_accuracy: 0.9998\n",
      "Epoch 66/200\n",
      "313/313 [==============================] - 10s 31ms/step - loss: 2.3916 - floor_loss: 0.2656 - wall_loss: 0.4224 - object_loss: 0.4860 - scale_loss: 0.4623 - shape_loss: 0.2567 - orientation_loss: 0.4986 - floor_accuracy: 0.9034 - wall_accuracy: 0.8538 - object_accuracy: 0.8245 - scale_accuracy: 0.8248 - shape_accuracy: 0.9052 - orientation_accuracy: 0.8302 - val_loss: 0.1797 - val_floor_loss: 0.0100 - val_wall_loss: 0.0183 - val_object_loss: 0.0611 - val_scale_loss: 0.0541 - val_shape_loss: 0.0094 - val_orientation_loss: 0.0268 - val_floor_accuracy: 1.0000 - val_wall_accuracy: 1.0000 - val_object_accuracy: 1.0000 - val_scale_accuracy: 1.0000 - val_shape_accuracy: 1.0000 - val_orientation_accuracy: 1.0000\n",
      "Epoch 67/200\n"
     ]
    },
    {
     "name": "stdout",
     "output_type": "stream",
     "text": [
      "313/313 [==============================] - 10s 32ms/step - loss: 2.4045 - floor_loss: 0.2596 - wall_loss: 0.4190 - object_loss: 0.5008 - scale_loss: 0.4613 - shape_loss: 0.2638 - orientation_loss: 0.4999 - floor_accuracy: 0.9061 - wall_accuracy: 0.8551 - object_accuracy: 0.8182 - scale_accuracy: 0.8268 - shape_accuracy: 0.9039 - orientation_accuracy: 0.8296 - val_loss: 0.1839 - val_floor_loss: 0.0109 - val_wall_loss: 0.0206 - val_object_loss: 0.0628 - val_scale_loss: 0.0525 - val_shape_loss: 0.0092 - val_orientation_loss: 0.0278 - val_floor_accuracy: 1.0000 - val_wall_accuracy: 1.0000 - val_object_accuracy: 1.0000 - val_scale_accuracy: 1.0000 - val_shape_accuracy: 1.0000 - val_orientation_accuracy: 1.0000\n",
      "Epoch 68/200\n",
      "313/313 [==============================] - 9s 29ms/step - loss: 2.3618 - floor_loss: 0.2572 - wall_loss: 0.4146 - object_loss: 0.4835 - scale_loss: 0.4625 - shape_loss: 0.2598 - orientation_loss: 0.4844 - floor_accuracy: 0.9077 - wall_accuracy: 0.8558 - object_accuracy: 0.8271 - scale_accuracy: 0.8281 - shape_accuracy: 0.9036 - orientation_accuracy: 0.8341 - val_loss: 0.1697 - val_floor_loss: 0.0090 - val_wall_loss: 0.0186 - val_object_loss: 0.0559 - val_scale_loss: 0.0498 - val_shape_loss: 0.0089 - val_orientation_loss: 0.0275 - val_floor_accuracy: 1.0000 - val_wall_accuracy: 1.0000 - val_object_accuracy: 1.0000 - val_scale_accuracy: 1.0000 - val_shape_accuracy: 1.0000 - val_orientation_accuracy: 1.0000\n",
      "Epoch 69/200\n",
      "313/313 [==============================] - 9s 29ms/step - loss: 2.3568 - floor_loss: 0.2599 - wall_loss: 0.4138 - object_loss: 0.4814 - scale_loss: 0.4597 - shape_loss: 0.2524 - orientation_loss: 0.4896 - floor_accuracy: 0.9062 - wall_accuracy: 0.8569 - object_accuracy: 0.8279 - scale_accuracy: 0.8266 - shape_accuracy: 0.9077 - orientation_accuracy: 0.8324 - val_loss: 0.1707 - val_floor_loss: 0.0083 - val_wall_loss: 0.0183 - val_object_loss: 0.0625 - val_scale_loss: 0.0487 - val_shape_loss: 0.0081 - val_orientation_loss: 0.0249 - val_floor_accuracy: 1.0000 - val_wall_accuracy: 1.0000 - val_object_accuracy: 1.0000 - val_scale_accuracy: 1.0000 - val_shape_accuracy: 1.0000 - val_orientation_accuracy: 0.9998\n",
      "Epoch 70/200\n",
      "313/313 [==============================] - 9s 30ms/step - loss: 2.3316 - floor_loss: 0.2562 - wall_loss: 0.3995 - object_loss: 0.4771 - scale_loss: 0.4513 - shape_loss: 0.2616 - orientation_loss: 0.4860 - floor_accuracy: 0.9075 - wall_accuracy: 0.8597 - object_accuracy: 0.8258 - scale_accuracy: 0.8316 - shape_accuracy: 0.9040 - orientation_accuracy: 0.8333 - val_loss: 0.1564 - val_floor_loss: 0.0080 - val_wall_loss: 0.0170 - val_object_loss: 0.0514 - val_scale_loss: 0.0472 - val_shape_loss: 0.0080 - val_orientation_loss: 0.0248 - val_floor_accuracy: 1.0000 - val_wall_accuracy: 1.0000 - val_object_accuracy: 1.0000 - val_scale_accuracy: 1.0000 - val_shape_accuracy: 1.0000 - val_orientation_accuracy: 1.0000\n",
      "Epoch 71/200\n",
      "313/313 [==============================] - 9s 29ms/step - loss: 2.3186 - floor_loss: 0.2584 - wall_loss: 0.4039 - object_loss: 0.4712 - scale_loss: 0.4461 - shape_loss: 0.2606 - orientation_loss: 0.4784 - floor_accuracy: 0.9068 - wall_accuracy: 0.8580 - object_accuracy: 0.8268 - scale_accuracy: 0.8335 - shape_accuracy: 0.9051 - orientation_accuracy: 0.8369 - val_loss: 0.1578 - val_floor_loss: 0.0085 - val_wall_loss: 0.0162 - val_object_loss: 0.0557 - val_scale_loss: 0.0462 - val_shape_loss: 0.0079 - val_orientation_loss: 0.0233 - val_floor_accuracy: 1.0000 - val_wall_accuracy: 1.0000 - val_object_accuracy: 1.0000 - val_scale_accuracy: 1.0000 - val_shape_accuracy: 1.0000 - val_orientation_accuracy: 0.9998\n",
      "Epoch 72/200\n",
      "313/313 [==============================] - 9s 29ms/step - loss: 2.3070 - floor_loss: 0.2567 - wall_loss: 0.4069 - object_loss: 0.4632 - scale_loss: 0.4457 - shape_loss: 0.2524 - orientation_loss: 0.4822 - floor_accuracy: 0.9060 - wall_accuracy: 0.8573 - object_accuracy: 0.8303 - scale_accuracy: 0.8341 - shape_accuracy: 0.9072 - orientation_accuracy: 0.8359 - val_loss: 0.1528 - val_floor_loss: 0.0077 - val_wall_loss: 0.0170 - val_object_loss: 0.0486 - val_scale_loss: 0.0467 - val_shape_loss: 0.0083 - val_orientation_loss: 0.0245 - val_floor_accuracy: 1.0000 - val_wall_accuracy: 1.0000 - val_object_accuracy: 1.0000 - val_scale_accuracy: 1.0000 - val_shape_accuracy: 1.0000 - val_orientation_accuracy: 0.9998\n",
      "Epoch 73/200\n",
      "313/313 [==============================] - 9s 29ms/step - loss: 2.3170 - floor_loss: 0.2540 - wall_loss: 0.4092 - object_loss: 0.4687 - scale_loss: 0.4482 - shape_loss: 0.2558 - orientation_loss: 0.4811 - floor_accuracy: 0.9090 - wall_accuracy: 0.8588 - object_accuracy: 0.8304 - scale_accuracy: 0.8356 - shape_accuracy: 0.9068 - orientation_accuracy: 0.8371 - val_loss: 0.1637 - val_floor_loss: 0.0109 - val_wall_loss: 0.0175 - val_object_loss: 0.0550 - val_scale_loss: 0.0480 - val_shape_loss: 0.0089 - val_orientation_loss: 0.0234 - val_floor_accuracy: 1.0000 - val_wall_accuracy: 1.0000 - val_object_accuracy: 1.0000 - val_scale_accuracy: 1.0000 - val_shape_accuracy: 1.0000 - val_orientation_accuracy: 1.0000\n",
      "Epoch 74/200\n",
      "313/313 [==============================] - 9s 29ms/step - loss: 2.2973 - floor_loss: 0.2529 - wall_loss: 0.4003 - object_loss: 0.4728 - scale_loss: 0.4462 - shape_loss: 0.2478 - orientation_loss: 0.4774 - floor_accuracy: 0.9093 - wall_accuracy: 0.8612 - object_accuracy: 0.8299 - scale_accuracy: 0.8349 - shape_accuracy: 0.9092 - orientation_accuracy: 0.8360 - val_loss: 0.1494 - val_floor_loss: 0.0085 - val_wall_loss: 0.0181 - val_object_loss: 0.0501 - val_scale_loss: 0.0426 - val_shape_loss: 0.0085 - val_orientation_loss: 0.0216 - val_floor_accuracy: 1.0000 - val_wall_accuracy: 1.0000 - val_object_accuracy: 1.0000 - val_scale_accuracy: 1.0000 - val_shape_accuracy: 1.0000 - val_orientation_accuracy: 1.0000\n",
      "Epoch 75/200\n",
      "313/313 [==============================] - 10s 31ms/step - loss: 2.2699 - floor_loss: 0.2508 - wall_loss: 0.3952 - object_loss: 0.4554 - scale_loss: 0.4353 - shape_loss: 0.2581 - orientation_loss: 0.4751 - floor_accuracy: 0.9112 - wall_accuracy: 0.8630 - object_accuracy: 0.8353 - scale_accuracy: 0.8385 - shape_accuracy: 0.9058 - orientation_accuracy: 0.8393 - val_loss: 0.1438 - val_floor_loss: 0.0084 - val_wall_loss: 0.0160 - val_object_loss: 0.0468 - val_scale_loss: 0.0419 - val_shape_loss: 0.0085 - val_orientation_loss: 0.0221 - val_floor_accuracy: 1.0000 - val_wall_accuracy: 1.0000 - val_object_accuracy: 1.0000 - val_scale_accuracy: 1.0000 - val_shape_accuracy: 1.0000 - val_orientation_accuracy: 0.9998\n",
      "Epoch 76/200\n",
      "313/313 [==============================] - 10s 32ms/step - loss: 2.2726 - floor_loss: 0.2536 - wall_loss: 0.3959 - object_loss: 0.4603 - scale_loss: 0.4388 - shape_loss: 0.2536 - orientation_loss: 0.4704 - floor_accuracy: 0.9109 - wall_accuracy: 0.8623 - object_accuracy: 0.8337 - scale_accuracy: 0.8360 - shape_accuracy: 0.9079 - orientation_accuracy: 0.8424 - val_loss: 0.1475 - val_floor_loss: 0.0107 - val_wall_loss: 0.0159 - val_object_loss: 0.0510 - val_scale_loss: 0.0417 - val_shape_loss: 0.0084 - val_orientation_loss: 0.0196 - val_floor_accuracy: 1.0000 - val_wall_accuracy: 1.0000 - val_object_accuracy: 1.0000 - val_scale_accuracy: 1.0000 - val_shape_accuracy: 1.0000 - val_orientation_accuracy: 0.9998\n",
      "Epoch 77/200\n",
      "313/313 [==============================] - 10s 33ms/step - loss: 2.2612 - floor_loss: 0.2472 - wall_loss: 0.4013 - object_loss: 0.4581 - scale_loss: 0.4382 - shape_loss: 0.2494 - orientation_loss: 0.4671 - floor_accuracy: 0.9129 - wall_accuracy: 0.8615 - object_accuracy: 0.8342 - scale_accuracy: 0.8365 - shape_accuracy: 0.9081 - orientation_accuracy: 0.8400 - val_loss: 0.1325 - val_floor_loss: 0.0076 - val_wall_loss: 0.0142 - val_object_loss: 0.0440 - val_scale_loss: 0.0393 - val_shape_loss: 0.0076 - val_orientation_loss: 0.0199 - val_floor_accuracy: 1.0000 - val_wall_accuracy: 1.0000 - val_object_accuracy: 1.0000 - val_scale_accuracy: 1.0000 - val_shape_accuracy: 1.0000 - val_orientation_accuracy: 1.0000\n",
      "Epoch 78/200\n",
      "313/313 [==============================] - 10s 33ms/step - loss: 2.2252 - floor_loss: 0.2444 - wall_loss: 0.3920 - object_loss: 0.4485 - scale_loss: 0.4252 - shape_loss: 0.2467 - orientation_loss: 0.4685 - floor_accuracy: 0.9141 - wall_accuracy: 0.8638 - object_accuracy: 0.8385 - scale_accuracy: 0.8413 - shape_accuracy: 0.9093 - orientation_accuracy: 0.8406 - val_loss: 0.1430 - val_floor_loss: 0.0095 - val_wall_loss: 0.0165 - val_object_loss: 0.0493 - val_scale_loss: 0.0399 - val_shape_loss: 0.0077 - val_orientation_loss: 0.0201 - val_floor_accuracy: 1.0000 - val_wall_accuracy: 1.0000 - val_object_accuracy: 1.0000 - val_scale_accuracy: 1.0000 - val_shape_accuracy: 1.0000 - val_orientation_accuracy: 1.0000\n",
      "Epoch 79/200\n",
      "313/313 [==============================] - 10s 33ms/step - loss: 2.2360 - floor_loss: 0.2509 - wall_loss: 0.3967 - object_loss: 0.4544 - scale_loss: 0.4211 - shape_loss: 0.2485 - orientation_loss: 0.4644 - floor_accuracy: 0.9086 - wall_accuracy: 0.8619 - object_accuracy: 0.8354 - scale_accuracy: 0.8430 - shape_accuracy: 0.9098 - orientation_accuracy: 0.8417 - val_loss: 0.1317 - val_floor_loss: 0.0084 - val_wall_loss: 0.0144 - val_object_loss: 0.0437 - val_scale_loss: 0.0383 - val_shape_loss: 0.0077 - val_orientation_loss: 0.0192 - val_floor_accuracy: 1.0000 - val_wall_accuracy: 1.0000 - val_object_accuracy: 1.0000 - val_scale_accuracy: 1.0000 - val_shape_accuracy: 1.0000 - val_orientation_accuracy: 0.9998\n",
      "Epoch 80/200\n",
      "313/313 [==============================] - 11s 35ms/step - loss: 2.2275 - floor_loss: 0.2438 - wall_loss: 0.3943 - object_loss: 0.4521 - scale_loss: 0.4271 - shape_loss: 0.2507 - orientation_loss: 0.4594 - floor_accuracy: 0.9119 - wall_accuracy: 0.8616 - object_accuracy: 0.8385 - scale_accuracy: 0.8412 - shape_accuracy: 0.9076 - orientation_accuracy: 0.8438 - val_loss: 0.1271 - val_floor_loss: 0.0074 - val_wall_loss: 0.0151 - val_object_loss: 0.0423 - val_scale_loss: 0.0372 - val_shape_loss: 0.0073 - val_orientation_loss: 0.0179 - val_floor_accuracy: 1.0000 - val_wall_accuracy: 0.9998 - val_object_accuracy: 1.0000 - val_scale_accuracy: 1.0000 - val_shape_accuracy: 1.0000 - val_orientation_accuracy: 1.0000\n",
      "Epoch 81/200\n",
      "313/313 [==============================] - 10s 33ms/step - loss: 2.2030 - floor_loss: 0.2398 - wall_loss: 0.3893 - object_loss: 0.4469 - scale_loss: 0.4243 - shape_loss: 0.2460 - orientation_loss: 0.4566 - floor_accuracy: 0.9151 - wall_accuracy: 0.8650 - object_accuracy: 0.8392 - scale_accuracy: 0.8435 - shape_accuracy: 0.9093 - orientation_accuracy: 0.8458 - val_loss: 0.1287 - val_floor_loss: 0.0117 - val_wall_loss: 0.0154 - val_object_loss: 0.0391 - val_scale_loss: 0.0373 - val_shape_loss: 0.0076 - val_orientation_loss: 0.0176 - val_floor_accuracy: 1.0000 - val_wall_accuracy: 1.0000 - val_object_accuracy: 1.0000 - val_scale_accuracy: 1.0000 - val_shape_accuracy: 1.0000 - val_orientation_accuracy: 1.0000\n",
      "Epoch 82/200\n",
      "313/313 [==============================] - 10s 32ms/step - loss: 2.1878 - floor_loss: 0.2480 - wall_loss: 0.3841 - object_loss: 0.4393 - scale_loss: 0.4196 - shape_loss: 0.2413 - orientation_loss: 0.4554 - floor_accuracy: 0.9134 - wall_accuracy: 0.8659 - object_accuracy: 0.8411 - scale_accuracy: 0.8423 - shape_accuracy: 0.9114 - orientation_accuracy: 0.8457 - val_loss: 0.1241 - val_floor_loss: 0.0085 - val_wall_loss: 0.0140 - val_object_loss: 0.0400 - val_scale_loss: 0.0358 - val_shape_loss: 0.0075 - val_orientation_loss: 0.0182 - val_floor_accuracy: 1.0000 - val_wall_accuracy: 1.0000 - val_object_accuracy: 1.0000 - val_scale_accuracy: 1.0000 - val_shape_accuracy: 1.0000 - val_orientation_accuracy: 1.0000\n",
      "Epoch 83/200\n",
      "313/313 [==============================] - 10s 33ms/step - loss: 2.1748 - floor_loss: 0.2430 - wall_loss: 0.3831 - object_loss: 0.4366 - scale_loss: 0.4160 - shape_loss: 0.2410 - orientation_loss: 0.4552 - floor_accuracy: 0.9138 - wall_accuracy: 0.8662 - object_accuracy: 0.8441 - scale_accuracy: 0.8439 - shape_accuracy: 0.9114 - orientation_accuracy: 0.8425 - val_loss: 0.1249 - val_floor_loss: 0.0095 - val_wall_loss: 0.0149 - val_object_loss: 0.0417 - val_scale_loss: 0.0352 - val_shape_loss: 0.0076 - val_orientation_loss: 0.0159 - val_floor_accuracy: 1.0000 - val_wall_accuracy: 1.0000 - val_object_accuracy: 1.0000 - val_scale_accuracy: 1.0000 - val_shape_accuracy: 1.0000 - val_orientation_accuracy: 1.0000\n",
      "Epoch 84/200\n",
      "313/313 [==============================] - 10s 33ms/step - loss: 2.1765 - floor_loss: 0.2438 - wall_loss: 0.3841 - object_loss: 0.4370 - scale_loss: 0.4158 - shape_loss: 0.2436 - orientation_loss: 0.4523 - floor_accuracy: 0.9140 - wall_accuracy: 0.8676 - object_accuracy: 0.8411 - scale_accuracy: 0.8449 - shape_accuracy: 0.9107 - orientation_accuracy: 0.8453 - val_loss: 0.1241 - val_floor_loss: 0.0089 - val_wall_loss: 0.0149 - val_object_loss: 0.0429 - val_scale_loss: 0.0343 - val_shape_loss: 0.0068 - val_orientation_loss: 0.0164 - val_floor_accuracy: 1.0000 - val_wall_accuracy: 1.0000 - val_object_accuracy: 1.0000 - val_scale_accuracy: 1.0000 - val_shape_accuracy: 1.0000 - val_orientation_accuracy: 1.0000\n",
      "Epoch 85/200\n",
      "313/313 [==============================] - 10s 32ms/step - loss: 2.1519 - floor_loss: 0.2410 - wall_loss: 0.3781 - object_loss: 0.4250 - scale_loss: 0.4171 - shape_loss: 0.2389 - orientation_loss: 0.4518 - floor_accuracy: 0.9137 - wall_accuracy: 0.8680 - object_accuracy: 0.8464 - scale_accuracy: 0.8467 - shape_accuracy: 0.9111 - orientation_accuracy: 0.8452 - val_loss: 0.1232 - val_floor_loss: 0.0094 - val_wall_loss: 0.0150 - val_object_loss: 0.0430 - val_scale_loss: 0.0325 - val_shape_loss: 0.0072 - val_orientation_loss: 0.0162 - val_floor_accuracy: 1.0000 - val_wall_accuracy: 1.0000 - val_object_accuracy: 1.0000 - val_scale_accuracy: 1.0000 - val_shape_accuracy: 1.0000 - val_orientation_accuracy: 1.0000\n",
      "Epoch 86/200\n",
      "313/313 [==============================] - 10s 31ms/step - loss: 2.1401 - floor_loss: 0.2394 - wall_loss: 0.3808 - object_loss: 0.4310 - scale_loss: 0.4046 - shape_loss: 0.2403 - orientation_loss: 0.4440 - floor_accuracy: 0.9157 - wall_accuracy: 0.8695 - object_accuracy: 0.8450 - scale_accuracy: 0.8498 - shape_accuracy: 0.9111 - orientation_accuracy: 0.8490 - val_loss: 0.1186 - val_floor_loss: 0.0095 - val_wall_loss: 0.0143 - val_object_loss: 0.0401 - val_scale_loss: 0.0318 - val_shape_loss: 0.0074 - val_orientation_loss: 0.0155 - val_floor_accuracy: 1.0000 - val_wall_accuracy: 1.0000 - val_object_accuracy: 1.0000 - val_scale_accuracy: 1.0000 - val_shape_accuracy: 1.0000 - val_orientation_accuracy: 1.0000\n",
      "Epoch 87/200\n",
      "313/313 [==============================] - 9s 29ms/step - loss: 2.1224 - floor_loss: 0.2383 - wall_loss: 0.3712 - object_loss: 0.4222 - scale_loss: 0.4083 - shape_loss: 0.2381 - orientation_loss: 0.4443 - floor_accuracy: 0.9156 - wall_accuracy: 0.8717 - object_accuracy: 0.8494 - scale_accuracy: 0.8469 - shape_accuracy: 0.9140 - orientation_accuracy: 0.8515 - val_loss: 0.1110 - val_floor_loss: 0.0105 - val_wall_loss: 0.0131 - val_object_loss: 0.0361 - val_scale_loss: 0.0300 - val_shape_loss: 0.0070 - val_orientation_loss: 0.0144 - val_floor_accuracy: 1.0000 - val_wall_accuracy: 1.0000 - val_object_accuracy: 1.0000 - val_scale_accuracy: 1.0000 - val_shape_accuracy: 1.0000 - val_orientation_accuracy: 1.0000\n",
      "Epoch 88/200\n",
      "313/313 [==============================] - 9s 29ms/step - loss: 2.1198 - floor_loss: 0.2391 - wall_loss: 0.3810 - object_loss: 0.4182 - scale_loss: 0.4015 - shape_loss: 0.2385 - orientation_loss: 0.4415 - floor_accuracy: 0.9163 - wall_accuracy: 0.8693 - object_accuracy: 0.8497 - scale_accuracy: 0.8490 - shape_accuracy: 0.9132 - orientation_accuracy: 0.8497 - val_loss: 0.1116 - val_floor_loss: 0.0084 - val_wall_loss: 0.0141 - val_object_loss: 0.0382 - val_scale_loss: 0.0299 - val_shape_loss: 0.0064 - val_orientation_loss: 0.0146 - val_floor_accuracy: 1.0000 - val_wall_accuracy: 1.0000 - val_object_accuracy: 1.0000 - val_scale_accuracy: 1.0000 - val_shape_accuracy: 1.0000 - val_orientation_accuracy: 1.0000\n",
      "Epoch 89/200\n"
     ]
    },
    {
     "name": "stdout",
     "output_type": "stream",
     "text": [
      "313/313 [==============================] - 9s 29ms/step - loss: 2.1121 - floor_loss: 0.2367 - wall_loss: 0.3772 - object_loss: 0.4184 - scale_loss: 0.4005 - shape_loss: 0.2344 - orientation_loss: 0.4449 - floor_accuracy: 0.9179 - wall_accuracy: 0.8693 - object_accuracy: 0.8514 - scale_accuracy: 0.8511 - shape_accuracy: 0.9139 - orientation_accuracy: 0.8493 - val_loss: 0.1084 - val_floor_loss: 0.0093 - val_wall_loss: 0.0121 - val_object_loss: 0.0356 - val_scale_loss: 0.0307 - val_shape_loss: 0.0068 - val_orientation_loss: 0.0139 - val_floor_accuracy: 1.0000 - val_wall_accuracy: 1.0000 - val_object_accuracy: 1.0000 - val_scale_accuracy: 1.0000 - val_shape_accuracy: 1.0000 - val_orientation_accuracy: 1.0000\n",
      "Epoch 90/200\n",
      "313/313 [==============================] - 9s 30ms/step - loss: 2.0971 - floor_loss: 0.2352 - wall_loss: 0.3703 - object_loss: 0.4208 - scale_loss: 0.3913 - shape_loss: 0.2378 - orientation_loss: 0.4418 - floor_accuracy: 0.9172 - wall_accuracy: 0.8713 - object_accuracy: 0.8503 - scale_accuracy: 0.8558 - shape_accuracy: 0.9123 - orientation_accuracy: 0.8493 - val_loss: 0.1078 - val_floor_loss: 0.0093 - val_wall_loss: 0.0130 - val_object_loss: 0.0367 - val_scale_loss: 0.0291 - val_shape_loss: 0.0061 - val_orientation_loss: 0.0136 - val_floor_accuracy: 1.0000 - val_wall_accuracy: 1.0000 - val_object_accuracy: 1.0000 - val_scale_accuracy: 1.0000 - val_shape_accuracy: 1.0000 - val_orientation_accuracy: 1.0000\n",
      "Epoch 91/200\n",
      "313/313 [==============================] - 9s 30ms/step - loss: 2.0853 - floor_loss: 0.2361 - wall_loss: 0.3761 - object_loss: 0.4080 - scale_loss: 0.3943 - shape_loss: 0.2331 - orientation_loss: 0.4376 - floor_accuracy: 0.9180 - wall_accuracy: 0.8697 - object_accuracy: 0.8542 - scale_accuracy: 0.8539 - shape_accuracy: 0.9151 - orientation_accuracy: 0.8518 - val_loss: 0.1067 - val_floor_loss: 0.0086 - val_wall_loss: 0.0133 - val_object_loss: 0.0357 - val_scale_loss: 0.0284 - val_shape_loss: 0.0067 - val_orientation_loss: 0.0140 - val_floor_accuracy: 1.0000 - val_wall_accuracy: 1.0000 - val_object_accuracy: 1.0000 - val_scale_accuracy: 1.0000 - val_shape_accuracy: 1.0000 - val_orientation_accuracy: 1.0000\n",
      "Epoch 92/200\n",
      "313/313 [==============================] - 9s 29ms/step - loss: 2.0725 - floor_loss: 0.2356 - wall_loss: 0.3703 - object_loss: 0.4131 - scale_loss: 0.3866 - shape_loss: 0.2350 - orientation_loss: 0.4319 - floor_accuracy: 0.9189 - wall_accuracy: 0.8739 - object_accuracy: 0.8529 - scale_accuracy: 0.8549 - shape_accuracy: 0.9158 - orientation_accuracy: 0.8537 - val_loss: 0.1067 - val_floor_loss: 0.0099 - val_wall_loss: 0.0135 - val_object_loss: 0.0352 - val_scale_loss: 0.0280 - val_shape_loss: 0.0069 - val_orientation_loss: 0.0133 - val_floor_accuracy: 1.0000 - val_wall_accuracy: 1.0000 - val_object_accuracy: 1.0000 - val_scale_accuracy: 1.0000 - val_shape_accuracy: 1.0000 - val_orientation_accuracy: 1.0000\n",
      "Epoch 93/200\n",
      "313/313 [==============================] - 9s 30ms/step - loss: 2.0583 - floor_loss: 0.2299 - wall_loss: 0.3693 - object_loss: 0.4078 - scale_loss: 0.3940 - shape_loss: 0.2284 - orientation_loss: 0.4289 - floor_accuracy: 0.9209 - wall_accuracy: 0.8707 - object_accuracy: 0.8562 - scale_accuracy: 0.8559 - shape_accuracy: 0.9165 - orientation_accuracy: 0.8534 - val_loss: 0.0990 - val_floor_loss: 0.0090 - val_wall_loss: 0.0118 - val_object_loss: 0.0325 - val_scale_loss: 0.0272 - val_shape_loss: 0.0062 - val_orientation_loss: 0.0122 - val_floor_accuracy: 1.0000 - val_wall_accuracy: 1.0000 - val_object_accuracy: 1.0000 - val_scale_accuracy: 1.0000 - val_shape_accuracy: 1.0000 - val_orientation_accuracy: 1.0000\n",
      "Epoch 94/200\n",
      "313/313 [==============================] - 9s 30ms/step - loss: 2.0526 - floor_loss: 0.2312 - wall_loss: 0.3646 - object_loss: 0.4014 - scale_loss: 0.3886 - shape_loss: 0.2349 - orientation_loss: 0.4320 - floor_accuracy: 0.9202 - wall_accuracy: 0.8731 - object_accuracy: 0.8599 - scale_accuracy: 0.8551 - shape_accuracy: 0.9155 - orientation_accuracy: 0.8543 - val_loss: 0.1071 - val_floor_loss: 0.0126 - val_wall_loss: 0.0126 - val_object_loss: 0.0346 - val_scale_loss: 0.0278 - val_shape_loss: 0.0066 - val_orientation_loss: 0.0130 - val_floor_accuracy: 1.0000 - val_wall_accuracy: 1.0000 - val_object_accuracy: 1.0000 - val_scale_accuracy: 1.0000 - val_shape_accuracy: 1.0000 - val_orientation_accuracy: 1.0000\n",
      "Epoch 95/200\n",
      "313/313 [==============================] - 10s 31ms/step - loss: 2.0366 - floor_loss: 0.2301 - wall_loss: 0.3632 - object_loss: 0.4040 - scale_loss: 0.3851 - shape_loss: 0.2292 - orientation_loss: 0.4251 - floor_accuracy: 0.9198 - wall_accuracy: 0.8734 - object_accuracy: 0.8567 - scale_accuracy: 0.8584 - shape_accuracy: 0.9169 - orientation_accuracy: 0.8546 - val_loss: 0.1001 - val_floor_loss: 0.0088 - val_wall_loss: 0.0118 - val_object_loss: 0.0326 - val_scale_loss: 0.0272 - val_shape_loss: 0.0066 - val_orientation_loss: 0.0131 - val_floor_accuracy: 1.0000 - val_wall_accuracy: 1.0000 - val_object_accuracy: 1.0000 - val_scale_accuracy: 1.0000 - val_shape_accuracy: 1.0000 - val_orientation_accuracy: 1.0000\n",
      "Epoch 96/200\n",
      "313/313 [==============================] - 10s 31ms/step - loss: 2.0265 - floor_loss: 0.2302 - wall_loss: 0.3655 - object_loss: 0.3961 - scale_loss: 0.3822 - shape_loss: 0.2278 - orientation_loss: 0.4247 - floor_accuracy: 0.9198 - wall_accuracy: 0.8743 - object_accuracy: 0.8611 - scale_accuracy: 0.8597 - shape_accuracy: 0.9182 - orientation_accuracy: 0.8551 - val_loss: 0.0954 - val_floor_loss: 0.0094 - val_wall_loss: 0.0110 - val_object_loss: 0.0327 - val_scale_loss: 0.0253 - val_shape_loss: 0.0060 - val_orientation_loss: 0.0110 - val_floor_accuracy: 1.0000 - val_wall_accuracy: 1.0000 - val_object_accuracy: 1.0000 - val_scale_accuracy: 1.0000 - val_shape_accuracy: 1.0000 - val_orientation_accuracy: 1.0000\n",
      "Epoch 97/200\n",
      "313/313 [==============================] - 11s 34ms/step - loss: 2.0036 - floor_loss: 0.2290 - wall_loss: 0.3552 - object_loss: 0.3903 - scale_loss: 0.3796 - shape_loss: 0.2275 - orientation_loss: 0.4219 - floor_accuracy: 0.9212 - wall_accuracy: 0.8773 - object_accuracy: 0.8615 - scale_accuracy: 0.8587 - shape_accuracy: 0.9178 - orientation_accuracy: 0.8547 - val_loss: 0.0919 - val_floor_loss: 0.0097 - val_wall_loss: 0.0108 - val_object_loss: 0.0301 - val_scale_loss: 0.0253 - val_shape_loss: 0.0057 - val_orientation_loss: 0.0103 - val_floor_accuracy: 1.0000 - val_wall_accuracy: 1.0000 - val_object_accuracy: 1.0000 - val_scale_accuracy: 1.0000 - val_shape_accuracy: 1.0000 - val_orientation_accuracy: 1.0000\n",
      "Epoch 98/200\n",
      "313/313 [==============================] - 10s 33ms/step - loss: 1.9823 - floor_loss: 0.2265 - wall_loss: 0.3555 - object_loss: 0.3918 - scale_loss: 0.3735 - shape_loss: 0.2249 - orientation_loss: 0.4101 - floor_accuracy: 0.9217 - wall_accuracy: 0.8771 - object_accuracy: 0.8612 - scale_accuracy: 0.8608 - shape_accuracy: 0.9169 - orientation_accuracy: 0.8605 - val_loss: 0.0874 - val_floor_loss: 0.0094 - val_wall_loss: 0.0107 - val_object_loss: 0.0279 - val_scale_loss: 0.0239 - val_shape_loss: 0.0055 - val_orientation_loss: 0.0100 - val_floor_accuracy: 1.0000 - val_wall_accuracy: 1.0000 - val_object_accuracy: 1.0000 - val_scale_accuracy: 1.0000 - val_shape_accuracy: 1.0000 - val_orientation_accuracy: 1.0000\n",
      "Epoch 99/200\n",
      "313/313 [==============================] - 10s 33ms/step - loss: 1.9979 - floor_loss: 0.2235 - wall_loss: 0.3534 - object_loss: 0.4000 - scale_loss: 0.3778 - shape_loss: 0.2215 - orientation_loss: 0.4217 - floor_accuracy: 0.9220 - wall_accuracy: 0.8759 - object_accuracy: 0.8606 - scale_accuracy: 0.8612 - shape_accuracy: 0.9194 - orientation_accuracy: 0.8591 - val_loss: 0.0942 - val_floor_loss: 0.0111 - val_wall_loss: 0.0114 - val_object_loss: 0.0317 - val_scale_loss: 0.0234 - val_shape_loss: 0.0060 - val_orientation_loss: 0.0106 - val_floor_accuracy: 1.0000 - val_wall_accuracy: 1.0000 - val_object_accuracy: 1.0000 - val_scale_accuracy: 1.0000 - val_shape_accuracy: 1.0000 - val_orientation_accuracy: 1.0000\n",
      "Epoch 100/200\n",
      "313/313 [==============================] - 10s 31ms/step - loss: 1.9674 - floor_loss: 0.2230 - wall_loss: 0.3526 - object_loss: 0.3835 - scale_loss: 0.3735 - shape_loss: 0.2254 - orientation_loss: 0.4094 - floor_accuracy: 0.9229 - wall_accuracy: 0.8767 - object_accuracy: 0.8652 - scale_accuracy: 0.8618 - shape_accuracy: 0.9197 - orientation_accuracy: 0.8617 - val_loss: 0.0875 - val_floor_loss: 0.0092 - val_wall_loss: 0.0104 - val_object_loss: 0.0278 - val_scale_loss: 0.0233 - val_shape_loss: 0.0056 - val_orientation_loss: 0.0112 - val_floor_accuracy: 1.0000 - val_wall_accuracy: 1.0000 - val_object_accuracy: 1.0000 - val_scale_accuracy: 1.0000 - val_shape_accuracy: 1.0000 - val_orientation_accuracy: 1.0000\n",
      "Epoch 101/200\n",
      "313/313 [==============================] - 10s 31ms/step - loss: 1.9546 - floor_loss: 0.2212 - wall_loss: 0.3530 - object_loss: 0.3834 - scale_loss: 0.3682 - shape_loss: 0.2199 - orientation_loss: 0.4089 - floor_accuracy: 0.9253 - wall_accuracy: 0.8794 - object_accuracy: 0.8655 - scale_accuracy: 0.8640 - shape_accuracy: 0.9202 - orientation_accuracy: 0.8616 - val_loss: 0.0884 - val_floor_loss: 0.0103 - val_wall_loss: 0.0111 - val_object_loss: 0.0286 - val_scale_loss: 0.0223 - val_shape_loss: 0.0061 - val_orientation_loss: 0.0100 - val_floor_accuracy: 1.0000 - val_wall_accuracy: 1.0000 - val_object_accuracy: 1.0000 - val_scale_accuracy: 1.0000 - val_shape_accuracy: 1.0000 - val_orientation_accuracy: 1.0000\n",
      "Epoch 102/200\n",
      "313/313 [==============================] - 9s 30ms/step - loss: 1.9586 - floor_loss: 0.2246 - wall_loss: 0.3480 - object_loss: 0.3791 - scale_loss: 0.3710 - shape_loss: 0.2237 - orientation_loss: 0.4121 - floor_accuracy: 0.9230 - wall_accuracy: 0.8809 - object_accuracy: 0.8658 - scale_accuracy: 0.8623 - shape_accuracy: 0.9183 - orientation_accuracy: 0.8593 - val_loss: 0.0902 - val_floor_loss: 0.0101 - val_wall_loss: 0.0114 - val_object_loss: 0.0296 - val_scale_loss: 0.0238 - val_shape_loss: 0.0056 - val_orientation_loss: 0.0097 - val_floor_accuracy: 1.0000 - val_wall_accuracy: 1.0000 - val_object_accuracy: 1.0000 - val_scale_accuracy: 1.0000 - val_shape_accuracy: 1.0000 - val_orientation_accuracy: 1.0000\n",
      "Epoch 103/200\n",
      "313/313 [==============================] - 10s 32ms/step - loss: 1.9486 - floor_loss: 0.2210 - wall_loss: 0.3525 - object_loss: 0.3830 - scale_loss: 0.3705 - shape_loss: 0.2193 - orientation_loss: 0.4023 - floor_accuracy: 0.9228 - wall_accuracy: 0.8780 - object_accuracy: 0.8656 - scale_accuracy: 0.8637 - shape_accuracy: 0.9206 - orientation_accuracy: 0.8602 - val_loss: 0.0868 - val_floor_loss: 0.0115 - val_wall_loss: 0.0097 - val_object_loss: 0.0283 - val_scale_loss: 0.0223 - val_shape_loss: 0.0057 - val_orientation_loss: 0.0095 - val_floor_accuracy: 1.0000 - val_wall_accuracy: 0.9998 - val_object_accuracy: 1.0000 - val_scale_accuracy: 1.0000 - val_shape_accuracy: 1.0000 - val_orientation_accuracy: 1.0000\n",
      "Epoch 104/200\n",
      "313/313 [==============================] - 10s 31ms/step - loss: 1.9439 - floor_loss: 0.2252 - wall_loss: 0.3485 - object_loss: 0.3838 - scale_loss: 0.3643 - shape_loss: 0.2161 - orientation_loss: 0.4060 - floor_accuracy: 0.9222 - wall_accuracy: 0.8790 - object_accuracy: 0.8657 - scale_accuracy: 0.8645 - shape_accuracy: 0.9219 - orientation_accuracy: 0.8605 - val_loss: 0.0891 - val_floor_loss: 0.0116 - val_wall_loss: 0.0119 - val_object_loss: 0.0289 - val_scale_loss: 0.0217 - val_shape_loss: 0.0054 - val_orientation_loss: 0.0098 - val_floor_accuracy: 1.0000 - val_wall_accuracy: 1.0000 - val_object_accuracy: 1.0000 - val_scale_accuracy: 1.0000 - val_shape_accuracy: 1.0000 - val_orientation_accuracy: 1.0000\n",
      "Epoch 105/200\n",
      "313/313 [==============================] - 10s 32ms/step - loss: 1.9325 - floor_loss: 0.2225 - wall_loss: 0.3491 - object_loss: 0.3753 - scale_loss: 0.3611 - shape_loss: 0.2175 - orientation_loss: 0.4071 - floor_accuracy: 0.9239 - wall_accuracy: 0.8801 - object_accuracy: 0.8675 - scale_accuracy: 0.8666 - shape_accuracy: 0.9219 - orientation_accuracy: 0.8620 - val_loss: 0.0804 - val_floor_loss: 0.0081 - val_wall_loss: 0.0099 - val_object_loss: 0.0282 - val_scale_loss: 0.0204 - val_shape_loss: 0.0051 - val_orientation_loss: 0.0087 - val_floor_accuracy: 1.0000 - val_wall_accuracy: 1.0000 - val_object_accuracy: 1.0000 - val_scale_accuracy: 1.0000 - val_shape_accuracy: 1.0000 - val_orientation_accuracy: 1.0000\n",
      "Epoch 106/200\n",
      "313/313 [==============================] - 10s 32ms/step - loss: 1.9105 - floor_loss: 0.2191 - wall_loss: 0.3415 - object_loss: 0.3702 - scale_loss: 0.3627 - shape_loss: 0.2188 - orientation_loss: 0.3982 - floor_accuracy: 0.9257 - wall_accuracy: 0.8821 - object_accuracy: 0.8702 - scale_accuracy: 0.8680 - shape_accuracy: 0.9201 - orientation_accuracy: 0.8659 - val_loss: 0.0775 - val_floor_loss: 0.0102 - val_wall_loss: 0.0099 - val_object_loss: 0.0242 - val_scale_loss: 0.0201 - val_shape_loss: 0.0051 - val_orientation_loss: 0.0080 - val_floor_accuracy: 1.0000 - val_wall_accuracy: 1.0000 - val_object_accuracy: 1.0000 - val_scale_accuracy: 1.0000 - val_shape_accuracy: 1.0000 - val_orientation_accuracy: 1.0000\n",
      "Epoch 107/200\n",
      "313/313 [==============================] - 10s 32ms/step - loss: 1.8931 - floor_loss: 0.2206 - wall_loss: 0.3390 - object_loss: 0.3644 - scale_loss: 0.3556 - shape_loss: 0.2133 - orientation_loss: 0.4001 - floor_accuracy: 0.9245 - wall_accuracy: 0.8825 - object_accuracy: 0.8724 - scale_accuracy: 0.8691 - shape_accuracy: 0.9212 - orientation_accuracy: 0.8647 - val_loss: 0.0788 - val_floor_loss: 0.0107 - val_wall_loss: 0.0093 - val_object_loss: 0.0253 - val_scale_loss: 0.0199 - val_shape_loss: 0.0054 - val_orientation_loss: 0.0081 - val_floor_accuracy: 1.0000 - val_wall_accuracy: 1.0000 - val_object_accuracy: 1.0000 - val_scale_accuracy: 1.0000 - val_shape_accuracy: 1.0000 - val_orientation_accuracy: 1.0000\n",
      "Epoch 108/200\n",
      "313/313 [==============================] - 9s 30ms/step - loss: 1.8837 - floor_loss: 0.2145 - wall_loss: 0.3366 - object_loss: 0.3616 - scale_loss: 0.3569 - shape_loss: 0.2161 - orientation_loss: 0.3980 - floor_accuracy: 0.9286 - wall_accuracy: 0.8828 - object_accuracy: 0.8730 - scale_accuracy: 0.8679 - shape_accuracy: 0.9207 - orientation_accuracy: 0.8655 - val_loss: 0.0784 - val_floor_loss: 0.0118 - val_wall_loss: 0.0100 - val_object_loss: 0.0244 - val_scale_loss: 0.0192 - val_shape_loss: 0.0054 - val_orientation_loss: 0.0075 - val_floor_accuracy: 1.0000 - val_wall_accuracy: 1.0000 - val_object_accuracy: 1.0000 - val_scale_accuracy: 1.0000 - val_shape_accuracy: 1.0000 - val_orientation_accuracy: 1.0000\n",
      "Epoch 109/200\n",
      "313/313 [==============================] - 10s 31ms/step - loss: 1.8893 - floor_loss: 0.2173 - wall_loss: 0.3397 - object_loss: 0.3704 - scale_loss: 0.3573 - shape_loss: 0.2149 - orientation_loss: 0.3897 - floor_accuracy: 0.9266 - wall_accuracy: 0.8826 - object_accuracy: 0.8712 - scale_accuracy: 0.8695 - shape_accuracy: 0.9226 - orientation_accuracy: 0.8675 - val_loss: 0.0869 - val_floor_loss: 0.0128 - val_wall_loss: 0.0116 - val_object_loss: 0.0284 - val_scale_loss: 0.0208 - val_shape_loss: 0.0053 - val_orientation_loss: 0.0080 - val_floor_accuracy: 1.0000 - val_wall_accuracy: 1.0000 - val_object_accuracy: 1.0000 - val_scale_accuracy: 1.0000 - val_shape_accuracy: 1.0000 - val_orientation_accuracy: 1.0000\n",
      "Epoch 110/200\n",
      "313/313 [==============================] - 10s 30ms/step - loss: 1.8839 - floor_loss: 0.2248 - wall_loss: 0.3387 - object_loss: 0.3656 - scale_loss: 0.3539 - shape_loss: 0.2129 - orientation_loss: 0.3879 - floor_accuracy: 0.9255 - wall_accuracy: 0.8842 - object_accuracy: 0.8737 - scale_accuracy: 0.8690 - shape_accuracy: 0.9215 - orientation_accuracy: 0.8686 - val_loss: 0.0755 - val_floor_loss: 0.0092 - val_wall_loss: 0.0101 - val_object_loss: 0.0252 - val_scale_loss: 0.0187 - val_shape_loss: 0.0047 - val_orientation_loss: 0.0077 - val_floor_accuracy: 1.0000 - val_wall_accuracy: 1.0000 - val_object_accuracy: 1.0000 - val_scale_accuracy: 1.0000 - val_shape_accuracy: 1.0000 - val_orientation_accuracy: 1.0000\n",
      "Epoch 111/200\n"
     ]
    },
    {
     "name": "stdout",
     "output_type": "stream",
     "text": [
      "313/313 [==============================] - 10s 31ms/step - loss: 1.8356 - floor_loss: 0.2131 - wall_loss: 0.3286 - object_loss: 0.3594 - scale_loss: 0.3428 - shape_loss: 0.2068 - orientation_loss: 0.3848 - floor_accuracy: 0.9286 - wall_accuracy: 0.8854 - object_accuracy: 0.8748 - scale_accuracy: 0.8753 - shape_accuracy: 0.9250 - orientation_accuracy: 0.8690 - val_loss: 0.0787 - val_floor_loss: 0.0114 - val_wall_loss: 0.0101 - val_object_loss: 0.0239 - val_scale_loss: 0.0202 - val_shape_loss: 0.0052 - val_orientation_loss: 0.0079 - val_floor_accuracy: 1.0000 - val_wall_accuracy: 1.0000 - val_object_accuracy: 1.0000 - val_scale_accuracy: 1.0000 - val_shape_accuracy: 1.0000 - val_orientation_accuracy: 1.0000\n",
      "Epoch 112/200\n",
      "313/313 [==============================] - 9s 30ms/step - loss: 1.8563 - floor_loss: 0.2163 - wall_loss: 0.3319 - object_loss: 0.3570 - scale_loss: 0.3478 - shape_loss: 0.2119 - orientation_loss: 0.3914 - floor_accuracy: 0.9273 - wall_accuracy: 0.8857 - object_accuracy: 0.8746 - scale_accuracy: 0.8729 - shape_accuracy: 0.9218 - orientation_accuracy: 0.8670 - val_loss: 0.0726 - val_floor_loss: 0.0096 - val_wall_loss: 0.0088 - val_object_loss: 0.0219 - val_scale_loss: 0.0196 - val_shape_loss: 0.0051 - val_orientation_loss: 0.0075 - val_floor_accuracy: 1.0000 - val_wall_accuracy: 0.9998 - val_object_accuracy: 1.0000 - val_scale_accuracy: 1.0000 - val_shape_accuracy: 1.0000 - val_orientation_accuracy: 1.0000\n",
      "Epoch 113/200\n",
      "313/313 [==============================] - 9s 30ms/step - loss: 1.8341 - floor_loss: 0.2159 - wall_loss: 0.3328 - object_loss: 0.3501 - scale_loss: 0.3475 - shape_loss: 0.2090 - orientation_loss: 0.3788 - floor_accuracy: 0.9269 - wall_accuracy: 0.8838 - object_accuracy: 0.8780 - scale_accuracy: 0.8723 - shape_accuracy: 0.9249 - orientation_accuracy: 0.8715 - val_loss: 0.0700 - val_floor_loss: 0.0102 - val_wall_loss: 0.0090 - val_object_loss: 0.0202 - val_scale_loss: 0.0188 - val_shape_loss: 0.0047 - val_orientation_loss: 0.0070 - val_floor_accuracy: 1.0000 - val_wall_accuracy: 1.0000 - val_object_accuracy: 1.0000 - val_scale_accuracy: 1.0000 - val_shape_accuracy: 1.0000 - val_orientation_accuracy: 1.0000\n",
      "Epoch 114/200\n",
      "313/313 [==============================] - 10s 31ms/step - loss: 1.8414 - floor_loss: 0.2107 - wall_loss: 0.3296 - object_loss: 0.3568 - scale_loss: 0.3454 - shape_loss: 0.2134 - orientation_loss: 0.3854 - floor_accuracy: 0.9285 - wall_accuracy: 0.8841 - object_accuracy: 0.8760 - scale_accuracy: 0.8722 - shape_accuracy: 0.9220 - orientation_accuracy: 0.8691 - val_loss: 0.0760 - val_floor_loss: 0.0122 - val_wall_loss: 0.0089 - val_object_loss: 0.0238 - val_scale_loss: 0.0183 - val_shape_loss: 0.0056 - val_orientation_loss: 0.0072 - val_floor_accuracy: 1.0000 - val_wall_accuracy: 1.0000 - val_object_accuracy: 1.0000 - val_scale_accuracy: 1.0000 - val_shape_accuracy: 1.0000 - val_orientation_accuracy: 1.0000\n",
      "Epoch 115/200\n",
      "313/313 [==============================] - 10s 31ms/step - loss: 1.8141 - floor_loss: 0.2158 - wall_loss: 0.3246 - object_loss: 0.3496 - scale_loss: 0.3391 - shape_loss: 0.2071 - orientation_loss: 0.3778 - floor_accuracy: 0.9286 - wall_accuracy: 0.8889 - object_accuracy: 0.8786 - scale_accuracy: 0.8750 - shape_accuracy: 0.9237 - orientation_accuracy: 0.8712 - val_loss: 0.0690 - val_floor_loss: 0.0097 - val_wall_loss: 0.0085 - val_object_loss: 0.0207 - val_scale_loss: 0.0187 - val_shape_loss: 0.0047 - val_orientation_loss: 0.0068 - val_floor_accuracy: 1.0000 - val_wall_accuracy: 1.0000 - val_object_accuracy: 1.0000 - val_scale_accuracy: 1.0000 - val_shape_accuracy: 1.0000 - val_orientation_accuracy: 1.0000\n",
      "Epoch 116/200\n",
      "313/313 [==============================] - 9s 30ms/step - loss: 1.8042 - floor_loss: 0.2122 - wall_loss: 0.3249 - object_loss: 0.3447 - scale_loss: 0.3386 - shape_loss: 0.2090 - orientation_loss: 0.3748 - floor_accuracy: 0.9286 - wall_accuracy: 0.8863 - object_accuracy: 0.8786 - scale_accuracy: 0.8751 - shape_accuracy: 0.9238 - orientation_accuracy: 0.8725 - val_loss: 0.0720 - val_floor_loss: 0.0103 - val_wall_loss: 0.0094 - val_object_loss: 0.0232 - val_scale_loss: 0.0178 - val_shape_loss: 0.0045 - val_orientation_loss: 0.0069 - val_floor_accuracy: 1.0000 - val_wall_accuracy: 1.0000 - val_object_accuracy: 1.0000 - val_scale_accuracy: 1.0000 - val_shape_accuracy: 1.0000 - val_orientation_accuracy: 1.0000\n",
      "Epoch 117/200\n",
      "313/313 [==============================] - 10s 31ms/step - loss: 1.7947 - floor_loss: 0.2125 - wall_loss: 0.3217 - object_loss: 0.3443 - scale_loss: 0.3352 - shape_loss: 0.2056 - orientation_loss: 0.3753 - floor_accuracy: 0.9308 - wall_accuracy: 0.8893 - object_accuracy: 0.8789 - scale_accuracy: 0.8765 - shape_accuracy: 0.9255 - orientation_accuracy: 0.8740 - val_loss: 0.0686 - val_floor_loss: 0.0115 - val_wall_loss: 0.0088 - val_object_loss: 0.0215 - val_scale_loss: 0.0160 - val_shape_loss: 0.0045 - val_orientation_loss: 0.0064 - val_floor_accuracy: 1.0000 - val_wall_accuracy: 1.0000 - val_object_accuracy: 1.0000 - val_scale_accuracy: 1.0000 - val_shape_accuracy: 1.0000 - val_orientation_accuracy: 1.0000\n",
      "Epoch 118/200\n",
      "313/313 [==============================] - 10s 32ms/step - loss: 1.7874 - floor_loss: 0.2053 - wall_loss: 0.3262 - object_loss: 0.3372 - scale_loss: 0.3381 - shape_loss: 0.2048 - orientation_loss: 0.3758 - floor_accuracy: 0.9306 - wall_accuracy: 0.8863 - object_accuracy: 0.8824 - scale_accuracy: 0.8758 - shape_accuracy: 0.9255 - orientation_accuracy: 0.8733 - val_loss: 0.0715 - val_floor_loss: 0.0124 - val_wall_loss: 0.0089 - val_object_loss: 0.0220 - val_scale_loss: 0.0170 - val_shape_loss: 0.0045 - val_orientation_loss: 0.0068 - val_floor_accuracy: 1.0000 - val_wall_accuracy: 1.0000 - val_object_accuracy: 1.0000 - val_scale_accuracy: 1.0000 - val_shape_accuracy: 1.0000 - val_orientation_accuracy: 1.0000\n",
      "Epoch 119/200\n",
      "313/313 [==============================] - 10s 31ms/step - loss: 1.7759 - floor_loss: 0.2105 - wall_loss: 0.3149 - object_loss: 0.3434 - scale_loss: 0.3335 - shape_loss: 0.2048 - orientation_loss: 0.3688 - floor_accuracy: 0.9298 - wall_accuracy: 0.8906 - object_accuracy: 0.8814 - scale_accuracy: 0.8773 - shape_accuracy: 0.9261 - orientation_accuracy: 0.8748 - val_loss: 0.0674 - val_floor_loss: 0.0104 - val_wall_loss: 0.0089 - val_object_loss: 0.0206 - val_scale_loss: 0.0167 - val_shape_loss: 0.0047 - val_orientation_loss: 0.0062 - val_floor_accuracy: 1.0000 - val_wall_accuracy: 0.9998 - val_object_accuracy: 1.0000 - val_scale_accuracy: 1.0000 - val_shape_accuracy: 1.0000 - val_orientation_accuracy: 1.0000\n",
      "Epoch 120/200\n",
      "313/313 [==============================] - 10s 31ms/step - loss: 1.7700 - floor_loss: 0.2080 - wall_loss: 0.3222 - object_loss: 0.3396 - scale_loss: 0.3303 - shape_loss: 0.1991 - orientation_loss: 0.3707 - floor_accuracy: 0.9315 - wall_accuracy: 0.8882 - object_accuracy: 0.8806 - scale_accuracy: 0.8795 - shape_accuracy: 0.9281 - orientation_accuracy: 0.8753 - val_loss: 0.0667 - val_floor_loss: 0.0110 - val_wall_loss: 0.0090 - val_object_loss: 0.0207 - val_scale_loss: 0.0156 - val_shape_loss: 0.0043 - val_orientation_loss: 0.0061 - val_floor_accuracy: 1.0000 - val_wall_accuracy: 0.9998 - val_object_accuracy: 1.0000 - val_scale_accuracy: 1.0000 - val_shape_accuracy: 1.0000 - val_orientation_accuracy: 1.0000\n",
      "Epoch 121/200\n",
      "313/313 [==============================] - 9s 29ms/step - loss: 1.7536 - floor_loss: 0.2021 - wall_loss: 0.3191 - object_loss: 0.3367 - scale_loss: 0.3324 - shape_loss: 0.1988 - orientation_loss: 0.3645 - floor_accuracy: 0.9330 - wall_accuracy: 0.8892 - object_accuracy: 0.8834 - scale_accuracy: 0.8778 - shape_accuracy: 0.9276 - orientation_accuracy: 0.8743 - val_loss: 0.0671 - val_floor_loss: 0.0109 - val_wall_loss: 0.0091 - val_object_loss: 0.0205 - val_scale_loss: 0.0154 - val_shape_loss: 0.0055 - val_orientation_loss: 0.0057 - val_floor_accuracy: 1.0000 - val_wall_accuracy: 1.0000 - val_object_accuracy: 1.0000 - val_scale_accuracy: 1.0000 - val_shape_accuracy: 1.0000 - val_orientation_accuracy: 1.0000\n",
      "Epoch 122/200\n",
      "313/313 [==============================] - 9s 28ms/step - loss: 1.7375 - floor_loss: 0.1979 - wall_loss: 0.3096 - object_loss: 0.3344 - scale_loss: 0.3291 - shape_loss: 0.2043 - orientation_loss: 0.3622 - floor_accuracy: 0.9341 - wall_accuracy: 0.8931 - object_accuracy: 0.8827 - scale_accuracy: 0.8789 - shape_accuracy: 0.9262 - orientation_accuracy: 0.8768 - val_loss: 0.0634 - val_floor_loss: 0.0112 - val_wall_loss: 0.0076 - val_object_loss: 0.0197 - val_scale_loss: 0.0147 - val_shape_loss: 0.0045 - val_orientation_loss: 0.0056 - val_floor_accuracy: 1.0000 - val_wall_accuracy: 1.0000 - val_object_accuracy: 1.0000 - val_scale_accuracy: 1.0000 - val_shape_accuracy: 1.0000 - val_orientation_accuracy: 1.0000\n",
      "Epoch 123/200\n",
      "313/313 [==============================] - 8s 27ms/step - loss: 1.7483 - floor_loss: 0.2007 - wall_loss: 0.3178 - object_loss: 0.3371 - scale_loss: 0.3305 - shape_loss: 0.1971 - orientation_loss: 0.3651 - floor_accuracy: 0.9343 - wall_accuracy: 0.8909 - object_accuracy: 0.8838 - scale_accuracy: 0.8783 - shape_accuracy: 0.9285 - orientation_accuracy: 0.8743 - val_loss: 0.0617 - val_floor_loss: 0.0102 - val_wall_loss: 0.0075 - val_object_loss: 0.0191 - val_scale_loss: 0.0146 - val_shape_loss: 0.0044 - val_orientation_loss: 0.0058 - val_floor_accuracy: 1.0000 - val_wall_accuracy: 1.0000 - val_object_accuracy: 1.0000 - val_scale_accuracy: 1.0000 - val_shape_accuracy: 1.0000 - val_orientation_accuracy: 1.0000\n",
      "Epoch 124/200\n",
      "313/313 [==============================] - 9s 30ms/step - loss: 1.7135 - floor_loss: 0.1999 - wall_loss: 0.3075 - object_loss: 0.3336 - scale_loss: 0.3213 - shape_loss: 0.1958 - orientation_loss: 0.3553 - floor_accuracy: 0.9345 - wall_accuracy: 0.8946 - object_accuracy: 0.8835 - scale_accuracy: 0.8836 - shape_accuracy: 0.9281 - orientation_accuracy: 0.8796 - val_loss: 0.0644 - val_floor_loss: 0.0125 - val_wall_loss: 0.0077 - val_object_loss: 0.0188 - val_scale_loss: 0.0152 - val_shape_loss: 0.0043 - val_orientation_loss: 0.0059 - val_floor_accuracy: 1.0000 - val_wall_accuracy: 0.9998 - val_object_accuracy: 1.0000 - val_scale_accuracy: 1.0000 - val_shape_accuracy: 1.0000 - val_orientation_accuracy: 1.0000\n",
      "Epoch 125/200\n",
      "313/313 [==============================] - 9s 30ms/step - loss: 1.7198 - floor_loss: 0.1960 - wall_loss: 0.3080 - object_loss: 0.3310 - scale_loss: 0.3261 - shape_loss: 0.1970 - orientation_loss: 0.3617 - floor_accuracy: 0.9356 - wall_accuracy: 0.8946 - object_accuracy: 0.8860 - scale_accuracy: 0.8793 - shape_accuracy: 0.9288 - orientation_accuracy: 0.8767 - val_loss: 0.0640 - val_floor_loss: 0.0101 - val_wall_loss: 0.0086 - val_object_loss: 0.0197 - val_scale_loss: 0.0154 - val_shape_loss: 0.0044 - val_orientation_loss: 0.0058 - val_floor_accuracy: 1.0000 - val_wall_accuracy: 0.9998 - val_object_accuracy: 1.0000 - val_scale_accuracy: 1.0000 - val_shape_accuracy: 1.0000 - val_orientation_accuracy: 1.0000\n",
      "Epoch 126/200\n",
      "313/313 [==============================] - 9s 29ms/step - loss: 1.7215 - floor_loss: 0.2035 - wall_loss: 0.3083 - object_loss: 0.3316 - scale_loss: 0.3234 - shape_loss: 0.1966 - orientation_loss: 0.3580 - floor_accuracy: 0.9322 - wall_accuracy: 0.8940 - object_accuracy: 0.8856 - scale_accuracy: 0.8804 - shape_accuracy: 0.9297 - orientation_accuracy: 0.8761 - val_loss: 0.0631 - val_floor_loss: 0.0111 - val_wall_loss: 0.0078 - val_object_loss: 0.0189 - val_scale_loss: 0.0155 - val_shape_loss: 0.0043 - val_orientation_loss: 0.0055 - val_floor_accuracy: 1.0000 - val_wall_accuracy: 1.0000 - val_object_accuracy: 1.0000 - val_scale_accuracy: 1.0000 - val_shape_accuracy: 1.0000 - val_orientation_accuracy: 1.0000\n",
      "Epoch 127/200\n",
      "313/313 [==============================] - 10s 31ms/step - loss: 1.6826 - floor_loss: 0.1982 - wall_loss: 0.3087 - object_loss: 0.3178 - scale_loss: 0.3179 - shape_loss: 0.1878 - orientation_loss: 0.3522 - floor_accuracy: 0.9351 - wall_accuracy: 0.8937 - object_accuracy: 0.8903 - scale_accuracy: 0.8841 - shape_accuracy: 0.9324 - orientation_accuracy: 0.8799 - val_loss: 0.0578 - val_floor_loss: 0.0096 - val_wall_loss: 0.0064 - val_object_loss: 0.0188 - val_scale_loss: 0.0139 - val_shape_loss: 0.0040 - val_orientation_loss: 0.0050 - val_floor_accuracy: 1.0000 - val_wall_accuracy: 1.0000 - val_object_accuracy: 1.0000 - val_scale_accuracy: 1.0000 - val_shape_accuracy: 1.0000 - val_orientation_accuracy: 1.0000\n",
      "Epoch 128/200\n",
      "313/313 [==============================] - 10s 30ms/step - loss: 1.6959 - floor_loss: 0.2014 - wall_loss: 0.3028 - object_loss: 0.3230 - scale_loss: 0.3200 - shape_loss: 0.1929 - orientation_loss: 0.3558 - floor_accuracy: 0.9350 - wall_accuracy: 0.8964 - object_accuracy: 0.8891 - scale_accuracy: 0.8834 - shape_accuracy: 0.9305 - orientation_accuracy: 0.8795 - val_loss: 0.0676 - val_floor_loss: 0.0135 - val_wall_loss: 0.0081 - val_object_loss: 0.0224 - val_scale_loss: 0.0143 - val_shape_loss: 0.0044 - val_orientation_loss: 0.0049 - val_floor_accuracy: 1.0000 - val_wall_accuracy: 1.0000 - val_object_accuracy: 1.0000 - val_scale_accuracy: 1.0000 - val_shape_accuracy: 1.0000 - val_orientation_accuracy: 1.0000\n",
      "Epoch 129/200\n",
      "313/313 [==============================] - 9s 30ms/step - loss: 1.6759 - floor_loss: 0.1979 - wall_loss: 0.3055 - object_loss: 0.3192 - scale_loss: 0.3158 - shape_loss: 0.1914 - orientation_loss: 0.3463 - floor_accuracy: 0.9355 - wall_accuracy: 0.8948 - object_accuracy: 0.8886 - scale_accuracy: 0.8831 - shape_accuracy: 0.9309 - orientation_accuracy: 0.8813 - val_loss: 0.0633 - val_floor_loss: 0.0125 - val_wall_loss: 0.0080 - val_object_loss: 0.0185 - val_scale_loss: 0.0146 - val_shape_loss: 0.0044 - val_orientation_loss: 0.0052 - val_floor_accuracy: 1.0000 - val_wall_accuracy: 1.0000 - val_object_accuracy: 1.0000 - val_scale_accuracy: 1.0000 - val_shape_accuracy: 1.0000 - val_orientation_accuracy: 1.0000\n",
      "Epoch 130/200\n",
      "313/313 [==============================] - 9s 30ms/step - loss: 1.6629 - floor_loss: 0.1914 - wall_loss: 0.3016 - object_loss: 0.3222 - scale_loss: 0.3109 - shape_loss: 0.1866 - orientation_loss: 0.3502 - floor_accuracy: 0.9380 - wall_accuracy: 0.8976 - object_accuracy: 0.8881 - scale_accuracy: 0.8868 - shape_accuracy: 0.9330 - orientation_accuracy: 0.8815 - val_loss: 0.0548 - val_floor_loss: 0.0100 - val_wall_loss: 0.0073 - val_object_loss: 0.0155 - val_scale_loss: 0.0132 - val_shape_loss: 0.0040 - val_orientation_loss: 0.0049 - val_floor_accuracy: 1.0000 - val_wall_accuracy: 1.0000 - val_object_accuracy: 1.0000 - val_scale_accuracy: 1.0000 - val_shape_accuracy: 1.0000 - val_orientation_accuracy: 1.0000\n",
      "Epoch 131/200\n",
      "313/313 [==============================] - 9s 30ms/step - loss: 1.6459 - floor_loss: 0.1954 - wall_loss: 0.2969 - object_loss: 0.3159 - scale_loss: 0.3119 - shape_loss: 0.1852 - orientation_loss: 0.3407 - floor_accuracy: 0.9353 - wall_accuracy: 0.8989 - object_accuracy: 0.8907 - scale_accuracy: 0.8870 - shape_accuracy: 0.9317 - orientation_accuracy: 0.8820 - val_loss: 0.0575 - val_floor_loss: 0.0115 - val_wall_loss: 0.0070 - val_object_loss: 0.0166 - val_scale_loss: 0.0141 - val_shape_loss: 0.0039 - val_orientation_loss: 0.0044 - val_floor_accuracy: 1.0000 - val_wall_accuracy: 0.9998 - val_object_accuracy: 1.0000 - val_scale_accuracy: 1.0000 - val_shape_accuracy: 1.0000 - val_orientation_accuracy: 1.0000\n",
      "Epoch 132/200\n",
      "313/313 [==============================] - 9s 29ms/step - loss: 1.6495 - floor_loss: 0.1923 - wall_loss: 0.2921 - object_loss: 0.3137 - scale_loss: 0.3125 - shape_loss: 0.1917 - orientation_loss: 0.3471 - floor_accuracy: 0.9370 - wall_accuracy: 0.9008 - object_accuracy: 0.8936 - scale_accuracy: 0.8865 - shape_accuracy: 0.9293 - orientation_accuracy: 0.8843 - val_loss: 0.0586 - val_floor_loss: 0.0099 - val_wall_loss: 0.0082 - val_object_loss: 0.0186 - val_scale_loss: 0.0137 - val_shape_loss: 0.0039 - val_orientation_loss: 0.0044 - val_floor_accuracy: 1.0000 - val_wall_accuracy: 1.0000 - val_object_accuracy: 1.0000 - val_scale_accuracy: 1.0000 - val_shape_accuracy: 1.0000 - val_orientation_accuracy: 1.0000\n",
      "Epoch 133/200\n"
     ]
    },
    {
     "name": "stdout",
     "output_type": "stream",
     "text": [
      "313/313 [==============================] - 9s 30ms/step - loss: 1.6269 - floor_loss: 0.1915 - wall_loss: 0.2951 - object_loss: 0.3140 - scale_loss: 0.3055 - shape_loss: 0.1829 - orientation_loss: 0.3379 - floor_accuracy: 0.9374 - wall_accuracy: 0.8990 - object_accuracy: 0.8927 - scale_accuracy: 0.8868 - shape_accuracy: 0.9333 - orientation_accuracy: 0.8855 - val_loss: 0.0506 - val_floor_loss: 0.0087 - val_wall_loss: 0.0059 - val_object_loss: 0.0155 - val_scale_loss: 0.0122 - val_shape_loss: 0.0034 - val_orientation_loss: 0.0049 - val_floor_accuracy: 1.0000 - val_wall_accuracy: 1.0000 - val_object_accuracy: 1.0000 - val_scale_accuracy: 1.0000 - val_shape_accuracy: 1.0000 - val_orientation_accuracy: 1.0000\n",
      "Epoch 134/200\n",
      "313/313 [==============================] - 9s 30ms/step - loss: 1.6367 - floor_loss: 0.1967 - wall_loss: 0.2947 - object_loss: 0.3132 - scale_loss: 0.3076 - shape_loss: 0.1875 - orientation_loss: 0.3371 - floor_accuracy: 0.9360 - wall_accuracy: 0.8970 - object_accuracy: 0.8922 - scale_accuracy: 0.8877 - shape_accuracy: 0.9331 - orientation_accuracy: 0.8861 - val_loss: 0.0584 - val_floor_loss: 0.0127 - val_wall_loss: 0.0080 - val_object_loss: 0.0163 - val_scale_loss: 0.0130 - val_shape_loss: 0.0041 - val_orientation_loss: 0.0043 - val_floor_accuracy: 1.0000 - val_wall_accuracy: 1.0000 - val_object_accuracy: 1.0000 - val_scale_accuracy: 1.0000 - val_shape_accuracy: 1.0000 - val_orientation_accuracy: 1.0000\n",
      "Epoch 135/200\n",
      "313/313 [==============================] - 10s 31ms/step - loss: 1.6241 - floor_loss: 0.1892 - wall_loss: 0.2943 - object_loss: 0.3074 - scale_loss: 0.3100 - shape_loss: 0.1891 - orientation_loss: 0.3341 - floor_accuracy: 0.9394 - wall_accuracy: 0.8985 - object_accuracy: 0.8971 - scale_accuracy: 0.8887 - shape_accuracy: 0.9313 - orientation_accuracy: 0.8870 - val_loss: 0.0576 - val_floor_loss: 0.0116 - val_wall_loss: 0.0067 - val_object_loss: 0.0185 - val_scale_loss: 0.0126 - val_shape_loss: 0.0039 - val_orientation_loss: 0.0043 - val_floor_accuracy: 1.0000 - val_wall_accuracy: 1.0000 - val_object_accuracy: 1.0000 - val_scale_accuracy: 1.0000 - val_shape_accuracy: 1.0000 - val_orientation_accuracy: 1.0000\n",
      "Epoch 136/200\n",
      "313/313 [==============================] - 10s 32ms/step - loss: 1.6173 - floor_loss: 0.1949 - wall_loss: 0.2887 - object_loss: 0.3085 - scale_loss: 0.3094 - shape_loss: 0.1810 - orientation_loss: 0.3348 - floor_accuracy: 0.9364 - wall_accuracy: 0.9018 - object_accuracy: 0.8959 - scale_accuracy: 0.8884 - shape_accuracy: 0.9353 - orientation_accuracy: 0.8867 - val_loss: 0.0551 - val_floor_loss: 0.0100 - val_wall_loss: 0.0072 - val_object_loss: 0.0176 - val_scale_loss: 0.0128 - val_shape_loss: 0.0036 - val_orientation_loss: 0.0040 - val_floor_accuracy: 1.0000 - val_wall_accuracy: 1.0000 - val_object_accuracy: 1.0000 - val_scale_accuracy: 1.0000 - val_shape_accuracy: 1.0000 - val_orientation_accuracy: 1.0000\n",
      "Epoch 137/200\n",
      "313/313 [==============================] - 10s 32ms/step - loss: 1.5899 - floor_loss: 0.1835 - wall_loss: 0.2914 - object_loss: 0.3058 - scale_loss: 0.3018 - shape_loss: 0.1805 - orientation_loss: 0.3269 - floor_accuracy: 0.9404 - wall_accuracy: 0.9005 - object_accuracy: 0.8949 - scale_accuracy: 0.8906 - shape_accuracy: 0.9351 - orientation_accuracy: 0.8897 - val_loss: 0.0516 - val_floor_loss: 0.0093 - val_wall_loss: 0.0066 - val_object_loss: 0.0154 - val_scale_loss: 0.0120 - val_shape_loss: 0.0038 - val_orientation_loss: 0.0044 - val_floor_accuracy: 1.0000 - val_wall_accuracy: 1.0000 - val_object_accuracy: 1.0000 - val_scale_accuracy: 1.0000 - val_shape_accuracy: 1.0000 - val_orientation_accuracy: 1.0000\n",
      "Epoch 138/200\n",
      "313/313 [==============================] - 10s 31ms/step - loss: 1.5802 - floor_loss: 0.1868 - wall_loss: 0.2888 - object_loss: 0.2987 - scale_loss: 0.3006 - shape_loss: 0.1766 - orientation_loss: 0.3287 - floor_accuracy: 0.9401 - wall_accuracy: 0.9015 - object_accuracy: 0.8970 - scale_accuracy: 0.8925 - shape_accuracy: 0.9361 - orientation_accuracy: 0.8873 - val_loss: 0.0516 - val_floor_loss: 0.0089 - val_wall_loss: 0.0068 - val_object_loss: 0.0160 - val_scale_loss: 0.0119 - val_shape_loss: 0.0037 - val_orientation_loss: 0.0042 - val_floor_accuracy: 1.0000 - val_wall_accuracy: 1.0000 - val_object_accuracy: 1.0000 - val_scale_accuracy: 1.0000 - val_shape_accuracy: 1.0000 - val_orientation_accuracy: 1.0000\n",
      "Epoch 139/200\n",
      "313/313 [==============================] - 10s 32ms/step - loss: 1.5781 - floor_loss: 0.1874 - wall_loss: 0.2886 - object_loss: 0.3042 - scale_loss: 0.2937 - shape_loss: 0.1792 - orientation_loss: 0.3249 - floor_accuracy: 0.9405 - wall_accuracy: 0.9027 - object_accuracy: 0.8964 - scale_accuracy: 0.8931 - shape_accuracy: 0.9347 - orientation_accuracy: 0.8909 - val_loss: 0.0525 - val_floor_loss: 0.0101 - val_wall_loss: 0.0070 - val_object_loss: 0.0162 - val_scale_loss: 0.0114 - val_shape_loss: 0.0036 - val_orientation_loss: 0.0042 - val_floor_accuracy: 1.0000 - val_wall_accuracy: 1.0000 - val_object_accuracy: 1.0000 - val_scale_accuracy: 1.0000 - val_shape_accuracy: 1.0000 - val_orientation_accuracy: 1.0000\n",
      "Epoch 140/200\n",
      "313/313 [==============================] - 10s 33ms/step - loss: 1.5470 - floor_loss: 0.1791 - wall_loss: 0.2804 - object_loss: 0.2888 - scale_loss: 0.2932 - shape_loss: 0.1822 - orientation_loss: 0.3232 - floor_accuracy: 0.9390 - wall_accuracy: 0.9038 - object_accuracy: 0.9010 - scale_accuracy: 0.8953 - shape_accuracy: 0.9341 - orientation_accuracy: 0.8899 - val_loss: 0.0484 - val_floor_loss: 0.0095 - val_wall_loss: 0.0064 - val_object_loss: 0.0140 - val_scale_loss: 0.0112 - val_shape_loss: 0.0033 - val_orientation_loss: 0.0039 - val_floor_accuracy: 1.0000 - val_wall_accuracy: 1.0000 - val_object_accuracy: 1.0000 - val_scale_accuracy: 1.0000 - val_shape_accuracy: 1.0000 - val_orientation_accuracy: 1.0000\n",
      "Epoch 141/200\n",
      "313/313 [==============================] - 9s 30ms/step - loss: 1.5584 - floor_loss: 0.1855 - wall_loss: 0.2792 - object_loss: 0.2990 - scale_loss: 0.2916 - shape_loss: 0.1784 - orientation_loss: 0.3247 - floor_accuracy: 0.9408 - wall_accuracy: 0.9043 - object_accuracy: 0.8989 - scale_accuracy: 0.8945 - shape_accuracy: 0.9342 - orientation_accuracy: 0.8895 - val_loss: 0.0505 - val_floor_loss: 0.0098 - val_wall_loss: 0.0062 - val_object_loss: 0.0156 - val_scale_loss: 0.0115 - val_shape_loss: 0.0035 - val_orientation_loss: 0.0038 - val_floor_accuracy: 1.0000 - val_wall_accuracy: 1.0000 - val_object_accuracy: 1.0000 - val_scale_accuracy: 1.0000 - val_shape_accuracy: 1.0000 - val_orientation_accuracy: 1.0000\n",
      "Epoch 142/200\n",
      "313/313 [==============================] - 10s 31ms/step - loss: 1.5495 - floor_loss: 0.1782 - wall_loss: 0.2851 - object_loss: 0.2931 - scale_loss: 0.2984 - shape_loss: 0.1728 - orientation_loss: 0.3219 - floor_accuracy: 0.9434 - wall_accuracy: 0.9033 - object_accuracy: 0.8989 - scale_accuracy: 0.8912 - shape_accuracy: 0.9383 - orientation_accuracy: 0.8898 - val_loss: 0.0530 - val_floor_loss: 0.0110 - val_wall_loss: 0.0067 - val_object_loss: 0.0158 - val_scale_loss: 0.0121 - val_shape_loss: 0.0036 - val_orientation_loss: 0.0038 - val_floor_accuracy: 1.0000 - val_wall_accuracy: 1.0000 - val_object_accuracy: 1.0000 - val_scale_accuracy: 1.0000 - val_shape_accuracy: 1.0000 - val_orientation_accuracy: 1.0000\n",
      "Epoch 143/200\n",
      "313/313 [==============================] - 10s 32ms/step - loss: 1.5527 - floor_loss: 0.1906 - wall_loss: 0.2838 - object_loss: 0.2964 - scale_loss: 0.2881 - shape_loss: 0.1739 - orientation_loss: 0.3199 - floor_accuracy: 0.9391 - wall_accuracy: 0.9027 - object_accuracy: 0.8989 - scale_accuracy: 0.8942 - shape_accuracy: 0.9371 - orientation_accuracy: 0.8899 - val_loss: 0.0503 - val_floor_loss: 0.0103 - val_wall_loss: 0.0063 - val_object_loss: 0.0150 - val_scale_loss: 0.0114 - val_shape_loss: 0.0034 - val_orientation_loss: 0.0039 - val_floor_accuracy: 1.0000 - val_wall_accuracy: 1.0000 - val_object_accuracy: 1.0000 - val_scale_accuracy: 1.0000 - val_shape_accuracy: 1.0000 - val_orientation_accuracy: 1.0000\n",
      "Epoch 144/200\n",
      "313/313 [==============================] - 9s 30ms/step - loss: 1.5450 - floor_loss: 0.1848 - wall_loss: 0.2793 - object_loss: 0.2921 - scale_loss: 0.2968 - shape_loss: 0.1726 - orientation_loss: 0.3193 - floor_accuracy: 0.9398 - wall_accuracy: 0.9042 - object_accuracy: 0.8999 - scale_accuracy: 0.8922 - shape_accuracy: 0.9374 - orientation_accuracy: 0.8899 - val_loss: 0.0510 - val_floor_loss: 0.0107 - val_wall_loss: 0.0065 - val_object_loss: 0.0151 - val_scale_loss: 0.0117 - val_shape_loss: 0.0034 - val_orientation_loss: 0.0037 - val_floor_accuracy: 1.0000 - val_wall_accuracy: 1.0000 - val_object_accuracy: 1.0000 - val_scale_accuracy: 1.0000 - val_shape_accuracy: 1.0000 - val_orientation_accuracy: 1.0000\n",
      "Epoch 145/200\n",
      "313/313 [==============================] - 9s 30ms/step - loss: 1.5545 - floor_loss: 0.1890 - wall_loss: 0.2887 - object_loss: 0.2918 - scale_loss: 0.2859 - shape_loss: 0.1774 - orientation_loss: 0.3218 - floor_accuracy: 0.9403 - wall_accuracy: 0.9039 - object_accuracy: 0.8997 - scale_accuracy: 0.8978 - shape_accuracy: 0.9355 - orientation_accuracy: 0.8906 - val_loss: 0.0503 - val_floor_loss: 0.0104 - val_wall_loss: 0.0066 - val_object_loss: 0.0151 - val_scale_loss: 0.0111 - val_shape_loss: 0.0035 - val_orientation_loss: 0.0037 - val_floor_accuracy: 1.0000 - val_wall_accuracy: 1.0000 - val_object_accuracy: 1.0000 - val_scale_accuracy: 1.0000 - val_shape_accuracy: 1.0000 - val_orientation_accuracy: 1.0000\n",
      "Epoch 146/200\n",
      "313/313 [==============================] - 9s 29ms/step - loss: 1.5430 - floor_loss: 0.1886 - wall_loss: 0.2705 - object_loss: 0.2919 - scale_loss: 0.2987 - shape_loss: 0.1729 - orientation_loss: 0.3203 - floor_accuracy: 0.9379 - wall_accuracy: 0.9069 - object_accuracy: 0.9006 - scale_accuracy: 0.8912 - shape_accuracy: 0.9389 - orientation_accuracy: 0.8897 - val_loss: 0.0499 - val_floor_loss: 0.0104 - val_wall_loss: 0.0062 - val_object_loss: 0.0151 - val_scale_loss: 0.0111 - val_shape_loss: 0.0035 - val_orientation_loss: 0.0037 - val_floor_accuracy: 1.0000 - val_wall_accuracy: 1.0000 - val_object_accuracy: 1.0000 - val_scale_accuracy: 1.0000 - val_shape_accuracy: 1.0000 - val_orientation_accuracy: 1.0000\n",
      "Epoch 147/200\n",
      "313/313 [==============================] - 9s 30ms/step - loss: 1.5347 - floor_loss: 0.1823 - wall_loss: 0.2842 - object_loss: 0.2892 - scale_loss: 0.2861 - shape_loss: 0.1770 - orientation_loss: 0.3159 - floor_accuracy: 0.9417 - wall_accuracy: 0.9029 - object_accuracy: 0.9017 - scale_accuracy: 0.8949 - shape_accuracy: 0.9369 - orientation_accuracy: 0.8913 - val_loss: 0.0501 - val_floor_loss: 0.0102 - val_wall_loss: 0.0066 - val_object_loss: 0.0152 - val_scale_loss: 0.0110 - val_shape_loss: 0.0035 - val_orientation_loss: 0.0037 - val_floor_accuracy: 1.0000 - val_wall_accuracy: 1.0000 - val_object_accuracy: 1.0000 - val_scale_accuracy: 1.0000 - val_shape_accuracy: 1.0000 - val_orientation_accuracy: 1.0000\n",
      "Epoch 148/200\n",
      "313/313 [==============================] - 9s 30ms/step - loss: 1.5230 - floor_loss: 0.1798 - wall_loss: 0.2841 - object_loss: 0.2887 - scale_loss: 0.2825 - shape_loss: 0.1696 - orientation_loss: 0.3184 - floor_accuracy: 0.9427 - wall_accuracy: 0.9021 - object_accuracy: 0.9036 - scale_accuracy: 0.8971 - shape_accuracy: 0.9395 - orientation_accuracy: 0.8910 - val_loss: 0.0497 - val_floor_loss: 0.0103 - val_wall_loss: 0.0063 - val_object_loss: 0.0151 - val_scale_loss: 0.0109 - val_shape_loss: 0.0034 - val_orientation_loss: 0.0037 - val_floor_accuracy: 1.0000 - val_wall_accuracy: 1.0000 - val_object_accuracy: 1.0000 - val_scale_accuracy: 1.0000 - val_shape_accuracy: 1.0000 - val_orientation_accuracy: 1.0000\n",
      "Epoch 149/200\n",
      "313/313 [==============================] - 9s 30ms/step - loss: 1.5201 - floor_loss: 0.1790 - wall_loss: 0.2791 - object_loss: 0.2893 - scale_loss: 0.2863 - shape_loss: 0.1742 - orientation_loss: 0.3122 - floor_accuracy: 0.9427 - wall_accuracy: 0.9046 - object_accuracy: 0.9002 - scale_accuracy: 0.8967 - shape_accuracy: 0.9378 - orientation_accuracy: 0.8952 - val_loss: 0.0482 - val_floor_loss: 0.0097 - val_wall_loss: 0.0062 - val_object_loss: 0.0145 - val_scale_loss: 0.0107 - val_shape_loss: 0.0034 - val_orientation_loss: 0.0037 - val_floor_accuracy: 1.0000 - val_wall_accuracy: 1.0000 - val_object_accuracy: 1.0000 - val_scale_accuracy: 1.0000 - val_shape_accuracy: 1.0000 - val_orientation_accuracy: 1.0000\n",
      "Epoch 150/200\n",
      "313/313 [==============================] - 10s 31ms/step - loss: 1.5283 - floor_loss: 0.1811 - wall_loss: 0.2783 - object_loss: 0.2922 - scale_loss: 0.2890 - shape_loss: 0.1702 - orientation_loss: 0.3175 - floor_accuracy: 0.9416 - wall_accuracy: 0.9036 - object_accuracy: 0.8997 - scale_accuracy: 0.8938 - shape_accuracy: 0.9396 - orientation_accuracy: 0.8923 - val_loss: 0.0494 - val_floor_loss: 0.0097 - val_wall_loss: 0.0063 - val_object_loss: 0.0154 - val_scale_loss: 0.0109 - val_shape_loss: 0.0034 - val_orientation_loss: 0.0036 - val_floor_accuracy: 1.0000 - val_wall_accuracy: 1.0000 - val_object_accuracy: 1.0000 - val_scale_accuracy: 1.0000 - val_shape_accuracy: 1.0000 - val_orientation_accuracy: 1.0000\n",
      "INFO:tensorflow:Assets written to: ../../models/multitask_3dshapes/assets\n"
     ]
    }
   ],
   "source": [
    "path = \"../../models/multitask_3dshapes\"\n",
    "# For training and saving\n",
    "histories, mt_model = multitask_model(Dataset.SHAPES3D,\n",
    "                                            X_train, c_train,\n",
    "                                            X_valid, c_valid, path, concept_values)\n",
    "\n",
    "# For loading\n",
    "mt_model = tf.keras.models.load_model(path)"
   ]
  },
  {
   "cell_type": "code",
   "execution_count": 16,
   "metadata": {},
   "outputs": [
    {
     "name": "stdout",
     "output_type": "stream",
     "text": [
      "******************** Model: floor ********************\n",
      "              precision    recall  f1-score   support\n",
      "\n",
      "         0.0       1.00      1.00      1.00      3149\n",
      "         1.0       1.00      1.00      1.00      3357\n",
      "         2.0       1.00      1.00      1.00      3356\n",
      "         3.0       1.00      1.00      1.00      3308\n",
      "         4.0       1.00      1.00      1.00       830\n",
      "\n",
      "    accuracy                           1.00     14000\n",
      "   macro avg       1.00      1.00      1.00     14000\n",
      "weighted avg       1.00      1.00      1.00     14000\n",
      "\n",
      "\n",
      "\n",
      "\n",
      "******************** Model: wall ********************\n",
      "              precision    recall  f1-score   support\n",
      "\n",
      "         0.0       1.00      1.00      1.00      1397\n",
      "         1.0       1.00      1.00      1.00      1671\n",
      "         2.0       1.00      1.00      1.00      1496\n",
      "         3.0       1.00      1.00      1.00      1353\n",
      "         4.0       1.00      1.00      1.00      1363\n",
      "         5.0       1.00      1.00      1.00      1368\n",
      "         6.0       1.00      1.00      1.00      1295\n",
      "         7.0       1.00      1.00      1.00      1364\n",
      "         8.0       1.00      1.00      1.00      1322\n",
      "         9.0       1.00      1.00      1.00      1371\n",
      "\n",
      "    accuracy                           1.00     14000\n",
      "   macro avg       1.00      1.00      1.00     14000\n",
      "weighted avg       1.00      1.00      1.00     14000\n",
      "\n",
      "\n",
      "\n",
      "\n",
      "******************** Model: object ********************\n",
      "              precision    recall  f1-score   support\n",
      "\n",
      "         0.0       1.00      1.00      1.00      1390\n",
      "         1.0       1.00      1.00      1.00      1368\n",
      "         2.0       1.00      1.00      1.00      1413\n",
      "         3.0       1.00      1.00      1.00      1476\n",
      "         4.0       1.00      1.00      1.00      1414\n",
      "         5.0       1.00      1.00      1.00      1406\n",
      "         6.0       1.00      1.00      1.00      1378\n",
      "         7.0       1.00      1.00      1.00      1367\n",
      "         8.0       1.00      1.00      1.00      1404\n",
      "         9.0       1.00      1.00      1.00      1384\n",
      "\n",
      "    accuracy                           1.00     14000\n",
      "   macro avg       1.00      1.00      1.00     14000\n",
      "weighted avg       1.00      1.00      1.00     14000\n",
      "\n",
      "\n",
      "\n",
      "\n",
      "******************** Model: scale ********************\n",
      "              precision    recall  f1-score   support\n",
      "\n",
      "         0.0       1.00      1.00      1.00      1688\n",
      "         1.0       1.00      1.00      1.00      1704\n",
      "         2.0       1.00      1.00      1.00      1800\n",
      "         3.0       1.00      1.00      1.00      1774\n",
      "         4.0       1.00      1.00      1.00      1748\n",
      "         5.0       1.00      1.00      1.00      1743\n",
      "         6.0       1.00      1.00      1.00      1762\n",
      "         7.0       1.00      1.00      1.00      1781\n",
      "\n",
      "    accuracy                           1.00     14000\n",
      "   macro avg       1.00      1.00      1.00     14000\n",
      "weighted avg       1.00      1.00      1.00     14000\n",
      "\n",
      "\n",
      "\n",
      "\n",
      "******************** Model: shape ********************\n",
      "              precision    recall  f1-score   support\n",
      "\n",
      "         0.0       1.00      1.00      1.00      3449\n",
      "         1.0       1.00      1.00      1.00      3461\n",
      "         2.0       1.00      1.00      1.00      3600\n",
      "         3.0       1.00      1.00      1.00      3490\n",
      "\n",
      "    accuracy                           1.00     14000\n",
      "   macro avg       1.00      1.00      1.00     14000\n",
      "weighted avg       1.00      1.00      1.00     14000\n",
      "\n",
      "\n",
      "\n",
      "\n",
      "******************** Model: orientation ********************\n",
      "              precision    recall  f1-score   support\n",
      "\n",
      "         0.0       1.00      1.00      1.00       943\n",
      "         1.0       1.00      1.00      1.00       938\n",
      "         2.0       1.00      1.00      1.00       914\n",
      "         3.0       1.00      1.00      1.00       955\n",
      "         4.0       1.00      1.00      1.00       918\n",
      "         5.0       1.00      1.00      1.00       892\n",
      "         6.0       1.00      1.00      1.00       990\n",
      "         7.0       1.00      1.00      1.00       942\n",
      "         8.0       1.00      1.00      1.00       934\n",
      "         9.0       1.00      1.00      1.00       965\n",
      "        10.0       1.00      1.00      1.00       947\n",
      "        11.0       1.00      1.00      1.00       936\n",
      "        12.0       1.00      1.00      1.00       937\n",
      "        13.0       1.00      1.00      1.00       913\n",
      "        14.0       1.00      1.00      1.00       876\n",
      "\n",
      "    accuracy                           1.00     14000\n",
      "   macro avg       1.00      1.00      1.00     14000\n",
      "weighted avg       1.00      1.00      1.00     14000\n",
      "\n",
      "\n",
      "\n",
      "\n"
     ]
    }
   ],
   "source": [
    "# Evaluate model\n",
    "for i, pred in enumerate(mt_model.predict(X_test)):\n",
    "    print(\"*\"*20, f\"Model: {SHAPES3D_CONCEPT_NAMES[i]}\", \"*\"*20)\n",
    "    c_truth = c_test[:, i]\n",
    "    c_pred = np.argmax(pred, axis=1)\n",
    "    \n",
    "    print(classification_report(c_truth, c_pred))\n",
    "    print(\"\\n\\n\")"
   ]
  },
  {
   "cell_type": "markdown",
   "metadata": {},
   "source": [
    "**Concept to Output**"
   ]
  },
  {
   "cell_type": "code",
   "execution_count": 17,
   "metadata": {
    "scrolled": true
   },
   "outputs": [
    {
     "data": {
      "text/plain": [
       "LogisticRegression()"
      ]
     },
     "execution_count": 17,
     "metadata": {},
     "output_type": "execute_result"
    }
   ],
   "source": [
    "# Build and train model. For simplicity, we used logistic regression\n",
    "# although can be substituted using other model.\n",
    "com = LogisticRegression()\n",
    "com.fit(c_train, y_train)"
   ]
  },
  {
   "cell_type": "code",
   "execution_count": 18,
   "metadata": {},
   "outputs": [
    {
     "name": "stdout",
     "output_type": "stream",
     "text": [
      "              precision    recall  f1-score   support\n",
      "\n",
      "         0.0       0.98      1.00      0.99      1659\n",
      "         1.0       0.85      0.92      0.88      1588\n",
      "         2.0       0.91      0.84      0.88      1938\n",
      "         3.0       0.83      0.88      0.86      1685\n",
      "         4.0       0.84      0.79      0.81      1864\n",
      "         5.0       0.91      0.92      0.92      1722\n",
      "         6.0       0.99      1.00      0.99      1748\n",
      "         7.0       1.00      0.99      1.00      1796\n",
      "\n",
      "    accuracy                           0.92     14000\n",
      "   macro avg       0.92      0.92      0.92     14000\n",
      "weighted avg       0.92      0.92      0.91     14000\n",
      "\n",
      "[[1657    2    0    0    0    0    0    0]\n",
      " [  31 1456  101    0    0    0    0    0]\n",
      " [   0  246 1637   55    0    0    0    0]\n",
      " [   0    0   62 1479  144    0    0    0]\n",
      " [   0    0    0  240 1471  153    0    0]\n",
      " [   0    0    0    0  133 1588    1    0]\n",
      " [   0    0    0    0    0    2 1746    0]\n",
      " [   0    0    0    0    0    0   15 1781]]\n"
     ]
    }
   ],
   "source": [
    "y_test_pred = com.predict(c_test)\n",
    "print(classification_report(y_test_pred, y_test))\n",
    "print(confusion_matrix(y_test_pred, y_test))"
   ]
  },
  {
   "cell_type": "markdown",
   "metadata": {},
   "source": [
    "### Principal component analysis"
   ]
  },
  {
   "cell_type": "code",
   "execution_count": null,
   "metadata": {},
   "outputs": [],
   "source": [
    "pca, n_components = principal_components_analysis(X_train_flatten)\n",
    "print(f\"The number of components to explain 80% of variance is {n_components}.\")"
   ]
  },
  {
   "cell_type": "markdown",
   "metadata": {},
   "source": [
    "### Sparse random projection"
   ]
  },
  {
   "cell_type": "code",
   "execution_count": null,
   "metadata": {},
   "outputs": [],
   "source": [
    "srp, n_components = sparse_random_projection(X_train_flatten)\n",
    "print(f\"The number of components to explain 80% of variance is {n_components}.\")"
   ]
  },
  {
   "cell_type": "markdown",
   "metadata": {},
   "source": [
    "## Data collection\n",
    "\n",
    "This section performs various experiments to collect data. We consider various dimensionality reduced methods discussed in the paper and thesis."
   ]
  },
  {
   "cell_type": "markdown",
   "metadata": {},
   "source": [
    "### PCA"
   ]
  },
  {
   "cell_type": "code",
   "execution_count": 7,
   "metadata": {},
   "outputs": [],
   "source": [
    "method = DimensionalityReductor.PCA\n",
    "model = pca\n",
    "method_str = \"PCA\""
   ]
  },
  {
   "cell_type": "markdown",
   "metadata": {},
   "source": [
    "#### Knockout shift"
   ]
  },
  {
   "cell_type": "code",
   "execution_count": 8,
   "metadata": {},
   "outputs": [],
   "source": [
    "shift_type = ShiftType.Knockout\n",
    "shift_type_params = {\"cl\": MAJORITY}\n",
    "shift_str = \"ko\""
   ]
  },
  {
   "cell_type": "code",
   "execution_count": 14,
   "metadata": {},
   "outputs": [],
   "source": [
    "dict_result = main_experiment(model, method, X_valid, y_valid,\n",
    "                             c_valid, X_test_flatten, y_test, c_test,\n",
    "                             shift_type, ORIGINAL_SHAPE, n_classes,\n",
    "                             concept_names, concept_values, \n",
    "                             shift_type_params, n_exp=50, n_std=2)"
   ]
  },
  {
   "cell_type": "code",
   "execution_count": null,
   "metadata": {},
   "outputs": [],
   "source": [
    "# Save file\n",
    "save_result(shift_str, method_str, dict_result, True, \"3dshapes\")"
   ]
  },
  {
   "cell_type": "markdown",
   "metadata": {},
   "source": [
    "#### Concept shifts\n",
    "\n",
    "We consider the following concept shift combinations:\n",
    "- floor\n",
    "- wall\n",
    "- object"
   ]
  },
  {
   "cell_type": "code",
   "execution_count": null,
   "metadata": {},
   "outputs": [],
   "source": [
    "shift_type = ShiftType.Concept\n",
    "\n",
    "list_shift_str = [\n",
    "    \"floor\",\n",
    "    \"wall\",\n",
    "    \"object_scale\",\n",
    "]\n",
    "\n",
    "list_shift_type_params = [\n",
    "    {\"cl\": MAJORITY, \"concept_idx\": 0}, # scale is index 2 in the concept names\n",
    "    {\"cl\": MAJORITY, \"concept_idx\": 1},\n",
    "    [{\"cl\": MAJORITY, \"concept_idx\": 2}, {\"cl\": MAJORITY, \"concept_idx\": 3}],\n",
    "]"
   ]
  },
  {
   "cell_type": "code",
   "execution_count": null,
   "metadata": {},
   "outputs": [],
   "source": [
    "for shift_str, shift_type_params in tqdm(zip(list_shift_str, list_shift_type_params)):\n",
    "    dict_result = main_experiment(model, method, X_valid, y_valid,\n",
    "                             c_valid, X_test_flatten, y_test, c_test,\n",
    "                             shift_type, ORIGINAL_SHAPE, n_classes,\n",
    "                             concept_names, concept_values, \n",
    "                             shift_type_params, n_exp=50, n_std=2)\n",
    "    \n",
    "    # Save\n",
    "    save_result(shift_str, method_str, dict_result, True, \"3dshapes\")"
   ]
  },
  {
   "cell_type": "markdown",
   "metadata": {},
   "source": [
    "#### Image shifts\n",
    "\n",
    "We consider the following image shifts:\n",
    "- rotation\n",
    "- shear\n",
    "- flip\n",
    "- all (combination of image shifts)"
   ]
  },
  {
   "cell_type": "code",
   "execution_count": 2,
   "metadata": {},
   "outputs": [],
   "source": [
    "list_shift = [\n",
    "    ShiftType.Rotation,\n",
    "    ShiftType.Shear,\n",
    "    ShiftType.Flip,\n",
    "    ShiftType.All\n",
    "]\n",
    "\n",
    "list_shift_str = [\n",
    "    \"rotation\",\n",
    "    \"shear\",\n",
    "    \"flip\",\n",
    "    \"all\"\n",
    "]\n",
    "\n",
    "shift_type_param = {\"orig_dims\": ORIGINAL_SHAPE}"
   ]
  },
  {
   "cell_type": "code",
   "execution_count": null,
   "metadata": {},
   "outputs": [],
   "source": [
    "for shift_str, shift_type in tqdm(zip(list_shift_str, list_shift)):\n",
    "    dict_result = main_experiment(model, method, X_valid, y_valid,\n",
    "                             c_valid, X_test_flatten, y_test, c_test,\n",
    "                             shift_type, ORIGINAL_SHAPE, n_classes,\n",
    "                             concept_names, concept_values, \n",
    "                             shift_type_param, n_exp=50, n_std=2)\n",
    "    \n",
    "    # Save\n",
    "    save_result(shift_str, method_str, dict_result, True, \"3dshapes\")"
   ]
  },
  {
   "cell_type": "markdown",
   "metadata": {},
   "source": [
    "#### Gaussian shift"
   ]
  },
  {
   "cell_type": "code",
   "execution_count": null,
   "metadata": {},
   "outputs": [],
   "source": [
    "shift_type = ShiftType.Gaussian\n",
    "shift_type_params = None\n",
    "shift_str = \"gaussian\""
   ]
  },
  {
   "cell_type": "code",
   "execution_count": null,
   "metadata": {},
   "outputs": [],
   "source": [
    "dict_result = main_experiment(model, method, X_valid, y_valid,\n",
    "                             c_valid, X_test_flatten, y_test, c_test,\n",
    "                             shift_type, ORIGINAL_SHAPE, n_classes,\n",
    "                             concept_names, concept_values, \n",
    "                             shift_type_params, n_exp=50, n_std=2)"
   ]
  },
  {
   "cell_type": "code",
   "execution_count": null,
   "metadata": {},
   "outputs": [],
   "source": [
    "# Save file\n",
    "save_result(shift_str, method_str, dict_result, True, \"3dshapes\")"
   ]
  },
  {
   "cell_type": "markdown",
   "metadata": {},
   "source": [
    "#### Adversarial shift"
   ]
  },
  {
   "cell_type": "code",
   "execution_count": null,
   "metadata": {},
   "outputs": [],
   "source": [
    "shift_type = ShiftType.Adversarial\n",
    "shift_type_params = {\n",
    "    \"adv_samples\": adv_samples\n",
    "}\n",
    "shift_str = \"adversarial\""
   ]
  },
  {
   "cell_type": "code",
   "execution_count": null,
   "metadata": {},
   "outputs": [],
   "source": [
    "dict_result = main_experiment(model, method, X_valid, y_valid,\n",
    "                             c_valid, X_test_flatten, y_test, c_test,\n",
    "                             shift_type, ORIGINAL_SHAPE, n_classes,\n",
    "                             concept_names, concept_values, \n",
    "                             shift_type_params, n_exp=50, n_std=2)"
   ]
  },
  {
   "cell_type": "code",
   "execution_count": null,
   "metadata": {},
   "outputs": [],
   "source": [
    "# Save file\n",
    "save_result(shift_str, method_str, dict_result, True, \"3dshapes\")"
   ]
  },
  {
   "cell_type": "markdown",
   "metadata": {},
   "source": [
    "### SRP"
   ]
  },
  {
   "cell_type": "code",
   "execution_count": 36,
   "metadata": {},
   "outputs": [],
   "source": [
    "method = DimensionalityReductor.SRP\n",
    "model = srp\n",
    "method_str = \"SRP\""
   ]
  },
  {
   "cell_type": "markdown",
   "metadata": {},
   "source": [
    "#### Knockout shift"
   ]
  },
  {
   "cell_type": "code",
   "execution_count": 8,
   "metadata": {},
   "outputs": [],
   "source": [
    "shift_type = ShiftType.Knockout\n",
    "shift_type_params = {\"cl\": MAJORITY}\n",
    "shift_str = \"ko\""
   ]
  },
  {
   "cell_type": "code",
   "execution_count": 14,
   "metadata": {},
   "outputs": [],
   "source": [
    "dict_result = main_experiment(model, method, X_valid, y_valid,\n",
    "                             c_valid, X_test_flatten, y_test, c_test,\n",
    "                             shift_type, ORIGINAL_SHAPE, n_classes,\n",
    "                             concept_names, concept_values, \n",
    "                             shift_type_params, n_exp=50, n_std=2)"
   ]
  },
  {
   "cell_type": "code",
   "execution_count": null,
   "metadata": {},
   "outputs": [],
   "source": [
    "# Save file\n",
    "save_result(shift_str, method_str, dict_result, True, \"3dshapes\")"
   ]
  },
  {
   "cell_type": "markdown",
   "metadata": {},
   "source": [
    "#### Concept shifts"
   ]
  },
  {
   "cell_type": "code",
   "execution_count": null,
   "metadata": {},
   "outputs": [],
   "source": [
    "shift_type = ShiftType.Concept\n",
    "\n",
    "list_shift_str = [\n",
    "    \"floor\",\n",
    "    \"wall\",\n",
    "    \"object_scale\",\n",
    "]\n",
    "\n",
    "list_shift_type_params = [\n",
    "    {\"cl\": MAJORITY, \"concept_idx\": 0}, # scale is index 2 in the concept names\n",
    "    {\"cl\": MAJORITY, \"concept_idx\": 1},\n",
    "    [{\"cl\": MAJORITY, \"concept_idx\": 2}, {\"cl\": MAJORITY, \"concept_idx\": 3}],\n",
    "]"
   ]
  },
  {
   "cell_type": "code",
   "execution_count": null,
   "metadata": {},
   "outputs": [],
   "source": [
    "for shift_str, shift_type_params in tqdm(zip(list_shift_str, list_shift_type_params)):\n",
    "    dict_result = main_experiment(model, method, X_valid, y_valid,\n",
    "                             c_valid, X_test_flatten, y_test, c_test,\n",
    "                             shift_type, ORIGINAL_SHAPE, n_classes,\n",
    "                             concept_names, concept_values, \n",
    "                             shift_type_params, n_exp=50, n_std=2)\n",
    "    \n",
    "    # Save\n",
    "    save_result(shift_str, method_str, dict_result, True, \"3dshapes\")"
   ]
  },
  {
   "cell_type": "markdown",
   "metadata": {},
   "source": [
    "#### Image shifts\n"
   ]
  },
  {
   "cell_type": "code",
   "execution_count": 2,
   "metadata": {},
   "outputs": [],
   "source": [
    "list_shift = [\n",
    "    ShiftType.Rotation,\n",
    "    ShiftType.Shear,\n",
    "    ShiftType.Flip,\n",
    "    ShiftType.All\n",
    "]\n",
    "\n",
    "list_shift_str = [\n",
    "    \"rotation\",\n",
    "    \"shear\",\n",
    "    \"flip\",\n",
    "    \"all\"\n",
    "]\n",
    "\n",
    "shift_type_param = {\"orig_dims\": ORIGINAL_SHAPE}"
   ]
  },
  {
   "cell_type": "code",
   "execution_count": null,
   "metadata": {},
   "outputs": [],
   "source": [
    "for shift_str, shift_type in tqdm(zip(list_shift_str, list_shift)):\n",
    "    dict_result = main_experiment(model, method, X_valid, y_valid,\n",
    "                             c_valid, X_test_flatten, y_test, c_test,\n",
    "                             shift_type, ORIGINAL_SHAPE, n_classes,\n",
    "                             concept_names, concept_values, \n",
    "                             shift_type_param, n_exp=50, n_std=2)\n",
    "    \n",
    "    # Save\n",
    "    save_result(shift_str, method_str, dict_result, True, \"3dshapes\")"
   ]
  },
  {
   "cell_type": "markdown",
   "metadata": {},
   "source": [
    "#### Gaussian shift"
   ]
  },
  {
   "cell_type": "code",
   "execution_count": null,
   "metadata": {},
   "outputs": [],
   "source": [
    "shift_type = ShiftType.Gaussian\n",
    "shift_type_params = None\n",
    "shift_str = \"gaussian\""
   ]
  },
  {
   "cell_type": "code",
   "execution_count": null,
   "metadata": {},
   "outputs": [],
   "source": [
    "dict_result = main_experiment(model, method, X_valid, y_valid,\n",
    "                             c_valid, X_test_flatten, y_test, c_test,\n",
    "                             shift_type, ORIGINAL_SHAPE, n_classes,\n",
    "                             concept_names, concept_values, \n",
    "                             shift_type_params, n_exp=50, n_std=2)"
   ]
  },
  {
   "cell_type": "code",
   "execution_count": null,
   "metadata": {},
   "outputs": [],
   "source": [
    "# Save file\n",
    "save_result(shift_str, method_str, dict_result, True, \"3dshapes\")"
   ]
  },
  {
   "cell_type": "markdown",
   "metadata": {},
   "source": [
    "#### Adversarial shift"
   ]
  },
  {
   "cell_type": "code",
   "execution_count": null,
   "metadata": {},
   "outputs": [],
   "source": [
    "shift_type = ShiftType.Adversarial\n",
    "shift_type_params = {\n",
    "    \"adv_samples\": adv_samples\n",
    "}\n",
    "shift_str = \"adversarial\""
   ]
  },
  {
   "cell_type": "code",
   "execution_count": null,
   "metadata": {},
   "outputs": [],
   "source": [
    "dict_result = main_experiment(model, method, X_valid, y_valid,\n",
    "                             c_valid, X_test_flatten, y_test, c_test,\n",
    "                             shift_type, ORIGINAL_SHAPE, n_classes,\n",
    "                             concept_names, concept_values, \n",
    "                             shift_type_params, n_exp=50, n_std=2)"
   ]
  },
  {
   "cell_type": "code",
   "execution_count": null,
   "metadata": {},
   "outputs": [],
   "source": [
    "# Save file\n",
    "save_result(shift_str, method_str, dict_result, True, \"3dshapes\")"
   ]
  },
  {
   "cell_type": "markdown",
   "metadata": {},
   "source": [
    "### BBSDs"
   ]
  },
  {
   "cell_type": "code",
   "execution_count": 36,
   "metadata": {},
   "outputs": [],
   "source": [
    "method = DimensionalityReductor.BBSDs\n",
    "model = end_to_end_model\n",
    "method_str = \"BBSDs\""
   ]
  },
  {
   "cell_type": "markdown",
   "metadata": {},
   "source": [
    "#### Knockout shift"
   ]
  },
  {
   "cell_type": "code",
   "execution_count": 8,
   "metadata": {},
   "outputs": [],
   "source": [
    "shift_type = ShiftType.Knockout\n",
    "shift_type_params = {\"cl\": MAJORITY}\n",
    "shift_str = \"ko\""
   ]
  },
  {
   "cell_type": "code",
   "execution_count": 14,
   "metadata": {},
   "outputs": [],
   "source": [
    "dict_result = main_experiment(model, method, X_valid, y_valid,\n",
    "                             c_valid, X_test_flatten, y_test, c_test,\n",
    "                             shift_type, ORIGINAL_SHAPE, n_classes,\n",
    "                             concept_names, concept_values, \n",
    "                             shift_type_params, n_exp=50, n_std=2)"
   ]
  },
  {
   "cell_type": "code",
   "execution_count": null,
   "metadata": {},
   "outputs": [],
   "source": [
    "# Save file\n",
    "save_result(shift_str, method_str, dict_result, True, \"3dshapes\")"
   ]
  },
  {
   "cell_type": "markdown",
   "metadata": {},
   "source": [
    "#### Concept shifts"
   ]
  },
  {
   "cell_type": "code",
   "execution_count": null,
   "metadata": {},
   "outputs": [],
   "source": [
    "shift_type = ShiftType.Concept\n",
    "\n",
    "list_shift_str = [\n",
    "    \"floor\",\n",
    "    \"wall\",\n",
    "    \"object_scale\",\n",
    "]\n",
    "\n",
    "list_shift_type_params = [\n",
    "    {\"cl\": MAJORITY, \"concept_idx\": 0}, # scale is index 2 in the concept names\n",
    "    {\"cl\": MAJORITY, \"concept_idx\": 1},\n",
    "    [{\"cl\": MAJORITY, \"concept_idx\": 2}, {\"cl\": MAJORITY, \"concept_idx\": 3}],\n",
    "]"
   ]
  },
  {
   "cell_type": "code",
   "execution_count": null,
   "metadata": {},
   "outputs": [],
   "source": [
    "for shift_str, shift_type_params in tqdm(zip(list_shift_str, list_shift_type_params)):\n",
    "    dict_result = main_experiment(model, method, X_valid, y_valid,\n",
    "                             c_valid, X_test_flatten, y_test, c_test,\n",
    "                             shift_type, ORIGINAL_SHAPE, n_classes,\n",
    "                             concept_names, concept_values, \n",
    "                             shift_type_params, n_exp=50, n_std=2)\n",
    "    \n",
    "    # Save\n",
    "    save_result(shift_str, method_str, dict_result, True, \"3dshapes\")"
   ]
  },
  {
   "cell_type": "markdown",
   "metadata": {},
   "source": [
    "#### Image shifts\n"
   ]
  },
  {
   "cell_type": "code",
   "execution_count": 2,
   "metadata": {},
   "outputs": [],
   "source": [
    "list_shift = [\n",
    "    ShiftType.Rotation,\n",
    "    ShiftType.Shear,\n",
    "    ShiftType.Flip,\n",
    "    ShiftType.All\n",
    "]\n",
    "\n",
    "list_shift_str = [\n",
    "    \"rotation\",\n",
    "    \"shear\",\n",
    "    \"flip\",\n",
    "    \"all\"\n",
    "]\n",
    "\n",
    "shift_type_param = {\"orig_dims\": ORIGINAL_SHAPE}"
   ]
  },
  {
   "cell_type": "code",
   "execution_count": null,
   "metadata": {},
   "outputs": [],
   "source": [
    "for shift_str, shift_type in tqdm(zip(list_shift_str, list_shift)):\n",
    "    dict_result = main_experiment(model, method, X_valid, y_valid,\n",
    "                             c_valid, X_test_flatten, y_test, c_test,\n",
    "                             shift_type, ORIGINAL_SHAPE, n_classes,\n",
    "                             concept_names, concept_values, \n",
    "                             shift_type_param, n_exp=50, n_std=2)\n",
    "    \n",
    "    # Save\n",
    "    save_result(shift_str, method_str, dict_result, True, \"3dshapes\")"
   ]
  },
  {
   "cell_type": "markdown",
   "metadata": {},
   "source": [
    "#### Gaussian shift"
   ]
  },
  {
   "cell_type": "code",
   "execution_count": null,
   "metadata": {},
   "outputs": [],
   "source": [
    "shift_type = ShiftType.Gaussian\n",
    "shift_type_params = None\n",
    "shift_str = \"gaussian\""
   ]
  },
  {
   "cell_type": "code",
   "execution_count": null,
   "metadata": {},
   "outputs": [],
   "source": [
    "dict_result = main_experiment(model, method, X_valid, y_valid,\n",
    "                             c_valid, X_test_flatten, y_test, c_test,\n",
    "                             shift_type, ORIGINAL_SHAPE, n_classes,\n",
    "                             concept_names, concept_values, \n",
    "                             shift_type_params, n_exp=50, n_std=2)"
   ]
  },
  {
   "cell_type": "code",
   "execution_count": null,
   "metadata": {},
   "outputs": [],
   "source": [
    "# Save file\n",
    "save_result(shift_str, method_str, dict_result, True, \"3dshapes\")"
   ]
  },
  {
   "cell_type": "markdown",
   "metadata": {},
   "source": [
    "#### Adversarial shift"
   ]
  },
  {
   "cell_type": "code",
   "execution_count": null,
   "metadata": {},
   "outputs": [],
   "source": [
    "shift_type = ShiftType.Adversarial\n",
    "shift_type_params = {\n",
    "    \"adv_samples\": adv_samples\n",
    "}\n",
    "shift_str = \"adversarial\""
   ]
  },
  {
   "cell_type": "code",
   "execution_count": null,
   "metadata": {},
   "outputs": [],
   "source": [
    "dict_result = main_experiment(model, method, X_valid, y_valid,\n",
    "                             c_valid, X_test_flatten, y_test, c_test,\n",
    "                             shift_type, ORIGINAL_SHAPE, n_classes,\n",
    "                             concept_names, concept_values, \n",
    "                             shift_type_params, n_exp=50, n_std=2)"
   ]
  },
  {
   "cell_type": "code",
   "execution_count": null,
   "metadata": {},
   "outputs": [],
   "source": [
    "# Save file\n",
    "save_result(shift_str, method_str, dict_result, True, \"3dshapes\")"
   ]
  },
  {
   "cell_type": "markdown",
   "metadata": {},
   "source": [
    "### BBSDh"
   ]
  },
  {
   "cell_type": "code",
   "execution_count": 36,
   "metadata": {},
   "outputs": [],
   "source": [
    "method = DimensionalityReductor.BBSDh\n",
    "model = end_to_end_model\n",
    "method_str = \"BBSDh\""
   ]
  },
  {
   "cell_type": "markdown",
   "metadata": {},
   "source": [
    "#### Knockout shift"
   ]
  },
  {
   "cell_type": "code",
   "execution_count": 8,
   "metadata": {},
   "outputs": [],
   "source": [
    "shift_type = ShiftType.Knockout\n",
    "shift_type_params = {\"cl\": MAJORITY}\n",
    "shift_str = \"ko\""
   ]
  },
  {
   "cell_type": "code",
   "execution_count": 14,
   "metadata": {},
   "outputs": [],
   "source": [
    "dict_result = main_experiment(model, method, X_valid, y_valid,\n",
    "                             c_valid, X_test_flatten, y_test, c_test,\n",
    "                             shift_type, ORIGINAL_SHAPE, n_classes,\n",
    "                             concept_names, concept_values, \n",
    "                             shift_type_params, n_exp=50, n_std=2)"
   ]
  },
  {
   "cell_type": "code",
   "execution_count": null,
   "metadata": {},
   "outputs": [],
   "source": [
    "# Save file\n",
    "save_result(shift_str, method_str, dict_result, True, \"3dshapes\")"
   ]
  },
  {
   "cell_type": "markdown",
   "metadata": {},
   "source": [
    "#### Concept shifts"
   ]
  },
  {
   "cell_type": "code",
   "execution_count": null,
   "metadata": {},
   "outputs": [],
   "source": [
    "shift_type = ShiftType.Concept\n",
    "\n",
    "list_shift_str = [\n",
    "    \"floor\",\n",
    "    \"wall\",\n",
    "    \"object_scale\",\n",
    "]\n",
    "\n",
    "list_shift_type_params = [\n",
    "    {\"cl\": MAJORITY, \"concept_idx\": 0}, # scale is index 2 in the concept names\n",
    "    {\"cl\": MAJORITY, \"concept_idx\": 1},\n",
    "    [{\"cl\": MAJORITY, \"concept_idx\": 2}, {\"cl\": MAJORITY, \"concept_idx\": 3}],\n",
    "]"
   ]
  },
  {
   "cell_type": "code",
   "execution_count": null,
   "metadata": {},
   "outputs": [],
   "source": [
    "for shift_str, shift_type_params in tqdm(zip(list_shift_str, list_shift_type_params)):\n",
    "    dict_result = main_experiment(model, method, X_valid, y_valid,\n",
    "                             c_valid, X_test_flatten, y_test, c_test,\n",
    "                             shift_type, ORIGINAL_SHAPE, n_classes,\n",
    "                             concept_names, concept_values, \n",
    "                             shift_type_params, n_exp=50, n_std=2)\n",
    "    \n",
    "    # Save\n",
    "    save_result(shift_str, method_str, dict_result, True, \"3dshapes\")"
   ]
  },
  {
   "cell_type": "markdown",
   "metadata": {},
   "source": [
    "#### Image shifts\n"
   ]
  },
  {
   "cell_type": "code",
   "execution_count": 2,
   "metadata": {},
   "outputs": [],
   "source": [
    "list_shift = [\n",
    "    ShiftType.Rotation,\n",
    "    ShiftType.Shear,\n",
    "    ShiftType.Flip,\n",
    "    ShiftType.All\n",
    "]\n",
    "\n",
    "list_shift_str = [\n",
    "    \"rotation\",\n",
    "    \"shear\",\n",
    "    \"flip\",\n",
    "    \"all\"\n",
    "]\n",
    "\n",
    "shift_type_param = {\"orig_dims\": ORIGINAL_SHAPE}"
   ]
  },
  {
   "cell_type": "code",
   "execution_count": null,
   "metadata": {},
   "outputs": [],
   "source": [
    "for shift_str, shift_type in tqdm(zip(list_shift_str, list_shift)):\n",
    "    dict_result = main_experiment(model, method, X_valid, y_valid,\n",
    "                             c_valid, X_test_flatten, y_test, c_test,\n",
    "                             shift_type, ORIGINAL_SHAPE, n_classes,\n",
    "                             concept_names, concept_values, \n",
    "                             shift_type_param, n_exp=50, n_std=2)\n",
    "    \n",
    "    # Save\n",
    "    save_result(shift_str, method_str, dict_result, True, \"3dshapes\")"
   ]
  },
  {
   "cell_type": "markdown",
   "metadata": {},
   "source": [
    "#### Gaussian shift"
   ]
  },
  {
   "cell_type": "code",
   "execution_count": null,
   "metadata": {},
   "outputs": [],
   "source": [
    "shift_type = ShiftType.Gaussian\n",
    "shift_type_params = None\n",
    "shift_str = \"gaussian\""
   ]
  },
  {
   "cell_type": "code",
   "execution_count": null,
   "metadata": {},
   "outputs": [],
   "source": [
    "dict_result = main_experiment(model, method, X_valid, y_valid,\n",
    "                             c_valid, X_test_flatten, y_test, c_test,\n",
    "                             shift_type, ORIGINAL_SHAPE, n_classes,\n",
    "                             concept_names, concept_values, \n",
    "                             shift_type_params, n_exp=50, n_std=2)"
   ]
  },
  {
   "cell_type": "code",
   "execution_count": null,
   "metadata": {},
   "outputs": [],
   "source": [
    "# Save file\n",
    "save_result(shift_str, method_str, dict_result, True, \"3dshapes\")"
   ]
  },
  {
   "cell_type": "markdown",
   "metadata": {},
   "source": [
    "#### Adversarial shift"
   ]
  },
  {
   "cell_type": "code",
   "execution_count": null,
   "metadata": {},
   "outputs": [],
   "source": [
    "shift_type = ShiftType.Adversarial\n",
    "shift_type_params = {\n",
    "    \"adv_samples\": adv_samples\n",
    "}\n",
    "shift_str = \"adversarial\""
   ]
  },
  {
   "cell_type": "code",
   "execution_count": null,
   "metadata": {},
   "outputs": [],
   "source": [
    "dict_result = main_experiment(model, method, X_valid, y_valid,\n",
    "                             c_valid, X_test_flatten, y_test, c_test,\n",
    "                             shift_type, ORIGINAL_SHAPE, n_classes,\n",
    "                             concept_names, concept_values, \n",
    "                             shift_type_params, n_exp=50, n_std=2)"
   ]
  },
  {
   "cell_type": "code",
   "execution_count": null,
   "metadata": {},
   "outputs": [],
   "source": [
    "# Save file\n",
    "save_result(shift_str, method_str, dict_result, True, \"3dshapes\")"
   ]
  },
  {
   "cell_type": "markdown",
   "metadata": {},
   "source": [
    "### CBSDs"
   ]
  },
  {
   "cell_type": "code",
   "execution_count": 36,
   "metadata": {},
   "outputs": [],
   "source": [
    "method = DimensionalityReductor.CBSDs\n",
    "model = mt_model\n",
    "method_str = \"CBSDs\""
   ]
  },
  {
   "cell_type": "markdown",
   "metadata": {},
   "source": [
    "#### Knockout shift"
   ]
  },
  {
   "cell_type": "code",
   "execution_count": 8,
   "metadata": {},
   "outputs": [],
   "source": [
    "shift_type = ShiftType.Knockout\n",
    "shift_type_params = {\"cl\": MAJORITY}\n",
    "shift_str = \"ko\""
   ]
  },
  {
   "cell_type": "code",
   "execution_count": 14,
   "metadata": {},
   "outputs": [],
   "source": [
    "dict_result = main_experiment(model, method, X_valid, y_valid,\n",
    "                             c_valid, X_test_flatten, y_test, c_test,\n",
    "                             shift_type, ORIGINAL_SHAPE, n_classes,\n",
    "                             concept_names, concept_values, \n",
    "                             shift_type_params, n_exp=50, n_std=2)"
   ]
  },
  {
   "cell_type": "code",
   "execution_count": null,
   "metadata": {},
   "outputs": [],
   "source": [
    "# Save file\n",
    "save_result(shift_str, method_str, dict_result, True, \"3dshapes\")"
   ]
  },
  {
   "cell_type": "markdown",
   "metadata": {},
   "source": [
    "#### Concept shifts"
   ]
  },
  {
   "cell_type": "code",
   "execution_count": null,
   "metadata": {},
   "outputs": [],
   "source": [
    "shift_type = ShiftType.Concept\n",
    "\n",
    "list_shift_str = [\n",
    "    \"floor\",\n",
    "    \"wall\",\n",
    "    \"object_scale\",\n",
    "]\n",
    "\n",
    "list_shift_type_params = [\n",
    "    {\"cl\": MAJORITY, \"concept_idx\": 0}, # scale is index 2 in the concept names\n",
    "    {\"cl\": MAJORITY, \"concept_idx\": 1},\n",
    "    [{\"cl\": MAJORITY, \"concept_idx\": 2}, {\"cl\": MAJORITY, \"concept_idx\": 3}],\n",
    "]"
   ]
  },
  {
   "cell_type": "code",
   "execution_count": null,
   "metadata": {},
   "outputs": [],
   "source": [
    "for shift_str, shift_type_params in tqdm(zip(list_shift_str, list_shift_type_params)):\n",
    "    dict_result = main_experiment(model, method, X_valid, y_valid,\n",
    "                             c_valid, X_test_flatten, y_test, c_test,\n",
    "                             shift_type, ORIGINAL_SHAPE, n_classes,\n",
    "                             concept_names, concept_values, \n",
    "                             shift_type_params, n_exp=50, n_std=2)\n",
    "    \n",
    "    # Save\n",
    "    save_result(shift_str, method_str, dict_result, True, \"3dshapes\")"
   ]
  },
  {
   "cell_type": "markdown",
   "metadata": {},
   "source": [
    "#### Image shifts\n"
   ]
  },
  {
   "cell_type": "code",
   "execution_count": 2,
   "metadata": {},
   "outputs": [],
   "source": [
    "list_shift = [\n",
    "    ShiftType.Rotation,\n",
    "    ShiftType.Shear,\n",
    "    ShiftType.Flip,\n",
    "    ShiftType.All\n",
    "]\n",
    "\n",
    "list_shift_str = [\n",
    "    \"rotation\",\n",
    "    \"shear\",\n",
    "    \"flip\",\n",
    "    \"all\"\n",
    "]\n",
    "\n",
    "shift_type_param = {\"orig_dims\": ORIGINAL_SHAPE}"
   ]
  },
  {
   "cell_type": "code",
   "execution_count": null,
   "metadata": {},
   "outputs": [],
   "source": [
    "for shift_str, shift_type in tqdm(zip(list_shift_str, list_shift)):\n",
    "    dict_result = main_experiment(model, method, X_valid, y_valid,\n",
    "                             c_valid, X_test_flatten, y_test, c_test,\n",
    "                             shift_type, ORIGINAL_SHAPE, n_classes,\n",
    "                             concept_names, concept_values, \n",
    "                             shift_type_param, n_exp=50, n_std=2)\n",
    "    \n",
    "    # Save\n",
    "    save_result(shift_str, method_str, dict_result, True, \"3dshapes\")"
   ]
  },
  {
   "cell_type": "markdown",
   "metadata": {},
   "source": [
    "#### Gaussian shift"
   ]
  },
  {
   "cell_type": "code",
   "execution_count": null,
   "metadata": {},
   "outputs": [],
   "source": [
    "shift_type = ShiftType.Gaussian\n",
    "shift_type_params = None\n",
    "shift_str = \"gaussian\""
   ]
  },
  {
   "cell_type": "code",
   "execution_count": null,
   "metadata": {},
   "outputs": [],
   "source": [
    "dict_result = main_experiment(model, method, X_valid, y_valid,\n",
    "                             c_valid, X_test_flatten, y_test, c_test,\n",
    "                             shift_type, ORIGINAL_SHAPE, n_classes,\n",
    "                             concept_names, concept_values, \n",
    "                             shift_type_params, n_exp=50, n_std=2)"
   ]
  },
  {
   "cell_type": "code",
   "execution_count": null,
   "metadata": {},
   "outputs": [],
   "source": [
    "# Save file\n",
    "save_result(shift_str, method_str, dict_result, True, \"3dshapes\")"
   ]
  },
  {
   "cell_type": "markdown",
   "metadata": {},
   "source": [
    "#### Adversarial shift"
   ]
  },
  {
   "cell_type": "code",
   "execution_count": null,
   "metadata": {},
   "outputs": [],
   "source": [
    "shift_type = ShiftType.Adversarial\n",
    "shift_type_params = {\n",
    "    \"adv_samples\": adv_samples\n",
    "}\n",
    "shift_str = \"adversarial\""
   ]
  },
  {
   "cell_type": "code",
   "execution_count": null,
   "metadata": {},
   "outputs": [],
   "source": [
    "dict_result = main_experiment(model, method, X_valid, y_valid,\n",
    "                             c_valid, X_test_flatten, y_test, c_test,\n",
    "                             shift_type, ORIGINAL_SHAPE, n_classes,\n",
    "                             concept_names, concept_values, \n",
    "                             shift_type_params, n_exp=50, n_std=2)"
   ]
  },
  {
   "cell_type": "code",
   "execution_count": null,
   "metadata": {},
   "outputs": [],
   "source": [
    "# Save file\n",
    "save_result(shift_str, method_str, dict_result, True, \"3dshapes\")"
   ]
  },
  {
   "cell_type": "markdown",
   "metadata": {},
   "source": [
    "### CBSDh"
   ]
  },
  {
   "cell_type": "code",
   "execution_count": 36,
   "metadata": {},
   "outputs": [],
   "source": [
    "method = DimensionalityReductor.CBSDh\n",
    "model = mt_model\n",
    "method_str = \"CBSDh\""
   ]
  },
  {
   "cell_type": "markdown",
   "metadata": {},
   "source": [
    "#### Knockout shift"
   ]
  },
  {
   "cell_type": "code",
   "execution_count": 8,
   "metadata": {},
   "outputs": [],
   "source": [
    "shift_type = ShiftType.Knockout\n",
    "shift_type_params = {\"cl\": MAJORITY}\n",
    "shift_str = \"ko\""
   ]
  },
  {
   "cell_type": "code",
   "execution_count": 14,
   "metadata": {},
   "outputs": [],
   "source": [
    "dict_result = main_experiment(model, method, X_valid, y_valid,\n",
    "                             c_valid, X_test_flatten, y_test, c_test,\n",
    "                             shift_type, ORIGINAL_SHAPE, n_classes,\n",
    "                             concept_names, concept_values, \n",
    "                             shift_type_params, n_exp=50, n_std=2)"
   ]
  },
  {
   "cell_type": "code",
   "execution_count": null,
   "metadata": {},
   "outputs": [],
   "source": [
    "# Save file\n",
    "save_result(shift_str, method_str, dict_result, True, \"3dshapes\")"
   ]
  },
  {
   "cell_type": "markdown",
   "metadata": {},
   "source": [
    "#### Concept shifts"
   ]
  },
  {
   "cell_type": "code",
   "execution_count": null,
   "metadata": {},
   "outputs": [],
   "source": [
    "shift_type = ShiftType.Concept\n",
    "\n",
    "list_shift_str = [\n",
    "    \"floor\",\n",
    "    \"wall\",\n",
    "    \"object_scale\",\n",
    "]\n",
    "\n",
    "list_shift_type_params = [\n",
    "    {\"cl\": MAJORITY, \"concept_idx\": 0}, # scale is index 2 in the concept names\n",
    "    {\"cl\": MAJORITY, \"concept_idx\": 1},\n",
    "    [{\"cl\": MAJORITY, \"concept_idx\": 2}, {\"cl\": MAJORITY, \"concept_idx\": 3}],\n",
    "]"
   ]
  },
  {
   "cell_type": "code",
   "execution_count": null,
   "metadata": {},
   "outputs": [],
   "source": [
    "for shift_str, shift_type_params in tqdm(zip(list_shift_str, list_shift_type_params)):\n",
    "    dict_result = main_experiment(model, method, X_valid, y_valid,\n",
    "                             c_valid, X_test_flatten, y_test, c_test,\n",
    "                             shift_type, ORIGINAL_SHAPE, n_classes,\n",
    "                             concept_names, concept_values, \n",
    "                             shift_type_params, n_exp=50, n_std=2)\n",
    "    \n",
    "    # Save\n",
    "    save_result(shift_str, method_str, dict_result, True, \"3dshapes\")"
   ]
  },
  {
   "cell_type": "markdown",
   "metadata": {},
   "source": [
    "#### Image shifts\n"
   ]
  },
  {
   "cell_type": "code",
   "execution_count": 2,
   "metadata": {},
   "outputs": [],
   "source": [
    "list_shift = [\n",
    "    ShiftType.Rotation,\n",
    "    ShiftType.Shear,\n",
    "    ShiftType.Flip,\n",
    "    ShiftType.All\n",
    "]\n",
    "\n",
    "list_shift_str = [\n",
    "    \"rotation\",\n",
    "    \"shear\",\n",
    "    \"flip\",\n",
    "    \"all\"\n",
    "]\n",
    "\n",
    "shift_type_param = {\"orig_dims\": ORIGINAL_SHAPE}"
   ]
  },
  {
   "cell_type": "code",
   "execution_count": null,
   "metadata": {},
   "outputs": [],
   "source": [
    "for shift_str, shift_type in tqdm(zip(list_shift_str, list_shift)):\n",
    "    dict_result = main_experiment(model, method, X_valid, y_valid,\n",
    "                             c_valid, X_test_flatten, y_test, c_test,\n",
    "                             shift_type, ORIGINAL_SHAPE, n_classes,\n",
    "                             concept_names, concept_values, \n",
    "                             shift_type_param, n_exp=50, n_std=2)\n",
    "    \n",
    "    # Save\n",
    "    save_result(shift_str, method_str, dict_result, True, \"3dshapes\")"
   ]
  },
  {
   "cell_type": "markdown",
   "metadata": {},
   "source": [
    "#### Gaussian shift"
   ]
  },
  {
   "cell_type": "code",
   "execution_count": null,
   "metadata": {},
   "outputs": [],
   "source": [
    "shift_type = ShiftType.Gaussian\n",
    "shift_type_params = None\n",
    "shift_str = \"gaussian\""
   ]
  },
  {
   "cell_type": "code",
   "execution_count": null,
   "metadata": {},
   "outputs": [],
   "source": [
    "dict_result = main_experiment(model, method, X_valid, y_valid,\n",
    "                             c_valid, X_test_flatten, y_test, c_test,\n",
    "                             shift_type, ORIGINAL_SHAPE, n_classes,\n",
    "                             concept_names, concept_values, \n",
    "                             shift_type_params, n_exp=50, n_std=2)"
   ]
  },
  {
   "cell_type": "code",
   "execution_count": null,
   "metadata": {},
   "outputs": [],
   "source": [
    "# Save file\n",
    "save_result(shift_str, method_str, dict_result, True, \"3dshapes\")"
   ]
  },
  {
   "cell_type": "markdown",
   "metadata": {},
   "source": [
    "#### Adversarial shift"
   ]
  },
  {
   "cell_type": "code",
   "execution_count": null,
   "metadata": {},
   "outputs": [],
   "source": [
    "shift_type = ShiftType.Adversarial\n",
    "shift_type_params = {\n",
    "    \"adv_samples\": adv_samples\n",
    "}\n",
    "shift_str = \"adversarial\""
   ]
  },
  {
   "cell_type": "code",
   "execution_count": null,
   "metadata": {},
   "outputs": [],
   "source": [
    "dict_result = main_experiment(model, method, X_valid, y_valid,\n",
    "                             c_valid, X_test_flatten, y_test, c_test,\n",
    "                             shift_type, ORIGINAL_SHAPE, n_classes,\n",
    "                             concept_names, concept_values, \n",
    "                             shift_type_params, n_exp=50, n_std=2)"
   ]
  },
  {
   "cell_type": "code",
   "execution_count": null,
   "metadata": {},
   "outputs": [],
   "source": [
    "# Save file\n",
    "save_result(shift_str, method_str, dict_result, True, \"3dshapes\")"
   ]
  }
 ],
 "metadata": {
  "kernelspec": {
   "display_name": "Python 3",
   "language": "python",
   "name": "python3"
  },
  "language_info": {
   "codemirror_mode": {
    "name": "ipython",
    "version": 3
   },
   "file_extension": ".py",
   "mimetype": "text/x-python",
   "name": "python",
   "nbconvert_exporter": "python",
   "pygments_lexer": "ipython3",
   "version": "3.7.6"
  }
 },
 "nbformat": 4,
 "nbformat_minor": 5
}
