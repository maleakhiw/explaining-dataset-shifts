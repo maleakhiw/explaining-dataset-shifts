{
 "cells": [
  {
   "cell_type": "markdown",
   "id": "identified-humidity",
   "metadata": {},
   "source": [
    "# Shift maliciousness (3dshapes)\n",
    "\n",
    "**Author**: Maleakhi A. Wijaya  \n",
    "**Description**: Inspect the maliciousness of different type and intensity of shifts."
   ]
  },
  {
   "cell_type": "code",
   "execution_count": 1,
   "id": "located-electron",
   "metadata": {},
   "outputs": [],
   "source": [
    "# Load utilities functions\n",
    "%run ../../scripts/constants.py\n",
    "%run ../../scripts/3dshapes_utils.py\n",
    "%run ../../scripts/shift_applicator.py\n",
    "%run ../../scripts/shift_dimensionality_reductor.py\n",
    "%run ../../scripts/experiment_utils.py\n",
    "%run ../../scripts/shift_statistical_test.py\n",
    "from sklearn.metrics import accuracy_score"
   ]
  },
  {
   "cell_type": "code",
   "execution_count": 2,
   "id": "comfortable-classic",
   "metadata": {},
   "outputs": [],
   "source": [
    "## Random seed\n",
    "SEED = 20\n",
    "np.random.seed(SEED)\n",
    "tf.random.set_seed(SEED)"
   ]
  },
  {
   "cell_type": "markdown",
   "id": "prospective-vacation",
   "metadata": {},
   "source": [
    "## Load dataset"
   ]
  },
  {
   "cell_type": "code",
   "execution_count": 3,
   "id": "urban-trigger",
   "metadata": {},
   "outputs": [
    {
     "name": "stdout",
     "output_type": "stream",
     "text": [
      "Training samples: 56000\n",
      "Testing samples: 14000\n"
     ]
    }
   ],
   "source": [
    "files_dir = \"../../data/3dshapes.h5\"\n",
    "# index 0 = image category\n",
    "X_train, X_test, y_train, y_test, c_train, c_test = train_test_split_3dshapes(files_dir, 70000, DatasetTask.Task1, \n",
    "                                                                               train_size=0.80, class_index=3)"
   ]
  },
  {
   "cell_type": "code",
   "execution_count": 4,
   "id": "flush-jacob",
   "metadata": {},
   "outputs": [],
   "source": [
    "n_classes = len(np.unique(np.concatenate([y_train, y_test])))\n",
    "concept_names = SHAPES3D_CONCEPT_NAMES\n",
    "concept_values = [len(np.unique(np.concatenate([c_train[:, i], c_test[:, i]]))) for i in range(c_train.shape[1])]\n",
    "\n",
    "# Split training into validation set as well \n",
    "X_train, X_valid = X_train[:40000], X_train[40000:]\n",
    "y_train, y_valid = y_train[:40000], y_train[40000:]\n",
    "c_train, c_valid = c_train[:40000], c_train[40000:]"
   ]
  },
  {
   "cell_type": "code",
   "execution_count": 5,
   "id": "industrial-cement",
   "metadata": {},
   "outputs": [],
   "source": [
    "# Load adversarial samples (we will need this for adversarial\n",
    "# shift).\n",
    "adv_samples = np.load(\"../../data/adversarial_samples/X_adversarial_3dshapes.npy\")"
   ]
  },
  {
   "cell_type": "code",
   "execution_count": 6,
   "id": "neither-acting",
   "metadata": {},
   "outputs": [],
   "source": [
    "# Reshape to appropriate shift input\n",
    "# It is noteworthy that for efficiency, we represent the images as only 2 dimension\n",
    "# when we preprocessing (number of instances/ batch size * flatten size).\n",
    "# When visualising back the image, we need to reshape it back to the original dimension\n",
    "ORIGINAL_SHAPE = X_test.shape[1:] # constant hold the image original shape\n",
    "X_test_flatten = deepcopy(X_test.reshape(X_test.shape[0], -1))\n",
    "X_train_flatten = deepcopy(X_train.reshape(X_train.shape[0], -1))\n",
    "X_valid_flatten = deepcopy(X_valid.reshape(X_valid.shape[0], -1))"
   ]
  },
  {
   "cell_type": "markdown",
   "id": "atomic-concord",
   "metadata": {},
   "source": [
    "## Load models & original prediction results"
   ]
  },
  {
   "cell_type": "code",
   "execution_count": 7,
   "id": "interracial-detail",
   "metadata": {},
   "outputs": [],
   "source": [
    "path = \"../../models/end_to_end_3dshapes_task1\"\n",
    "end_to_end_model = tf.keras.models.load_model(path)\n",
    "\n",
    "path = \"../../models/multitask_3dshapes\"\n",
    "itc_model = tf.keras.models.load_model(path)"
   ]
  },
  {
   "cell_type": "code",
   "execution_count": 10,
   "id": "wanted-sound",
   "metadata": {},
   "outputs": [
    {
     "name": "stdout",
     "output_type": "stream",
     "text": [
      "Accuracy: 1.0\n"
     ]
    }
   ],
   "source": [
    "# Evaluate model (FFNN)\n",
    "y_pred = end_to_end_model.predict(X_test)\n",
    "y_pred = np.argmax(y_pred, axis=1)\n",
    "print(f\"Accuracy: {accuracy_score(y_test, y_pred)}\")"
   ]
  },
  {
   "cell_type": "code",
   "execution_count": 11,
   "id": "positive-ordinary",
   "metadata": {},
   "outputs": [
    {
     "name": "stdout",
     "output_type": "stream",
     "text": [
      "******************** Model: floor ********************\n",
      "Accuracy: 1.0\n",
      "******************** Model: wall ********************\n",
      "Accuracy: 1.0\n",
      "******************** Model: object ********************\n",
      "Accuracy: 1.0\n",
      "******************** Model: scale ********************\n",
      "Accuracy: 1.0\n",
      "******************** Model: shape ********************\n",
      "Accuracy: 1.0\n",
      "******************** Model: orientation ********************\n",
      "Accuracy: 1.0\n"
     ]
    }
   ],
   "source": [
    "# Evaluate model (concept bottleneck model)\n",
    "for i, pred in enumerate(itc_model.predict(X_test)):\n",
    "    print(\"*\"*20, f\"Model: {SHAPES3D_CONCEPT_NAMES[i]}\", \"*\"*20)\n",
    "    c_truth = c_test[:, i]\n",
    "    c_pred = np.argmax(pred, axis=1)\n",
    "    \n",
    "    print(f\"Accuracy: {accuracy_score(c_truth, c_pred)}\")"
   ]
  },
  {
   "cell_type": "markdown",
   "id": "interstate-chrome",
   "metadata": {},
   "source": [
    "## Gaussian shift"
   ]
  },
  {
   "cell_type": "code",
   "execution_count": 12,
   "id": "multiple-bloom",
   "metadata": {},
   "outputs": [],
   "source": [
    "shift_intensities = [ShiftIntensity.Small, ShiftIntensity.Medium, ShiftIntensity.Large]\n",
    "X_gaussian = []\n",
    "\n",
    "for shift_intensity in shift_intensities:\n",
    "    X_shifted = deepcopy(X_test_flatten)\n",
    "    X_shifted, _ = apply_gaussian_shift(X_shifted, y_test, shift_intensity, 1.0)\n",
    "    X_shifted = X_shifted.reshape(-1, ORIGINAL_SHAPE[0], ORIGINAL_SHAPE[1], ORIGINAL_SHAPE[2])\n",
    "    X_gaussian.append(X_shifted)"
   ]
  },
  {
   "cell_type": "code",
   "execution_count": 13,
   "id": "flush-correction",
   "metadata": {},
   "outputs": [
    {
     "name": "stdout",
     "output_type": "stream",
     "text": [
      "******************** small ********************\n",
      "Accuracy: 1.0\n",
      "******************** medium ********************\n",
      "Accuracy: 1.0\n",
      "******************** large ********************\n",
      "Accuracy: 0.7172142857142857\n"
     ]
    }
   ],
   "source": [
    "# Print accuracy score (end-to-end)\n",
    "for x, intensity_str in zip(X_gaussian, [\"small\", \"medium\", \"large\"]):\n",
    "    print(\"*\"*20, intensity_str, \"*\"*20)\n",
    "    y_pred = end_to_end_model.predict(x)\n",
    "    y_pred = np.argmax(y_pred, axis=1)\n",
    "    print(f\"Accuracy: {accuracy_score(y_test, y_pred)}\")"
   ]
  },
  {
   "cell_type": "code",
   "execution_count": 14,
   "id": "anticipated-integrity",
   "metadata": {
    "scrolled": true
   },
   "outputs": [
    {
     "name": "stdout",
     "output_type": "stream",
     "text": [
      "******************** small ********************\n",
      "********** Model: floor **********\n",
      "Accuracy: 1.0\n",
      "********** Model: wall **********\n",
      "Accuracy: 1.0\n",
      "********** Model: object **********\n",
      "Accuracy: 1.0\n",
      "********** Model: scale **********\n",
      "Accuracy: 1.0\n",
      "********** Model: shape **********\n",
      "Accuracy: 1.0\n",
      "********** Model: orientation **********\n",
      "Accuracy: 1.0\n",
      "\n",
      "******************** medium ********************\n",
      "********** Model: floor **********\n",
      "Accuracy: 1.0\n",
      "********** Model: wall **********\n",
      "Accuracy: 1.0\n",
      "********** Model: object **********\n",
      "Accuracy: 1.0\n",
      "********** Model: scale **********\n",
      "Accuracy: 1.0\n",
      "********** Model: shape **********\n",
      "Accuracy: 1.0\n",
      "********** Model: orientation **********\n",
      "Accuracy: 1.0\n",
      "\n",
      "******************** large ********************\n",
      "********** Model: floor **********\n",
      "Accuracy: 0.9168571428571428\n",
      "********** Model: wall **********\n",
      "Accuracy: 0.7029285714285715\n",
      "********** Model: object **********\n",
      "Accuracy: 0.5894285714285714\n",
      "********** Model: scale **********\n",
      "Accuracy: 0.6237142857142857\n",
      "********** Model: shape **********\n",
      "Accuracy: 0.7759285714285714\n",
      "********** Model: orientation **********\n",
      "Accuracy: 0.6925714285714286\n",
      "\n"
     ]
    }
   ],
   "source": [
    "# Print accuracy score (cbm)\n",
    "for x, intensity_str in zip(X_gaussian, [\"small\", \"medium\", \"large\"]):\n",
    "    print(\"*\"*20, intensity_str, \"*\"*20)\n",
    "    for i, pred in enumerate(itc_model.predict(x)):\n",
    "        print(\"*\"*10, f\"Model: {SHAPES3D_CONCEPT_NAMES[i]}\", \"*\"*10)\n",
    "        c_truth = c_test[:, i]\n",
    "        c_pred = np.argmax(pred, axis=1)\n",
    "\n",
    "        print(f\"Accuracy: {accuracy_score(c_truth, c_pred)}\")\n",
    "    print()"
   ]
  },
  {
   "cell_type": "markdown",
   "id": "authorized-timber",
   "metadata": {},
   "source": [
    "## Knockout shift"
   ]
  },
  {
   "cell_type": "code",
   "execution_count": 15,
   "id": "understood-giving",
   "metadata": {},
   "outputs": [],
   "source": [
    "shift_intensities = [ShiftIntensity.Small, ShiftIntensity.Medium, ShiftIntensity.Large]\n",
    "X_ko = []\n",
    "y_ko = []\n",
    "c_ko = []\n",
    "\n",
    "for shift_intensity in shift_intensities:\n",
    "    X_shifted, y_shifted, c_shifted = deepcopy(X_test_flatten), deepcopy(y_test), deepcopy(c_test)\n",
    "    X_shifted, y_shifted, c_shifted = apply_ko_shift(X_shifted, y_shifted, c_shifted, shift_intensity, cl=MAJORITY)\n",
    "    X_shifted = X_shifted.reshape(-1, ORIGINAL_SHAPE[0], ORIGINAL_SHAPE[1], ORIGINAL_SHAPE[2])\n",
    "    X_ko.append(X_shifted)\n",
    "    y_ko.append(y_shifted)\n",
    "    c_ko.append(c_shifted)"
   ]
  },
  {
   "cell_type": "code",
   "execution_count": 16,
   "id": "bound-subscription",
   "metadata": {},
   "outputs": [
    {
     "name": "stdout",
     "output_type": "stream",
     "text": [
      "******************** small ********************\n",
      "Accuracy: 1.0\n",
      "******************** medium ********************\n",
      "Accuracy: 1.0\n",
      "******************** large ********************\n",
      "Accuracy: 1.0\n"
     ]
    }
   ],
   "source": [
    "# Print accuracy score (end-to-end)\n",
    "for x, y, c, intensity_str in zip(X_ko, y_ko, c_ko, [\"small\", \"medium\", \"large\"]):\n",
    "    print(\"*\"*20, intensity_str, \"*\"*20)\n",
    "    y_pred = end_to_end_model.predict(x)\n",
    "    y_pred = np.argmax(y_pred, axis=1)\n",
    "    print(f\"Accuracy: {accuracy_score(y, y_pred)}\")"
   ]
  },
  {
   "cell_type": "code",
   "execution_count": 17,
   "id": "hybrid-exhaust",
   "metadata": {
    "scrolled": true
   },
   "outputs": [
    {
     "name": "stdout",
     "output_type": "stream",
     "text": [
      "******************** small ********************\n",
      "********** Model: floor **********\n",
      "Accuracy: 1.0\n",
      "********** Model: wall **********\n",
      "Accuracy: 1.0\n",
      "********** Model: object **********\n",
      "Accuracy: 1.0\n",
      "********** Model: scale **********\n",
      "Accuracy: 1.0\n",
      "********** Model: shape **********\n",
      "Accuracy: 1.0\n",
      "********** Model: orientation **********\n",
      "Accuracy: 1.0\n",
      "\n",
      "******************** medium ********************\n",
      "********** Model: floor **********\n",
      "Accuracy: 1.0\n",
      "********** Model: wall **********\n",
      "Accuracy: 1.0\n",
      "********** Model: object **********\n",
      "Accuracy: 1.0\n",
      "********** Model: scale **********\n",
      "Accuracy: 1.0\n",
      "********** Model: shape **********\n",
      "Accuracy: 1.0\n",
      "********** Model: orientation **********\n",
      "Accuracy: 1.0\n",
      "\n",
      "******************** large ********************\n",
      "********** Model: floor **********\n",
      "Accuracy: 1.0\n",
      "********** Model: wall **********\n",
      "Accuracy: 1.0\n",
      "********** Model: object **********\n",
      "Accuracy: 1.0\n",
      "********** Model: scale **********\n",
      "Accuracy: 1.0\n",
      "********** Model: shape **********\n",
      "Accuracy: 1.0\n",
      "********** Model: orientation **********\n",
      "Accuracy: 1.0\n",
      "\n"
     ]
    }
   ],
   "source": [
    "# Print accuracy score (cbm)\n",
    "for x, y, c, intensity_str in zip(X_ko, y_ko, c_ko, [\"small\", \"medium\", \"large\"]):\n",
    "    print(\"*\"*20, intensity_str, \"*\"*20)\n",
    "    for i, pred in enumerate(itc_model.predict(x)):\n",
    "        print(\"*\"*10, f\"Model: {SHAPES3D_CONCEPT_NAMES[i]}\", \"*\"*10)\n",
    "        c_truth = c[:, i]\n",
    "        c_pred = np.argmax(pred, axis=1)\n",
    "\n",
    "        print(f\"Accuracy: {accuracy_score(c_truth, c_pred)}\")\n",
    "    print()"
   ]
  },
  {
   "cell_type": "markdown",
   "id": "natural-friendly",
   "metadata": {},
   "source": [
    "## Concept shift"
   ]
  },
  {
   "cell_type": "code",
   "execution_count": 18,
   "id": "subject-kenya",
   "metadata": {},
   "outputs": [],
   "source": [
    "shift_intensities = [ShiftIntensity.Small, ShiftIntensity.Medium, ShiftIntensity.Large]\n",
    "X_cs = []\n",
    "y_cs = []\n",
    "c_cs = []\n",
    "\n",
    "for shift_intensity in shift_intensities:\n",
    "    X_shifted, y_shifted, c_shifted = deepcopy(X_test_flatten), deepcopy(y_test), deepcopy(c_test)\n",
    "    X_shifted, y_shifted, c_shifted = apply_concept_shift(X_shifted, y_shifted, c_shifted, 2, shift_intensity, cl=MAJORITY)\n",
    "    X_shifted = X_shifted.reshape(-1, ORIGINAL_SHAPE[0], ORIGINAL_SHAPE[1], ORIGINAL_SHAPE[2])\n",
    "    X_cs.append(X_shifted)\n",
    "    y_cs.append(y_shifted)\n",
    "    c_cs.append(c_shifted)"
   ]
  },
  {
   "cell_type": "code",
   "execution_count": 19,
   "id": "promising-bottle",
   "metadata": {},
   "outputs": [
    {
     "name": "stdout",
     "output_type": "stream",
     "text": [
      "******************** small ********************\n",
      "Accuracy: 1.0\n",
      "******************** medium ********************\n",
      "Accuracy: 1.0\n",
      "******************** large ********************\n",
      "Accuracy: 1.0\n"
     ]
    }
   ],
   "source": [
    "# Print accuracy score (end-to-end)\n",
    "for x, y, c, intensity_str in zip(X_cs, y_cs, c_cs, [\"small\", \"medium\", \"large\"]):\n",
    "    print(\"*\"*20, intensity_str, \"*\"*20)\n",
    "    y_pred = end_to_end_model.predict(x)\n",
    "    y_pred = np.argmax(y_pred, axis=1)\n",
    "    print(f\"Accuracy: {accuracy_score(y, y_pred)}\")"
   ]
  },
  {
   "cell_type": "code",
   "execution_count": 20,
   "id": "identical-theater",
   "metadata": {
    "scrolled": true
   },
   "outputs": [
    {
     "name": "stdout",
     "output_type": "stream",
     "text": [
      "******************** small ********************\n",
      "********** Model: floor **********\n",
      "Accuracy: 1.0\n",
      "********** Model: wall **********\n",
      "Accuracy: 1.0\n",
      "********** Model: object **********\n",
      "Accuracy: 1.0\n",
      "********** Model: scale **********\n",
      "Accuracy: 1.0\n",
      "********** Model: shape **********\n",
      "Accuracy: 1.0\n",
      "********** Model: orientation **********\n",
      "Accuracy: 1.0\n",
      "\n",
      "******************** medium ********************\n",
      "********** Model: floor **********\n",
      "Accuracy: 1.0\n",
      "********** Model: wall **********\n",
      "Accuracy: 1.0\n",
      "********** Model: object **********\n",
      "Accuracy: 1.0\n",
      "********** Model: scale **********\n",
      "Accuracy: 1.0\n",
      "********** Model: shape **********\n",
      "Accuracy: 1.0\n",
      "********** Model: orientation **********\n",
      "Accuracy: 1.0\n",
      "\n",
      "******************** large ********************\n",
      "********** Model: floor **********\n",
      "Accuracy: 1.0\n",
      "********** Model: wall **********\n",
      "Accuracy: 1.0\n",
      "********** Model: object **********\n",
      "Accuracy: 1.0\n",
      "********** Model: scale **********\n",
      "Accuracy: 1.0\n",
      "********** Model: shape **********\n",
      "Accuracy: 1.0\n",
      "********** Model: orientation **********\n",
      "Accuracy: 1.0\n",
      "\n"
     ]
    }
   ],
   "source": [
    "# Print accuracy score (cbm)\n",
    "for x, y, c, intensity_str in zip(X_cs, y_cs, c_cs, [\"small\", \"medium\", \"large\"]):\n",
    "    print(\"*\"*20, intensity_str, \"*\"*20)\n",
    "    for i, pred in enumerate(itc_model.predict(x)):\n",
    "        print(\"*\"*10, f\"Model: {SHAPES3D_CONCEPT_NAMES[i]}\", \"*\"*10)\n",
    "        c_truth = c[:, i]\n",
    "        c_pred = np.argmax(pred, axis=1)\n",
    "\n",
    "        print(f\"Accuracy: {accuracy_score(c_truth, c_pred)}\")\n",
    "    print()"
   ]
  },
  {
   "cell_type": "markdown",
   "id": "blessed-translator",
   "metadata": {},
   "source": [
    "## Image shift"
   ]
  },
  {
   "cell_type": "code",
   "execution_count": 8,
   "id": "scheduled-offense",
   "metadata": {},
   "outputs": [],
   "source": [
    "shift_intensities = [ShiftIntensity.Small, ShiftIntensity.Medium, ShiftIntensity.Large]\n",
    "X_img = []\n",
    "\n",
    "for shift_intensity in shift_intensities:\n",
    "    X_shifted = deepcopy(X_test_flatten)\n",
    "    X_shifted, _ = apply_img_shift(X_shifted, y_test, ORIGINAL_SHAPE,\n",
    "                                   shift_intensity, 1.0, ShiftType.All)\n",
    "    X_shifted = X_shifted.reshape(-1, ORIGINAL_SHAPE[0], ORIGINAL_SHAPE[1], ORIGINAL_SHAPE[2])\n",
    "    X_img.append(X_shifted)"
   ]
  },
  {
   "cell_type": "code",
   "execution_count": 9,
   "id": "funded-million",
   "metadata": {},
   "outputs": [
    {
     "name": "stdout",
     "output_type": "stream",
     "text": [
      "******************** small ********************\n",
      "Accuracy: 0.25485714285714284\n",
      "******************** medium ********************\n",
      "Accuracy: 0.14535714285714285\n",
      "******************** large ********************\n",
      "Accuracy: 0.12792857142857142\n"
     ]
    }
   ],
   "source": [
    "# Print accuracy score (end-to-end)\n",
    "for x, intensity_str in zip(X_img, [\"small\", \"medium\", \"large\"]):\n",
    "    print(\"*\"*20, intensity_str, \"*\"*20)\n",
    "    y_pred = end_to_end_model.predict(x)\n",
    "    y_pred = np.argmax(y_pred, axis=1)\n",
    "    print(f\"Accuracy: {accuracy_score(y_test, y_pred)}\")"
   ]
  },
  {
   "cell_type": "code",
   "execution_count": 10,
   "id": "liable-discretion",
   "metadata": {
    "scrolled": true
   },
   "outputs": [
    {
     "name": "stdout",
     "output_type": "stream",
     "text": [
      "******************** small ********************\n",
      "********** Model: floor **********\n",
      "Accuracy: 0.999\n",
      "********** Model: wall **********\n",
      "Accuracy: 0.8791428571428571\n",
      "********** Model: object **********\n",
      "Accuracy: 0.9256428571428571\n",
      "********** Model: scale **********\n",
      "Accuracy: 0.28535714285714286\n",
      "********** Model: shape **********\n",
      "Accuracy: 0.7187142857142857\n",
      "********** Model: orientation **********\n",
      "Accuracy: 0.30378571428571427\n",
      "\n",
      "******************** medium ********************\n",
      "********** Model: floor **********\n",
      "Accuracy: 0.8062142857142857\n",
      "********** Model: wall **********\n",
      "Accuracy: 0.403\n",
      "********** Model: object **********\n",
      "Accuracy: 0.49457142857142855\n",
      "********** Model: scale **********\n",
      "Accuracy: 0.1417857142857143\n",
      "********** Model: shape **********\n",
      "Accuracy: 0.2934285714285714\n",
      "********** Model: orientation **********\n",
      "Accuracy: 0.07671428571428572\n",
      "\n",
      "******************** large ********************\n",
      "********** Model: floor **********\n",
      "Accuracy: 0.4575714285714286\n",
      "********** Model: wall **********\n",
      "Accuracy: 0.20864285714285713\n",
      "********** Model: object **********\n",
      "Accuracy: 0.2092142857142857\n",
      "********** Model: scale **********\n",
      "Accuracy: 0.12892857142857142\n",
      "********** Model: shape **********\n",
      "Accuracy: 0.25657142857142856\n",
      "********** Model: orientation **********\n",
      "Accuracy: 0.0745\n",
      "\n"
     ]
    }
   ],
   "source": [
    "# Print accuracy score (cbm)\n",
    "for x, intensity_str in zip(X_img, [\"small\", \"medium\", \"large\"]):\n",
    "    print(\"*\"*20, intensity_str, \"*\"*20)\n",
    "    for i, pred in enumerate(itc_model.predict(x)):\n",
    "        print(\"*\"*10, f\"Model: {SHAPES3D_CONCEPT_NAMES[i]}\", \"*\"*10)\n",
    "        c_truth = c_test[:, i]\n",
    "        c_pred = np.argmax(pred, axis=1)\n",
    "\n",
    "        print(f\"Accuracy: {accuracy_score(c_truth, c_pred)}\")\n",
    "    print()"
   ]
  },
  {
   "cell_type": "markdown",
   "id": "starting-pharmaceutical",
   "metadata": {},
   "source": [
    "## Adversarial Shift"
   ]
  },
  {
   "cell_type": "code",
   "execution_count": 11,
   "id": "associate-dutch",
   "metadata": {},
   "outputs": [],
   "source": [
    "shift_intensities = [ShiftIntensity.Small, ShiftIntensity.Medium, ShiftIntensity.Large]\n",
    "X_adv = []\n",
    "\n",
    "for shift_intensity in shift_intensities:\n",
    "    X_shifted = deepcopy(X_test_flatten)\n",
    "    X_shifted, _ = apply_adversarial_shift(X_shifted, y_test, adv_samples,\n",
    "                                   range(len(X_shifted)), shift_intensity)\n",
    "    X_shifted = X_shifted.reshape(-1, ORIGINAL_SHAPE[0], ORIGINAL_SHAPE[1], ORIGINAL_SHAPE[2])\n",
    "    X_adv.append(X_shifted)"
   ]
  },
  {
   "cell_type": "code",
   "execution_count": 12,
   "id": "timely-increase",
   "metadata": {},
   "outputs": [
    {
     "name": "stdout",
     "output_type": "stream",
     "text": [
      "******************** small ********************\n",
      "Accuracy: 0.9353571428571429\n",
      "******************** medium ********************\n",
      "Accuracy: 0.6747142857142857\n",
      "******************** large ********************\n",
      "Accuracy: 0.3485\n"
     ]
    }
   ],
   "source": [
    "# Print accuracy score (end-to-end)\n",
    "for x, intensity_str in zip(X_adv, [\"small\", \"medium\", \"large\"]):\n",
    "    print(\"*\"*20, intensity_str, \"*\"*20)\n",
    "    y_pred = end_to_end_model.predict(x)\n",
    "    y_pred = np.argmax(y_pred, axis=1)\n",
    "    print(f\"Accuracy: {accuracy_score(y_test, y_pred)}\")"
   ]
  },
  {
   "cell_type": "code",
   "execution_count": 13,
   "id": "temporal-lloyd",
   "metadata": {
    "scrolled": true
   },
   "outputs": [
    {
     "name": "stdout",
     "output_type": "stream",
     "text": [
      "******************** small ********************\n",
      "********** Model: floor **********\n",
      "Accuracy: 0.9990714285714286\n",
      "********** Model: wall **********\n",
      "Accuracy: 0.9970714285714286\n",
      "********** Model: object **********\n",
      "Accuracy: 0.9913571428571428\n",
      "********** Model: scale **********\n",
      "Accuracy: 0.9503571428571429\n",
      "********** Model: shape **********\n",
      "Accuracy: 0.9872857142857143\n",
      "********** Model: orientation **********\n",
      "Accuracy: 0.9914285714285714\n",
      "\n",
      "******************** medium ********************\n",
      "********** Model: floor **********\n",
      "Accuracy: 0.9955714285714286\n",
      "********** Model: wall **********\n",
      "Accuracy: 0.9879285714285714\n",
      "********** Model: object **********\n",
      "Accuracy: 0.9519285714285715\n",
      "********** Model: scale **********\n",
      "Accuracy: 0.7466428571428572\n",
      "********** Model: shape **********\n",
      "Accuracy: 0.9318571428571428\n",
      "********** Model: orientation **********\n",
      "Accuracy: 0.9625\n",
      "\n",
      "******************** large ********************\n",
      "********** Model: floor **********\n",
      "Accuracy: 0.9894285714285714\n",
      "********** Model: wall **********\n",
      "Accuracy: 0.9722857142857143\n",
      "********** Model: object **********\n",
      "Accuracy: 0.9050714285714285\n",
      "********** Model: scale **********\n",
      "Accuracy: 0.49392857142857144\n",
      "********** Model: shape **********\n",
      "Accuracy: 0.8635\n",
      "********** Model: orientation **********\n",
      "Accuracy: 0.9207142857142857\n",
      "\n"
     ]
    }
   ],
   "source": [
    "# Print accuracy score (cbm)\n",
    "for x, intensity_str in zip(X_adv, [\"small\", \"medium\", \"large\"]):\n",
    "    print(\"*\"*20, intensity_str, \"*\"*20)\n",
    "    for i, pred in enumerate(itc_model.predict(x)):\n",
    "        print(\"*\"*10, f\"Model: {SHAPES3D_CONCEPT_NAMES[i]}\", \"*\"*10)\n",
    "        c_truth = c_test[:, i]\n",
    "        c_pred = np.argmax(pred, axis=1)\n",
    "\n",
    "        print(f\"Accuracy: {accuracy_score(c_truth, c_pred)}\")\n",
    "    print()"
   ]
  }
 ],
 "metadata": {
  "kernelspec": {
   "display_name": "Python 3",
   "language": "python",
   "name": "python3"
  },
  "language_info": {
   "codemirror_mode": {
    "name": "ipython",
    "version": 3
   },
   "file_extension": ".py",
   "mimetype": "text/x-python",
   "name": "python",
   "nbconvert_exporter": "python",
   "pygments_lexer": "ipython3",
   "version": "3.8.5"
  }
 },
 "nbformat": 4,
 "nbformat_minor": 5
}
