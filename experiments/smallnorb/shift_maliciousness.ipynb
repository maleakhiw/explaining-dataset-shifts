{
 "cells": [
  {
   "cell_type": "markdown",
   "id": "literary-mobility",
   "metadata": {},
   "source": [
    "# Shift maliciousness (smallNORB)\n",
    "\n",
    "**Author**: Maleakhi A. Wijaya  \n",
    "**Description**: Inspect the maliciousness of different type and intensity of shifts."
   ]
  },
  {
   "cell_type": "code",
   "execution_count": 1,
   "id": "general-integrity",
   "metadata": {},
   "outputs": [],
   "source": [
    "# Load utilities functions\n",
    "%run ../../scripts/constants.py\n",
    "%run ../../scripts/smallnorb_utils.py\n",
    "%run ../../scripts/shift_applicator.py\n",
    "%run ../../scripts/shift_dimensionality_reductor.py\n",
    "%run ../../scripts/experiment_utils.py\n",
    "%run ../../scripts/shift_statistical_test.py\n",
    "from sklearn.metrics import accuracy_score"
   ]
  },
  {
   "cell_type": "code",
   "execution_count": 2,
   "id": "disturbed-writing",
   "metadata": {},
   "outputs": [],
   "source": [
    "## Random seed\n",
    "SEED = 20\n",
    "np.random.seed(SEED)\n",
    "tf.random.set_seed(SEED)"
   ]
  },
  {
   "cell_type": "markdown",
   "id": "curious-solution",
   "metadata": {},
   "source": [
    "## Load dataset"
   ]
  },
  {
   "cell_type": "code",
   "execution_count": 3,
   "id": "labeled-onion",
   "metadata": {},
   "outputs": [
    {
     "name": "stdout",
     "output_type": "stream",
     "text": [
      "Training samples: 36450\n",
      "Testing samples: 12150\n"
     ]
    }
   ],
   "source": [
    "files_dir = \"../../data\"\n",
    "# index 0 = image category\n",
    "X_train, X_test, y_train, y_test, c_train, c_test = train_test_split_smallnorb(files_dir, DatasetTask.Task1, \n",
    "                                                                               train_size=0.75, class_index=0,\n",
    "                                                                              resize_size=64)\n",
    "n_classes = 5\n",
    "concept_names = ['category', 'instance', 'elevation', 'azimuth', 'lighting']\n",
    "concept_values = get_latent_sizes()\n",
    "\n",
    "# Split training into validation set as well \n",
    "X_valid, X_train = X_train[:10000], X_train[10000:]\n",
    "y_valid, y_train = y_train[:10000], y_train[10000:]\n",
    "c_valid, c_train = c_train[:10000], c_train[10000:]"
   ]
  },
  {
   "cell_type": "code",
   "execution_count": 5,
   "id": "coordinate-albania",
   "metadata": {},
   "outputs": [],
   "source": [
    "# Load adversarial samples (we will need this for adversarial\n",
    "# shift).\n",
    "adv_samples = np.load(\"../../data/adversarial_samples/X_adversarial_smallnorb.npy\")"
   ]
  },
  {
   "cell_type": "code",
   "execution_count": 6,
   "id": "fitted-parking",
   "metadata": {},
   "outputs": [],
   "source": [
    "# Reshape to appropriate shift input\n",
    "# It is noteworthy that for efficiency, we represent the images as only 2 dimension\n",
    "# when we preprocessing (number of instances/ batch size * flatten size).\n",
    "# When visualising back the image, we need to reshape it back to the original dimension\n",
    "ORIGINAL_SHAPE = X_test.shape[1:] # constant hold the image original shape\n",
    "X_test_flatten = deepcopy(X_test.reshape(X_test.shape[0], -1))\n",
    "X_train_flatten = deepcopy(X_train.reshape(X_train.shape[0], -1))\n",
    "X_valid_flatten = deepcopy(X_valid.reshape(X_valid.shape[0], -1))"
   ]
  },
  {
   "cell_type": "code",
   "execution_count": 4,
   "id": "bronze-indiana",
   "metadata": {},
   "outputs": [],
   "source": [
    "# Load models\n",
    "path = \"../../models/end_to_end_smallnorb_task1\"\n",
    "end_to_end_model = tf.keras.models.load_model(path)\n",
    "\n",
    "path = \"../../models/multitask_smallnorb\"\n",
    "itc_model = tf.keras.models.load_model(path)"
   ]
  },
  {
   "cell_type": "code",
   "execution_count": 8,
   "id": "atomic-culture",
   "metadata": {},
   "outputs": [
    {
     "name": "stdout",
     "output_type": "stream",
     "text": [
      "Accuracy: 0.9983539094650206\n"
     ]
    }
   ],
   "source": [
    "# Evaluate model (FFNN)\n",
    "y_pred = end_to_end_model.predict(X_test)\n",
    "y_pred = np.argmax(y_pred, axis=1)\n",
    "print(f\"Accuracy: {accuracy_score(y_test, y_pred)}\")"
   ]
  },
  {
   "cell_type": "code",
   "execution_count": 7,
   "id": "perfect-application",
   "metadata": {},
   "outputs": [
    {
     "name": "stdout",
     "output_type": "stream",
     "text": [
      "******************** Model: category ********************\n",
      "Accuracy: 0.9966255144032922\n",
      "******************** Model: instance ********************\n",
      "Accuracy: 0.8983539094650206\n",
      "******************** Model: elevation ********************\n",
      "Accuracy: 0.5077366255144032\n",
      "******************** Model: azimuth ********************\n",
      "Accuracy: 0.8267489711934156\n",
      "******************** Model: lighting ********************\n",
      "Accuracy: 0.9203292181069959\n"
     ]
    }
   ],
   "source": [
    "# Evaluate model (concept bottleneck model)\n",
    "for i, pred in enumerate(itc_model.predict(X_test)):\n",
    "    print(\"*\"*20, f\"Model: {SMALLNORB_CONCEPT_NAMES[i]}\", \"*\"*20)\n",
    "    c_truth = c_test[:, i]\n",
    "    c_pred = np.argmax(pred, axis=1)\n",
    "    \n",
    "    print(f\"Accuracy: {accuracy_score(c_truth, c_pred)}\")"
   ]
  },
  {
   "cell_type": "markdown",
   "id": "dutch-picnic",
   "metadata": {},
   "source": [
    "## Gaussian shift"
   ]
  },
  {
   "cell_type": "code",
   "execution_count": 9,
   "id": "northern-briefing",
   "metadata": {},
   "outputs": [],
   "source": [
    "shift_intensities = [ShiftIntensity.Small, ShiftIntensity.Medium, ShiftIntensity.Large]\n",
    "X_gaussian = []\n",
    "\n",
    "for shift_intensity in shift_intensities:\n",
    "    X_shifted = deepcopy(X_test_flatten)\n",
    "    X_shifted, _ = apply_gaussian_shift(X_shifted, y_test, shift_intensity, 1.0)\n",
    "    X_shifted = X_shifted.reshape(-1, ORIGINAL_SHAPE[0], ORIGINAL_SHAPE[1], ORIGINAL_SHAPE[2])\n",
    "    X_gaussian.append(X_shifted)"
   ]
  },
  {
   "cell_type": "code",
   "execution_count": 10,
   "id": "superior-absorption",
   "metadata": {},
   "outputs": [
    {
     "name": "stdout",
     "output_type": "stream",
     "text": [
      "******************** small ********************\n",
      "Accuracy: 0.9983539094650206\n",
      "******************** medium ********************\n",
      "Accuracy: 0.9980246913580247\n",
      "******************** large ********************\n",
      "Accuracy: 0.5497942386831276\n"
     ]
    }
   ],
   "source": [
    "# Print accuracy score (end-to-end)\n",
    "for x, intensity_str in zip(X_gaussian, [\"small\", \"medium\", \"large\"]):\n",
    "    print(\"*\"*20, intensity_str, \"*\"*20)\n",
    "    y_pred = end_to_end_model.predict(x)\n",
    "    y_pred = np.argmax(y_pred, axis=1)\n",
    "    print(f\"Accuracy: {accuracy_score(y_test, y_pred)}\")"
   ]
  },
  {
   "cell_type": "code",
   "execution_count": 11,
   "id": "sized-gambling",
   "metadata": {
    "scrolled": true
   },
   "outputs": [
    {
     "name": "stdout",
     "output_type": "stream",
     "text": [
      "******************** small ********************\n",
      "********** Model: category **********\n",
      "Accuracy: 0.9967901234567901\n",
      "********** Model: instance **********\n",
      "Accuracy: 0.8974485596707819\n",
      "********** Model: elevation **********\n",
      "Accuracy: 0.508559670781893\n",
      "********** Model: azimuth **********\n",
      "Accuracy: 0.8263374485596707\n",
      "********** Model: lighting **********\n",
      "Accuracy: 0.9209876543209876\n",
      "\n",
      "******************** medium ********************\n",
      "********** Model: category **********\n",
      "Accuracy: 0.9838683127572017\n",
      "********** Model: instance **********\n",
      "Accuracy: 0.8469958847736625\n",
      "********** Model: elevation **********\n",
      "Accuracy: 0.4448559670781893\n",
      "********** Model: azimuth **********\n",
      "Accuracy: 0.7778600823045267\n",
      "********** Model: lighting **********\n",
      "Accuracy: 0.9132510288065844\n",
      "\n",
      "******************** large ********************\n",
      "********** Model: category **********\n",
      "Accuracy: 0.26386831275720163\n",
      "********** Model: instance **********\n",
      "Accuracy: 0.15613168724279836\n",
      "********** Model: elevation **********\n",
      "Accuracy: 0.14074074074074075\n",
      "********** Model: azimuth **********\n",
      "Accuracy: 0.09300411522633745\n",
      "********** Model: lighting **********\n",
      "Accuracy: 0.16584362139917697\n",
      "\n"
     ]
    }
   ],
   "source": [
    "# Print accuracy score (cbm)\n",
    "for x, intensity_str in zip(X_gaussian, [\"small\", \"medium\", \"large\"]):\n",
    "    print(\"*\"*20, intensity_str, \"*\"*20)\n",
    "    for i, pred in enumerate(itc_model.predict(x)):\n",
    "        print(\"*\"*10, f\"Model: {SMALLNORB_CONCEPT_NAMES[i]}\", \"*\"*10)\n",
    "        c_truth = c_test[:, i]\n",
    "        c_pred = np.argmax(pred, axis=1)\n",
    "\n",
    "        print(f\"Accuracy: {accuracy_score(c_truth, c_pred)}\")\n",
    "    print()"
   ]
  },
  {
   "cell_type": "markdown",
   "id": "aging-marine",
   "metadata": {},
   "source": [
    "## Knockout shift"
   ]
  },
  {
   "cell_type": "code",
   "execution_count": 12,
   "id": "lovely-persian",
   "metadata": {},
   "outputs": [],
   "source": [
    "shift_intensities = [ShiftIntensity.Small, ShiftIntensity.Medium, ShiftIntensity.Large]\n",
    "X_ko = []\n",
    "y_ko = []\n",
    "c_ko = []\n",
    "\n",
    "for shift_intensity in shift_intensities:\n",
    "    X_shifted, y_shifted, c_shifted = deepcopy(X_test_flatten), deepcopy(y_test), deepcopy(c_test)\n",
    "    X_shifted, y_shifted, c_shifted = apply_ko_shift(X_shifted, y_shifted, c_shifted, shift_intensity, cl=MAJORITY)\n",
    "    X_shifted = X_shifted.reshape(-1, ORIGINAL_SHAPE[0], ORIGINAL_SHAPE[1], ORIGINAL_SHAPE[2])\n",
    "    X_ko.append(X_shifted)\n",
    "    y_ko.append(y_shifted)\n",
    "    c_ko.append(c_shifted)"
   ]
  },
  {
   "cell_type": "code",
   "execution_count": 13,
   "id": "exceptional-illustration",
   "metadata": {},
   "outputs": [
    {
     "name": "stdout",
     "output_type": "stream",
     "text": [
      "******************** small ********************\n",
      "Accuracy: 0.998320174701831\n",
      "******************** medium ********************\n",
      "Accuracy: 0.9982616651418116\n",
      "******************** large ********************\n",
      "Accuracy: 0.9981464318813716\n"
     ]
    }
   ],
   "source": [
    "# Print accuracy score (end-to-end)\n",
    "for x, y, c, intensity_str in zip(X_ko, y_ko, c_ko, [\"small\", \"medium\", \"large\"]):\n",
    "    print(\"*\"*20, intensity_str, \"*\"*20)\n",
    "    y_pred = end_to_end_model.predict(x)\n",
    "    y_pred = np.argmax(y_pred, axis=1)\n",
    "    print(f\"Accuracy: {accuracy_score(y, y_pred)}\")"
   ]
  },
  {
   "cell_type": "code",
   "execution_count": 15,
   "id": "outdoor-federal",
   "metadata": {
    "scrolled": true
   },
   "outputs": [
    {
     "name": "stdout",
     "output_type": "stream",
     "text": [
      "******************** small ********************\n",
      "********** Model: category **********\n",
      "Accuracy: 0.9965563581387535\n",
      "********** Model: instance **********\n",
      "Accuracy: 0.8988745170502268\n",
      "********** Model: elevation **********\n",
      "Accuracy: 0.509323030404838\n",
      "********** Model: azimuth **********\n",
      "Accuracy: 0.8268940030236855\n",
      "********** Model: lighting **********\n",
      "Accuracy: 0.9202082983369729\n",
      "\n",
      "******************** medium ********************\n",
      "********** Model: category **********\n",
      "Accuracy: 0.996523330283623\n",
      "********** Model: instance **********\n",
      "Accuracy: 0.8983531564501372\n",
      "********** Model: elevation **********\n",
      "Accuracy: 0.5109789569990851\n",
      "********** Model: azimuth **********\n",
      "Accuracy: 0.829551692589204\n",
      "********** Model: lighting **********\n",
      "Accuracy: 0.9215919487648674\n",
      "\n",
      "******************** large ********************\n",
      "********** Model: category **********\n",
      "Accuracy: 0.9962928637627433\n",
      "********** Model: instance **********\n",
      "Accuracy: 0.8991864895479353\n",
      "********** Model: elevation **********\n",
      "Accuracy: 0.5158068170116363\n",
      "********** Model: azimuth **********\n",
      "Accuracy: 0.8310163731850478\n",
      "********** Model: lighting **********\n",
      "Accuracy: 0.9195757388528473\n",
      "\n"
     ]
    }
   ],
   "source": [
    "# Print accuracy score (cbm)\n",
    "for x, y, c, intensity_str in zip(X_ko, y_ko, c_ko, [\"small\", \"medium\", \"large\"]):\n",
    "    print(\"*\"*20, intensity_str, \"*\"*20)\n",
    "    for i, pred in enumerate(itc_model.predict(x)):\n",
    "        print(\"*\"*10, f\"Model: {SMALLNORB_CONCEPT_NAMES[i]}\", \"*\"*10)\n",
    "        c_truth = c[:, i]\n",
    "        c_pred = np.argmax(pred, axis=1)\n",
    "\n",
    "        print(f\"Accuracy: {accuracy_score(c_truth, c_pred)}\")\n",
    "    print()"
   ]
  },
  {
   "cell_type": "markdown",
   "id": "closed-session",
   "metadata": {},
   "source": [
    "## Concept shift"
   ]
  },
  {
   "cell_type": "code",
   "execution_count": 16,
   "id": "cardiovascular-cutting",
   "metadata": {},
   "outputs": [],
   "source": [
    "shift_intensities = [ShiftIntensity.Small, ShiftIntensity.Medium, ShiftIntensity.Large]\n",
    "X_cs = []\n",
    "y_cs = []\n",
    "c_cs = []\n",
    "\n",
    "for shift_intensity in shift_intensities:\n",
    "    X_shifted, y_shifted, c_shifted = deepcopy(X_test_flatten), deepcopy(y_test), deepcopy(c_test)\n",
    "    X_shifted, y_shifted, c_shifted = apply_concept_shift(X_shifted, y_shifted, c_shifted, 2, shift_intensity, cl=MAJORITY)\n",
    "    X_shifted = X_shifted.reshape(-1, ORIGINAL_SHAPE[0], ORIGINAL_SHAPE[1], ORIGINAL_SHAPE[2])\n",
    "    X_cs.append(X_shifted)\n",
    "    y_cs.append(y_shifted)\n",
    "    c_cs.append(c_shifted)"
   ]
  },
  {
   "cell_type": "code",
   "execution_count": 17,
   "id": "empty-motor",
   "metadata": {},
   "outputs": [
    {
     "name": "stdout",
     "output_type": "stream",
     "text": [
      "******************** small ********************\n",
      "Accuracy: 0.9983347210657785\n",
      "******************** medium ********************\n",
      "Accuracy: 0.9987775061124694\n",
      "******************** large ********************\n",
      "Accuracy: 0.9988841361353915\n"
     ]
    }
   ],
   "source": [
    "# Print accuracy score (end-to-end)\n",
    "for x, y, c, intensity_str in zip(X_cs, y_cs, c_cs, [\"small\", \"medium\", \"large\"]):\n",
    "    print(\"*\"*20, intensity_str, \"*\"*20)\n",
    "    y_pred = end_to_end_model.predict(x)\n",
    "    y_pred = np.argmax(y_pred, axis=1)\n",
    "    print(f\"Accuracy: {accuracy_score(y, y_pred)}\")"
   ]
  },
  {
   "cell_type": "code",
   "execution_count": 19,
   "id": "frank-stability",
   "metadata": {
    "scrolled": true
   },
   "outputs": [
    {
     "name": "stdout",
     "output_type": "stream",
     "text": [
      "******************** small ********************\n",
      "********** Model: category **********\n",
      "Accuracy: 0.9967527060782682\n",
      "********** Model: instance **********\n",
      "Accuracy: 0.8997502081598667\n",
      "********** Model: elevation **********\n",
      "Accuracy: 0.504496253122398\n",
      "********** Model: azimuth **********\n",
      "Accuracy: 0.8284762697751873\n",
      "********** Model: lighting **********\n",
      "Accuracy: 0.9209825145711906\n",
      "\n",
      "******************** medium ********************\n",
      "********** Model: category **********\n",
      "Accuracy: 0.9971184072651065\n",
      "********** Model: instance **********\n",
      "Accuracy: 0.9047327977645826\n",
      "********** Model: elevation **********\n",
      "Accuracy: 0.49048201187565493\n",
      "********** Model: azimuth **********\n",
      "Accuracy: 0.8359238560950052\n",
      "********** Model: lighting **********\n",
      "Accuracy: 0.9242926999650716\n",
      "\n",
      "******************** large ********************\n",
      "********** Model: category **********\n",
      "Accuracy: 0.9975822949600148\n",
      "********** Model: instance **********\n",
      "Accuracy: 0.9145434257020644\n",
      "********** Model: elevation **********\n",
      "Accuracy: 0.46968569834480195\n",
      "********** Model: azimuth **********\n",
      "Accuracy: 0.8446159568532638\n",
      "********** Model: lighting **********\n",
      "Accuracy: 0.9275618374558304\n",
      "\n"
     ]
    }
   ],
   "source": [
    "# Print accuracy score (cbm)\n",
    "for x, y, c, intensity_str in zip(X_cs, y_cs, c_cs, [\"small\", \"medium\", \"large\"]):\n",
    "    print(\"*\"*20, intensity_str, \"*\"*20)\n",
    "    for i, pred in enumerate(itc_model.predict(x)):\n",
    "        print(\"*\"*10, f\"Model: {SMALLNORB_CONCEPT_NAMES[i]}\", \"*\"*10)\n",
    "        c_truth = c[:, i]\n",
    "        c_pred = np.argmax(pred, axis=1)\n",
    "\n",
    "        print(f\"Accuracy: {accuracy_score(c_truth, c_pred)}\")\n",
    "    print()"
   ]
  },
  {
   "cell_type": "markdown",
   "id": "alive-brush",
   "metadata": {},
   "source": [
    "## Image shift"
   ]
  },
  {
   "cell_type": "code",
   "execution_count": 20,
   "id": "urban-alert",
   "metadata": {},
   "outputs": [],
   "source": [
    "shift_intensities = [ShiftIntensity.Small, ShiftIntensity.Medium, ShiftIntensity.Large]\n",
    "X_img = []\n",
    "\n",
    "for shift_intensity in shift_intensities:\n",
    "    X_shifted = deepcopy(X_test_flatten)\n",
    "    X_shifted, _ = apply_img_shift(X_shifted, y_test, ORIGINAL_SHAPE,\n",
    "                                   shift_intensity, 1.0, ShiftType.All)\n",
    "    X_shifted = X_shifted.reshape(-1, ORIGINAL_SHAPE[0], ORIGINAL_SHAPE[1], ORIGINAL_SHAPE[2])\n",
    "    X_img.append(X_shifted)"
   ]
  },
  {
   "cell_type": "code",
   "execution_count": 21,
   "id": "harmful-organ",
   "metadata": {},
   "outputs": [
    {
     "name": "stdout",
     "output_type": "stream",
     "text": [
      "******************** small ********************\n",
      "Accuracy: 0.8819753086419753\n",
      "******************** medium ********************\n",
      "Accuracy: 0.3493827160493827\n",
      "******************** large ********************\n",
      "Accuracy: 0.22493827160493826\n"
     ]
    }
   ],
   "source": [
    "# Print accuracy score (end-to-end)\n",
    "for x, intensity_str in zip(X_img, [\"small\", \"medium\", \"large\"]):\n",
    "    print(\"*\"*20, intensity_str, \"*\"*20)\n",
    "    y_pred = end_to_end_model.predict(x)\n",
    "    y_pred = np.argmax(y_pred, axis=1)\n",
    "    print(f\"Accuracy: {accuracy_score(y_test, y_pred)}\")"
   ]
  },
  {
   "cell_type": "code",
   "execution_count": 22,
   "id": "fitted-snapshot",
   "metadata": {
    "scrolled": true
   },
   "outputs": [
    {
     "name": "stdout",
     "output_type": "stream",
     "text": [
      "******************** small ********************\n",
      "********** Model: category **********\n",
      "Accuracy: 0.8693004115226337\n",
      "********** Model: instance **********\n",
      "Accuracy: 0.397037037037037\n",
      "********** Model: elevation **********\n",
      "Accuracy: 0.2702880658436214\n",
      "********** Model: azimuth **********\n",
      "Accuracy: 0.29218106995884774\n",
      "********** Model: lighting **********\n",
      "Accuracy: 0.8089711934156378\n",
      "\n",
      "******************** medium ********************\n",
      "********** Model: category **********\n",
      "Accuracy: 0.357119341563786\n",
      "********** Model: instance **********\n",
      "Accuracy: 0.14189300411522635\n",
      "********** Model: elevation **********\n",
      "Accuracy: 0.14386831275720163\n",
      "********** Model: azimuth **********\n",
      "Accuracy: 0.06510288065843621\n",
      "********** Model: lighting **********\n",
      "Accuracy: 0.4918518518518519\n",
      "\n",
      "******************** large ********************\n",
      "********** Model: category **********\n",
      "Accuracy: 0.21761316872427983\n",
      "********** Model: instance **********\n",
      "Accuracy: 0.10880658436213991\n",
      "********** Model: elevation **********\n",
      "Accuracy: 0.12222222222222222\n",
      "********** Model: azimuth **********\n",
      "Accuracy: 0.05596707818930041\n",
      "********** Model: lighting **********\n",
      "Accuracy: 0.4779423868312757\n",
      "\n"
     ]
    }
   ],
   "source": [
    "# Print accuracy score (cbm)\n",
    "for x, intensity_str in zip(X_img, [\"small\", \"medium\", \"large\"]):\n",
    "    print(\"*\"*20, intensity_str, \"*\"*20)\n",
    "    for i, pred in enumerate(itc_model.predict(x)):\n",
    "        print(\"*\"*10, f\"Model: {SMALLNORB_CONCEPT_NAMES[i]}\", \"*\"*10)\n",
    "        c_truth = c_test[:, i]\n",
    "        c_pred = np.argmax(pred, axis=1)\n",
    "\n",
    "        print(f\"Accuracy: {accuracy_score(c_truth, c_pred)}\")\n",
    "    print()"
   ]
  },
  {
   "cell_type": "markdown",
   "id": "plastic-effect",
   "metadata": {},
   "source": [
    "## Adversarial shift"
   ]
  },
  {
   "cell_type": "code",
   "execution_count": 23,
   "id": "searching-japanese",
   "metadata": {},
   "outputs": [],
   "source": [
    "shift_intensities = [ShiftIntensity.Small, ShiftIntensity.Medium, ShiftIntensity.Large]\n",
    "X_adv = []\n",
    "\n",
    "for shift_intensity in shift_intensities:\n",
    "    X_shifted = deepcopy(X_test_flatten)\n",
    "    X_shifted, _ = apply_adversarial_shift(X_shifted, y_test, adv_samples,\n",
    "                                   range(len(X_shifted)), shift_intensity)\n",
    "    X_shifted = X_shifted.reshape(-1, ORIGINAL_SHAPE[0], ORIGINAL_SHAPE[1], ORIGINAL_SHAPE[2])\n",
    "    X_adv.append(X_shifted)"
   ]
  },
  {
   "cell_type": "code",
   "execution_count": 24,
   "id": "informed-empire",
   "metadata": {},
   "outputs": [
    {
     "name": "stdout",
     "output_type": "stream",
     "text": [
      "******************** small ********************\n",
      "Accuracy: 0.9734979423868313\n",
      "******************** medium ********************\n",
      "Accuracy: 0.8804938271604938\n",
      "******************** large ********************\n",
      "Accuracy: 0.7604115226337449\n"
     ]
    }
   ],
   "source": [
    "# Print accuracy score (end-to-end)\n",
    "for x, intensity_str in zip(X_adv, [\"small\", \"medium\", \"large\"]):\n",
    "    print(\"*\"*20, intensity_str, \"*\"*20)\n",
    "    y_pred = end_to_end_model.predict(x)\n",
    "    y_pred = np.argmax(y_pred, axis=1)\n",
    "    print(f\"Accuracy: {accuracy_score(y_test, y_pred)}\")"
   ]
  },
  {
   "cell_type": "code",
   "execution_count": 25,
   "id": "ideal-terrain",
   "metadata": {
    "scrolled": true
   },
   "outputs": [
    {
     "name": "stdout",
     "output_type": "stream",
     "text": [
      "******************** small ********************\n",
      "********** Model: category **********\n",
      "Accuracy: 0.9653497942386832\n",
      "********** Model: instance **********\n",
      "Accuracy: 0.8465020576131688\n",
      "********** Model: elevation **********\n",
      "Accuracy: 0.47802469135802467\n",
      "********** Model: azimuth **********\n",
      "Accuracy: 0.7731687242798354\n",
      "********** Model: lighting **********\n",
      "Accuracy: 0.8690534979423868\n",
      "\n",
      "******************** medium ********************\n",
      "********** Model: category **********\n",
      "Accuracy: 0.8422222222222222\n",
      "********** Model: instance **********\n",
      "Accuracy: 0.6465843621399177\n",
      "********** Model: elevation **********\n",
      "Accuracy: 0.36493827160493825\n",
      "********** Model: azimuth **********\n",
      "Accuracy: 0.560082304526749\n",
      "********** Model: lighting **********\n",
      "Accuracy: 0.6516049382716049\n",
      "\n",
      "******************** large ********************\n",
      "********** Model: category **********\n",
      "Accuracy: 0.6851851851851852\n",
      "********** Model: instance **********\n",
      "Accuracy: 0.39209876543209876\n",
      "********** Model: elevation **********\n",
      "Accuracy: 0.21991769547325102\n",
      "********** Model: azimuth **********\n",
      "Accuracy: 0.2907818930041152\n",
      "********** Model: lighting **********\n",
      "Accuracy: 0.38551440329218106\n",
      "\n"
     ]
    }
   ],
   "source": [
    "# Print accuracy score (cbm)\n",
    "for x, intensity_str in zip(X_adv, [\"small\", \"medium\", \"large\"]):\n",
    "    print(\"*\"*20, intensity_str, \"*\"*20)\n",
    "    for i, pred in enumerate(itc_model.predict(x)):\n",
    "        print(\"*\"*10, f\"Model: {SMALLNORB_CONCEPT_NAMES[i]}\", \"*\"*10)\n",
    "        c_truth = c_test[:, i]\n",
    "        c_pred = np.argmax(pred, axis=1)\n",
    "\n",
    "        print(f\"Accuracy: {accuracy_score(c_truth, c_pred)}\")\n",
    "    print()"
   ]
  }
 ],
 "metadata": {
  "kernelspec": {
   "display_name": "Python 3",
   "language": "python",
   "name": "python3"
  },
  "language_info": {
   "codemirror_mode": {
    "name": "ipython",
    "version": 3
   },
   "file_extension": ".py",
   "mimetype": "text/x-python",
   "name": "python",
   "nbconvert_exporter": "python",
   "pygments_lexer": "ipython3",
   "version": "3.8.5"
  }
 },
 "nbformat": 4,
 "nbformat_minor": 5
}
