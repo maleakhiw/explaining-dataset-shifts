{
 "cells": [
  {
   "cell_type": "markdown",
   "id": "about-keeping",
   "metadata": {},
   "source": [
    "# Label classifier (smallNORB): data collection\n",
    "\n",
    "## Task 1\n",
    "\n",
    "**Author**: Maleakhi A. Wijaya  \n",
    "**Description**: This notebook contains code used to collect experimentation data. We compare the performance of methods discussed in Rabanset et al. against our proposed CBSD method. The end-to-end task for task 1 is to predict the toy category given the toy images."
   ]
  },
  {
   "cell_type": "code",
   "execution_count": 2,
   "id": "proved-rebound",
   "metadata": {},
   "outputs": [],
   "source": [
    "# Load utilities functions\n",
    "%run ../../scripts/constants.py\n",
    "%run ../../scripts/smallnorb_utils.py\n",
    "%run ../../scripts/shift_applicator.py\n",
    "%run ../../scripts/shift_dimensionality_reductor.py\n",
    "%run ../../scripts/experiment_utils.py\n",
    "%run ../../scripts/shift_statistical_test.py"
   ]
  },
  {
   "cell_type": "code",
   "execution_count": 3,
   "id": "ordered-three",
   "metadata": {},
   "outputs": [],
   "source": [
    "## Random seed\n",
    "SEED = 20\n",
    "np.random.seed(SEED)\n",
    "tf.random.set_seed(SEED)"
   ]
  },
  {
   "cell_type": "markdown",
   "id": "cloudy-costa",
   "metadata": {},
   "source": [
    "## Load dataset"
   ]
  },
  {
   "cell_type": "code",
   "execution_count": 4,
   "id": "hungry-abraham",
   "metadata": {},
   "outputs": [
    {
     "name": "stdout",
     "output_type": "stream",
     "text": [
      "Training samples: 36450\n",
      "Testing samples: 12150\n"
     ]
    }
   ],
   "source": [
    "files_dir = \"../../data\"\n",
    "# index 0 = image category\n",
    "X_train, X_test, y_train, y_test, c_train, c_test = train_test_split_smallnorb(files_dir, DatasetTask.Task1, \n",
    "                                                                               train_size=0.75, class_index=0,\n",
    "                                                                              resize_size=64)\n",
    "n_classes = 5\n",
    "concept_names = ['category', 'instance', 'elevation', 'azimuth', 'lighting']\n",
    "concept_values = get_latent_sizes()\n",
    "\n",
    "# Split training into validation set as well \n",
    "X_valid, X_train = X_train[:10000], X_train[10000:]\n",
    "y_valid, y_train = y_train[:10000], y_train[10000:]\n",
    "c_valid, c_train = c_train[:10000], c_train[10000:]"
   ]
  },
  {
   "cell_type": "code",
   "execution_count": 5,
   "id": "knowing-bride",
   "metadata": {},
   "outputs": [],
   "source": [
    "# Load adversarial samples (we will need this for adversarial\n",
    "# shift).\n",
    "adv_samples = np.load(\"../../data/adversarial_samples/X_adversarial_smallnorb.npy\")"
   ]
  },
  {
   "cell_type": "code",
   "execution_count": 6,
   "id": "surprising-classification",
   "metadata": {},
   "outputs": [],
   "source": [
    "# Reshape to appropriate shift input\n",
    "# It is noteworthy that for efficiency, we represent the images as only 2 dimension\n",
    "# when we preprocessing (number of instances/ batch size * flatten size).\n",
    "# When visualising back the image, we need to reshape it back to the original dimension\n",
    "ORIGINAL_SHAPE = X_test.shape[1:] # constant hold the image original shape\n",
    "X_test_flatten = deepcopy(X_test.reshape(X_test.shape[0], -1))\n",
    "X_train_flatten = deepcopy(X_train.reshape(X_train.shape[0], -1))\n",
    "X_valid_flatten = deepcopy(X_valid.reshape(X_valid.shape[0], -1))"
   ]
  },
  {
   "cell_type": "markdown",
   "id": "first-gossip",
   "metadata": {},
   "source": [
    "## Dimensionality reduction\n",
    "\n",
    "We implemented various dimensionality reduction methods, amounting to:\n",
    "- End to end model (label classifiers/ BBSD)\n",
    "- Concept bottleneck model (CBSD)\n",
    "- Principal component analysis (PCA)\n",
    "- Sparse random projection (SRP)"
   ]
  },
  {
   "cell_type": "markdown",
   "id": "foster-grounds",
   "metadata": {},
   "source": [
    "### End-to-end model"
   ]
  },
  {
   "cell_type": "code",
   "execution_count": 7,
   "id": "opposed-madrid",
   "metadata": {},
   "outputs": [],
   "source": [
    "path = \"../../models/end_to_end_smallnorb_task1\"\n",
    "# For training and saving\n",
    "# histories, end_to_end_model = end_to_end_neural_network(n_classes, Dataset.SMALLNORB, \n",
    "#                          X_train, y_train, X_valid, y_valid, path)\n",
    "\n",
    "# For loading\n",
    "end_to_end_model = tf.keras.models.load_model(path)"
   ]
  },
  {
   "cell_type": "code",
   "execution_count": 8,
   "id": "documented-stock",
   "metadata": {
    "collapsed": true
   },
   "outputs": [
    {
     "name": "stdout",
     "output_type": "stream",
     "text": [
      "              precision    recall  f1-score   support\n",
      "\n",
      "           0       1.00      1.00      1.00      2426\n",
      "           1       1.00      1.00      1.00      2439\n",
      "           2       1.00      1.00      1.00      2429\n",
      "           3       1.00      1.00      1.00      2426\n",
      "           4       1.00      1.00      1.00      2430\n",
      "\n",
      "    accuracy                           1.00     12150\n",
      "   macro avg       1.00      1.00      1.00     12150\n",
      "weighted avg       1.00      1.00      1.00     12150\n",
      "\n"
     ]
    }
   ],
   "source": [
    "# Evaluate model\n",
    "y_pred = end_to_end_model.predict(X_test)\n",
    "y_pred = np.argmax(y_pred, axis=1)\n",
    "print(classification_report(y_test, y_pred))"
   ]
  },
  {
   "cell_type": "markdown",
   "id": "material-grammar",
   "metadata": {},
   "source": [
    "### Concept bottleneck model"
   ]
  },
  {
   "cell_type": "markdown",
   "id": "overhead-photographer",
   "metadata": {},
   "source": [
    "**Input to Concept**"
   ]
  },
  {
   "cell_type": "code",
   "execution_count": 9,
   "id": "mineral-hollow",
   "metadata": {},
   "outputs": [],
   "source": [
    "path = \"../../models/multitask_smallnorb\"\n",
    "# For training and saving\n",
    "# histories, mt_model = multitask_model(Dataset.SMALLNORB,\n",
    "#                                             X_train, c_train,\n",
    "#                                             X_valid, c_valid, path)\n",
    "\n",
    "# For loading\n",
    "mt_model = tf.keras.models.load_model(path)"
   ]
  },
  {
   "cell_type": "code",
   "execution_count": 10,
   "id": "devoted-infrared",
   "metadata": {
    "collapsed": true
   },
   "outputs": [
    {
     "name": "stdout",
     "output_type": "stream",
     "text": [
      "******************** Model: category ********************\n",
      "              precision    recall  f1-score   support\n",
      "\n",
      "           0       0.99      1.00      1.00      2426\n",
      "           1       1.00      1.00      1.00      2439\n",
      "           2       1.00      1.00      1.00      2429\n",
      "           3       1.00      1.00      1.00      2426\n",
      "           4       1.00      1.00      1.00      2430\n",
      "\n",
      "    accuracy                           1.00     12150\n",
      "   macro avg       1.00      1.00      1.00     12150\n",
      "weighted avg       1.00      1.00      1.00     12150\n",
      "\n",
      "\n",
      "\n",
      "\n",
      "******************** Model: instance ********************\n",
      "              precision    recall  f1-score   support\n",
      "\n",
      "           0       0.86      0.90      0.88      1263\n",
      "           1       0.90      0.86      0.88      1209\n",
      "           2       0.90      0.91      0.91      1167\n",
      "           3       0.89      0.87      0.88      1197\n",
      "           4       0.90      0.89      0.89      1210\n",
      "           5       0.92      0.87      0.89      1261\n",
      "           6       0.88      0.95      0.91      1179\n",
      "           7       0.93      0.86      0.89      1230\n",
      "           8       0.92      0.93      0.93      1199\n",
      "           9       0.89      0.94      0.91      1235\n",
      "\n",
      "    accuracy                           0.90     12150\n",
      "   macro avg       0.90      0.90      0.90     12150\n",
      "weighted avg       0.90      0.90      0.90     12150\n",
      "\n",
      "\n",
      "\n",
      "\n",
      "******************** Model: elevation ********************\n",
      "              precision    recall  f1-score   support\n",
      "\n",
      "           0       0.55      0.81      0.66      1331\n",
      "           1       0.38      0.39      0.38      1318\n",
      "           2       0.51      0.36      0.42      1360\n",
      "           3       0.52      0.44      0.48      1299\n",
      "           4       0.58      0.52      0.55      1379\n",
      "           5       0.55      0.49      0.52      1321\n",
      "           6       0.48      0.43      0.45      1378\n",
      "           7       0.39      0.32      0.35      1368\n",
      "           8       0.56      0.80      0.66      1396\n",
      "\n",
      "    accuracy                           0.51     12150\n",
      "   macro avg       0.50      0.51      0.50     12150\n",
      "weighted avg       0.50      0.51      0.50     12150\n",
      "\n",
      "\n",
      "\n",
      "\n",
      "******************** Model: azimuth ********************\n",
      "              precision    recall  f1-score   support\n",
      "\n",
      "           0       0.81      0.83      0.82       675\n",
      "           1       0.86      0.83      0.84       682\n",
      "           2       0.86      0.86      0.86       675\n",
      "           3       0.88      0.83      0.85       679\n",
      "           4       0.83      0.87      0.85       651\n",
      "           5       0.84      0.78      0.81       672\n",
      "           6       0.86      0.81      0.83       694\n",
      "           7       0.79      0.85      0.82       687\n",
      "           8       0.88      0.79      0.83       694\n",
      "           9       0.79      0.86      0.82       639\n",
      "          10       0.86      0.83      0.85       661\n",
      "          11       0.82      0.88      0.85       665\n",
      "          12       0.85      0.83      0.84       698\n",
      "          13       0.79      0.82      0.81       684\n",
      "          14       0.78      0.82      0.80       673\n",
      "          15       0.81      0.82      0.81       711\n",
      "          16       0.79      0.78      0.79       692\n",
      "          17       0.79      0.79      0.79       618\n",
      "\n",
      "    accuracy                           0.83     12150\n",
      "   macro avg       0.83      0.83      0.83     12150\n",
      "weighted avg       0.83      0.83      0.83     12150\n",
      "\n",
      "\n",
      "\n",
      "\n",
      "******************** Model: lighting ********************\n",
      "              precision    recall  f1-score   support\n",
      "\n",
      "           0       0.77      0.74      0.76      1973\n",
      "           1       0.99      0.98      0.98      2013\n",
      "           2       1.00      1.00      1.00      2067\n",
      "           3       0.75      0.79      0.77      1955\n",
      "           4       1.00      1.00      1.00      2064\n",
      "           5       1.00      1.00      1.00      2078\n",
      "\n",
      "    accuracy                           0.92     12150\n",
      "   macro avg       0.92      0.92      0.92     12150\n",
      "weighted avg       0.92      0.92      0.92     12150\n",
      "\n",
      "\n",
      "\n",
      "\n"
     ]
    }
   ],
   "source": [
    "# Evaluate model\n",
    "for i, pred in enumerate(mt_model.predict(X_test)):\n",
    "    print(\"*\"*20, f\"Model: {SMALLNORB_CONCEPT_NAMES[i]}\", \"*\"*20)\n",
    "    c_truth = c_test[:, i]\n",
    "    c_pred = np.argmax(pred, axis=1)\n",
    "    \n",
    "    print(classification_report(c_truth, c_pred))\n",
    "    print(\"\\n\\n\")"
   ]
  },
  {
   "cell_type": "markdown",
   "id": "published-probe",
   "metadata": {},
   "source": [
    "**Concept to Output**"
   ]
  },
  {
   "cell_type": "code",
   "execution_count": 11,
   "id": "pursuant-problem",
   "metadata": {
    "scrolled": true
   },
   "outputs": [
    {
     "data": {
      "text/plain": [
       "LogisticRegression()"
      ]
     },
     "execution_count": 11,
     "metadata": {},
     "output_type": "execute_result"
    }
   ],
   "source": [
    "# Build and train model. For simplicity, we used logistic regression\n",
    "# although can be substituted using other model.\n",
    "com = LogisticRegression()\n",
    "com.fit(c_train, y_train)"
   ]
  },
  {
   "cell_type": "code",
   "execution_count": 12,
   "id": "given-sussex",
   "metadata": {
    "collapsed": true
   },
   "outputs": [
    {
     "name": "stdout",
     "output_type": "stream",
     "text": [
      "              precision    recall  f1-score   support\n",
      "\n",
      "           0       0.99      1.00      0.99      2399\n",
      "           1       1.00      0.99      0.99      2466\n",
      "           2       1.00      1.00      1.00      2429\n",
      "           3       1.00      1.00      1.00      2426\n",
      "           4       1.00      1.00      1.00      2430\n",
      "\n",
      "    accuracy                           1.00     12150\n",
      "   macro avg       1.00      1.00      1.00     12150\n",
      "weighted avg       1.00      1.00      1.00     12150\n",
      "\n",
      "[[2395    4    0    0    0]\n",
      " [  31 2435    0    0    0]\n",
      " [   0    0 2429    0    0]\n",
      " [   0    0    0 2426    0]\n",
      " [   0    0    0    0 2430]]\n"
     ]
    }
   ],
   "source": [
    "y_test_pred = com.predict(c_test)\n",
    "print(classification_report(y_test_pred, y_test))\n",
    "print(confusion_matrix(y_test_pred, y_test))"
   ]
  },
  {
   "cell_type": "markdown",
   "id": "lightweight-communications",
   "metadata": {},
   "source": [
    "### Principal component analysis"
   ]
  },
  {
   "cell_type": "code",
   "execution_count": 6,
   "id": "toxic-sleeve",
   "metadata": {},
   "outputs": [
    {
     "name": "stdout",
     "output_type": "stream",
     "text": [
      "The number of components to explain 80% of variance is 2.\n"
     ]
    }
   ],
   "source": [
    "pca, n_components = principal_components_analysis(X_train_flatten)\n",
    "print(f\"The number of components to explain 80% of variance is {n_components}.\")"
   ]
  },
  {
   "cell_type": "markdown",
   "id": "accessible-lender",
   "metadata": {},
   "source": [
    "### Sparse random projection"
   ]
  },
  {
   "cell_type": "code",
   "execution_count": 13,
   "id": "indoor-bench",
   "metadata": {},
   "outputs": [
    {
     "name": "stdout",
     "output_type": "stream",
     "text": [
      "The number of components to explain 80% of variance is 2.\n"
     ]
    }
   ],
   "source": [
    "srp, n_components = sparse_random_projection(X_train_flatten)\n",
    "print(f\"The number of components to explain 80% of variance is {n_components}.\")"
   ]
  },
  {
   "cell_type": "markdown",
   "id": "proud-baghdad",
   "metadata": {},
   "source": [
    "## Data collection\n",
    "\n",
    "This section performs various experiments to collect data. We consider various dimensionality reduced methods discussed in the paper and thesis."
   ]
  },
  {
   "cell_type": "markdown",
   "id": "binary-mixer",
   "metadata": {},
   "source": [
    "### PCA"
   ]
  },
  {
   "cell_type": "code",
   "execution_count": 7,
   "id": "arbitrary-protein",
   "metadata": {},
   "outputs": [],
   "source": [
    "method = DimensionalityReductor.PCA\n",
    "model = pca\n",
    "method_str = \"PCA\""
   ]
  },
  {
   "cell_type": "markdown",
   "id": "quarterly-holmes",
   "metadata": {},
   "source": [
    "#### Knockout shift"
   ]
  },
  {
   "cell_type": "code",
   "execution_count": 8,
   "id": "banned-affect",
   "metadata": {},
   "outputs": [],
   "source": [
    "shift_type = ShiftType.Knockout\n",
    "shift_type_params = {\"cl\": MAJORITY}\n",
    "shift_str = \"ko\""
   ]
  },
  {
   "cell_type": "code",
   "execution_count": 14,
   "id": "freelance-timothy",
   "metadata": {},
   "outputs": [],
   "source": [
    "dict_result = main_experiment(model, method, X_valid, y_valid,\n",
    "                             c_valid, X_test_flatten, y_test, c_test,\n",
    "                             shift_type, ORIGINAL_SHAPE, n_classes,\n",
    "                             concept_names, concept_values, \n",
    "                             shift_type_params, n_exp=50, n_std=2)"
   ]
  },
  {
   "cell_type": "code",
   "execution_count": null,
   "id": "loved-theta",
   "metadata": {},
   "outputs": [],
   "source": [
    "# Save file\n",
    "save_result(shift_str, method_str, dict_result, True, \"smallnorb\")"
   ]
  },
  {
   "cell_type": "markdown",
   "id": "economic-absence",
   "metadata": {},
   "source": [
    "#### Concept shifts\n",
    "\n",
    "We consider the following concept shift combinations:\n",
    "- instance\n",
    "- elevation\n",
    "- azimuth\n",
    "- category and lighting"
   ]
  },
  {
   "cell_type": "code",
   "execution_count": null,
   "id": "closed-vacuum",
   "metadata": {},
   "outputs": [],
   "source": [
    "shift_type = ShiftType.Concept\n",
    "\n",
    "list_shift_str = [\n",
    "    \"instance\",\n",
    "    \"elevation\",\n",
    "    \"azimuth\",\n",
    "    \"category_lighting\"\n",
    "]\n",
    "\n",
    "list_shift_type_params = [\n",
    "    {\"cl\": MAJORITY, \"concept_idx\": 1}, # scale is index 2 in the concept names\n",
    "    {\"cl\": MAJORITY, \"concept_idx\": 2},\n",
    "    {\"cl\": MAJORITY, \"concept_idx\": 3},\n",
    "    [{\"cl\": MAJORITY, \"concept_idx\": 0}, {\"cl\": MAJORITY, \"concept_idx\": 4}],\n",
    "]"
   ]
  },
  {
   "cell_type": "code",
   "execution_count": null,
   "id": "romance-lewis",
   "metadata": {},
   "outputs": [],
   "source": [
    "for shift_str, shift_type_params in tqdm(zip(list_shift_str, list_shift_type_params)):\n",
    "    dict_result = main_experiment(model, method, X_valid, y_valid,\n",
    "                             c_valid, X_test_flatten, y_test, c_test,\n",
    "                             shift_type, ORIGINAL_SHAPE, n_classes,\n",
    "                             concept_names, concept_values, \n",
    "                             shift_type_params, n_exp=50, n_std=2)\n",
    "    \n",
    "    # Save\n",
    "    save_result(shift_str, method_str, dict_result, True, \"smallnorb\")"
   ]
  },
  {
   "cell_type": "markdown",
   "id": "breathing-chambers",
   "metadata": {},
   "source": [
    "#### Image shifts\n",
    "\n",
    "We consider the following image shifts:\n",
    "- translation (x)\n",
    "- translation (y)\n",
    "- flip\n",
    "- all (combination of image shifts)"
   ]
  },
  {
   "cell_type": "code",
   "execution_count": 2,
   "id": "hispanic-liechtenstein",
   "metadata": {},
   "outputs": [],
   "source": [
    "list_shift = [\n",
    "    ShiftType.Width,\n",
    "    ShiftType.Height,\n",
    "    ShiftType.Flip,\n",
    "    ShiftType.All\n",
    "]\n",
    "\n",
    "list_shift_str = [\n",
    "    \"img_x\",\n",
    "    \"img_x_y\",\n",
    "    \"flip\",\n",
    "    \"all\"\n",
    "]\n",
    "\n",
    "shift_type_param = {\"orig_dims\": ORIGINAL_SHAPE}"
   ]
  },
  {
   "cell_type": "code",
   "execution_count": null,
   "id": "charming-expert",
   "metadata": {},
   "outputs": [],
   "source": [
    "for shift_str, shift_type in tqdm(zip(list_shift_str, list_shift)):\n",
    "    dict_result = main_experiment(model, method, X_valid, y_valid,\n",
    "                             c_valid, X_test_flatten, y_test, c_test,\n",
    "                             shift_type, ORIGINAL_SHAPE, n_classes,\n",
    "                             concept_names, concept_values, \n",
    "                             shift_type_param, n_exp=50, n_std=2)\n",
    "    \n",
    "    # Save\n",
    "    save_result(shift_str, method_str, dict_result, True, \"smallnorb\")"
   ]
  },
  {
   "cell_type": "markdown",
   "id": "empty-photographer",
   "metadata": {},
   "source": [
    "#### Gaussian shift"
   ]
  },
  {
   "cell_type": "code",
   "execution_count": null,
   "id": "billion-alfred",
   "metadata": {},
   "outputs": [],
   "source": [
    "shift_type = ShiftType.Gaussian\n",
    "shift_type_params = None\n",
    "shift_str = \"gaussian\""
   ]
  },
  {
   "cell_type": "code",
   "execution_count": null,
   "id": "together-timing",
   "metadata": {},
   "outputs": [],
   "source": [
    "dict_result = main_experiment(model, method, X_valid, y_valid,\n",
    "                             c_valid, X_test_flatten, y_test, c_test,\n",
    "                             shift_type, ORIGINAL_SHAPE, n_classes,\n",
    "                             concept_names, concept_values, \n",
    "                             shift_type_params, n_exp=50, n_std=2)"
   ]
  },
  {
   "cell_type": "code",
   "execution_count": null,
   "id": "rapid-database",
   "metadata": {},
   "outputs": [],
   "source": [
    "# Save file\n",
    "save_result(shift_str, method_str, dict_result, True, \"smallnorb\")"
   ]
  },
  {
   "cell_type": "markdown",
   "id": "exceptional-heavy",
   "metadata": {},
   "source": [
    "#### Adversarial shift"
   ]
  },
  {
   "cell_type": "code",
   "execution_count": null,
   "id": "clear-expert",
   "metadata": {},
   "outputs": [],
   "source": [
    "shift_type = ShiftType.Adversarial\n",
    "shift_type_params = {\n",
    "    \"adv_samples\": adv_samples\n",
    "}\n",
    "shift_str = \"adversarial\""
   ]
  },
  {
   "cell_type": "code",
   "execution_count": null,
   "id": "mounted-arabic",
   "metadata": {},
   "outputs": [],
   "source": [
    "dict_result = main_experiment(model, method, X_valid, y_valid,\n",
    "                             c_valid, X_test_flatten, y_test, c_test,\n",
    "                             shift_type, ORIGINAL_SHAPE, n_classes,\n",
    "                             concept_names, concept_values, \n",
    "                             shift_type_params, n_exp=50, n_std=2)"
   ]
  },
  {
   "cell_type": "code",
   "execution_count": null,
   "id": "false-reviewer",
   "metadata": {},
   "outputs": [],
   "source": [
    "# Save file\n",
    "save_result(shift_str, method_str, dict_result, True, \"smallnorb\")"
   ]
  },
  {
   "cell_type": "markdown",
   "id": "designing-series",
   "metadata": {},
   "source": [
    "### SRP"
   ]
  },
  {
   "cell_type": "code",
   "execution_count": 36,
   "id": "creative-potential",
   "metadata": {},
   "outputs": [],
   "source": [
    "method = DimensionalityReductor.SRP\n",
    "model = srp\n",
    "method_str = \"SRP\""
   ]
  },
  {
   "cell_type": "markdown",
   "id": "hollywood-cooper",
   "metadata": {},
   "source": [
    "#### Knockout shift"
   ]
  },
  {
   "cell_type": "code",
   "execution_count": 7,
   "id": "parallel-resident",
   "metadata": {},
   "outputs": [],
   "source": [
    "shift_type = ShiftType.Knockout\n",
    "shift_type_params = {\"cl\": MAJORITY}\n",
    "shift_str = \"ko\""
   ]
  },
  {
   "cell_type": "code",
   "execution_count": 8,
   "id": "opened-topic",
   "metadata": {},
   "outputs": [],
   "source": [
    "dict_result = main_experiment(model, method, X_valid, y_valid,\n",
    "                             c_valid, X_test_flatten, y_test, c_test,\n",
    "                             shift_type, ORIGINAL_SHAPE, n_classes,\n",
    "                             concept_names, concept_values, \n",
    "                             shift_type_params, n_exp=50, n_std=2)"
   ]
  },
  {
   "cell_type": "code",
   "execution_count": 9,
   "id": "mediterranean-postcard",
   "metadata": {},
   "outputs": [
    {
     "name": "stdout",
     "output_type": "stream",
     "text": [
      "Saving successfully.\n"
     ]
    }
   ],
   "source": [
    "# Save file\n",
    "save_result(shift_str, method_str, dict_result, True, \"smallnorb\")"
   ]
  },
  {
   "cell_type": "markdown",
   "id": "brilliant-writer",
   "metadata": {},
   "source": [
    "#### Concept shifts"
   ]
  },
  {
   "cell_type": "code",
   "execution_count": null,
   "id": "potential-morris",
   "metadata": {},
   "outputs": [],
   "source": [
    "shift_type = ShiftType.Concept\n",
    "\n",
    "list_shift_str = [\n",
    "    \"instance\",\n",
    "    \"elevation\",\n",
    "    \"azimuth\",\n",
    "    \"category_lighting\"\n",
    "]\n",
    "\n",
    "list_shift_type_params = [\n",
    "    {\"cl\": MAJORITY, \"concept_idx\": 1}, # scale is index 2 in the concept names\n",
    "    {\"cl\": MAJORITY, \"concept_idx\": 2},\n",
    "    {\"cl\": MAJORITY, \"concept_idx\": 3},\n",
    "    [{\"cl\": MAJORITY, \"concept_idx\": 0}, {\"cl\": MAJORITY, \"concept_idx\": 4}],\n",
    "]"
   ]
  },
  {
   "cell_type": "code",
   "execution_count": null,
   "id": "utility-accordance",
   "metadata": {},
   "outputs": [],
   "source": [
    "for shift_str, shift_type_params in tqdm(zip(list_shift_str, list_shift_type_params)):\n",
    "    dict_result = main_experiment(model, method, X_valid, y_valid,\n",
    "                             c_valid, X_test_flatten, y_test, c_test,\n",
    "                             shift_type, ORIGINAL_SHAPE, n_classes,\n",
    "                             concept_names, concept_values, \n",
    "                             shift_type_params, n_exp=50, n_std=2)\n",
    "    \n",
    "    # Save\n",
    "    save_result(shift_str, method_str, dict_result, True, \"smallnorb\")"
   ]
  },
  {
   "cell_type": "markdown",
   "id": "express-estate",
   "metadata": {},
   "source": [
    "#### Image shifts"
   ]
  },
  {
   "cell_type": "code",
   "execution_count": 2,
   "id": "standing-sleeve",
   "metadata": {},
   "outputs": [],
   "source": [
    "list_shift = [\n",
    "    ShiftType.Width,\n",
    "    ShiftType.Height,\n",
    "    ShiftType.Flip,\n",
    "    ShiftType.All\n",
    "]\n",
    "\n",
    "list_shift_str = [\n",
    "    \"img_x\",\n",
    "    \"img_x_y\",\n",
    "    \"flip\",\n",
    "    \"all\"\n",
    "]\n",
    "\n",
    "shift_type_param = {\"orig_dims\": ORIGINAL_SHAPE}"
   ]
  },
  {
   "cell_type": "code",
   "execution_count": null,
   "id": "mediterranean-oracle",
   "metadata": {},
   "outputs": [],
   "source": [
    "for shift_str, shift_type in tqdm(zip(list_shift_str, list_shift)):\n",
    "    dict_result = main_experiment(model, method, X_valid, y_valid,\n",
    "                             c_valid, X_test_flatten, y_test, c_test,\n",
    "                             shift_type, ORIGINAL_SHAPE, n_classes,\n",
    "                             concept_names, concept_values, \n",
    "                             shift_type_param, n_exp=50, n_std=2)\n",
    "    \n",
    "    # Save\n",
    "    save_result(shift_str, method_str, dict_result, True, \"smallnorb\")"
   ]
  },
  {
   "cell_type": "markdown",
   "id": "basic-scholar",
   "metadata": {},
   "source": [
    "#### Gaussian shift"
   ]
  },
  {
   "cell_type": "code",
   "execution_count": null,
   "id": "deluxe-disabled",
   "metadata": {},
   "outputs": [],
   "source": [
    "shift_type = ShiftType.Gaussian\n",
    "shift_type_params = None\n",
    "shift_str = \"gaussian\""
   ]
  },
  {
   "cell_type": "code",
   "execution_count": null,
   "id": "meaningful-designer",
   "metadata": {},
   "outputs": [],
   "source": [
    "dict_result = main_experiment(model, method, X_valid, y_valid,\n",
    "                             c_valid, X_test_flatten, y_test, c_test,\n",
    "                             shift_type, ORIGINAL_SHAPE, n_classes,\n",
    "                             concept_names, concept_values, \n",
    "                             shift_type_params, n_exp=50, n_std=2)"
   ]
  },
  {
   "cell_type": "code",
   "execution_count": null,
   "id": "continuing-humanitarian",
   "metadata": {},
   "outputs": [],
   "source": [
    "# Save file\n",
    "save_result(shift_str, method_str, dict_result, True, \"smallnorb\")"
   ]
  },
  {
   "cell_type": "markdown",
   "id": "increased-familiar",
   "metadata": {},
   "source": [
    "#### Adversarial shift"
   ]
  },
  {
   "cell_type": "code",
   "execution_count": null,
   "id": "driving-symbol",
   "metadata": {},
   "outputs": [],
   "source": [
    "shift_type = ShiftType.Adversarial\n",
    "shift_type_params = {\n",
    "    \"adv_samples\": adv_samples\n",
    "}\n",
    "shift_str = \"adversarial\""
   ]
  },
  {
   "cell_type": "code",
   "execution_count": null,
   "id": "promotional-factory",
   "metadata": {},
   "outputs": [],
   "source": [
    "dict_result = main_experiment(model, method, X_valid, y_valid,\n",
    "                             c_valid, X_test_flatten, y_test, c_test,\n",
    "                             shift_type, ORIGINAL_SHAPE, n_classes,\n",
    "                             concept_names, concept_values, \n",
    "                             shift_type_params, n_exp=50, n_std=2)"
   ]
  },
  {
   "cell_type": "code",
   "execution_count": null,
   "id": "progressive-august",
   "metadata": {},
   "outputs": [],
   "source": [
    "# Save file\n",
    "save_result(shift_str, method_str, dict_result, True, \"smallnorb\")"
   ]
  },
  {
   "cell_type": "markdown",
   "id": "grateful-blind",
   "metadata": {},
   "source": [
    "### BBSDs"
   ]
  },
  {
   "cell_type": "code",
   "execution_count": 36,
   "id": "neural-athletics",
   "metadata": {},
   "outputs": [],
   "source": [
    "method = DimensionalityReductor.BBSDs\n",
    "model = end_to_end_model\n",
    "method_str = \"BBSDs\""
   ]
  },
  {
   "cell_type": "markdown",
   "id": "utility-heritage",
   "metadata": {},
   "source": [
    "#### Knockout shift"
   ]
  },
  {
   "cell_type": "code",
   "execution_count": 7,
   "id": "painted-flood",
   "metadata": {},
   "outputs": [],
   "source": [
    "shift_type = ShiftType.Knockout\n",
    "shift_type_params = {\"cl\": MAJORITY}\n",
    "shift_str = \"ko\""
   ]
  },
  {
   "cell_type": "code",
   "execution_count": 8,
   "id": "perceived-journey",
   "metadata": {},
   "outputs": [],
   "source": [
    "dict_result = main_experiment(model, method, X_valid, y_valid,\n",
    "                             c_valid, X_test_flatten, y_test, c_test,\n",
    "                             shift_type, ORIGINAL_SHAPE, n_classes,\n",
    "                             concept_names, concept_values, \n",
    "                             shift_type_params, n_exp=50, n_std=2)"
   ]
  },
  {
   "cell_type": "code",
   "execution_count": 9,
   "id": "advance-capture",
   "metadata": {},
   "outputs": [
    {
     "name": "stdout",
     "output_type": "stream",
     "text": [
      "Saving successfully.\n"
     ]
    }
   ],
   "source": [
    "# Save file\n",
    "save_result(shift_str, method_str, dict_result, True, \"smallnorb\")"
   ]
  },
  {
   "cell_type": "markdown",
   "id": "rotary-reunion",
   "metadata": {},
   "source": [
    "#### Concept shifts"
   ]
  },
  {
   "cell_type": "code",
   "execution_count": null,
   "id": "traditional-minute",
   "metadata": {},
   "outputs": [],
   "source": [
    "shift_type = ShiftType.Concept\n",
    "\n",
    "list_shift_str = [\n",
    "    \"instance\",\n",
    "    \"elevation\",\n",
    "    \"azimuth\",\n",
    "    \"category_lighting\"\n",
    "]\n",
    "\n",
    "list_shift_type_params = [\n",
    "    {\"cl\": MAJORITY, \"concept_idx\": 1}, # scale is index 2 in the concept names\n",
    "    {\"cl\": MAJORITY, \"concept_idx\": 2},\n",
    "    {\"cl\": MAJORITY, \"concept_idx\": 3},\n",
    "    [{\"cl\": MAJORITY, \"concept_idx\": 0}, {\"cl\": MAJORITY, \"concept_idx\": 4}],\n",
    "]"
   ]
  },
  {
   "cell_type": "code",
   "execution_count": null,
   "id": "modular-cement",
   "metadata": {},
   "outputs": [],
   "source": [
    "for shift_str, shift_type_params in tqdm(zip(list_shift_str, list_shift_type_params)):\n",
    "    dict_result = main_experiment(model, method, X_valid, y_valid,\n",
    "                             c_valid, X_test_flatten, y_test, c_test,\n",
    "                             shift_type, ORIGINAL_SHAPE, n_classes,\n",
    "                             concept_names, concept_values, \n",
    "                             shift_type_params, n_exp=50, n_std=2)\n",
    "    \n",
    "    # Save\n",
    "    save_result(shift_str, method_str, dict_result, True, \"smallnorb\")"
   ]
  },
  {
   "cell_type": "markdown",
   "id": "circular-guest",
   "metadata": {},
   "source": [
    "#### Image shifts"
   ]
  },
  {
   "cell_type": "code",
   "execution_count": 2,
   "id": "aging-intensity",
   "metadata": {},
   "outputs": [],
   "source": [
    "list_shift = [\n",
    "    ShiftType.Width,\n",
    "    ShiftType.Height,\n",
    "    ShiftType.Flip,\n",
    "    ShiftType.All\n",
    "]\n",
    "\n",
    "list_shift_str = [\n",
    "    \"img_x\",\n",
    "    \"img_x_y\",\n",
    "    \"flip\",\n",
    "    \"all\"\n",
    "]\n",
    "\n",
    "shift_type_param = {\"orig_dims\": ORIGINAL_SHAPE}"
   ]
  },
  {
   "cell_type": "code",
   "execution_count": null,
   "id": "northern-laptop",
   "metadata": {},
   "outputs": [],
   "source": [
    "for shift_str, shift_type in tqdm(zip(list_shift_str, list_shift)):\n",
    "    dict_result = main_experiment(model, method, X_valid, y_valid,\n",
    "                             c_valid, X_test_flatten, y_test, c_test,\n",
    "                             shift_type, ORIGINAL_SHAPE, n_classes,\n",
    "                             concept_names, concept_values, \n",
    "                             shift_type_param, n_exp=50, n_std=2)\n",
    "    \n",
    "    # Save\n",
    "    save_result(shift_str, method_str, dict_result, True, \"smallnorb\")"
   ]
  },
  {
   "cell_type": "markdown",
   "id": "fewer-adult",
   "metadata": {},
   "source": [
    "#### Gaussian shift"
   ]
  },
  {
   "cell_type": "code",
   "execution_count": null,
   "id": "seeing-rolling",
   "metadata": {},
   "outputs": [],
   "source": [
    "shift_type = ShiftType.Gaussian\n",
    "shift_type_params = None\n",
    "shift_str = \"gaussian\""
   ]
  },
  {
   "cell_type": "code",
   "execution_count": null,
   "id": "suspended-scout",
   "metadata": {},
   "outputs": [],
   "source": [
    "dict_result = main_experiment(model, method, X_valid, y_valid,\n",
    "                             c_valid, X_test_flatten, y_test, c_test,\n",
    "                             shift_type, ORIGINAL_SHAPE, n_classes,\n",
    "                             concept_names, concept_values, \n",
    "                             shift_type_params, n_exp=50, n_std=2)"
   ]
  },
  {
   "cell_type": "code",
   "execution_count": null,
   "id": "elder-shore",
   "metadata": {},
   "outputs": [],
   "source": [
    "# Save file\n",
    "save_result(shift_str, method_str, dict_result, True, \"smallnorb\")"
   ]
  },
  {
   "cell_type": "markdown",
   "id": "supported-jonathan",
   "metadata": {},
   "source": [
    "#### Adversarial shift"
   ]
  },
  {
   "cell_type": "code",
   "execution_count": null,
   "id": "domestic-estimate",
   "metadata": {},
   "outputs": [],
   "source": [
    "shift_type = ShiftType.Adversarial\n",
    "shift_type_params = {\n",
    "    \"adv_samples\": adv_samples\n",
    "}\n",
    "shift_str = \"adversarial\""
   ]
  },
  {
   "cell_type": "code",
   "execution_count": null,
   "id": "driving-lawrence",
   "metadata": {},
   "outputs": [],
   "source": [
    "dict_result = main_experiment(model, method, X_valid, y_valid,\n",
    "                             c_valid, X_test_flatten, y_test, c_test,\n",
    "                             shift_type, ORIGINAL_SHAPE, n_classes,\n",
    "                             concept_names, concept_values, \n",
    "                             shift_type_params, n_exp=50, n_std=2)"
   ]
  },
  {
   "cell_type": "code",
   "execution_count": null,
   "id": "sitting-prize",
   "metadata": {},
   "outputs": [],
   "source": [
    "# Save file\n",
    "save_result(shift_str, method_str, dict_result, True, \"smallnorb\")"
   ]
  },
  {
   "cell_type": "markdown",
   "id": "cheap-mexican",
   "metadata": {},
   "source": [
    "### BBSDh"
   ]
  },
  {
   "cell_type": "code",
   "execution_count": 36,
   "id": "instructional-lottery",
   "metadata": {},
   "outputs": [],
   "source": [
    "method = DimensionalityReductor.BBSDh\n",
    "model = end_to_end_model\n",
    "method_str = \"BBSDh\""
   ]
  },
  {
   "cell_type": "markdown",
   "id": "absent-eleven",
   "metadata": {},
   "source": [
    "#### Knockout shift"
   ]
  },
  {
   "cell_type": "code",
   "execution_count": 7,
   "id": "hundred-cotton",
   "metadata": {},
   "outputs": [],
   "source": [
    "shift_type = ShiftType.Knockout\n",
    "shift_type_params = {\"cl\": MAJORITY}\n",
    "shift_str = \"ko\""
   ]
  },
  {
   "cell_type": "code",
   "execution_count": 8,
   "id": "amino-willow",
   "metadata": {},
   "outputs": [],
   "source": [
    "dict_result = main_experiment(model, method, X_valid, y_valid,\n",
    "                             c_valid, X_test_flatten, y_test, c_test,\n",
    "                             shift_type, ORIGINAL_SHAPE, n_classes,\n",
    "                             concept_names, concept_values, \n",
    "                             shift_type_params, n_exp=50, n_std=2)"
   ]
  },
  {
   "cell_type": "code",
   "execution_count": 9,
   "id": "behavioral-oriental",
   "metadata": {},
   "outputs": [
    {
     "name": "stdout",
     "output_type": "stream",
     "text": [
      "Saving successfully.\n"
     ]
    }
   ],
   "source": [
    "# Save file\n",
    "save_result(shift_str, method_str, dict_result, True, \"smallnorb\")"
   ]
  },
  {
   "cell_type": "markdown",
   "id": "golden-surgeon",
   "metadata": {},
   "source": [
    "#### Concept shifts"
   ]
  },
  {
   "cell_type": "code",
   "execution_count": null,
   "id": "responsible-astrology",
   "metadata": {},
   "outputs": [],
   "source": [
    "shift_type = ShiftType.Concept\n",
    "\n",
    "list_shift_str = [\n",
    "    \"instance\",\n",
    "    \"elevation\",\n",
    "    \"azimuth\",\n",
    "    \"category_lighting\"\n",
    "]\n",
    "\n",
    "list_shift_type_params = [\n",
    "    {\"cl\": MAJORITY, \"concept_idx\": 1}, # scale is index 2 in the concept names\n",
    "    {\"cl\": MAJORITY, \"concept_idx\": 2},\n",
    "    {\"cl\": MAJORITY, \"concept_idx\": 3},\n",
    "    [{\"cl\": MAJORITY, \"concept_idx\": 0}, {\"cl\": MAJORITY, \"concept_idx\": 4}],\n",
    "]"
   ]
  },
  {
   "cell_type": "code",
   "execution_count": null,
   "id": "divine-treatment",
   "metadata": {},
   "outputs": [],
   "source": [
    "for shift_str, shift_type_params in tqdm(zip(list_shift_str, list_shift_type_params)):\n",
    "    dict_result = main_experiment(model, method, X_valid, y_valid,\n",
    "                             c_valid, X_test_flatten, y_test, c_test,\n",
    "                             shift_type, ORIGINAL_SHAPE, n_classes,\n",
    "                             concept_names, concept_values, \n",
    "                             shift_type_params, n_exp=50, n_std=2)\n",
    "    \n",
    "    # Save\n",
    "    save_result(shift_str, method_str, dict_result, True, \"smallnorb\")"
   ]
  },
  {
   "cell_type": "markdown",
   "id": "following-trinity",
   "metadata": {},
   "source": [
    "#### Image shifts"
   ]
  },
  {
   "cell_type": "code",
   "execution_count": 2,
   "id": "biological-electric",
   "metadata": {},
   "outputs": [],
   "source": [
    "list_shift = [\n",
    "    ShiftType.Width,\n",
    "    ShiftType.Height,\n",
    "    ShiftType.Flip,\n",
    "    ShiftType.All\n",
    "]\n",
    "\n",
    "list_shift_str = [\n",
    "    \"img_x\",\n",
    "    \"img_x_y\",\n",
    "    \"flip\",\n",
    "    \"all\"\n",
    "]\n",
    "\n",
    "shift_type_param = {\"orig_dims\": ORIGINAL_SHAPE}"
   ]
  },
  {
   "cell_type": "code",
   "execution_count": null,
   "id": "mathematical-reminder",
   "metadata": {},
   "outputs": [],
   "source": [
    "for shift_str, shift_type in tqdm(zip(list_shift_str, list_shift)):\n",
    "    dict_result = main_experiment(model, method, X_valid, y_valid,\n",
    "                             c_valid, X_test_flatten, y_test, c_test,\n",
    "                             shift_type, ORIGINAL_SHAPE, n_classes,\n",
    "                             concept_names, concept_values, \n",
    "                             shift_type_param, n_exp=50, n_std=2)\n",
    "    \n",
    "    # Save\n",
    "    save_result(shift_str, method_str, dict_result, True, \"smallnorb\")"
   ]
  },
  {
   "cell_type": "markdown",
   "id": "perceived-windsor",
   "metadata": {},
   "source": [
    "#### Gaussian shift"
   ]
  },
  {
   "cell_type": "code",
   "execution_count": null,
   "id": "experimental-badge",
   "metadata": {},
   "outputs": [],
   "source": [
    "shift_type = ShiftType.Gaussian\n",
    "shift_type_params = None\n",
    "shift_str = \"gaussian\""
   ]
  },
  {
   "cell_type": "code",
   "execution_count": null,
   "id": "competent-grill",
   "metadata": {},
   "outputs": [],
   "source": [
    "dict_result = main_experiment(model, method, X_valid, y_valid,\n",
    "                             c_valid, X_test_flatten, y_test, c_test,\n",
    "                             shift_type, ORIGINAL_SHAPE, n_classes,\n",
    "                             concept_names, concept_values, \n",
    "                             shift_type_params, n_exp=50, n_std=2)"
   ]
  },
  {
   "cell_type": "code",
   "execution_count": null,
   "id": "pleased-detail",
   "metadata": {},
   "outputs": [],
   "source": [
    "# Save file\n",
    "save_result(shift_str, method_str, dict_result, True, \"smallnorb\")"
   ]
  },
  {
   "cell_type": "markdown",
   "id": "suspended-mambo",
   "metadata": {},
   "source": [
    "#### Adversarial shift"
   ]
  },
  {
   "cell_type": "code",
   "execution_count": null,
   "id": "framed-elizabeth",
   "metadata": {},
   "outputs": [],
   "source": [
    "shift_type = ShiftType.Adversarial\n",
    "shift_type_params = {\n",
    "    \"adv_samples\": adv_samples\n",
    "}\n",
    "shift_str = \"adversarial\""
   ]
  },
  {
   "cell_type": "code",
   "execution_count": null,
   "id": "excess-bible",
   "metadata": {},
   "outputs": [],
   "source": [
    "dict_result = main_experiment(model, method, X_valid, y_valid,\n",
    "                             c_valid, X_test_flatten, y_test, c_test,\n",
    "                             shift_type, ORIGINAL_SHAPE, n_classes,\n",
    "                             concept_names, concept_values, \n",
    "                             shift_type_params, n_exp=50, n_std=2)"
   ]
  },
  {
   "cell_type": "code",
   "execution_count": null,
   "id": "worst-clerk",
   "metadata": {},
   "outputs": [],
   "source": [
    "# Save file\n",
    "save_result(shift_str, method_str, dict_result, True, \"smallnorb\")"
   ]
  },
  {
   "cell_type": "markdown",
   "id": "boolean-grave",
   "metadata": {},
   "source": [
    "### CBSDs"
   ]
  },
  {
   "cell_type": "code",
   "execution_count": 36,
   "id": "permanent-christmas",
   "metadata": {},
   "outputs": [],
   "source": [
    "method = DimensionalityReductor.CBSDs\n",
    "model = mt_model\n",
    "method_str = \"CBSDs\""
   ]
  },
  {
   "cell_type": "markdown",
   "id": "approximate-hurricane",
   "metadata": {},
   "source": [
    "#### Knockout shift"
   ]
  },
  {
   "cell_type": "code",
   "execution_count": 7,
   "id": "chubby-information",
   "metadata": {},
   "outputs": [],
   "source": [
    "shift_type = ShiftType.Knockout\n",
    "shift_type_params = {\"cl\": MAJORITY}\n",
    "shift_str = \"ko\""
   ]
  },
  {
   "cell_type": "code",
   "execution_count": 8,
   "id": "latin-symphony",
   "metadata": {},
   "outputs": [],
   "source": [
    "dict_result = main_experiment(model, method, X_valid, y_valid,\n",
    "                             c_valid, X_test_flatten, y_test, c_test,\n",
    "                             shift_type, ORIGINAL_SHAPE, n_classes,\n",
    "                             concept_names, concept_values, \n",
    "                             shift_type_params, n_exp=50, n_std=2)"
   ]
  },
  {
   "cell_type": "code",
   "execution_count": 9,
   "id": "hydraulic-salem",
   "metadata": {},
   "outputs": [
    {
     "name": "stdout",
     "output_type": "stream",
     "text": [
      "Saving successfully.\n"
     ]
    }
   ],
   "source": [
    "# Save file\n",
    "save_result(shift_str, method_str, dict_result, True, \"smallnorb\")"
   ]
  },
  {
   "cell_type": "markdown",
   "id": "armed-baghdad",
   "metadata": {},
   "source": [
    "#### Concept shifts"
   ]
  },
  {
   "cell_type": "code",
   "execution_count": null,
   "id": "green-failing",
   "metadata": {},
   "outputs": [],
   "source": [
    "shift_type = ShiftType.Concept\n",
    "\n",
    "list_shift_str = [\n",
    "    \"instance\",\n",
    "    \"elevation\",\n",
    "    \"azimuth\",\n",
    "    \"category_lighting\"\n",
    "]\n",
    "\n",
    "list_shift_type_params = [\n",
    "    {\"cl\": MAJORITY, \"concept_idx\": 1}, # scale is index 2 in the concept names\n",
    "    {\"cl\": MAJORITY, \"concept_idx\": 2},\n",
    "    {\"cl\": MAJORITY, \"concept_idx\": 3},\n",
    "    [{\"cl\": MAJORITY, \"concept_idx\": 0}, {\"cl\": MAJORITY, \"concept_idx\": 4}],\n",
    "]"
   ]
  },
  {
   "cell_type": "code",
   "execution_count": null,
   "id": "viral-fountain",
   "metadata": {},
   "outputs": [],
   "source": [
    "for shift_str, shift_type_params in tqdm(zip(list_shift_str, list_shift_type_params)):\n",
    "    dict_result = main_experiment(model, method, X_valid, y_valid,\n",
    "                             c_valid, X_test_flatten, y_test, c_test,\n",
    "                             shift_type, ORIGINAL_SHAPE, n_classes,\n",
    "                             concept_names, concept_values, \n",
    "                             shift_type_params, n_exp=50, n_std=2)\n",
    "    \n",
    "    # Save\n",
    "    save_result(shift_str, method_str, dict_result, True, \"smallnorb\")"
   ]
  },
  {
   "cell_type": "markdown",
   "id": "significant-persian",
   "metadata": {},
   "source": [
    "#### Image shifts"
   ]
  },
  {
   "cell_type": "code",
   "execution_count": 2,
   "id": "fitted-jerusalem",
   "metadata": {},
   "outputs": [],
   "source": [
    "list_shift = [\n",
    "    ShiftType.Width,\n",
    "    ShiftType.Height,\n",
    "    ShiftType.Flip,\n",
    "    ShiftType.All\n",
    "]\n",
    "\n",
    "list_shift_str = [\n",
    "    \"img_x\",\n",
    "    \"img_x_y\",\n",
    "    \"flip\",\n",
    "    \"all\"\n",
    "]\n",
    "\n",
    "shift_type_param = {\"orig_dims\": ORIGINAL_SHAPE}"
   ]
  },
  {
   "cell_type": "code",
   "execution_count": null,
   "id": "noticed-prefix",
   "metadata": {},
   "outputs": [],
   "source": [
    "for shift_str, shift_type in tqdm(zip(list_shift_str, list_shift)):\n",
    "    dict_result = main_experiment(model, method, X_valid, y_valid,\n",
    "                             c_valid, X_test_flatten, y_test, c_test,\n",
    "                             shift_type, ORIGINAL_SHAPE, n_classes,\n",
    "                             concept_names, concept_values, \n",
    "                             shift_type_param, n_exp=50, n_std=2)\n",
    "    \n",
    "    # Save\n",
    "    save_result(shift_str, method_str, dict_result, True, \"smallnorb\")"
   ]
  },
  {
   "cell_type": "markdown",
   "id": "committed-movement",
   "metadata": {},
   "source": [
    "#### Gaussian shift"
   ]
  },
  {
   "cell_type": "code",
   "execution_count": null,
   "id": "provincial-source",
   "metadata": {},
   "outputs": [],
   "source": [
    "shift_type = ShiftType.Gaussian\n",
    "shift_type_params = None\n",
    "shift_str = \"gaussian\""
   ]
  },
  {
   "cell_type": "code",
   "execution_count": null,
   "id": "controversial-survey",
   "metadata": {},
   "outputs": [],
   "source": [
    "dict_result = main_experiment(model, method, X_valid, y_valid,\n",
    "                             c_valid, X_test_flatten, y_test, c_test,\n",
    "                             shift_type, ORIGINAL_SHAPE, n_classes,\n",
    "                             concept_names, concept_values, \n",
    "                             shift_type_params, n_exp=50, n_std=2)"
   ]
  },
  {
   "cell_type": "code",
   "execution_count": null,
   "id": "incoming-mainstream",
   "metadata": {},
   "outputs": [],
   "source": [
    "# Save file\n",
    "save_result(shift_str, method_str, dict_result, True, \"smallnorb\")"
   ]
  },
  {
   "cell_type": "markdown",
   "id": "sublime-brunei",
   "metadata": {},
   "source": [
    "#### Adversarial shift"
   ]
  },
  {
   "cell_type": "code",
   "execution_count": null,
   "id": "precise-saudi",
   "metadata": {},
   "outputs": [],
   "source": [
    "shift_type = ShiftType.Adversarial\n",
    "shift_type_params = {\n",
    "    \"adv_samples\": adv_samples\n",
    "}\n",
    "shift_str = \"adversarial\""
   ]
  },
  {
   "cell_type": "code",
   "execution_count": null,
   "id": "worse-secret",
   "metadata": {},
   "outputs": [],
   "source": [
    "dict_result = main_experiment(model, method, X_valid, y_valid,\n",
    "                             c_valid, X_test_flatten, y_test, c_test,\n",
    "                             shift_type, ORIGINAL_SHAPE, n_classes,\n",
    "                             concept_names, concept_values, \n",
    "                             shift_type_params, n_exp=50, n_std=2)"
   ]
  },
  {
   "cell_type": "code",
   "execution_count": null,
   "id": "ongoing-keeping",
   "metadata": {},
   "outputs": [],
   "source": [
    "# Save file\n",
    "save_result(shift_str, method_str, dict_result, True, \"smallnorb\")"
   ]
  },
  {
   "cell_type": "markdown",
   "id": "hidden-injury",
   "metadata": {},
   "source": [
    "### CBSDh"
   ]
  },
  {
   "cell_type": "code",
   "execution_count": 36,
   "id": "informal-avatar",
   "metadata": {},
   "outputs": [],
   "source": [
    "method = DimensionalityReductor.CBSDh\n",
    "model = mt_model\n",
    "method_str = \"CBSDh\""
   ]
  },
  {
   "cell_type": "markdown",
   "id": "annual-relay",
   "metadata": {},
   "source": [
    "#### Knockout shift"
   ]
  },
  {
   "cell_type": "code",
   "execution_count": 7,
   "id": "daily-laser",
   "metadata": {},
   "outputs": [],
   "source": [
    "shift_type = ShiftType.Knockout\n",
    "shift_type_params = {\"cl\": MAJORITY}\n",
    "shift_str = \"ko\""
   ]
  },
  {
   "cell_type": "code",
   "execution_count": 8,
   "id": "extended-evanescence",
   "metadata": {},
   "outputs": [],
   "source": [
    "dict_result = main_experiment(model, method, X_valid, y_valid,\n",
    "                             c_valid, X_test_flatten, y_test, c_test,\n",
    "                             shift_type, ORIGINAL_SHAPE, n_classes,\n",
    "                             concept_names, concept_values, \n",
    "                             shift_type_params, n_exp=50, n_std=2)"
   ]
  },
  {
   "cell_type": "code",
   "execution_count": 9,
   "id": "certified-proposition",
   "metadata": {},
   "outputs": [
    {
     "name": "stdout",
     "output_type": "stream",
     "text": [
      "Saving successfully.\n"
     ]
    }
   ],
   "source": [
    "# Save file\n",
    "save_result(shift_str, method_str, dict_result, True, \"smallnorb\")"
   ]
  },
  {
   "cell_type": "markdown",
   "id": "unlimited-symposium",
   "metadata": {},
   "source": [
    "#### Concept shifts"
   ]
  },
  {
   "cell_type": "code",
   "execution_count": null,
   "id": "beautiful-albany",
   "metadata": {},
   "outputs": [],
   "source": [
    "shift_type = ShiftType.Concept\n",
    "\n",
    "list_shift_str = [\n",
    "    \"instance\",\n",
    "    \"elevation\",\n",
    "    \"azimuth\",\n",
    "    \"category_lighting\"\n",
    "]\n",
    "\n",
    "list_shift_type_params = [\n",
    "    {\"cl\": MAJORITY, \"concept_idx\": 1}, # scale is index 2 in the concept names\n",
    "    {\"cl\": MAJORITY, \"concept_idx\": 2},\n",
    "    {\"cl\": MAJORITY, \"concept_idx\": 3},\n",
    "    [{\"cl\": MAJORITY, \"concept_idx\": 0}, {\"cl\": MAJORITY, \"concept_idx\": 4}],\n",
    "]"
   ]
  },
  {
   "cell_type": "code",
   "execution_count": null,
   "id": "given-boundary",
   "metadata": {},
   "outputs": [],
   "source": [
    "for shift_str, shift_type_params in tqdm(zip(list_shift_str, list_shift_type_params)):\n",
    "    dict_result = main_experiment(model, method, X_valid, y_valid,\n",
    "                             c_valid, X_test_flatten, y_test, c_test,\n",
    "                             shift_type, ORIGINAL_SHAPE, n_classes,\n",
    "                             concept_names, concept_values, \n",
    "                             shift_type_params, n_exp=50, n_std=2)\n",
    "    \n",
    "    # Save\n",
    "    save_result(shift_str, method_str, dict_result, True, \"smallnorb\")"
   ]
  },
  {
   "cell_type": "markdown",
   "id": "geographic-sight",
   "metadata": {},
   "source": [
    "#### Image shifts"
   ]
  },
  {
   "cell_type": "code",
   "execution_count": 2,
   "id": "polish-benchmark",
   "metadata": {},
   "outputs": [],
   "source": [
    "list_shift = [\n",
    "    ShiftType.Width,\n",
    "    ShiftType.Height,\n",
    "    ShiftType.Flip,\n",
    "    ShiftType.All\n",
    "]\n",
    "\n",
    "list_shift_str = [\n",
    "    \"img_x\",\n",
    "    \"img_x_y\",\n",
    "    \"flip\",\n",
    "    \"all\"\n",
    "]\n",
    "\n",
    "shift_type_param = {\"orig_dims\": ORIGINAL_SHAPE}"
   ]
  },
  {
   "cell_type": "code",
   "execution_count": null,
   "id": "downtown-familiar",
   "metadata": {},
   "outputs": [],
   "source": [
    "for shift_str, shift_type in tqdm(zip(list_shift_str, list_shift)):\n",
    "    dict_result = main_experiment(model, method, X_valid, y_valid,\n",
    "                             c_valid, X_test_flatten, y_test, c_test,\n",
    "                             shift_type, ORIGINAL_SHAPE, n_classes,\n",
    "                             concept_names, concept_values, \n",
    "                             shift_type_param, n_exp=50, n_std=2)\n",
    "    \n",
    "    # Save\n",
    "    save_result(shift_str, method_str, dict_result, True, \"smallnorb\")"
   ]
  },
  {
   "cell_type": "markdown",
   "id": "fabulous-verification",
   "metadata": {},
   "source": [
    "#### Gaussian shift"
   ]
  },
  {
   "cell_type": "code",
   "execution_count": null,
   "id": "trained-shame",
   "metadata": {},
   "outputs": [],
   "source": [
    "shift_type = ShiftType.Gaussian\n",
    "shift_type_params = None\n",
    "shift_str = \"gaussian\""
   ]
  },
  {
   "cell_type": "code",
   "execution_count": null,
   "id": "fallen-nursery",
   "metadata": {},
   "outputs": [],
   "source": [
    "dict_result = main_experiment(model, method, X_valid, y_valid,\n",
    "                             c_valid, X_test_flatten, y_test, c_test,\n",
    "                             shift_type, ORIGINAL_SHAPE, n_classes,\n",
    "                             concept_names, concept_values, \n",
    "                             shift_type_params, n_exp=50, n_std=2)"
   ]
  },
  {
   "cell_type": "code",
   "execution_count": null,
   "id": "novel-warren",
   "metadata": {},
   "outputs": [],
   "source": [
    "# Save file\n",
    "save_result(shift_str, method_str, dict_result, True, \"smallnorb\")"
   ]
  },
  {
   "cell_type": "markdown",
   "id": "intimate-obligation",
   "metadata": {},
   "source": [
    "#### Adversarial shift"
   ]
  },
  {
   "cell_type": "code",
   "execution_count": null,
   "id": "sapphire-effect",
   "metadata": {},
   "outputs": [],
   "source": [
    "shift_type = ShiftType.Adversarial\n",
    "shift_type_params = {\n",
    "    \"adv_samples\": adv_samples\n",
    "}\n",
    "shift_str = \"adversarial\""
   ]
  },
  {
   "cell_type": "code",
   "execution_count": null,
   "id": "overall-circle",
   "metadata": {},
   "outputs": [],
   "source": [
    "dict_result = main_experiment(model, method, X_valid, y_valid,\n",
    "                             c_valid, X_test_flatten, y_test, c_test,\n",
    "                             shift_type, ORIGINAL_SHAPE, n_classes,\n",
    "                             concept_names, concept_values, \n",
    "                             shift_type_params, n_exp=50, n_std=2)"
   ]
  },
  {
   "cell_type": "code",
   "execution_count": null,
   "id": "living-astronomy",
   "metadata": {},
   "outputs": [],
   "source": [
    "# Save file\n",
    "save_result(shift_str, method_str, dict_result, True, \"smallnorb\")"
   ]
  }
 ],
 "metadata": {
  "kernelspec": {
   "display_name": "Python 3",
   "language": "python",
   "name": "python3"
  },
  "language_info": {
   "codemirror_mode": {
    "name": "ipython",
    "version": 3
   },
   "file_extension": ".py",
   "mimetype": "text/x-python",
   "name": "python",
   "nbconvert_exporter": "python",
   "pygments_lexer": "ipython3",
   "version": "3.8.5"
  }
 },
 "nbformat": 4,
 "nbformat_minor": 5
}
