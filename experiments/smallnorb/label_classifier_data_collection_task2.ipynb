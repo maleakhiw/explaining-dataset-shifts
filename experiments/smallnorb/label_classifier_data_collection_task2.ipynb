{
 "cells": [
  {
   "cell_type": "markdown",
   "id": "unusual-metabolism",
   "metadata": {},
   "source": [
    "# Label classifier (smallNORB): data collection\n",
    "\n",
    "## Task 2\n",
    "\n",
    "**Author**: Maleakhi A. Wijaya  \n",
    "**Description**: This notebook contains code used to collect experimentation data. We compare the performance of methods discussed in Rabanset et al. against our proposed CBSD method. The end-to-end task for task 2 is to predict the combination of category and lighting given the toy images."
   ]
  },
  {
   "cell_type": "code",
   "execution_count": 1,
   "id": "objective-castle",
   "metadata": {},
   "outputs": [],
   "source": [
    "# Load utilities functions\n",
    "%run ../../scripts/constants.py\n",
    "%run ../../scripts/smallnorb_utils.py\n",
    "%run ../../scripts/shift_applicator.py\n",
    "%run ../../scripts/shift_dimensionality_reductor.py\n",
    "%run ../../scripts/experiment_utils.py\n",
    "%run ../../scripts/shift_statistical_test.py"
   ]
  },
  {
   "cell_type": "code",
   "execution_count": 2,
   "id": "recovered-church",
   "metadata": {},
   "outputs": [],
   "source": [
    "## Random seed\n",
    "SEED = 20\n",
    "np.random.seed(SEED)\n",
    "tf.random.set_seed(SEED)"
   ]
  },
  {
   "cell_type": "markdown",
   "id": "bound-grade",
   "metadata": {},
   "source": [
    "## Load dataset"
   ]
  },
  {
   "cell_type": "code",
   "execution_count": 3,
   "id": "broke-timing",
   "metadata": {},
   "outputs": [
    {
     "name": "stdout",
     "output_type": "stream",
     "text": [
      "Training samples: 36450\n",
      "Testing samples: 12150\n"
     ]
    }
   ],
   "source": [
    "files_dir = \"../../data\"\n",
    "X_train, X_test, y_train, y_test, c_train, c_test = train_test_split_smallnorb(files_dir, DatasetTask.Task2, \n",
    "                                                                               train_size=0.75, class_index=[0,4],\n",
    "                                                                              resize_size=64)\n",
    "n_classes = 30\n",
    "concept_names = ['category', 'instance', 'elevation', 'azimuth', 'lighting']\n",
    "concept_values = get_latent_sizes()\n",
    "\n",
    "# Split training into validation set as well \n",
    "X_valid, X_train = X_train[:10000], X_train[10000:]\n",
    "y_valid, y_train = y_train[:10000], y_train[10000:]\n",
    "c_valid, c_train = c_train[:10000], c_train[10000:]"
   ]
  },
  {
   "cell_type": "code",
   "execution_count": 4,
   "id": "final-nickname",
   "metadata": {},
   "outputs": [],
   "source": [
    "# Reshape to appropriate shift input\n",
    "# It is noteworthy that for efficiency, we represent the images as only 2 dimension\n",
    "# when we preprocessing (number of instances/ batch size * flatten size).\n",
    "# When visualising back the image, we need to reshape it back to the original dimension\n",
    "ORIGINAL_SHAPE = X_test.shape[1:] # constant hold the image original shape\n",
    "X_test_flatten = deepcopy(X_test.reshape(X_test.shape[0], -1))\n",
    "X_train_flatten = deepcopy(X_train.reshape(X_train.shape[0], -1))\n",
    "X_valid_flatten = deepcopy(X_valid.reshape(X_valid.shape[0], -1))"
   ]
  },
  {
   "cell_type": "markdown",
   "id": "missing-import",
   "metadata": {},
   "source": [
    "## Dimensionality reduction\n",
    "\n",
    "We implemented various dimensionality reduction methods, amounting to:\n",
    "- End to end model (label classifiers/ BBSD)\n",
    "- Concept bottleneck model (CBSD)\n",
    "- Principal component analysis (PCA)\n",
    "- Sparse random projection (SRP)"
   ]
  },
  {
   "cell_type": "markdown",
   "id": "sexual-claim",
   "metadata": {},
   "source": [
    "### End-to-end model"
   ]
  },
  {
   "cell_type": "code",
   "execution_count": 6,
   "id": "devoted-twelve",
   "metadata": {},
   "outputs": [],
   "source": [
    "path = \"../../models/end_to_end_smallnorb_task2\"\n",
    "# For training and saving\n",
    "# histories, end_to_end_model = end_to_end_neural_network(n_classes, Dataset.SMALLNORB, \n",
    "#                          X_train, y_train, X_valid, y_valid, path)\n",
    "\n",
    "# For loading\n",
    "end_to_end_model = tf.keras.models.load_model(path)"
   ]
  },
  {
   "cell_type": "code",
   "execution_count": 7,
   "id": "every-battlefield",
   "metadata": {
    "collapsed": true
   },
   "outputs": [
    {
     "name": "stdout",
     "output_type": "stream",
     "text": [
      "              precision    recall  f1-score   support\n",
      "\n",
      "           0       0.93      0.91      0.92       387\n",
      "           1       1.00      1.00      1.00       417\n",
      "           2       0.99      0.97      0.98       409\n",
      "           3       0.91      0.93      0.92       382\n",
      "           4       1.00      0.99      0.99       404\n",
      "           5       1.00      1.00      1.00       427\n",
      "           6       0.94      0.85      0.89       397\n",
      "           7       1.00      1.00      1.00       419\n",
      "           8       0.97      0.99      0.98       447\n",
      "           9       0.86      0.95      0.90       394\n",
      "          10       0.99      1.00      1.00       390\n",
      "          11       1.00      1.00      1.00       392\n",
      "          12       0.95      0.78      0.86       404\n",
      "          13       1.00      1.00      1.00       390\n",
      "          14       1.00      1.00      1.00       398\n",
      "          15       0.81      0.96      0.88       390\n",
      "          16       1.00      1.00      1.00       438\n",
      "          17       1.00      1.00      1.00       409\n",
      "          18       0.96      0.86      0.91       392\n",
      "          19       1.00      1.00      1.00       390\n",
      "          20       1.00      0.98      0.99       416\n",
      "          21       0.87      0.97      0.92       380\n",
      "          22       1.00      1.00      1.00       434\n",
      "          23       1.00      1.00      1.00       414\n",
      "          24       0.92      0.81      0.86       393\n",
      "          25       1.00      1.00      1.00       397\n",
      "          26       0.98      1.00      0.99       397\n",
      "          27       0.84      0.93      0.88       409\n",
      "          28       1.00      1.00      1.00       398\n",
      "          29       1.00      1.00      1.00       436\n",
      "\n",
      "    accuracy                           0.96     12150\n",
      "   macro avg       0.96      0.96      0.96     12150\n",
      "weighted avg       0.96      0.96      0.96     12150\n",
      "\n"
     ]
    }
   ],
   "source": [
    "# Evaluate model\n",
    "y_pred = end_to_end_model.predict(X_test)\n",
    "y_pred = np.argmax(y_pred, axis=1)\n",
    "print(classification_report(y_test, y_pred))"
   ]
  },
  {
   "cell_type": "markdown",
   "id": "single-psychology",
   "metadata": {},
   "source": [
    "### Concept bottleneck model"
   ]
  },
  {
   "cell_type": "markdown",
   "id": "wound-screw",
   "metadata": {},
   "source": [
    "**Input to Concept**"
   ]
  },
  {
   "cell_type": "code",
   "execution_count": 8,
   "id": "engaged-kingston",
   "metadata": {},
   "outputs": [],
   "source": [
    "path = \"../../models/multitask_smallnorb\"\n",
    "# For training and saving\n",
    "# histories, mt_model = multitask_model(Dataset.SMALLNORB,\n",
    "#                                             X_train, c_train,\n",
    "#                                             X_valid, c_valid, path)\n",
    "\n",
    "# For loading\n",
    "mt_model = tf.keras.models.load_model(path)"
   ]
  },
  {
   "cell_type": "code",
   "execution_count": 9,
   "id": "modular-ability",
   "metadata": {
    "collapsed": true
   },
   "outputs": [
    {
     "name": "stdout",
     "output_type": "stream",
     "text": [
      "******************** Model: category ********************\n",
      "              precision    recall  f1-score   support\n",
      "\n",
      "           0       0.99      1.00      1.00      2426\n",
      "           1       1.00      1.00      1.00      2439\n",
      "           2       1.00      1.00      1.00      2429\n",
      "           3       1.00      1.00      1.00      2426\n",
      "           4       1.00      1.00      1.00      2430\n",
      "\n",
      "    accuracy                           1.00     12150\n",
      "   macro avg       1.00      1.00      1.00     12150\n",
      "weighted avg       1.00      1.00      1.00     12150\n",
      "\n",
      "\n",
      "\n",
      "\n",
      "******************** Model: instance ********************\n",
      "              precision    recall  f1-score   support\n",
      "\n",
      "           0       0.86      0.90      0.88      1263\n",
      "           1       0.90      0.86      0.88      1209\n",
      "           2       0.90      0.91      0.91      1167\n",
      "           3       0.89      0.87      0.88      1197\n",
      "           4       0.90      0.89      0.89      1210\n",
      "           5       0.92      0.87      0.89      1261\n",
      "           6       0.88      0.95      0.91      1179\n",
      "           7       0.93      0.86      0.89      1230\n",
      "           8       0.92      0.93      0.93      1199\n",
      "           9       0.89      0.94      0.91      1235\n",
      "\n",
      "    accuracy                           0.90     12150\n",
      "   macro avg       0.90      0.90      0.90     12150\n",
      "weighted avg       0.90      0.90      0.90     12150\n",
      "\n",
      "\n",
      "\n",
      "\n",
      "******************** Model: elevation ********************\n",
      "              precision    recall  f1-score   support\n",
      "\n",
      "           0       0.55      0.81      0.66      1331\n",
      "           1       0.38      0.39      0.38      1318\n",
      "           2       0.51      0.36      0.42      1360\n",
      "           3       0.52      0.44      0.48      1299\n",
      "           4       0.58      0.52      0.55      1379\n",
      "           5       0.55      0.49      0.52      1321\n",
      "           6       0.48      0.43      0.45      1378\n",
      "           7       0.39      0.32      0.35      1368\n",
      "           8       0.56      0.80      0.66      1396\n",
      "\n",
      "    accuracy                           0.51     12150\n",
      "   macro avg       0.50      0.51      0.50     12150\n",
      "weighted avg       0.50      0.51      0.50     12150\n",
      "\n",
      "\n",
      "\n",
      "\n",
      "******************** Model: azimuth ********************\n",
      "              precision    recall  f1-score   support\n",
      "\n",
      "           0       0.81      0.83      0.82       675\n",
      "           1       0.86      0.83      0.84       682\n",
      "           2       0.86      0.86      0.86       675\n",
      "           3       0.88      0.83      0.85       679\n",
      "           4       0.83      0.87      0.85       651\n",
      "           5       0.84      0.78      0.81       672\n",
      "           6       0.86      0.81      0.83       694\n",
      "           7       0.79      0.85      0.82       687\n",
      "           8       0.88      0.79      0.83       694\n",
      "           9       0.79      0.86      0.82       639\n",
      "          10       0.86      0.83      0.85       661\n",
      "          11       0.82      0.88      0.85       665\n",
      "          12       0.85      0.83      0.84       698\n",
      "          13       0.79      0.82      0.81       684\n",
      "          14       0.78      0.82      0.80       673\n",
      "          15       0.81      0.82      0.81       711\n",
      "          16       0.79      0.78      0.79       692\n",
      "          17       0.79      0.79      0.79       618\n",
      "\n",
      "    accuracy                           0.83     12150\n",
      "   macro avg       0.83      0.83      0.83     12150\n",
      "weighted avg       0.83      0.83      0.83     12150\n",
      "\n",
      "\n",
      "\n",
      "\n",
      "******************** Model: lighting ********************\n",
      "              precision    recall  f1-score   support\n",
      "\n",
      "           0       0.77      0.74      0.76      1973\n",
      "           1       0.99      0.98      0.98      2013\n",
      "           2       1.00      1.00      1.00      2067\n",
      "           3       0.75      0.79      0.77      1955\n",
      "           4       1.00      1.00      1.00      2064\n",
      "           5       1.00      1.00      1.00      2078\n",
      "\n",
      "    accuracy                           0.92     12150\n",
      "   macro avg       0.92      0.92      0.92     12150\n",
      "weighted avg       0.92      0.92      0.92     12150\n",
      "\n",
      "\n",
      "\n",
      "\n"
     ]
    }
   ],
   "source": [
    "# Evaluate model\n",
    "for i, pred in enumerate(mt_model.predict(X_test)):\n",
    "    print(\"*\"*20, f\"Model: {SMALLNORB_CONCEPT_NAMES[i]}\", \"*\"*20)\n",
    "    c_truth = c_test[:, i]\n",
    "    c_pred = np.argmax(pred, axis=1)\n",
    "    \n",
    "    print(classification_report(c_truth, c_pred))\n",
    "    print(\"\\n\\n\")"
   ]
  },
  {
   "cell_type": "markdown",
   "id": "sexual-smooth",
   "metadata": {},
   "source": [
    "**Concept to Output**"
   ]
  },
  {
   "cell_type": "code",
   "execution_count": 10,
   "id": "plastic-ottawa",
   "metadata": {
    "scrolled": true
   },
   "outputs": [
    {
     "data": {
      "text/plain": [
       "LogisticRegression()"
      ]
     },
     "execution_count": 10,
     "metadata": {},
     "output_type": "execute_result"
    }
   ],
   "source": [
    "# Build and train model. For simplicity, we used logistic regression\n",
    "# although can be substituted using other model.\n",
    "com = LogisticRegression()\n",
    "com.fit(c_train, y_train)"
   ]
  },
  {
   "cell_type": "code",
   "execution_count": 11,
   "id": "unlike-drawing",
   "metadata": {
    "collapsed": true
   },
   "outputs": [
    {
     "name": "stdout",
     "output_type": "stream",
     "text": [
      "              precision    recall  f1-score   support\n",
      "\n",
      "           0       0.96      0.99      0.97       372\n",
      "           1       0.75      0.95      0.84       327\n",
      "           2       0.96      0.79      0.87       499\n",
      "           3       0.80      0.89      0.84       345\n",
      "           4       0.84      0.82      0.83       414\n",
      "           5       1.00      0.94      0.97       454\n",
      "           6       0.82      0.89      0.85       364\n",
      "           7       0.77      0.90      0.83       356\n",
      "           8       0.94      0.97      0.96       433\n",
      "           9       1.00      1.00      1.00       394\n",
      "          10       1.00      1.00      1.00       390\n",
      "          11       1.00      1.00      1.00       392\n",
      "          12       0.94      0.84      0.89       449\n",
      "          13       0.98      1.00      0.99       383\n",
      "          14       0.88      0.77      0.83       455\n",
      "          15       0.99      0.99      0.99       391\n",
      "          16       0.97      0.95      0.96       443\n",
      "          17       1.00      1.00      1.00       409\n",
      "          18       1.00      1.00      1.00       391\n",
      "          19       1.00      0.99      1.00       392\n",
      "          20       0.99      1.00      0.99       412\n",
      "          21       0.89      0.88      0.88       382\n",
      "          22       0.99      0.99      0.99       433\n",
      "          23       0.95      0.96      0.96       409\n",
      "          24       0.99      1.00      0.99       388\n",
      "          25       1.00      0.99      0.99       403\n",
      "          26       1.00      1.00      1.00       397\n",
      "          27       1.00      0.99      0.99       413\n",
      "          28       1.00      0.94      0.97       424\n",
      "          29       1.00      1.00      1.00       436\n",
      "\n",
      "    accuracy                           0.95     12150\n",
      "   macro avg       0.95      0.95      0.95     12150\n",
      "weighted avg       0.95      0.95      0.95     12150\n",
      "\n",
      "[[370   1   0   0   0   0   1   0   0   0   0   0   0   0   0   0   0   0\n",
      "    0   0   0   0   0   0   0   0   0   0   0   0]\n",
      " [  1 311  15   0   0   0   0   0   0   0   0   0   0   0   0   0   0   0\n",
      "    0   0   0   0   0   0   0   0   0   0   0   0]\n",
      " [  0 105 394   0   0   0   0   0   0   0   0   0   0   0   0   0   0   0\n",
      "    0   0   0   0   0   0   0   0   0   0   0   0]\n",
      " [  0   0   0 306  39   0   0   0   0   0   0   0   0   0   0   0   0   0\n",
      "    0   0   0   0   0   0   0   0   0   0   0   0]\n",
      " [  0   0   0  76 338   0   0   0   0   0   0   0   0   0   0   0   0   0\n",
      "    0   0   0   0   0   0   0   0   0   0   0   0]\n",
      " [  0   0   0   0  27 427   0   0   0   0   0   0   0   0   0   0   0   0\n",
      "    0   0   0   0   0   0   0   0   0   0   0   0]\n",
      " [ 13   0   0   0   0   0 325   0   0   0   0   0  26   0   0   0   0   0\n",
      "    0   0   0   0   0   0   0   0   0   0   0   0]\n",
      " [  3   0   0   0   0   0   0 322  25   0   0   0   0   5   1   0   0   0\n",
      "    0   0   0   0   0   0   0   0   0   0   0   0]\n",
      " [  0   0   0   0   0   0   0  11 422   0   0   0   0   0   0   0   0   0\n",
      "    0   0   0   0   0   0   0   0   0   0   0   0]\n",
      " [  0   0   0   0   0   0   0   0   0 394   0   0   0   0   0   0   0   0\n",
      "    0   0   0   0   0   0   0   0   0   0   0   0]\n",
      " [  0   0   0   0   0   0   0   0   0   0 390   0   0   0   0   0   0   0\n",
      "    0   0   0   0   0   0   0   0   0   0   0   0]\n",
      " [  0   0   0   0   0   0   0   0   0   0   0 392   0   0   0   0   0   0\n",
      "    0   0   0   0   0   0   0   0   0   0   0   0]\n",
      " [  0   0   0   0   0   0  71   0   0   0   0   0 378   0   0   0   0   0\n",
      "    0   0   0   0   0   0   0   0   0   0   0   0]\n",
      " [  0   0   0   0   0   0   0   0   0   0   0   0   0 383   0   0   0   0\n",
      "    0   0   0   0   0   0   0   0   0   0   0   0]\n",
      " [  0   0   0   0   0   0   0  86   0   0   0   0   0   0 352   0   0   0\n",
      "    0   0   0  17   0   0   0   0   0   0   0   0]\n",
      " [  0   0   0   0   0   0   0   0   0   0   0   0   0   0   0 387   0   0\n",
      "    0   0   0   0   4   0   0   0   0   0   0   0]\n",
      " [  0   0   0   0   0   0   0   0   0   0   0   0   0   0   0   0 423   0\n",
      "    0   0   0   0   0  20   0   0   0   0   0   0]\n",
      " [  0   0   0   0   0   0   0   0   0   0   0   0   0   0   0   0   0 409\n",
      "    0   0   0   0   0   0   0   0   0   0   0   0]\n",
      " [  0   0   0   0   0   0   0   0   0   0   0   0   0   0   0   0   0   0\n",
      "  391   0   0   0   0   0   0   0   0   0   0   0]\n",
      " [  0   0   0   0   0   0   0   0   0   0   0   0   0   2   0   0   0   0\n",
      "    0 390   0   0   0   0   0   0   0   0   0   0]\n",
      " [  0   0   0   0   0   0   0   0   0   0   0   0   0   0   0   0   0   0\n",
      "    0   0 411   0   0   0   0   0   0   1   0   0]\n",
      " [  0   0   0   0   0   0   0   0   0   0   0   0   0   0  45   0   0   0\n",
      "    0   0   0 337   0   0   0   0   0   0   0   0]\n",
      " [  0   0   0   0   0   0   0   0   0   0   0   0   0   0   0   3   0   0\n",
      "    0   0   0   0 430   0   0   0   0   0   0   0]\n",
      " [  0   0   0   0   0   0   0   0   0   0   0   0   0   0   0   0  15   0\n",
      "    0   0   0   0   0 394   0   0   0   0   0   0]\n",
      " [  0   0   0   0   0   0   0   0   0   0   0   0   0   0   0   0   0   0\n",
      "    0   0   0   0   0   0 388   0   0   0   0   0]\n",
      " [  0   0   0   0   0   0   0   0   0   0   0   0   0   0   0   0   0   0\n",
      "    1   0   0   0   0   0   5 397   0   0   0   0]\n",
      " [  0   0   0   0   0   0   0   0   0   0   0   0   0   0   0   0   0   0\n",
      "    0   0   0   0   0   0   0   0 397   0   0   0]\n",
      " [  0   0   0   0   0   0   0   0   0   0   0   0   0   0   0   0   0   0\n",
      "    0   0   5   0   0   0   0   0   0 408   0   0]\n",
      " [  0   0   0   0   0   0   0   0   0   0   0   0   0   0   0   0   0   0\n",
      "    0   0   0  26   0   0   0   0   0   0 398   0]\n",
      " [  0   0   0   0   0   0   0   0   0   0   0   0   0   0   0   0   0   0\n",
      "    0   0   0   0   0   0   0   0   0   0   0 436]]\n"
     ]
    }
   ],
   "source": [
    "y_test_pred = com.predict(c_test)\n",
    "print(classification_report(y_test_pred, y_test))\n",
    "print(confusion_matrix(y_test_pred, y_test))"
   ]
  },
  {
   "cell_type": "markdown",
   "id": "desirable-candle",
   "metadata": {},
   "source": [
    "### Principal component analysis"
   ]
  },
  {
   "cell_type": "code",
   "execution_count": 12,
   "id": "clean-trinity",
   "metadata": {},
   "outputs": [
    {
     "name": "stdout",
     "output_type": "stream",
     "text": [
      "The number of components to explain 80% of variance is 2.\n"
     ]
    }
   ],
   "source": [
    "pca, n_components = principal_components_analysis(X_train_flatten)\n",
    "print(f\"The number of components to explain 80% of variance is {n_components}.\")"
   ]
  },
  {
   "cell_type": "markdown",
   "id": "blessed-replication",
   "metadata": {},
   "source": [
    "### Sparse random projection"
   ]
  },
  {
   "cell_type": "code",
   "execution_count": 13,
   "id": "behind-topic",
   "metadata": {},
   "outputs": [
    {
     "name": "stdout",
     "output_type": "stream",
     "text": [
      "The number of components to explain 80% of variance is 2.\n"
     ]
    }
   ],
   "source": [
    "srp, n_components = sparse_random_projection(X_train_flatten)\n",
    "print(f\"The number of components to explain 80% of variance is {n_components}.\")"
   ]
  },
  {
   "cell_type": "markdown",
   "id": "solved-milton",
   "metadata": {},
   "source": [
    "## Data collection\n",
    "\n",
    "This section performs various experiments to collect data. We consider various dimensionality reduced methods discussed in the paper and thesis."
   ]
  },
  {
   "cell_type": "markdown",
   "id": "social-labor",
   "metadata": {},
   "source": [
    "### PCA"
   ]
  },
  {
   "cell_type": "code",
   "execution_count": 6,
   "id": "analyzed-directive",
   "metadata": {},
   "outputs": [],
   "source": [
    "method = DimensionalityReductor.PCA\n",
    "model = pca\n",
    "method_str = \"PCA\""
   ]
  },
  {
   "cell_type": "markdown",
   "id": "corporate-rover",
   "metadata": {},
   "source": [
    "#### Knockout shift"
   ]
  },
  {
   "cell_type": "code",
   "execution_count": 7,
   "id": "impressed-philadelphia",
   "metadata": {},
   "outputs": [],
   "source": [
    "shift_type = ShiftType.Knockout\n",
    "shift_type_params = {\"cl\": MAJORITY}\n",
    "shift_str = \"ko_task2\""
   ]
  },
  {
   "cell_type": "code",
   "execution_count": 8,
   "id": "attempted-manner",
   "metadata": {},
   "outputs": [],
   "source": [
    "dict_result = main_experiment(model, method, X_valid, y_valid,\n",
    "                             c_valid, X_test_flatten, y_test, c_test,\n",
    "                             shift_type, ORIGINAL_SHAPE, n_classes,\n",
    "                             concept_names, concept_values, \n",
    "                             shift_type_params, n_exp=50, n_std=2)"
   ]
  },
  {
   "cell_type": "code",
   "execution_count": 9,
   "id": "narrative-activity",
   "metadata": {},
   "outputs": [
    {
     "name": "stdout",
     "output_type": "stream",
     "text": [
      "Saving successfully.\n"
     ]
    }
   ],
   "source": [
    "# Save file\n",
    "save_result(shift_str, method_str, dict_result, True, \"smallnorb\")"
   ]
  },
  {
   "cell_type": "markdown",
   "id": "secret-parish",
   "metadata": {},
   "source": [
    "### SRP"
   ]
  },
  {
   "cell_type": "code",
   "execution_count": 36,
   "id": "comparative-discharge",
   "metadata": {},
   "outputs": [],
   "source": [
    "method = DimensionalityReductor.SRP\n",
    "model = srp\n",
    "method_str = \"SRP\""
   ]
  },
  {
   "cell_type": "markdown",
   "id": "burning-justice",
   "metadata": {},
   "source": [
    "#### Knockout shift"
   ]
  },
  {
   "cell_type": "code",
   "execution_count": 7,
   "id": "heated-packet",
   "metadata": {},
   "outputs": [],
   "source": [
    "shift_type = ShiftType.Knockout\n",
    "shift_type_params = {\"cl\": MAJORITY}\n",
    "shift_str = \"ko_task2\""
   ]
  },
  {
   "cell_type": "code",
   "execution_count": 8,
   "id": "korean-minneapolis",
   "metadata": {},
   "outputs": [],
   "source": [
    "dict_result = main_experiment(model, method, X_valid, y_valid,\n",
    "                             c_valid, X_test_flatten, y_test, c_test,\n",
    "                             shift_type, ORIGINAL_SHAPE, n_classes,\n",
    "                             concept_names, concept_values, \n",
    "                             shift_type_params, n_exp=50, n_std=2)"
   ]
  },
  {
   "cell_type": "code",
   "execution_count": 9,
   "id": "olive-dover",
   "metadata": {},
   "outputs": [
    {
     "name": "stdout",
     "output_type": "stream",
     "text": [
      "Saving successfully.\n"
     ]
    }
   ],
   "source": [
    "# Save file\n",
    "save_result(shift_str, method_str, dict_result, True, \"smallnorb\")"
   ]
  },
  {
   "cell_type": "markdown",
   "id": "legitimate-occupation",
   "metadata": {},
   "source": [
    "### BBSDs"
   ]
  },
  {
   "cell_type": "code",
   "execution_count": 36,
   "id": "composed-contemporary",
   "metadata": {},
   "outputs": [],
   "source": [
    "method = DimensionalityReductor.BBSDs\n",
    "model = end_to_end_model\n",
    "method_str = \"BBSDs\""
   ]
  },
  {
   "cell_type": "markdown",
   "id": "crude-attachment",
   "metadata": {},
   "source": [
    "#### Knockout shift"
   ]
  },
  {
   "cell_type": "code",
   "execution_count": 6,
   "id": "secure-circle",
   "metadata": {},
   "outputs": [],
   "source": [
    "shift_type = ShiftType.Knockout\n",
    "shift_type_params = {\"cl\": MAJORITY}\n",
    "shift_str = \"ko_task2\""
   ]
  },
  {
   "cell_type": "code",
   "execution_count": 6,
   "id": "inappropriate-theology",
   "metadata": {},
   "outputs": [],
   "source": [
    "dict_result = main_experiment(model, method, X_valid, y_valid,\n",
    "                             c_valid, X_test_flatten, y_test, c_test,\n",
    "                             shift_type, ORIGINAL_SHAPE, n_classes,\n",
    "                             concept_names, concept_values, \n",
    "                             shift_type_params, n_exp=50, n_std=2)"
   ]
  },
  {
   "cell_type": "code",
   "execution_count": 27,
   "id": "filled-rebel",
   "metadata": {},
   "outputs": [
    {
     "name": "stdout",
     "output_type": "stream",
     "text": [
      "Saving successfully.\n"
     ]
    }
   ],
   "source": [
    "# Save file\n",
    "save_result(shift_str, method_str, dict_result, True, \"smallnorb\")"
   ]
  },
  {
   "cell_type": "markdown",
   "id": "underlying-fusion",
   "metadata": {},
   "source": [
    "#### Concept shifts"
   ]
  },
  {
   "cell_type": "code",
   "execution_count": null,
   "id": "buried-elizabeth",
   "metadata": {},
   "outputs": [],
   "source": [
    "shift_type = ShiftType.Concept\n",
    "\n",
    "list_shift_str = [\n",
    "    \"instance_task2\",\n",
    "    \"elevation_task2\",\n",
    "    \"azimuth_task2\",\n",
    "    \"category_lighting_task2\"\n",
    "]\n",
    "\n",
    "list_shift_type_params = [\n",
    "    {\"cl\": MAJORITY, \"concept_idx\": 1}, # scale is index 2 in the concept names\n",
    "    {\"cl\": MAJORITY, \"concept_idx\": 2},\n",
    "    {\"cl\": MAJORITY, \"concept_idx\": 3},\n",
    "    [{\"cl\": MAJORITY, \"concept_idx\": 0}, {\"cl\": MAJORITY, \"concept_idx\": 4}],\n",
    "]"
   ]
  },
  {
   "cell_type": "code",
   "execution_count": null,
   "id": "consistent-delaware",
   "metadata": {},
   "outputs": [],
   "source": [
    "for shift_str, shift_type_params in tqdm(zip(list_shift_str, list_shift_type_params)):\n",
    "    dict_result = main_experiment(model, method, X_valid, y_valid,\n",
    "                             c_valid, X_test_flatten, y_test, c_test,\n",
    "                             shift_type, ORIGINAL_SHAPE, n_classes,\n",
    "                             concept_names, concept_values, \n",
    "                             shift_type_params, n_exp=50, n_std=2)\n",
    "    \n",
    "    # Save\n",
    "    save_result(shift_str, method_str, dict_result, True, \"smallnorb\")"
   ]
  },
  {
   "cell_type": "markdown",
   "id": "asian-newman",
   "metadata": {},
   "source": [
    "#### Image shifts"
   ]
  },
  {
   "cell_type": "code",
   "execution_count": null,
   "id": "helpful-above",
   "metadata": {},
   "outputs": [],
   "source": [
    "list_shift = [\n",
    "    ShiftType.Width,\n",
    "    ShiftType.Height,\n",
    "    ShiftType.Flip,\n",
    "    ShiftType.All\n",
    "]\n",
    "\n",
    "list_shift_str = [\n",
    "    \"img_x_task2\",\n",
    "    \"img_x_y_task2\",\n",
    "    \"flip_task2\",\n",
    "    \"all_task2\"\n",
    "]\n",
    "\n",
    "shift_type_param = {\"orig_dims\": ORIGINAL_SHAPE}"
   ]
  },
  {
   "cell_type": "code",
   "execution_count": null,
   "id": "relative-produce",
   "metadata": {},
   "outputs": [],
   "source": [
    "for shift_str, shift_type in tqdm(zip(list_shift_str, list_shift)):\n",
    "    dict_result = main_experiment(model, method, X_valid, y_valid,\n",
    "                             c_valid, X_test_flatten, y_test, c_test,\n",
    "                             shift_type, ORIGINAL_SHAPE, n_classes,\n",
    "                             concept_names, concept_values, \n",
    "                             shift_type_param, n_exp=50, n_std=2)\n",
    "    \n",
    "    # Save\n",
    "    save_result(shift_str, method_str, dict_result, True, \"smallnorb\")"
   ]
  },
  {
   "cell_type": "markdown",
   "id": "american-chinese",
   "metadata": {},
   "source": [
    "#### Gaussian shift"
   ]
  },
  {
   "cell_type": "code",
   "execution_count": null,
   "id": "prime-mistake",
   "metadata": {},
   "outputs": [],
   "source": [
    "shift_type = ShiftType.Gaussian\n",
    "shift_type_params = None\n",
    "shift_str = \"gaussian_task2\""
   ]
  },
  {
   "cell_type": "code",
   "execution_count": null,
   "id": "every-appraisal",
   "metadata": {},
   "outputs": [],
   "source": [
    "dict_result = main_experiment(model, method, X_valid, y_valid,\n",
    "                             c_valid, X_test_flatten, y_test, c_test,\n",
    "                             shift_type, ORIGINAL_SHAPE, n_classes,\n",
    "                             concept_names, concept_values, \n",
    "                             shift_type_params, n_exp=50, n_std=2)"
   ]
  },
  {
   "cell_type": "code",
   "execution_count": null,
   "id": "functional-regard",
   "metadata": {},
   "outputs": [],
   "source": [
    "# Save file\n",
    "save_result(shift_str, method_str, dict_result, True, \"smallnorb\")"
   ]
  },
  {
   "cell_type": "markdown",
   "id": "young-sudan",
   "metadata": {},
   "source": [
    "### BBSDh"
   ]
  },
  {
   "cell_type": "code",
   "execution_count": 36,
   "id": "general-bulgarian",
   "metadata": {},
   "outputs": [],
   "source": [
    "method = DimensionalityReductor.BBSDh\n",
    "model = end_to_end_model\n",
    "method_str = \"BBSDh\""
   ]
  },
  {
   "cell_type": "markdown",
   "id": "obvious-rebel",
   "metadata": {},
   "source": [
    "#### Knockout shift"
   ]
  },
  {
   "cell_type": "code",
   "execution_count": 6,
   "id": "fatal-florence",
   "metadata": {},
   "outputs": [],
   "source": [
    "shift_type = ShiftType.Knockout\n",
    "shift_type_params = {\"cl\": MAJORITY}\n",
    "shift_str = \"ko_task2\""
   ]
  },
  {
   "cell_type": "code",
   "execution_count": 6,
   "id": "promising-silver",
   "metadata": {},
   "outputs": [],
   "source": [
    "dict_result = main_experiment(model, method, X_valid, y_valid,\n",
    "                             c_valid, X_test_flatten, y_test, c_test,\n",
    "                             shift_type, ORIGINAL_SHAPE, n_classes,\n",
    "                             concept_names, concept_values, \n",
    "                             shift_type_params, n_exp=50, n_std=2)"
   ]
  },
  {
   "cell_type": "code",
   "execution_count": 27,
   "id": "saving-malpractice",
   "metadata": {},
   "outputs": [
    {
     "name": "stdout",
     "output_type": "stream",
     "text": [
      "Saving successfully.\n"
     ]
    }
   ],
   "source": [
    "# Save file\n",
    "save_result(shift_str, method_str, dict_result, True, \"smallnorb\")"
   ]
  },
  {
   "cell_type": "markdown",
   "id": "fancy-suggestion",
   "metadata": {},
   "source": [
    "#### Concept shifts"
   ]
  },
  {
   "cell_type": "code",
   "execution_count": null,
   "id": "better-intent",
   "metadata": {},
   "outputs": [],
   "source": [
    "shift_type = ShiftType.Concept\n",
    "\n",
    "list_shift_str = [\n",
    "    \"instance_task2\",\n",
    "    \"elevation_task2\",\n",
    "    \"azimuth_task2\",\n",
    "    \"category_lighting_task2\"\n",
    "]\n",
    "\n",
    "list_shift_type_params = [\n",
    "    {\"cl\": MAJORITY, \"concept_idx\": 1}, # scale is index 2 in the concept names\n",
    "    {\"cl\": MAJORITY, \"concept_idx\": 2},\n",
    "    {\"cl\": MAJORITY, \"concept_idx\": 3},\n",
    "    [{\"cl\": MAJORITY, \"concept_idx\": 0}, {\"cl\": MAJORITY, \"concept_idx\": 4}],\n",
    "]"
   ]
  },
  {
   "cell_type": "code",
   "execution_count": null,
   "id": "piano-writing",
   "metadata": {},
   "outputs": [],
   "source": [
    "for shift_str, shift_type_params in tqdm(zip(list_shift_str, list_shift_type_params)):\n",
    "    dict_result = main_experiment(model, method, X_valid, y_valid,\n",
    "                             c_valid, X_test_flatten, y_test, c_test,\n",
    "                             shift_type, ORIGINAL_SHAPE, n_classes,\n",
    "                             concept_names, concept_values, \n",
    "                             shift_type_params, n_exp=50, n_std=2)\n",
    "    \n",
    "    # Save\n",
    "    save_result(shift_str, method_str, dict_result, True, \"smallnorb\")"
   ]
  },
  {
   "cell_type": "markdown",
   "id": "joined-federal",
   "metadata": {},
   "source": [
    "#### Image shifts"
   ]
  },
  {
   "cell_type": "code",
   "execution_count": null,
   "id": "disciplinary-castle",
   "metadata": {},
   "outputs": [],
   "source": [
    "list_shift = [\n",
    "    ShiftType.Width,\n",
    "    ShiftType.Height,\n",
    "    ShiftType.Flip,\n",
    "    ShiftType.All\n",
    "]\n",
    "\n",
    "list_shift_str = [\n",
    "    \"img_x_task2\",\n",
    "    \"img_x_y_task2\",\n",
    "    \"flip_task2\",\n",
    "    \"all_task2\"\n",
    "]\n",
    "\n",
    "shift_type_param = {\"orig_dims\": ORIGINAL_SHAPE}"
   ]
  },
  {
   "cell_type": "code",
   "execution_count": null,
   "id": "awful-people",
   "metadata": {},
   "outputs": [],
   "source": [
    "for shift_str, shift_type in tqdm(zip(list_shift_str, list_shift)):\n",
    "    dict_result = main_experiment(model, method, X_valid, y_valid,\n",
    "                             c_valid, X_test_flatten, y_test, c_test,\n",
    "                             shift_type, ORIGINAL_SHAPE, n_classes,\n",
    "                             concept_names, concept_values, \n",
    "                             shift_type_param, n_exp=50, n_std=2)\n",
    "    \n",
    "    # Save\n",
    "    save_result(shift_str, method_str, dict_result, True, \"smallnorb\")"
   ]
  },
  {
   "cell_type": "markdown",
   "id": "lesbian-hollywood",
   "metadata": {},
   "source": [
    "#### Gaussian shift"
   ]
  },
  {
   "cell_type": "code",
   "execution_count": null,
   "id": "environmental-lounge",
   "metadata": {},
   "outputs": [],
   "source": [
    "shift_type = ShiftType.Gaussian\n",
    "shift_type_params = None\n",
    "shift_str = \"gaussian_task2\""
   ]
  },
  {
   "cell_type": "code",
   "execution_count": null,
   "id": "orange-trigger",
   "metadata": {},
   "outputs": [],
   "source": [
    "dict_result = main_experiment(model, method, X_valid, y_valid,\n",
    "                             c_valid, X_test_flatten, y_test, c_test,\n",
    "                             shift_type, ORIGINAL_SHAPE, n_classes,\n",
    "                             concept_names, concept_values, \n",
    "                             shift_type_params, n_exp=50, n_std=2)"
   ]
  },
  {
   "cell_type": "code",
   "execution_count": null,
   "id": "detected-trace",
   "metadata": {},
   "outputs": [],
   "source": [
    "# Save file\n",
    "save_result(shift_str, method_str, dict_result, True, \"smallnorb\")"
   ]
  },
  {
   "cell_type": "markdown",
   "id": "labeled-adapter",
   "metadata": {},
   "source": [
    "### CBSDs"
   ]
  },
  {
   "cell_type": "code",
   "execution_count": 36,
   "id": "simplified-belgium",
   "metadata": {},
   "outputs": [],
   "source": [
    "method = DimensionalityReductor.CBSDs\n",
    "model = mt_model\n",
    "method_str = \"CBSDs\""
   ]
  },
  {
   "cell_type": "markdown",
   "id": "opening-reason",
   "metadata": {},
   "source": [
    "#### Knockout shift"
   ]
  },
  {
   "cell_type": "code",
   "execution_count": 7,
   "id": "planned-inquiry",
   "metadata": {},
   "outputs": [],
   "source": [
    "shift_type = ShiftType.Knockout\n",
    "shift_type_params = {\"cl\": MAJORITY}\n",
    "shift_str = \"ko_task2\""
   ]
  },
  {
   "cell_type": "code",
   "execution_count": 8,
   "id": "offensive-server",
   "metadata": {},
   "outputs": [],
   "source": [
    "dict_result = main_experiment(model, method, X_valid, y_valid,\n",
    "                             c_valid, X_test_flatten, y_test, c_test,\n",
    "                             shift_type, ORIGINAL_SHAPE, n_classes,\n",
    "                             concept_names, concept_values, \n",
    "                             shift_type_params, n_exp=50, n_std=2)"
   ]
  },
  {
   "cell_type": "code",
   "execution_count": 9,
   "id": "interstate-mitchell",
   "metadata": {},
   "outputs": [
    {
     "name": "stdout",
     "output_type": "stream",
     "text": [
      "Saving successfully.\n"
     ]
    }
   ],
   "source": [
    "# Save file\n",
    "save_result(shift_str, method_str, dict_result, True, \"smallnorb\")"
   ]
  },
  {
   "cell_type": "markdown",
   "id": "minute-charter",
   "metadata": {},
   "source": [
    "### CBSDh"
   ]
  },
  {
   "cell_type": "code",
   "execution_count": 36,
   "id": "adjacent-pollution",
   "metadata": {},
   "outputs": [],
   "source": [
    "method = DimensionalityReductor.CBSDh\n",
    "model = mt_model\n",
    "method_str = \"CBSDh\""
   ]
  },
  {
   "cell_type": "markdown",
   "id": "nasty-asbestos",
   "metadata": {},
   "source": [
    "#### Knockout shift"
   ]
  },
  {
   "cell_type": "code",
   "execution_count": 7,
   "id": "persistent-typing",
   "metadata": {},
   "outputs": [],
   "source": [
    "shift_type = ShiftType.Knockout\n",
    "shift_type_params = {\"cl\": MAJORITY}\n",
    "shift_str = \"ko_task2\""
   ]
  },
  {
   "cell_type": "code",
   "execution_count": 8,
   "id": "cultural-daisy",
   "metadata": {},
   "outputs": [],
   "source": [
    "dict_result = main_experiment(model, method, X_valid, y_valid,\n",
    "                             c_valid, X_test_flatten, y_test, c_test,\n",
    "                             shift_type, ORIGINAL_SHAPE, n_classes,\n",
    "                             concept_names, concept_values, \n",
    "                             shift_type_params, n_exp=50, n_std=2)"
   ]
  },
  {
   "cell_type": "code",
   "execution_count": 9,
   "id": "local-newark",
   "metadata": {},
   "outputs": [
    {
     "name": "stdout",
     "output_type": "stream",
     "text": [
      "Saving successfully.\n"
     ]
    }
   ],
   "source": [
    "# Save file\n",
    "save_result(shift_str, method_str, dict_result, True, \"smallnorb\")"
   ]
  }
 ],
 "metadata": {
  "kernelspec": {
   "display_name": "Python 3",
   "language": "python",
   "name": "python3"
  },
  "language_info": {
   "codemirror_mode": {
    "name": "ipython",
    "version": 3
   },
   "file_extension": ".py",
   "mimetype": "text/x-python",
   "name": "python",
   "nbconvert_exporter": "python",
   "pygments_lexer": "ipython3",
   "version": "3.8.5"
  }
 },
 "nbformat": 4,
 "nbformat_minor": 5
}
