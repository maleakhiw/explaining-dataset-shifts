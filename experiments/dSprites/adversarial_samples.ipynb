{
 "cells": [
  {
   "cell_type": "code",
   "execution_count": 1,
   "metadata": {},
   "outputs": [
    {
     "name": "stdout",
     "output_type": "stream",
     "text": [
      "Collecting foolbox\n",
      "  Downloading foolbox-3.3.1-py3-none-any.whl (1.7 MB)\n",
      "\u001b[K     |████████████████████████████████| 1.7 MB 82 kB/s eta 0:00:011\n",
      "\u001b[?25hRequirement already satisfied: setuptools in /home/maleakhiw/anaconda3/lib/python3.7/site-packages (from foolbox) (45.2.0.post20200210)\n",
      "Collecting typing-extensions>=3.7.4.1\n",
      "  Downloading typing_extensions-3.7.4.3-py3-none-any.whl (22 kB)\n",
      "Collecting GitPython>=3.0.7\n",
      "  Downloading GitPython-3.1.14-py3-none-any.whl (159 kB)\n",
      "\u001b[K     |████████████████████████████████| 159 kB 247 kB/s eta 0:00:01\n",
      "\u001b[?25hCollecting eagerpy==0.29.0\n",
      "  Downloading eagerpy-0.29.0-py3-none-any.whl (30 kB)\n",
      "Requirement already satisfied: scipy in /home/maleakhiw/anaconda3/lib/python3.7/site-packages (from foolbox) (1.1.0)\n",
      "Requirement already satisfied: numpy in /home/maleakhiw/anaconda3/lib/python3.7/site-packages (from foolbox) (1.18.1)\n",
      "Collecting requests>=2.24.0\n",
      "  Downloading requests-2.25.1-py2.py3-none-any.whl (61 kB)\n",
      "\u001b[K     |████████████████████████████████| 61 kB 255 kB/s eta 0:00:01\n",
      "\u001b[?25hCollecting gitdb<5,>=4.0.1\n",
      "  Downloading gitdb-4.0.7-py3-none-any.whl (63 kB)\n",
      "\u001b[K     |████████████████████████████████| 63 kB 379 kB/s eta 0:00:01\n",
      "\u001b[?25hRequirement already satisfied: urllib3<1.27,>=1.21.1 in /home/maleakhiw/anaconda3/lib/python3.7/site-packages (from requests>=2.24.0->foolbox) (1.25.8)\n",
      "Requirement already satisfied: chardet<5,>=3.0.2 in /home/maleakhiw/anaconda3/lib/python3.7/site-packages (from requests>=2.24.0->foolbox) (3.0.4)\n",
      "Requirement already satisfied: certifi>=2017.4.17 in /home/maleakhiw/anaconda3/lib/python3.7/site-packages (from requests>=2.24.0->foolbox) (2019.11.28)\n",
      "Requirement already satisfied: idna<3,>=2.5 in /home/maleakhiw/anaconda3/lib/python3.7/site-packages (from requests>=2.24.0->foolbox) (2.8)\n",
      "Collecting smmap<5,>=3.0.1\n",
      "  Downloading smmap-4.0.0-py2.py3-none-any.whl (24 kB)\n",
      "Installing collected packages: typing-extensions, smmap, gitdb, GitPython, eagerpy, requests, foolbox\n",
      "  Attempting uninstall: requests\n",
      "    Found existing installation: requests 2.22.0\n",
      "    Uninstalling requests-2.22.0:\n",
      "      Successfully uninstalled requests-2.22.0\n",
      "Successfully installed GitPython-3.1.14 eagerpy-0.29.0 foolbox-3.3.1 gitdb-4.0.7 requests-2.25.1 smmap-4.0.0 typing-extensions-3.7.4.3\n"
     ]
    }
   ],
   "source": [
    "!pip install foolbox"
   ]
  }
 ],
 "metadata": {
  "kernelspec": {
   "display_name": "Python 3",
   "language": "python",
   "name": "python3"
  },
  "language_info": {
   "codemirror_mode": {
    "name": "ipython",
    "version": 3
   },
   "file_extension": ".py",
   "mimetype": "text/x-python",
   "name": "python",
   "nbconvert_exporter": "python",
   "pygments_lexer": "ipython3",
   "version": "3.7.6"
  }
 },
 "nbformat": 4,
 "nbformat_minor": 4
}
