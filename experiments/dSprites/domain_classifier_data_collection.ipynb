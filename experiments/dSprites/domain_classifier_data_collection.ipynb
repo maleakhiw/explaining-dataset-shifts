{
 "cells": [
  {
   "cell_type": "markdown",
   "metadata": {
    "id": "llEls-l1raDY"
   },
   "source": [
    "# Domain classifier (dSprites): data collection\n",
    "\n",
    "**Author**: Maleakhi A. Wijaya  \n",
    "**Description**: This notebook contains code used to run experiments related to the domain classifier. Particularly, we compare the performance of standard black-box domain classifier against the proposed inherently transparent concept-based models."
   ]
  },
  {
   "cell_type": "code",
   "execution_count": 5,
   "metadata": {
    "id": "eSt_ygkTsDZc"
   },
   "outputs": [],
   "source": [
    "# Load utilities functions\n",
    "%run ../../scripts/constants.py\n",
    "%run ../../scripts/dsprites_utils.py\n",
    "%run ../../scripts/shift_applicator.py\n",
    "%run ../../scripts/shift_dimensionality_reductor.py\n",
    "%run ../../scripts/c2st.py\n",
    "%run ../../scripts/c2st_utils.py\n",
    "%run ../../scripts/shift_statistical_test.py"
   ]
  },
  {
   "cell_type": "code",
   "execution_count": 6,
   "metadata": {
    "id": "VsKbESWwsg__"
   },
   "outputs": [],
   "source": [
    "## Random seed\n",
    "SEED = 20\n",
    "np.random.seed(SEED)\n",
    "tf.random.set_seed(SEED)"
   ]
  },
  {
   "cell_type": "markdown",
   "metadata": {
    "id": "KtNo0hA5sjTX"
   },
   "source": [
    "## Load dataset"
   ]
  },
  {
   "cell_type": "code",
   "execution_count": 4,
   "metadata": {
    "colab": {
     "base_uri": "https://localhost:8080/"
    },
    "id": "arCRHzexslTr",
    "outputId": "915d4c9e-e4de-4d88-bfd8-69641f9d1784"
   },
   "outputs": [
    {
     "name": "stdout",
     "output_type": "stream",
     "text": [
      "Training samples: 85000\n",
      "Testing samples: 15000\n"
     ]
    }
   ],
   "source": [
    "path = \"../../data/dsprites_ndarray_co1sh3sc6or40x32y32_64x64.npz\"\n",
    "X_train, X_test, y_train, y_test, c_train, c_test = load_dsprites(path, 100000, DatasetTask.Task1, train_size=0.85, class_index=1)\n",
    "n_classes = 2\n",
    "concept_names = [\"color\", \"shape\", \"scale\", \"rotation\", \"x\", \"y\"]\n",
    "concept_values = get_latent_sizes()\n",
    "dataset = Dataset.DSPRITES"
   ]
  },
  {
   "cell_type": "code",
   "execution_count": 5,
   "metadata": {
    "id": "foNHS2yKDJ4k"
   },
   "outputs": [],
   "source": [
    "adv_samples = np.load(\"../../data/adversarial_samples/X_adversarial_dsprites.npy\")"
   ]
  },
  {
   "cell_type": "code",
   "execution_count": 6,
   "metadata": {
    "id": "Rzyd8FJ4tFFv"
   },
   "outputs": [],
   "source": [
    "# Reshape to appropriate shift input\n",
    "# It is noteworthy that for efficiency, we represent the images as only 2 dimension\n",
    "# when we preprocessing (number of instances/ batch size * flatten size).\n",
    "# When visualising back the image, we need to reshape it back to the original dimension\n",
    "ORIGINAL_SHAPE = X_test.shape[1:] # constant hold the image original shape\n",
    "X_test_flatten = deepcopy(X_test.reshape(X_test.shape[0], -1))\n",
    "X_train_flatten = deepcopy(X_train.reshape(X_train.shape[0], -1))"
   ]
  },
  {
   "cell_type": "markdown",
   "metadata": {
    "id": "3j_fYHfUtyDh"
   },
   "source": [
    "## Data collection\n",
    "\n",
    "This section train various machine learning models, amounting to linear discriminant analysis, feedforward neural network, concept bottleneck models (CBMs), and the concept model extraction (CME). We capture the accuracy performance of these models in distinguishing source and target."
   ]
  },
  {
   "cell_type": "markdown",
   "metadata": {
    "id": "EZZZNQU7CuuG"
   },
   "source": [
    "### LDA"
   ]
  },
  {
   "cell_type": "code",
   "execution_count": 10,
   "metadata": {
    "id": "xYUAdYpwRiCr"
   },
   "outputs": [],
   "source": [
    "c2st_param = ClassifierTwoSampleTest.LDA\n",
    "method_str = \"LDA\""
   ]
  },
  {
   "cell_type": "markdown",
   "metadata": {
    "id": "TCx3CQg4RgIQ"
   },
   "source": [
    "**Gaussian shift**"
   ]
  },
  {
   "cell_type": "code",
   "execution_count": 11,
   "metadata": {
    "id": "1ccE0wGdGdtf"
   },
   "outputs": [],
   "source": [
    "shift_type = ShiftType.Gaussian\n",
    "shift_str = \"gaussian\""
   ]
  },
  {
   "cell_type": "code",
   "execution_count": 12,
   "metadata": {
    "colab": {
     "base_uri": "https://localhost:8080/"
    },
    "id": "rb_MY9SD831A",
    "outputId": "2b6effcf-55db-45b0-dd30-200c6efb853b"
   },
   "outputs": [
    {
     "name": "stderr",
     "output_type": "stream",
     "text": [
      "100%|██████████| 5/5 [45:25<00:00, 545.00s/it]\n"
     ]
    }
   ],
   "source": [
    "dict_result = domain_classifier_experiment(c2st_param, dataset, X_train_flatten, \n",
    "                                           y_train, c_train, X_test_flatten, y_test, \n",
    "                                           c_test, shift_type, ORIGINAL_SHAPE, n_exp=5)"
   ]
  },
  {
   "cell_type": "code",
   "execution_count": 13,
   "metadata": {
    "colab": {
     "base_uri": "https://localhost:8080/"
    },
    "id": "eBp7Cgi0Jkrl",
    "outputId": "6748022d-83da-4bb5-ead8-d9bd36a8a481"
   },
   "outputs": [
    {
     "name": "stdout",
     "output_type": "stream",
     "text": [
      "Saving successfully.\n"
     ]
    }
   ],
   "source": [
    "save_result_dc(shift_str, method_str, dict_result)"
   ]
  },
  {
   "cell_type": "markdown",
   "metadata": {
    "id": "LWVfVkvPRqhh"
   },
   "source": [
    "**Knockout shift**"
   ]
  },
  {
   "cell_type": "code",
   "execution_count": 14,
   "metadata": {
    "id": "62NA15KDRuaM"
   },
   "outputs": [],
   "source": [
    "shift_type = ShiftType.Knockout\n",
    "shift_str = \"ko\"\n",
    "shift_type_params = {\"cl\": MAJORITY}"
   ]
  },
  {
   "cell_type": "code",
   "execution_count": 15,
   "metadata": {
    "colab": {
     "base_uri": "https://localhost:8080/"
    },
    "id": "Rc3F6Ry0Rui6",
    "outputId": "c1a1af56-2630-4bb3-861d-baf158c12511"
   },
   "outputs": [
    {
     "name": "stderr",
     "output_type": "stream",
     "text": [
      "100%|██████████| 5/5 [43:45<00:00, 525.05s/it]\n"
     ]
    }
   ],
   "source": [
    "dict_result = domain_classifier_experiment(c2st_param, dataset, X_train_flatten, \n",
    "                                           y_train, c_train, X_test_flatten, y_test, \n",
    "                                           c_test, shift_type, ORIGINAL_SHAPE, n_exp=5, shift_type_params=shift_type_params)"
   ]
  },
  {
   "cell_type": "code",
   "execution_count": 16,
   "metadata": {
    "colab": {
     "base_uri": "https://localhost:8080/"
    },
    "id": "xqAOU9e2Rurg",
    "outputId": "c312da1e-f03b-4ac2-e171-6d62f81be00d"
   },
   "outputs": [
    {
     "name": "stdout",
     "output_type": "stream",
     "text": [
      "Saving successfully.\n"
     ]
    }
   ],
   "source": [
    "save_result_dc(shift_str, method_str, dict_result)"
   ]
  },
  {
   "cell_type": "markdown",
   "metadata": {
    "id": "HBIl-ZT1Vbey"
   },
   "source": [
    "**Image shift**"
   ]
  },
  {
   "cell_type": "code",
   "execution_count": 17,
   "metadata": {
    "id": "WzKiNWkaVeAg"
   },
   "outputs": [],
   "source": [
    "shift_type = ShiftType.All\n",
    "shift_str = \"all\"\n",
    "shift_type_params = {\"orig_dims\": ORIGINAL_SHAPE}"
   ]
  },
  {
   "cell_type": "code",
   "execution_count": 18,
   "metadata": {
    "colab": {
     "base_uri": "https://localhost:8080/"
    },
    "id": "E9rSXAp8VeUV",
    "outputId": "96eb632e-9c7a-46ca-bd2a-3dca52f2cb86"
   },
   "outputs": [
    {
     "name": "stderr",
     "output_type": "stream",
     "text": [
      "100%|██████████| 5/5 [47:28<00:00, 569.72s/it]\n"
     ]
    }
   ],
   "source": [
    "dict_result = domain_classifier_experiment(c2st_param, dataset, X_train_flatten, \n",
    "                                           y_train, c_train, X_test_flatten, y_test, \n",
    "                                           c_test, shift_type, ORIGINAL_SHAPE, n_exp=5, shift_type_params=shift_type_params)"
   ]
  },
  {
   "cell_type": "code",
   "execution_count": 19,
   "metadata": {
    "colab": {
     "base_uri": "https://localhost:8080/"
    },
    "id": "Rs8HynE5VecO",
    "outputId": "33094615-6ebd-4f16-c407-db34270ec101"
   },
   "outputs": [
    {
     "name": "stdout",
     "output_type": "stream",
     "text": [
      "Saving successfully.\n"
     ]
    }
   ],
   "source": [
    "save_result_dc(shift_str, method_str, dict_result)"
   ]
  },
  {
   "cell_type": "markdown",
   "metadata": {
    "id": "Q31dcc3-Wn3T"
   },
   "source": [
    "**Adversarial shift**"
   ]
  },
  {
   "cell_type": "code",
   "execution_count": 20,
   "metadata": {
    "id": "FRQDSPO6WrAz"
   },
   "outputs": [],
   "source": [
    "shift_type = ShiftType.Adversarial\n",
    "shift_type_params = {\n",
    "    \"adv_samples\": adv_samples\n",
    "}\n",
    "shift_str = \"adversarial\""
   ]
  },
  {
   "cell_type": "code",
   "execution_count": 21,
   "metadata": {
    "colab": {
     "base_uri": "https://localhost:8080/"
    },
    "id": "NHPkx7QtWrPv",
    "outputId": "01f718c9-574e-4900-ba67-01b03b29a88a"
   },
   "outputs": [
    {
     "name": "stderr",
     "output_type": "stream",
     "text": [
      "100%|██████████| 5/5 [44:28<00:00, 533.71s/it]\n"
     ]
    }
   ],
   "source": [
    "dict_result = domain_classifier_experiment(c2st_param, dataset, X_train_flatten, \n",
    "                                           y_train, c_train, X_test_flatten, y_test, \n",
    "                                           c_test, shift_type, ORIGINAL_SHAPE, n_exp=5, shift_type_params=shift_type_params)"
   ]
  },
  {
   "cell_type": "code",
   "execution_count": 22,
   "metadata": {
    "colab": {
     "base_uri": "https://localhost:8080/"
    },
    "id": "1IpptTOgWraG",
    "outputId": "bacdd6b5-613a-41b1-b226-afe0f4a0e421"
   },
   "outputs": [
    {
     "name": "stdout",
     "output_type": "stream",
     "text": [
      "Saving successfully.\n"
     ]
    }
   ],
   "source": [
    "save_result_dc(shift_str, method_str, dict_result)"
   ]
  },
  {
   "cell_type": "markdown",
   "metadata": {
    "id": "lX7jKJvtJkCK"
   },
   "source": [
    "### FFNN"
   ]
  },
  {
   "cell_type": "code",
   "execution_count": 23,
   "metadata": {
    "id": "2RbJWJHnSBmL"
   },
   "outputs": [],
   "source": [
    "c2st_param = ClassifierTwoSampleTest.FFNN\n",
    "method_str = \"FFNN\""
   ]
  },
  {
   "cell_type": "markdown",
   "metadata": {
    "id": "E2vlcfzSR_yI"
   },
   "source": [
    "**Gaussian shift**"
   ]
  },
  {
   "cell_type": "code",
   "execution_count": 24,
   "metadata": {
    "id": "N8m6MpTVJkCQ"
   },
   "outputs": [],
   "source": [
    "shift_type = ShiftType.Gaussian\n",
    "shift_str = \"gaussian\""
   ]
  },
  {
   "cell_type": "code",
   "execution_count": 25,
   "metadata": {
    "colab": {
     "base_uri": "https://localhost:8080/"
    },
    "id": "H1ohfTmvJkCR",
    "outputId": "050fec39-2a50-44a2-ccdc-7f1971e044ba"
   },
   "outputs": [
    {
     "name": "stderr",
     "output_type": "stream",
     "text": [
      "100%|██████████| 5/5 [21:37<00:00, 259.56s/it]\n"
     ]
    }
   ],
   "source": [
    "dict_result = domain_classifier_experiment(c2st_param, dataset, X_train_flatten, \n",
    "                                           y_train, c_train, X_test_flatten, y_test, \n",
    "                                           c_test, shift_type, ORIGINAL_SHAPE, n_exp=5)"
   ]
  },
  {
   "cell_type": "code",
   "execution_count": 26,
   "metadata": {
    "colab": {
     "base_uri": "https://localhost:8080/"
    },
    "id": "6M8Fd-PhJ3Z-",
    "outputId": "697268e8-eca5-4677-dcb3-e3eb4e1f0b54"
   },
   "outputs": [
    {
     "name": "stdout",
     "output_type": "stream",
     "text": [
      "Saving successfully.\n"
     ]
    }
   ],
   "source": [
    "save_result_dc(shift_str, method_str, dict_result)"
   ]
  },
  {
   "cell_type": "markdown",
   "metadata": {
    "id": "pKafzZ28ST_T"
   },
   "source": [
    "**Knockout shift**"
   ]
  },
  {
   "cell_type": "code",
   "execution_count": 27,
   "metadata": {
    "id": "glep64WsSZMe"
   },
   "outputs": [],
   "source": [
    "shift_type = ShiftType.Knockout\n",
    "shift_str = \"ko\"\n",
    "shift_type_params = {\"cl\": MAJORITY}"
   ]
  },
  {
   "cell_type": "code",
   "execution_count": 28,
   "metadata": {
    "colab": {
     "base_uri": "https://localhost:8080/"
    },
    "id": "Q8LVPcDxSZP-",
    "outputId": "4af2b092-55b0-48a6-b704-64bf6d3f3d12"
   },
   "outputs": [
    {
     "name": "stderr",
     "output_type": "stream",
     "text": [
      "100%|██████████| 5/5 [13:41<00:00, 164.34s/it]\n"
     ]
    }
   ],
   "source": [
    "dict_result = domain_classifier_experiment(c2st_param, dataset, X_train_flatten, \n",
    "                                           y_train, c_train, X_test_flatten, y_test, \n",
    "                                           c_test, shift_type, ORIGINAL_SHAPE, n_exp=5, shift_type_params=shift_type_params)"
   ]
  },
  {
   "cell_type": "code",
   "execution_count": 29,
   "metadata": {
    "colab": {
     "base_uri": "https://localhost:8080/"
    },
    "id": "VAmQxzQsSZcV",
    "outputId": "51fd8b4a-95e1-445a-d776-365a8e4ac510"
   },
   "outputs": [
    {
     "name": "stdout",
     "output_type": "stream",
     "text": [
      "Saving successfully.\n"
     ]
    }
   ],
   "source": [
    "save_result_dc(shift_str, method_str, dict_result)"
   ]
  },
  {
   "cell_type": "markdown",
   "metadata": {
    "id": "bjafV_tuVy37"
   },
   "source": [
    "**Image shift**"
   ]
  },
  {
   "cell_type": "code",
   "execution_count": 30,
   "metadata": {
    "id": "LwmQtj3_Vy4P"
   },
   "outputs": [],
   "source": [
    "shift_type = ShiftType.All\n",
    "shift_str = \"all\"\n",
    "shift_type_params = {\"orig_dims\": ORIGINAL_SHAPE}"
   ]
  },
  {
   "cell_type": "code",
   "execution_count": 31,
   "metadata": {
    "colab": {
     "base_uri": "https://localhost:8080/"
    },
    "id": "0R7b3vtyVy4Q",
    "outputId": "3400a122-7f95-419a-ffbc-efaef0b52b6d"
   },
   "outputs": [
    {
     "name": "stderr",
     "output_type": "stream",
     "text": [
      "100%|██████████| 5/5 [28:16<00:00, 339.33s/it]\n"
     ]
    }
   ],
   "source": [
    "dict_result = domain_classifier_experiment(c2st_param, dataset, X_train_flatten, \n",
    "                                           y_train, c_train, X_test_flatten, y_test, \n",
    "                                           c_test, shift_type, ORIGINAL_SHAPE, n_exp=5, shift_type_params=shift_type_params)"
   ]
  },
  {
   "cell_type": "code",
   "execution_count": 32,
   "metadata": {
    "colab": {
     "base_uri": "https://localhost:8080/"
    },
    "id": "AgCgOtfWVy4Q",
    "outputId": "c692933a-b53a-4330-d7a4-27fdbfbfb107"
   },
   "outputs": [
    {
     "name": "stdout",
     "output_type": "stream",
     "text": [
      "Saving successfully.\n"
     ]
    }
   ],
   "source": [
    "save_result_dc(shift_str, method_str, dict_result)"
   ]
  },
  {
   "cell_type": "markdown",
   "metadata": {
    "id": "AzKPAQYJWzpU"
   },
   "source": [
    "**Adversarial shift**"
   ]
  },
  {
   "cell_type": "code",
   "execution_count": 33,
   "metadata": {
    "id": "qDWvQqaFWzpW"
   },
   "outputs": [],
   "source": [
    "shift_type = ShiftType.Adversarial\n",
    "shift_type_params = {\n",
    "    \"adv_samples\": adv_samples\n",
    "}\n",
    "shift_str = \"adversarial\""
   ]
  },
  {
   "cell_type": "code",
   "execution_count": 34,
   "metadata": {
    "colab": {
     "base_uri": "https://localhost:8080/"
    },
    "id": "-rLMVCyaWzpX",
    "outputId": "64c3a3a0-7d7b-4e6f-f323-830fcf338b82"
   },
   "outputs": [
    {
     "name": "stderr",
     "output_type": "stream",
     "text": [
      "100%|██████████| 1/1 [04:50<00:00, 290.85s/it]\n"
     ]
    }
   ],
   "source": [
    "dict_result = domain_classifier_experiment(c2st_param, dataset, X_train_flatten, \n",
    "                                           y_train, c_train, X_test_flatten, y_test, \n",
    "                                           c_test, shift_type, ORIGINAL_SHAPE, n_exp=1, shift_type_params=shift_type_params)"
   ]
  },
  {
   "cell_type": "code",
   "execution_count": 35,
   "metadata": {
    "colab": {
     "base_uri": "https://localhost:8080/"
    },
    "id": "uyUZFG_1WzpY",
    "outputId": "f0d83f5f-60bd-43ce-b97e-242d5248bebf"
   },
   "outputs": [
    {
     "name": "stdout",
     "output_type": "stream",
     "text": [
      "Saving successfully.\n"
     ]
    }
   ],
   "source": [
    "save_result_dc(shift_str, method_str, dict_result)"
   ]
  },
  {
   "cell_type": "markdown",
   "metadata": {
    "id": "-ItiyhOe5VGw"
   },
   "source": [
    "### CBM - Independent"
   ]
  },
  {
   "cell_type": "code",
   "execution_count": 28,
   "metadata": {
    "id": "dGeTVqGrRPHJ"
   },
   "outputs": [],
   "source": [
    "c2st_param = ClassifierTwoSampleTest.CBM\n",
    "method_str = \"CBM_INDEPENDENT\"\n",
    "untrained_cto = LogisticRegression()\n",
    "training_mode = ConceptBottleneckTraining.Independent"
   ]
  },
  {
   "cell_type": "markdown",
   "metadata": {
    "id": "0kQNZQgPRNWJ"
   },
   "source": [
    "**Gaussian shift**"
   ]
  },
  {
   "cell_type": "code",
   "execution_count": 25,
   "metadata": {
    "id": "OAUcouDN5VHE"
   },
   "outputs": [],
   "source": [
    "shift_type = ShiftType.Gaussian\n",
    "shift_str = \"gaussian\""
   ]
  },
  {
   "cell_type": "code",
   "execution_count": 23,
   "metadata": {
    "colab": {
     "base_uri": "https://localhost:8080/"
    },
    "id": "y8rm9xwR5VHF",
    "outputId": "98e7312f-786c-4e3f-a2e4-501d8ab79c30"
   },
   "outputs": [
    {
     "name": "stderr",
     "output_type": "stream",
     "text": [
      "100%|██████████| 1/1 [33:59<00:00, 2039.34s/it]\n"
     ]
    }
   ],
   "source": [
    "dict_result = domain_classifier_experiment(c2st_param, dataset, X_train_flatten, \n",
    "                                           y_train, c_train, X_test_flatten, y_test, \n",
    "                                           c_test, shift_type, ORIGINAL_SHAPE, untrained_cto, training_mode, n_exp=3)"
   ]
  },
  {
   "cell_type": "code",
   "execution_count": 26,
   "metadata": {
    "colab": {
     "base_uri": "https://localhost:8080/"
    },
    "id": "SUvA7UE76AX5",
    "outputId": "ed573ef6-a1a2-4d3b-da60-8236630abc44"
   },
   "outputs": [
    {
     "name": "stdout",
     "output_type": "stream",
     "text": [
      "Saving successfully.\n"
     ]
    }
   ],
   "source": [
    "save_result_dc(shift_str, method_str, dict_result)"
   ]
  },
  {
   "cell_type": "markdown",
   "metadata": {
    "id": "q9TosNzOQs7L"
   },
   "source": [
    "**Knockout shift**"
   ]
  },
  {
   "cell_type": "code",
   "execution_count": 29,
   "metadata": {
    "id": "JibE-_szQwJH"
   },
   "outputs": [],
   "source": [
    "shift_type = ShiftType.Knockout\n",
    "shift_str = \"ko\"\n",
    "shift_type_params = {\"cl\": MAJORITY}"
   ]
  },
  {
   "cell_type": "code",
   "execution_count": 30,
   "metadata": {
    "colab": {
     "base_uri": "https://localhost:8080/"
    },
    "id": "clT3rVBHQwT0",
    "outputId": "3f6958d8-c478-4882-a8cf-173f905ff8dc"
   },
   "outputs": [
    {
     "name": "stderr",
     "output_type": "stream",
     "text": [
      "\n",
      "  0%|          | 0/1 [00:00<?, ?it/s]\u001b[A\n",
      "100%|██████████| 1/1 [19:02<00:00, 1142.20s/it]\n"
     ]
    }
   ],
   "source": [
    "dict_result = domain_classifier_experiment(c2st_param, dataset, X_train_flatten, \n",
    "                                           y_train, c_train, X_test_flatten, y_test, \n",
    "                                           c_test, shift_type, ORIGINAL_SHAPE, untrained_cto, training_mode, n_exp=3,\n",
    "                                           shift_type_params=shift_type_params)"
   ]
  },
  {
   "cell_type": "code",
   "execution_count": 31,
   "metadata": {
    "colab": {
     "base_uri": "https://localhost:8080/"
    },
    "id": "2WDEBIWLQw0b",
    "outputId": "e1d7ef41-035b-433d-b102-641e3648d738"
   },
   "outputs": [
    {
     "name": "stdout",
     "output_type": "stream",
     "text": [
      "Saving successfully.\n"
     ]
    }
   ],
   "source": [
    "save_result_dc(shift_str, method_str, dict_result)"
   ]
  },
  {
   "cell_type": "markdown",
   "metadata": {
    "id": "MucCOXwhV4zy"
   },
   "source": [
    "**Image shift**"
   ]
  },
  {
   "cell_type": "code",
   "execution_count": 32,
   "metadata": {
    "id": "z2JDF1wSV4z0"
   },
   "outputs": [],
   "source": [
    "shift_type = ShiftType.All\n",
    "shift_str = \"all\"\n",
    "shift_type_params = {\"orig_dims\": ORIGINAL_SHAPE}"
   ]
  },
  {
   "cell_type": "code",
   "execution_count": 33,
   "metadata": {
    "colab": {
     "base_uri": "https://localhost:8080/"
    },
    "id": "MvqBG6pdV4z1",
    "outputId": "4066b1dd-c65e-4b25-98fa-92791087183f"
   },
   "outputs": [
    {
     "name": "stderr",
     "output_type": "stream",
     "text": [
      "\n",
      "  0%|          | 0/1 [00:00<?, ?it/s]\u001b[A\n",
      "100%|██████████| 1/1 [31:35<00:00, 1895.16s/it]\n"
     ]
    }
   ],
   "source": [
    "dict_result = domain_classifier_experiment(c2st_param, dataset, X_train_flatten, \n",
    "                                           y_train, c_train, X_test_flatten, y_test, \n",
    "                                           c_test, shift_type, ORIGINAL_SHAPE, untrained_cto, \n",
    "                                           n_exp=3, shift_type_params=shift_type_params)"
   ]
  },
  {
   "cell_type": "code",
   "execution_count": 34,
   "metadata": {
    "colab": {
     "base_uri": "https://localhost:8080/"
    },
    "id": "kPf2awxWV4z2",
    "outputId": "2cce72a2-5256-4e95-d1e8-caeac168a82d"
   },
   "outputs": [
    {
     "name": "stdout",
     "output_type": "stream",
     "text": [
      "Saving successfully.\n"
     ]
    }
   ],
   "source": [
    "save_result_dc(shift_str, method_str, dict_result)"
   ]
  },
  {
   "cell_type": "markdown",
   "metadata": {
    "id": "tsTyfjcwW1VU"
   },
   "source": [
    "**Adversarial shift**"
   ]
  },
  {
   "cell_type": "code",
   "execution_count": 35,
   "metadata": {
    "id": "EY9AZAUZW1VW"
   },
   "outputs": [],
   "source": [
    "shift_type = ShiftType.Adversarial\n",
    "shift_type_params = {\n",
    "    \"adv_samples\": adv_samples\n",
    "}\n",
    "shift_str = \"adversarial\""
   ]
  },
  {
   "cell_type": "code",
   "execution_count": 36,
   "metadata": {
    "colab": {
     "base_uri": "https://localhost:8080/"
    },
    "id": "ImWez6z8W1VX",
    "outputId": "b44bc7dc-0888-4f9e-8470-b5e372944953"
   },
   "outputs": [
    {
     "name": "stderr",
     "output_type": "stream",
     "text": [
      "\n",
      "  0%|          | 0/1 [00:00<?, ?it/s]\u001b[A\n",
      "100%|██████████| 1/1 [39:13<00:00, 2353.22s/it]\n"
     ]
    }
   ],
   "source": [
    "dict_result = domain_classifier_experiment(c2st_param, dataset, X_train_flatten, \n",
    "                                           y_train, c_train, X_test_flatten, y_test, \n",
    "                                           c_test, shift_type, ORIGINAL_SHAPE, untrained_cto,\n",
    "                                           n_exp=3, shift_type_params=shift_type_params)"
   ]
  },
  {
   "cell_type": "code",
   "execution_count": 37,
   "metadata": {
    "colab": {
     "base_uri": "https://localhost:8080/"
    },
    "id": "_qEPsraoW1VY",
    "outputId": "90dd010d-32bb-4d46-f789-61a1cb65f0ea"
   },
   "outputs": [
    {
     "name": "stdout",
     "output_type": "stream",
     "text": [
      "Saving successfully.\n"
     ]
    }
   ],
   "source": [
    "save_result_dc(shift_str, method_str, dict_result)"
   ]
  },
  {
   "cell_type": "markdown",
   "metadata": {
    "id": "ew9uin2I5m3H"
   },
   "source": [
    "### CBM - Sequential"
   ]
  },
  {
   "cell_type": "code",
   "execution_count": 8,
   "metadata": {
    "id": "1lDdzZBhTJPU"
   },
   "outputs": [],
   "source": [
    "c2st_param = ClassifierTwoSampleTest.CBM\n",
    "method_str = \"CBM_SEQUENTIAL\"\n",
    "training_mode = ConceptBottleneckTraining.Sequential\n",
    "untrained_cto = LogisticRegression()"
   ]
  },
  {
   "cell_type": "markdown",
   "metadata": {
    "id": "ogSU3rqrTIJg"
   },
   "source": [
    "**Gaussian shift**"
   ]
  },
  {
   "cell_type": "code",
   "execution_count": 35,
   "metadata": {
    "id": "2mkjkV4U5m3J"
   },
   "outputs": [],
   "source": [
    "shift_type = ShiftType.Gaussian\n",
    "shift_str=\"gaussian\""
   ]
  },
  {
   "cell_type": "code",
   "execution_count": 29,
   "metadata": {
    "colab": {
     "base_uri": "https://localhost:8080/"
    },
    "id": "hjC4ApPU5m3K",
    "outputId": "e04d9482-b1bd-45ab-9372-beb08d72dc9f"
   },
   "outputs": [
    {
     "name": "stderr",
     "output_type": "stream",
     "text": [
      "100%|██████████| 1/1 [36:43<00:00, 2203.50s/it]\n"
     ]
    }
   ],
   "source": [
    "dict_result = domain_classifier_experiment(c2st_param, dataset, X_train_flatten, \n",
    "                                           y_train, c_train, X_test_flatten, y_test, \n",
    "                                           c_test, shift_type, ORIGINAL_SHAPE, untrained_cto, training_mode, n_exp=3)"
   ]
  },
  {
   "cell_type": "code",
   "execution_count": 30,
   "metadata": {
    "colab": {
     "base_uri": "https://localhost:8080/"
    },
    "id": "jo2xi9bj6EuN",
    "outputId": "9c6af910-f53b-4502-e93b-d21999550a2c"
   },
   "outputs": [
    {
     "name": "stdout",
     "output_type": "stream",
     "text": [
      "Saving successfully.\n"
     ]
    }
   ],
   "source": [
    "save_result_dc(shift_str, method_str, dict_result)"
   ]
  },
  {
   "cell_type": "markdown",
   "metadata": {
    "id": "JARZs7UhUh7r"
   },
   "source": [
    "**Knockout shift**"
   ]
  },
  {
   "cell_type": "code",
   "execution_count": 9,
   "metadata": {
    "id": "Apy7pBm1UkZG"
   },
   "outputs": [],
   "source": [
    "shift_type = ShiftType.Knockout\n",
    "shift_str = \"ko\"\n",
    "shift_type_params = {\"cl\": MAJORITY}"
   ]
  },
  {
   "cell_type": "code",
   "execution_count": 11,
   "metadata": {
    "colab": {
     "base_uri": "https://localhost:8080/"
    },
    "id": "4mi782rHUkh3",
    "outputId": "73341b02-7cf7-42b4-80af-2b1b8d2f05ea"
   },
   "outputs": [
    {
     "name": "stderr",
     "output_type": "stream",
     "text": [
      "\n",
      "  0%|          | 0/1 [00:00<?, ?it/s]\u001b[A\n",
      "100%|██████████| 1/1 [16:53<00:00, 1013.78s/it]\n"
     ]
    }
   ],
   "source": [
    "dict_result = domain_classifier_experiment(c2st_param, dataset, X_train_flatten, \n",
    "                                           y_train, c_train, X_test_flatten, y_test, \n",
    "                                           c_test, shift_type, ORIGINAL_SHAPE, untrained_cto, training_mode, n_exp=3,\n",
    "                                           shift_type_params=shift_type_params)"
   ]
  },
  {
   "cell_type": "code",
   "execution_count": 12,
   "metadata": {
    "colab": {
     "base_uri": "https://localhost:8080/"
    },
    "id": "kAhaN5PcUkqH",
    "outputId": "56a92e82-eb47-4edf-ff8b-ad1cecf0c03d"
   },
   "outputs": [
    {
     "name": "stdout",
     "output_type": "stream",
     "text": [
      "Saving successfully.\n"
     ]
    }
   ],
   "source": [
    "save_result_dc(shift_str, method_str, dict_result)"
   ]
  },
  {
   "cell_type": "markdown",
   "metadata": {
    "id": "iLdlP5c0V9-L"
   },
   "source": [
    "**Image shift**"
   ]
  },
  {
   "cell_type": "code",
   "execution_count": 13,
   "metadata": {
    "id": "jJJDh675V9-N"
   },
   "outputs": [],
   "source": [
    "shift_type = ShiftType.All\n",
    "shift_str = \"all\"\n",
    "shift_type_params = {\"orig_dims\": ORIGINAL_SHAPE}"
   ]
  },
  {
   "cell_type": "code",
   "execution_count": 14,
   "metadata": {
    "colab": {
     "base_uri": "https://localhost:8080/"
    },
    "id": "VfHuScD9V9-O",
    "outputId": "c678f427-4e37-42cb-8a82-e784533462a2"
   },
   "outputs": [
    {
     "name": "stderr",
     "output_type": "stream",
     "text": [
      "\n",
      "  0%|          | 0/1 [00:00<?, ?it/s]\u001b[A\n",
      "100%|██████████| 1/1 [32:47<00:00, 1967.98s/it]\n"
     ]
    }
   ],
   "source": [
    "dict_result = domain_classifier_experiment(c2st_param, dataset, X_train_flatten, \n",
    "                                           y_train, c_train, X_test_flatten, y_test, \n",
    "                                           c_test, shift_type, ORIGINAL_SHAPE, untrained_cto, \n",
    "                                           n_exp=3, shift_type_params=shift_type_params)"
   ]
  },
  {
   "cell_type": "code",
   "execution_count": 15,
   "metadata": {
    "colab": {
     "base_uri": "https://localhost:8080/"
    },
    "id": "2-Irc2ulV9-P",
    "outputId": "7af171e6-1cbb-43e8-bd97-c8aab7e56490"
   },
   "outputs": [
    {
     "name": "stdout",
     "output_type": "stream",
     "text": [
      "Saving successfully.\n"
     ]
    }
   ],
   "source": [
    "save_result_dc(shift_str, method_str, dict_result)"
   ]
  },
  {
   "cell_type": "markdown",
   "metadata": {
    "id": "HYaPmS5tW7RC"
   },
   "source": [
    "**Adversarial shift**"
   ]
  },
  {
   "cell_type": "code",
   "execution_count": 16,
   "metadata": {
    "id": "mMNujnb3W7RD"
   },
   "outputs": [],
   "source": [
    "shift_type = ShiftType.Adversarial\n",
    "shift_type_params = {\n",
    "    \"adv_samples\": adv_samples\n",
    "}\n",
    "shift_str = \"adversarial\""
   ]
  },
  {
   "cell_type": "code",
   "execution_count": 17,
   "metadata": {
    "colab": {
     "base_uri": "https://localhost:8080/"
    },
    "id": "3flOeFvXW7RD",
    "outputId": "07eda01b-d4c6-4ba4-c4eb-2d3ae06a7aa5"
   },
   "outputs": [
    {
     "name": "stderr",
     "output_type": "stream",
     "text": [
      "\n",
      "  0%|          | 0/1 [00:00<?, ?it/s]\u001b[A\n",
      "100%|██████████| 1/1 [36:22<00:00, 2182.63s/it]\n"
     ]
    }
   ],
   "source": [
    "dict_result = domain_classifier_experiment(c2st_param, dataset, X_train_flatten, \n",
    "                                           y_train, c_train, X_test_flatten, y_test, \n",
    "                                           c_test, shift_type, ORIGINAL_SHAPE, untrained_cto,\n",
    "                                           n_exp=3, shift_type_params=shift_type_params)"
   ]
  },
  {
   "cell_type": "code",
   "execution_count": 18,
   "metadata": {
    "colab": {
     "base_uri": "https://localhost:8080/"
    },
    "id": "7anGyW3kW7RE",
    "outputId": "1170e0e2-ab5f-48e3-8d3a-1659fd0a338b"
   },
   "outputs": [
    {
     "name": "stdout",
     "output_type": "stream",
     "text": [
      "Saving successfully.\n"
     ]
    }
   ],
   "source": [
    "save_result_dc(shift_str, method_str, dict_result)"
   ]
  },
  {
   "cell_type": "markdown",
   "metadata": {
    "id": "pkHX4Vq75nPu"
   },
   "source": [
    "### CBM - Joint"
   ]
  },
  {
   "cell_type": "code",
   "execution_count": 19,
   "metadata": {
    "id": "k0o9qe4PUttg"
   },
   "outputs": [],
   "source": [
    "c2st_param = ClassifierTwoSampleTest.CBM\n",
    "method_str = \"CBM_JOINT\"\n",
    "training_mode = ConceptBottleneckTraining.Joint"
   ]
  },
  {
   "cell_type": "markdown",
   "metadata": {
    "id": "M5PDGTV3UsAc"
   },
   "source": [
    "**Gaussian shift**"
   ]
  },
  {
   "cell_type": "code",
   "execution_count": 31,
   "metadata": {
    "id": "C9PMArKz5nPv"
   },
   "outputs": [],
   "source": [
    "shift_type = ShiftType.Gaussian\n",
    "shift_str=\"gaussian\""
   ]
  },
  {
   "cell_type": "code",
   "execution_count": 32,
   "metadata": {
    "colab": {
     "base_uri": "https://localhost:8080/"
    },
    "id": "yApqOI7v5nPv",
    "outputId": "2e2082dc-4cbf-4989-ce29-535f0c7d62e0"
   },
   "outputs": [
    {
     "name": "stderr",
     "output_type": "stream",
     "text": [
      "100%|██████████| 1/1 [34:14<00:00, 2054.04s/it]\n"
     ]
    }
   ],
   "source": [
    "dict_result = domain_classifier_experiment(c2st_param, dataset, X_train_flatten, \n",
    "                                           y_train, c_train, X_test_flatten, y_test, \n",
    "                                           c_test, shift_type, ORIGINAL_SHAPE, training_mode=training_mode, n_exp=3)"
   ]
  },
  {
   "cell_type": "code",
   "execution_count": 33,
   "metadata": {
    "colab": {
     "base_uri": "https://localhost:8080/"
    },
    "id": "Ixw8wbyP6GCk",
    "outputId": "f69844d9-65d2-4448-bd37-e068d9559f7c"
   },
   "outputs": [
    {
     "name": "stdout",
     "output_type": "stream",
     "text": [
      "Saving successfully.\n"
     ]
    }
   ],
   "source": [
    "save_result_dc(shift_str, method_str, dict_result)"
   ]
  },
  {
   "cell_type": "markdown",
   "metadata": {
    "id": "lreeLSbeU6j9"
   },
   "source": [
    "**Knockout shift**"
   ]
  },
  {
   "cell_type": "code",
   "execution_count": 20,
   "metadata": {
    "id": "SaqEntnuVDlt"
   },
   "outputs": [],
   "source": [
    "shift_type = ShiftType.Knockout\n",
    "shift_str = \"ko\"\n",
    "shift_type_params = {\"cl\": MAJORITY}"
   ]
  },
  {
   "cell_type": "code",
   "execution_count": 21,
   "metadata": {
    "colab": {
     "base_uri": "https://localhost:8080/"
    },
    "id": "Qb0l1g0UVDuI",
    "outputId": "7f6de77d-41e9-4dc9-93a9-3289c575b484"
   },
   "outputs": [
    {
     "name": "stderr",
     "output_type": "stream",
     "text": [
      "\n",
      "  0%|          | 0/1 [00:00<?, ?it/s]\u001b[A\n",
      "100%|██████████| 1/1 [17:21<00:00, 1041.51s/it]\n"
     ]
    }
   ],
   "source": [
    "dict_result = domain_classifier_experiment(c2st_param, dataset, X_train_flatten, \n",
    "                                           y_train, c_train, X_test_flatten, y_test, \n",
    "                                           c_test, shift_type, ORIGINAL_SHAPE, n_exp=3, training_mode=training_mode, shift_type_params=shift_type_params)"
   ]
  },
  {
   "cell_type": "code",
   "execution_count": 22,
   "metadata": {
    "colab": {
     "base_uri": "https://localhost:8080/"
    },
    "id": "-eocCLxLVD2E",
    "outputId": "418a2ce4-f09e-4af2-ea0a-876d92a2ee8f"
   },
   "outputs": [
    {
     "name": "stdout",
     "output_type": "stream",
     "text": [
      "Saving successfully.\n"
     ]
    }
   ],
   "source": [
    "save_result_dc(shift_str, method_str, dict_result)"
   ]
  },
  {
   "cell_type": "markdown",
   "metadata": {
    "id": "3x8t4k3kWAL4"
   },
   "source": [
    "**Image shift**"
   ]
  },
  {
   "cell_type": "code",
   "execution_count": 23,
   "metadata": {
    "id": "A6E6pY4bWAL5"
   },
   "outputs": [],
   "source": [
    "shift_type = ShiftType.All\n",
    "shift_str = \"all\"\n",
    "shift_type_params = {\"orig_dims\": ORIGINAL_SHAPE}"
   ]
  },
  {
   "cell_type": "code",
   "execution_count": 24,
   "metadata": {
    "colab": {
     "base_uri": "https://localhost:8080/"
    },
    "id": "lXTPjlysWAL5",
    "outputId": "e74f736d-f9f1-4faa-9d48-899f877b39c4"
   },
   "outputs": [
    {
     "name": "stderr",
     "output_type": "stream",
     "text": [
      "\n",
      "  0%|          | 0/1 [00:00<?, ?it/s]\u001b[A\n",
      "100%|██████████| 1/1 [29:23<00:00, 1763.82s/it]\n"
     ]
    }
   ],
   "source": [
    "dict_result = domain_classifier_experiment(c2st_param, dataset, X_train_flatten, \n",
    "                                           y_train, c_train, X_test_flatten, y_test, \n",
    "                                           c_test, shift_type, ORIGINAL_SHAPE, training_mode=training_mode, \n",
    "                                           n_exp=3, shift_type_params=shift_type_params)"
   ]
  },
  {
   "cell_type": "code",
   "execution_count": 25,
   "metadata": {
    "colab": {
     "base_uri": "https://localhost:8080/"
    },
    "id": "70T5qNBYWAL6",
    "outputId": "97e0ab6e-3a4d-4635-d2cb-b9981bb557b1"
   },
   "outputs": [
    {
     "name": "stdout",
     "output_type": "stream",
     "text": [
      "Saving successfully.\n"
     ]
    }
   ],
   "source": [
    "save_result_dc(shift_str, method_str, dict_result)"
   ]
  },
  {
   "cell_type": "markdown",
   "metadata": {
    "id": "jp-tjgZrW8_p"
   },
   "source": [
    "**Adversarial shift**"
   ]
  },
  {
   "cell_type": "code",
   "execution_count": 26,
   "metadata": {
    "id": "THofN3nRW8_q"
   },
   "outputs": [],
   "source": [
    "shift_type = ShiftType.Adversarial\n",
    "shift_type_params = {\n",
    "    \"adv_samples\": adv_samples\n",
    "}\n",
    "shift_str = \"adversarial\""
   ]
  },
  {
   "cell_type": "code",
   "execution_count": 27,
   "metadata": {
    "colab": {
     "base_uri": "https://localhost:8080/"
    },
    "id": "oCJNuJnFW8_r",
    "outputId": "2e416e0a-e855-49ed-812d-8e7b3f901dd2"
   },
   "outputs": [
    {
     "name": "stderr",
     "output_type": "stream",
     "text": [
      "\n",
      "  0%|          | 0/1 [00:00<?, ?it/s]\u001b[A\n",
      "100%|██████████| 1/1 [33:59<00:00, 2039.61s/it]\n"
     ]
    }
   ],
   "source": [
    "dict_result = domain_classifier_experiment(c2st_param, dataset, X_train_flatten, \n",
    "                                           y_train, c_train, X_test_flatten, y_test, \n",
    "                                           c_test, shift_type, ORIGINAL_SHAPE, training_mode=training_mode,\n",
    "                                           n_exp=3, shift_type_params=shift_type_params)"
   ]
  },
  {
   "cell_type": "code",
   "execution_count": 28,
   "metadata": {
    "colab": {
     "base_uri": "https://localhost:8080/"
    },
    "id": "JJHTlhRIW8_s",
    "outputId": "18a44ecb-75e6-4f81-f81c-7a0b0b530587"
   },
   "outputs": [
    {
     "name": "stdout",
     "output_type": "stream",
     "text": [
      "Saving successfully.\n"
     ]
    }
   ],
   "source": [
    "save_result_dc(shift_str, method_str, dict_result)"
   ]
  },
  {
   "cell_type": "markdown",
   "metadata": {
    "id": "WBQmKSJD8Qf-"
   },
   "source": [
    "## Save models\n",
    "\n",
    "This section trained various models and store it in the results dictionary. The models will later be loaded for determining most shifted samples (in domain_classifier_results.ipynb)."
   ]
  },
  {
   "cell_type": "markdown",
   "metadata": {
    "id": "fcSrw1s0ZAXF"
   },
   "source": [
    "We consider the following settings (large intensities for obvious results):\n",
    "- Gaussian shifts \n",
    "- image shifts \n",
    "- knockout shifts \n",
    "- concept shifts (standard)\n",
    "- adversarial shifts "
   ]
  },
  {
   "cell_type": "code",
   "execution_count": 17,
   "metadata": {
    "id": "qp6apMPawwXk"
   },
   "outputs": [],
   "source": [
    "X_train_flatten = X_train_flatten\n",
    "X_test_flatten = X_test_flatten"
   ]
  },
  {
   "cell_type": "markdown",
   "metadata": {
    "id": "j2CzSyr6B3hM"
   },
   "source": [
    "**Gaussian shift**"
   ]
  },
  {
   "cell_type": "code",
   "execution_count": 18,
   "metadata": {
    "id": "RFeWemWqwwaR"
   },
   "outputs": [],
   "source": [
    "# Apply shifts\n",
    "X_test_gaussian = deepcopy(X_test_flatten)\n",
    "X_test_gaussian, y_test = apply_gaussian_shift(X_test_gaussian, y_test, ShiftIntensity.Large, 1.0)\n",
    "\n",
    "# Generate domain classifier data\n",
    "X_train_new, y_train_new, c_train_new, X_val_new, y_val_new, c_val_new, X_test_new, y_test_new, c_test_new = generate_domain_classifier_data(X_train_flatten, y_train, c_train,\n",
    "                                                                                                                                             X_test_gaussian, y_test, c_test)\n",
    "X_train_new = X_train_new.reshape(-1, ORIGINAL_SHAPE[0],\n",
    "                                  ORIGINAL_SHAPE[1], ORIGINAL_SHAPE[2])\n",
    "X_val_new = X_val_new.reshape(-1, ORIGINAL_SHAPE[0],\n",
    "                                  ORIGINAL_SHAPE[1], ORIGINAL_SHAPE[2])\n",
    "X_test_new = X_test_new.reshape(-1, ORIGINAL_SHAPE[0],\n",
    "                                  ORIGINAL_SHAPE[1], ORIGINAL_SHAPE[2])"
   ]
  },
  {
   "cell_type": "code",
   "execution_count": 19,
   "metadata": {
    "colab": {
     "base_uri": "https://localhost:8080/",
     "height": 381
    },
    "id": "HW2g42ztDreL",
    "outputId": "6154e4d1-20d0-4c59-de89-f49665cae9db"
   },
   "outputs": [
    {
     "data": {
      "image/png": "[encoded data removed]",
      "text/plain": [
       "<Figure size 432x432 with 9 Axes>"
      ]
     },
     "metadata": {
      "tags": []
     },
     "output_type": "display_data"
    }
   ],
   "source": [
    "# Verify the resulting images\n",
    "show_images_grid(X_test_gaussian.reshape([-1, 64, 64]), num_images=9)"
   ]
  },
  {
   "cell_type": "code",
   "execution_count": 20,
   "metadata": {
    "colab": {
     "base_uri": "https://localhost:8080/"
    },
    "id": "sXCuUvE4DztN",
    "outputId": "1b627bdb-7ec6-4628-c0ae-d7a7c2bd15bb"
   },
   "outputs": [
    {
     "name": "stderr",
     "output_type": "stream",
     "text": [
      "WARNING:absl:Found untraced functions such as conv2d_9_layer_call_and_return_conditional_losses, conv2d_9_layer_call_fn, dropout_12_layer_call_and_return_conditional_losses, dropout_12_layer_call_fn, conv2d_10_layer_call_and_return_conditional_losses while saving (showing 5 of 50). These functions will not be directly callable after loading.\n",
      "WARNING:absl:Found untraced functions such as conv2d_9_layer_call_and_return_conditional_losses, conv2d_9_layer_call_fn, dropout_12_layer_call_and_return_conditional_losses, dropout_12_layer_call_fn, conv2d_10_layer_call_and_return_conditional_losses while saving (showing 5 of 50). These functions will not be directly callable after loading.\n"
     ]
    },
    {
     "name": "stdout",
     "output_type": "stream",
     "text": [
      "INFO:tensorflow:Assets written to: drive/My Drive/Colab Notebooks/explaining-dataset-shifts/models/gaussian_ffnn/assets\n"
     ]
    },
    {
     "name": "stderr",
     "output_type": "stream",
     "text": [
      "INFO:tensorflow:Assets written to: drive/My Drive/Colab Notebooks/explaining-dataset-shifts/models/gaussian_ffnn/assets\n"
     ]
    },
    {
     "name": "stdout",
     "output_type": "stream",
     "text": [
      "The accuracy of the FFNN domain classifier is 1.0.\n"
     ]
    },
    {
     "name": "stderr",
     "output_type": "stream",
     "text": [
      "WARNING:absl:Found untraced functions such as conv2d_15_layer_call_and_return_conditional_losses, conv2d_15_layer_call_fn, dropout_20_layer_call_and_return_conditional_losses, dropout_20_layer_call_fn, conv2d_16_layer_call_and_return_conditional_losses while saving (showing 5 of 50). These functions will not be directly callable after loading.\n",
      "WARNING:absl:Found untraced functions such as conv2d_15_layer_call_and_return_conditional_losses, conv2d_15_layer_call_fn, dropout_20_layer_call_and_return_conditional_losses, dropout_20_layer_call_fn, conv2d_16_layer_call_and_return_conditional_losses while saving (showing 5 of 50). These functions will not be directly callable after loading.\n"
     ]
    },
    {
     "name": "stdout",
     "output_type": "stream",
     "text": [
      "INFO:tensorflow:Assets written to: drive/My Drive/Colab Notebooks/explaining-dataset-shifts/models/gaussian_cbm/assets\n"
     ]
    },
    {
     "name": "stderr",
     "output_type": "stream",
     "text": [
      "INFO:tensorflow:Assets written to: drive/My Drive/Colab Notebooks/explaining-dataset-shifts/models/gaussian_cbm/assets\n"
     ]
    },
    {
     "name": "stdout",
     "output_type": "stream",
     "text": [
      "The accuracy of the CBM (sequential) domain classifier is 1.0.\n"
     ]
    }
   ],
   "source": [
    "# Train models (FFNN and CBM joint)\n",
    "# FFNN\n",
    "path = \"../../models/gaussian_ffnn\"\n",
    "_, ffnn_model = end_to_end_binary_classifier(dataset, X_train_new, y_train_new, X_val_new,\n",
    "                                             y_val_new, save_path=path)\n",
    "acc, _ = evaluate_binary_classifier(ClassifierTwoSampleTest.FFNN, ffnn_model, X_test_new,\n",
    "                                    y_test_new, ORIGINAL_SHAPE)\n",
    "print(f\"The accuracy of the FFNN domain classifier is {acc}.\")\n",
    "\n",
    "# CBM\n",
    "path = \"../../models/gaussian_cbm\"\n",
    "cbm_model = cbm_binary_classifier(dataset, ConceptBottleneckTraining.Joint, X_train_new,\n",
    "                                  c_train_new, y_train_new, X_val_new, c_val_new, y_val_new,\n",
    "                                  None, path)\n",
    "acc, _ = evaluate_binary_classifier(ClassifierTwoSampleTest.CBM, cbm_model, X_test_new,\n",
    "                                    y_test_new, ORIGINAL_SHAPE)\n",
    "print(f\"The accuracy of the CBM (joint) domain classifier is {acc}.\")"
   ]
  },
  {
   "cell_type": "markdown",
   "metadata": {
    "id": "EqIs1oCsB6EW"
   },
   "source": [
    "**Image shift**"
   ]
  },
  {
   "cell_type": "code",
   "execution_count": 21,
   "metadata": {
    "id": "Pz-VOT97B-Ya"
   },
   "outputs": [],
   "source": [
    "# Apply shifts\n",
    "X_test_image = deepcopy(X_test_flatten)\n",
    "X_test_image, y_test = apply_img_shift(X_test_image, y_test, ORIGINAL_SHAPE,\n",
    "                                           ShiftIntensity.Large, 1.0, ShiftType.All)\n",
    "\n",
    "# Generate domain classifier data\n",
    "X_train_new, y_train_new, c_train_new, X_val_new, y_val_new, c_val_new, X_test_new, y_test_new, c_test_new = generate_domain_classifier_data(X_train_flatten, y_train, c_train,\n",
    "                                                                                                                                             X_test_image, y_test, c_test)\n",
    "X_train_new = X_train_new.reshape(-1, ORIGINAL_SHAPE[0],\n",
    "                                  ORIGINAL_SHAPE[1], ORIGINAL_SHAPE[2])\n",
    "X_val_new = X_val_new.reshape(-1, ORIGINAL_SHAPE[0],\n",
    "                                  ORIGINAL_SHAPE[1], ORIGINAL_SHAPE[2])\n",
    "X_test_new = X_test_new.reshape(-1, ORIGINAL_SHAPE[0],\n",
    "                                  ORIGINAL_SHAPE[1], ORIGINAL_SHAPE[2])"
   ]
  },
  {
   "cell_type": "code",
   "execution_count": 22,
   "metadata": {
    "colab": {
     "base_uri": "https://localhost:8080/",
     "height": 381
    },
    "id": "_S5Pt9XOB-a8",
    "outputId": "c468a33d-bffb-499a-d11f-6cd8f6685a6e"
   },
   "outputs": [
    {
     "data": {
      "image/png": "[encoded data removed]",
      "text/plain": [
       "<Figure size 432x432 with 9 Axes>"
      ]
     },
     "metadata": {
      "tags": []
     },
     "output_type": "display_data"
    }
   ],
   "source": [
    "# Verify the resulting images\n",
    "show_images_grid(X_test_image.reshape([-1, 64, 64]), num_images=9)"
   ]
  },
  {
   "cell_type": "code",
   "execution_count": 23,
   "metadata": {
    "colab": {
     "base_uri": "https://localhost:8080/"
    },
    "id": "61-VksHy80tE",
    "outputId": "a47686e6-ecf2-4ebe-b62e-433cc24b6684"
   },
   "outputs": [
    {
     "name": "stderr",
     "output_type": "stream",
     "text": [
      "WARNING:absl:Found untraced functions such as conv2d_18_layer_call_and_return_conditional_losses, conv2d_18_layer_call_fn, dropout_24_layer_call_and_return_conditional_losses, dropout_24_layer_call_fn, conv2d_19_layer_call_and_return_conditional_losses while saving (showing 5 of 50). These functions will not be directly callable after loading.\n",
      "WARNING:absl:Found untraced functions such as conv2d_18_layer_call_and_return_conditional_losses, conv2d_18_layer_call_fn, dropout_24_layer_call_and_return_conditional_losses, dropout_24_layer_call_fn, conv2d_19_layer_call_and_return_conditional_losses while saving (showing 5 of 50). These functions will not be directly callable after loading.\n"
     ]
    },
    {
     "name": "stdout",
     "output_type": "stream",
     "text": [
      "INFO:tensorflow:Assets written to: drive/My Drive/Colab Notebooks/explaining-dataset-shifts/models/image_ffnn/assets\n"
     ]
    },
    {
     "name": "stderr",
     "output_type": "stream",
     "text": [
      "INFO:tensorflow:Assets written to: drive/My Drive/Colab Notebooks/explaining-dataset-shifts/models/image_ffnn/assets\n"
     ]
    },
    {
     "name": "stdout",
     "output_type": "stream",
     "text": [
      "The accuracy of the FFNN domain classifier is 0.9788888888888889.\n"
     ]
    },
    {
     "name": "stderr",
     "output_type": "stream",
     "text": [
      "WARNING:absl:Found untraced functions such as conv2d_24_layer_call_and_return_conditional_losses, conv2d_24_layer_call_fn, dropout_32_layer_call_and_return_conditional_losses, dropout_32_layer_call_fn, conv2d_25_layer_call_and_return_conditional_losses while saving (showing 5 of 50). These functions will not be directly callable after loading.\n",
      "WARNING:absl:Found untraced functions such as conv2d_24_layer_call_and_return_conditional_losses, conv2d_24_layer_call_fn, dropout_32_layer_call_and_return_conditional_losses, dropout_32_layer_call_fn, conv2d_25_layer_call_and_return_conditional_losses while saving (showing 5 of 50). These functions will not be directly callable after loading.\n"
     ]
    },
    {
     "name": "stdout",
     "output_type": "stream",
     "text": [
      "INFO:tensorflow:Assets written to: drive/My Drive/Colab Notebooks/explaining-dataset-shifts/models/image_cbm/assets\n"
     ]
    },
    {
     "name": "stderr",
     "output_type": "stream",
     "text": [
      "INFO:tensorflow:Assets written to: drive/My Drive/Colab Notebooks/explaining-dataset-shifts/models/image_cbm/assets\n"
     ]
    },
    {
     "name": "stdout",
     "output_type": "stream",
     "text": [
      "The accuracy of the CBM (joint) domain classifier is 0.9967407407407407.\n"
     ]
    }
   ],
   "source": [
    "# Train models (FFNN and CBM Joint)\n",
    "# FFNN\n",
    "path = \"../../models/image_ffnn\"\n",
    "_, ffnn_model = end_to_end_binary_classifier(dataset, X_train_new, y_train_new, X_val_new,\n",
    "                                             y_val_new, save_path=path)\n",
    "acc, _ = evaluate_binary_classifier(ClassifierTwoSampleTest.FFNN, ffnn_model, X_test_new,\n",
    "                                    y_test_new, ORIGINAL_SHAPE)\n",
    "print(f\"The accuracy of the FFNN domain classifier is {acc}.\")\n",
    "\n",
    "# CBM\n",
    "path = \"../../models/image_cbm\"\n",
    "cbm_model = cbm_binary_classifier(dataset, ConceptBottleneckTraining.Joint, X_train_new,\n",
    "                                  c_train_new, y_train_new, X_val_new, c_val_new, y_val_new,\n",
    "                                  None, path)\n",
    "acc, _ = evaluate_binary_classifier(ClassifierTwoSampleTest.CBM, cbm_model, X_test_new,\n",
    "                                    y_test_new, ORIGINAL_SHAPE)\n",
    "print(f\"The accuracy of the CBM (joint) domain classifier is {acc}.\")"
   ]
  },
  {
   "cell_type": "markdown",
   "metadata": {
    "id": "Y_pwNuOkB-9A"
   },
   "source": [
    "**Knockout shift**"
   ]
  },
  {
   "cell_type": "code",
   "execution_count": 24,
   "metadata": {
    "id": "O8nfz_l9CDBW"
   },
   "outputs": [],
   "source": [
    "X_ko, y_ko, c_ko = deepcopy(X_test_flatten), deepcopy(y_test), deepcopy(c_test)\n",
    "X_ko, y_ko, c_ko = apply_ko_shift(X_ko, y_ko, c_ko, ShiftIntensity.Large, cl=MAJORITY)\n",
    "\n",
    "# Generate domain classifier data\n",
    "X_train_new, y_train_new, c_train_new, X_val_new, y_val_new, c_val_new, X_test_new, y_test_new, c_test_new = generate_domain_classifier_data(X_train_flatten, y_train, c_train,\n",
    "                                                                                                                                             X_ko, y_ko, c_test)\n",
    "X_train_new = X_train_new.reshape(-1, ORIGINAL_SHAPE[0],\n",
    "                                  ORIGINAL_SHAPE[1], ORIGINAL_SHAPE[2])\n",
    "X_val_new = X_val_new.reshape(-1, ORIGINAL_SHAPE[0],\n",
    "                                  ORIGINAL_SHAPE[1], ORIGINAL_SHAPE[2])\n",
    "X_test_new = X_test_new.reshape(-1, ORIGINAL_SHAPE[0],\n",
    "                                  ORIGINAL_SHAPE[1], ORIGINAL_SHAPE[2])"
   ]
  },
  {
   "cell_type": "code",
   "execution_count": 25,
   "metadata": {
    "colab": {
     "base_uri": "https://localhost:8080/"
    },
    "id": "DZNO3xrcCDEb",
    "outputId": "89ddee30-eeff-4e9f-ab24-33913a93fa80"
   },
   "outputs": [
    {
     "data": {
      "text/plain": [
       "1    5017\n",
       "2    4892\n",
       "dtype: int64"
      ]
     },
     "execution_count": 25,
     "metadata": {
      "tags": []
     },
     "output_type": "execute_result"
    }
   ],
   "source": [
    "# Verify results\n",
    "pd.DataFrame(y_ko).value_counts()"
   ]
  },
  {
   "cell_type": "code",
   "execution_count": 26,
   "metadata": {
    "colab": {
     "base_uri": "https://localhost:8080/"
    },
    "id": "WfWnCHmwtIhP",
    "outputId": "3d74ca57-fd53-4cf8-d39b-7550c55a8cf7"
   },
   "outputs": [
    {
     "name": "stderr",
     "output_type": "stream",
     "text": [
      "WARNING:absl:Found untraced functions such as conv2d_27_layer_call_and_return_conditional_losses, conv2d_27_layer_call_fn, dropout_36_layer_call_and_return_conditional_losses, dropout_36_layer_call_fn, conv2d_28_layer_call_and_return_conditional_losses while saving (showing 5 of 50). These functions will not be directly callable after loading.\n",
      "WARNING:absl:Found untraced functions such as conv2d_27_layer_call_and_return_conditional_losses, conv2d_27_layer_call_fn, dropout_36_layer_call_and_return_conditional_losses, dropout_36_layer_call_fn, conv2d_28_layer_call_and_return_conditional_losses while saving (showing 5 of 50). These functions will not be directly callable after loading.\n"
     ]
    },
    {
     "name": "stdout",
     "output_type": "stream",
     "text": [
      "INFO:tensorflow:Assets written to: drive/My Drive/Colab Notebooks/explaining-dataset-shifts/models/ko_ffnn/assets\n"
     ]
    },
    {
     "name": "stderr",
     "output_type": "stream",
     "text": [
      "INFO:tensorflow:Assets written to: drive/My Drive/Colab Notebooks/explaining-dataset-shifts/models/ko_ffnn/assets\n"
     ]
    },
    {
     "name": "stdout",
     "output_type": "stream",
     "text": [
      "The accuracy of the FFNN domain classifier is 0.5414891231217762.\n"
     ]
    },
    {
     "name": "stderr",
     "output_type": "stream",
     "text": [
      "WARNING:absl:Found untraced functions such as conv2d_33_layer_call_and_return_conditional_losses, conv2d_33_layer_call_fn, dropout_44_layer_call_and_return_conditional_losses, dropout_44_layer_call_fn, conv2d_34_layer_call_and_return_conditional_losses while saving (showing 5 of 50). These functions will not be directly callable after loading.\n",
      "WARNING:absl:Found untraced functions such as conv2d_33_layer_call_and_return_conditional_losses, conv2d_33_layer_call_fn, dropout_44_layer_call_and_return_conditional_losses, dropout_44_layer_call_fn, conv2d_34_layer_call_and_return_conditional_losses while saving (showing 5 of 50). These functions will not be directly callable after loading.\n"
     ]
    },
    {
     "name": "stdout",
     "output_type": "stream",
     "text": [
      "INFO:tensorflow:Assets written to: drive/My Drive/Colab Notebooks/explaining-dataset-shifts/models/ko_cbm/assets\n"
     ]
    },
    {
     "name": "stderr",
     "output_type": "stream",
     "text": [
      "INFO:tensorflow:Assets written to: drive/My Drive/Colab Notebooks/explaining-dataset-shifts/models/ko_cbm/assets\n"
     ]
    },
    {
     "name": "stdout",
     "output_type": "stream",
     "text": [
      "The accuracy of the CBM (sequential) domain classifier is 0.5531509307019511.\n"
     ]
    }
   ],
   "source": [
    "# Train models (FFNN and CBM Sequential)\n",
    "# FFNN\n",
    "path = \"../../models/ko_ffnn\"\n",
    "_, ffnn_model = end_to_end_binary_classifier(dataset, X_train_new, y_train_new, X_val_new,\n",
    "                                             y_val_new, save_path=path)\n",
    "acc, _ = evaluate_binary_classifier(ClassifierTwoSampleTest.FFNN, ffnn_model, X_test_new,\n",
    "                                    y_test_new, ORIGINAL_SHAPE)\n",
    "print(f\"The accuracy of the FFNN domain classifier is {acc}.\")\n",
    "\n",
    "# CBM\n",
    "path = \"../../models/ko_cbm\"\n",
    "cbm_model = cbm_binary_classifier(dataset, ConceptBottleneckTraining.Joint, X_train_new,\n",
    "                                  c_train_new, y_train_new, X_val_new, c_val_new, y_val_new,\n",
    "                                  None, path)\n",
    "acc, _ = evaluate_binary_classifier(ClassifierTwoSampleTest.CBM, cbm_model, X_test_new,\n",
    "                                    y_test_new, ORIGINAL_SHAPE)\n",
    "print(f\"The accuracy of the CBM (sequential) domain classifier is {acc}.\")"
   ]
  },
  {
   "cell_type": "markdown",
   "metadata": {
    "id": "9IoyzyzMCDh4"
   },
   "source": [
    "**Concept shift**"
   ]
  },
  {
   "cell_type": "code",
   "execution_count": 27,
   "metadata": {
    "id": "rgG0PdqRCGdD"
   },
   "outputs": [],
   "source": [
    "X_cs, y_cs, c_cs = deepcopy(X_test_flatten), deepcopy(y_test), deepcopy(c_test)\n",
    "X_cs, y_cs, c_cs = apply_concept_shift(X_cs, y_cs, c_cs, 2, ShiftIntensity.Large, cl=MAJORITY)\n",
    "\n",
    "# Generate domain classifier data\n",
    "X_train_new, y_train_new, c_train_new, X_val_new, y_val_new, c_val_new, X_test_new, y_test_new, c_test_new = generate_domain_classifier_data(X_train_flatten, y_train, c_train,\n",
    "                                                                                                                                             X_cs, y_cs, c_cs)\n",
    "X_train_new = X_train_new.reshape(-1, ORIGINAL_SHAPE[0],\n",
    "                                  ORIGINAL_SHAPE[1], ORIGINAL_SHAPE[2])\n",
    "X_val_new = X_val_new.reshape(-1, ORIGINAL_SHAPE[0],\n",
    "                                  ORIGINAL_SHAPE[1], ORIGINAL_SHAPE[2])\n",
    "X_test_new = X_test_new.reshape(-1, ORIGINAL_SHAPE[0],\n",
    "                                  ORIGINAL_SHAPE[1], ORIGINAL_SHAPE[2])"
   ]
  },
  {
   "cell_type": "code",
   "execution_count": 28,
   "metadata": {
    "colab": {
     "base_uri": "https://localhost:8080/"
    },
    "id": "GOGWoGAsCGjg",
    "outputId": "f5e212b5-c14e-49b9-e900-1bbb3a89307c"
   },
   "outputs": [
    {
     "data": {
      "text/plain": [
       "1    2536\n",
       "2    2490\n",
       "5    2488\n",
       "0    2476\n",
       "3    2472\n",
       "dtype: int64"
      ]
     },
     "execution_count": 28,
     "metadata": {
      "tags": []
     },
     "output_type": "execute_result"
    }
   ],
   "source": [
    "# Verify results\n",
    "pd.DataFrame(c_cs[:,2]).value_counts()"
   ]
  },
  {
   "cell_type": "code",
   "execution_count": 29,
   "metadata": {
    "colab": {
     "base_uri": "https://localhost:8080/"
    },
    "id": "hcGe-WEJxFnw",
    "outputId": "01d83186-5710-4679-bd26-c52c4fcf2a5c"
   },
   "outputs": [
    {
     "name": "stderr",
     "output_type": "stream",
     "text": [
      "WARNING:absl:Found untraced functions such as conv2d_36_layer_call_and_return_conditional_losses, conv2d_36_layer_call_fn, dropout_48_layer_call_and_return_conditional_losses, dropout_48_layer_call_fn, conv2d_37_layer_call_and_return_conditional_losses while saving (showing 5 of 50). These functions will not be directly callable after loading.\n",
      "WARNING:absl:Found untraced functions such as conv2d_36_layer_call_and_return_conditional_losses, conv2d_36_layer_call_fn, dropout_48_layer_call_and_return_conditional_losses, dropout_48_layer_call_fn, conv2d_37_layer_call_and_return_conditional_losses while saving (showing 5 of 50). These functions will not be directly callable after loading.\n"
     ]
    },
    {
     "name": "stdout",
     "output_type": "stream",
     "text": [
      "INFO:tensorflow:Assets written to: drive/My Drive/Colab Notebooks/explaining-dataset-shifts/models/concept_ffnn/assets\n"
     ]
    },
    {
     "name": "stderr",
     "output_type": "stream",
     "text": [
      "INFO:tensorflow:Assets written to: drive/My Drive/Colab Notebooks/explaining-dataset-shifts/models/concept_ffnn/assets\n"
     ]
    },
    {
     "name": "stdout",
     "output_type": "stream",
     "text": [
      "The accuracy of the FFNN domain classifier is 0.517478152309613.\n"
     ]
    },
    {
     "name": "stderr",
     "output_type": "stream",
     "text": [
      "WARNING:absl:Found untraced functions such as conv2d_42_layer_call_and_return_conditional_losses, conv2d_42_layer_call_fn, dropout_56_layer_call_and_return_conditional_losses, dropout_56_layer_call_fn, conv2d_43_layer_call_and_return_conditional_losses while saving (showing 5 of 50). These functions will not be directly callable after loading.\n",
      "WARNING:absl:Found untraced functions such as conv2d_42_layer_call_and_return_conditional_losses, conv2d_42_layer_call_fn, dropout_56_layer_call_and_return_conditional_losses, dropout_56_layer_call_fn, conv2d_43_layer_call_and_return_conditional_losses while saving (showing 5 of 50). These functions will not be directly callable after loading.\n"
     ]
    },
    {
     "name": "stdout",
     "output_type": "stream",
     "text": [
      "INFO:tensorflow:Assets written to: drive/My Drive/Colab Notebooks/explaining-dataset-shifts/models/concept_cbm/assets\n"
     ]
    },
    {
     "name": "stderr",
     "output_type": "stream",
     "text": [
      "INFO:tensorflow:Assets written to: drive/My Drive/Colab Notebooks/explaining-dataset-shifts/models/concept_cbm/assets\n"
     ]
    },
    {
     "name": "stdout",
     "output_type": "stream",
     "text": [
      "The accuracy of the CBM (sequential) domain classifier is 0.5408418048867487.\n"
     ]
    }
   ],
   "source": [
    "# Train models (FFNN and CBM Sequential)\n",
    "# FFNN\n",
    "path = \"../../models/concept_ffnn\"\n",
    "_, ffnn_model = end_to_end_binary_classifier(dataset, X_train_new, y_train_new, X_val_new,\n",
    "                                             y_val_new, save_path=path)\n",
    "acc, _ = evaluate_binary_classifier(ClassifierTwoSampleTest.FFNN, ffnn_model, X_test_new,\n",
    "                                    y_test_new, ORIGINAL_SHAPE)\n",
    "print(f\"The accuracy of the FFNN domain classifier is {acc}.\")\n",
    "\n",
    "# CBM\n",
    "path = \"../../models/concept_cbm\"\n",
    "cbm_model = cbm_binary_classifier(dataset, ConceptBottleneckTraining.Joint, X_train_new,\n",
    "                                  c_train_new, y_train_new, X_val_new, c_val_new, y_val_new,\n",
    "                                  None, path)\n",
    "acc, _ = evaluate_binary_classifier(ClassifierTwoSampleTest.CBM, cbm_model, X_test_new,\n",
    "                                    y_test_new, ORIGINAL_SHAPE)\n",
    "print(f\"The accuracy of the CBM (sequential) domain classifier is {acc}.\")"
   ]
  },
  {
   "cell_type": "markdown",
   "metadata": {
    "id": "UFsYAbifCHAi"
   },
   "source": [
    "**Adversarial shift**"
   ]
  },
  {
   "cell_type": "code",
   "execution_count": 30,
   "metadata": {
    "id": "beD0eE5TCJ7z"
   },
   "outputs": [],
   "source": [
    "X_adv, y_adv = deepcopy(X_test_flatten), deepcopy(y_test)\n",
    "X_adv, y_adv = apply_adversarial_shift(X_adv, y_adv, adv_samples, range(len(X_adv)), ShiftIntensity.Large)\n",
    "\n",
    "# Generate domain classifier data\n",
    "X_train_new, y_train_new, c_train_new, X_val_new, y_val_new, c_val_new, X_test_new, y_test_new, c_test_new = generate_domain_classifier_data(X_train_flatten, y_train, c_train,\n",
    "                                                                                                                                             X_adv, y_adv, c_test)\n",
    "X_train_new = X_train_new.reshape(-1, ORIGINAL_SHAPE[0],\n",
    "                                  ORIGINAL_SHAPE[1], ORIGINAL_SHAPE[2])\n",
    "X_val_new = X_val_new.reshape(-1, ORIGINAL_SHAPE[0],\n",
    "                                  ORIGINAL_SHAPE[1], ORIGINAL_SHAPE[2])\n",
    "X_test_new = X_test_new.reshape(-1, ORIGINAL_SHAPE[0],\n",
    "                                  ORIGINAL_SHAPE[1], ORIGINAL_SHAPE[2])"
   ]
  },
  {
   "cell_type": "code",
   "execution_count": 31,
   "metadata": {
    "colab": {
     "base_uri": "https://localhost:8080/",
     "height": 381
    },
    "id": "PPRJcCXJCJ9_",
    "outputId": "b08c314a-0766-4048-cad0-2501472f1778"
   },
   "outputs": [
    {
     "data": {
      "image/png": "[encoded data removed]",
      "text/plain": [
       "<Figure size 432x432 with 9 Axes>"
      ]
     },
     "metadata": {
      "tags": []
     },
     "output_type": "display_data"
    }
   ],
   "source": [
    "# Verify the resulting images\n",
    "show_images_grid(X_adv.reshape([-1, 64, 64]), num_images=9)"
   ]
  },
  {
   "cell_type": "code",
   "execution_count": 32,
   "metadata": {
    "colab": {
     "base_uri": "https://localhost:8080/"
    },
    "id": "AuBgxCALxO9E",
    "outputId": "1105662c-d8f3-47cf-bdd6-140df9fa1042"
   },
   "outputs": [
    {
     "name": "stderr",
     "output_type": "stream",
     "text": [
      "WARNING:absl:Found untraced functions such as conv2d_45_layer_call_and_return_conditional_losses, conv2d_45_layer_call_fn, dropout_60_layer_call_and_return_conditional_losses, dropout_60_layer_call_fn, conv2d_46_layer_call_and_return_conditional_losses while saving (showing 5 of 50). These functions will not be directly callable after loading.\n",
      "WARNING:absl:Found untraced functions such as conv2d_45_layer_call_and_return_conditional_losses, conv2d_45_layer_call_fn, dropout_60_layer_call_and_return_conditional_losses, dropout_60_layer_call_fn, conv2d_46_layer_call_and_return_conditional_losses while saving (showing 5 of 50). These functions will not be directly callable after loading.\n"
     ]
    },
    {
     "name": "stdout",
     "output_type": "stream",
     "text": [
      "INFO:tensorflow:Assets written to: drive/My Drive/Colab Notebooks/explaining-dataset-shifts/models/adversarial_ffnn/assets\n"
     ]
    },
    {
     "name": "stderr",
     "output_type": "stream",
     "text": [
      "INFO:tensorflow:Assets written to: drive/My Drive/Colab Notebooks/explaining-dataset-shifts/models/adversarial_ffnn/assets\n"
     ]
    },
    {
     "name": "stdout",
     "output_type": "stream",
     "text": [
      "The accuracy of the FFNN domain classifier is 0.9842962962962963.\n"
     ]
    },
    {
     "name": "stderr",
     "output_type": "stream",
     "text": [
      "WARNING:absl:Found untraced functions such as conv2d_51_layer_call_and_return_conditional_losses, conv2d_51_layer_call_fn, dropout_68_layer_call_and_return_conditional_losses, dropout_68_layer_call_fn, conv2d_52_layer_call_and_return_conditional_losses while saving (showing 5 of 50). These functions will not be directly callable after loading.\n",
      "WARNING:absl:Found untraced functions such as conv2d_51_layer_call_and_return_conditional_losses, conv2d_51_layer_call_fn, dropout_68_layer_call_and_return_conditional_losses, dropout_68_layer_call_fn, conv2d_52_layer_call_and_return_conditional_losses while saving (showing 5 of 50). These functions will not be directly callable after loading.\n"
     ]
    },
    {
     "name": "stdout",
     "output_type": "stream",
     "text": [
      "INFO:tensorflow:Assets written to: drive/My Drive/Colab Notebooks/explaining-dataset-shifts/models/adversarial_cbm/assets\n"
     ]
    },
    {
     "name": "stderr",
     "output_type": "stream",
     "text": [
      "INFO:tensorflow:Assets written to: drive/My Drive/Colab Notebooks/explaining-dataset-shifts/models/adversarial_cbm/assets\n"
     ]
    },
    {
     "name": "stdout",
     "output_type": "stream",
     "text": [
      "The accuracy of the CBM (sequential) domain classifier is 0.9849629629629629.\n"
     ]
    }
   ],
   "source": [
    "# Train models (FFNN and CBM Sequential)\n",
    "# FFNN\n",
    "path = \"../../models/adversarial_ffnn\"\n",
    "_, ffnn_model = end_to_end_binary_classifier(dataset, X_train_new, y_train_new, X_val_new,\n",
    "                                             y_val_new, save_path=path)\n",
    "acc, _ = evaluate_binary_classifier(ClassifierTwoSampleTest.FFNN, ffnn_model, X_test_new,\n",
    "                                    y_test_new, ORIGINAL_SHAPE)\n",
    "print(f\"The accuracy of the FFNN domain classifier is {acc}.\")\n",
    "\n",
    "# CBM\n",
    "path = \"../../models/adversarial_cbm\"\n",
    "cbm_model = cbm_binary_classifier(dataset, ConceptBottleneckTraining.Joint, X_train_new,\n",
    "                                  c_train_new, y_train_new, X_val_new, c_val_new, y_val_new,\n",
    "                                  None, path)\n",
    "acc, _ = evaluate_binary_classifier(ClassifierTwoSampleTest.CBM, cbm_model, X_test_new,\n",
    "                                    y_test_new, ORIGINAL_SHAPE)\n",
    "print(f\"The accuracy of the CBM (sequential) domain classifier is {acc}.\")"
   ]
  }
 ],
 "metadata": {
  "accelerator": "GPU",
  "colab": {
   "collapsed_sections": [
    "EZZZNQU7CuuG",
    "lX7jKJvtJkCK",
    "-ItiyhOe5VGw",
    "ew9uin2I5m3H"
   ],
   "machine_shape": "hm",
   "name": "domain_classifier_data_collection.ipynb",
   "provenance": []
  },
  "kernelspec": {
   "display_name": "Python 3",
   "language": "python",
   "name": "python3"
  },
  "language_info": {
   "codemirror_mode": {
    "name": "ipython",
    "version": 3
   },
   "file_extension": ".py",
   "mimetype": "text/x-python",
   "name": "python",
   "nbconvert_exporter": "python",
   "pygments_lexer": "ipython3",
   "version": "3.7.6"
  }
 },
 "nbformat": 4,
 "nbformat_minor": 1
}
