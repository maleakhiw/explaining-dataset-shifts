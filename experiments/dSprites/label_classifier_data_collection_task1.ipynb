{
 "cells": [
  {
   "cell_type": "markdown",
   "metadata": {},
   "source": [
    "# Label classifier (dSprites): data collection\n",
    "\n",
    "## Task 1\n",
    "\n",
    "**Author**: Maleakhi A. Wijaya  \n",
    "**Description**: This notebook contains code used to collect experimentation data. We compare the performance of methods discussed in Rabanset et al. against our proposed CBSD method. The end-to-end task for task 1 is to predict the shape given sprites as inputs."
   ]
  },
  {
   "cell_type": "code",
   "execution_count": 1,
   "metadata": {},
   "outputs": [],
   "source": [
    "# Load utilities functions\n",
    "%run ../../scripts/constants.py\n",
    "%run ../../scripts/dsprites_utils.py\n",
    "%run ../../scripts/shift_applicator.py\n",
    "%run ../../scripts/shift_dimensionality_reductor.py\n",
    "%run ../../scripts/experiment_utils.py\n",
    "%run ../../scripts/shift_statistical_test.py"
   ]
  },
  {
   "cell_type": "code",
   "execution_count": 2,
   "metadata": {},
   "outputs": [],
   "source": [
    "## Random seed\n",
    "SEED = 20\n",
    "np.random.seed(SEED)\n",
    "tf.random.set_seed(SEED)"
   ]
  },
  {
   "cell_type": "markdown",
   "metadata": {},
   "source": [
    "## Load dataset"
   ]
  },
  {
   "cell_type": "code",
   "execution_count": null,
   "metadata": {},
   "outputs": [],
   "source": [
    "path = \"../../data/dsprites_ndarray_co1sh3sc6or40x32y32_64x64.npz\"\n",
    "X_train, X_test, y_train, y_test, c_train, c_test = load_dsprites(path, 100000, DatasetTask.Task1, train_size=0.85, class_index=1)\n",
    "n_classes_shape = 3\n",
    "concept_names = [\"color\", \"shape\", \"scale\", \"rotation\", \"x\", \"y\"]\n",
    "concept_values = get_latent_sizes()\n",
    "\n",
    "# Split training into validation set as well \n",
    "X_train, X_valid = X_train[:70000], X_train[70000:]\n",
    "y_train, y_valid = y_train[:70000], y_train[70000:]\n",
    "c_train, c_valid = c_train[:70000], c_train[70000:]"
   ]
  },
  {
   "cell_type": "code",
   "execution_count": 4,
   "metadata": {},
   "outputs": [],
   "source": [
    "# Reshape to appropriate shift input\n",
    "# It is noteworthy that for efficiency, we represent the images as only 2 dimension\n",
    "# when we preprocessing (number of instances/ batch size * flatten size).\n",
    "# When visualising back the image, we need to reshape it back to the original dimension\n",
    "ORIGINAL_SHAPE = X_test.shape[1:] # constant hold the image original shape\n",
    "X_test_flatten = deepcopy(X_test.reshape(X_test.shape[0], -1))\n",
    "X_train_flatten = deepcopy(X_train.reshape(X_train.shape[0], -1))\n",
    "X_valid_flatten = deepcopy(X_valid.reshape(X_valid.shape[0], -1))"
   ]
  },
  {
   "cell_type": "markdown",
   "metadata": {},
   "source": [
    "## Dimensionality reduction\n",
    "\n",
    "We implemented various dimensionality reduction methods, amounting to:\n",
    "- End to end model (label classifiers/ BBSD)\n",
    "- Concept bottleneck model (CBSD)\n",
    "- Trained and untrained autoencoders (TAE and UAE)\n",
    "- Principal component analysis (PCA)\n",
    "- Sparse random projection (SRP)"
   ]
  },
  {
   "cell_type": "markdown",
   "metadata": {},
   "source": [
    "### End-to-end model"
   ]
  },
  {
   "cell_type": "code",
   "execution_count": 7,
   "metadata": {},
   "outputs": [],
   "source": [
    "path = \"../../models/end_to_end_dsprites_task1\"\n",
    "# For training and saving\n",
    "# histories, end_to_end_model = end_to_end_neural_network(n_classes_shape, Dataset.DSPRITES, \n",
    "#                          X_train, y_train, X_valid, y_valid,\n",
    "#                          path)\n",
    "\n",
    "# For loading\n",
    "end_to_end_model = tf.keras.models.load_model(path)"
   ]
  },
  {
   "cell_type": "code",
   "execution_count": 8,
   "metadata": {
    "collapsed": true
   },
   "outputs": [
    {
     "name": "stdout",
     "output_type": "stream",
     "text": [
      "              precision    recall  f1-score   support\n",
      "\n",
      "           0       1.00      1.00      1.00      5091\n",
      "           1       1.00      1.00      1.00      5017\n",
      "           2       1.00      1.00      1.00      4892\n",
      "\n",
      "    accuracy                           1.00     15000\n",
      "   macro avg       1.00      1.00      1.00     15000\n",
      "weighted avg       1.00      1.00      1.00     15000\n",
      "\n"
     ]
    }
   ],
   "source": [
    "# Evaluate model\n",
    "y_pred = end_to_end_model.predict(X_test)\n",
    "y_pred = np.argmax(y_pred, axis=1)\n",
    "print(classification_report(y_test, y_pred))"
   ]
  },
  {
   "cell_type": "markdown",
   "metadata": {},
   "source": [
    "### Concept bottleneck model"
   ]
  },
  {
   "cell_type": "markdown",
   "metadata": {},
   "source": [
    "**Input to Concept**"
   ]
  },
  {
   "cell_type": "code",
   "execution_count": 5,
   "metadata": {},
   "outputs": [],
   "source": [
    "path = \"../../models/multitask_dsprites\"\n",
    "# For training and saving\n",
    "# histories, mt_model = multitask_model(Dataset.DSPRITES,\n",
    "#                                             X_train, c_train,\n",
    "#                                             X_valid, c_valid)\n",
    "\n",
    "# For loading\n",
    "mt_model = tf.keras.models.load_model(path)"
   ]
  },
  {
   "cell_type": "code",
   "execution_count": 6,
   "metadata": {
    "collapsed": true
   },
   "outputs": [
    {
     "name": "stdout",
     "output_type": "stream",
     "text": [
      "******************** Model: color ********************\n",
      "              precision    recall  f1-score   support\n",
      "\n",
      "           0       1.00      1.00      1.00     15000\n",
      "\n",
      "    accuracy                           1.00     15000\n",
      "   macro avg       1.00      1.00      1.00     15000\n",
      "weighted avg       1.00      1.00      1.00     15000\n",
      "\n",
      "\n",
      "\n",
      "\n",
      "******************** Model: shape ********************\n",
      "              precision    recall  f1-score   support\n",
      "\n",
      "           0       1.00      1.00      1.00      5091\n",
      "           1       1.00      1.00      1.00      5017\n",
      "           2       1.00      1.00      1.00      4892\n",
      "\n",
      "    accuracy                           1.00     15000\n",
      "   macro avg       1.00      1.00      1.00     15000\n",
      "weighted avg       1.00      1.00      1.00     15000\n",
      "\n",
      "\n",
      "\n",
      "\n",
      "******************** Model: scale ********************\n",
      "              precision    recall  f1-score   support\n",
      "\n",
      "           0       1.00      1.00      1.00      2476\n",
      "           1       1.00      1.00      1.00      2536\n",
      "           2       1.00      1.00      1.00      2490\n",
      "           3       1.00      1.00      1.00      2472\n",
      "           4       1.00      1.00      1.00      2538\n",
      "           5       1.00      1.00      1.00      2488\n",
      "\n",
      "    accuracy                           1.00     15000\n",
      "   macro avg       1.00      1.00      1.00     15000\n",
      "weighted avg       1.00      1.00      1.00     15000\n",
      "\n",
      "\n",
      "\n",
      "\n",
      "******************** Model: rotation ********************\n",
      "              precision    recall  f1-score   support\n",
      "\n",
      "           0       0.35      0.44      0.39       424\n",
      "           1       0.41      0.52      0.46       354\n",
      "           2       0.61      0.66      0.64       394\n",
      "           3       0.62      0.49      0.55       370\n",
      "           4       0.45      0.75      0.56       373\n",
      "           5       0.46      0.52      0.49       375\n",
      "           6       0.72      0.54      0.62       385\n",
      "           7       0.52      0.65      0.58       363\n",
      "           8       0.68      0.66      0.67       343\n",
      "           9       0.61      0.43      0.50       389\n",
      "          10       0.38      0.43      0.40       403\n",
      "          11       0.52      0.44      0.47       349\n",
      "          12       0.69      0.59      0.63       372\n",
      "          13       0.59      0.51      0.55       377\n",
      "          14       0.51      0.58      0.54       362\n",
      "          15       0.56      0.49      0.52       379\n",
      "          16       0.68      0.56      0.61       367\n",
      "          17       0.54      0.53      0.54       367\n",
      "          18       0.75      0.57      0.65       399\n",
      "          19       0.51      0.52      0.51       376\n",
      "          20       0.32      0.53      0.40       369\n",
      "          21       0.58      0.53      0.56       386\n",
      "          22       0.63      0.61      0.62       361\n",
      "          23       0.47      0.70      0.57       372\n",
      "          24       0.47      0.57      0.51       394\n",
      "          25       0.67      0.42      0.52       348\n",
      "          26       0.55      0.64      0.59       403\n",
      "          27       0.68      0.63      0.65       358\n",
      "          28       0.73      0.60      0.66       389\n",
      "          29       0.41      0.27      0.32       373\n",
      "          30       0.40      0.48      0.44       387\n",
      "          31       0.57      0.68      0.62       379\n",
      "          32       0.62      0.58      0.60       372\n",
      "          33       0.46      0.58      0.51       381\n",
      "          34       0.37      0.40      0.38       381\n",
      "          35       0.73      0.53      0.61       409\n",
      "          36       0.59      0.57      0.58       343\n",
      "          37       0.69      0.55      0.61       356\n",
      "          38       0.71      0.40      0.51       351\n",
      "          39       0.33      0.20      0.25       367\n",
      "\n",
      "    accuracy                           0.53     15000\n",
      "   macro avg       0.55      0.53      0.53     15000\n",
      "weighted avg       0.55      0.53      0.53     15000\n",
      "\n",
      "\n",
      "\n",
      "\n",
      "******************** Model: x ********************\n",
      "              precision    recall  f1-score   support\n",
      "\n",
      "           0       0.94      0.90      0.92       482\n",
      "           1       0.82      0.91      0.86       464\n",
      "           2       0.90      0.85      0.88       479\n",
      "           3       0.87      0.88      0.87       475\n",
      "           4       0.88      0.87      0.88       466\n",
      "           5       0.87      0.89      0.88       473\n",
      "           6       0.87      0.84      0.86       482\n",
      "           7       0.86      0.83      0.84       463\n",
      "           8       0.85      0.86      0.85       466\n",
      "           9       0.85      0.85      0.85       501\n",
      "          10       0.85      0.84      0.84       503\n",
      "          11       0.87      0.89      0.88       486\n",
      "          12       0.86      0.88      0.87       454\n",
      "          13       0.88      0.85      0.86       466\n",
      "          14       0.90      0.88      0.89       435\n",
      "          15       0.88      0.87      0.87       476\n",
      "          16       0.85      0.89      0.87       474\n",
      "          17       0.88      0.86      0.87       479\n",
      "          18       0.88      0.88      0.88       465\n",
      "          19       0.86      0.84      0.85       488\n",
      "          20       0.82      0.86      0.84       458\n",
      "          21       0.86      0.89      0.87       463\n",
      "          22       0.87      0.85      0.86       461\n",
      "          23       0.84      0.81      0.83       434\n",
      "          24       0.87      0.84      0.86       489\n",
      "          25       0.83      0.93      0.88       470\n",
      "          26       0.87      0.87      0.87       443\n",
      "          27       0.86      0.85      0.85       486\n",
      "          28       0.86      0.85      0.85       491\n",
      "          29       0.90      0.83      0.86       483\n",
      "          30       0.83      0.89      0.86       439\n",
      "          31       0.92      0.92      0.92       406\n",
      "\n",
      "    accuracy                           0.87     15000\n",
      "   macro avg       0.87      0.87      0.87     15000\n",
      "weighted avg       0.87      0.87      0.87     15000\n",
      "\n",
      "\n",
      "\n",
      "\n",
      "******************** Model: y ********************\n",
      "              precision    recall  f1-score   support\n",
      "\n",
      "           0       0.95      0.91      0.93       478\n",
      "           1       0.84      0.92      0.88       483\n",
      "           2       0.89      0.85      0.87       501\n",
      "           3       0.86      0.88      0.87       476\n",
      "           4       0.91      0.87      0.89       466\n",
      "           5       0.88      0.86      0.87       481\n",
      "           6       0.85      0.86      0.85       398\n",
      "           7       0.86      0.88      0.87       469\n",
      "           8       0.85      0.83      0.84       460\n",
      "           9       0.86      0.89      0.87       473\n",
      "          10       0.87      0.90      0.89       452\n",
      "          11       0.91      0.89      0.90       443\n",
      "          12       0.93      0.91      0.92       499\n",
      "          13       0.89      0.86      0.88       473\n",
      "          14       0.83      0.85      0.84       464\n",
      "          15       0.90      0.89      0.89       485\n",
      "          16       0.90      0.93      0.92       466\n",
      "          17       0.92      0.88      0.90       464\n",
      "          18       0.90      0.88      0.89       471\n",
      "          19       0.85      0.91      0.88       432\n",
      "          20       0.90      0.90      0.90       459\n",
      "          21       0.90      0.91      0.91       493\n",
      "          22       0.88      0.83      0.86       458\n",
      "          23       0.85      0.88      0.87       492\n",
      "          24       0.88      0.87      0.88       480\n",
      "          25       0.87      0.89      0.88       449\n",
      "          26       0.88      0.86      0.87       474\n",
      "          27       0.85      0.86      0.86       463\n",
      "          28       0.90      0.90      0.90       487\n",
      "          29       0.85      0.89      0.87       474\n",
      "          30       0.87      0.83      0.85       503\n",
      "          31       0.92      0.94      0.93       434\n",
      "\n",
      "    accuracy                           0.88     15000\n",
      "   macro avg       0.88      0.88      0.88     15000\n",
      "weighted avg       0.88      0.88      0.88     15000\n",
      "\n",
      "\n",
      "\n",
      "\n"
     ]
    }
   ],
   "source": [
    "# Evaluate model\n",
    "for i, pred in enumerate(mt_model.predict(X_test)):\n",
    "    print(\"*\"*20, f\"Model: {DSPRITES_CONCEPT_NAMES[i]}\", \"*\"*20)\n",
    "    c_truth = c_test[:, i]\n",
    "    c_pred = np.argmax(pred, axis=1)\n",
    "    \n",
    "    print(classification_report(c_truth, c_pred))\n",
    "    print(\"\\n\\n\")"
   ]
  },
  {
   "cell_type": "markdown",
   "metadata": {},
   "source": [
    "**Concept to Output**"
   ]
  },
  {
   "cell_type": "code",
   "execution_count": 24,
   "metadata": {
    "scrolled": true
   },
   "outputs": [
    {
     "data": {
      "text/plain": [
       "LogisticRegression()"
      ]
     },
     "execution_count": 24,
     "metadata": {},
     "output_type": "execute_result"
    }
   ],
   "source": [
    "# Build and train model. For simplicity, we used logistic regression\n",
    "# although can be substituted using other model.\n",
    "com = LogisticRegression()\n",
    "com.fit(c_train, y_train)"
   ]
  },
  {
   "cell_type": "code",
   "execution_count": 25,
   "metadata": {
    "collapsed": true
   },
   "outputs": [
    {
     "name": "stdout",
     "output_type": "stream",
     "text": [
      "              precision    recall  f1-score   support\n",
      "\n",
      "           0       1.00      1.00      1.00      5091\n",
      "           1       1.00      1.00      1.00      5017\n",
      "           2       1.00      1.00      1.00      4892\n",
      "\n",
      "    accuracy                           1.00     15000\n",
      "   macro avg       1.00      1.00      1.00     15000\n",
      "weighted avg       1.00      1.00      1.00     15000\n",
      "\n",
      "[[5091    0    0]\n",
      " [   0 5017    0]\n",
      " [   0    0 4892]]\n"
     ]
    }
   ],
   "source": [
    "y_test_pred = com.predict(c_test)\n",
    "print(classification_report(y_test_pred, y_test))\n",
    "print(confusion_matrix(y_test_pred, y_test))"
   ]
  },
  {
   "cell_type": "markdown",
   "metadata": {},
   "source": [
    "### Principal component analysis"
   ]
  },
  {
   "cell_type": "code",
   "execution_count": 5,
   "metadata": {},
   "outputs": [
    {
     "name": "stdout",
     "output_type": "stream",
     "text": [
      "The number of components to explain 80% of variance is 42.\n"
     ]
    }
   ],
   "source": [
    "pca, n_components = principal_components_analysis(X_train_flatten)\n",
    "print(f\"The number of components to explain 80% of variance is {n_components}.\")"
   ]
  },
  {
   "cell_type": "markdown",
   "metadata": {},
   "source": [
    "### Sparse random projection"
   ]
  },
  {
   "cell_type": "code",
   "execution_count": 12,
   "metadata": {},
   "outputs": [
    {
     "name": "stdout",
     "output_type": "stream",
     "text": [
      "The number of components to explain 80% of variance is 42.\n"
     ]
    }
   ],
   "source": [
    "srp, n_components = sparse_random_projection(X_train_flatten)\n",
    "print(f\"The number of components to explain 80% of variance is {n_components}.\")"
   ]
  },
  {
   "cell_type": "markdown",
   "metadata": {},
   "source": [
    "### Autoencoder"
   ]
  },
  {
   "cell_type": "code",
   "execution_count": 13,
   "metadata": {
    "collapsed": true
   },
   "outputs": [
    {
     "name": "stdout",
     "output_type": "stream",
     "text": [
      "WARNING:tensorflow:No training configuration found in save file, so the model was *not* compiled. Compile it manually.\n",
      "WARNING:tensorflow:No training configuration found in save file, so the model was *not* compiled. Compile it manually.\n"
     ]
    }
   ],
   "source": [
    "# The following are path to untrained and trained autoencoders\n",
    "# (only the encoder)\n",
    "path_uae = \"../../models/uae_dsprites\"\n",
    "path_tae = \"../../models/tae_dsprites\"\n",
    "\n",
    "# (both encoder and decoder)\n",
    "path_full_uae = \"../../models/uae_full_dsprites\"\n",
    "path_full_tae = \"../../models/tae_full_dsprites\"\n",
    "\n",
    "# Train and save untrained autoencoder\n",
    "# u_encoder, u_autoenc = autoencoder(Dataset.DSPRITES, \n",
    "#                                    X_train_flatten, X_valid_flatten,\n",
    "#                                   ORIGINAL_SHAPE, train=False)\n",
    "# u_encoder.save(path_uae)\n",
    "# u_autoenc.save(path_full_uae)\n",
    "\n",
    "# Train and save trained autoencoder\n",
    "# encoder, autoenc = autoencoder(Dataset.DSPRITES,\n",
    "#                                X_train_flatten, X_valid_flatten,\n",
    "#                               ORIGINAL_SHAPE, train=True)\n",
    "# encoder.save(path_tae)\n",
    "# autoenc.save(path_full_tae)\n",
    "\n",
    "## For loading\n",
    "u_encoder = tf.keras.models.load_model(path_uae)\n",
    "u_autoenc = tf.keras.models.load_model(path_full_uae)\n",
    "\n",
    "encoder = tf.keras.models.load_model(path_tae)\n",
    "autoenc = tf.keras.models.load_model(path_full_tae)"
   ]
  },
  {
   "cell_type": "code",
   "execution_count": 27,
   "metadata": {
    "collapsed": true
   },
   "outputs": [
    {
     "name": "stdout",
     "output_type": "stream",
     "text": [
      "Trained AE\n"
     ]
    },
    {
     "data": {
      "image/png": "[encoded data removed]",
      "text/plain": [
       "<Figure size 1440x288 with 20 Axes>"
      ]
     },
     "metadata": {
      "needs_background": "light"
     },
     "output_type": "display_data"
    },
    {
     "name": "stdout",
     "output_type": "stream",
     "text": [
      "\n",
      "Untrained AE\n"
     ]
    },
    {
     "data": {
      "image/png": "[encoded data removed]",
      "text/plain": [
       "<Figure size 1440x288 with 20 Axes>"
      ]
     },
     "metadata": {
      "needs_background": "light"
     },
     "output_type": "display_data"
    }
   ],
   "source": [
    "# Visualise results\n",
    "# Trained autoencoder\n",
    "print(\"Trained AE\")\n",
    "verify_autoencoder(autoenc, X_test)\n",
    "\n",
    "print(\"\\nUntrained AE\")\n",
    "verify_autoencoder(u_autoenc, X_test)"
   ]
  },
  {
   "cell_type": "markdown",
   "metadata": {},
   "source": [
    "## Data collection\n",
    "\n",
    "This section performs various experiments to collect data. We consider various dimensionality reduced methods discussed in the paper and thesis."
   ]
  },
  {
   "cell_type": "markdown",
   "metadata": {},
   "source": [
    "### PCA"
   ]
  },
  {
   "cell_type": "code",
   "execution_count": 6,
   "metadata": {},
   "outputs": [],
   "source": [
    "method = DimensionalityReductor.PCA\n",
    "model = pca\n",
    "method_str = \"PCA\""
   ]
  },
  {
   "cell_type": "markdown",
   "metadata": {},
   "source": [
    "#### Knockout shift"
   ]
  },
  {
   "cell_type": "code",
   "execution_count": 7,
   "metadata": {},
   "outputs": [],
   "source": [
    "shift_type = ShiftType.Knockout\n",
    "shift_type_params = {\"cl\": MAJORITY}\n",
    "shift_str = \"ko\""
   ]
  },
  {
   "cell_type": "code",
   "execution_count": 8,
   "metadata": {},
   "outputs": [],
   "source": [
    "dict_result = main_experiment(model, method, X_valid, y_valid,\n",
    "                             c_valid, X_test_flatten, y_test, c_test,\n",
    "                             shift_type, ORIGINAL_SHAPE, n_classes_shape,\n",
    "                             concept_names, concept_values, \n",
    "                             shift_type_params, n_exp=100, n_std=5)"
   ]
  },
  {
   "cell_type": "code",
   "execution_count": 9,
   "metadata": {},
   "outputs": [
    {
     "name": "stdout",
     "output_type": "stream",
     "text": [
      "Saving successfully.\n"
     ]
    }
   ],
   "source": [
    "# Save file\n",
    "save_result(shift_str, method_str, dict_result)"
   ]
  },
  {
   "cell_type": "markdown",
   "metadata": {},
   "source": [
    "#### Concept shifts\n",
    "\n",
    "We consider the following concept shift combinations:\n",
    "- scale\n",
    "- scale + shape\n",
    "- position x\n",
    "- position y\n",
    "- position x + position y\n",
    "- position x + position y + scale"
   ]
  },
  {
   "cell_type": "code",
   "execution_count": null,
   "metadata": {},
   "outputs": [],
   "source": [
    "shift_type = ShiftType.Concept\n",
    "\n",
    "list_shift_str = [\n",
    "    \"scale\",\n",
    "    \"scale_shape\",\n",
    "    \"x\",\n",
    "    \"y\",\n",
    "    \"x_y\",\n",
    "    \"x_y_scale\"\n",
    "]\n",
    "\n",
    "list_shift_type_params = [\n",
    "    {\"cl\": MAJORITY, \"concept_idx\": 2}, # scale is index 2 in the concept names\n",
    "    [{\"cl\": MAJORITY, \"concept_idx\": 2}, {\"cl\": MAJORITY, \"concept_idx\": 1}],\n",
    "    {\"cl\": MAJORITY, \"concept_idx\": 4},\n",
    "    {\"cl\": MAJORITY, \"concept_idx\": 5},\n",
    "    [{\"cl\": MAJORITY, \"concept_idx\": 4}, {\"cl\": MAJORITY, \"concept_idx\": 5}],\n",
    "    [{\"cl\": MAJORITY, \"concept_idx\": 2}, {\"cl\": MAJORITY, \"concept_idx\": 4}, {\"cl\": MAJORITY, \"concept_idx\": 5}],    \n",
    "]"
   ]
  },
  {
   "cell_type": "code",
   "execution_count": null,
   "metadata": {},
   "outputs": [],
   "source": [
    "for shift_str, shift_type_params in tqdm(zip(list_shift_str, list_shift_type_params)):\n",
    "    dict_result = main_experiment(model, method, X_valid, y_valid,\n",
    "                             c_valid, X_test_flatten, y_test, c_test,\n",
    "                             shift_type, ORIGINAL_SHAPE, n_classes_shape,\n",
    "                             concept_names, concept_values, \n",
    "                             shift_type_params, n_exp=100, n_std=2)\n",
    "    \n",
    "    # Save\n",
    "    save_result(shift_str, method_str, dict_result)"
   ]
  },
  {
   "cell_type": "markdown",
   "metadata": {},
   "source": [
    "#### Image shifts\n",
    "\n",
    "We consider the following image shifts:\n",
    "- translation (x)\n",
    "- translation (y)\n",
    "- rotation\n",
    "- shear\n",
    "- zoom\n",
    "- all (combination of image shifts)"
   ]
  },
  {
   "cell_type": "code",
   "execution_count": null,
   "metadata": {},
   "outputs": [],
   "source": [
    "list_shift = [\n",
    "    ShiftType.Width,\n",
    "    ShiftType.Height,\n",
    "    ShiftType.Rotation,\n",
    "    ShiftType.Shear,\n",
    "    ShiftType.Zoom,\n",
    "    ShiftType.All\n",
    "]\n",
    "\n",
    "list_shift_str = [\n",
    "    \"img_x\",\n",
    "    \"img_x_y\",\n",
    "    \"rotation\",\n",
    "    \"shear\",\n",
    "    \"zoom\",\n",
    "    \"all\"\n",
    "]\n",
    "\n",
    "shift_type_param = {\"orig_dims\": ORIGINAL_SHAPE}"
   ]
  },
  {
   "cell_type": "code",
   "execution_count": null,
   "metadata": {},
   "outputs": [],
   "source": [
    "for shift_str, shift_type in tqdm(zip(list_shift_str, list_shift)):\n",
    "    dict_result = main_experiment(model, method, X_valid, y_valid,\n",
    "                             c_valid, X_test_flatten, y_test, c_test,\n",
    "                             shift_type, ORIGINAL_SHAPE, n_classes_shape,\n",
    "                             concept_names, concept_values, \n",
    "                             shift_type_param, n_exp=50, n_std=2)\n",
    "    \n",
    "    # Save\n",
    "    save_result(shift_str, method_str, dict_result)"
   ]
  },
  {
   "cell_type": "markdown",
   "metadata": {},
   "source": [
    "#### Gaussian shift"
   ]
  },
  {
   "cell_type": "code",
   "execution_count": null,
   "metadata": {},
   "outputs": [],
   "source": [
    "shift_type = ShiftType.Gaussian\n",
    "shift_type_params = None\n",
    "shift_str = \"gaussian\""
   ]
  },
  {
   "cell_type": "code",
   "execution_count": null,
   "metadata": {},
   "outputs": [],
   "source": [
    "dict_result = main_experiment(model, method, X_valid, y_valid,\n",
    "                             c_valid, X_test_flatten, y_test, c_test,\n",
    "                             shift_type, ORIGINAL_SHAPE, n_classes_shape,\n",
    "                             concept_names, concept_values, \n",
    "                             shift_type_params, n_exp=50, n_std=2)"
   ]
  },
  {
   "cell_type": "code",
   "execution_count": null,
   "metadata": {},
   "outputs": [],
   "source": [
    "# Save file\n",
    "save_result(shift_str, method_str, dict_result)"
   ]
  },
  {
   "cell_type": "markdown",
   "metadata": {},
   "source": [
    "### SRP"
   ]
  },
  {
   "cell_type": "code",
   "execution_count": 36,
   "metadata": {},
   "outputs": [],
   "source": [
    "method = DimensionalityReductor.SRP\n",
    "model = srp\n",
    "method_str = \"SRP\""
   ]
  },
  {
   "cell_type": "markdown",
   "metadata": {},
   "source": [
    "#### Knockout shift"
   ]
  },
  {
   "cell_type": "code",
   "execution_count": 6,
   "metadata": {},
   "outputs": [],
   "source": [
    "shift_type = ShiftType.Knockout\n",
    "shift_type_params = {\"cl\": MAJORITY}\n",
    "shift_str = \"ko\""
   ]
  },
  {
   "cell_type": "code",
   "execution_count": 7,
   "metadata": {},
   "outputs": [],
   "source": [
    "dict_result = main_experiment(model, method, X_valid, y_valid,\n",
    "                             c_valid, X_test_flatten, y_test, c_test,\n",
    "                             shift_type, ORIGINAL_SHAPE, n_classes_shape,\n",
    "                             concept_names, concept_values, \n",
    "                             shift_type_params, n_exp=100, n_std=1)"
   ]
  },
  {
   "cell_type": "code",
   "execution_count": 27,
   "metadata": {},
   "outputs": [
    {
     "name": "stdout",
     "output_type": "stream",
     "text": [
      "Saving successfully.\n"
     ]
    }
   ],
   "source": [
    "# Save file\n",
    "save_result(shift_str, method_str, dict_result)"
   ]
  },
  {
   "cell_type": "markdown",
   "metadata": {},
   "source": [
    "#### Concept shifts"
   ]
  },
  {
   "cell_type": "code",
   "execution_count": null,
   "metadata": {},
   "outputs": [],
   "source": [
    "shift_type = ShiftType.Concept\n",
    "\n",
    "list_shift_str = [\n",
    "    \"scale\",\n",
    "    \"scale_shape\",\n",
    "    \"x\",\n",
    "    \"y\",\n",
    "    \"x_y\",\n",
    "    \"x_y_scale\"\n",
    "]\n",
    "\n",
    "list_shift_type_params = [\n",
    "    {\"cl\": MAJORITY, \"concept_idx\": 2}, # scale is index 2 in the concept names\n",
    "    [{\"cl\": MAJORITY, \"concept_idx\": 2}, {\"cl\": MAJORITY, \"concept_idx\": 1}],\n",
    "    {\"cl\": MAJORITY, \"concept_idx\": 4},\n",
    "    {\"cl\": MAJORITY, \"concept_idx\": 5},\n",
    "    [{\"cl\": MAJORITY, \"concept_idx\": 4}, {\"cl\": MAJORITY, \"concept_idx\": 5}],\n",
    "    [{\"cl\": MAJORITY, \"concept_idx\": 2}, {\"cl\": MAJORITY, \"concept_idx\": 4}, {\"cl\": MAJORITY, \"concept_idx\": 5}],    \n",
    "]"
   ]
  },
  {
   "cell_type": "code",
   "execution_count": null,
   "metadata": {},
   "outputs": [],
   "source": [
    "for shift_str, shift_type_params in tqdm(zip(list_shift_str, list_shift_type_params)):\n",
    "    dict_result = main_experiment(model, method, X_valid, y_valid,\n",
    "                             c_valid, X_test_flatten, y_test, c_test,\n",
    "                             shift_type, ORIGINAL_SHAPE, n_classes_shape,\n",
    "                             concept_names, concept_values, \n",
    "                             shift_type_params, n_exp=100, n_std=2)\n",
    "    \n",
    "    # Save\n",
    "    save_result(shift_str, method_str, dict_result)"
   ]
  },
  {
   "cell_type": "markdown",
   "metadata": {},
   "source": [
    "#### Image shifts"
   ]
  },
  {
   "cell_type": "code",
   "execution_count": null,
   "metadata": {},
   "outputs": [],
   "source": [
    "list_shift = [\n",
    "    ShiftType.Width,\n",
    "    ShiftType.Height,\n",
    "    ShiftType.Rotation,\n",
    "    ShiftType.Shear,\n",
    "    ShiftType.Zoom,\n",
    "    ShiftType.All\n",
    "]\n",
    "\n",
    "list_shift_str = [\n",
    "    \"img_x\",\n",
    "    \"img_x_y\",\n",
    "    \"rotation\",\n",
    "    \"shear\",\n",
    "    \"zoom\",\n",
    "    \"all\"\n",
    "]\n",
    "\n",
    "shift_type_param = {\"orig_dims\": ORIGINAL_SHAPE}"
   ]
  },
  {
   "cell_type": "code",
   "execution_count": null,
   "metadata": {},
   "outputs": [],
   "source": [
    "for shift_str, shift_type in tqdm(zip(list_shift_str, list_shift)):\n",
    "    dict_result = main_experiment(model, method, X_valid, y_valid,\n",
    "                             c_valid, X_test_flatten, y_test, c_test,\n",
    "                             shift_type, ORIGINAL_SHAPE, n_classes_shape,\n",
    "                             concept_names, concept_values, \n",
    "                             shift_type_param, n_exp=50, n_std=2)\n",
    "    \n",
    "    # Save\n",
    "    save_result(shift_str, method_str, dict_result)"
   ]
  },
  {
   "cell_type": "markdown",
   "metadata": {},
   "source": [
    "#### Gaussian shift"
   ]
  },
  {
   "cell_type": "code",
   "execution_count": null,
   "metadata": {},
   "outputs": [],
   "source": [
    "shift_type = ShiftType.Gaussian\n",
    "shift_type_params = None\n",
    "shift_str = \"gaussian\""
   ]
  },
  {
   "cell_type": "code",
   "execution_count": null,
   "metadata": {},
   "outputs": [],
   "source": [
    "dict_result = main_experiment(model, method, X_valid, y_valid,\n",
    "                             c_valid, X_test_flatten, y_test, c_test,\n",
    "                             shift_type, ORIGINAL_SHAPE, n_classes_shape,\n",
    "                             concept_names, concept_values, \n",
    "                             shift_type_params, n_exp=50, n_std=2)"
   ]
  },
  {
   "cell_type": "code",
   "execution_count": null,
   "metadata": {},
   "outputs": [],
   "source": [
    "# Save file\n",
    "save_result(shift_str, method_str, dict_result)"
   ]
  },
  {
   "cell_type": "markdown",
   "metadata": {},
   "source": [
    "### BBSDs"
   ]
  },
  {
   "cell_type": "code",
   "execution_count": 36,
   "metadata": {},
   "outputs": [],
   "source": [
    "method = DimensionalityReductor.BBSDs\n",
    "model = end_to_end_model\n",
    "method_str = \"BBSDs\""
   ]
  },
  {
   "cell_type": "markdown",
   "metadata": {},
   "source": [
    "#### Knockout shift"
   ]
  },
  {
   "cell_type": "code",
   "execution_count": 6,
   "metadata": {},
   "outputs": [],
   "source": [
    "shift_type = ShiftType.Knockout\n",
    "shift_type_params = {\"cl\": MAJORITY}\n",
    "shift_str = \"ko\""
   ]
  },
  {
   "cell_type": "code",
   "execution_count": 6,
   "metadata": {},
   "outputs": [],
   "source": [
    "dict_result = main_experiment(model, method, X_valid, y_valid,\n",
    "                             c_valid, X_test_flatten, y_test, c_test,\n",
    "                             shift_type, ORIGINAL_SHAPE, n_classes_shape,\n",
    "                             concept_names, concept_values, \n",
    "                             shift_type_params, n_exp=100, n_std=1)"
   ]
  },
  {
   "cell_type": "code",
   "execution_count": 27,
   "metadata": {},
   "outputs": [
    {
     "name": "stdout",
     "output_type": "stream",
     "text": [
      "Saving successfully.\n"
     ]
    }
   ],
   "source": [
    "# Save file\n",
    "save_result(shift_str, method_str, dict_result)"
   ]
  },
  {
   "cell_type": "markdown",
   "metadata": {},
   "source": [
    "#### Concept shifts"
   ]
  },
  {
   "cell_type": "code",
   "execution_count": null,
   "metadata": {},
   "outputs": [],
   "source": [
    "shift_type = ShiftType.Concept\n",
    "\n",
    "list_shift_str = [\n",
    "    \"scale\",\n",
    "    \"scale_shape\",\n",
    "    \"x\",\n",
    "    \"y\",\n",
    "    \"x_y\",\n",
    "    \"x_y_scale\"\n",
    "]\n",
    "\n",
    "list_shift_type_params = [\n",
    "    {\"cl\": MAJORITY, \"concept_idx\": 2}, # scale is index 2 in the concept names\n",
    "    [{\"cl\": MAJORITY, \"concept_idx\": 2}, {\"cl\": MAJORITY, \"concept_idx\": 1}],\n",
    "    {\"cl\": MAJORITY, \"concept_idx\": 4},\n",
    "    {\"cl\": MAJORITY, \"concept_idx\": 5},\n",
    "    [{\"cl\": MAJORITY, \"concept_idx\": 4}, {\"cl\": MAJORITY, \"concept_idx\": 5}],\n",
    "    [{\"cl\": MAJORITY, \"concept_idx\": 2}, {\"cl\": MAJORITY, \"concept_idx\": 4}, {\"cl\": MAJORITY, \"concept_idx\": 5}],    \n",
    "]"
   ]
  },
  {
   "cell_type": "code",
   "execution_count": null,
   "metadata": {},
   "outputs": [],
   "source": [
    "for shift_str, shift_type_params in tqdm(zip(list_shift_str, list_shift_type_params)):\n",
    "    dict_result = main_experiment(model, method, X_valid, y_valid,\n",
    "                             c_valid, X_test_flatten, y_test, c_test,\n",
    "                             shift_type, ORIGINAL_SHAPE, n_classes_shape,\n",
    "                             concept_names, concept_values, \n",
    "                             shift_type_params, n_exp=100, n_std=2)\n",
    "    \n",
    "    # Save\n",
    "    save_result(shift_str, method_str, dict_result)"
   ]
  },
  {
   "cell_type": "markdown",
   "metadata": {},
   "source": [
    "#### Image shifts"
   ]
  },
  {
   "cell_type": "code",
   "execution_count": null,
   "metadata": {},
   "outputs": [],
   "source": [
    "list_shift = [\n",
    "    ShiftType.Width,\n",
    "    ShiftType.Height,\n",
    "    ShiftType.Rotation,\n",
    "    ShiftType.Shear,\n",
    "    ShiftType.Zoom,\n",
    "    ShiftType.All\n",
    "]\n",
    "\n",
    "list_shift_str = [\n",
    "    \"img_x\",\n",
    "    \"img_x_y\",\n",
    "    \"rotation\",\n",
    "    \"shear\",\n",
    "    \"zoom\",\n",
    "    \"all\"\n",
    "]\n",
    "\n",
    "shift_type_param = {\"orig_dims\": ORIGINAL_SHAPE}"
   ]
  },
  {
   "cell_type": "code",
   "execution_count": null,
   "metadata": {},
   "outputs": [],
   "source": [
    "for shift_str, shift_type in tqdm(zip(list_shift_str, list_shift)):\n",
    "    dict_result = main_experiment(model, method, X_valid, y_valid,\n",
    "                             c_valid, X_test_flatten, y_test, c_test,\n",
    "                             shift_type, ORIGINAL_SHAPE, n_classes_shape,\n",
    "                             concept_names, concept_values, \n",
    "                             shift_type_param, n_exp=50, n_std=2)\n",
    "    \n",
    "    # Save\n",
    "    save_result(shift_str, method_str, dict_result)"
   ]
  },
  {
   "cell_type": "markdown",
   "metadata": {},
   "source": [
    "#### Gaussian shift"
   ]
  },
  {
   "cell_type": "code",
   "execution_count": null,
   "metadata": {},
   "outputs": [],
   "source": [
    "shift_type = ShiftType.Gaussian\n",
    "shift_type_params = None\n",
    "shift_str = \"gaussian\""
   ]
  },
  {
   "cell_type": "code",
   "execution_count": null,
   "metadata": {},
   "outputs": [],
   "source": [
    "dict_result = main_experiment(model, method, X_valid, y_valid,\n",
    "                             c_valid, X_test_flatten, y_test, c_test,\n",
    "                             shift_type, ORIGINAL_SHAPE, n_classes_shape,\n",
    "                             concept_names, concept_values, \n",
    "                             shift_type_params, n_exp=50, n_std=2)"
   ]
  },
  {
   "cell_type": "code",
   "execution_count": null,
   "metadata": {},
   "outputs": [],
   "source": [
    "# Save file\n",
    "save_result(shift_str, method_str, dict_result)"
   ]
  },
  {
   "cell_type": "markdown",
   "metadata": {},
   "source": [
    "### BBSDh"
   ]
  },
  {
   "cell_type": "code",
   "execution_count": 36,
   "metadata": {},
   "outputs": [],
   "source": [
    "method = DimensionalityReductor.BBSDh\n",
    "model = end_to_end_model\n",
    "method_str = \"BBSDh\""
   ]
  },
  {
   "cell_type": "markdown",
   "metadata": {},
   "source": [
    "#### Knockout shift"
   ]
  },
  {
   "cell_type": "code",
   "execution_count": 6,
   "metadata": {},
   "outputs": [],
   "source": [
    "shift_type = ShiftType.Knockout\n",
    "shift_type_params = {\"cl\": MAJORITY}\n",
    "shift_str = \"ko\""
   ]
  },
  {
   "cell_type": "code",
   "execution_count": 5,
   "metadata": {},
   "outputs": [],
   "source": [
    "dict_result = main_experiment(model, method, X_valid, y_valid,\n",
    "                             c_valid, X_test_flatten, y_test, c_test,\n",
    "                             shift_type, ORIGINAL_SHAPE, n_classes_shape,\n",
    "                             concept_names, concept_values, \n",
    "                             shift_type_params, n_exp=100, n_std=1)"
   ]
  },
  {
   "cell_type": "code",
   "execution_count": 27,
   "metadata": {},
   "outputs": [
    {
     "name": "stdout",
     "output_type": "stream",
     "text": [
      "Saving successfully.\n"
     ]
    }
   ],
   "source": [
    "# Save file\n",
    "save_result(shift_str, method_str, dict_result)"
   ]
  },
  {
   "cell_type": "markdown",
   "metadata": {},
   "source": [
    "#### Concept shifts"
   ]
  },
  {
   "cell_type": "code",
   "execution_count": null,
   "metadata": {},
   "outputs": [],
   "source": [
    "shift_type = ShiftType.Concept\n",
    "\n",
    "list_shift_str = [\n",
    "    \"scale\",\n",
    "    \"scale_shape\",\n",
    "    \"x\",\n",
    "    \"y\",\n",
    "    \"x_y\",\n",
    "    \"x_y_scale\"\n",
    "]\n",
    "\n",
    "list_shift_type_params = [\n",
    "    {\"cl\": MAJORITY, \"concept_idx\": 2}, # scale is index 2 in the concept names\n",
    "    [{\"cl\": MAJORITY, \"concept_idx\": 2}, {\"cl\": MAJORITY, \"concept_idx\": 1}],\n",
    "    {\"cl\": MAJORITY, \"concept_idx\": 4},\n",
    "    {\"cl\": MAJORITY, \"concept_idx\": 5},\n",
    "    [{\"cl\": MAJORITY, \"concept_idx\": 4}, {\"cl\": MAJORITY, \"concept_idx\": 5}],\n",
    "    [{\"cl\": MAJORITY, \"concept_idx\": 2}, {\"cl\": MAJORITY, \"concept_idx\": 4}, {\"cl\": MAJORITY, \"concept_idx\": 5}],    \n",
    "]"
   ]
  },
  {
   "cell_type": "code",
   "execution_count": null,
   "metadata": {},
   "outputs": [],
   "source": [
    "for shift_str, shift_type_params in tqdm(zip(list_shift_str, list_shift_type_params)):\n",
    "    dict_result = main_experiment(model, method, X_valid, y_valid,\n",
    "                             c_valid, X_test_flatten, y_test, c_test,\n",
    "                             shift_type, ORIGINAL_SHAPE, n_classes_shape,\n",
    "                             concept_names, concept_values, \n",
    "                             shift_type_params, n_exp=100, n_std=2)\n",
    "    \n",
    "    # Save\n",
    "    save_result(shift_str, method_str, dict_result)"
   ]
  },
  {
   "cell_type": "markdown",
   "metadata": {},
   "source": [
    "#### Image shifts"
   ]
  },
  {
   "cell_type": "code",
   "execution_count": null,
   "metadata": {},
   "outputs": [],
   "source": [
    "list_shift = [\n",
    "    ShiftType.Width,\n",
    "    ShiftType.Height,\n",
    "    ShiftType.Rotation,\n",
    "    ShiftType.Shear,\n",
    "    ShiftType.Zoom,\n",
    "    ShiftType.All\n",
    "]\n",
    "\n",
    "list_shift_str = [\n",
    "    \"img_x\",\n",
    "    \"img_x_y\",\n",
    "    \"rotation\",\n",
    "    \"shear\",\n",
    "    \"zoom\",\n",
    "    \"all\"\n",
    "]\n",
    "\n",
    "shift_type_param = {\"orig_dims\": ORIGINAL_SHAPE}"
   ]
  },
  {
   "cell_type": "code",
   "execution_count": null,
   "metadata": {},
   "outputs": [],
   "source": [
    "for shift_str, shift_type in tqdm(zip(list_shift_str, list_shift)):\n",
    "    dict_result = main_experiment(model, method, X_valid, y_valid,\n",
    "                             c_valid, X_test_flatten, y_test, c_test,\n",
    "                             shift_type, ORIGINAL_SHAPE, n_classes_shape,\n",
    "                             concept_names, concept_values, \n",
    "                             shift_type_param, n_exp=50, n_std=2)\n",
    "    \n",
    "    # Save\n",
    "    save_result(shift_str, method_str, dict_result)"
   ]
  },
  {
   "cell_type": "markdown",
   "metadata": {},
   "source": [
    "#### Gaussian shift"
   ]
  },
  {
   "cell_type": "code",
   "execution_count": null,
   "metadata": {},
   "outputs": [],
   "source": [
    "shift_type = ShiftType.Gaussian\n",
    "shift_type_params = None\n",
    "shift_str = \"gaussian\""
   ]
  },
  {
   "cell_type": "code",
   "execution_count": null,
   "metadata": {},
   "outputs": [],
   "source": [
    "dict_result = main_experiment(model, method, X_valid, y_valid,\n",
    "                             c_valid, X_test_flatten, y_test, c_test,\n",
    "                             shift_type, ORIGINAL_SHAPE, n_classes_shape,\n",
    "                             concept_names, concept_values, \n",
    "                             shift_type_params, n_exp=50, n_std=2)"
   ]
  },
  {
   "cell_type": "code",
   "execution_count": null,
   "metadata": {},
   "outputs": [],
   "source": [
    "# Save file\n",
    "save_result(shift_str, method_str, dict_result)"
   ]
  },
  {
   "cell_type": "markdown",
   "metadata": {},
   "source": [
    "### CBSDs"
   ]
  },
  {
   "cell_type": "code",
   "execution_count": 36,
   "metadata": {},
   "outputs": [],
   "source": [
    "method = DimensionalityReductor.CBSDs\n",
    "model = mt_model\n",
    "method_str = \"CBSDs\""
   ]
  },
  {
   "cell_type": "markdown",
   "metadata": {},
   "source": [
    "#### Knockout shift"
   ]
  },
  {
   "cell_type": "code",
   "execution_count": 6,
   "metadata": {},
   "outputs": [],
   "source": [
    "shift_type = ShiftType.Knockout\n",
    "shift_type_params = {\"cl\": MAJORITY}\n",
    "shift_str = \"ko\""
   ]
  },
  {
   "cell_type": "code",
   "execution_count": 4,
   "metadata": {},
   "outputs": [],
   "source": [
    "dict_result = main_experiment(model, method, X_valid, y_valid,\n",
    "                             c_valid, X_test_flatten, y_test, c_test,\n",
    "                             shift_type, ORIGINAL_SHAPE, n_classes_shape,\n",
    "                             concept_names, concept_values, \n",
    "                             shift_type_params, n_exp=100, n_std=1)"
   ]
  },
  {
   "cell_type": "code",
   "execution_count": 27,
   "metadata": {},
   "outputs": [
    {
     "name": "stdout",
     "output_type": "stream",
     "text": [
      "Saving successfully.\n"
     ]
    }
   ],
   "source": [
    "# Save file\n",
    "save_result(shift_str, method_str, dict_result)"
   ]
  },
  {
   "cell_type": "markdown",
   "metadata": {},
   "source": [
    "#### Concept shifts"
   ]
  },
  {
   "cell_type": "code",
   "execution_count": null,
   "metadata": {},
   "outputs": [],
   "source": [
    "shift_type = ShiftType.Concept\n",
    "\n",
    "list_shift_str = [\n",
    "    \"scale\",\n",
    "    \"scale_shape\",\n",
    "    \"x\",\n",
    "    \"y\",\n",
    "    \"x_y\",\n",
    "    \"x_y_scale\"\n",
    "]\n",
    "\n",
    "list_shift_type_params = [\n",
    "    {\"cl\": MAJORITY, \"concept_idx\": 2}, # scale is index 2 in the concept names\n",
    "    [{\"cl\": MAJORITY, \"concept_idx\": 2}, {\"cl\": MAJORITY, \"concept_idx\": 1}],\n",
    "    {\"cl\": MAJORITY, \"concept_idx\": 4},\n",
    "    {\"cl\": MAJORITY, \"concept_idx\": 5},\n",
    "    [{\"cl\": MAJORITY, \"concept_idx\": 4}, {\"cl\": MAJORITY, \"concept_idx\": 5}],\n",
    "    [{\"cl\": MAJORITY, \"concept_idx\": 2}, {\"cl\": MAJORITY, \"concept_idx\": 4}, {\"cl\": MAJORITY, \"concept_idx\": 5}],    \n",
    "]"
   ]
  },
  {
   "cell_type": "code",
   "execution_count": null,
   "metadata": {},
   "outputs": [],
   "source": [
    "for shift_str, shift_type_params in tqdm(zip(list_shift_str, list_shift_type_params)):\n",
    "    dict_result = main_experiment(model, method, X_valid, y_valid,\n",
    "                             c_valid, X_test_flatten, y_test, c_test,\n",
    "                             shift_type, ORIGINAL_SHAPE, n_classes_shape,\n",
    "                             concept_names, concept_values, \n",
    "                             shift_type_params, n_exp=100, n_std=2)\n",
    "    \n",
    "    # Save\n",
    "    save_result(shift_str, method_str, dict_result)"
   ]
  },
  {
   "cell_type": "markdown",
   "metadata": {},
   "source": [
    "#### Image shifts"
   ]
  },
  {
   "cell_type": "code",
   "execution_count": null,
   "metadata": {},
   "outputs": [],
   "source": [
    "list_shift = [\n",
    "    ShiftType.Width,\n",
    "    ShiftType.Height,\n",
    "    ShiftType.Rotation,\n",
    "    ShiftType.Shear,\n",
    "    ShiftType.Zoom,\n",
    "    ShiftType.All\n",
    "]\n",
    "\n",
    "list_shift_str = [\n",
    "    \"img_x\",\n",
    "    \"img_x_y\",\n",
    "    \"rotation\",\n",
    "    \"shear\",\n",
    "    \"zoom\",\n",
    "    \"all\"\n",
    "]\n",
    "\n",
    "shift_type_param = {\"orig_dims\": ORIGINAL_SHAPE}"
   ]
  },
  {
   "cell_type": "code",
   "execution_count": null,
   "metadata": {},
   "outputs": [],
   "source": [
    "for shift_str, shift_type in tqdm(zip(list_shift_str, list_shift)):\n",
    "    dict_result = main_experiment(model, method, X_valid, y_valid,\n",
    "                             c_valid, X_test_flatten, y_test, c_test,\n",
    "                             shift_type, ORIGINAL_SHAPE, n_classes_shape,\n",
    "                             concept_names, concept_values, \n",
    "                             shift_type_param, n_exp=50, n_std=2)\n",
    "    \n",
    "    # Save\n",
    "    save_result(shift_str, method_str, dict_result)"
   ]
  },
  {
   "cell_type": "markdown",
   "metadata": {},
   "source": [
    "#### Gaussian shift"
   ]
  },
  {
   "cell_type": "code",
   "execution_count": null,
   "metadata": {},
   "outputs": [],
   "source": [
    "shift_type = ShiftType.Gaussian\n",
    "shift_type_params = None\n",
    "shift_str = \"gaussian\""
   ]
  },
  {
   "cell_type": "code",
   "execution_count": null,
   "metadata": {},
   "outputs": [],
   "source": [
    "dict_result = main_experiment(model, method, X_valid, y_valid,\n",
    "                             c_valid, X_test_flatten, y_test, c_test,\n",
    "                             shift_type, ORIGINAL_SHAPE, n_classes_shape,\n",
    "                             concept_names, concept_values, \n",
    "                             shift_type_params, n_exp=50, n_std=2)"
   ]
  },
  {
   "cell_type": "code",
   "execution_count": null,
   "metadata": {},
   "outputs": [],
   "source": [
    "# Save file\n",
    "save_result(shift_str, method_str, dict_result)"
   ]
  },
  {
   "cell_type": "markdown",
   "metadata": {},
   "source": [
    "### CBSDh"
   ]
  },
  {
   "cell_type": "code",
   "execution_count": 36,
   "metadata": {},
   "outputs": [],
   "source": [
    "method = DimensionalityReductor.CBSDh\n",
    "model = mt_model\n",
    "method_str = \"CBSDh\""
   ]
  },
  {
   "cell_type": "markdown",
   "metadata": {},
   "source": [
    "#### Knockout shift"
   ]
  },
  {
   "cell_type": "code",
   "execution_count": 6,
   "metadata": {},
   "outputs": [],
   "source": [
    "shift_type = ShiftType.Knockout\n",
    "shift_type_params = {\"cl\": MAJORITY}\n",
    "shift_str = \"ko\""
   ]
  },
  {
   "cell_type": "code",
   "execution_count": 1,
   "metadata": {},
   "outputs": [],
   "source": [
    "dict_result = main_experiment(model, method, X_valid, y_valid,\n",
    "                             c_valid, X_test_flatten, y_test, c_test,\n",
    "                             shift_type, ORIGINAL_SHAPE, n_classes_shape,\n",
    "                             concept_names, concept_values, \n",
    "                             shift_type_params, n_exp=100, n_std=1)"
   ]
  },
  {
   "cell_type": "code",
   "execution_count": 27,
   "metadata": {},
   "outputs": [
    {
     "name": "stdout",
     "output_type": "stream",
     "text": [
      "Saving successfully.\n"
     ]
    }
   ],
   "source": [
    "# Save file\n",
    "save_result(shift_str, method_str, dict_result)"
   ]
  },
  {
   "cell_type": "markdown",
   "metadata": {},
   "source": [
    "#### Concept shifts"
   ]
  },
  {
   "cell_type": "code",
   "execution_count": null,
   "metadata": {},
   "outputs": [],
   "source": [
    "shift_type = ShiftType.Concept\n",
    "\n",
    "list_shift_str = [\n",
    "    \"scale\",\n",
    "    \"scale_shape\",\n",
    "    \"x\",\n",
    "    \"y\",\n",
    "    \"x_y\",\n",
    "    \"x_y_scale\"\n",
    "]\n",
    "\n",
    "list_shift_type_params = [\n",
    "    {\"cl\": MAJORITY, \"concept_idx\": 2}, # scale is index 2 in the concept names\n",
    "    [{\"cl\": MAJORITY, \"concept_idx\": 2}, {\"cl\": MAJORITY, \"concept_idx\": 1}],\n",
    "    {\"cl\": MAJORITY, \"concept_idx\": 4},\n",
    "    {\"cl\": MAJORITY, \"concept_idx\": 5},\n",
    "    [{\"cl\": MAJORITY, \"concept_idx\": 4}, {\"cl\": MAJORITY, \"concept_idx\": 5}],\n",
    "    [{\"cl\": MAJORITY, \"concept_idx\": 2}, {\"cl\": MAJORITY, \"concept_idx\": 4}, {\"cl\": MAJORITY, \"concept_idx\": 5}],    \n",
    "]"
   ]
  },
  {
   "cell_type": "code",
   "execution_count": null,
   "metadata": {},
   "outputs": [],
   "source": [
    "for shift_str, shift_type_params in tqdm(zip(list_shift_str, list_shift_type_params)):\n",
    "    dict_result = main_experiment(model, method, X_valid, y_valid,\n",
    "                             c_valid, X_test_flatten, y_test, c_test,\n",
    "                             shift_type, ORIGINAL_SHAPE, n_classes_shape,\n",
    "                             concept_names, concept_values, \n",
    "                             shift_type_params, n_exp=100, n_std=2)\n",
    "    \n",
    "    # Save\n",
    "    save_result(shift_str, method_str, dict_result)"
   ]
  },
  {
   "cell_type": "markdown",
   "metadata": {},
   "source": [
    "#### Image shifts"
   ]
  },
  {
   "cell_type": "code",
   "execution_count": null,
   "metadata": {},
   "outputs": [],
   "source": [
    "list_shift = [\n",
    "    ShiftType.Width,\n",
    "    ShiftType.Height,\n",
    "    ShiftType.Rotation,\n",
    "    ShiftType.Shear,\n",
    "    ShiftType.Zoom,\n",
    "    ShiftType.All\n",
    "]\n",
    "\n",
    "list_shift_str = [\n",
    "    \"img_x\",\n",
    "    \"img_x_y\",\n",
    "    \"rotation\",\n",
    "    \"shear\",\n",
    "    \"zoom\",\n",
    "    \"all\"\n",
    "]\n",
    "\n",
    "shift_type_param = {\"orig_dims\": ORIGINAL_SHAPE}"
   ]
  },
  {
   "cell_type": "code",
   "execution_count": null,
   "metadata": {},
   "outputs": [],
   "source": [
    "for shift_str, shift_type in tqdm(zip(list_shift_str, list_shift)):\n",
    "    dict_result = main_experiment(model, method, X_valid, y_valid,\n",
    "                             c_valid, X_test_flatten, y_test, c_test,\n",
    "                             shift_type, ORIGINAL_SHAPE, n_classes_shape,\n",
    "                             concept_names, concept_values, \n",
    "                             shift_type_param, n_exp=50, n_std=2)\n",
    "    \n",
    "    # Save\n",
    "    save_result(shift_str, method_str, dict_result)"
   ]
  },
  {
   "cell_type": "markdown",
   "metadata": {},
   "source": [
    "#### Gaussian shift"
   ]
  },
  {
   "cell_type": "code",
   "execution_count": null,
   "metadata": {},
   "outputs": [],
   "source": [
    "shift_type = ShiftType.Gaussian\n",
    "shift_type_params = None\n",
    "shift_str = \"gaussian\""
   ]
  },
  {
   "cell_type": "code",
   "execution_count": null,
   "metadata": {},
   "outputs": [],
   "source": [
    "dict_result = main_experiment(model, method, X_valid, y_valid,\n",
    "                             c_valid, X_test_flatten, y_test, c_test,\n",
    "                             shift_type, ORIGINAL_SHAPE, n_classes_shape,\n",
    "                             concept_names, concept_values, \n",
    "                             shift_type_params, n_exp=50, n_std=2)"
   ]
  },
  {
   "cell_type": "code",
   "execution_count": null,
   "metadata": {},
   "outputs": [],
   "source": [
    "# Save file\n",
    "save_result(shift_str, method_str, dict_result)"
   ]
  },
  {
   "cell_type": "markdown",
   "metadata": {},
   "source": [
    "### UAE"
   ]
  },
  {
   "cell_type": "code",
   "execution_count": 36,
   "metadata": {},
   "outputs": [],
   "source": [
    "method = DimensionalityReductor.UAE\n",
    "model = u_encoder\n",
    "method_str = \"UAE\""
   ]
  },
  {
   "cell_type": "markdown",
   "metadata": {},
   "source": [
    "#### Knockout shift"
   ]
  },
  {
   "cell_type": "code",
   "execution_count": 6,
   "metadata": {},
   "outputs": [],
   "source": [
    "shift_type = ShiftType.Knockout\n",
    "shift_type_params = {\"cl\": MAJORITY}\n",
    "shift_str = \"ko\""
   ]
  },
  {
   "cell_type": "code",
   "execution_count": 2,
   "metadata": {},
   "outputs": [],
   "source": [
    "dict_result = main_experiment(model, method, X_valid, y_valid,\n",
    "                             c_valid, X_test_flatten, y_test, c_test,\n",
    "                             shift_type, ORIGINAL_SHAPE, n_classes_shape,\n",
    "                             concept_names, concept_values, \n",
    "                             shift_type_params, n_exp=100, n_std=1)"
   ]
  },
  {
   "cell_type": "code",
   "execution_count": 27,
   "metadata": {},
   "outputs": [
    {
     "name": "stdout",
     "output_type": "stream",
     "text": [
      "Saving successfully.\n"
     ]
    }
   ],
   "source": [
    "# Save file\n",
    "save_result(shift_str, method_str, dict_result)"
   ]
  },
  {
   "cell_type": "markdown",
   "metadata": {},
   "source": [
    "#### Concept shifts"
   ]
  },
  {
   "cell_type": "code",
   "execution_count": null,
   "metadata": {},
   "outputs": [],
   "source": [
    "shift_type = ShiftType.Concept\n",
    "\n",
    "list_shift_str = [\n",
    "    \"scale\",\n",
    "    \"scale_shape\",\n",
    "    \"x\",\n",
    "    \"y\",\n",
    "    \"x_y\",\n",
    "    \"x_y_scale\"\n",
    "]\n",
    "\n",
    "list_shift_type_params = [\n",
    "    {\"cl\": MAJORITY, \"concept_idx\": 2}, # scale is index 2 in the concept names\n",
    "    [{\"cl\": MAJORITY, \"concept_idx\": 2}, {\"cl\": MAJORITY, \"concept_idx\": 1}],\n",
    "    {\"cl\": MAJORITY, \"concept_idx\": 4},\n",
    "    {\"cl\": MAJORITY, \"concept_idx\": 5},\n",
    "    [{\"cl\": MAJORITY, \"concept_idx\": 4}, {\"cl\": MAJORITY, \"concept_idx\": 5}],\n",
    "    [{\"cl\": MAJORITY, \"concept_idx\": 2}, {\"cl\": MAJORITY, \"concept_idx\": 4}, {\"cl\": MAJORITY, \"concept_idx\": 5}],    \n",
    "]"
   ]
  },
  {
   "cell_type": "code",
   "execution_count": null,
   "metadata": {},
   "outputs": [],
   "source": [
    "for shift_str, shift_type_params in tqdm(zip(list_shift_str, list_shift_type_params)):\n",
    "    dict_result = main_experiment(model, method, X_valid, y_valid,\n",
    "                             c_valid, X_test_flatten, y_test, c_test,\n",
    "                             shift_type, ORIGINAL_SHAPE, n_classes_shape,\n",
    "                             concept_names, concept_values, \n",
    "                             shift_type_params, n_exp=100, n_std=2)\n",
    "    \n",
    "    # Save\n",
    "    save_result(shift_str, method_str, dict_result)"
   ]
  },
  {
   "cell_type": "markdown",
   "metadata": {},
   "source": [
    "#### Image shifts"
   ]
  },
  {
   "cell_type": "code",
   "execution_count": null,
   "metadata": {},
   "outputs": [],
   "source": [
    "list_shift = [\n",
    "    ShiftType.Width,\n",
    "    ShiftType.Height,\n",
    "    ShiftType.Rotation,\n",
    "    ShiftType.Shear,\n",
    "    ShiftType.Zoom,\n",
    "    ShiftType.All\n",
    "]\n",
    "\n",
    "list_shift_str = [\n",
    "    \"img_x\",\n",
    "    \"img_x_y\",\n",
    "    \"rotation\",\n",
    "    \"shear\",\n",
    "    \"zoom\",\n",
    "    \"all\"\n",
    "]\n",
    "\n",
    "shift_type_param = {\"orig_dims\": ORIGINAL_SHAPE}"
   ]
  },
  {
   "cell_type": "code",
   "execution_count": null,
   "metadata": {},
   "outputs": [],
   "source": [
    "for shift_str, shift_type in tqdm(zip(list_shift_str, list_shift)):\n",
    "    dict_result = main_experiment(model, method, X_valid, y_valid,\n",
    "                             c_valid, X_test_flatten, y_test, c_test,\n",
    "                             shift_type, ORIGINAL_SHAPE, n_classes_shape,\n",
    "                             concept_names, concept_values, \n",
    "                             shift_type_param, n_exp=50, n_std=2)\n",
    "    \n",
    "    # Save\n",
    "    save_result(shift_str, method_str, dict_result)"
   ]
  },
  {
   "cell_type": "markdown",
   "metadata": {},
   "source": [
    "#### Gaussian shift"
   ]
  },
  {
   "cell_type": "code",
   "execution_count": null,
   "metadata": {},
   "outputs": [],
   "source": [
    "shift_type = ShiftType.Gaussian\n",
    "shift_type_params = None\n",
    "shift_str = \"gaussian\""
   ]
  },
  {
   "cell_type": "code",
   "execution_count": null,
   "metadata": {},
   "outputs": [],
   "source": [
    "dict_result = main_experiment(model, method, X_valid, y_valid,\n",
    "                             c_valid, X_test_flatten, y_test, c_test,\n",
    "                             shift_type, ORIGINAL_SHAPE, n_classes_shape,\n",
    "                             concept_names, concept_values, \n",
    "                             shift_type_params, n_exp=50, n_std=2)"
   ]
  },
  {
   "cell_type": "code",
   "execution_count": null,
   "metadata": {},
   "outputs": [],
   "source": [
    "# Save file\n",
    "save_result(shift_str, method_str, dict_result)"
   ]
  },
  {
   "cell_type": "markdown",
   "metadata": {},
   "source": [
    "### TAE"
   ]
  },
  {
   "cell_type": "code",
   "execution_count": 36,
   "metadata": {},
   "outputs": [],
   "source": [
    "method = DimensionalityReductor.TAE\n",
    "model = encoder\n",
    "method_str = \"TAE\""
   ]
  },
  {
   "cell_type": "markdown",
   "metadata": {},
   "source": [
    "#### Knockout shift"
   ]
  },
  {
   "cell_type": "code",
   "execution_count": 6,
   "metadata": {},
   "outputs": [],
   "source": [
    "shift_type = ShiftType.Knockout\n",
    "shift_type_params = {\"cl\": MAJORITY}\n",
    "shift_str = \"ko\""
   ]
  },
  {
   "cell_type": "code",
   "execution_count": 3,
   "metadata": {},
   "outputs": [],
   "source": [
    "dict_result = main_experiment(model, method, X_valid, y_valid,\n",
    "                             c_valid, X_test_flatten, y_test, c_test,\n",
    "                             shift_type, ORIGINAL_SHAPE, n_classes_shape,\n",
    "                             concept_names, concept_values, \n",
    "                             shift_type_params, n_exp=100, n_std=1)"
   ]
  },
  {
   "cell_type": "code",
   "execution_count": 27,
   "metadata": {},
   "outputs": [
    {
     "name": "stdout",
     "output_type": "stream",
     "text": [
      "Saving successfully.\n"
     ]
    }
   ],
   "source": [
    "# Save file\n",
    "save_result(shift_str, method_str, dict_result)"
   ]
  },
  {
   "cell_type": "markdown",
   "metadata": {},
   "source": [
    "#### Concept shifts"
   ]
  },
  {
   "cell_type": "code",
   "execution_count": null,
   "metadata": {},
   "outputs": [],
   "source": [
    "shift_type = ShiftType.Concept\n",
    "\n",
    "list_shift_str = [\n",
    "    \"scale\",\n",
    "    \"scale_shape\",\n",
    "    \"x\",\n",
    "    \"y\",\n",
    "    \"x_y\",\n",
    "    \"x_y_scale\"\n",
    "]\n",
    "\n",
    "list_shift_type_params = [\n",
    "    {\"cl\": MAJORITY, \"concept_idx\": 2}, # scale is index 2 in the concept names\n",
    "    [{\"cl\": MAJORITY, \"concept_idx\": 2}, {\"cl\": MAJORITY, \"concept_idx\": 1}],\n",
    "    {\"cl\": MAJORITY, \"concept_idx\": 4},\n",
    "    {\"cl\": MAJORITY, \"concept_idx\": 5},\n",
    "    [{\"cl\": MAJORITY, \"concept_idx\": 4}, {\"cl\": MAJORITY, \"concept_idx\": 5}],\n",
    "    [{\"cl\": MAJORITY, \"concept_idx\": 2}, {\"cl\": MAJORITY, \"concept_idx\": 4}, {\"cl\": MAJORITY, \"concept_idx\": 5}],    \n",
    "]"
   ]
  },
  {
   "cell_type": "code",
   "execution_count": null,
   "metadata": {},
   "outputs": [],
   "source": [
    "for shift_str, shift_type_params in tqdm(zip(list_shift_str, list_shift_type_params)):\n",
    "    dict_result = main_experiment(model, method, X_valid, y_valid,\n",
    "                             c_valid, X_test_flatten, y_test, c_test,\n",
    "                             shift_type, ORIGINAL_SHAPE, n_classes_shape,\n",
    "                             concept_names, concept_values, \n",
    "                             shift_type_params, n_exp=100, n_std=2)\n",
    "    \n",
    "    # Save\n",
    "    save_result(shift_str, method_str, dict_result)"
   ]
  },
  {
   "cell_type": "markdown",
   "metadata": {},
   "source": [
    "#### Image shifts"
   ]
  },
  {
   "cell_type": "code",
   "execution_count": null,
   "metadata": {},
   "outputs": [],
   "source": [
    "list_shift = [\n",
    "    ShiftType.Width,\n",
    "    ShiftType.Height,\n",
    "    ShiftType.Rotation,\n",
    "    ShiftType.Shear,\n",
    "    ShiftType.Zoom,\n",
    "    ShiftType.All\n",
    "]\n",
    "\n",
    "list_shift_str = [\n",
    "    \"img_x\",\n",
    "    \"img_x_y\",\n",
    "    \"rotation\",\n",
    "    \"shear\",\n",
    "    \"zoom\",\n",
    "    \"all\"\n",
    "]\n",
    "\n",
    "shift_type_param = {\"orig_dims\": ORIGINAL_SHAPE}"
   ]
  },
  {
   "cell_type": "code",
   "execution_count": null,
   "metadata": {},
   "outputs": [],
   "source": [
    "for shift_str, shift_type in tqdm(zip(list_shift_str, list_shift)):\n",
    "    dict_result = main_experiment(model, method, X_valid, y_valid,\n",
    "                             c_valid, X_test_flatten, y_test, c_test,\n",
    "                             shift_type, ORIGINAL_SHAPE, n_classes_shape,\n",
    "                             concept_names, concept_values, \n",
    "                             shift_type_param, n_exp=50, n_std=2)\n",
    "    \n",
    "    # Save\n",
    "    save_result(shift_str, method_str, dict_result)"
   ]
  },
  {
   "cell_type": "markdown",
   "metadata": {},
   "source": [
    "#### Gaussian shift"
   ]
  },
  {
   "cell_type": "code",
   "execution_count": null,
   "metadata": {},
   "outputs": [],
   "source": [
    "shift_type = ShiftType.Gaussian\n",
    "shift_type_params = None\n",
    "shift_str = \"gaussian\""
   ]
  },
  {
   "cell_type": "code",
   "execution_count": null,
   "metadata": {},
   "outputs": [],
   "source": [
    "dict_result = main_experiment(model, method, X_valid, y_valid,\n",
    "                             c_valid, X_test_flatten, y_test, c_test,\n",
    "                             shift_type, ORIGINAL_SHAPE, n_classes_shape,\n",
    "                             concept_names, concept_values, \n",
    "                             shift_type_params, n_exp=50, n_std=2)"
   ]
  },
  {
   "cell_type": "code",
   "execution_count": null,
   "metadata": {},
   "outputs": [],
   "source": [
    "# Save file\n",
    "save_result(shift_str, method_str, dict_result)"
   ]
  }
 ],
 "metadata": {
  "kernelspec": {
   "display_name": "Python 3",
   "language": "python",
   "name": "python3"
  },
  "language_info": {
   "codemirror_mode": {
    "name": "ipython",
    "version": 3
   },
   "file_extension": ".py",
   "mimetype": "text/x-python",
   "name": "python",
   "nbconvert_exporter": "python",
   "pygments_lexer": "ipython3",
   "version": "3.7.6"
  }
 },
 "nbformat": 4,
 "nbformat_minor": 5
}
