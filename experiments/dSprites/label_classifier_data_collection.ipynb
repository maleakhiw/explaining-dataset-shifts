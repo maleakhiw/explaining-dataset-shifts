{
 "cells": [
  {
   "cell_type": "markdown",
   "id": "intimate-energy",
   "metadata": {},
   "source": [
    "# Label classifier (dSprites): data collection\n",
    "\n",
    "**Author**: Maleakhi A. Wijaya  \n",
    "**Description**: This notebook contains code used to collect experimentation data. We compare the performance of methods discussed in Rabanset et al. against our proposed CBSD method."
   ]
  },
  {
   "cell_type": "code",
   "execution_count": 39,
   "id": "narrative-danger",
   "metadata": {},
   "outputs": [],
   "source": [
    "# Load utilities functions\n",
    "%run ../../scripts/dsprites_utils.py\n",
    "%run ../../scripts/shift_applicator.py\n",
    "%run ../../scripts/shift_dimensionality_reductor.py\n",
    "%run ../../scripts/constants.py\n",
    "%run ../../scripts/experiment_utils.py\n",
    "%run ../../scripts/shift_statistical_test.py"
   ]
  },
  {
   "cell_type": "markdown",
   "id": "opponent-intermediate",
   "metadata": {},
   "source": [
    "## Load dataset"
   ]
  },
  {
   "cell_type": "code",
   "execution_count": 41,
   "id": "essential-security",
   "metadata": {},
   "outputs": [],
   "source": [
    "SEED = 20\n",
    "np.random.seed(SEED)\n",
    "tf.random.set_seed(SEED)"
   ]
  },
  {
   "cell_type": "code",
   "execution_count": 43,
   "id": "religious-riverside",
   "metadata": {},
   "outputs": [
    {
     "name": "stdout",
     "output_type": "stream",
     "text": [
      "Training samples: 85000\n",
      "Testing samples: 15000\n"
     ]
    }
   ],
   "source": [
    "path = \"../../data/dsprites_ndarray_co1sh3sc6or40x32y32_64x64.npz\"\n",
    "X_train, X_test, y_train, y_test, c_train, c_test = load_dsprites(path, 100000, train_size=0.85, class_index=1)\n",
    "\n",
    "# Split training into validation set as well \n",
    "X_train, X_valid = X_train[:70000], X_train[70000:]\n",
    "y_train, y_valid = y_train[:70000], y_train[70000:]\n",
    "c_train, c_valid = c_train[:70000], c_train[70000:]"
   ]
  },
  {
   "cell_type": "code",
   "execution_count": 46,
   "id": "senior-fossil",
   "metadata": {},
   "outputs": [],
   "source": [
    "# Reshape to appropriate shift input\n",
    "# It is noteworthy that for efficiency, we represent the images as only 2 dimension\n",
    "# when we preprocessing (number of instances/ batch size * flatten size).\n",
    "# When visualising back the image, we need to reshape it back to the original dimension\n",
    "ORIGINAL_SHAPE = X_test.shape[1:] # constant hold the image original shape\n",
    "X_test_flatten = deepcopy(X_test.reshape(X_test.shape[0], -1))\n",
    "X_train_flatten = deepcopy(X_train.reshape(X_train.shape[0], -1))\n",
    "X_valid_flatten = deepcopy(X_valid.reshape(X_valid.shape[0], -1))"
   ]
  },
  {
   "cell_type": "markdown",
   "id": "subtle-hopkins",
   "metadata": {},
   "source": [
    "## Dimensionality reduction\n",
    "\n",
    "We implemented various dimensionality reduction methods, amounting to:\n",
    "- End to end model (label classifiers/ BBSD)\n",
    "- Concept bottleneck model (CBSD)\n",
    "- Trained and untrained autoencoders (TAE and UAE)\n",
    "- Principal component analysis (PCA)\n",
    "- Sparse random projection (SRP)"
   ]
  },
  {
   "cell_type": "code",
   "execution_count": 48,
   "id": "possible-survival",
   "metadata": {},
   "outputs": [
    {
     "ename": "TypeError",
     "evalue": "__init__() missing 1 required positional argument: 'dataset'",
     "output_type": "error",
     "traceback": [
      "\u001b[0;31m---------------------------------------------------------------------------\u001b[0m",
      "\u001b[0;31mTypeError\u001b[0m                                 Traceback (most recent call last)",
      "\u001b[0;32m<ipython-input-48-ec5584913b30>\u001b[0m in \u001b[0;36m<module>\u001b[0;34m\u001b[0m\n\u001b[0;32m----> 1\u001b[0;31m end_to_end_neural_network(3, Dataset.DSPRITES, X_train, y_train,\n\u001b[0m\u001b[1;32m      2\u001b[0m                          X_valid, y_valid)\n",
      "\u001b[0;32m/auto/homes/maw219/explaining-dataset-shifts/scripts/shift_dimensionality_reductor.py\u001b[0m in \u001b[0;36mend_to_end_neural_network\u001b[0;34m(num_classes, dataset, X_train, y_train, X_valid, y_valid, save_path)\u001b[0m\n\u001b[1;32m     86\u001b[0m \u001b[0;34m\u001b[0m\u001b[0m\n\u001b[1;32m     87\u001b[0m         \u001b[0;31m# Shared layers\u001b[0m\u001b[0;34m\u001b[0m\u001b[0;34m\u001b[0m\u001b[0;34m\u001b[0m\u001b[0m\n\u001b[0;32m---> 88\u001b[0;31m         \u001b[0mx\u001b[0m \u001b[0;34m=\u001b[0m \u001b[0mSharedCNNBlock\u001b[0m\u001b[0;34m(\u001b[0m\u001b[0;34m)\u001b[0m\u001b[0;34m(\u001b[0m\u001b[0mimg_inputs\u001b[0m\u001b[0;34m)\u001b[0m\u001b[0;34m\u001b[0m\u001b[0;34m\u001b[0m\u001b[0m\n\u001b[0m\u001b[1;32m     89\u001b[0m \u001b[0;34m\u001b[0m\u001b[0m\n\u001b[1;32m     90\u001b[0m         \u001b[0;31m# Output layer\u001b[0m\u001b[0;34m\u001b[0m\u001b[0;34m\u001b[0m\u001b[0;34m\u001b[0m\u001b[0m\n",
      "\u001b[0;31mTypeError\u001b[0m: __init__() missing 1 required positional argument: 'dataset'"
     ]
    }
   ],
   "source": [
    "end_to_end_neural_network(3, Dataset.DSPRITES, X_train, y_train,\n",
    "                         X_valid, y_valid)"
   ]
  }
 ],
 "metadata": {
  "kernelspec": {
   "display_name": "Python 3",
   "language": "python",
   "name": "python3"
  },
  "language_info": {
   "codemirror_mode": {
    "name": "ipython",
    "version": 3
   },
   "file_extension": ".py",
   "mimetype": "text/x-python",
   "name": "python",
   "nbconvert_exporter": "python",
   "pygments_lexer": "ipython3",
   "version": "3.8.5"
  }
 },
 "nbformat": 4,
 "nbformat_minor": 5
}
