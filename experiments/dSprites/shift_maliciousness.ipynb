{
 "cells": [
  {
   "cell_type": "markdown",
   "id": "sufficient-classification",
   "metadata": {},
   "source": [
    "# Shift maliciousness (dSprites)\n",
    "\n",
    "**Author**: Maleakhi A. Wijaya  \n",
    "**Description**: Inspect the maliciousness of different type and intensity of shifts."
   ]
  },
  {
   "cell_type": "code",
   "execution_count": 15,
   "id": "sacred-reward",
   "metadata": {},
   "outputs": [],
   "source": [
    "# Load utilities functions\n",
    "%run ../../scripts/constants.py\n",
    "%run ../../scripts/dsprites_utils.py\n",
    "%run ../../scripts/shift_applicator.py\n",
    "%run ../../scripts/shift_dimensionality_reductor.py\n",
    "%run ../../scripts/experiment_utils.py\n",
    "%run ../../scripts/shift_statistical_test.py\n",
    "from sklearn.metrics import accuracy_score"
   ]
  },
  {
   "cell_type": "code",
   "execution_count": 2,
   "id": "underlying-definition",
   "metadata": {},
   "outputs": [],
   "source": [
    "## Random seed\n",
    "SEED = 20\n",
    "np.random.seed(SEED)\n",
    "tf.random.set_seed(SEED)"
   ]
  },
  {
   "cell_type": "markdown",
   "id": "necessary-magnet",
   "metadata": {},
   "source": [
    "## Load dataset"
   ]
  },
  {
   "cell_type": "code",
   "execution_count": 3,
   "id": "peaceful-softball",
   "metadata": {},
   "outputs": [
    {
     "name": "stdout",
     "output_type": "stream",
     "text": [
      "Training samples: 85000\n",
      "Testing samples: 15000\n"
     ]
    }
   ],
   "source": [
    "path = \"../../data/dsprites_ndarray_co1sh3sc6or40x32y32_64x64.npz\"\n",
    "X_train, X_test, y_train, y_test, c_train, c_test = load_dsprites(path, 100000, DatasetTask.Task1, train_size=0.85, class_index=1)\n",
    "n_classes_shape = 3\n",
    "concept_names = [\"color\", \"shape\", \"scale\", \"rotation\", \"x\", \"y\"]\n",
    "concept_values = get_latent_sizes()\n",
    "\n",
    "# Split training into validation set as well \n",
    "X_train, X_valid = X_train[:70000], X_train[70000:]\n",
    "y_train, y_valid = y_train[:70000], y_train[70000:]\n",
    "c_train, c_valid = c_train[:70000], c_train[70000:]"
   ]
  },
  {
   "cell_type": "code",
   "execution_count": 4,
   "id": "electronic-cleveland",
   "metadata": {},
   "outputs": [],
   "source": [
    "# Load adversarial samples (we will need this for adversarial\n",
    "# shift).\n",
    "adv_samples = np.load(\"../../data/adversarial_samples/X_adversarial_dsprites.npy\")"
   ]
  },
  {
   "cell_type": "code",
   "execution_count": 5,
   "id": "gorgeous-timber",
   "metadata": {},
   "outputs": [],
   "source": [
    "# Reshape to appropriate shift input\n",
    "# It is noteworthy that for efficiency, we represent the images as only 2 dimension\n",
    "# when we preprocessing (number of instances/ batch size * flatten size).\n",
    "# When visualising back the image, we need to reshape it back to the original dimension\n",
    "ORIGINAL_SHAPE = X_test.shape[1:] # constant hold the image original shape\n",
    "X_test_flatten = deepcopy(X_test.reshape(X_test.shape[0], -1))\n",
    "X_train_flatten = deepcopy(X_train.reshape(X_train.shape[0], -1))\n",
    "X_valid_flatten = deepcopy(X_valid.reshape(X_valid.shape[0], -1))"
   ]
  },
  {
   "cell_type": "markdown",
   "id": "comparative-sector",
   "metadata": {},
   "source": [
    "## Load models & original prediction results"
   ]
  },
  {
   "cell_type": "code",
   "execution_count": 10,
   "id": "sticky-prize",
   "metadata": {},
   "outputs": [],
   "source": [
    "## Load original end-to-end and input-to-concept models\n",
    "# End to end model\n",
    "ffnn_path = \"../../models/end_to_end_dsprites_task1\"\n",
    "end_to_end_model = tf.keras.models.load_model(ffnn_path)\n",
    "\n",
    "# Input to concept model\n",
    "itc_path = \"../../models/multitask_dsprites\"\n",
    "itc_model = tf.keras.models.load_model(itc_path)"
   ]
  },
  {
   "cell_type": "code",
   "execution_count": 17,
   "id": "altered-pittsburgh",
   "metadata": {},
   "outputs": [
    {
     "name": "stdout",
     "output_type": "stream",
     "text": [
      "Accuracy: 0.9998666666666667\n"
     ]
    }
   ],
   "source": [
    "# Evaluate model (FFNN)\n",
    "y_pred = end_to_end_model.predict(X_test)\n",
    "y_pred = np.argmax(y_pred, axis=1)\n",
    "print(f\"Accuracy: {accuracy_score(y_test, y_pred)}\")"
   ]
  },
  {
   "cell_type": "code",
   "execution_count": 18,
   "id": "turkish-generic",
   "metadata": {
    "scrolled": true
   },
   "outputs": [
    {
     "name": "stdout",
     "output_type": "stream",
     "text": [
      "******************** Model: color ********************\n",
      "Accuracy: 1.0\n",
      "******************** Model: shape ********************\n",
      "Accuracy: 1.0\n",
      "******************** Model: scale ********************\n",
      "Accuracy: 0.9997333333333334\n",
      "******************** Model: rotation ********************\n",
      "Accuracy: 0.5332666666666667\n",
      "******************** Model: x ********************\n",
      "Accuracy: 0.8658666666666667\n",
      "******************** Model: y ********************\n",
      "Accuracy: 0.8815333333333333\n"
     ]
    }
   ],
   "source": [
    "# Evaluate model (concept bottleneck model)\n",
    "for i, pred in enumerate(itc_model.predict(X_test)):\n",
    "    print(\"*\"*20, f\"Model: {DSPRITES_CONCEPT_NAMES[i]}\", \"*\"*20)\n",
    "    c_truth = c_test[:, i]\n",
    "    c_pred = np.argmax(pred, axis=1)\n",
    "    \n",
    "    print(f\"Accuracy: {accuracy_score(c_truth, c_pred)}\")"
   ]
  },
  {
   "cell_type": "markdown",
   "id": "joined-bryan",
   "metadata": {},
   "source": [
    "## Gaussian shift"
   ]
  },
  {
   "cell_type": "code",
   "execution_count": 19,
   "id": "continuing-friday",
   "metadata": {},
   "outputs": [],
   "source": [
    "shift_intensities = [ShiftIntensity.Small, ShiftIntensity.Medium, ShiftIntensity.Large]\n",
    "X_gaussian = []\n",
    "\n",
    "for shift_intensity in shift_intensities:\n",
    "    X_shifted = deepcopy(X_test_flatten)\n",
    "    X_shifted, _ = apply_gaussian_shift(X_shifted, y_test, shift_intensity, 1.0)\n",
    "    X_shifted = X_shifted.reshape(-1, ORIGINAL_SHAPE[0], ORIGINAL_SHAPE[1], ORIGINAL_SHAPE[2])\n",
    "    X_gaussian.append(X_shifted)"
   ]
  },
  {
   "cell_type": "code",
   "execution_count": 20,
   "id": "checked-experience",
   "metadata": {
    "scrolled": true
   },
   "outputs": [
    {
     "name": "stdout",
     "output_type": "stream",
     "text": [
      "******************** small ********************\n",
      "Accuracy: 0.9999333333333333\n",
      "******************** medium ********************\n",
      "Accuracy: 0.9847333333333333\n",
      "******************** large ********************\n",
      "Accuracy: 0.3394\n"
     ]
    }
   ],
   "source": [
    "# Print accuracy score (end-to-end)\n",
    "for x, intensity_str in zip(X_gaussian, [\"small\", \"medium\", \"large\"]):\n",
    "    print(\"*\"*20, intensity_str, \"*\"*20)\n",
    "    y_pred = end_to_end_model.predict(x)\n",
    "    y_pred = np.argmax(y_pred, axis=1)\n",
    "    print(f\"Accuracy: {accuracy_score(y_test, y_pred)}\")"
   ]
  },
  {
   "cell_type": "code",
   "execution_count": 22,
   "id": "maritime-trade",
   "metadata": {
    "scrolled": true
   },
   "outputs": [
    {
     "name": "stdout",
     "output_type": "stream",
     "text": [
      "******************** small ********************\n",
      "********** Model: color **********\n",
      "Accuracy: 1.0\n",
      "********** Model: shape **********\n",
      "Accuracy: 0.9999333333333333\n",
      "********** Model: scale **********\n",
      "Accuracy: 0.9993333333333333\n",
      "********** Model: rotation **********\n",
      "Accuracy: 0.5326\n",
      "********** Model: x **********\n",
      "Accuracy: 0.8659333333333333\n",
      "********** Model: y **********\n",
      "Accuracy: 0.8813333333333333\n",
      "\n",
      "******************** medium ********************\n",
      "********** Model: color **********\n",
      "Accuracy: 1.0\n",
      "********** Model: shape **********\n",
      "Accuracy: 0.9963333333333333\n",
      "********** Model: scale **********\n",
      "Accuracy: 0.6630666666666667\n",
      "********** Model: rotation **********\n",
      "Accuracy: 0.49246666666666666\n",
      "********** Model: x **********\n",
      "Accuracy: 0.8636666666666667\n",
      "********** Model: y **********\n",
      "Accuracy: 0.8741333333333333\n",
      "\n",
      "******************** large ********************\n",
      "********** Model: color **********\n",
      "Accuracy: 1.0\n",
      "********** Model: shape **********\n",
      "Accuracy: 0.3536666666666667\n",
      "********** Model: scale **********\n",
      "Accuracy: 0.16586666666666666\n",
      "********** Model: rotation **********\n",
      "Accuracy: 0.0572\n",
      "********** Model: x **********\n",
      "Accuracy: 0.30633333333333335\n",
      "********** Model: y **********\n",
      "Accuracy: 0.2714\n",
      "\n"
     ]
    }
   ],
   "source": [
    "# Print accuracy score (cbm)\n",
    "for x, intensity_str in zip(X_gaussian, [\"small\", \"medium\", \"large\"]):\n",
    "    print(\"*\"*20, intensity_str, \"*\"*20)\n",
    "    for i, pred in enumerate(itc_model.predict(x)):\n",
    "        print(\"*\"*10, f\"Model: {DSPRITES_CONCEPT_NAMES[i]}\", \"*\"*10)\n",
    "        c_truth = c_test[:, i]\n",
    "        c_pred = np.argmax(pred, axis=1)\n",
    "\n",
    "        print(f\"Accuracy: {accuracy_score(c_truth, c_pred)}\")\n",
    "    print()"
   ]
  },
  {
   "cell_type": "markdown",
   "id": "attempted-database",
   "metadata": {},
   "source": [
    "## Knockout shift"
   ]
  },
  {
   "cell_type": "code",
   "execution_count": 23,
   "id": "historical-moment",
   "metadata": {},
   "outputs": [],
   "source": [
    "shift_intensities = [ShiftIntensity.Small, ShiftIntensity.Medium, ShiftIntensity.Large]\n",
    "X_ko = []\n",
    "y_ko = []\n",
    "c_ko = []\n",
    "\n",
    "for shift_intensity in shift_intensities:\n",
    "    X_shifted, y_shifted, c_shifted = deepcopy(X_test_flatten), deepcopy(y_test), deepcopy(c_test)\n",
    "    X_shifted, y_shifted, c_shifted = apply_ko_shift(X_shifted, y_shifted, c_shifted, shift_intensity, cl=MAJORITY)\n",
    "    X_shifted = X_shifted.reshape(-1, ORIGINAL_SHAPE[0], ORIGINAL_SHAPE[1], ORIGINAL_SHAPE[2])\n",
    "    X_ko.append(X_shifted)\n",
    "    y_ko.append(y_shifted)\n",
    "    c_ko.append(c_shifted)"
   ]
  },
  {
   "cell_type": "code",
   "execution_count": 24,
   "id": "ongoing-above",
   "metadata": {
    "scrolled": true
   },
   "outputs": [
    {
     "name": "stdout",
     "output_type": "stream",
     "text": [
      "******************** small ********************\n",
      "Accuracy: 0.9999309868875086\n",
      "******************** medium ********************\n",
      "Accuracy: 0.9999197045126064\n",
      "******************** large ********************\n",
      "Accuracy: 0.9998990816429508\n"
     ]
    }
   ],
   "source": [
    "# Print accuracy score (end-to-end)\n",
    "for x, y, c, intensity_str in zip(X_ko, y_ko, c_ko, [\"small\", \"medium\", \"large\"]):\n",
    "    print(\"*\"*20, intensity_str, \"*\"*20)\n",
    "    y_pred = end_to_end_model.predict(x)\n",
    "    y_pred = np.argmax(y_pred, axis=1)\n",
    "    print(f\"Accuracy: {accuracy_score(y, y_pred)}\")"
   ]
  },
  {
   "cell_type": "code",
   "execution_count": 27,
   "id": "closing-vienna",
   "metadata": {
    "scrolled": true
   },
   "outputs": [
    {
     "name": "stdout",
     "output_type": "stream",
     "text": [
      "******************** small ********************\n",
      "********** Model: color **********\n",
      "Accuracy: 1.0\n",
      "********** Model: shape **********\n",
      "Accuracy: 1.0\n",
      "********** Model: scale **********\n",
      "Accuracy: 0.9997239475500345\n",
      "********** Model: rotation **********\n",
      "Accuracy: 0.5318150448585232\n",
      "********** Model: x **********\n",
      "Accuracy: 0.8612146307798482\n",
      "********** Model: y **********\n",
      "Accuracy: 0.8773636991028295\n",
      "\n",
      "******************** medium ********************\n",
      "********** Model: color **********\n",
      "Accuracy: 1.0\n",
      "********** Model: shape **********\n",
      "Accuracy: 1.0\n",
      "********** Model: scale **********\n",
      "Accuracy: 0.9996788180504256\n",
      "********** Model: rotation **********\n",
      "Accuracy: 0.5203147583105829\n",
      "********** Model: x **********\n",
      "Accuracy: 0.8385257748514533\n",
      "********** Model: y **********\n",
      "Accuracy: 0.8573149189015578\n",
      "\n",
      "******************** large ********************\n",
      "********** Model: color **********\n",
      "Accuracy: 1.0\n",
      "********** Model: shape **********\n",
      "Accuracy: 1.0\n",
      "********** Model: scale **********\n",
      "Accuracy: 0.9996972449288526\n",
      "********** Model: rotation **********\n",
      "Accuracy: 0.49732566353819757\n",
      "********** Model: x **********\n",
      "Accuracy: 0.7970531839741649\n",
      "********** Model: y **********\n",
      "Accuracy: 0.8206680795236654\n",
      "\n"
     ]
    }
   ],
   "source": [
    "# Print accuracy score (cbm)\n",
    "for x, y, c, intensity_str in zip(X_ko, y_ko, c_ko, [\"small\", \"medium\", \"large\"]):\n",
    "    print(\"*\"*20, intensity_str, \"*\"*20)\n",
    "    for i, pred in enumerate(itc_model.predict(x)):\n",
    "        print(\"*\"*10, f\"Model: {DSPRITES_CONCEPT_NAMES[i]}\", \"*\"*10)\n",
    "        c_truth = c[:, i]\n",
    "        c_pred = np.argmax(pred, axis=1)\n",
    "\n",
    "        print(f\"Accuracy: {accuracy_score(c_truth, c_pred)}\")\n",
    "    print()"
   ]
  },
  {
   "cell_type": "markdown",
   "id": "vertical-thursday",
   "metadata": {},
   "source": [
    "## Concept shift"
   ]
  },
  {
   "cell_type": "code",
   "execution_count": 28,
   "id": "reduced-bonus",
   "metadata": {},
   "outputs": [],
   "source": [
    "shift_intensities = [ShiftIntensity.Small, ShiftIntensity.Medium, ShiftIntensity.Large]\n",
    "X_cs = []\n",
    "y_cs = []\n",
    "c_cs = []\n",
    "\n",
    "for shift_intensity in shift_intensities:\n",
    "    X_shifted, y_shifted, c_shifted = deepcopy(X_test_flatten), deepcopy(y_test), deepcopy(c_test)\n",
    "    X_shifted, y_shifted, c_shifted = apply_concept_shift(X_shifted, y_shifted, c_shifted, 2, shift_intensity, cl=MAJORITY)\n",
    "    X_shifted = X_shifted.reshape(-1, ORIGINAL_SHAPE[0], ORIGINAL_SHAPE[1], ORIGINAL_SHAPE[2])\n",
    "    X_cs.append(X_shifted)\n",
    "    y_cs.append(y_shifted)\n",
    "    c_cs.append(c_shifted)"
   ]
  },
  {
   "cell_type": "code",
   "execution_count": 29,
   "id": "requested-wrapping",
   "metadata": {
    "scrolled": true
   },
   "outputs": [
    {
     "name": "stdout",
     "output_type": "stream",
     "text": [
      "******************** small ********************\n",
      "Accuracy: 0.9998643699986437\n",
      "******************** medium ********************\n",
      "Accuracy: 0.9998543441846915\n",
      "******************** large ********************\n",
      "Accuracy: 0.9998395121168352\n"
     ]
    }
   ],
   "source": [
    "# Print accuracy score (end-to-end)\n",
    "for x, y, c, intensity_str in zip(X_cs, y_cs, c_cs, [\"small\", \"medium\", \"large\"]):\n",
    "    print(\"*\"*20, intensity_str, \"*\"*20)\n",
    "    y_pred = end_to_end_model.predict(x)\n",
    "    y_pred = np.argmax(y_pred, axis=1)\n",
    "    print(f\"Accuracy: {accuracy_score(y, y_pred)}\")"
   ]
  },
  {
   "cell_type": "code",
   "execution_count": 30,
   "id": "overhead-helping",
   "metadata": {
    "scrolled": true
   },
   "outputs": [
    {
     "name": "stdout",
     "output_type": "stream",
     "text": [
      "******************** small ********************\n",
      "********** Model: color **********\n",
      "Accuracy: 1.0\n",
      "********** Model: shape **********\n",
      "Accuracy: 1.0\n",
      "********** Model: scale **********\n",
      "Accuracy: 0.9997287399972874\n",
      "********** Model: rotation **********\n",
      "Accuracy: 0.5323477553234776\n",
      "********** Model: x **********\n",
      "Accuracy: 0.8653194086531941\n",
      "********** Model: y **********\n",
      "Accuracy: 0.8813237488132375\n",
      "\n",
      "******************** medium ********************\n",
      "********** Model: color **********\n",
      "Accuracy: 1.0\n",
      "********** Model: shape **********\n",
      "Accuracy: 1.0\n",
      "********** Model: scale **********\n",
      "Accuracy: 0.9997086883693832\n",
      "********** Model: rotation **********\n",
      "Accuracy: 0.5285121258466244\n",
      "********** Model: x **********\n",
      "Accuracy: 0.8641759522248926\n",
      "********** Model: y **********\n",
      "Accuracy: 0.8802709198164737\n",
      "\n",
      "******************** large ********************\n",
      "********** Model: color **********\n",
      "Accuracy: 1.0\n",
      "********** Model: shape **********\n",
      "Accuracy: 1.0\n",
      "********** Model: scale **********\n",
      "Accuracy: 0.9999197560584175\n",
      "********** Model: rotation **********\n",
      "Accuracy: 0.5186165944471193\n",
      "********** Model: x **********\n",
      "Accuracy: 0.8620606644198363\n",
      "********** Model: y **********\n",
      "Accuracy: 0.879794575509549\n",
      "\n"
     ]
    }
   ],
   "source": [
    "# Print accuracy score (cbm)\n",
    "for x, y, c, intensity_str in zip(X_cs, y_cs, c_cs, [\"small\", \"medium\", \"large\"]):\n",
    "    print(\"*\"*20, intensity_str, \"*\"*20)\n",
    "    for i, pred in enumerate(itc_model.predict(x)):\n",
    "        print(\"*\"*10, f\"Model: {DSPRITES_CONCEPT_NAMES[i]}\", \"*\"*10)\n",
    "        c_truth = c[:, i]\n",
    "        c_pred = np.argmax(pred, axis=1)\n",
    "\n",
    "        print(f\"Accuracy: {accuracy_score(c_truth, c_pred)}\")\n",
    "    print()"
   ]
  },
  {
   "cell_type": "markdown",
   "id": "american-northeast",
   "metadata": {},
   "source": [
    "## Image shift"
   ]
  },
  {
   "cell_type": "code",
   "execution_count": 31,
   "id": "abroad-bleeding",
   "metadata": {},
   "outputs": [],
   "source": [
    "shift_intensities = [ShiftIntensity.Small, ShiftIntensity.Medium, ShiftIntensity.Large]\n",
    "X_img = []\n",
    "\n",
    "for shift_intensity in shift_intensities:\n",
    "    X_shifted = deepcopy(X_test_flatten)\n",
    "    X_shifted, _ = apply_img_shift(X_shifted, y_test, ORIGINAL_SHAPE,\n",
    "                                   shift_intensity, 1.0, ShiftType.All)\n",
    "    X_shifted = X_shifted.reshape(-1, ORIGINAL_SHAPE[0], ORIGINAL_SHAPE[1], ORIGINAL_SHAPE[2])\n",
    "    X_img.append(X_shifted)"
   ]
  },
  {
   "cell_type": "code",
   "execution_count": 32,
   "id": "organic-wedding",
   "metadata": {
    "scrolled": true
   },
   "outputs": [
    {
     "name": "stdout",
     "output_type": "stream",
     "text": [
      "******************** small ********************\n",
      "Accuracy: 0.989\n",
      "******************** medium ********************\n",
      "Accuracy: 0.8778666666666667\n",
      "******************** large ********************\n",
      "Accuracy: 0.6262666666666666\n"
     ]
    }
   ],
   "source": [
    "# Print accuracy score (end-to-end)\n",
    "for x, intensity_str in zip(X_img, [\"small\", \"medium\", \"large\"]):\n",
    "    print(\"*\"*20, intensity_str, \"*\"*20)\n",
    "    y_pred = end_to_end_model.predict(x)\n",
    "    y_pred = np.argmax(y_pred, axis=1)\n",
    "    print(f\"Accuracy: {accuracy_score(y_test, y_pred)}\")"
   ]
  },
  {
   "cell_type": "code",
   "execution_count": 33,
   "id": "biblical-effectiveness",
   "metadata": {
    "scrolled": true
   },
   "outputs": [
    {
     "name": "stdout",
     "output_type": "stream",
     "text": [
      "******************** small ********************\n",
      "********** Model: color **********\n",
      "Accuracy: 1.0\n",
      "********** Model: shape **********\n",
      "Accuracy: 0.9872666666666666\n",
      "********** Model: scale **********\n",
      "Accuracy: 0.8312666666666667\n",
      "********** Model: rotation **********\n",
      "Accuracy: 0.15386666666666668\n",
      "********** Model: x **********\n",
      "Accuracy: 0.1884\n",
      "********** Model: y **********\n",
      "Accuracy: 0.18406666666666666\n",
      "\n",
      "******************** medium ********************\n",
      "********** Model: color **********\n",
      "Accuracy: 1.0\n",
      "********** Model: shape **********\n",
      "Accuracy: 0.8495333333333334\n",
      "********** Model: scale **********\n",
      "Accuracy: 0.5410666666666667\n",
      "********** Model: rotation **********\n",
      "Accuracy: 0.0336\n",
      "********** Model: x **********\n",
      "Accuracy: 0.03286666666666667\n",
      "********** Model: y **********\n",
      "Accuracy: 0.05413333333333333\n",
      "\n",
      "******************** large ********************\n",
      "********** Model: color **********\n",
      "Accuracy: 1.0\n",
      "********** Model: shape **********\n",
      "Accuracy: 0.5819333333333333\n",
      "********** Model: scale **********\n",
      "Accuracy: 0.3065333333333333\n",
      "********** Model: rotation **********\n",
      "Accuracy: 0.0224\n",
      "********** Model: x **********\n",
      "Accuracy: 0.030666666666666665\n",
      "********** Model: y **********\n",
      "Accuracy: 0.0306\n",
      "\n"
     ]
    }
   ],
   "source": [
    "# Print accuracy score (cbm)\n",
    "for x, intensity_str in zip(X_img, [\"small\", \"medium\", \"large\"]):\n",
    "    print(\"*\"*20, intensity_str, \"*\"*20)\n",
    "    for i, pred in enumerate(itc_model.predict(x)):\n",
    "        print(\"*\"*10, f\"Model: {DSPRITES_CONCEPT_NAMES[i]}\", \"*\"*10)\n",
    "        c_truth = c_test[:, i]\n",
    "        c_pred = np.argmax(pred, axis=1)\n",
    "\n",
    "        print(f\"Accuracy: {accuracy_score(c_truth, c_pred)}\")\n",
    "    print()"
   ]
  },
  {
   "cell_type": "markdown",
   "id": "indian-director",
   "metadata": {},
   "source": [
    "## Adversarial shift"
   ]
  },
  {
   "cell_type": "code",
   "execution_count": 35,
   "id": "faced-familiar",
   "metadata": {},
   "outputs": [],
   "source": [
    "shift_intensities = [ShiftIntensity.Small, ShiftIntensity.Medium, ShiftIntensity.Large]\n",
    "X_adv = []\n",
    "\n",
    "for shift_intensity in shift_intensities:\n",
    "    X_shifted = deepcopy(X_test_flatten)\n",
    "    X_shifted, _ = apply_adversarial_shift(X_shifted, y_test, adv_samples,\n",
    "                                   range(len(X_shifted)), shift_intensity)\n",
    "    X_shifted = X_shifted.reshape(-1, ORIGINAL_SHAPE[0], ORIGINAL_SHAPE[1], ORIGINAL_SHAPE[2])\n",
    "    X_adv.append(X_shifted)"
   ]
  },
  {
   "cell_type": "code",
   "execution_count": 37,
   "id": "classical-impossible",
   "metadata": {},
   "outputs": [
    {
     "name": "stdout",
     "output_type": "stream",
     "text": [
      "******************** small ********************\n",
      "Accuracy: 0.9582\n",
      "******************** medium ********************\n",
      "Accuracy: 0.7922\n",
      "******************** large ********************\n",
      "Accuracy: 0.5861333333333333\n"
     ]
    }
   ],
   "source": [
    "# Print accuracy score (end-to-end)\n",
    "for x, intensity_str in zip(X_adv, [\"small\", \"medium\", \"large\"]):\n",
    "    print(\"*\"*20, intensity_str, \"*\"*20)\n",
    "    y_pred = end_to_end_model.predict(x)\n",
    "    y_pred = np.argmax(y_pred, axis=1)\n",
    "    print(f\"Accuracy: {accuracy_score(y_test, y_pred)}\")"
   ]
  },
  {
   "cell_type": "code",
   "execution_count": 38,
   "id": "adjustable-connection",
   "metadata": {
    "scrolled": true
   },
   "outputs": [
    {
     "name": "stdout",
     "output_type": "stream",
     "text": [
      "******************** small ********************\n",
      "********** Model: color **********\n",
      "Accuracy: 1.0\n",
      "********** Model: shape **********\n",
      "Accuracy: 0.9618666666666666\n",
      "********** Model: scale **********\n",
      "Accuracy: 0.9358666666666666\n",
      "********** Model: rotation **********\n",
      "Accuracy: 0.49493333333333334\n",
      "********** Model: x **********\n",
      "Accuracy: 0.842\n",
      "********** Model: y **********\n",
      "Accuracy: 0.8533333333333334\n",
      "\n",
      "******************** medium ********************\n",
      "********** Model: color **********\n",
      "Accuracy: 1.0\n",
      "********** Model: shape **********\n",
      "Accuracy: 0.8110666666666667\n",
      "********** Model: scale **********\n",
      "Accuracy: 0.692\n",
      "********** Model: rotation **********\n",
      "Accuracy: 0.3346\n",
      "********** Model: x **********\n",
      "Accuracy: 0.7335333333333334\n",
      "********** Model: y **********\n",
      "Accuracy: 0.7420666666666667\n",
      "\n",
      "******************** large ********************\n",
      "********** Model: color **********\n",
      "Accuracy: 1.0\n",
      "********** Model: shape **********\n",
      "Accuracy: 0.6236\n",
      "********** Model: scale **********\n",
      "Accuracy: 0.37653333333333333\n",
      "********** Model: rotation **********\n",
      "Accuracy: 0.13566666666666666\n",
      "********** Model: x **********\n",
      "Accuracy: 0.6036\n",
      "********** Model: y **********\n",
      "Accuracy: 0.5934\n",
      "\n"
     ]
    }
   ],
   "source": [
    "# Print accuracy score (cbm)\n",
    "for x, intensity_str in zip(X_adv, [\"small\", \"medium\", \"large\"]):\n",
    "    print(\"*\"*20, intensity_str, \"*\"*20)\n",
    "    for i, pred in enumerate(itc_model.predict(x)):\n",
    "        print(\"*\"*10, f\"Model: {DSPRITES_CONCEPT_NAMES[i]}\", \"*\"*10)\n",
    "        c_truth = c_test[:, i]\n",
    "        c_pred = np.argmax(pred, axis=1)\n",
    "\n",
    "        print(f\"Accuracy: {accuracy_score(c_truth, c_pred)}\")\n",
    "    print()"
   ]
  }
 ],
 "metadata": {
  "kernelspec": {
   "display_name": "Python 3",
   "language": "python",
   "name": "python3"
  },
  "language_info": {
   "codemirror_mode": {
    "name": "ipython",
    "version": 3
   },
   "file_extension": ".py",
   "mimetype": "text/x-python",
   "name": "python",
   "nbconvert_exporter": "python",
   "pygments_lexer": "ipython3",
   "version": "3.8.5"
  }
 },
 "nbformat": 4,
 "nbformat_minor": 5
}
