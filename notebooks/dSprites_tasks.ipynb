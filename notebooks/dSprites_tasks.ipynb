{
 "cells": [
  {
   "cell_type": "markdown",
   "metadata": {
    "id": "wrYrVbDBcQ2h"
   },
   "source": [
    "# dSprites - Disentanglement testing Sprites dataset\n",
    "\n",
    "**Description**: In this notebook, we will load and explore the datasets. We will also replicate the experiments shown in the CME paper.\n",
    "\n",
    "**Details**: The dSprite dataset consists of 2D shapes procedurally generated from 6 ground truth independent latent factors: *color (1 possible value), shape (3 possible values), scale (6), rotation (40), x (32) and y (32) positions of a sprite*. All possible combinations of these latents are present exactly once generating 737,280 total images shown in the dataset.\n",
    "\n",
    "**Notes**: see [dSprites](https://github.com/deepmind/dsprites-dataset) for more details."
   ]
  },
  {
   "cell_type": "code",
   "execution_count": 2,
   "metadata": {
    "colab": {
     "base_uri": "https://localhost:8080/"
    },
    "id": "rEo_G8H6cY1p",
    "outputId": "ebc16b8c-1ae3-4ce7-f822-d5933a82b28f"
   },
   "outputs": [
    {
     "name": "stdout",
     "output_type": "stream",
     "text": [
      "Drive already mounted at /content/drive; to attempt to forcibly remount, call drive.mount(\"/content/drive\", force_remount=True).\n"
     ]
    }
   ],
   "source": [
    "# If using colab\n",
    "from google.colab import drive\n",
    "drive.mount('/content/drive')"
   ]
  },
  {
   "cell_type": "code",
   "execution_count": 3,
   "metadata": {
    "id": "OIt3fMuOcQ2i"
   },
   "outputs": [],
   "source": [
    "import numpy as np\n",
    "import matplotlib.pyplot as plt\n",
    "import seaborn as sns\n",
    "from sklearn.model_selection import train_test_split\n",
    "import tensorflow as tf\n",
    "from sklearn.metrics import confusion_matrix, classification_report, accuracy_score, plot_confusion_matrix\n",
    "from sklearn.linear_model import LogisticRegression\n",
    "from sklearn.tree import DecisionTreeClassifier\n",
    "from tensorflow.python.keras.layers import Conv2D, MaxPooling2D, Flatten, Dense, Dropout, BatchNormalization\n",
    "\n",
    "\n",
    "# Change figure aesthetics\n",
    "%matplotlib inline\n",
    "# sns.set_context('talk', font_scale=1.2, rc={'lines.linewidth': 1.5})"
   ]
  },
  {
   "cell_type": "markdown",
   "metadata": {
    "id": "HRaxwsNpcQ2i"
   },
   "source": [
    "## Utilities\n",
    "\n",
    "Contains helper functions."
   ]
  },
  {
   "cell_type": "code",
   "execution_count": 5,
   "metadata": {
    "id": "WK55lLm4cQ2i"
   },
   "outputs": [],
   "source": [
    "def get_latent_sizes():\n",
    "    \"\"\"\n",
    "    Get the size of each concept (see details above).\n",
    "    \"\"\"\n",
    "    \n",
    "    return np.array([1, 3, 6, 40, 32, 32])\n",
    "\n",
    "def get_latent_bases():\n",
    "    \"\"\"\n",
    "    Given vector (x, y, z) where each dimension is in base (a, b, c).\n",
    "    The following function will convert each of (x, y, z) dimensions to decimal.\n",
    "    \"\"\"\n",
    "    \n",
    "    latent_sizes = get_latent_sizes()\n",
    "    latent_bases = np.concatenate((latent_sizes[::-1].cumprod()[::-1][1:],\n",
    "                                np.array([1,])))\n",
    "    \n",
    "    return latent_bases"
   ]
  },
  {
   "cell_type": "code",
   "execution_count": 6,
   "metadata": {
    "id": "c6Yu2R2lcQ2i"
   },
   "outputs": [],
   "source": [
    "def sample_latent(size=1):\n",
    "    \"\"\"\n",
    "    Used to randomly sample latent of size 'size'\n",
    "    \"\"\"\n",
    "    \n",
    "    latents_sizes = get_latent_sizes()\n",
    "    samples = np.zeros((size, len(latents_sizes)))\n",
    "    for lat_i, lat_size in enumerate(latents_sizes):\n",
    "        samples[:, lat_i] = np.random.randint(lat_size, size=size)\n",
    "\n",
    "    return samples"
   ]
  },
  {
   "cell_type": "code",
   "execution_count": 7,
   "metadata": {
    "id": "1se_qqagcQ2i"
   },
   "outputs": [],
   "source": [
    "def latent_to_index(latents):\n",
    "    \"\"\"\n",
    "    Convert from given latent to index position of it in the dataset\n",
    "    \"\"\"\n",
    "    \n",
    "    latents_bases = get_latent_bases()\n",
    "    return np.dot(latents, latents_bases).astype(int)"
   ]
  },
  {
   "cell_type": "code",
   "execution_count": 8,
   "metadata": {
    "id": "iMXgxeeicQ2i"
   },
   "outputs": [],
   "source": [
    "def show_images_grid(imgs_, num_images=25):\n",
    "    \"\"\"\n",
    "    Used to visualise dSprite image in a grid\n",
    "    \"\"\"\n",
    "    \n",
    "    ncols = int(np.ceil(num_images**0.5))\n",
    "    nrows = int(np.ceil(num_images / ncols))\n",
    "    _, axes = plt.subplots(ncols, nrows, figsize=(nrows * 3, ncols * 3))\n",
    "    axes = axes.flatten()\n",
    "    \n",
    "    # Draw images on the given grid\n",
    "    for ax_i, ax in enumerate(axes):\n",
    "        if ax_i < num_images:\n",
    "            ax.imshow(imgs_[ax_i], cmap='Greys_r',  interpolation='nearest')\n",
    "            ax.set_xticks([])\n",
    "            ax.set_yticks([])\n",
    "        else:\n",
    "            ax.axis('off')"
   ]
  },
  {
   "cell_type": "markdown",
   "metadata": {
    "id": "Q-XBbyvGcQ2i"
   },
   "source": [
    "## Exploring dSprites\n",
    "\n",
    "In this section, we will load and visualise the dSprite datasets."
   ]
  },
  {
   "cell_type": "markdown",
   "metadata": {
    "id": "pEBwalcTcQ2j"
   },
   "source": [
    "### Load dataset"
   ]
  },
  {
   "cell_type": "code",
   "execution_count": 9,
   "metadata": {
    "id": "NAwLMnZdcQ2j"
   },
   "outputs": [],
   "source": [
    "# Load dataset (the zip file)\n",
    "dataset_zip = np.load('drive/MyDrive/dsprites_ndarray_co1sh3sc6or40x32y32_64x64.npz')\n",
    "\n",
    "# Extract relevant datas from the zip file\n",
    "imgs = dataset_zip[\"imgs\"] # contains image data (737280 x 64 x 64)\n",
    "latents_values = dataset_zip['latents_values'] # values of latent factors (or in this case concepts)\n",
    "latents_classes = dataset_zip['latents_classes'] # classification targets (integer index of latents_values)"
   ]
  },
  {
   "cell_type": "markdown",
   "metadata": {
    "id": "NlwvIyY7cQ2j"
   },
   "source": [
    "### Draw samples"
   ]
  },
  {
   "cell_type": "code",
   "execution_count": 10,
   "metadata": {
    "colab": {
     "base_uri": "https://localhost:8080/",
     "height": 1000
    },
    "id": "alEOdSPHcQ2j",
    "outputId": "9c59ac16-795a-4bdc-e340-9b15f37a8660"
   },
   "outputs": [
    {
     "data": {
      "image/png": "[encoded data removed]",
      "text/plain": [
       "<Figure size 1512x1512 with 49 Axes>"
      ]
     },
     "metadata": {
      "tags": []
     },
     "output_type": "display_data"
    }
   ],
   "source": [
    "# Randomly sample some latents (from the dataset)\n",
    "latents_sampled = sample_latent(size=49)\n",
    "\n",
    "# Select images\n",
    "indices_sampled = latent_to_index(latents_sampled)\n",
    "imgs_sampled = imgs[indices_sampled]\n",
    "\n",
    "# Show images\n",
    "show_images_grid(imgs_sampled, num_images=49)"
   ]
  },
  {
   "cell_type": "markdown",
   "metadata": {
    "id": "-w9AsO7PcQ2k"
   },
   "source": [
    "### Splitting Training/ Testing Set"
   ]
  },
  {
   "cell_type": "code",
   "execution_count": 14,
   "metadata": {
    "id": "Y43ghU4oidSr"
   },
   "outputs": [],
   "source": [
    "# RAM cannot handle everything\n",
    "ndata = 100000\n",
    "imgs = imgs[:ndata]\n",
    "latents_classes = latents_classes[:ndata]"
   ]
  },
  {
   "cell_type": "code",
   "execution_count": 61,
   "metadata": {
    "colab": {
     "base_uri": "https://localhost:8080/"
    },
    "id": "f5f5jUpOcQ2k",
    "outputId": "1d631a97-e03d-4f69-ad95-b28f2b8ae25c"
   },
   "outputs": [
    {
     "name": "stdout",
     "output_type": "stream",
     "text": [
      "Training samples: 85000\n",
      "Testing samples: 15000\n"
     ]
    }
   ],
   "source": [
    "concept_names = ['color', 'shape', 'scale', 'rotation', 'x_pos', 'y_pos']\n",
    "class_index = 1 # shape\n",
    "\n",
    "X = imgs # image\n",
    "X = np.expand_dims(X, axis=-1)\n",
    "X = X.astype(('float32'))\n",
    "y = latents_classes[:, class_index] # shape for task 1\n",
    "c = latents_classes # concepts\n",
    "\n",
    "# Split X (image), y (shape for task 1), concepts to train test sets\n",
    "X_train, X_test, y_train, y_test, c_train, c_test = train_test_split(X, y, c, train_size=0.85)\n",
    "print('Training samples:', X_train.shape[0])\n",
    "print('Testing samples:', X_test.shape[0])"
   ]
  },
  {
   "cell_type": "code",
   "execution_count": 62,
   "metadata": {
    "id": "dKbk5sgTpb32"
   },
   "outputs": [],
   "source": [
    "# Validation set\n",
    "X_train, X_valid = X_train[:70000], X_train[70000:]\n",
    "y_train, y_valid = y_train[:70000], y_train[70000:]\n",
    "c_train, c_valid = c_train[:70000], c_train[70000:]"
   ]
  },
  {
   "cell_type": "markdown",
   "metadata": {
    "id": "XGcM3B3VcQ2k"
   },
   "source": [
    "## Input to Concept Model\n",
    "\n",
    "In this section, we will train input to concept model. The input to concept model will take an image and output concepts."
   ]
  },
  {
   "cell_type": "markdown",
   "metadata": {
    "id": "nba9DstnuycR"
   },
   "source": [
    "**Multitask Model**"
   ]
  },
  {
   "cell_type": "code",
   "execution_count": 78,
   "metadata": {
    "id": "ceLwaPuucQ2k"
   },
   "outputs": [],
   "source": [
    "def build_input_to_concept_model():\n",
    "    \"\"\"\n",
    "    Build and return multi-task model.\n",
    "    \"\"\"\n",
    "        \n",
    "    img_inputs = tf.keras.Input(shape=(64, 64, 1))\n",
    "    \n",
    "    # Shared layers\n",
    "    x = Conv2D(64, (8, 8), strides=(2, 2), padding='same')(img_inputs)\n",
    "    x = Dropout(0.3)(x)\n",
    "    \n",
    "    x =  Conv2D(128, (6, 6), strides=(2, 2), padding='valid')(x)\n",
    "    x = BatchNormalization()(x)\n",
    "    \n",
    "    x = Conv2D(128, (5, 5), strides=(1, 1), padding='valid')(x)\n",
    "    x = MaxPooling2D((2, 2))(x)\n",
    "    x = Dropout(0.3)(x)\n",
    "    \n",
    "    x = Flatten()(x)\n",
    "    x = Dense(128, activation=\"relu\")(x)\n",
    "    x = Dropout(0.4)(x)\n",
    "    x = Dense(64, activation=\"relu\")(x)\n",
    "    x = Dropout(0.2)(x)\n",
    "    \n",
    "    # Task specific layer\n",
    "    task_color = Dense(1, activation=\"softmax\", name=\"color\")(x)\n",
    "    task_shape = Dense(3, activation=\"softmax\", name=\"shape\")(x)\n",
    "    task_scale = Dense(6, activation=\"softmax\", name=\"scale\")(x)\n",
    "    task_rotation = Dense(40, activation=\"softmax\", name=\"rotation\")(x)\n",
    "    task_x = Dense(32, activation=\"softmax\", name=\"x\")(x)\n",
    "    task_y = Dense(32, activation=\"softmax\", name=\"y\")(x)\n",
    "    \n",
    "    # Compile model\n",
    "    optimizer = tf.keras.optimizers.Adam(lr=1e-4, amsgrad=True)\n",
    "    model = tf.keras.Model(inputs=img_inputs, outputs=[task_color, task_shape, task_scale, task_rotation, task_x, task_y])\n",
    "    model.compile(optimizer=optimizer,\n",
    "                 loss={\n",
    "                     \"color\": \"sparse_categorical_crossentropy\",\n",
    "                     \"shape\": \"sparse_categorical_crossentropy\",\n",
    "                     \"scale\": \"sparse_categorical_crossentropy\",\n",
    "                     \"rotation\": \"sparse_categorical_crossentropy\",\n",
    "                     \"x\": \"sparse_categorical_crossentropy\",\n",
    "                     \"y\": \"sparse_categorical_crossentropy\",\n",
    "                 })\n",
    "    \n",
    "    # Return\n",
    "    return model"
   ]
  },
  {
   "cell_type": "code",
   "execution_count": null,
   "metadata": {
    "id": "-QyzBUlfcQ2k"
   },
   "outputs": [],
   "source": [
    "epochs = 10\n",
    "batch_size = 128\n",
    "model = build_input_to_concept_model()\n",
    "history = model.fit(x=X_train, y=y_train, epochs=epochs, batch_size=batch_size)"
   ]
  },
  {
   "cell_type": "markdown",
   "metadata": {
    "id": "Y7vtdb4-u3UZ"
   },
   "source": [
    "**Independent Models**"
   ]
  },
  {
   "cell_type": "code",
   "execution_count": 86,
   "metadata": {
    "id": "NVMgpHodcQ2l"
   },
   "outputs": [],
   "source": [
    "def build_dsprites_model(input_shape, num_classes=10):\n",
    "\n",
    "    model = tf.keras.Sequential([\n",
    "\n",
    "        Conv2D(64, (8, 8), strides=(2, 2), padding='same', input_shape=input_shape),\n",
    "        Dropout(0.3),\n",
    "\n",
    "        Conv2D(128, (6, 6), strides=(2, 2), padding='valid'),\n",
    "        BatchNormalization(),\n",
    "\n",
    "        Conv2D(128, (5, 5), strides=(1, 1), padding='valid'),\n",
    "        MaxPooling2D((2, 2)),\n",
    "        Dropout(0.3),\n",
    "\n",
    "        Flatten(),\n",
    "        Dense(128, activation='relu'),\n",
    "        Dropout(0.4),\n",
    "        Dense(64, activation='relu'),\n",
    "        Dropout(0.2),\n",
    "        Dense(num_classes, activation='softmax')\n",
    "    ])\n",
    "\n",
    "    optimizer = tf.keras.optimizers.Adam(lr=1e-4, amsgrad=True)\n",
    "\n",
    "    model.compile(optimizer=optimizer,\n",
    "                  loss='sparse_categorical_crossentropy',\n",
    "                  metrics=['accuracy'])\n",
    "\n",
    "    return model"
   ]
  },
  {
   "cell_type": "code",
   "execution_count": 87,
   "metadata": {
    "id": "o4hfLnjWvB9N"
   },
   "outputs": [],
   "source": [
    "# Build individual models\n",
    "model_color = build_dsprites_model(X_train.shape[1:], num_classes=1)\n",
    "model_shape = build_dsprites_model(X_train.shape[1:], num_classes=3)\n",
    "model_scale = build_dsprites_model(X_train.shape[1:], num_classes=6)\n",
    "model_rotation = build_dsprites_model(X_train.shape[1:], num_classes=40)\n",
    "model_x = build_dsprites_model(X_train.shape[1:], num_classes=32)\n",
    "model_y = build_dsprites_model(X_train.shape[1:], num_classes=32)\n",
    "\n",
    "models = [model_color, model_shape, model_scale, model_rotation, model_x, model_y]"
   ]
  },
  {
   "cell_type": "code",
   "execution_count": 88,
   "metadata": {
    "colab": {
     "base_uri": "https://localhost:8080/"
    },
    "id": "5YBX7Thbv0yi",
    "outputId": "56ffc7ab-a1aa-4fde-e332-d3c0acc40753"
   },
   "outputs": [
    {
     "name": "stdout",
     "output_type": "stream",
     "text": [
      "547/547 [==============================] - 15s 27ms/step - loss: 0.7529 - accuracy: 0.7180 - val_loss: 0.0517 - val_accuracy: 0.9987\n",
      "Epoch 3/10\n",
      "547/547 [==============================] - 15s 27ms/step - loss: 0.4173 - accuracy: 0.8438 - val_loss: 0.0173 - val_accuracy: 0.9993\n",
      "Epoch 4/10\n",
      "547/547 [==============================] - 15s 28ms/step - loss: 0.2804 - accuracy: 0.8962 - val_loss: 0.0053 - val_accuracy: 0.9998\n",
      "Epoch 5/10\n",
      "547/547 [==============================] - 15s 28ms/step - loss: 0.2047 - accuracy: 0.9254 - val_loss: 0.0037 - val_accuracy: 1.0000\n",
      "Epoch 6/10\n",
      "547/547 [==============================] - 15s 27ms/step - loss: 0.1627 - accuracy: 0.9402 - val_loss: 0.0019 - val_accuracy: 0.9999\n",
      "Epoch 7/10\n",
      "547/547 [==============================] - 15s 28ms/step - loss: 0.1283 - accuracy: 0.9519 - val_loss: 0.0011 - val_accuracy: 1.0000\n",
      "Epoch 8/10\n",
      "547/547 [==============================] - 15s 27ms/step - loss: 0.1070 - accuracy: 0.9621 - val_loss: 5.2725e-04 - val_accuracy: 1.0000\n",
      "Epoch 9/10\n",
      "547/547 [==============================] - 15s 27ms/step - loss: 0.0926 - accuracy: 0.9666 - val_loss: 4.2841e-04 - val_accuracy: 1.0000\n",
      "Epoch 10/10\n",
      "547/547 [==============================] - 15s 28ms/step - loss: 0.0792 - accuracy: 0.9718 - val_loss: 3.5131e-04 - val_accuracy: 0.9999\n"
     ]
    }
   ],
   "source": [
    "epochs = 10\n",
    "batch_size = 128\n",
    "histories = []\n",
    "\n",
    "# Train model\n",
    "for i, m in enumerate(models):\n",
    "    history = m.fit(x=X_train, y=c_train[:, i], epochs=epochs, batch_size=batch_size, validation_data=(X_valid, c_valid[:, i]))\n",
    "    histories.append(history)"
   ]
  },
  {
   "cell_type": "code",
   "execution_count": 92,
   "metadata": {
    "colab": {
     "base_uri": "https://localhost:8080/",
     "height": 483
    },
    "id": "ZeBGqSK7vrN9",
    "outputId": "56dc20f4-bf60-480f-c99d-f1b2a69a9682"
   },
   "outputs": [
    {
     "data": {
      "image/png": "[encoded data removed]",
      "text/plain": [
       "<Figure size 864x576 with 6 Axes>"
      ]
     },
     "metadata": {
      "needs_background": "light",
      "tags": []
     },
     "output_type": "display_data"
    }
   ],
   "source": [
    "fig = plt.figure(figsize=(12, 8))\n",
    "ax1 = fig.add_subplot(231)\n",
    "ax2 = fig.add_subplot(232)\n",
    "ax3 = fig.add_subplot(233)\n",
    "ax4 = fig.add_subplot(234)\n",
    "ax5 = fig.add_subplot(235)\n",
    "ax6 = fig.add_subplot(236)\n",
    "axes = [ax1, ax2, ax3, ax4, ax5, ax6]\n",
    "\n",
    "# Plot training validation loss\n",
    "for ax, history in zip(axes, histories):\n",
    "    ax.plot(history.history[\"loss\"], label=\"Training Loss\")\n",
    "    ax.plot(history.history[\"val_loss\"], label=\"Validation Loss\")\n",
    "\n",
    "    ax.grid(True)\n",
    "    ax.legend()\n",
    "plt.show()"
   ]
  },
  {
   "cell_type": "code",
   "execution_count": 94,
   "metadata": {
    "colab": {
     "base_uri": "https://localhost:8080/"
    },
    "id": "eZ25dzqWyNzG",
    "outputId": "43cbba45-781e-493c-e0ca-5e5a95d600c1",
    "scrolled": true
   },
   "outputs": [
    {
     "name": "stdout",
     "output_type": "stream",
     "text": [
      "Model: color\n",
      "              precision    recall  f1-score   support\n",
      "\n",
      "           0       1.00      1.00      1.00     15000\n",
      "\n",
      "    accuracy                           1.00     15000\n",
      "   macro avg       1.00      1.00      1.00     15000\n",
      "weighted avg       1.00      1.00      1.00     15000\n",
      "\n",
      "[[15000]]\n",
      "\n",
      "\n",
      "\n",
      "Model: shape\n",
      "              precision    recall  f1-score   support\n",
      "\n",
      "           0       1.00      1.00      1.00     15000\n",
      "\n",
      "    accuracy                           1.00     15000\n",
      "   macro avg       1.00      1.00      1.00     15000\n",
      "weighted avg       1.00      1.00      1.00     15000\n",
      "\n",
      "[[15000]]\n",
      "\n",
      "\n",
      "\n",
      "Model: scale\n",
      "              precision    recall  f1-score   support\n",
      "\n",
      "           0       1.00      1.00      1.00      6151\n",
      "           1       1.00      1.00      1.00      6108\n",
      "           2       1.00      1.00      1.00      2741\n",
      "\n",
      "    accuracy                           1.00     15000\n",
      "   macro avg       1.00      1.00      1.00     15000\n",
      "weighted avg       1.00      1.00      1.00     15000\n",
      "\n",
      "[[6151    0    0]\n",
      " [   0 6108    0]\n",
      " [   0    0 2741]]\n",
      "\n",
      "\n",
      "\n",
      "Model: rotation\n",
      "              precision    recall  f1-score   support\n",
      "\n",
      "           0       0.47      0.52      0.49       435\n",
      "           1       0.94      0.80      0.87       457\n",
      "           2       0.73      0.93      0.82       457\n",
      "           3       0.78      0.68      0.73       446\n",
      "           4       0.84      0.96      0.90       489\n",
      "           5       0.60      0.73      0.66       477\n",
      "           6       0.74      0.90      0.81       450\n",
      "           7       0.76      0.68      0.72       477\n",
      "           8       0.99      0.77      0.87       471\n",
      "           9       0.81      0.87      0.84       450\n",
      "          10       0.77      0.48      0.59       456\n",
      "          11       0.88      0.96      0.92       480\n",
      "          12       0.89      0.62      0.73       478\n",
      "          13       0.82      0.76      0.79       437\n",
      "          14       0.88      0.78      0.83       462\n",
      "          15       0.69      0.53      0.60       459\n",
      "          16       0.81      0.67      0.73       450\n",
      "          17       0.58      0.92      0.71       411\n",
      "          18       0.70      0.98      0.82       318\n",
      "          19       0.63      0.67      0.65       299\n",
      "          20       0.64      0.77      0.70       311\n",
      "          21       0.80      0.87      0.83       319\n",
      "          22       0.76      0.61      0.68       298\n",
      "          23       0.81      0.87      0.84       321\n",
      "          24       0.70      0.68      0.69       318\n",
      "          25       0.64      0.64      0.64       297\n",
      "          26       0.73      0.76      0.74       320\n",
      "          27       0.84      0.44      0.57       305\n",
      "          28       0.87      0.76      0.81       288\n",
      "          29       0.73      0.03      0.05       301\n",
      "          30       0.72      0.86      0.78       339\n",
      "          31       0.88      0.75      0.81       337\n",
      "          32       0.61      0.92      0.73       297\n",
      "          33       0.93      0.78      0.85       312\n",
      "          34       0.60      0.48      0.54       325\n",
      "          35       0.68      0.97      0.80       293\n",
      "          36       0.84      0.46      0.59       291\n",
      "          37       0.77      0.93      0.84       299\n",
      "          38       0.84      0.88      0.86       286\n",
      "          39       0.33      0.62      0.43       284\n",
      "\n",
      "    accuracy                           0.74     15000\n",
      "   macro avg       0.75      0.73      0.72     15000\n",
      "weighted avg       0.76      0.74      0.73     15000\n",
      "\n",
      "[[227   0   0 ...   0   0 179]\n",
      " [  0 367   0 ...   0   0   0]\n",
      " [  0   0 427 ...   0   0   0]\n",
      " ...\n",
      " [  0   0   0 ... 279   0   0]\n",
      " [  0   0   0 ...   0 253   0]\n",
      " [104   0   0 ...   0   0 175]]\n",
      "\n",
      "\n",
      "\n",
      "Model: x_pos\n",
      "              precision    recall  f1-score   support\n",
      "\n",
      "           0       1.00      1.00      1.00       472\n",
      "           1       1.00      1.00      1.00       457\n",
      "           2       1.00      1.00      1.00       459\n",
      "           3       1.00      1.00      1.00       463\n",
      "           4       1.00      1.00      1.00       451\n",
      "           5       1.00      1.00      1.00       476\n",
      "           6       1.00      1.00      1.00       461\n",
      "           7       1.00      1.00      1.00       444\n",
      "           8       1.00      1.00      1.00       495\n",
      "           9       1.00      1.00      1.00       465\n",
      "          10       1.00      1.00      1.00       447\n",
      "          11       1.00      1.00      1.00       485\n",
      "          12       1.00      1.00      1.00       471\n",
      "          13       1.00      1.00      1.00       477\n",
      "          14       1.00      1.00      1.00       459\n",
      "          15       1.00      1.00      1.00       458\n",
      "          16       1.00      1.00      1.00       453\n",
      "          17       1.00      1.00      1.00       468\n",
      "          18       1.00      1.00      1.00       500\n",
      "          19       1.00      1.00      1.00       444\n",
      "          20       1.00      1.00      1.00       458\n",
      "          21       1.00      1.00      1.00       472\n",
      "          22       1.00      1.00      1.00       483\n",
      "          23       1.00      1.00      1.00       482\n",
      "          24       1.00      1.00      1.00       482\n",
      "          25       1.00      1.00      1.00       464\n",
      "          26       1.00      1.00      1.00       451\n",
      "          27       1.00      1.00      1.00       489\n",
      "          28       1.00      1.00      1.00       473\n",
      "          29       1.00      1.00      1.00       479\n",
      "          30       1.00      1.00      1.00       482\n",
      "          31       1.00      1.00      1.00       480\n",
      "\n",
      "    accuracy                           1.00     15000\n",
      "   macro avg       1.00      1.00      1.00     15000\n",
      "weighted avg       1.00      1.00      1.00     15000\n",
      "\n",
      "[[472   0   0 ...   0   0   0]\n",
      " [  0 457   0 ...   0   0   0]\n",
      " [  0   0 459 ...   0   0   0]\n",
      " ...\n",
      " [  0   0   0 ... 479   0   0]\n",
      " [  0   0   0 ...   0 482   0]\n",
      " [  0   0   0 ...   0   0 480]]\n",
      "\n",
      "\n",
      "\n",
      "Model: y_pos\n",
      "              precision    recall  f1-score   support\n",
      "\n",
      "           0       1.00      1.00      1.00       465\n",
      "           1       1.00      1.00      1.00       452\n",
      "           2       1.00      1.00      1.00       448\n",
      "           3       1.00      1.00      1.00       497\n",
      "           4       1.00      1.00      1.00       460\n",
      "           5       1.00      1.00      1.00       460\n",
      "           6       1.00      1.00      1.00       433\n",
      "           7       1.00      1.00      1.00       446\n",
      "           8       1.00      1.00      1.00       486\n",
      "           9       1.00      1.00      1.00       465\n",
      "          10       1.00      1.00      1.00       479\n",
      "          11       1.00      1.00      1.00       461\n",
      "          12       1.00      1.00      1.00       485\n",
      "          13       1.00      1.00      1.00       447\n",
      "          14       1.00      1.00      1.00       485\n",
      "          15       1.00      1.00      1.00       474\n",
      "          16       1.00      1.00      1.00       485\n",
      "          17       1.00      1.00      1.00       466\n",
      "          18       1.00      1.00      1.00       476\n",
      "          19       1.00      1.00      1.00       489\n",
      "          20       1.00      1.00      1.00       494\n",
      "          21       1.00      1.00      1.00       484\n",
      "          22       1.00      1.00      1.00       457\n",
      "          23       1.00      1.00      1.00       446\n",
      "          24       1.00      1.00      1.00       464\n",
      "          25       1.00      1.00      1.00       500\n",
      "          26       1.00      1.00      1.00       474\n",
      "          27       1.00      1.00      1.00       457\n",
      "          28       1.00      1.00      1.00       477\n",
      "          29       1.00      1.00      1.00       512\n",
      "          30       1.00      1.00      1.00       429\n",
      "          31       1.00      1.00      1.00       447\n",
      "\n",
      "    accuracy                           1.00     15000\n",
      "   macro avg       1.00      1.00      1.00     15000\n",
      "weighted avg       1.00      1.00      1.00     15000\n",
      "\n",
      "[[465   0   0 ...   0   0   0]\n",
      " [  0 452   0 ...   0   0   0]\n",
      " [  0   0 448 ...   0   0   0]\n",
      " ...\n",
      " [  0   0   0 ... 512   0   0]\n",
      " [  0   0   0 ...   0 429   0]\n",
      " [  0   0   0 ...   0   0 447]]\n",
      "\n",
      "\n",
      "\n"
     ]
    }
   ],
   "source": [
    "# Evaluation\n",
    "\n",
    "for i, model in enumerate(models):\n",
    "    print(f\"Model: {concept_names[i]}\")\n",
    "    c_truth = c_test[:, i]\n",
    "    c_pred = np.argmax(model.predict(X_test), axis=1)\n",
    "    print(classification_report(c_truth, c_pred))\n",
    "    print(confusion_matrix(c_truth, c_pred))\n",
    "    print(\"\\n\\n\")"
   ]
  },
  {
   "cell_type": "markdown",
   "metadata": {
    "id": "fljiyIOOcQ2l"
   },
   "source": [
    "## Concept to Output Model\n",
    "\n",
    "In this section, we will train concept to output model. The model will take concepts as input and shape as output."
   ]
  },
  {
   "cell_type": "code",
   "execution_count": 95,
   "metadata": {
    "colab": {
     "base_uri": "https://localhost:8080/"
    },
    "id": "y9Ew55KMcQ2l",
    "outputId": "845cea96-5f3a-4260-a473-e40d83b7c26d"
   },
   "outputs": [
    {
     "data": {
      "text/plain": [
       "DecisionTreeClassifier(ccp_alpha=0.0, class_weight=None, criterion='gini',\n",
       "                       max_depth=None, max_features=None, max_leaf_nodes=None,\n",
       "                       min_impurity_decrease=0.0, min_impurity_split=None,\n",
       "                       min_samples_leaf=1, min_samples_split=2,\n",
       "                       min_weight_fraction_leaf=0.0, presort='deprecated',\n",
       "                       random_state=None, splitter='best')"
      ]
     },
     "execution_count": 95,
     "metadata": {
      "tags": []
     },
     "output_type": "execute_result"
    }
   ],
   "source": [
    "# Build and train model\n",
    "com = DecisionTreeClassifier()\n",
    "com.fit(c_train, y_train)"
   ]
  },
  {
   "cell_type": "code",
   "execution_count": 98,
   "metadata": {
    "colab": {
     "base_uri": "https://localhost:8080/"
    },
    "id": "-0JDMEtzcQ2l",
    "outputId": "30529e15-07d5-4d55-920d-f73266a5f3b7"
   },
   "outputs": [
    {
     "name": "stdout",
     "output_type": "stream",
     "text": [
      "              precision    recall  f1-score   support\n",
      "\n",
      "           0       1.00      1.00      1.00     15000\n",
      "\n",
      "    accuracy                           1.00     15000\n",
      "   macro avg       1.00      1.00      1.00     15000\n",
      "weighted avg       1.00      1.00      1.00     15000\n",
      "\n",
      "[[15000]]\n"
     ]
    }
   ],
   "source": [
    "y_test_pred = com.predict(c_test)\n",
    "print(classification_report(y_test_pred, y_test))\n",
    "print(confusion_matrix(y_test_pred, y_test))"
   ]
  },
  {
   "cell_type": "markdown",
   "metadata": {
    "id": "_AxrbD67cQ2l"
   },
   "source": [
    "## End to End Model\n",
    "\n",
    "In this section, we will evaluate the performance of the model as a whole (merging input to concept and concept to output models)."
   ]
  },
  {
   "cell_type": "code",
   "execution_count": 126,
   "metadata": {
    "id": "MFBebMxXcQ2l"
   },
   "outputs": [],
   "source": [
    "def full_pipeline(itc_models, cto_model, X_test):\n",
    "    \n",
    "    concepts = itc_models[0](X_test).numpy()\n",
    "    for model in itc_models[1:]:\n",
    "        result = np.argmax(model(X_test).numpy(), axis=1)\n",
    "        result = np.expand_dims(result, axis=-1)\n",
    "        concepts = np.concatenate((concepts, result), axis=1)\n",
    "    \n",
    "    return cto_model.predict(concepts)"
   ]
  },
  {
   "cell_type": "code",
   "execution_count": 128,
   "metadata": {
    "id": "X31r-sf6cQ2l"
   },
   "outputs": [],
   "source": [
    "y_pred_full = full_pipeline(models, com, X_test)\n",
    "y_test = y_test"
   ]
  },
  {
   "cell_type": "code",
   "execution_count": 131,
   "metadata": {
    "colab": {
     "base_uri": "https://localhost:8080/"
    },
    "id": "Y6a3JGbtcQ2l",
    "outputId": "d831a809-1b79-4dea-f79d-cc3e1c6fec38"
   },
   "outputs": [
    {
     "name": "stdout",
     "output_type": "stream",
     "text": [
      "              precision    recall  f1-score   support\n",
      "\n",
      "           0       1.00      1.00      1.00     15000\n",
      "\n",
      "    accuracy                           1.00     15000\n",
      "   macro avg       1.00      1.00      1.00     15000\n",
      "weighted avg       1.00      1.00      1.00     15000\n",
      "\n"
     ]
    }
   ],
   "source": [
    "print(classification_report(y_pred_full, y_test))"
   ]
  }
 ],
 "metadata": {
  "accelerator": "GPU",
  "colab": {
   "collapsed_sections": [],
   "name": "dSprites_tasks.ipynb",
   "provenance": [],
   "toc_visible": true
  },
  "kernelspec": {
   "display_name": "Python 3",
   "language": "python",
   "name": "python3"
  },
  "language_info": {
   "codemirror_mode": {
    "name": "ipython",
    "version": 3
   },
   "file_extension": ".py",
   "mimetype": "text/x-python",
   "name": "python",
   "nbconvert_exporter": "python",
   "pygments_lexer": "ipython3",
   "version": "3.7.6"
  }
 },
 "nbformat": 4,
 "nbformat_minor": 1
}
