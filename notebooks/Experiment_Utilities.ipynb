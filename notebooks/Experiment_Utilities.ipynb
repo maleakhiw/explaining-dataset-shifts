{
  "nbformat": 4,
  "nbformat_minor": 0,
  "metadata": {
    "colab": {
      "name": "Experiment Utilities.ipynb",
      "provenance": [],
      "collapsed_sections": []
    },
    "kernelspec": {
      "name": "python3",
      "display_name": "Python 3"
    }
  },
  "cells": [
    {
      "cell_type": "markdown",
      "metadata": {
        "id": "iLw1zBaOOEE7"
      },
      "source": [
        "# Experiment Utilities\n",
        "\n",
        "This notebook contains utility functions for experiments, such as data gathering, analysis, and visualisation functions."
      ]
    },
    {
      "cell_type": "markdown",
      "metadata": {
        "id": "SwR95OZjnO7O"
      },
      "source": [
        "## Data Gathering Functions\n",
        "\n",
        "Contains various functions used to gather experiments data."
      ]
    },
    {
      "cell_type": "code",
      "metadata": {
        "id": "t26pSRV_ngP1"
      },
      "source": [
        "def do_experiment_per_shift(model, method, x_valid, y_valid, \n",
        "                            x_test, y_test, shift_type, shift_type_params=None):\n",
        "    \"\"\"\n",
        "    Calculate the test statistics, p-value, and detection accuracy for a given method\n",
        "    and shift on all combinations of number of test samples, shift intensities, \n",
        "    and proportion of test data that is affected by shift.\n",
        "\n",
        "    :param model: the model can be a dimensionality reductor, CBM, CME, or blackbox classifier\n",
        "    :param method: the shift detection method which can be:\n",
        "        - 'BBSDs': softmax label classifier (BBSD)\n",
        "        - 'BBSDh': argmax/ hard prediction label classifier \n",
        "        - 'BBSDs_concepts': softmax on the concept layer \n",
        "        - 'BBSDh_concepts': argmax/ hard prediction label classifier\n",
        "        - 'PCA': used to reduce the dimension of x_valid and x_test\n",
        "        - 'SRP': used to reduce the dimension of x_valid and x_test\n",
        "        - 'UAE': Autoencoder based method to reduce the dimension of x_valid and x_test\n",
        "        - 'TAE': Autoencoder based method to reduce the dimension of x_valid and x_test\n",
        "        - 'NoRed': original dimensions of x_valid and x_test, no dimensionality reduction applied\n",
        "    :param x_valid: validation data, which we hypothetically treat as the dataset that we have.\n",
        "    :param x_test: test data, which we hypothetically treat as unseen real-world data, where shift might occur\n",
        "    :param shift_type: a different type of shift which can be:\n",
        "        - 'gaussian'\n",
        "        - 'ko'\n",
        "        - 'img': random image shift incorporating combination of below shift\n",
        "        - 'width_shift'\n",
        "        - 'height_shift'\n",
        "        - 'rotation'\n",
        "        - 'shear'\n",
        "        - 'zoom'\n",
        "        - 'flip'\n",
        "        - If wishing to do combination of shift, give an array comprising the above parameters.\n",
        "    :param shift_type_params: If needed, provide shift parameters (e.g., the original image size, see apply_shift_* functions)\n",
        "\n",
        "    :return: a dictionary containing p-value and detection accuracy for all combination of shift intensities,\n",
        "        shift proportion, and number of test samples:\n",
        "        {\n",
        "            \"shift_intensities\": {\n",
        "                \"shift_proportion\": {\n",
        "                    \"test_samples: : {\n",
        "                        \"test_statistics\": [],\n",
        "                        \"p_vals\": [],\n",
        "                        \"detection_result: []\n",
        "                    }\n",
        "                }\n",
        "            }\n",
        "        }\n",
        "    \"\"\"\n",
        "\n",
        "    # Possible value of intensities, data proportion affected, test set samples\n",
        "    shift_intensities = [\"small\", \"medium\", \"large\"]\n",
        "    shift_props = [0.1, 0.5, 1.0]\n",
        "    test_set_samples = [10, 20, 50, 100, 200, 500, 1000, 10000]\n",
        "    n_exp = 5 # number of experiments for each configuration (for reliability)\n",
        "\n",
        "    ## Initialise dictionary used to store result\n",
        "    dict_result = initialise_result_dictionary(shift_intensities, shift_props, test_set_samples)\n",
        "\n",
        "    ############################################################################\n",
        "    ## BBSDs\n",
        "    ## Process differently depending on methods \n",
        "    if method == \"BBSDs\":\n",
        "        # Consider all combinations of shift intensities, shift proportion, test samples\n",
        "        for shift_intensity in shift_intensities:\n",
        "            for shift_prop in shift_props:\n",
        "                for test_set_sample in test_set_samples:\n",
        "                    # Get test set\n",
        "                    ## TODO\n",
        "\n",
        "                    # Call apply shift method on the test set\n",
        "                    ## TODO\n",
        "\n",
        "                    # Perform detection:\n",
        "                    # 1. Get reduced representation\n",
        "                    # 2. Perform statistical test\n",
        "\n",
        "                    \n",
        "                    # 3. Store result\n",
        "        "
      ],
      "execution_count": null,
      "outputs": []
    },
    {
      "cell_type": "code",
      "metadata": {
        "id": "QJ-Qo4ZUngSB"
      },
      "source": [
        "def apply_shift(x_test, y_test, shift_type, shift_type_params, shift_intensity, shift_prop):\n",
        "    \"\"\"\n",
        "    Apply a type of shift to x_test and y_test.\n",
        "\n",
        "    :param x_valid: validation data, which we hypothetically treat as the dataset that we have.\n",
        "    :param x_test: test data, which we hypothetically treat as unseen real-world data, where shift might occur\n",
        "    :param shift_type: a different type of shift which can be:\n",
        "        - 'gaussian'\n",
        "        - 'ko'\n",
        "        - 'img': random image shift incorporating combination of below shift\n",
        "        - 'width_shift'\n",
        "        - 'height_shift'\n",
        "        - 'rotation'\n",
        "        - 'shear'\n",
        "        - 'zoom'\n",
        "        - 'flip'\n",
        "        - If wishing to do combination of shift, give an array comprising the above parameters.\n",
        "    :param shift_type_params: If needed, provide shift parameters (e.g., the original image size, see apply_shift_* functions)\n",
        "    :param shift_intensity: \"small\", \"medium\", or \"large\"\n",
        "\n",
        "    :return: (x_test_shifted, y_test_shifted)\n",
        "    \"\"\"\n",
        "\n",
        "    # Prevent bugs, just copy the whole thing\n",
        "    x_test_shifted = deepcopy(x_test)\n",
        "    y_test = deepcopy(y_test)"
      ],
      "execution_count": null,
      "outputs": []
    },
    {
      "cell_type": "code",
      "metadata": {
        "id": "qFxbTHO8z2q8"
      },
      "source": [
        "def single_experiment(model, method, x_valid, y_valid, x_test, y_test):\n",
        "    \"\"\"\n",
        "    Used to perform single experiment for a given data. Fast experiment check.\n",
        "    \"\"\""
      ],
      "execution_count": null,
      "outputs": []
    },
    {
      "cell_type": "markdown",
      "metadata": {
        "id": "-Gwhu7As2jDw"
      },
      "source": [
        "## Visualisation Functions\n",
        "\n",
        "Contain functions used to generate plots and tables."
      ]
    },
    {
      "cell_type": "code",
      "metadata": {
        "id": "9bBTapkx2ogt"
      },
      "source": [
        ""
      ],
      "execution_count": null,
      "outputs": []
    },
    {
      "cell_type": "code",
      "metadata": {
        "id": "7Yc4BiVu2ojJ"
      },
      "source": [
        ""
      ],
      "execution_count": null,
      "outputs": []
    },
    {
      "cell_type": "code",
      "metadata": {
        "id": "wP-fK3s32olO"
      },
      "source": [
        ""
      ],
      "execution_count": null,
      "outputs": []
    },
    {
      "cell_type": "markdown",
      "metadata": {
        "id": "GNrs69shnUZQ"
      },
      "source": [
        "## Helper Functions\n",
        "Contains sub-functions used to aid the primary functions described in the sections above."
      ]
    },
    {
      "cell_type": "code",
      "metadata": {
        "id": "yuAjxMRDnfsA"
      },
      "source": [
        "def initialise_result_dictionary(shift_intensities, shift_props, test_set_samples):\n",
        "    \"\"\"\n",
        "    Initialise dictionary used to store result of the experiments.\n",
        "    \"\"\"\n",
        "    \n",
        "    dict_result = dict()\n",
        "\n",
        "    ## Generate empty dictionary to store\n",
        "    for shift_intensity in shift_intensities:\n",
        "        dict_result[shift_intensity] = dict()\n",
        "        for shift_prop in shift_props:\n",
        "            dict_result[shift_intensity][shift_prop] = dict()\n",
        "            for test_set_sample in test_set_samples:\n",
        "                dict_result[shift_intensity][shift_prop][test_set_sample] = {\n",
        "                    \"test_statistics\": [],\n",
        "                    \"p_vals\": [],\n",
        "                    \"detection_result\": []\n",
        "                }\n",
        "    \n",
        "    return dict_result"
      ],
      "execution_count": 5,
      "outputs": []
    },
    {
      "cell_type": "code",
      "metadata": {
        "id": "FmJAeRa9nfwD"
      },
      "source": [
        "def get_data_subset(x, y, delta):\n",
        "    \"\"\"\n",
        "    Get random proportion (subset) of data x and y.\n",
        "    \"\"\""
      ],
      "execution_count": 9,
      "outputs": []
    }
  ]
}