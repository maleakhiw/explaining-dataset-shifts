{
 "cells": [
  {
   "cell_type": "markdown",
   "metadata": {
    "id": "wrYrVbDBcQ2h"
   },
   "source": [
    "# dSprites - Disentanglement testing Sprites dataset (Experimentation)\n",
    "\n",
    "**Author**: Maleakhi A. Wijaya\n",
    "\n",
    "**Description**: This notebook contains the following:\n",
    "- Employing concept-bottleneck-models to dSprite dataset\n",
    "\n",
    "**Details**: The dSprite dataset consists of 2D shapes procedurally generated from 6 ground truth independent latent factors: *color (1 possible value), shape (3 possible values), scale (6), rotation (40), x (32) and y (32) positions of a sprite*. All possible combinations of these latents are present exactly once generating 737,280 total images shown in the dataset.\n",
    "\n",
    "**Notes**: see [dSprites](https://github.com/deepmind/dsprites-dataset) for more details."
   ]
  },
  {
   "cell_type": "code",
   "execution_count": null,
   "metadata": {
    "colab": {
     "base_uri": "https://localhost:8080/"
    },
    "executionInfo": {
     "elapsed": 2553,
     "status": "ok",
     "timestamp": 1607627866465,
     "user": {
      "displayName": "Maleakhi Wijaya",
      "photoUrl": "https://lh3.googleusercontent.com/a-/AOh14GjWeXmQeCxsKPG8FFJCCom2rLzEqFPuSWk9mEne=s64",
      "userId": "07329732752635664572"
     },
     "user_tz": 0
    },
    "id": "OIt3fMuOcQ2i",
    "outputId": "895c2180-962e-44c7-bff0-984265cf0f67"
   },
   "outputs": [
    {
     "name": "stdout",
     "output_type": "stream",
     "text": [
      "Drive already mounted at /content/drive; to attempt to forcibly remount, call drive.mount(\"/content/drive\", force_remount=True).\n"
     ]
    }
   ],
   "source": [
    "import numpy as np\n",
    "import matplotlib.pyplot as plt\n",
    "import seaborn as sns\n",
    "from sklearn.model_selection import train_test_split\n",
    "import tensorflow as tf\n",
    "from tensorflow.python import keras\n",
    "from tensorflow.python.keras import layers\n",
    "from sklearn.metrics import confusion_matrix, classification_report, accuracy_score, plot_confusion_matrix\n",
    "from sklearn.linear_model import LogisticRegression\n",
    "from sklearn.tree import DecisionTreeClassifier\n",
    "\n",
    "# Mount drive\n",
    "from google.colab import drive\n",
    "drive.mount('/content/drive')"
   ]
  },
  {
   "cell_type": "code",
   "execution_count": null,
   "metadata": {
    "colab": {
     "base_uri": "https://localhost:8080/",
     "height": 395
    },
    "executionInfo": {
     "elapsed": 20234,
     "status": "ok",
     "timestamp": 1607634236697,
     "user": {
      "displayName": "Maleakhi Wijaya",
      "photoUrl": "https://lh3.googleusercontent.com/a-/AOh14GjWeXmQeCxsKPG8FFJCCom2rLzEqFPuSWk9mEne=s64",
      "userId": "07329732752635664572"
     },
     "user_tz": 0
    },
    "id": "-FO9hMeza-_V",
    "outputId": "760967e9-7bf2-46ea-d0e8-e2b33b83e0c6"
   },
   "outputs": [
    {
     "name": "stdout",
     "output_type": "stream",
     "text": [
      "Training samples: 170000\n",
      "Testing samples: 30000\n"
     ]
    },
    {
     "data": {
      "image/png": "[encoded data removed]",
      "text/plain": [
       "<Figure size 432x432 with 9 Axes>"
      ]
     },
     "metadata": {
      "tags": []
     },
     "output_type": "display_data"
    }
   ],
   "source": [
    "%run drive/MyDrive/Colab\\ Notebooks/dSprites_loader.ipynb"
   ]
  },
  {
   "cell_type": "markdown",
   "metadata": {
    "id": "XGcM3B3VcQ2k"
   },
   "source": [
    "## Input to Concept Model\n",
    "\n",
    "In this section, we will three input-to-concept models (ITC):\n",
    "1. **Multitask Model**: model with shared convolutional layers and multiple heads for respective task to predict color, shape, scale, rotation, x and y positions.\n",
    "2. **Ensemble Model**: concatenation of six individual models, where each predicts color, shape, scale, rotation, x and y positions respectively.\n",
    "3. **CME Binary Model**: model where concept values are binaries (e.g., last layers comprised neurons with sigmoid activation functions."
   ]
  },
  {
   "cell_type": "code",
   "execution_count": null,
   "metadata": {
    "id": "nhCMtj4C3gEg"
   },
   "outputs": [],
   "source": [
    "class CNNBlock(layers.Layer):\n",
    "    \"\"\"\n",
    "    Shared layers for the ITC model.\n",
    "    \"\"\"\n",
    "\n",
    "    def __init__(self):\n",
    "        super(CNNBlock, self).__init__()\n",
    "\n",
    "        # Shared layers component\n",
    "        self.conv1 = layers.Conv2D(64, (8, 8), strides=(2, 2), padding='same')\n",
    "        self.do1 = layers.Dropout(0.3)\n",
    "\n",
    "        self.conv2 = layers.Conv2D(128, (6, 6), strides=(2, 2), padding='valid')\n",
    "        self.bn1 = layers.BatchNormalization()\n",
    "\n",
    "        self.conv3 = layers.Conv2D(128, (5, 5), strides=(1, 1), padding='valid')\n",
    "        self.pool1 = layers.MaxPooling2D((2, 2))\n",
    "        self.do2 = layers.Dropout(0.3)\n",
    "\n",
    "        self.flatten = layers.Flatten()\n",
    "        self.dense1 = layers.Dense(128, activation=\"relu\")\n",
    "        self.do3 = layers.Dropout(0.4)\n",
    "        self.dense2 = layers.Dense(64, activation=\"relu\")\n",
    "        self.do4 = layers.Dropout(0.2)\n",
    "    \n",
    "    def call(self, input, training):\n",
    "        x = self.conv1(input)\n",
    "        x = self.do1(x)\n",
    "        x = self.conv2(x)\n",
    "        x = self.bn1(x, training=training)\n",
    "        x = self.conv3(x)\n",
    "        x = self.pool1(x)\n",
    "        x = self.do2(x)\n",
    "        x = self.flatten(x)\n",
    "        x = self.dense1(x)\n",
    "        x = self.do3(x)\n",
    "        x = self.dense2(x)\n",
    "        x = self.do4(x)\n",
    "\n",
    "        return x"
   ]
  },
  {
   "cell_type": "markdown",
   "metadata": {
    "id": "nba9DstnuycR"
   },
   "source": [
    "### Multitask Model"
   ]
  },
  {
   "cell_type": "code",
   "execution_count": null,
   "metadata": {
    "id": "yxu2gcUq_paS"
   },
   "outputs": [],
   "source": [
    "def MultitaskModel():\n",
    "    \"\"\"\n",
    "    Build and return multi-task model.\n",
    "    \"\"\"\n",
    "        \n",
    "    img_inputs = tf.keras.Input(shape=(64, 64, 1))\n",
    "    \n",
    "    # Shared layers\n",
    "    x = CNNBlock()(img_inputs)\n",
    "    \n",
    "    # Task specific layer\n",
    "    task_color = layers.Dense(1, activation=\"softmax\", name=\"color\")(x)\n",
    "    task_shape = layers.Dense(3, activation=\"softmax\", name=\"shape\")(x)\n",
    "    task_scale = layers.Dense(6, activation=\"softmax\", name=\"scale\")(x)\n",
    "    task_rotation = layers.Dense(40, activation=\"softmax\", name=\"rotation\")(x)\n",
    "    task_x = layers.Dense(32, activation=\"softmax\", name=\"x\")(x)\n",
    "    task_y = layers.Dense(32, activation=\"softmax\", name=\"y\")(x)\n",
    "    \n",
    "    # Return model\n",
    "    model = tf.keras.Model(inputs=img_inputs, outputs=[task_color, task_shape, task_scale, task_rotation, task_x, task_y])\n",
    "    return model"
   ]
  },
  {
   "cell_type": "code",
   "execution_count": null,
   "metadata": {
    "id": "0iPKE-Oo9eUs"
   },
   "outputs": [],
   "source": [
    "multitask_model = MultitaskModel()\n",
    "optimizer = tf.keras.optimizers.Adam(lr=1e-4, amsgrad=True)\n",
    "multitask_model.compile(optimizer=optimizer,\n",
    "                    loss=[\n",
    "                        tf.keras.losses.SparseCategoricalCrossentropy(from_logits=False),\n",
    "                        tf.keras.losses.SparseCategoricalCrossentropy(from_logits=False),\n",
    "                        tf.keras.losses.SparseCategoricalCrossentropy(from_logits=False),\n",
    "                        tf.keras.losses.SparseCategoricalCrossentropy(from_logits=False),\n",
    "                        tf.keras.losses.SparseCategoricalCrossentropy(from_logits=False),\n",
    "                        tf.keras.losses.SparseCategoricalCrossentropy(from_logits=False)\n",
    "                    ], metrics=[\"accuracy\"])\n",
    "\n",
    "history = multitask_model.fit(x=x_train, y=[c_train[:, 0], c_train[:, 1], c_train[:, 2]\n",
    "                                  , c_train[:, 3], c_train[:, 4], c_train[:, 5]], \n",
    "                    epochs=40, batch_size=128,\n",
    "                    validation_data=(x_valid, [c_valid[:, 0], c_valid[:, 1], c_valid[:, 2]\n",
    "                                  , c_valid[:, 3], c_valid[:, 4], c_valid[:, 5]]))"
   ]
  },
  {
   "cell_type": "code",
   "execution_count": null,
   "metadata": {
    "colab": {
     "base_uri": "https://localhost:8080/",
     "height": 484
    },
    "executionInfo": {
     "elapsed": 1616,
     "status": "ok",
     "timestamp": 1607630025739,
     "user": {
      "displayName": "Maleakhi Wijaya",
      "photoUrl": "https://lh3.googleusercontent.com/a-/AOh14GjWeXmQeCxsKPG8FFJCCom2rLzEqFPuSWk9mEne=s64",
      "userId": "07329732752635664572"
     },
     "user_tz": 0
    },
    "id": "dJMHcACxGT1k",
    "outputId": "04117710-7459-4d97-ff9e-11255671a566"
   },
   "outputs": [
    {
     "data": {
      "image/png": "[encoded data removed]",
      "text/plain": [
       "<Figure size 864x576 with 6 Axes>"
      ]
     },
     "metadata": {
      "needs_background": "light",
      "tags": []
     },
     "output_type": "display_data"
    }
   ],
   "source": [
    "fig = plt.figure(figsize=(12, 8))\n",
    "ax1 = fig.add_subplot(231)\n",
    "ax2 = fig.add_subplot(232)\n",
    "ax3 = fig.add_subplot(233)\n",
    "ax4 = fig.add_subplot(234)\n",
    "ax5 = fig.add_subplot(235)\n",
    "ax6 = fig.add_subplot(236)\n",
    "axes = [ax1, ax2, ax3, ax4, ax5, ax6]\n",
    "\n",
    "# Plot training validation accuracy\n",
    "ax1.plot(history.history[\"color_accuracy\"], label=\"Training Accuracy\")\n",
    "ax1.plot(history.history[\"val_color_accuracy\"], label=\"Validation Accuracy\")\n",
    "\n",
    "ax2.plot(history.history[\"shape_accuracy\"], label=\"Training Accuracy\")\n",
    "ax2.plot(history.history[\"val_shape_accuracy\"], label=\"Validation Accuracy\")\n",
    "\n",
    "ax3.plot(history.history[\"scale_accuracy\"], label=\"Training Accuracy\")\n",
    "ax3.plot(history.history[\"val_scale_accuracy\"], label=\"Validation Accuracy\")\n",
    "\n",
    "ax4.plot(history.history[\"rotation_accuracy\"], label=\"Training Accuracy\")\n",
    "ax4.plot(history.history[\"val_rotation_accuracy\"], label=\"Validation Accuracy\")\n",
    "\n",
    "ax5.plot(history.history[\"x_accuracy\"], label=\"Training Accuracy\")\n",
    "ax5.plot(history.history[\"val_x_accuracy\"], label=\"Validation Accuracy\")\n",
    "\n",
    "ax6.plot(history.history[\"y_accuracy\"], label=\"Training Accuracy\")\n",
    "ax6.plot(history.history[\"val_y_accuracy\"], label=\"Validation Accuracy\")\n",
    "\n",
    "for ax in axes:\n",
    "    ax.legend()\n",
    "    ax.grid(True)\n",
    "plt.show()"
   ]
  },
  {
   "cell_type": "code",
   "execution_count": null,
   "metadata": {
    "colab": {
     "base_uri": "https://localhost:8080/"
    },
    "executionInfo": {
     "elapsed": 2858,
     "status": "ok",
     "timestamp": 1607629943394,
     "user": {
      "displayName": "Maleakhi Wijaya",
      "photoUrl": "https://lh3.googleusercontent.com/a-/AOh14GjWeXmQeCxsKPG8FFJCCom2rLzEqFPuSWk9mEne=s64",
      "userId": "07329732752635664572"
     },
     "user_tz": 0
    },
    "id": "H6obvj7iCiEg",
    "outputId": "2783d555-ebec-4e2b-b849-22dcb6cb3f0e"
   },
   "outputs": [
    {
     "name": "stdout",
     "output_type": "stream",
     "text": [
      "******************** Model: color ********************\n",
      "              precision    recall  f1-score   support\n",
      "\n",
      "           0       1.00      1.00      1.00     30000\n",
      "\n",
      "    accuracy                           1.00     30000\n",
      "   macro avg       1.00      1.00      1.00     30000\n",
      "weighted avg       1.00      1.00      1.00     30000\n",
      "\n",
      "[[30000]]\n",
      "\n",
      "\n",
      "\n",
      "******************** Model: shape ********************\n",
      "              precision    recall  f1-score   support\n",
      "\n",
      "           0       1.00      1.00      1.00      9970\n",
      "           1       1.00      1.00      1.00     10006\n",
      "           2       1.00      1.00      1.00     10024\n",
      "\n",
      "    accuracy                           1.00     30000\n",
      "   macro avg       1.00      1.00      1.00     30000\n",
      "weighted avg       1.00      1.00      1.00     30000\n",
      "\n",
      "[[ 9968     0     2]\n",
      " [   13  9992     1]\n",
      " [    1     0 10023]]\n",
      "\n",
      "\n",
      "\n",
      "******************** Model: scale ********************\n",
      "              precision    recall  f1-score   support\n",
      "\n",
      "           0       0.97      1.00      0.98      5022\n",
      "           1       0.98      0.97      0.97      4928\n",
      "           2       0.97      0.98      0.97      5143\n",
      "           3       0.96      0.97      0.96      4918\n",
      "           4       0.96      0.95      0.95      4960\n",
      "           5       0.99      0.97      0.98      5029\n",
      "\n",
      "    accuracy                           0.97     30000\n",
      "   macro avg       0.97      0.97      0.97     30000\n",
      "weighted avg       0.97      0.97      0.97     30000\n",
      "\n",
      "[[5022    0    0    0    0    0]\n",
      " [ 157 4771    0    0    0    0]\n",
      " [   0  122 5017    4    0    0]\n",
      " [   0    0  148 4752   18    0]\n",
      " [   0    0    0  214 4693   53]\n",
      " [   0    0    0    0  176 4853]]\n",
      "\n",
      "\n",
      "\n",
      "******************** Model: rotation ********************\n",
      "              precision    recall  f1-score   support\n",
      "\n",
      "           0       0.15      0.61      0.24       690\n",
      "           1       0.15      0.04      0.06       796\n",
      "           2       0.27      0.32      0.29       780\n",
      "           3       0.34      0.23      0.27       732\n",
      "           4       0.27      0.21      0.24       793\n",
      "           5       0.26      0.15      0.19       734\n",
      "           6       0.40      0.14      0.21       758\n",
      "           7       0.24      0.42      0.30       725\n",
      "           8       0.18      0.27      0.22       702\n",
      "           9       0.14      0.11      0.12       747\n",
      "          10       0.17      0.37      0.23       727\n",
      "          11       0.17      0.34      0.22       731\n",
      "          12       0.25      0.60      0.35       782\n",
      "          13       0.24      0.21      0.22       761\n",
      "          14       0.42      0.12      0.19       755\n",
      "          15       0.31      0.12      0.17       792\n",
      "          16       0.22      0.09      0.13       745\n",
      "          17       0.18      0.08      0.11       729\n",
      "          18       0.23      0.07      0.11       764\n",
      "          19       0.13      0.09      0.10       750\n",
      "          20       0.19      0.04      0.07       756\n",
      "          21       0.17      0.12      0.14       752\n",
      "          22       0.18      0.48      0.26       726\n",
      "          23       0.32      0.14      0.19       776\n",
      "          24       0.20      0.31      0.24       769\n",
      "          25       0.21      0.41      0.28       754\n",
      "          26       0.40      0.29      0.34       747\n",
      "          27       0.26      0.28      0.27       744\n",
      "          28       0.14      0.06      0.08       759\n",
      "          29       0.32      0.01      0.02       725\n",
      "          30       0.19      0.11      0.14       786\n",
      "          31       0.30      0.11      0.16       711\n",
      "          32       0.39      0.40      0.40       745\n",
      "          33       0.20      0.47      0.28       742\n",
      "          34       0.36      0.20      0.26       750\n",
      "          35       0.15      0.24      0.18       736\n",
      "          36       0.22      0.23      0.22       770\n",
      "          37       0.23      0.08      0.12       767\n",
      "          38       0.16      0.10      0.12       738\n",
      "          39       0.21      0.04      0.07       754\n",
      "\n",
      "    accuracy                           0.22     30000\n",
      "   macro avg       0.24      0.22      0.20     30000\n",
      "weighted avg       0.24      0.22      0.20     30000\n",
      "\n",
      "[[418  10  11 ...   6  29  28]\n",
      " [306  31  51 ...  15  63   6]\n",
      " [ 17   7 247 ...  37   7   0]\n",
      " ...\n",
      " [ 10   7 167 ...  60  12   0]\n",
      " [273  19  24 ...  16  74  11]\n",
      " [451  14  14 ...   8  36  31]]\n",
      "\n",
      "\n",
      "\n",
      "******************** Model: x ********************\n",
      "              precision    recall  f1-score   support\n",
      "\n",
      "           0       0.91      0.94      0.92       945\n",
      "           1       0.88      0.85      0.86       929\n",
      "           2       0.88      0.86      0.87       905\n",
      "           3       0.90      0.84      0.86       941\n",
      "           4       0.85      0.81      0.83       917\n",
      "           5       0.78      0.89      0.83       965\n",
      "           6       0.85      0.84      0.85       981\n",
      "           7       0.83      0.84      0.83       909\n",
      "           8       0.85      0.83      0.84       901\n",
      "           9       0.87      0.88      0.87       961\n",
      "          10       0.88      0.85      0.86       934\n",
      "          11       0.85      0.84      0.85       911\n",
      "          12       0.84      0.90      0.87       934\n",
      "          13       0.87      0.87      0.87       934\n",
      "          14       0.84      0.85      0.84       919\n",
      "          15       0.86      0.87      0.87       936\n",
      "          16       0.89      0.86      0.88       942\n",
      "          17       0.87      0.86      0.87       913\n",
      "          18       0.85      0.90      0.88       946\n",
      "          19       0.87      0.83      0.85       970\n",
      "          20       0.86      0.82      0.84       922\n",
      "          21       0.88      0.84      0.86       955\n",
      "          22       0.83      0.92      0.87       964\n",
      "          23       0.90      0.76      0.82      1009\n",
      "          24       0.74      0.90      0.81       906\n",
      "          25       0.87      0.80      0.83       895\n",
      "          26       0.88      0.87      0.87       985\n",
      "          27       0.88      0.85      0.86       934\n",
      "          28       0.84      0.84      0.84       927\n",
      "          29       0.81      0.86      0.83       936\n",
      "          30       0.82      0.86      0.84       948\n",
      "          31       0.94      0.90      0.92       926\n",
      "\n",
      "    accuracy                           0.86     30000\n",
      "   macro avg       0.86      0.86      0.86     30000\n",
      "weighted avg       0.86      0.86      0.86     30000\n",
      "\n",
      "[[888  57   0 ...   0   0   0]\n",
      " [ 93 787  48 ...   0   0   0]\n",
      " [  0  49 778 ...   0   0   0]\n",
      " ...\n",
      " [  0   0   0 ... 807  86   0]\n",
      " [  0   0   0 ...  77 820  51]\n",
      " [  0   0   0 ...   0  88 838]]\n",
      "\n",
      "\n",
      "\n",
      "******************** Model: y ********************\n",
      "              precision    recall  f1-score   support\n",
      "\n",
      "           0       0.87      0.91      0.89       948\n",
      "           1       0.83      0.78      0.80       913\n",
      "           2       0.87      0.83      0.85       954\n",
      "           3       0.87      0.86      0.86       949\n",
      "           4       0.86      0.84      0.85       946\n",
      "           5       0.83      0.82      0.83       898\n",
      "           6       0.83      0.84      0.83       963\n",
      "           7       0.80      0.84      0.82       900\n",
      "           8       0.82      0.85      0.83       984\n",
      "           9       0.84      0.83      0.84       941\n",
      "          10       0.86      0.81      0.83       994\n",
      "          11       0.79      0.87      0.83       964\n",
      "          12       0.84      0.85      0.85      1006\n",
      "          13       0.84      0.84      0.84       910\n",
      "          14       0.87      0.76      0.81       908\n",
      "          15       0.83      0.86      0.84       927\n",
      "          16       0.86      0.81      0.84       882\n",
      "          17       0.81      0.88      0.85      1036\n",
      "          18       0.84      0.84      0.84       935\n",
      "          19       0.89      0.86      0.87       931\n",
      "          20       0.84      0.86      0.85       903\n",
      "          21       0.85      0.79      0.81       900\n",
      "          22       0.83      0.81      0.82       910\n",
      "          23       0.79      0.90      0.84       956\n",
      "          24       0.81      0.86      0.83       978\n",
      "          25       0.87      0.79      0.83       897\n",
      "          26       0.83      0.85      0.84       949\n",
      "          27       0.87      0.80      0.83       888\n",
      "          28       0.85      0.88      0.86       943\n",
      "          29       0.83      0.84      0.83       916\n",
      "          30       0.84      0.78      0.81       931\n",
      "          31       0.87      0.93      0.90       940\n",
      "\n",
      "    accuracy                           0.84     30000\n",
      "   macro avg       0.84      0.84      0.84     30000\n",
      "weighted avg       0.84      0.84      0.84     30000\n",
      "\n",
      "[[867  79   2 ...   0   0   0]\n",
      " [132 711  70 ...   0   0   0]\n",
      " [  1  70 796 ...   0   0   0]\n",
      " ...\n",
      " [  0   0   0 ... 773  74   1]\n",
      " [  0   0   0 ...  81 722 128]\n",
      " [  0   0   0 ...   1  63 876]]\n",
      "\n",
      "\n",
      "\n"
     ]
    }
   ],
   "source": [
    "# Evaluation\n",
    "concept_names = [\"color\", \"shape\", \"scale\", \"rotation\", \"x\", \"y\"]\n",
    "for i, pred in enumerate(multitask_model.predict(x_test)):\n",
    "    print(\"*\"*20, f\"Model: {concept_names[i]}\", \"*\"*20)\n",
    "    c_truth = c_test[:, i]\n",
    "    c_pred = np.argmax(pred, axis=1)\n",
    "    \n",
    "    print(classification_report(c_truth, c_pred))\n",
    "    print(confusion_matrix(c_truth, c_pred))\n",
    "    print(\"\\n\\n\")"
   ]
  },
  {
   "cell_type": "markdown",
   "metadata": {
    "id": "Y7vtdb4-u3UZ"
   },
   "source": [
    "### Ensemble Model"
   ]
  },
  {
   "cell_type": "code",
   "execution_count": null,
   "metadata": {
    "id": "NVMgpHodcQ2l"
   },
   "outputs": [],
   "source": [
    "def IndividualModel(num_classes, name):\n",
    "    \"\"\"\n",
    "    Build an individual model for a particular task.\n",
    "\n",
    "    :param num_classes: number of possible values for a particular task.\n",
    "    :param name: name of the task\n",
    "\n",
    "    :return: model architecture\n",
    "    \"\"\"\n",
    "        \n",
    "    img_inputs = tf.keras.Input(shape=(64, 64, 1))\n",
    "    \n",
    "    # Shared layers\n",
    "    x = CNNBlock()(img_inputs)\n",
    "    \n",
    "    # Task specific layer\n",
    "    output = layers.Dense(num_classes, activation=\"softmax\", name=name)(x)\n",
    "\n",
    "    # Return model\n",
    "    model = tf.keras.Model(inputs=img_inputs, outputs=output)\n",
    "    return model\n",
    "\n",
    "def EnsembleModel():\n",
    "    \"\"\"\n",
    "    Stack individual model, one for each task.\n",
    "\n",
    "    :return: list of models\n",
    "    \"\"\"\n",
    "\n",
    "    model_color = IndividualModel(num_classes=1, name=\"color\")\n",
    "    model_shape = IndividualModel(num_classes=3, name=\"shape\")\n",
    "    model_scale = IndividualModel(num_classes=6, name=\"scale\")\n",
    "    model_rotation = IndividualModel(num_classes=40, name=\"rotation\")\n",
    "    model_x = IndividualModel(num_classes=32, name=\"x\")\n",
    "    model_y = IndividualModel(num_classes=32, name=\"y\")\n",
    "\n",
    "    models = [model_color, model_shape, model_scale, model_rotation, model_x, model_y]\n",
    "\n",
    "    return models"
   ]
  },
  {
   "cell_type": "code",
   "execution_count": null,
   "metadata": {
    "id": "5YBX7Thbv0yi"
   },
   "outputs": [],
   "source": [
    "epochs = 40\n",
    "batch_size = 128\n",
    "histories = []\n",
    "ensemble_model = EnsembleModel()\n",
    "\n",
    "# Train model\n",
    "for i, m in enumerate(ensemble_model):\n",
    "    optimizer = tf.keras.optimizers.Adam(lr=1e-4, amsgrad=True)\n",
    "\n",
    "    m.compile(optimizer=optimizer,\n",
    "                  loss=tf.keras.losses.SparseCategoricalCrossentropy(from_logits=False),\n",
    "                  metrics=['accuracy'])\n",
    "    \n",
    "    history = m.fit(x=x_train, y=c_train[:, i], epochs=epochs, batch_size=batch_size, validation_data=(x_valid, c_valid[:, i]))\n",
    "    histories.append(history)"
   ]
  },
  {
   "cell_type": "code",
   "execution_count": null,
   "metadata": {
    "colab": {
     "base_uri": "https://localhost:8080/",
     "height": 483
    },
    "executionInfo": {
     "elapsed": 1983,
     "status": "ok",
     "timestamp": 1607633253638,
     "user": {
      "displayName": "Maleakhi Wijaya",
      "photoUrl": "https://lh3.googleusercontent.com/a-/AOh14GjWeXmQeCxsKPG8FFJCCom2rLzEqFPuSWk9mEne=s64",
      "userId": "07329732752635664572"
     },
     "user_tz": 0
    },
    "id": "ZeBGqSK7vrN9",
    "outputId": "e0b6fe3b-56fa-422a-e6b0-c4ea1f04066b"
   },
   "outputs": [
    {
     "data": {
      "image/png": "[encoded data removed]",
      "text/plain": [
       "<Figure size 864x576 with 6 Axes>"
      ]
     },
     "metadata": {
      "needs_background": "light",
      "tags": []
     },
     "output_type": "display_data"
    }
   ],
   "source": [
    "# Plot training-validation loss\n",
    "fig = plt.figure(figsize=(12, 8))\n",
    "ax1 = fig.add_subplot(231)\n",
    "ax2 = fig.add_subplot(232)\n",
    "ax3 = fig.add_subplot(233)\n",
    "ax4 = fig.add_subplot(234)\n",
    "ax5 = fig.add_subplot(235)\n",
    "ax6 = fig.add_subplot(236)\n",
    "axes = [ax1, ax2, ax3, ax4, ax5, ax6]\n",
    "\n",
    "# Plot training validation loss\n",
    "for ax, history in zip(axes, histories):\n",
    "    ax.plot(history.history[\"loss\"], label=\"Training Loss\")\n",
    "    ax.plot(history.history[\"val_loss\"], label=\"Validation Loss\")\n",
    "\n",
    "    ax.grid(True)\n",
    "    ax.legend()\n",
    "plt.show()"
   ]
  },
  {
   "cell_type": "code",
   "execution_count": null,
   "metadata": {
    "colab": {
     "base_uri": "https://localhost:8080/"
    },
    "executionInfo": {
     "elapsed": 8969,
     "status": "ok",
     "timestamp": 1607633368458,
     "user": {
      "displayName": "Maleakhi Wijaya",
      "photoUrl": "https://lh3.googleusercontent.com/a-/AOh14GjWeXmQeCxsKPG8FFJCCom2rLzEqFPuSWk9mEne=s64",
      "userId": "07329732752635664572"
     },
     "user_tz": 0
    },
    "id": "eZ25dzqWyNzG",
    "outputId": "b80c7388-a34d-4028-b0ca-874568ae26d1"
   },
   "outputs": [
    {
     "name": "stdout",
     "output_type": "stream",
     "text": [
      "******************** Model: color ********************\n",
      "              precision    recall  f1-score   support\n",
      "\n",
      "           0       1.00      1.00      1.00     30000\n",
      "\n",
      "    accuracy                           1.00     30000\n",
      "   macro avg       1.00      1.00      1.00     30000\n",
      "weighted avg       1.00      1.00      1.00     30000\n",
      "\n",
      "[[30000]]\n",
      "\n",
      "\n",
      "\n",
      "******************** Model: shape ********************\n",
      "              precision    recall  f1-score   support\n",
      "\n",
      "           0       1.00      1.00      1.00      9970\n",
      "           1       1.00      1.00      1.00     10006\n",
      "           2       1.00      1.00      1.00     10024\n",
      "\n",
      "    accuracy                           1.00     30000\n",
      "   macro avg       1.00      1.00      1.00     30000\n",
      "weighted avg       1.00      1.00      1.00     30000\n",
      "\n",
      "[[ 9970     0     0]\n",
      " [    0 10006     0]\n",
      " [    0     0 10024]]\n",
      "\n",
      "\n",
      "\n",
      "******************** Model: scale ********************\n",
      "              precision    recall  f1-score   support\n",
      "\n",
      "           0       1.00      1.00      1.00      5022\n",
      "           1       1.00      1.00      1.00      4928\n",
      "           2       1.00      1.00      1.00      5143\n",
      "           3       1.00      1.00      1.00      4918\n",
      "           4       1.00      1.00      1.00      4960\n",
      "           5       1.00      1.00      1.00      5029\n",
      "\n",
      "    accuracy                           1.00     30000\n",
      "   macro avg       1.00      1.00      1.00     30000\n",
      "weighted avg       1.00      1.00      1.00     30000\n",
      "\n",
      "[[5022    0    0    0    0    0]\n",
      " [   0 4928    0    0    0    0]\n",
      " [   0    0 5143    0    0    0]\n",
      " [   0    0    0 4918    0    0]\n",
      " [   0    0    0    0 4960    0]\n",
      " [   0    0    0    0    0 5029]]\n",
      "\n",
      "\n",
      "\n",
      "******************** Model: rotation ********************\n"
     ]
    },
    {
     "name": "stderr",
     "output_type": "stream",
     "text": [
      "/usr/local/lib/python3.6/dist-packages/sklearn/metrics/_classification.py:1272: UndefinedMetricWarning: Precision and F-score are ill-defined and being set to 0.0 in labels with no predicted samples. Use `zero_division` parameter to control this behavior.\n",
      "  _warn_prf(average, modifier, msg_start, len(result))\n"
     ]
    },
    {
     "name": "stdout",
     "output_type": "stream",
     "text": [
      "              precision    recall  f1-score   support\n",
      "\n",
      "           0       0.00      0.00      0.00       690\n",
      "           1       0.96      0.90      0.93       796\n",
      "           2       0.96      0.90      0.93       780\n",
      "           3       0.87      0.92      0.90       732\n",
      "           4       0.89      0.96      0.92       793\n",
      "           5       0.83      0.90      0.87       734\n",
      "           6       0.92      0.93      0.92       758\n",
      "           7       0.82      0.87      0.84       725\n",
      "           8       0.93      0.88      0.90       702\n",
      "           9       0.81      0.86      0.83       747\n",
      "          10       0.78      0.68      0.73       727\n",
      "          11       0.82      0.87      0.84       731\n",
      "          12       0.86      0.97      0.91       782\n",
      "          13       0.91      0.91      0.91       761\n",
      "          14       0.92      0.81      0.87       755\n",
      "          15       0.95      0.78      0.85       792\n",
      "          16       0.98      0.90      0.94       745\n",
      "          17       0.94      0.88      0.91       729\n",
      "          18       0.84      0.95      0.89       764\n",
      "          19       0.93      0.87      0.90       750\n",
      "          20       0.94      0.88      0.91       756\n",
      "          21       0.95      0.92      0.94       752\n",
      "          22       0.95      0.84      0.89       726\n",
      "          23       0.95      0.94      0.94       776\n",
      "          24       0.92      0.85      0.88       769\n",
      "          25       0.85      0.93      0.89       754\n",
      "          26       0.89      0.92      0.90       747\n",
      "          27       0.84      0.96      0.90       744\n",
      "          28       0.80      0.98      0.88       759\n",
      "          29       0.69      0.78      0.73       725\n",
      "          30       0.83      0.92      0.87       786\n",
      "          31       0.96      0.89      0.92       711\n",
      "          32       0.89      0.91      0.90       745\n",
      "          33       0.86      0.98      0.92       742\n",
      "          34       0.86      0.83      0.85       750\n",
      "          35       0.92      0.96      0.94       736\n",
      "          36       0.92      0.84      0.88       770\n",
      "          37       0.95      0.83      0.89       767\n",
      "          38       0.99      0.72      0.83       738\n",
      "          39       0.48      0.94      0.64       754\n",
      "\n",
      "    accuracy                           0.87     30000\n",
      "   macro avg       0.86      0.86      0.86     30000\n",
      "weighted avg       0.86      0.87      0.86     30000\n",
      "\n",
      "[[  0   0   0 ...   0   0 652]\n",
      " [  0 713   0 ...   0   0   2]\n",
      " [  0   5 704 ...   0   0   0]\n",
      " ...\n",
      " [  0   0   0 ... 639   1   0]\n",
      " [  0   0   0 ...   2 534   0]\n",
      " [  0   0   0 ...   0   0 711]]\n",
      "\n",
      "\n",
      "\n",
      "******************** Model: x ********************\n",
      "              precision    recall  f1-score   support\n",
      "\n",
      "           0       0.96      0.98      0.97       945\n",
      "           1       0.97      0.95      0.96       929\n",
      "           2       0.97      0.97      0.97       905\n",
      "           3       0.94      0.98      0.96       941\n",
      "           4       0.95      0.95      0.95       917\n",
      "           5       0.97      0.93      0.95       965\n",
      "           6       0.96      0.97      0.96       981\n",
      "           7       0.97      0.94      0.96       909\n",
      "           8       0.95      0.97      0.96       901\n",
      "           9       0.96      0.97      0.97       961\n",
      "          10       0.96      0.97      0.96       934\n",
      "          11       0.94      0.97      0.96       911\n",
      "          12       0.97      0.95      0.96       934\n",
      "          13       0.97      0.95      0.96       934\n",
      "          14       0.96      0.96      0.96       919\n",
      "          15       0.95      0.96      0.96       936\n",
      "          16       0.96      0.96      0.96       942\n",
      "          17       0.96      0.97      0.96       913\n",
      "          18       0.96      0.97      0.96       946\n",
      "          19       0.95      0.97      0.96       970\n",
      "          20       0.97      0.94      0.96       922\n",
      "          21       0.96      0.97      0.97       955\n",
      "          22       0.96      0.97      0.97       964\n",
      "          23       0.96      0.97      0.96      1009\n",
      "          24       0.96      0.95      0.96       906\n",
      "          25       0.96      0.97      0.97       895\n",
      "          26       0.97      0.96      0.96       985\n",
      "          27       0.96      0.95      0.96       934\n",
      "          28       0.96      0.97      0.97       927\n",
      "          29       0.98      0.97      0.97       936\n",
      "          30       0.97      0.95      0.96       948\n",
      "          31       0.95      0.99      0.97       926\n",
      "\n",
      "    accuracy                           0.96     30000\n",
      "   macro avg       0.96      0.96      0.96     30000\n",
      "weighted avg       0.96      0.96      0.96     30000\n",
      "\n",
      "[[924  21   0 ...   0   0   0]\n",
      " [ 37 879  13 ...   0   0   0]\n",
      " [  0   5 875 ...   0   0   0]\n",
      " ...\n",
      " [  0   0   0 ... 907  23   0]\n",
      " [  0   0   0 ...   6 896  46]\n",
      " [  0   0   0 ...   0   7 919]]\n",
      "\n",
      "\n",
      "\n",
      "******************** Model: y ********************\n",
      "              precision    recall  f1-score   support\n",
      "\n",
      "           0       0.97      0.99      0.98       948\n",
      "           1       0.98      0.94      0.96       913\n",
      "           2       0.95      0.98      0.97       954\n",
      "           3       0.97      0.95      0.96       949\n",
      "           4       0.96      0.96      0.96       946\n",
      "           5       0.95      0.97      0.96       898\n",
      "           6       0.97      0.96      0.97       963\n",
      "           7       0.96      0.97      0.96       900\n",
      "           8       0.97      0.94      0.96       984\n",
      "           9       0.96      0.96      0.96       941\n",
      "          10       0.96      0.96      0.96       994\n",
      "          11       0.95      0.96      0.95       964\n",
      "          12       0.96      0.96      0.96      1006\n",
      "          13       0.94      0.98      0.96       910\n",
      "          14       0.95      0.94      0.94       908\n",
      "          15       0.96      0.94      0.95       927\n",
      "          16       0.97      0.96      0.97       882\n",
      "          17       0.97      0.97      0.97      1036\n",
      "          18       0.96      0.97      0.96       935\n",
      "          19       0.96      0.97      0.97       931\n",
      "          20       0.97      0.95      0.96       903\n",
      "          21       0.95      0.95      0.95       900\n",
      "          22       0.95      0.97      0.96       910\n",
      "          23       0.98      0.95      0.96       956\n",
      "          24       0.95      0.98      0.96       978\n",
      "          25       0.96      0.95      0.96       897\n",
      "          26       0.95      0.96      0.95       949\n",
      "          27       0.97      0.95      0.96       888\n",
      "          28       0.96      0.97      0.97       943\n",
      "          29       0.95      0.96      0.96       916\n",
      "          30       0.93      0.96      0.94       931\n",
      "          31       0.98      0.95      0.97       940\n",
      "\n",
      "    accuracy                           0.96     30000\n",
      "   macro avg       0.96      0.96      0.96     30000\n",
      "weighted avg       0.96      0.96      0.96     30000\n",
      "\n",
      "[[937  11   0 ...   0   0   0]\n",
      " [ 30 862  21 ...   0   0   0]\n",
      " [  0  11 935 ...   0   0   0]\n",
      " ...\n",
      " [  0   0   0 ... 880  21   0]\n",
      " [  0   0   0 ...  21 892  18]\n",
      " [  0   0   0 ...   0  46 894]]\n",
      "\n",
      "\n",
      "\n"
     ]
    }
   ],
   "source": [
    "# Evaluation of ensemble model\n",
    "for i, model in enumerate(ensemble_model):\n",
    "    print(\"*\"*20, f\"Model: {concept_names[i]}\", \"*\"*20)\n",
    "    c_truth = c_test[:, i]\n",
    "    c_pred = np.argmax(model.predict(x_test), axis=1)\n",
    "    print(classification_report(c_truth, c_pred))\n",
    "    print(confusion_matrix(c_truth, c_pred))\n",
    "    print(\"\\n\\n\")"
   ]
  },
  {
   "cell_type": "markdown",
   "metadata": {
    "id": "yhLu6cKQbKE3"
   },
   "source": [
    "### CME Binary Model"
   ]
  },
  {
   "cell_type": "code",
   "execution_count": 58,
   "metadata": {
    "executionInfo": {
     "elapsed": 651,
     "status": "ok",
     "timestamp": 1607638835977,
     "user": {
      "displayName": "Maleakhi Wijaya",
      "photoUrl": "https://lh3.googleusercontent.com/a-/AOh14GjWeXmQeCxsKPG8FFJCCom2rLzEqFPuSWk9mEne=s64",
      "userId": "07329732752635664572"
     },
     "user_tz": 0
    },
    "id": "cijsf9bncR1z"
   },
   "outputs": [],
   "source": [
    "def BinaryModel():\n",
    "    \"\"\"\n",
    "    Build binary model for the task.\n",
    "\n",
    "    :param num_classes: number of possible values for a particular task.\n",
    "    :param name: name of the task\n",
    "\n",
    "    :return: model architecture\n",
    "    \"\"\"\n",
    "        \n",
    "    img_inputs = tf.keras.Input(shape=(64, 64, 1))\n",
    "    \n",
    "    # Shared layers\n",
    "    x = CNNBlock()(img_inputs)\n",
    "    \n",
    "    # Task specific layer\n",
    "    output = layers.Dense(1+3+6+40+32+32, activation=\"sigmoid\")(x)\n",
    "\n",
    "    # Return model\n",
    "    model = tf.keras.Model(inputs=img_inputs, outputs=output)\n",
    "    return model"
   ]
  },
  {
   "cell_type": "code",
   "execution_count": 61,
   "metadata": {
    "executionInfo": {
     "elapsed": 786,
     "status": "ok",
     "timestamp": 1607639454221,
     "user": {
      "displayName": "Maleakhi Wijaya",
      "photoUrl": "https://lh3.googleusercontent.com/a-/AOh14GjWeXmQeCxsKPG8FFJCCom2rLzEqFPuSWk9mEne=s64",
      "userId": "07329732752635664572"
     },
     "user_tz": 0
    },
    "id": "kP0zPUl2bcFN"
   },
   "outputs": [],
   "source": [
    "# Modify training data so that it fits with the task\n",
    "x_train = x_train\n",
    "x_valid = x_valid\n",
    "\n",
    "rows = np.arange(x_train.shape[0])\n",
    "# Construct one-hot-encoding version for training\n",
    "c_train_color = np.zeros((x_train.shape[0], 1))\n",
    "c_train_shape = np.zeros((x_train.shape[0], 3))\n",
    "c_train_shape[rows, c_train[:,1]] = 1\n",
    "c_train_scale = np.zeros((x_train.shape[0], 6))\n",
    "c_train_scale[rows, c_train[:,2]] = 1\n",
    "c_train_rotation = np.zeros((x_train.shape[0], 40))\n",
    "c_train_rotation[rows, c_train[:,3]] = 1\n",
    "c_train_x = np.zeros((x_train.shape[0], 32))\n",
    "c_train_x[rows, c_train[:,4]] = 1\n",
    "c_train_y = np.zeros((x_train.shape[0], 32))\n",
    "c_train_y[rows, c_train[:,5]] = 1\n",
    "\n",
    "new_c_train = np.hstack([c_train_color, c_train_shape, c_train_scale, c_train_rotation, c_train_x, c_train_y])\n",
    "\n",
    "rows = np.arange(x_valid.shape[0])\n",
    "# Construct one-hot-encoding version for validation\n",
    "c_valid_color = np.zeros((x_valid.shape[0], 1))\n",
    "c_valid_shape = np.zeros((x_valid.shape[0], 3))\n",
    "c_valid_shape[rows, c_valid[:,1]] = 1\n",
    "c_valid_scale = np.zeros((x_valid.shape[0], 6))\n",
    "c_valid_scale[rows, c_valid[:,2]] = 1\n",
    "c_valid_rotation = np.zeros((x_valid.shape[0], 40))\n",
    "c_valid_rotation[rows, c_valid[:,3]] = 1\n",
    "c_valid_x = np.zeros((x_valid.shape[0], 32))\n",
    "c_valid_x[rows, c_valid[:,4]] = 1\n",
    "c_valid_y = np.zeros((x_valid.shape[0], 32))\n",
    "c_valid_y[rows, c_valid[:,5]] = 1\n",
    "\n",
    "new_c_valid = np.hstack([c_valid_color, c_valid_shape, c_valid_scale, c_valid_rotation, c_valid_x, c_valid_y])"
   ]
  },
  {
   "cell_type": "code",
   "execution_count": null,
   "metadata": {
    "id": "0_v3krjcbcO_"
   },
   "outputs": [],
   "source": [
    "# Train model\n",
    "binary_model = BinaryModel()\n",
    "optimizer = tf.keras.optimizers.Adam(lr=1e-4, amsgrad=True)\n",
    "binary_model.compile(optimizer=optimizer,\n",
    "            loss=tf.keras.losses.BinaryCrossentropy(from_logits=False),\n",
    "            metrics=['accuracy'])\n",
    "    \n",
    "history = binary_model.fit(x=x_train, y=new_c_train, epochs=40, batch_size=128, validation_data=(x_valid, new_c_valid))"
   ]
  },
  {
   "cell_type": "code",
   "execution_count": 60,
   "metadata": {
    "colab": {
     "base_uri": "https://localhost:8080/",
     "height": 374
    },
    "executionInfo": {
     "elapsed": 967,
     "status": "ok",
     "timestamp": 1607639325140,
     "user": {
      "displayName": "Maleakhi Wijaya",
      "photoUrl": "https://lh3.googleusercontent.com/a-/AOh14GjWeXmQeCxsKPG8FFJCCom2rLzEqFPuSWk9mEne=s64",
      "userId": "07329732752635664572"
     },
     "user_tz": 0
    },
    "id": "EXS7q-BSvE-3",
    "outputId": "a48fd6a4-3146-40aa-a870-3948843cf7c3"
   },
   "outputs": [
    {
     "data": {
      "image/png": "[encoded data removed]",
      "text/plain": [
       "<Figure size 432x432 with 1 Axes>"
      ]
     },
     "metadata": {
      "needs_background": "light",
      "tags": []
     },
     "output_type": "display_data"
    }
   ],
   "source": [
    "# Plot training-validation loss\n",
    "fig = plt.figure(figsize=(6, 6))\n",
    "ax = fig.add_subplot(111)\n",
    "\n",
    "ax.plot(history.history[\"loss\"], label=\"Training Loss\")\n",
    "ax.plot(history.history[\"val_loss\"], label=\"Validation Loss\")\n",
    "\n",
    "ax.grid(True)\n",
    "ax.legend()\n",
    "plt.show()"
   ]
  },
  {
   "cell_type": "code",
   "execution_count": 83,
   "metadata": {
    "executionInfo": {
     "elapsed": 7768,
     "status": "ok",
     "timestamp": 1607640679251,
     "user": {
      "displayName": "Maleakhi Wijaya",
      "photoUrl": "https://lh3.googleusercontent.com/a-/AOh14GjWeXmQeCxsKPG8FFJCCom2rLzEqFPuSWk9mEne=s64",
      "userId": "07329732752635664572"
     },
     "user_tz": 0
    },
    "id": "HmNjr2p7vFLD"
   },
   "outputs": [],
   "source": [
    "c_test_color = np.argmax(binary_model.predict(x_test)[:, :1], axis=1)\n",
    "c_test_shape = np.argmax(binary_model.predict(x_test)[:, 1:4], axis=1)\n",
    "c_test_scale = np.argmax(binary_model.predict(x_test)[:, 4:10], axis=1)\n",
    "c_test_rotation = np.argmax(binary_model.predict(x_test)[:, 10:50], axis=1)\n",
    "c_test_x = np.argmax(binary_model.predict(x_test)[:, 50:82], axis=1)\n",
    "c_test_y = np.argmax(binary_model.predict(x_test)[:, 82:114], axis=1)\n",
    "\n",
    "c_pred = np.stack([c_test_color, c_test_shape, c_test_scale, c_test_rotation, c_test_x, c_test_y], axis=1)"
   ]
  },
  {
   "cell_type": "code",
   "execution_count": 78,
   "metadata": {
    "colab": {
     "base_uri": "https://localhost:8080/"
    },
    "executionInfo": {
     "elapsed": 2058,
     "status": "ok",
     "timestamp": 1607640116844,
     "user": {
      "displayName": "Maleakhi Wijaya",
      "photoUrl": "https://lh3.googleusercontent.com/a-/AOh14GjWeXmQeCxsKPG8FFJCCom2rLzEqFPuSWk9mEne=s64",
      "userId": "07329732752635664572"
     },
     "user_tz": 0
    },
    "id": "Xk_epFKNzEu2",
    "outputId": "ba2b86f9-9259-4a35-91ed-4f85637f30bf"
   },
   "outputs": [
    {
     "name": "stdout",
     "output_type": "stream",
     "text": [
      "******************** Model: color ********************\n",
      "              precision    recall  f1-score   support\n",
      "\n",
      "           0       1.00      1.00      1.00     30000\n",
      "\n",
      "    accuracy                           1.00     30000\n",
      "   macro avg       1.00      1.00      1.00     30000\n",
      "weighted avg       1.00      1.00      1.00     30000\n",
      "\n",
      "[[30000]]\n",
      "\n",
      "\n",
      "\n",
      "******************** Model: shape ********************\n",
      "              precision    recall  f1-score   support\n",
      "\n",
      "           0       1.00      1.00      1.00     10086\n",
      "           1       1.00      1.00      1.00     10008\n",
      "           2       1.00      1.00      1.00      9906\n",
      "\n",
      "    accuracy                           1.00     30000\n",
      "   macro avg       1.00      1.00      1.00     30000\n",
      "weighted avg       1.00      1.00      1.00     30000\n",
      "\n",
      "[[10086     0     0]\n",
      " [    0 10007     1]\n",
      " [    0     0  9906]]\n",
      "\n",
      "\n",
      "\n",
      "******************** Model: scale ********************\n",
      "              precision    recall  f1-score   support\n",
      "\n",
      "           0       0.99      1.00      1.00      4975\n",
      "           1       1.00      0.99      1.00      5022\n",
      "           2       0.98      1.00      0.99      5069\n",
      "           3       0.95      0.98      0.96      4904\n",
      "           4       0.93      0.92      0.93      5015\n",
      "           5       0.96      0.93      0.95      5015\n",
      "\n",
      "    accuracy                           0.97     30000\n",
      "   macro avg       0.97      0.97      0.97     30000\n",
      "weighted avg       0.97      0.97      0.97     30000\n",
      "\n",
      "[[4975    0    0    0    0    0]\n",
      " [  26 4995    1    0    0    0]\n",
      " [   0    3 5066    0    0    0]\n",
      " [   0    0  116 4785    3    0]\n",
      " [   0    0    0  231 4601  183]\n",
      " [   0    0    0    0  327 4688]]\n",
      "\n",
      "\n",
      "\n",
      "******************** Model: rotation ********************\n",
      "              precision    recall  f1-score   support\n",
      "\n",
      "           0       0.18      0.21      0.19       725\n",
      "           1       0.19      0.16      0.17       790\n",
      "           2       0.34      0.14      0.20       714\n",
      "           3       0.15      0.30      0.20       768\n",
      "           4       0.14      0.32      0.19       757\n",
      "           5       0.25      0.11      0.15       733\n",
      "           6       0.14      0.12      0.13       779\n",
      "           7       0.14      0.14      0.14       697\n",
      "           8       0.17      0.11      0.14       818\n",
      "           9       0.13      0.17      0.15       760\n",
      "          10       0.11      0.09      0.10       746\n",
      "          11       0.17      0.13      0.15       732\n",
      "          12       0.13      0.28      0.18       752\n",
      "          13       0.19      0.12      0.15       759\n",
      "          14       0.17      0.11      0.13       728\n",
      "          15       0.11      0.09      0.10       737\n",
      "          16       0.18      0.19      0.18       719\n",
      "          17       0.26      0.25      0.26       754\n",
      "          18       0.25      0.20      0.22       760\n",
      "          19       0.15      0.14      0.15       751\n",
      "          20       0.14      0.16      0.15       739\n",
      "          21       0.25      0.24      0.24       755\n",
      "          22       0.19      0.23      0.20       737\n",
      "          23       0.21      0.25      0.23       785\n",
      "          24       0.10      0.15      0.12       699\n",
      "          25       0.12      0.06      0.08       746\n",
      "          26       0.17      0.15      0.16       738\n",
      "          27       0.21      0.10      0.14       777\n",
      "          28       0.21      0.11      0.15       752\n",
      "          29       0.14      0.16      0.15       729\n",
      "          30       0.11      0.10      0.11       766\n",
      "          31       0.18      0.11      0.13       732\n",
      "          32       0.20      0.24      0.22       740\n",
      "          33       0.22      0.27      0.24       749\n",
      "          34       0.16      0.18      0.17       785\n",
      "          35       0.23      0.24      0.23       752\n",
      "          36       0.29      0.18      0.22       792\n",
      "          37       0.24      0.29      0.26       752\n",
      "          38       0.15      0.17      0.16       755\n",
      "          39       0.14      0.10      0.11       741\n",
      "\n",
      "    accuracy                           0.17     30000\n",
      "   macro avg       0.18      0.17      0.17     30000\n",
      "weighted avg       0.18      0.17      0.17     30000\n",
      "\n",
      "[[155  64   2 ...   4  72 103]\n",
      " [109 127  10 ...  19  57  43]\n",
      " [ 10  40 102 ...  62  15   3]\n",
      " ...\n",
      " [  2  14  12 ... 215  31  16]\n",
      " [ 49  48  10 ...  14 125  50]\n",
      " [157  53   7 ...   6  62  72]]\n",
      "\n",
      "\n",
      "\n",
      "******************** Model: x ********************\n",
      "              precision    recall  f1-score   support\n",
      "\n",
      "           0       0.89      0.91      0.90       975\n",
      "           1       0.83      0.74      0.78       902\n",
      "           2       0.76      0.80      0.78       923\n",
      "           3       0.78      0.81      0.79       946\n",
      "           4       0.77      0.77      0.77       898\n",
      "           5       0.77      0.74      0.76       928\n",
      "           6       0.79      0.82      0.80       992\n",
      "           7       0.78      0.81      0.80       948\n",
      "           8       0.80      0.78      0.79       965\n",
      "           9       0.79      0.76      0.77       941\n",
      "          10       0.81      0.77      0.79       991\n",
      "          11       0.79      0.82      0.81       906\n",
      "          12       0.79      0.80      0.80       905\n",
      "          13       0.83      0.80      0.82       967\n",
      "          14       0.74      0.82      0.78       940\n",
      "          15       0.76      0.73      0.75       939\n",
      "          16       0.80      0.71      0.75       966\n",
      "          17       0.78      0.78      0.78       917\n",
      "          18       0.75      0.80      0.77       954\n",
      "          19       0.75      0.74      0.75       922\n",
      "          20       0.78      0.83      0.80      1004\n",
      "          21       0.82      0.78      0.80       918\n",
      "          22       0.79      0.82      0.80       980\n",
      "          23       0.76      0.80      0.78       859\n",
      "          24       0.74      0.81      0.77       998\n",
      "          25       0.78      0.59      0.67       883\n",
      "          26       0.76      0.73      0.74       945\n",
      "          27       0.76      0.74      0.75       963\n",
      "          28       0.74      0.74      0.74       871\n",
      "          29       0.77      0.77      0.77       949\n",
      "          30       0.79      0.69      0.74       911\n",
      "          31       0.79      0.94      0.86       894\n",
      "\n",
      "    accuracy                           0.78     30000\n",
      "   macro avg       0.78      0.78      0.78     30000\n",
      "weighted avg       0.78      0.78      0.78     30000\n",
      "\n",
      "[[887  59  29 ...   0   0   0]\n",
      " [109 663 121 ...   0   0   0]\n",
      " [  3  72 738 ...   0   0   0]\n",
      " ...\n",
      " [  0   0   0 ... 733 116  18]\n",
      " [  0   0   0 ...  69 633 203]\n",
      " [  0   0   0 ...   5  47 842]]\n",
      "\n",
      "\n",
      "\n",
      "******************** Model: y ********************\n",
      "              precision    recall  f1-score   support\n",
      "\n",
      "           0       0.88      0.92      0.90       946\n",
      "           1       0.78      0.80      0.79       903\n",
      "           2       0.83      0.70      0.76       920\n",
      "           3       0.76      0.83      0.79       976\n",
      "           4       0.78      0.77      0.77       939\n",
      "           5       0.79      0.78      0.79       928\n",
      "           6       0.78      0.80      0.79       883\n",
      "           7       0.75      0.84      0.79       976\n",
      "           8       0.79      0.72      0.75       899\n",
      "           9       0.72      0.78      0.75       921\n",
      "          10       0.82      0.72      0.77      1025\n",
      "          11       0.79      0.80      0.79       941\n",
      "          12       0.79      0.74      0.76       971\n",
      "          13       0.72      0.82      0.77       946\n",
      "          14       0.72      0.80      0.76       914\n",
      "          15       0.77      0.65      0.71       876\n",
      "          16       0.78      0.79      0.79       964\n",
      "          17       0.80      0.79      0.80       950\n",
      "          18       0.81      0.79      0.80       978\n",
      "          19       0.75      0.79      0.77       935\n",
      "          20       0.77      0.75      0.76       932\n",
      "          21       0.72      0.80      0.76       897\n",
      "          22       0.79      0.71      0.75       987\n",
      "          23       0.72      0.80      0.76       914\n",
      "          24       0.82      0.64      0.72       941\n",
      "          25       0.70      0.86      0.77       941\n",
      "          26       0.84      0.76      0.79       913\n",
      "          27       0.83      0.73      0.78       881\n",
      "          28       0.77      0.79      0.78       961\n",
      "          29       0.76      0.86      0.81       946\n",
      "          30       0.82      0.72      0.77       935\n",
      "          31       0.86      0.90      0.88       961\n",
      "\n",
      "    accuracy                           0.78     30000\n",
      "   macro avg       0.78      0.78      0.78     30000\n",
      "weighted avg       0.78      0.78      0.78     30000\n",
      "\n",
      "[[873  71   2 ...   0   0   0]\n",
      " [122 721  55 ...   0   0   0]\n",
      " [  2 131 645 ...   0   0   0]\n",
      " ...\n",
      " [  0   0   0 ... 814  54   3]\n",
      " [  0   0   0 ... 121 677 137]\n",
      " [  0   0   0 ...   2  92 867]]\n",
      "\n",
      "\n",
      "\n"
     ]
    }
   ],
   "source": [
    "concept_names = [\"color\", \"shape\", \"scale\", \"rotation\", \"x\", \"y\"]\n",
    "for i, concept in enumerate(concept_names):\n",
    "    print(\"*\"*20, f\"Model: {concept_names[i]}\", \"*\"*20)\n",
    "    c_truth = c_test[:, i]\n",
    "    c_pre = c_pred[:, i]\n",
    "    \n",
    "    print(classification_report(c_truth, c_pre))\n",
    "    print(confusion_matrix(c_truth, c_pre))\n",
    "    print(\"\\n\\n\")"
   ]
  },
  {
   "cell_type": "markdown",
   "metadata": {
    "id": "D6AK0DoCb7yk"
   },
   "source": [
    "### Evaluation between Models\n",
    "\n",
    "We will contrast the performance of models trained above."
   ]
  },
  {
   "cell_type": "code",
   "execution_count": 84,
   "metadata": {
    "executionInfo": {
     "elapsed": 9274,
     "status": "ok",
     "timestamp": 1607640721414,
     "user": {
      "displayName": "Maleakhi Wijaya",
      "photoUrl": "https://lh3.googleusercontent.com/a-/AOh14GjWeXmQeCxsKPG8FFJCCom2rLzEqFPuSWk9mEne=s64",
      "userId": "07329732752635664572"
     },
     "user_tz": 0
    },
    "id": "uU_K033UcEdk"
   },
   "outputs": [],
   "source": [
    "# For multitask model\n",
    "acc_concept_multitask = []\n",
    "for i, pred in enumerate(multitask_model.predict(x_test)):\n",
    "    c_truth = c_test[:, i]\n",
    "    c_pre = np.argmax(pred, axis=1)\n",
    "    \n",
    "    acc_concept_multitask.append(accuracy_score(c_truth, c_pre))\n",
    "\n",
    "# For ensemble model\n",
    "acc_concept_ensemble = []\n",
    "for i, model in enumerate(ensemble_model):\n",
    "    c_truth = c_test[:, i]\n",
    "    c_pre = np.argmax(model.predict(x_test), axis=1)\n",
    "    \n",
    "    acc_concept_ensemble.append(accuracy_score(c_truth, c_pre))\n",
    "\n",
    "# For binary model\n",
    "concept_names = [\"color\", \"shape\", \"scale\", \"rotation\", \"x\", \"y\"]\n",
    "acc_concept_binary = []\n",
    "for i, concept in enumerate(concept_names):\n",
    "    c_truth = c_test[:, i]\n",
    "    c_pre = c_pred[:, i]\n",
    "\n",
    "    acc_concept_binary.append(accuracy_score(c_truth, c_pre))"
   ]
  },
  {
   "cell_type": "code",
   "execution_count": 99,
   "metadata": {
    "colab": {
     "base_uri": "https://localhost:8080/",
     "height": 385
    },
    "executionInfo": {
     "elapsed": 876,
     "status": "ok",
     "timestamp": 1607641255676,
     "user": {
      "displayName": "Maleakhi Wijaya",
      "photoUrl": "https://lh3.googleusercontent.com/a-/AOh14GjWeXmQeCxsKPG8FFJCCom2rLzEqFPuSWk9mEne=s64",
      "userId": "07329732752635664572"
     },
     "user_tz": 0
    },
    "id": "sh1UE99ScEnT",
    "outputId": "182d9459-a5de-4899-e76d-3cb8c9586c11"
   },
   "outputs": [
    {
     "data": {
      "image/png": "[encoded data removed]",
      "text/plain": [
       "<Figure size 576x432 with 1 Axes>"
      ]
     },
     "metadata": {
      "needs_background": "light",
      "tags": []
     },
     "output_type": "display_data"
    }
   ],
   "source": [
    "labels = concept_names\n",
    "\n",
    "x = np.arange(len(labels))  # the label locations\n",
    "width = 0.23  # the width of the bars\n",
    "\n",
    "fig = plt.figure(figsize=(8, 6))\n",
    "ax = fig.add_subplot(111)\n",
    "rects1 = ax.bar(x - 2*width/3, acc_concept_multitask, width, label='Multitask Model')\n",
    "rects2 = ax.bar(x + width/3, acc_concept_ensemble, width, label='Ensemble Model')\n",
    "rects3 = ax.bar(x + 4*width/3, acc_concept_binary, width, label='Binary CME Model')\n",
    "\n",
    "# Add some text for labels, title and custom x-axis tick labels, etc.\n",
    "ax.set_ylabel('Accuracy Score')\n",
    "ax.set_xticks(x)\n",
    "ax.set_xticklabels(labels)\n",
    "ax.legend(loc='upper center', bbox_to_anchor=(0.5, 1.05),\n",
    "          ncol=3, fancybox=True, shadow=True)\n",
    "plt.show()"
   ]
  },
  {
   "cell_type": "markdown",
   "metadata": {
    "id": "fljiyIOOcQ2l"
   },
   "source": [
    "## Concept to Output Model\n",
    "\n",
    "In this section, we will train concept to output model. The model will take concepts as input and shape as output. We follow *Independent Bottleneck* training procedure."
   ]
  },
  {
   "cell_type": "code",
   "execution_count": null,
   "metadata": {
    "colab": {
     "base_uri": "https://localhost:8080/"
    },
    "executionInfo": {
     "elapsed": 772,
     "status": "ok",
     "timestamp": 1607633628591,
     "user": {
      "displayName": "Maleakhi Wijaya",
      "photoUrl": "https://lh3.googleusercontent.com/a-/AOh14GjWeXmQeCxsKPG8FFJCCom2rLzEqFPuSWk9mEne=s64",
      "userId": "07329732752635664572"
     },
     "user_tz": 0
    },
    "id": "y9Ew55KMcQ2l",
    "outputId": "add7e83a-2b74-419d-c5b0-2a144022a9c2"
   },
   "outputs": [
    {
     "data": {
      "text/plain": [
       "DecisionTreeClassifier(ccp_alpha=0.0, class_weight=None, criterion='gini',\n",
       "                       max_depth=None, max_features=None, max_leaf_nodes=None,\n",
       "                       min_impurity_decrease=0.0, min_impurity_split=None,\n",
       "                       min_samples_leaf=1, min_samples_split=2,\n",
       "                       min_weight_fraction_leaf=0.0, presort='deprecated',\n",
       "                       random_state=None, splitter='best')"
      ]
     },
     "execution_count": 38,
     "metadata": {
      "tags": []
     },
     "output_type": "execute_result"
    }
   ],
   "source": [
    "# Build and train model\n",
    "com = DecisionTreeClassifier()\n",
    "com.fit(c_train, y_train)"
   ]
  },
  {
   "cell_type": "code",
   "execution_count": null,
   "metadata": {
    "colab": {
     "base_uri": "https://localhost:8080/"
    },
    "executionInfo": {
     "elapsed": 824,
     "status": "ok",
     "timestamp": 1607633631722,
     "user": {
      "displayName": "Maleakhi Wijaya",
      "photoUrl": "https://lh3.googleusercontent.com/a-/AOh14GjWeXmQeCxsKPG8FFJCCom2rLzEqFPuSWk9mEne=s64",
      "userId": "07329732752635664572"
     },
     "user_tz": 0
    },
    "id": "-0JDMEtzcQ2l",
    "outputId": "56abe65d-2a55-430d-8517-db6855ea7624"
   },
   "outputs": [
    {
     "name": "stdout",
     "output_type": "stream",
     "text": [
      "              precision    recall  f1-score   support\n",
      "\n",
      "           0       1.00      1.00      1.00      9970\n",
      "           1       1.00      1.00      1.00     10006\n",
      "           2       1.00      1.00      1.00     10024\n",
      "\n",
      "    accuracy                           1.00     30000\n",
      "   macro avg       1.00      1.00      1.00     30000\n",
      "weighted avg       1.00      1.00      1.00     30000\n",
      "\n",
      "[[ 9970     0     0]\n",
      " [    0 10006     0]\n",
      " [    0     0 10024]]\n"
     ]
    }
   ],
   "source": [
    "y_test_pred = com.predict(c_test)\n",
    "print(classification_report(y_test_pred, y_test))\n",
    "print(confusion_matrix(y_test_pred, y_test))"
   ]
  },
  {
   "cell_type": "markdown",
   "metadata": {
    "id": "_AxrbD67cQ2l"
   },
   "source": [
    "## End to End Model\n",
    "\n",
    "In this section, we will evaluate the performance of the model as a whole (merging input to concept and concept to output models)."
   ]
  },
  {
   "cell_type": "code",
   "execution_count": 100,
   "metadata": {
    "executionInfo": {
     "elapsed": 803,
     "status": "ok",
     "timestamp": 1607641307633,
     "user": {
      "displayName": "Maleakhi Wijaya",
      "photoUrl": "https://lh3.googleusercontent.com/a-/AOh14GjWeXmQeCxsKPG8FFJCCom2rLzEqFPuSWk9mEne=s64",
      "userId": "07329732752635664572"
     },
     "user_tz": 0
    },
    "id": "MFBebMxXcQ2l"
   },
   "outputs": [],
   "source": [
    "def full_pipeline(itc_models, cto_model, x_test):\n",
    "    \n",
    "    concepts = itc_models[0](x_test).numpy()\n",
    "    for model in itc_models[1:]:\n",
    "        result = np.argmax(model(x_test).numpy(), axis=1)\n",
    "        result = np.expand_dims(result, axis=-1)\n",
    "        concepts = np.concatenate((concepts, result), axis=1)\n",
    "    \n",
    "    return cto_model.predict(concepts)"
   ]
  },
  {
   "cell_type": "code",
   "execution_count": 103,
   "metadata": {
    "executionInfo": {
     "elapsed": 919,
     "status": "ok",
     "timestamp": 1607641350769,
     "user": {
      "displayName": "Maleakhi Wijaya",
      "photoUrl": "https://lh3.googleusercontent.com/a-/AOh14GjWeXmQeCxsKPG8FFJCCom2rLzEqFPuSWk9mEne=s64",
      "userId": "07329732752635664572"
     },
     "user_tz": 0
    },
    "id": "X31r-sf6cQ2l"
   },
   "outputs": [],
   "source": [
    "# y_pred_full = full_pipeline(ensemble_model, com, x_test)\n",
    "# y_test = y_test"
   ]
  },
  {
   "cell_type": "code",
   "execution_count": null,
   "metadata": {
    "colab": {
     "base_uri": "https://localhost:8080/"
    },
    "executionInfo": {
     "elapsed": 517,
     "status": "ok",
     "timestamp": 1606869489728,
     "user": {
      "displayName": "Maleakhi Wijaya",
      "photoUrl": "https://lh3.googleusercontent.com/a-/AOh14GjWeXmQeCxsKPG8FFJCCom2rLzEqFPuSWk9mEne=s64",
      "userId": "07329732752635664572"
     },
     "user_tz": 0
    },
    "id": "Y6a3JGbtcQ2l",
    "outputId": "d831a809-1b79-4dea-f79d-cc3e1c6fec38"
   },
   "outputs": [
    {
     "name": "stdout",
     "output_type": "stream",
     "text": [
      "              precision    recall  f1-score   support\n",
      "\n",
      "           0       1.00      1.00      1.00     15000\n",
      "\n",
      "    accuracy                           1.00     15000\n",
      "   macro avg       1.00      1.00      1.00     15000\n",
      "weighted avg       1.00      1.00      1.00     15000\n",
      "\n"
     ]
    }
   ],
   "source": [
    "print(classification_report(y_pred_full, y_test))"
   ]
  }
 ],
 "metadata": {
  "accelerator": "GPU",
  "colab": {
   "collapsed_sections": [],
   "machine_shape": "hm",
   "name": "dSprites_experimentation.ipynb",
   "provenance": []
  },
  "kernelspec": {
   "display_name": "Python 3",
   "language": "python",
   "name": "python3"
  },
  "language_info": {
   "codemirror_mode": {
    "name": "ipython",
    "version": 3
   },
   "file_extension": ".py",
   "mimetype": "text/x-python",
   "name": "python",
   "nbconvert_exporter": "python",
   "pygments_lexer": "ipython3",
   "version": "3.7.6"
  }
 },
 "nbformat": 4,
 "nbformat_minor": 1
}
