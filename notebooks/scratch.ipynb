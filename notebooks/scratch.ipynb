{
  "nbformat": 4,
  "nbformat_minor": 0,
  "metadata": {
    "colab": {
      "name": "scratch.ipynb",
      "provenance": [],
      "collapsed_sections": [
        "NqDPsqT2cEXQ"
      ],
      "machine_shape": "hm"
    },
    "kernelspec": {
      "name": "python3",
      "display_name": "Python 3"
    },
    "accelerator": "GPU"
  },
  "cells": [
    {
      "cell_type": "markdown",
      "metadata": {
        "id": "_EIxRpitRyBW"
      },
      "source": [
        "# Scratch\n",
        "\n",
        "To be deleted, used for fast experimentation."
      ]
    },
    {
      "cell_type": "code",
      "metadata": {
        "id": "QNh5EBMhtZcl"
      },
      "source": [
        "# ## Solve dependency problem\n",
        "# !git clone https://github.com/josipd/torch-two-sample.git\n",
        "# %cd torch-two-sample\n",
        "# !python setup.py install"
      ],
      "execution_count": null,
      "outputs": []
    },
    {
      "cell_type": "code",
      "metadata": {
        "id": "ylb9pq2dRxTL"
      },
      "source": [
        "import numpy as np\n",
        "import torch\n",
        "import random\n",
        "# from torch_two_sample import *\n",
        "from scipy.stats import ks_2samp, binom_test, chisquare, chi2_contingency, anderson_ksamp\n",
        "from scipy.spatial import distance\n",
        "import matplotlib.pyplot as plt\n",
        "import seaborn as sns\n",
        "from sklearn.model_selection import train_test_split\n",
        "import scipy.io\n",
        "from math import ceil\n",
        "from copy import deepcopy\n",
        "import pandas as pd\n",
        "import tensorflow as tf\n",
        "from tensorflow.keras.preprocessing.image import ImageDataGenerator\n",
        "from tensorflow.keras.utils import to_categorical\n",
        "from tensorflow.keras.callbacks import ReduceLROnPlateau, EarlyStopping\n",
        "from tensorflow.keras import optimizers\n",
        "from sklearn.linear_model import LogisticRegression\n",
        "from sklearn.metrics import confusion_matrix, classification_report, accuracy_score, plot_confusion_matrix\n",
        "from sklearn.tree import DecisionTreeClassifier\n",
        "from tensorflow.python import keras\n",
        "from tensorflow.python.keras import layers\n",
        "\n",
        "# Remove warnings\n",
        "import warnings\n",
        "warnings.filterwarnings('ignore')"
      ],
      "execution_count": 1,
      "outputs": []
    },
    {
      "cell_type": "code",
      "metadata": {
        "colab": {
          "base_uri": "https://localhost:8080/"
        },
        "id": "ppfwakgoR6TW",
        "outputId": "c01443bd-1785-4c23-d74c-ab38ebed2ef9"
      },
      "source": [
        "# Mount drive (if needed)\n",
        "from google.colab import drive\n",
        "drive.mount('/content/drive')"
      ],
      "execution_count": 2,
      "outputs": [
        {
          "output_type": "stream",
          "text": [
            "Drive already mounted at /content/drive; to attempt to forcibly remount, call drive.mount(\"/content/drive\", force_remount=True).\n"
          ],
          "name": "stdout"
        }
      ]
    },
    {
      "cell_type": "code",
      "metadata": {
        "id": "ktvZAtXPR6Vx"
      },
      "source": [
        "# Run utility functions\n",
        "%run drive/MyDrive/Colab\\ Notebooks/MPhil\\ Prototype/Utilities.ipynb"
      ],
      "execution_count": 3,
      "outputs": []
    },
    {
      "cell_type": "markdown",
      "metadata": {
        "id": "isTThbu4nPeX"
      },
      "source": [
        "## Load Dataset"
      ]
    },
    {
      "cell_type": "code",
      "metadata": {
        "colab": {
          "base_uri": "https://localhost:8080/"
        },
        "id": "6T2mfwGBnRfY",
        "outputId": "bead83b2-a4f5-49ce-e107-71397e81b221"
      },
      "source": [
        "# Load dataset, split into train test\n",
        "path = 'drive/MyDrive/dsprites_ndarray_co1sh3sc6or40x32y32_64x64.npz'\n",
        "x_train, x_test, y_train, y_test, c_train, c_test = load_dsprites(path, 100000, train_size=0.85, class_index=1)\n",
        "\n",
        "# Split training into validation set as well \n",
        "x_train, x_valid = x_train[:70000], x_train[70000:]\n",
        "y_train, y_valid = y_train[:70000], y_train[70000:]\n",
        "c_train, c_valid = c_train[:70000], c_train[70000:]"
      ],
      "execution_count": 4,
      "outputs": [
        {
          "output_type": "stream",
          "text": [
            "Training samples: 85000\n",
            "Testing samples: 15000\n"
          ],
          "name": "stdout"
        }
      ]
    },
    {
      "cell_type": "code",
      "metadata": {
        "id": "84Rxx_ROnj4c"
      },
      "source": [
        "# Reshape to appropriate shift input\n",
        "# It is noteworthy that for efficiency, we represent the images as only 2 dimension\n",
        "# when we preprocessing (number of instances/ batch size * flatten size).\n",
        "# When visualising back the image, we need to reshape it back to the original dimension\n",
        "ORIGINAL_SHAPE = x_test.shape[1:] # constant hold the image original shape\n",
        "x_test_flatten = deepcopy(x_test.reshape(x_test.shape[0], -1))"
      ],
      "execution_count": 5,
      "outputs": []
    },
    {
      "cell_type": "code",
      "metadata": {
        "colab": {
          "base_uri": "https://localhost:8080/",
          "height": 361
        },
        "id": "NrO1WbTdZ8hy",
        "outputId": "e6d1bdda-65a3-4bf1-c45b-d6c01d788544"
      },
      "source": [
        "# Select images\n",
        "imgs_sampled = x_test_flatten[:10].reshape(-1, 64, 64)\n",
        "\n",
        "# Show images\n",
        "show_images_grid(imgs_sampled, num_images=9)"
      ],
      "execution_count": 6,
      "outputs": [
        {
          "output_type": "display_data",
          "data": {
            "image/png": "[encoded data removed]",
            "text/plain": [
              "<Figure size 432x432 with 9 Axes>"
            ]
          },
          "metadata": {
            "tags": []
          }
        }
      ]
    },
    {
      "cell_type": "markdown",
      "metadata": {
        "id": "IuJbIRd7YNTV"
      },
      "source": [
        "## Apply Shifts (Translation)"
      ]
    },
    {
      "cell_type": "code",
      "metadata": {
        "id": "dRA3blUcYMek"
      },
      "source": [
        "def translate(x, orig_dims, delta=1.0):\n",
        "    \n",
        "    # Random indices where we will apply shift transformation\n",
        "    indices = np.random.choice(x.shape[0], ceil(x.shape[0] * delta), replace=False)\n",
        "    datagen = ImageDataGenerator(\n",
        "                                 width_shift_range=0.2,\n",
        "                                 height_shift_range=0.2,\n",
        "                                 fill_mode=\"nearest\")\n",
        "    \n",
        "    # Subset of images with random indices\n",
        "    x_mod = x[indices, :]\n",
        "    for idx in range(len(x_mod)):\n",
        "        img_sample = x_mod[idx, :].reshape(orig_dims) # reshape single image to original image\n",
        "        mod_img_sample = datagen.flow(np.array([img_sample]), batch_size=1)[0]\n",
        "        x_mod[idx, :] = mod_img_sample.reshape(np.prod(mod_img_sample.shape))\n",
        "    x[indices, :] = x_mod\n",
        "    \n",
        "    return x, indices"
      ],
      "execution_count": 47,
      "outputs": []
    },
    {
      "cell_type": "code",
      "metadata": {
        "id": "1Dx5TfL2bVT-"
      },
      "source": [
        "x_test_flatten_shifted, _ = translate(deepcopy(x_test_flatten), ORIGINAL_SHAPE)"
      ],
      "execution_count": 48,
      "outputs": []
    },
    {
      "cell_type": "code",
      "metadata": {
        "colab": {
          "base_uri": "https://localhost:8080/",
          "height": 361
        },
        "id": "iHSIgiJQbj6u",
        "outputId": "2b93c9a2-a375-454c-9e81-4c5e6df69fa6"
      },
      "source": [
        "# Select images\n",
        "imgs_sampled = x_test_flatten_shifted[:10].reshape(-1, 64, 64)\n",
        "\n",
        "# Show images\n",
        "show_images_grid(imgs_sampled, num_images=9)"
      ],
      "execution_count": 49,
      "outputs": [
        {
          "output_type": "display_data",
          "data": {
            "image/png": "[encoded data removed]",
            "text/plain": [
              "<Figure size 432x432 with 9 Axes>"
            ]
          },
          "metadata": {
            "tags": []
          }
        }
      ]
    },
    {
      "cell_type": "markdown",
      "metadata": {
        "id": "NqDPsqT2cEXQ"
      },
      "source": [
        "## CBM"
      ]
    },
    {
      "cell_type": "code",
      "metadata": {
        "id": "P1ljWBzncHYr"
      },
      "source": [
        "multitask_model = MultitaskModel()\n",
        "optimizer = tf.keras.optimizers.Adam(lr=1e-4, amsgrad=True)\n",
        "multitask_model.compile(optimizer=optimizer,\n",
        "                    loss=[\n",
        "                        tf.keras.losses.SparseCategoricalCrossentropy(from_logits=False),\n",
        "                        tf.keras.losses.SparseCategoricalCrossentropy(from_logits=False),\n",
        "                        tf.keras.losses.SparseCategoricalCrossentropy(from_logits=False),\n",
        "                        tf.keras.losses.SparseCategoricalCrossentropy(from_logits=False),\n",
        "                        tf.keras.losses.SparseCategoricalCrossentropy(from_logits=False),\n",
        "                        tf.keras.losses.SparseCategoricalCrossentropy(from_logits=False)\n",
        "                    ], metrics=[\"accuracy\"])\n",
        "lr_reducer = ReduceLROnPlateau(factor=np.sqrt(0.1), cooldown=0, patience=5, min_lr=0.5e-6)\n",
        "early_stopper = EarlyStopping(min_delta=0.001, patience=10)\n",
        "\n",
        "history = multitask_model.fit(x=x_train, y=[c_train[:, 0], c_train[:, 1], c_train[:, 2]\n",
        "                                  , c_train[:, 3], c_train[:, 4], c_train[:, 5]], \n",
        "                    epochs=200, batch_size=128,\n",
        "                    validation_data=(x_valid, [c_valid[:, 0], c_valid[:, 1], c_valid[:, 2]\n",
        "                                  , c_valid[:, 3], c_valid[:, 4], c_valid[:, 5]]),\n",
        "                              callbacks=[lr_reducer, early_stopper])"
      ],
      "execution_count": null,
      "outputs": []
    },
    {
      "cell_type": "code",
      "metadata": {
        "id": "90jyZj4Edrwl"
      },
      "source": [
        "# Save model\n",
        "path = \"drive/MyDrive/multitask_saved_model/\"\n",
        "# multitask_model.save(path)\n",
        "model = keras.models.load_model(path)"
      ],
      "execution_count": 10,
      "outputs": []
    },
    {
      "cell_type": "code",
      "metadata": {
        "colab": {
          "base_uri": "https://localhost:8080/",
          "height": 483
        },
        "id": "SW_DsbeRcHa1",
        "outputId": "db1b1643-0217-45a6-9e02-572c7960e43e"
      },
      "source": [
        "fig = plt.figure(figsize=(12, 8))\n",
        "ax1 = fig.add_subplot(231)\n",
        "ax2 = fig.add_subplot(232)\n",
        "ax3 = fig.add_subplot(233)\n",
        "ax4 = fig.add_subplot(234)\n",
        "ax5 = fig.add_subplot(235)\n",
        "ax6 = fig.add_subplot(236)\n",
        "axes = [ax1, ax2, ax3, ax4, ax5, ax6]\n",
        "\n",
        "# Plot training validation loss\n",
        "ax1.plot(history.history[\"color_loss\"], label=\"Training Loss\")\n",
        "ax1.plot(history.history[\"val_color_loss\"], label=\"Validation Loss\")\n",
        "\n",
        "ax2.plot(history.history[\"shape_loss\"], label=\"Training Loss\")\n",
        "ax2.plot(history.history[\"val_shape_loss\"], label=\"Validation Loss\")\n",
        "\n",
        "ax3.plot(history.history[\"scale_loss\"], label=\"Training Loss\")\n",
        "ax3.plot(history.history[\"val_scale_loss\"], label=\"Validation Loss\")\n",
        "\n",
        "ax4.plot(history.history[\"rotation_loss\"], label=\"Training Loss\")\n",
        "ax4.plot(history.history[\"val_rotation_loss\"], label=\"Validation Loss\")\n",
        "\n",
        "ax5.plot(history.history[\"x_loss\"], label=\"Training Loss\")\n",
        "ax5.plot(history.history[\"val_x_loss\"], label=\"Validation Loss\")\n",
        "\n",
        "ax6.plot(history.history[\"y_loss\"], label=\"Training Loss\")\n",
        "ax6.plot(history.history[\"val_y_loss\"], label=\"Validation Loss\")\n",
        "\n",
        "for ax in axes:\n",
        "    ax.legend()\n",
        "    ax.grid(True)\n",
        "plt.show()"
      ],
      "execution_count": 17,
      "outputs": [
        {
          "output_type": "display_data",
          "data": {
            "image/png": "[encoded data removed]",
            "text/plain": [
              "<Figure size 864x576 with 6 Axes>"
            ]
          },
          "metadata": {
            "tags": [],
            "needs_background": "light"
          }
        }
      ]
    },
    {
      "cell_type": "code",
      "metadata": {
        "colab": {
          "base_uri": "https://localhost:8080/"
        },
        "id": "gCwZ6nNDcHdD",
        "outputId": "8bee21aa-55cf-4fb5-f40b-5c9d5ea9e7a2"
      },
      "source": [
        "# Evaluation\n",
        "concept_names = [\"color\", \"shape\", \"scale\", \"rotation\", \"x\", \"y\"]\n",
        "for i, pred in enumerate(model.predict(x_test)):\n",
        "    print(\"*\"*20, f\"Model: {concept_names[i]}\", \"*\"*20)\n",
        "    c_truth = c_test[:, i]\n",
        "    c_pred = np.argmax(pred, axis=1)\n",
        "    \n",
        "    print(classification_report(c_truth, c_pred))\n",
        "    print(confusion_matrix(c_truth, c_pred))\n",
        "    print(\"\\n\\n\")"
      ],
      "execution_count": 18,
      "outputs": [
        {
          "output_type": "stream",
          "text": [
            "******************** Model: color ********************\n",
            "              precision    recall  f1-score   support\n",
            "\n",
            "           0       1.00      1.00      1.00     15000\n",
            "\n",
            "    accuracy                           1.00     15000\n",
            "   macro avg       1.00      1.00      1.00     15000\n",
            "weighted avg       1.00      1.00      1.00     15000\n",
            "\n",
            "[[15000]]\n",
            "\n",
            "\n",
            "\n",
            "******************** Model: shape ********************\n",
            "              precision    recall  f1-score   support\n",
            "\n",
            "           0       1.00      1.00      1.00      4945\n",
            "           1       1.00      1.00      1.00      5023\n",
            "           2       1.00      1.00      1.00      5032\n",
            "\n",
            "    accuracy                           1.00     15000\n",
            "   macro avg       1.00      1.00      1.00     15000\n",
            "weighted avg       1.00      1.00      1.00     15000\n",
            "\n",
            "[[4945    0    0]\n",
            " [   0 5023    0]\n",
            " [   0    0 5032]]\n",
            "\n",
            "\n",
            "\n",
            "******************** Model: scale ********************\n",
            "              precision    recall  f1-score   support\n",
            "\n",
            "           0       1.00      1.00      1.00      2444\n",
            "           1       1.00      1.00      1.00      2489\n",
            "           2       1.00      1.00      1.00      2515\n",
            "           3       0.98      0.99      0.99      2506\n",
            "           4       0.99      0.97      0.98      2523\n",
            "           5       0.98      1.00      0.99      2523\n",
            "\n",
            "    accuracy                           0.99     15000\n",
            "   macro avg       0.99      0.99      0.99     15000\n",
            "weighted avg       0.99      0.99      0.99     15000\n",
            "\n",
            "[[2444    0    0    0    0    0]\n",
            " [  10 2479    0    0    0    0]\n",
            " [   0    6 2508    1    0    0]\n",
            " [   0    0   12 2477   17    0]\n",
            " [   0    0    0   41 2436   46]\n",
            " [   0    0    0    0    1 2522]]\n",
            "\n",
            "\n",
            "\n",
            "******************** Model: rotation ********************\n",
            "              precision    recall  f1-score   support\n",
            "\n",
            "           0       0.21      0.18      0.20       372\n",
            "           1       0.53      0.39      0.45       377\n",
            "           2       0.65      0.52      0.58       370\n",
            "           3       0.55      0.41      0.47       353\n",
            "           4       0.54      0.40      0.46       353\n",
            "           5       0.26      0.34      0.29       383\n",
            "           6       0.48      0.59      0.53       334\n",
            "           7       0.37      0.61      0.46       396\n",
            "           8       0.44      0.78      0.56       378\n",
            "           9       0.31      0.19      0.23       380\n",
            "          10       0.27      0.48      0.34       389\n",
            "          11       0.58      0.48      0.53       353\n",
            "          12       0.57      0.57      0.57       344\n",
            "          13       0.58      0.44      0.50       360\n",
            "          14       0.52      0.49      0.50       383\n",
            "          15       0.33      0.19      0.25       355\n",
            "          16       0.39      0.79      0.52       403\n",
            "          17       0.56      0.21      0.30       356\n",
            "          18       0.38      0.57      0.46       392\n",
            "          19       0.26      0.20      0.23       385\n",
            "          20       0.18      0.18      0.18       363\n",
            "          21       0.55      0.45      0.50       394\n",
            "          22       0.73      0.17      0.28       375\n",
            "          23       0.56      0.47      0.51       374\n",
            "          24       0.31      0.31      0.31       398\n",
            "          25       0.55      0.30      0.39       349\n",
            "          26       0.43      0.61      0.51       410\n",
            "          27       0.46      0.53      0.49       387\n",
            "          28       0.49      0.37      0.43       367\n",
            "          29       0.29      0.26      0.27       388\n",
            "          30       0.43      0.08      0.14       369\n",
            "          31       0.76      0.32      0.45       374\n",
            "          32       0.64      0.55      0.59       385\n",
            "          33       0.71      0.34      0.46       370\n",
            "          34       0.24      0.35      0.28       367\n",
            "          35       0.47      0.57      0.52       399\n",
            "          36       0.38      0.52      0.44       371\n",
            "          37       0.54      0.41      0.46       377\n",
            "          38       0.35      0.30      0.32       387\n",
            "          39       0.23      0.54      0.32       380\n",
            "\n",
            "    accuracy                           0.41     15000\n",
            "   macro avg       0.45      0.41      0.41     15000\n",
            "weighted avg       0.45      0.41      0.41     15000\n",
            "\n",
            "[[ 67   0   0 ...   0  18 192]\n",
            " [ 28 146   1 ...   1  14  53]\n",
            " [  0   1 191 ...  50   0   0]\n",
            " ...\n",
            " [  1   0   9 ... 154   7   0]\n",
            " [ 21   8   0 ...   0 115  69]\n",
            " [ 54   1   0 ...   0  12 204]]\n",
            "\n",
            "\n",
            "\n",
            "******************** Model: x ********************\n",
            "              precision    recall  f1-score   support\n",
            "\n",
            "           0       0.89      0.93      0.91       469\n",
            "           1       0.88      0.83      0.85       447\n",
            "           2       0.84      0.91      0.87       456\n",
            "           3       0.82      0.87      0.84       480\n",
            "           4       0.88      0.81      0.84       493\n",
            "           5       0.88      0.80      0.84       432\n",
            "           6       0.83      0.89      0.86       467\n",
            "           7       0.83      0.85      0.84       452\n",
            "           8       0.88      0.85      0.87       498\n",
            "           9       0.87      0.86      0.87       443\n",
            "          10       0.83      0.87      0.85       456\n",
            "          11       0.87      0.85      0.86       463\n",
            "          12       0.89      0.85      0.87       439\n",
            "          13       0.86      0.88      0.87       492\n",
            "          14       0.83      0.87      0.85       484\n",
            "          15       0.86      0.81      0.83       466\n",
            "          16       0.86      0.86      0.86       468\n",
            "          17       0.85      0.90      0.88       478\n",
            "          18       0.90      0.84      0.87       432\n",
            "          19       0.86      0.85      0.86       455\n",
            "          20       0.87      0.83      0.85       473\n",
            "          21       0.80      0.88      0.84       475\n",
            "          22       0.88      0.84      0.86       485\n",
            "          23       0.84      0.87      0.86       474\n",
            "          24       0.82      0.82      0.82       484\n",
            "          25       0.86      0.85      0.85       470\n",
            "          26       0.82      0.90      0.86       479\n",
            "          27       0.89      0.77      0.83       463\n",
            "          28       0.85      0.87      0.86       485\n",
            "          29       0.83      0.91      0.86       484\n",
            "          30       0.90      0.83      0.86       497\n",
            "          31       0.92      0.92      0.92       461\n",
            "\n",
            "    accuracy                           0.86     15000\n",
            "   macro avg       0.86      0.86      0.86     15000\n",
            "weighted avg       0.86      0.86      0.86     15000\n",
            "\n",
            "[[436  33   0 ...   0   0   0]\n",
            " [ 51 372  24 ...   0   0   0]\n",
            " [  1  20 415 ...   0   0   0]\n",
            " ...\n",
            " [  0   0   0 ... 439  20   0]\n",
            " [  0   0   0 ...  48 411  38]\n",
            " [  0   0   0 ...  11  26 424]]\n",
            "\n",
            "\n",
            "\n",
            "******************** Model: y ********************\n",
            "              precision    recall  f1-score   support\n",
            "\n",
            "           0       0.89      0.96      0.92       478\n",
            "           1       0.85      0.84      0.85       481\n",
            "           2       0.85      0.89      0.87       473\n",
            "           3       0.90      0.81      0.85       462\n",
            "           4       0.82      0.88      0.85       472\n",
            "           5       0.92      0.80      0.86       471\n",
            "           6       0.89      0.86      0.87       476\n",
            "           7       0.80      0.90      0.85       469\n",
            "           8       0.89      0.84      0.87       449\n",
            "           9       0.82      0.87      0.85       424\n",
            "          10       0.88      0.84      0.86       457\n",
            "          11       0.92      0.90      0.91       455\n",
            "          12       0.93      0.85      0.89       478\n",
            "          13       0.85      0.86      0.86       444\n",
            "          14       0.85      0.91      0.88       468\n",
            "          15       0.89      0.90      0.89       478\n",
            "          16       0.88      0.93      0.90       504\n",
            "          17       0.92      0.84      0.88       427\n",
            "          18       0.84      0.93      0.88       440\n",
            "          19       0.88      0.85      0.87       451\n",
            "          20       0.91      0.84      0.87       461\n",
            "          21       0.90      0.84      0.87       467\n",
            "          22       0.83      0.90      0.87       462\n",
            "          23       0.85      0.85      0.85       461\n",
            "          24       0.88      0.87      0.88       519\n",
            "          25       0.89      0.91      0.90       509\n",
            "          26       0.90      0.84      0.87       509\n",
            "          27       0.86      0.87      0.87       479\n",
            "          28       0.88      0.87      0.88       448\n",
            "          29       0.85      0.94      0.89       501\n",
            "          30       0.88      0.82      0.85       451\n",
            "          31       0.90      0.93      0.92       476\n",
            "\n",
            "    accuracy                           0.87     15000\n",
            "   macro avg       0.88      0.87      0.87     15000\n",
            "weighted avg       0.88      0.87      0.87     15000\n",
            "\n",
            "[[458  20   0 ...   0   0   0]\n",
            " [ 53 405  23 ...   0   0   0]\n",
            " [  2  43 422 ...   0   0   0]\n",
            " ...\n",
            " [  0   0   0 ... 469  21   0]\n",
            " [  0   0   0 ...  31 370  50]\n",
            " [  0   0   0 ...   2  29 445]]\n",
            "\n",
            "\n",
            "\n"
          ],
          "name": "stdout"
        }
      ]
    },
    {
      "cell_type": "markdown",
      "metadata": {
        "id": "HGP7ZJErv5BI"
      },
      "source": [
        "## Output to Concept Model"
      ]
    },
    {
      "cell_type": "code",
      "metadata": {
        "id": "WQil0rCr4ifR"
      },
      "source": [
        "from sklearn.linear_model import LogisticRegression"
      ],
      "execution_count": 106,
      "outputs": []
    },
    {
      "cell_type": "code",
      "metadata": {
        "colab": {
          "base_uri": "https://localhost:8080/"
        },
        "id": "-vGraqjUv73S",
        "outputId": "a9796abc-2086-49d6-fbe4-5a4c64e0a175"
      },
      "source": [
        "# Build and train model\n",
        "com = LogisticRegression()\n",
        "com.fit(c_train, y_train)"
      ],
      "execution_count": 107,
      "outputs": [
        {
          "output_type": "execute_result",
          "data": {
            "text/plain": [
              "LogisticRegression(C=1.0, class_weight=None, dual=False, fit_intercept=True,\n",
              "                   intercept_scaling=1, l1_ratio=None, max_iter=100,\n",
              "                   multi_class='auto', n_jobs=None, penalty='l2',\n",
              "                   random_state=None, solver='lbfgs', tol=0.0001, verbose=0,\n",
              "                   warm_start=False)"
            ]
          },
          "metadata": {
            "tags": []
          },
          "execution_count": 107
        }
      ]
    },
    {
      "cell_type": "code",
      "metadata": {
        "colab": {
          "base_uri": "https://localhost:8080/"
        },
        "id": "2yTvK-fOv75d",
        "outputId": "1b62739c-3b43-4757-c3b0-2fa83df024ee"
      },
      "source": [
        "y_test_pred = com.predict(c_test)\n",
        "print(classification_report(y_test_pred, y_test))\n",
        "print(confusion_matrix(y_test_pred, y_test))"
      ],
      "execution_count": 108,
      "outputs": [
        {
          "output_type": "stream",
          "text": [
            "              precision    recall  f1-score   support\n",
            "\n",
            "           0       1.00      1.00      1.00      4964\n",
            "           1       1.00      1.00      1.00      4975\n",
            "           2       1.00      1.00      1.00      5061\n",
            "\n",
            "    accuracy                           1.00     15000\n",
            "   macro avg       1.00      1.00      1.00     15000\n",
            "weighted avg       1.00      1.00      1.00     15000\n",
            "\n",
            "[[4964    0    0]\n",
            " [   0 4975    0]\n",
            " [   0    0 5061]]\n"
          ],
          "name": "stdout"
        }
      ]
    },
    {
      "cell_type": "markdown",
      "metadata": {
        "id": "9uIgok70ej6V"
      },
      "source": [
        "## Results"
      ]
    },
    {
      "cell_type": "code",
      "metadata": {
        "id": "J951ijLXtw2_"
      },
      "source": [
        "multitask_model = model"
      ],
      "execution_count": 11,
      "outputs": []
    },
    {
      "cell_type": "markdown",
      "metadata": {
        "id": "d1OluJOgeuUc"
      },
      "source": [
        "### BBSDs"
      ]
    },
    {
      "cell_type": "code",
      "metadata": {
        "id": "1RulZNGhelJ3"
      },
      "source": [
        "## Valid reduced representation\n",
        "concept_names = [\"color\", \"shape\", \"scale\", \"rotation\", \"x\", \"y\"]\n",
        "preds = multitask_model.predict(x_test)\n",
        "color_repr_valid = preds[0]\n",
        "shape_repr_valid = preds[1]\n",
        "scale_repr_valid = preds[2]\n",
        "rotation_repr_valid = preds[3]\n",
        "x_repr_valid = preds[4]\n",
        "y_repr_valid = preds[5]\n",
        "\n",
        "# Store in list\n",
        "repr_valids = [color_repr_valid, shape_repr_valid, scale_repr_valid, rotation_repr_valid, x_repr_valid, y_repr_valid]"
      ],
      "execution_count": 66,
      "outputs": []
    },
    {
      "cell_type": "code",
      "metadata": {
        "id": "7RpNeEH7elMF"
      },
      "source": [
        "# translate test reduced representation\n",
        "translate_preds = multitask_model.predict(x_test_flatten_shifted[:500].reshape(-1, \n",
        "                                                                        ORIGINAL_SHAPE[0], \n",
        "                                                                        ORIGINAL_SHAPE[1],\n",
        "                                                                        ORIGINAL_SHAPE[2]))\n",
        "color_repr_translate = translate_preds[0]\n",
        "shape_repr_translate = translate_preds[1]\n",
        "scale_repr_translate = translate_preds[2]\n",
        "rotation_repr_translate = translate_preds[3]\n",
        "x_repr_translate = translate_preds[4]\n",
        "y_repr_translate = translate_preds[5]\n",
        "\n",
        "# Store in list\n",
        "repr_translates = [color_repr_translate, shape_repr_translate, scale_repr_translate, rotation_repr_translate, x_repr_translate, y_repr_translate]"
      ],
      "execution_count": 71,
      "outputs": []
    },
    {
      "cell_type": "code",
      "metadata": {
        "colab": {
          "base_uri": "https://localhost:8080/"
        },
        "id": "ZkYfsTC2esfk",
        "outputId": "7ff66d68-a10a-48ec-d2b5-e03fea3d8e17"
      },
      "source": [
        "## Statistical test (Multiple uni)\n",
        "classes = [1, 3, 6, 40, 32, 32]\n",
        "for concept, repr_valid, repr_translate in zip(concept_names, repr_valids, repr_translates):\n",
        "    print(\"\\n\", \"*\"*20, concept, \"*\"*20)\n",
        "    p_val, p_vals, t_vals = one_dimensional_test(repr_valid, repr_translate)\n",
        "    alpha = 0.05 / repr_valid.shape[1] # Divided by number of components for Bonferroni correction\n",
        "    print(f\"Minimum p-value: {p_val}\")\n",
        "    print(f\"Component p-values: {p_vals}\")\n",
        "    print(f\"Test statistics: {t_vals}\")\n",
        "    print(f\"Average test statistics: {np.mean(t_vals)}\")\n",
        "    print(f\"Average p-values: {np.mean(p_vals)}\")\n",
        "\n",
        "    if p_val < alpha:\n",
        "        print(\"Minimum p-value < alpha; reject H0\")\n",
        "    else:\n",
        "        print(\"Minimum p-value > alpha; not reject H0\")"
      ],
      "execution_count": 72,
      "outputs": [
        {
          "output_type": "stream",
          "text": [
            "\n",
            " ******************** color ********************\n",
            "Minimum p-value: 1.0\n",
            "Component p-values: [1.]\n",
            "Test statistics: [-0.0]\n",
            "Average test statistics: 0.0\n",
            "Average p-values: 1.0\n",
            "Minimum p-value > alpha; not reject H0\n",
            "\n",
            " ******************** shape ********************\n",
            "Minimum p-value: 4.042086278822509e-06\n",
            "Component p-values: [4.74679830e-04 9.11402766e-06 4.04208628e-06]\n",
            "Test statistics: [0.09286666666666665, 0.11273333333333335, 0.11639999999999995]\n",
            "Average test statistics: 0.10733333333333332\n",
            "Average p-values: 0.0001626119812416977\n",
            "Minimum p-value < alpha; reject H0\n",
            "\n",
            " ******************** scale ********************\n",
            "Minimum p-value: 8.353022727757004e-07\n",
            "Component p-values: [1.23189554e-03 8.35302273e-07 6.85380301e-04 4.12705741e-01\n",
            " 1.95667070e-01 2.04451159e-01]\n",
            "Test statistics: [0.08739999999999992, 0.12319999999999998, 0.09079999999999999, 0.04026666666666667, 0.049000000000000044, 0.04853333333333332]\n",
            "Average test statistics: 0.07319999999999999\n",
            "Average p-values: 0.13579034688266733\n",
            "Minimum p-value < alpha; reject H0\n",
            "\n",
            " ******************** rotation ********************\n",
            "Minimum p-value: 0.00032604667117026387\n",
            "Component p-values: [1.05543724e-01 2.14222995e-02 8.56489843e-03 1.13814687e-03\n",
            " 3.26046671e-04 2.90847778e-01 9.20614702e-02 2.00650024e-01\n",
            " 2.39746567e-01 7.53033121e-01 3.68347687e-01 9.82567386e-02\n",
            " 8.24634304e-02 7.04532284e-02 1.02795238e-02 1.67761498e-01\n",
            " 4.76465450e-03 3.55409693e-02 1.50978628e-01 1.07053602e-01\n",
            " 2.19967965e-02 1.82473521e-02 1.70230298e-03 1.83853117e-03\n",
            " 3.35215352e-02 1.44072609e-01 2.66450481e-02 4.33867533e-01\n",
            " 7.67183468e-01 3.88127088e-01 2.17522563e-01 1.57107257e-01\n",
            " 8.43125517e-02 5.85803848e-02 3.92514102e-02 2.87842543e-02\n",
            " 1.37836520e-03 3.21414226e-02 1.29242491e-01 1.19787028e-01]\n",
            "Test statistics: [0.05513333333333331, 0.06846666666666668, 0.07506666666666673, 0.08786666666666665, 0.09493333333333331, 0.04459999999999997, 0.056400000000000006, 0.04873333333333335, 0.046800000000000064, 0.03066666666666673, 0.04173333333333329, 0.055800000000000016, 0.05740000000000001, 0.05880000000000002, 0.07380000000000003, 0.05059999999999998, 0.07899999999999996, 0.06453333333333333, 0.05166666666666664, 0.05499999999999999, 0.0682666666666667, 0.06966666666666665, 0.08546666666666669, 0.08499999999999999, 0.065, 0.052133333333333365, 0.06679999999999997, 0.03959999999999997, 0.030266666666666664, 0.041066666666666585, 0.04786666666666667, 0.05126666666666668, 0.05720000000000003, 0.06040000000000001, 0.06373333333333331, 0.06619999999999998, 0.08673333333333327, 0.06533333333333335, 0.053200000000000025, 0.05393333333333333]\n",
            "Average test statistics: 0.06015333333333332\n",
            "Average p-values: 0.13786360072262802\n",
            "Minimum p-value < alpha; reject H0\n",
            "\n",
            " ******************** x ********************\n",
            "Minimum p-value: 5.031965786607814e-08\n",
            "Component p-values: [1.31291291e-02 1.15680671e-01 1.37524971e-02 3.35039784e-05\n",
            " 3.32271583e-06 5.03196579e-08 3.26046671e-04 6.63878012e-03\n",
            " 1.46019265e-01 9.74065014e-01 3.07764916e-01 2.29822711e-01\n",
            " 3.72251603e-01 2.27044961e-01 2.18863983e-01 2.18863983e-01\n",
            " 2.51476094e-01 6.67954587e-02 3.94186510e-01 1.60245250e-01\n",
            " 1.32517282e-02 3.74213352e-01 3.79786684e-02 3.38770963e-03\n",
            " 1.10004355e-03 6.93454547e-04 5.36864752e-06 1.54260206e-06\n",
            " 4.46394961e-05 2.95852407e-01 9.96796356e-02 1.27674364e-02]\n",
            "Test statistics: [0.07206666666666672, 0.05426666666666666, 0.07173333333333332, 0.10660000000000003, 0.11726666666666674, 0.13446666666666668, 0.09493333333333331, 0.07679999999999998, 0.05199999999999999, 0.02193333333333336, 0.04393333333333338, 0.04726666666666668, 0.04159999999999997, 0.0474, 0.047800000000000065, 0.047799999999999954, 0.04626666666666668, 0.05926666666666669, 0.04086666666666666, 0.051066666666666705, 0.07199999999999995, 0.04153333333333331, 0.064, 0.08119999999999994, 0.08806666666666674, 0.09073333333333333, 0.11513333333333337, 0.12060000000000004, 0.10520000000000007, 0.04440000000000005, 0.05566666666666664, 0.07226666666666665]\n",
            "Average test statistics: 0.06956666666666668\n",
            "Average p-values: 0.14237311673833747\n",
            "Minimum p-value < alpha; reject H0\n",
            "\n",
            " ******************** y ********************\n",
            "Minimum p-value: 4.103236358621211e-06\n",
            "Component p-values: [1.74434865e-02 3.18714720e-02 3.82934260e-02 9.34091955e-02\n",
            " 1.93211851e-01 1.70230298e-03 1.48154172e-04 6.04449573e-06\n",
            " 4.10323636e-06 4.71270424e-05 7.04687653e-05 1.11582136e-04\n",
            " 1.22307729e-01 1.40242093e-01 1.69959568e-01 2.34037253e-01\n",
            " 6.85380301e-04 1.04769948e-02 1.10901716e-02 2.87842543e-02\n",
            " 4.02302440e-02 1.57107257e-01 3.32414235e-02 7.31689950e-02\n",
            " 1.14873455e-01 7.69526826e-03 7.14106477e-05 2.06009494e-04\n",
            " 7.33304558e-05 2.21913172e-02 7.42799058e-02 1.62230506e-02]\n",
            "Test statistics: [0.06999999999999995, 0.06540000000000001, 0.06393333333333334, 0.05626666666666663, 0.04913333333333336, 0.08546666666666669, 0.09913333333333335, 0.11460000000000004, 0.11633333333333329, 0.10493333333333327, 0.10293333333333332, 0.10060000000000002, 0.0537333333333333, 0.0524, 0.05046666666666666, 0.0470666666666667, 0.09079999999999994, 0.07366666666666666, 0.07326666666666659, 0.06620000000000004, 0.06353333333333333, 0.05126666666666663, 0.06506666666666666, 0.05846666666666667, 0.05433333333333333, 0.07580000000000003, 0.10286666666666666, 0.09739999999999993, 0.10273333333333334, 0.06820000000000004, 0.05833333333333335, 0.07053333333333334]\n",
            "Average test statistics: 0.07515208333333331\n",
            "Average p-values: 0.05103951012214062\n",
            "Minimum p-value < alpha; reject H0\n"
          ],
          "name": "stdout"
        }
      ]
    },
    {
      "cell_type": "markdown",
      "metadata": {
        "id": "we7kTqLBpEjr"
      },
      "source": [
        "### BBSDh (Concepts)\n",
        "Using the hard outputs (prediction) of the models as reduced representation."
      ]
    },
    {
      "cell_type": "code",
      "metadata": {
        "id": "wPLx7-MnpEjs"
      },
      "source": [
        "## Valid reduced representation\n",
        "concept_names = [\"color\", \"shape\", \"scale\", \"rotation\", \"x\", \"y\"]\n",
        "preds = multitask_model.predict(x_test)\n",
        "color_repr_valid = np.argmax(preds[0], axis=1)\n",
        "shape_repr_valid = np.argmax(preds[1], axis=1)\n",
        "scale_repr_valid = np.argmax(preds[2], axis=1)\n",
        "rotation_repr_valid = np.argmax(preds[3], axis=1)\n",
        "x_repr_valid = np.argmax(preds[4], axis=1)\n",
        "y_repr_valid = np.argmax(preds[5], axis=1)\n",
        "\n",
        "# Store in list\n",
        "repr_valids = [color_repr_valid, shape_repr_valid, scale_repr_valid, rotation_repr_valid, x_repr_valid, y_repr_valid]"
      ],
      "execution_count": 56,
      "outputs": []
    },
    {
      "cell_type": "code",
      "metadata": {
        "id": "gn1hyjURpEjs"
      },
      "source": [
        "translate_preds = multitask_model.predict(x_test_flatten_shifted[:500].reshape(-1, \n",
        "                                                                        ORIGINAL_SHAPE[0], \n",
        "                                                                        ORIGINAL_SHAPE[1],\n",
        "                                                                        ORIGINAL_SHAPE[2]))\n",
        "\n",
        "color_repr_translate = np.argmax(translate_preds[0], axis=1)\n",
        "shape_repr_translate = np.argmax(translate_preds[1], axis=1)\n",
        "scale_repr_translate = np.argmax(translate_preds[2], axis=1)\n",
        "rotation_repr_translate = np.argmax(translate_preds[3], axis=1)\n",
        "x_repr_translate = np.argmax(translate_preds[4], axis=1)\n",
        "y_repr_translate = np.argmax(translate_preds[5], axis=1)\n",
        "\n",
        "# Store in list\n",
        "repr_translates = [color_repr_translate, shape_repr_translate, scale_repr_translate, rotation_repr_translate, x_repr_translate, y_repr_translate]"
      ],
      "execution_count": 59,
      "outputs": []
    },
    {
      "cell_type": "code",
      "metadata": {
        "colab": {
          "base_uri": "https://localhost:8080/"
        },
        "id": "EhDUbob4obSs",
        "outputId": "d591177d-ebfd-4891-b514-e257d69e490a"
      },
      "source": [
        "## Statistical test\n",
        "classes = [1, 3, 6, 40, 32, 32]\n",
        "for concept, repr_valid, repr_translate, num_classes in zip(concept_names, repr_valids, repr_translates, classes):\n",
        "    print(\"\\n\", \"*\"*20, concept, \"*\"*20)\n",
        "    chi2, p_val = test_chi2_shift(repr_valid, repr_translate, num_classes)\n",
        "    alpha = 0.05\n",
        "    print(f\"p-value: {p_val}\")\n",
        "    print(f\"Test statistics: {chi2}\")\n",
        "\n",
        "    if p_val < alpha:\n",
        "        print(\"Minimum p-value < alpha; reject H0\")\n",
        "    else:\n",
        "        print(\"Minimum p-value > alpha; not reject H0\")"
      ],
      "execution_count": 60,
      "outputs": [
        {
          "output_type": "stream",
          "text": [
            "\n",
            " ******************** color ********************\n",
            "p-value: 1.0\n",
            "Test statistics: 0.0\n",
            "Minimum p-value > alpha; not reject H0\n",
            "\n",
            " ******************** shape ********************\n",
            "p-value: 0.005230532894388176\n",
            "Test statistics: 10.506484228487007\n",
            "Minimum p-value < alpha; reject H0\n",
            "\n",
            " ******************** scale ********************\n",
            "p-value: 0.10328399571199252\n",
            "Test statistics: 9.148541926956808\n",
            "Minimum p-value > alpha; not reject H0\n",
            "\n",
            " ******************** rotation ********************\n",
            "p-value: 0.0007302479510652846\n",
            "Test statistics: 73.27622151529104\n",
            "Minimum p-value < alpha; reject H0\n",
            "\n",
            " ******************** x ********************\n",
            "p-value: 3.078084949163713e-23\n",
            "Test statistics: 181.70771122260982\n",
            "Minimum p-value < alpha; reject H0\n",
            "\n",
            " ******************** y ********************\n",
            "p-value: 7.125383828136378e-22\n",
            "Test statistics: 174.21926288188803\n",
            "Minimum p-value < alpha; reject H0\n"
          ],
          "name": "stdout"
        }
      ]
    },
    {
      "cell_type": "code",
      "metadata": {
        "colab": {
          "base_uri": "https://localhost:8080/"
        },
        "id": "XkBRDRQZq_5p",
        "outputId": "55246491-e93d-4468-faa6-2370a571039d"
      },
      "source": [
        "pd.DataFrame(y_repr_translate == y_repr_valid).value_counts()"
      ],
      "execution_count": 89,
      "outputs": [
        {
          "output_type": "execute_result",
          "data": {
            "text/plain": [
              "True     13514\n",
              "False     1486\n",
              "dtype: int64"
            ]
          },
          "metadata": {
            "tags": []
          },
          "execution_count": 89
        }
      ]
    },
    {
      "cell_type": "code",
      "metadata": {
        "colab": {
          "base_uri": "https://localhost:8080/"
        },
        "id": "aw-6IBMyrGxG",
        "outputId": "0f9d1c10-3e76-454f-f7dc-9917cb4ef8ab"
      },
      "source": [
        "pd.DataFrame(shape_repr_translate == shape_repr_valid).value_counts()"
      ],
      "execution_count": 90,
      "outputs": [
        {
          "output_type": "execute_result",
          "data": {
            "text/plain": [
              "True     14469\n",
              "False      531\n",
              "dtype: int64"
            ]
          },
          "metadata": {
            "tags": []
          },
          "execution_count": 90
        }
      ]
    },
    {
      "cell_type": "code",
      "metadata": {
        "colab": {
          "base_uri": "https://localhost:8080/"
        },
        "id": "GwJwsWk4ofm-",
        "outputId": "c212c528-aa4c-40be-ce23-c98ca1f2b3f9"
      },
      "source": [
        "pd.DataFrame(scale_repr_translate == scale_repr_valid).value_counts()"
      ],
      "execution_count": 91,
      "outputs": [
        {
          "output_type": "execute_result",
          "data": {
            "text/plain": [
              "True     13633\n",
              "False     1367\n",
              "dtype: int64"
            ]
          },
          "metadata": {
            "tags": []
          },
          "execution_count": 91
        }
      ]
    },
    {
      "cell_type": "code",
      "metadata": {
        "colab": {
          "base_uri": "https://localhost:8080/"
        },
        "id": "ezhG4vCIo2Rg",
        "outputId": "ba1e210f-5732-4d35-8037-f7594c226a0c"
      },
      "source": [
        "pd.DataFrame(x_repr_translate == x_repr_valid).value_counts()"
      ],
      "execution_count": 92,
      "outputs": [
        {
          "output_type": "execute_result",
          "data": {
            "text/plain": [
              "False    14140\n",
              "True       860\n",
              "dtype: int64"
            ]
          },
          "metadata": {
            "tags": []
          },
          "execution_count": 92
        }
      ]
    },
    {
      "cell_type": "markdown",
      "metadata": {
        "id": "y41HLKECwxjU"
      },
      "source": [
        "#### Setting 2"
      ]
    },
    {
      "cell_type": "code",
      "metadata": {
        "id": "QeImc4YJw4gJ"
      },
      "source": [
        "## Valid reduced representation\n",
        "concept_names = [\"color\", \"shape\", \"scale\", \"rotation\", \"x\", \"y\"]\n",
        "preds = multitask_model.predict(x_valid)\n",
        "color_repr_valid = np.argmax(preds[0], axis=1)\n",
        "shape_repr_valid = np.argmax(preds[1], axis=1)\n",
        "scale_repr_valid = np.argmax(preds[2], axis=1)\n",
        "rotation_repr_valid = np.argmax(preds[3], axis=1)\n",
        "x_repr_valid = np.argmax(preds[4], axis=1)\n",
        "y_repr_valid = np.argmax(preds[5], axis=1)\n",
        "\n",
        "# Store in list\n",
        "repr_valids = [color_repr_valid, shape_repr_valid, scale_repr_valid, rotation_repr_valid, x_repr_valid, y_repr_valid]"
      ],
      "execution_count": 61,
      "outputs": []
    },
    {
      "cell_type": "code",
      "metadata": {
        "id": "_pHxYbRJw4gd"
      },
      "source": [
        "translate_preds = multitask_model.predict(x_test_flatten_shifted[:200].reshape(-1, \n",
        "                                                                        ORIGINAL_SHAPE[0], \n",
        "                                                                        ORIGINAL_SHAPE[1],\n",
        "                                                                        ORIGINAL_SHAPE[2]))\n",
        "\n",
        "color_repr_translate = np.argmax(translate_preds[0], axis=1)\n",
        "shape_repr_translate = np.argmax(translate_preds[1], axis=1)\n",
        "scale_repr_translate = np.argmax(translate_preds[2], axis=1)\n",
        "rotation_repr_translate = np.argmax(translate_preds[3], axis=1)\n",
        "x_repr_translate = np.argmax(translate_preds[4], axis=1)\n",
        "y_repr_translate = np.argmax(translate_preds[5], axis=1)\n",
        "\n",
        "# Store in list\n",
        "repr_translates = [color_repr_translate, shape_repr_translate, scale_repr_translate, rotation_repr_translate, x_repr_translate, y_repr_translate]"
      ],
      "execution_count": 64,
      "outputs": []
    },
    {
      "cell_type": "code",
      "metadata": {
        "colab": {
          "base_uri": "https://localhost:8080/"
        },
        "id": "IBxO8j-Dw4ge",
        "outputId": "32edabc8-7574-4c6a-fa67-1ba4a2a53985"
      },
      "source": [
        "## Statistical test\n",
        "classes = [1, 3, 6, 40, 32, 32]\n",
        "for concept, repr_valid, repr_translate, num_classes in zip(concept_names, repr_valids, repr_translates, classes):\n",
        "    print(\"\\n\", \"*\"*20, concept, \"*\"*20)\n",
        "    chi2, p_val = test_chi2_shift(repr_valid, repr_translate, num_classes)\n",
        "    alpha = 0.05\n",
        "    print(f\"p-value: {p_val}\")\n",
        "    print(f\"Test statistics: {chi2}\")\n",
        "\n",
        "    if p_val < alpha:\n",
        "        print(\"Minimum p-value < alpha; reject H0\")\n",
        "    else:\n",
        "        print(\"Minimum p-value > alpha; not reject H0\")"
      ],
      "execution_count": 65,
      "outputs": [
        {
          "output_type": "stream",
          "text": [
            "\n",
            " ******************** color ********************\n",
            "p-value: 1.0\n",
            "Test statistics: 0.0\n",
            "Minimum p-value > alpha; not reject H0\n",
            "\n",
            " ******************** shape ********************\n",
            "p-value: 0.08107569072920214\n",
            "Test statistics: 5.024744214385164\n",
            "Minimum p-value > alpha; not reject H0\n",
            "\n",
            " ******************** scale ********************\n",
            "p-value: 0.3945026930447138\n",
            "Test statistics: 5.178363886834981\n",
            "Minimum p-value > alpha; not reject H0\n",
            "\n",
            " ******************** rotation ********************\n",
            "p-value: 0.25050589904141035\n",
            "Test statistics: 44.52409652054098\n",
            "Minimum p-value > alpha; not reject H0\n",
            "\n",
            " ******************** x ********************\n",
            "p-value: 1.4431299573976398e-06\n",
            "Test statistics: 82.53540428990115\n",
            "Minimum p-value < alpha; reject H0\n",
            "\n",
            " ******************** y ********************\n",
            "p-value: 4.308911266260395e-06\n",
            "Test statistics: 79.18907699694307\n",
            "Minimum p-value < alpha; reject H0\n"
          ],
          "name": "stdout"
        }
      ]
    },
    {
      "cell_type": "markdown",
      "metadata": {
        "id": "fmHxuq3nvqDY"
      },
      "source": [
        "### Show that improves detection accuracy\n",
        "\n",
        "#### BBSDH"
      ]
    },
    {
      "cell_type": "code",
      "metadata": {
        "id": "DyaOOQCH2mBS"
      },
      "source": [
        "## Valid reduced representation\n",
        "concept_names = [\"color\", \"shape\", \"scale\", \"rotation\", \"x\", \"y\"]\n",
        "preds = multitask_model.predict(x_test)\n",
        "color_repr_valid = np.argmax(preds[0], axis=1)\n",
        "shape_repr_valid = np.argmax(preds[1], axis=1)\n",
        "scale_repr_valid = np.argmax(preds[2], axis=1)\n",
        "rotation_repr_valid = np.argmax(preds[3], axis=1)\n",
        "x_repr_valid = np.argmax(preds[4], axis=1)\n",
        "y_repr_valid = np.argmax(preds[5], axis=1)\n",
        "\n",
        "# Store in list\n",
        "repr_valids = [color_repr_valid, shape_repr_valid, scale_repr_valid, rotation_repr_valid, x_repr_valid, y_repr_valid]\n",
        "repr_valids = np.array(repr_valids).T"
      ],
      "execution_count": 95,
      "outputs": []
    },
    {
      "cell_type": "code",
      "metadata": {
        "id": "e8pT1fV72mBu"
      },
      "source": [
        "translate_preds = multitask_model.predict(x_test_flatten_shifted[:200].reshape(-1, \n",
        "                                                                        ORIGINAL_SHAPE[0], \n",
        "                                                                        ORIGINAL_SHAPE[1],\n",
        "                                                                        ORIGINAL_SHAPE[2]))\n",
        "\n",
        "color_repr_translate = np.argmax(translate_preds[0], axis=1)\n",
        "shape_repr_translate = np.argmax(translate_preds[1], axis=1)\n",
        "scale_repr_translate = np.argmax(translate_preds[2], axis=1)\n",
        "rotation_repr_translate = np.argmax(translate_preds[3], axis=1)\n",
        "x_repr_translate = np.argmax(translate_preds[4], axis=1)\n",
        "y_repr_translate = np.argmax(translate_preds[5], axis=1)\n",
        "\n",
        "# Store in list\n",
        "repr_translates = [color_repr_translate, shape_repr_translate, scale_repr_translate, rotation_repr_translate, x_repr_translate, y_repr_translate]\n",
        "repr_translates = np.array(repr_translates).T"
      ],
      "execution_count": 97,
      "outputs": []
    },
    {
      "cell_type": "code",
      "metadata": {
        "id": "tFn__VD2vxQ9"
      },
      "source": [
        "# Fit to concept to output\n",
        "valid_dr = com.predict(repr_valids)\n",
        "test_dr = com.predict(repr_translates)"
      ],
      "execution_count": 98,
      "outputs": []
    },
    {
      "cell_type": "code",
      "metadata": {
        "colab": {
          "base_uri": "https://localhost:8080/"
        },
        "id": "i8qnZvoVvxdB",
        "outputId": "53adefd5-89a0-441f-9a63-b8af68d3fc70"
      },
      "source": [
        "chi2, p_val = test_chi2_shift(valid_dr, test_dr, 3)\n",
        "alpha = 0.05\n",
        "print(f\"p-value: {p_val}\")\n",
        "print(f\"Test statistics: {chi2}\")\n",
        "\n",
        "if p_val < alpha:\n",
        "    print(\"Minimum p-value < alpha; reject H0\")\n",
        "else:\n",
        "    print(\"Minimum p-value > alpha; not reject H0\")"
      ],
      "execution_count": 99,
      "outputs": [
        {
          "output_type": "stream",
          "text": [
            "p-value: 0.07779264689671057\n",
            "Test statistics: 5.107416730320335\n",
            "Minimum p-value > alpha; not reject H0\n"
          ],
          "name": "stdout"
        }
      ]
    },
    {
      "cell_type": "markdown",
      "metadata": {
        "id": "6hESOgHG38X5"
      },
      "source": [
        "#### Method 2 Our concept-based BBSD"
      ]
    },
    {
      "cell_type": "code",
      "metadata": {
        "id": "XiCIKsOl39_u"
      },
      "source": [
        "## Valid reduced representation\n",
        "concept_names = [\"color\", \"shape\", \"scale\", \"rotation\", \"x\", \"y\"]\n",
        "preds = multitask_model.predict(x_test)\n",
        "color_repr_valid = np.argmax(preds[0], axis=1)\n",
        "shape_repr_valid = np.argmax(preds[1], axis=1)\n",
        "scale_repr_valid = np.argmax(preds[2], axis=1)\n",
        "rotation_repr_valid = np.argmax(preds[3], axis=1)\n",
        "x_repr_valid = np.argmax(preds[4], axis=1)\n",
        "y_repr_valid = np.argmax(preds[5], axis=1)\n",
        "\n",
        "# Store in list\n",
        "repr_valids = [color_repr_valid, shape_repr_valid, scale_repr_valid, rotation_repr_valid, x_repr_valid, y_repr_valid]"
      ],
      "execution_count": 100,
      "outputs": []
    },
    {
      "cell_type": "code",
      "metadata": {
        "id": "j988RPy63-AK"
      },
      "source": [
        "translate_preds = multitask_model.predict(x_test_flatten_shifted[:200].reshape(-1, \n",
        "                                                                        ORIGINAL_SHAPE[0], \n",
        "                                                                        ORIGINAL_SHAPE[1],\n",
        "                                                                        ORIGINAL_SHAPE[2]))\n",
        "\n",
        "color_repr_translate = np.argmax(translate_preds[0], axis=1)\n",
        "shape_repr_translate = np.argmax(translate_preds[1], axis=1)\n",
        "scale_repr_translate = np.argmax(translate_preds[2], axis=1)\n",
        "rotation_repr_translate = np.argmax(translate_preds[3], axis=1)\n",
        "x_repr_translate = np.argmax(translate_preds[4], axis=1)\n",
        "y_repr_translate = np.argmax(translate_preds[5], axis=1)\n",
        "\n",
        "# Store in list\n",
        "repr_translates = [color_repr_translate, shape_repr_translate, scale_repr_translate, rotation_repr_translate, x_repr_translate, y_repr_translate]"
      ],
      "execution_count": 101,
      "outputs": []
    },
    {
      "cell_type": "code",
      "metadata": {
        "colab": {
          "base_uri": "https://localhost:8080/"
        },
        "id": "qiGBuUr83-AL",
        "outputId": "80d940ab-7049-4ea9-e7c6-1c3fdee822d6"
      },
      "source": [
        "## Statistical test\n",
        "classes = [1, 3, 6, 40, 32, 32]\n",
        "for concept, repr_valid, repr_translate, num_classes in zip(concept_names, repr_valids, repr_translates, classes):\n",
        "    print(\"\\n\", \"*\"*20, concept, \"*\"*20)\n",
        "    chi2, p_val = test_chi2_shift(repr_valid, repr_translate, num_classes)\n",
        "    alpha = 0.05\n",
        "    print(f\"p-value: {p_val}\")\n",
        "    print(f\"Test statistics: {chi2}\")\n",
        "\n",
        "    if p_val < alpha:\n",
        "        print(\"Minimum p-value < alpha; reject H0\")\n",
        "    else:\n",
        "        print(\"Minimum p-value > alpha; not reject H0\")"
      ],
      "execution_count": 102,
      "outputs": [
        {
          "output_type": "stream",
          "text": [
            "\n",
            " ******************** color ********************\n",
            "p-value: 1.0\n",
            "Test statistics: 0.0\n",
            "Minimum p-value > alpha; not reject H0\n",
            "\n",
            " ******************** shape ********************\n",
            "p-value: 0.07779264689671057\n",
            "Test statistics: 5.107416730320335\n",
            "Minimum p-value > alpha; not reject H0\n",
            "\n",
            " ******************** scale ********************\n",
            "p-value: 0.45422383183056747\n",
            "Test statistics: 4.695002957281247\n",
            "Minimum p-value > alpha; not reject H0\n",
            "\n",
            " ******************** rotation ********************\n",
            "p-value: 0.20081203915394183\n",
            "Test statistics: 46.144388498725604\n",
            "Minimum p-value > alpha; not reject H0\n",
            "\n",
            " ******************** x ********************\n",
            "p-value: 1.2683513863469807e-07\n",
            "Test statistics: 89.75202125801249\n",
            "Minimum p-value < alpha; reject H0\n",
            "\n",
            " ******************** y ********************\n",
            "p-value: 2.323018120950705e-06\n",
            "Test statistics: 81.08762601526878\n",
            "Minimum p-value < alpha; reject H0\n"
          ],
          "name": "stdout"
        }
      ]
    },
    {
      "cell_type": "markdown",
      "metadata": {
        "id": "uvPZ4LPe4Oj3"
      },
      "source": [
        "#### Method 3 BBSDs Logistic Regression"
      ]
    },
    {
      "cell_type": "code",
      "metadata": {
        "id": "FWnBjSTZ49OY"
      },
      "source": [
        "## Valid reduced representation\n",
        "concept_names = [\"color\", \"shape\", \"scale\", \"rotation\", \"x\", \"y\"]\n",
        "preds = multitask_model.predict(x_test)\n",
        "color_repr_valid = np.argmax(preds[0], axis=1)\n",
        "shape_repr_valid = np.argmax(preds[1], axis=1)\n",
        "scale_repr_valid = np.argmax(preds[2], axis=1)\n",
        "rotation_repr_valid = np.argmax(preds[3], axis=1)\n",
        "x_repr_valid = np.argmax(preds[4], axis=1)\n",
        "y_repr_valid = np.argmax(preds[5], axis=1)\n",
        "\n",
        "# Store in list\n",
        "repr_valids = [color_repr_valid, shape_repr_valid, scale_repr_valid, rotation_repr_valid, x_repr_valid, y_repr_valid]\n",
        "repr_valids = np.array(repr_valids).T"
      ],
      "execution_count": 113,
      "outputs": []
    },
    {
      "cell_type": "code",
      "metadata": {
        "id": "qO0_XHpo49Ob"
      },
      "source": [
        "translate_preds = multitask_model.predict(x_test_flatten_shifted[:200].reshape(-1, \n",
        "                                                                        ORIGINAL_SHAPE[0], \n",
        "                                                                        ORIGINAL_SHAPE[1],\n",
        "                                                                        ORIGINAL_SHAPE[2]))\n",
        "\n",
        "color_repr_translate = np.argmax(translate_preds[0], axis=1)\n",
        "shape_repr_translate = np.argmax(translate_preds[1], axis=1)\n",
        "scale_repr_translate = np.argmax(translate_preds[2], axis=1)\n",
        "rotation_repr_translate = np.argmax(translate_preds[3], axis=1)\n",
        "x_repr_translate = np.argmax(translate_preds[4], axis=1)\n",
        "y_repr_translate = np.argmax(translate_preds[5], axis=1)\n",
        "\n",
        "# Store in list\n",
        "repr_translates = [color_repr_translate, shape_repr_translate, scale_repr_translate, rotation_repr_translate, x_repr_translate, y_repr_translate]\n",
        "repr_translates = np.array(repr_translates).T"
      ],
      "execution_count": 114,
      "outputs": []
    },
    {
      "cell_type": "code",
      "metadata": {
        "id": "Dr0D4nbT49Od"
      },
      "source": [
        "# Fit to concept to output\n",
        "valid_dr = com.predict_proba(repr_valids)\n",
        "test_dr = com.predict_proba(repr_translates)"
      ],
      "execution_count": 122,
      "outputs": []
    },
    {
      "cell_type": "code",
      "metadata": {
        "colab": {
          "base_uri": "https://localhost:8080/"
        },
        "id": "YuV7M8Ou5bNw",
        "outputId": "f045303b-789c-4723-adaf-2bbc64e9979d"
      },
      "source": [
        "## Statistical test (Multiple uni)\n",
        "p_val, p_vals, t_vals = one_dimensional_test(valid_dr, test_dr)\n",
        "alpha = 0.05 / 3 # Divided by number of components for Bonferroni correction\n",
        "print(f\"Minimum p-value: {p_val}\")\n",
        "print(f\"Component p-values: {p_vals}\")\n",
        "print(f\"Test statistics: {t_vals}\")\n",
        "\n",
        "if p_val < alpha:\n",
        "    print(\"Minimum p-value < alpha; reject H0\")\n",
        "else:\n",
        "    print(\"Minimum p-value > alpha; not reject H0\")"
      ],
      "execution_count": 124,
      "outputs": [
        {
          "output_type": "stream",
          "text": [
            "Minimum p-value: 0.08368846077221767\n",
            "Component p-values: [0.08368846 0.17228792 0.12285251]\n",
            "Test statistics: [0.08966666666666664, 0.07879999999999998, 0.08406666666666673]\n",
            "Minimum p-value > alpha; not reject H0\n"
          ],
          "name": "stdout"
        }
      ]
    }
  ]
}