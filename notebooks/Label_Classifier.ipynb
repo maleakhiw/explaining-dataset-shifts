{
  "nbformat": 4,
  "nbformat_minor": 0,
  "metadata": {
    "colab": {
      "name": "Label Classifier.ipynb",
      "provenance": [],
      "collapsed_sections": [
        "isTThbu4nPeX",
        "7oDUQfNpn6K7",
        "LwlXohZtoVho",
        "W67Xm5wbuHp3",
        "Z1lFimhpukqI",
        "Srub9cvgpbsC"
      ],
      "machine_shape": "hm"
    },
    "kernelspec": {
      "name": "python3",
      "display_name": "Python 3"
    },
    "accelerator": "GPU"
  },
  "cells": [
    {
      "cell_type": "markdown",
      "metadata": {
        "id": "NMIHiJEZO9tK"
      },
      "source": [
        "# Label Classifier (dSprites)\n",
        "\n",
        "This notebook implement the original classifier and use its representation as shift detector. This method also known as Black Box Shift Detection (BBSD)."
      ]
    },
    {
      "cell_type": "code",
      "metadata": {
        "id": "X6yxOekBme0y"
      },
      "source": [
        "## The following 3 cells are used to solve dependency problems\n",
        "# !git clone https://github.com/steverab/failing-loudly.git\n",
        "# %cd failing-loudly\n",
        "# %pip install -r requirements.txt"
      ],
      "execution_count": null,
      "outputs": []
    },
    {
      "cell_type": "code",
      "metadata": {
        "id": "rEeMJzAanB4-"
      },
      "source": [
        "# %cd ..\n",
        "# !git clone https://github.com/josipd/torch-two-sample.git\n",
        "# %cd torch-two-sample\n",
        "# !python setup.py install"
      ],
      "execution_count": null,
      "outputs": []
    },
    {
      "cell_type": "code",
      "metadata": {
        "id": "374RIHe_q0jw"
      },
      "source": [
        "# !pip uninstall tensorflow\n",
        "# !pip install tensorflow"
      ],
      "execution_count": null,
      "outputs": []
    },
    {
      "cell_type": "code",
      "metadata": {
        "id": "Bdnj5tRpBtuA"
      },
      "source": [
        "import numpy as np\n",
        "import torch\n",
        "import random\n",
        "# from torch_two_sample import *\n",
        "from scipy.stats import ks_2samp, binom_test, chisquare, chi2_contingency, anderson_ksamp\n",
        "from scipy.spatial import distance\n",
        "import matplotlib.pyplot as plt\n",
        "import seaborn as sns\n",
        "from sklearn.model_selection import train_test_split\n",
        "import scipy.io\n",
        "from math import ceil\n",
        "from copy import deepcopy\n",
        "import pandas as pd\n",
        "import tensorflow as tf\n",
        "from tensorflow.keras.preprocessing.image import ImageDataGenerator\n",
        "from tensorflow.keras.utils import to_categorical\n",
        "from tensorflow.keras.callbacks import ReduceLROnPlateau, EarlyStopping\n",
        "from tensorflow.keras import optimizers\n",
        "from sklearn.linear_model import LogisticRegression\n",
        "from sklearn.metrics import confusion_matrix, classification_report, accuracy_score, plot_confusion_matrix\n",
        "from sklearn.tree import DecisionTreeClassifier\n",
        "from tensorflow.python import keras\n",
        "from tensorflow.python.keras import layers\n",
        "\n",
        "# Remove warnings\n",
        "import warnings\n",
        "warnings.filterwarnings('ignore')"
      ],
      "execution_count": 3,
      "outputs": []
    },
    {
      "cell_type": "code",
      "metadata": {
        "colab": {
          "base_uri": "https://localhost:8080/"
        },
        "id": "rClArgFinNFq",
        "outputId": "d03e360f-b28f-48cb-ad48-62764876d703"
      },
      "source": [
        "# Mount drive (if needed)\n",
        "from google.colab import drive\n",
        "drive.mount('/content/drive')"
      ],
      "execution_count": 4,
      "outputs": [
        {
          "output_type": "stream",
          "text": [
            "Mounted at /content/drive\n"
          ],
          "name": "stdout"
        }
      ]
    },
    {
      "cell_type": "code",
      "metadata": {
        "id": "_AyuNjX3nNMW"
      },
      "source": [
        "# Run utility functions\n",
        "%run drive/MyDrive/Colab\\ Notebooks/MPhil\\ Prototype/Utilities.ipynb"
      ],
      "execution_count": 5,
      "outputs": []
    },
    {
      "cell_type": "markdown",
      "metadata": {
        "id": "isTThbu4nPeX"
      },
      "source": [
        "## Load Dataset"
      ]
    },
    {
      "cell_type": "code",
      "metadata": {
        "colab": {
          "base_uri": "https://localhost:8080/"
        },
        "id": "6T2mfwGBnRfY",
        "outputId": "0bf3b1b8-e17e-444d-97d6-9c1e4bbe487f"
      },
      "source": [
        "# Load dataset, split into train test\n",
        "path = 'drive/MyDrive/dsprites_ndarray_co1sh3sc6or40x32y32_64x64.npz'\n",
        "x_train, x_test, y_train, y_test, c_train, c_test = load_dsprites(path, 100000, train_size=0.85, class_index=1)\n",
        "\n",
        "# Split training into validation set as well \n",
        "x_train, x_valid = x_train[:70000], x_train[70000:]\n",
        "y_train, y_valid = y_train[:70000], y_train[70000:]\n",
        "c_train, c_valid = c_train[:70000], c_train[70000:]"
      ],
      "execution_count": 6,
      "outputs": [
        {
          "output_type": "stream",
          "text": [
            "Training samples: 85000\n",
            "Testing samples: 15000\n"
          ],
          "name": "stdout"
        }
      ]
    },
    {
      "cell_type": "code",
      "metadata": {
        "id": "84Rxx_ROnj4c"
      },
      "source": [
        "# Reshape to appropriate shift input\n",
        "# It is noteworthy that for efficiency, we represent the images as only 2 dimension\n",
        "# when we preprocessing (number of instances/ batch size * flatten size).\n",
        "# When visualising back the image, we need to reshape it back to the original dimension\n",
        "ORIGINAL_SHAPE = x_test.shape[1:] # constant hold the image original shape\n",
        "x_test_flatten = deepcopy(x_test.reshape(x_test.shape[0], -1))"
      ],
      "execution_count": 7,
      "outputs": []
    },
    {
      "cell_type": "markdown",
      "metadata": {
        "id": "7oDUQfNpn6K7"
      },
      "source": [
        "## Apply Shifts\n",
        "We apply shifts only to test data as discussed in the paper.\n"
      ]
    },
    {
      "cell_type": "markdown",
      "metadata": {
        "id": "GPN5L_hgoFkZ"
      },
      "source": [
        "### Gaussian Shift"
      ]
    },
    {
      "cell_type": "markdown",
      "metadata": {
        "id": "VmVIvtgH--c2"
      },
      "source": [
        "#### Large"
      ]
    },
    {
      "cell_type": "code",
      "metadata": {
        "colab": {
          "base_uri": "https://localhost:8080/"
        },
        "id": "UrLbe74soHxR",
        "outputId": "63e97f81-e301-4c5a-9a3e-cfadd5c375b8"
      },
      "source": [
        "shift = \"large_gn_shift_1.0\"\n",
        "x_test_gaussian_large, y_test_gaussian_large = apply_shift(deepcopy(x_test_flatten), y_test, shift, ORIGINAL_SHAPE) "
      ],
      "execution_count": 8,
      "outputs": [
        {
          "output_type": "stream",
          "text": [
            "Large GN shift\n"
          ],
          "name": "stdout"
        }
      ]
    },
    {
      "cell_type": "markdown",
      "metadata": {
        "id": "__NEWuy4_Pzu"
      },
      "source": [
        "#### Medium"
      ]
    },
    {
      "cell_type": "code",
      "metadata": {
        "colab": {
          "base_uri": "https://localhost:8080/"
        },
        "id": "hvs2q4R3oHzd",
        "outputId": "5ec89361-b62b-4f94-cc89-1931a4695cb4"
      },
      "source": [
        "shift = \"medium_gn_shift_1.0\"\n",
        "x_test_gaussian_medium, y_test_gaussian_medium = apply_shift(deepcopy(x_test_flatten), y_test, shift, ORIGINAL_SHAPE) "
      ],
      "execution_count": 9,
      "outputs": [
        {
          "output_type": "stream",
          "text": [
            "Medium GN Shift\n"
          ],
          "name": "stdout"
        }
      ]
    },
    {
      "cell_type": "markdown",
      "metadata": {
        "id": "faRDF7AZ_W23"
      },
      "source": [
        "#### Small"
      ]
    },
    {
      "cell_type": "code",
      "metadata": {
        "colab": {
          "base_uri": "https://localhost:8080/"
        },
        "id": "PKbIhkcZoH1s",
        "outputId": "0ac90177-5652-4b4b-b209-066bd9385b2a"
      },
      "source": [
        "shift = \"small_gn_shift_1.0\"\n",
        "x_test_gaussian_small, y_test_gaussian_small = apply_shift(deepcopy(x_test_flatten), y_test, shift, ORIGINAL_SHAPE) "
      ],
      "execution_count": 10,
      "outputs": [
        {
          "output_type": "stream",
          "text": [
            "Small GN Shift\n"
          ],
          "name": "stdout"
        }
      ]
    },
    {
      "cell_type": "markdown",
      "metadata": {
        "id": "5-4VDQ9ioJ2c"
      },
      "source": [
        "### Image Shift"
      ]
    },
    {
      "cell_type": "markdown",
      "metadata": {
        "id": "6279S9tg_hoC"
      },
      "source": [
        "#### Large"
      ]
    },
    {
      "cell_type": "code",
      "metadata": {
        "colab": {
          "base_uri": "https://localhost:8080/"
        },
        "id": "m8aXmOJqoRFU",
        "outputId": "d0821d1c-50b9-4a18-8223-741c1b183489"
      },
      "source": [
        "shift = \"large_img_shift_1.0\"\n",
        "x_test_img_large, y_test_img_small = apply_shift(deepcopy(x_test_flatten), y_test, shift, ORIGINAL_SHAPE) "
      ],
      "execution_count": 11,
      "outputs": [
        {
          "output_type": "stream",
          "text": [
            "Large image shift\n"
          ],
          "name": "stdout"
        }
      ]
    },
    {
      "cell_type": "markdown",
      "metadata": {
        "id": "PqF9zl5y_jQq"
      },
      "source": [
        "#### Medium"
      ]
    },
    {
      "cell_type": "code",
      "metadata": {
        "colab": {
          "base_uri": "https://localhost:8080/"
        },
        "id": "yPSzyGwwB6y1",
        "outputId": "f6951e65-8665-4bc5-c415-01968771931a"
      },
      "source": [
        "shift = \"medium_img_shift_1.0\"\n",
        "x_test_img_medium, y_test_img_medium = apply_shift(deepcopy(x_test_flatten), y_test, shift, ORIGINAL_SHAPE) "
      ],
      "execution_count": 12,
      "outputs": [
        {
          "output_type": "stream",
          "text": [
            "Medium image shift\n"
          ],
          "name": "stdout"
        }
      ]
    },
    {
      "cell_type": "markdown",
      "metadata": {
        "id": "Vr1K81s__m3U"
      },
      "source": [
        "#### Small"
      ]
    },
    {
      "cell_type": "code",
      "metadata": {
        "colab": {
          "base_uri": "https://localhost:8080/"
        },
        "id": "hlXV4H7SoRKE",
        "outputId": "b9b59ab2-210a-4cdf-ddb9-98960d90344e"
      },
      "source": [
        "shift = \"small_img_shift_1.0\"\n",
        "x_test_img_small, y_test_img_small = apply_shift(deepcopy(x_test_flatten), y_test, shift, ORIGINAL_SHAPE) "
      ],
      "execution_count": 13,
      "outputs": [
        {
          "output_type": "stream",
          "text": [
            "Small image shift\n"
          ],
          "name": "stdout"
        }
      ]
    },
    {
      "cell_type": "markdown",
      "metadata": {
        "id": "YttGJwfFoRpj"
      },
      "source": [
        "### Knockout Shift"
      ]
    },
    {
      "cell_type": "code",
      "metadata": {
        "colab": {
          "base_uri": "https://localhost:8080/"
        },
        "id": "VLWkK_rMoUHE",
        "outputId": "1bf6f36e-21de-4028-8803-a6e70d36806d"
      },
      "source": [
        "shift = \"ko_shift_1.0\"\n",
        "x_test_ko, y_test_ko = apply_shift(deepcopy(x_test_flatten), y_test, shift, ORIGINAL_SHAPE) "
      ],
      "execution_count": 14,
      "outputs": [
        {
          "output_type": "stream",
          "text": [
            "Large knockout shift\n"
          ],
          "name": "stdout"
        }
      ]
    },
    {
      "cell_type": "markdown",
      "metadata": {
        "id": "LwlXohZtoVho"
      },
      "source": [
        "## BBSD: End to End Models\n",
        "\n",
        "This section experiments on end-to-end models. We use the output of these models as the reduced representation before conducting the relevant statistical tests."
      ]
    },
    {
      "cell_type": "code",
      "metadata": {
        "id": "kurX2pPiFeVf"
      },
      "source": [
        "epochs = 200\n",
        "lr_reducer = ReduceLROnPlateau(factor=np.sqrt(0.1), cooldown=0, patience=5, min_lr=0.5e-6)\n",
        "early_stopper = EarlyStopping(min_delta=0.001, patience=10)\n",
        "batch_size = 128\n",
        "num_classes = 3\n",
        "\n",
        "end_to_end_model = NeuralNetworkClassifier(num_classes)\n",
        "optimizer = tf.keras.optimizers.Adam(lr=1e-4, amsgrad=True)\n",
        "end_to_end_model.compile(loss=\"sparse_categorical_crossentropy\",\n",
        "                         metrics=[\"accuracy\"],\n",
        "                         optimizer=optimizer)\n",
        "\n",
        "histories = end_to_end_model.fit(x=x_train, y=y_train,\n",
        "                                 epochs=epochs,\n",
        "                                 batch_size=batch_size,\n",
        "                                 validation_data=(x_valid, y_valid),\n",
        "                                 callbacks=[lr_reducer, early_stopper])"
      ],
      "execution_count": 16,
      "outputs": []
    },
    {
      "cell_type": "code",
      "metadata": {
        "colab": {
          "base_uri": "https://localhost:8080/",
          "height": 265
        },
        "id": "0gTVFz4eFeXk",
        "outputId": "eb0bdd4f-6bb4-4ddc-cdb0-c282b6efe6b1"
      },
      "source": [
        "fig = plt.figure(figsize=(6, 6))\n",
        "ax = fig.add_subplot(111)\n",
        "\n",
        "# Plot training validation loss\n",
        "ax.plot(histories.history[\"loss\"], label=\"Training Loss\")\n",
        "ax.plot(histories.history[\"val_loss\"], label=\"Validation Loss\")\n",
        "ax.grid(True)\n",
        "ax.legend()\n",
        "plt.show()"
      ],
      "execution_count": null,
      "outputs": [
        {
          "output_type": "display_data",
          "data": {
            "image/png": "[encoded data removed]",
            "text/plain": [
              "<Figure size 288x288 with 1 Axes>"
            ]
          },
          "metadata": {
            "tags": [],
            "needs_background": "light"
          }
        }
      ]
    },
    {
      "cell_type": "code",
      "metadata": {
        "colab": {
          "base_uri": "https://localhost:8080/"
        },
        "id": "i8FKqTs7HlTX",
        "outputId": "9d1c0fff-4f28-42a5-954c-c1be15fc0c55"
      },
      "source": [
        "# Evaluate model\n",
        "y_pred = end_to_end_model.predict(x_test)\n",
        "y_pred = np.argmax(y_pred, axis=1)\n",
        "print(classification_report(y_test, y_pred))\n",
        "print(confusion_matrix(y_test, y_pred))"
      ],
      "execution_count": null,
      "outputs": [
        {
          "output_type": "stream",
          "text": [
            "              precision    recall  f1-score   support\n",
            "\n",
            "           0       1.00      1.00      1.00      5021\n",
            "           1       1.00      1.00      1.00      4957\n",
            "           2       1.00      1.00      1.00      5022\n",
            "\n",
            "    accuracy                           1.00     15000\n",
            "   macro avg       1.00      1.00      1.00     15000\n",
            "weighted avg       1.00      1.00      1.00     15000\n",
            "\n",
            "[[5021    0    0]\n",
            " [   0 4957    0]\n",
            " [   0    0 5022]]\n"
          ],
          "name": "stdout"
        }
      ]
    },
    {
      "cell_type": "markdown",
      "metadata": {
        "id": "Z3VMwCXWFdld"
      },
      "source": [
        "### BBSDs\n",
        "Using the softmax outputs of the models as the reduced representation."
      ]
    },
    {
      "cell_type": "code",
      "metadata": {
        "id": "wi3ItuI-ojm3"
      },
      "source": [
        "## 1. Create reduce representation\n",
        "# Valid data reduced representation\n",
        "repr_valid = end_to_end_model.predict(x_valid)"
      ],
      "execution_count": null,
      "outputs": []
    },
    {
      "cell_type": "code",
      "metadata": {
        "id": "S4KlEL8Aojps"
      },
      "source": [
        "# Gaussian test reduced representation\n",
        "repr_gaussian_large = end_to_end_model.predict(x_test_gaussian_large.reshape(len(x_test_gaussian_large), \n",
        "                                                                             ORIGINAL_SHAPE[0], \n",
        "                                                                             ORIGINAL_SHAPE[1],\n",
        "                                                                             ORIGINAL_SHAPE[2]))\n",
        "repr_gaussian_medium = end_to_end_model.predict(x_test_gaussian_medium.reshape(len(x_test_gaussian_medium), \n",
        "                                                                             ORIGINAL_SHAPE[0], \n",
        "                                                                             ORIGINAL_SHAPE[1],\n",
        "                                                                             ORIGINAL_SHAPE[2]))\n",
        "repr_gaussian_small = end_to_end_model.predict(x_test_gaussian_small.reshape(len(x_test_gaussian_small), \n",
        "                                                                             ORIGINAL_SHAPE[0], \n",
        "                                                                             ORIGINAL_SHAPE[1],\n",
        "                                                                             ORIGINAL_SHAPE[2]))"
      ],
      "execution_count": null,
      "outputs": []
    },
    {
      "cell_type": "code",
      "metadata": {
        "id": "dM_CAFCdoj9M"
      },
      "source": [
        "# Image test reduced representation\n",
        "repr_img_large = end_to_end_model.predict(x_test_img_large.reshape(len(x_test_img_large), \n",
        "                                                                             ORIGINAL_SHAPE[0], \n",
        "                                                                             ORIGINAL_SHAPE[1],\n",
        "                                                                             ORIGINAL_SHAPE[2]))\n",
        "repr_img_medium = end_to_end_model.predict(x_test_img_medium.reshape(len(x_test_img_medium), \n",
        "                                                                             ORIGINAL_SHAPE[0], \n",
        "                                                                             ORIGINAL_SHAPE[1],\n",
        "                                                                             ORIGINAL_SHAPE[2]))\n",
        "repr_img_small = end_to_end_model.predict(x_test_img_small.reshape(len(x_test_img_small), \n",
        "                                                                             ORIGINAL_SHAPE[0], \n",
        "                                                                             ORIGINAL_SHAPE[1],\n",
        "                                                                             ORIGINAL_SHAPE[2]))"
      ],
      "execution_count": null,
      "outputs": []
    },
    {
      "cell_type": "code",
      "metadata": {
        "id": "5_RsJ0I5Jwjm"
      },
      "source": [
        "# Knockout reduced representation\n",
        "repr_ko = end_to_end_model.predict(x_test_ko.reshape(len(x_test_ko), \n",
        "                                                    ORIGINAL_SHAPE[0], \n",
        "                                                    ORIGINAL_SHAPE[1],\n",
        "                                                    ORIGINAL_SHAPE[2]))"
      ],
      "execution_count": null,
      "outputs": []
    },
    {
      "cell_type": "code",
      "metadata": {
        "colab": {
          "base_uri": "https://localhost:8080/"
        },
        "id": "iaPeDuUJKTC8",
        "outputId": "e70af8a0-abb3-476f-f39d-8f33d9ee627d"
      },
      "source": [
        " ## Show new size \n",
        " print(f\"Size reduced valid: {repr_valid.shape}\")\n",
        " print(f\"Size reduced gaussian: {repr_gaussian_large.shape}\")\n",
        " print(f\"Size reduced img: {repr_img_medium.shape}\")\n",
        " print(f\"Size reduced ko: {repr_ko.shape}\")"
      ],
      "execution_count": null,
      "outputs": [
        {
          "output_type": "stream",
          "text": [
            "Size reduced valid: (15000, 3)\n",
            "Size reduced gaussian: (15000, 3)\n",
            "Size reduced img: (15000, 3)\n",
            "Size reduced ko: (9979, 3)\n"
          ],
          "name": "stdout"
        }
      ]
    },
    {
      "cell_type": "markdown",
      "metadata": {
        "id": "lteFsqGvKryO"
      },
      "source": [
        "#### Multiple Univariate Testing"
      ]
    },
    {
      "cell_type": "code",
      "metadata": {
        "colab": {
          "base_uri": "https://localhost:8080/"
        },
        "id": "eXZbE1gZOO0Y",
        "outputId": "6c8e32d4-ef6a-4bd4-cc3a-dc111974a290"
      },
      "source": [
        "## Baseline (no-shift)\n",
        "p_val, p_vals, t_vals = one_dimensional_test(repr_valid, repr_valid)\n",
        "alpha = 0.05 / repr_valid.shape[1] # Divided by number of components for Bonferroni correction\n",
        "print(f\"Minimum p-value: {p_val}\")\n",
        "print(f\"Component p-values: {p_vals}\")\n",
        "print(f\"Test statistics: {t_vals}\")\n",
        "\n",
        "if p_val < alpha:\n",
        "    print(\"Minimum p-value < alpha, therefore reject null hypothesis and conclude that their distributions are different.\")\n",
        "else:\n",
        "    print(\"Minimum p-value > alpha, therefore cannot reject null hypothesis, not enough evidence to indicate their distributions are different.\")"
      ],
      "execution_count": null,
      "outputs": [
        {
          "output_type": "stream",
          "text": [
            "Minimum p-value: 1.0\n",
            "Component p-values: [1. 1. 1.]\n",
            "Test statistics: [-0.0, -0.0, -0.0]\n",
            "Minimum p-value > alpha, therefore cannot reject null hypothesis, not enough evidence to indicate their distributions are different.\n"
          ],
          "name": "stdout"
        }
      ]
    },
    {
      "cell_type": "code",
      "metadata": {
        "colab": {
          "base_uri": "https://localhost:8080/"
        },
        "id": "LOTLelcGKm7h",
        "outputId": "24eaa8e9-358e-48ac-d1ac-dc6c3294f2d3"
      },
      "source": [
        "## Large Gaussian\n",
        "p_val, p_vals, t_vals = one_dimensional_test(repr_gaussian_large, repr_valid)\n",
        "alpha = 0.05 / repr_valid.shape[1] # Divided by number of components for Bonferroni correction\n",
        "print(f\"Minimum p-value: {p_val}\")\n",
        "print(f\"Component p-values: {p_vals}\")\n",
        "print(f\"Test statistics: {t_vals}\")\n",
        "\n",
        "if p_val < alpha:\n",
        "    print(\"Minimum p-value < alpha, therefore reject null hypothesis and conclude that their distributions are different.\")\n",
        "else:\n",
        "    print(\"Minimum p-value > alpha, therefore cannot reject null hypothesis, not enough evidence to indicate their distributions are different.\")"
      ],
      "execution_count": null,
      "outputs": [
        {
          "output_type": "stream",
          "text": [
            "Minimum p-value: 0.0\n",
            "Component p-values: [0. 0. 0.]\n",
            "Test statistics: [0.7466666666666667, 0.9482, 0.8993333333333333]\n",
            "Minimum p-value < alpha, therefore reject null hypothesis and conclude that their distributions are different.\n"
          ],
          "name": "stdout"
        }
      ]
    },
    {
      "cell_type": "code",
      "metadata": {
        "colab": {
          "base_uri": "https://localhost:8080/"
        },
        "id": "yvi6DhW_NuCw",
        "outputId": "45c59a52-4e73-44fb-e89c-193d8abec7e8"
      },
      "source": [
        "## Medium Gaussian\n",
        "p_val, p_vals, t_vals = one_dimensional_test(repr_gaussian_medium, repr_valid)\n",
        "alpha = 0.05 / repr_valid.shape[1] # Divided by number of components for Bonferroni correction\n",
        "print(f\"Minimum p-value: {p_val}\")\n",
        "print(f\"Component p-values: {p_vals}\")\n",
        "print(f\"Test statistics: {t_vals}\")\n",
        "\n",
        "if p_val < alpha:\n",
        "    print(\"Minimum p-value < alpha, therefore reject null hypothesis and conclude that their distributions are different.\")\n",
        "else:\n",
        "    print(\"Minimum p-value > alpha, therefore cannot reject null hypothesis, not enough evidence to indicate their distributions are different.\")"
      ],
      "execution_count": null,
      "outputs": [
        {
          "output_type": "stream",
          "text": [
            "Minimum p-value: 6.2298568905972135e-174\n",
            "Component p-values: [6.22985689e-174 3.14839019e-044 3.02485359e-113]\n",
            "Test statistics: [0.1632, 0.08199999999999996, 0.13159999999999994]\n",
            "Minimum p-value < alpha, therefore reject null hypothesis and conclude that their distributions are different.\n"
          ],
          "name": "stdout"
        }
      ]
    },
    {
      "cell_type": "code",
      "metadata": {
        "colab": {
          "base_uri": "https://localhost:8080/"
        },
        "id": "LVqixsEMNuQM",
        "outputId": "49c7d575-cc3e-487b-9438-168f4d073299"
      },
      "source": [
        "## Small Gaussian\n",
        "p_val, p_vals, t_vals = one_dimensional_test(repr_gaussian_small, repr_valid)\n",
        "alpha = 0.05 / repr_valid.shape[1] # Divided by number of components for Bonferroni correction\n",
        "print(f\"Minimum p-value: {p_val}\")\n",
        "print(f\"Component p-values: {p_vals}\")\n",
        "print(f\"Test statistics: {t_vals}\")\n",
        "\n",
        "if p_val < alpha:\n",
        "    print(\"Minimum p-value < alpha, therefore reject null hypothesis and conclude that their distributions are different.\")\n",
        "else:\n",
        "    print(\"Minimum p-value > alpha, therefore cannot reject null hypothesis, not enough evidence to indicate their distributions are different.\")"
      ],
      "execution_count": null,
      "outputs": [
        {
          "output_type": "stream",
          "text": [
            "Minimum p-value: 0.0005171800493651045\n",
            "Component p-values: [0.00051718 0.0999341  0.01442028]\n",
            "Test statistics: [0.023466666666666636, 0.014133333333333331, 0.018133333333333335]\n",
            "Minimum p-value < alpha, therefore reject null hypothesis and conclude that their distributions are different.\n"
          ],
          "name": "stdout"
        }
      ]
    },
    {
      "cell_type": "code",
      "metadata": {
        "colab": {
          "base_uri": "https://localhost:8080/"
        },
        "id": "xAIbqLoPOCvp",
        "outputId": "059a3e3e-42f6-45d3-d9fe-45e4b072fc36"
      },
      "source": [
        "## Large Image\n",
        "p_val, p_vals, t_vals = one_dimensional_test(repr_img_large, repr_valid)\n",
        "alpha = 0.05 / repr_valid.shape[1] # Divided by number of components for Bonferroni correction\n",
        "print(f\"Minimum p-value: {p_val}\")\n",
        "print(f\"Component p-values: {p_vals}\")\n",
        "print(f\"Test statistics: {t_vals}\")\n",
        "\n",
        "if p_val < alpha:\n",
        "    print(\"Minimum p-value < alpha, therefore reject null hypothesis and conclude that their distributions are different.\")\n",
        "else:\n",
        "    print(\"Minimum p-value > alpha, therefore cannot reject null hypothesis, not enough evidence to indicate their distributions are different.\")"
      ],
      "execution_count": null,
      "outputs": [
        {
          "output_type": "stream",
          "text": [
            "Minimum p-value: 0.0\n",
            "Component p-values: [5.83198551e-129 0.00000000e+000 0.00000000e+000]\n",
            "Test statistics: [0.14046666666666663, 0.34659999999999996, 0.24026666666666668]\n",
            "Minimum p-value < alpha, therefore reject null hypothesis and conclude that their distributions are different.\n"
          ],
          "name": "stdout"
        }
      ]
    },
    {
      "cell_type": "code",
      "metadata": {
        "colab": {
          "base_uri": "https://localhost:8080/"
        },
        "id": "QrNmNLghOCwG",
        "outputId": "cae7d122-8aa8-402b-deef-151546b2e39a"
      },
      "source": [
        "## Medium Image\n",
        "p_val, p_vals, t_vals = one_dimensional_test(repr_img_medium, repr_valid)\n",
        "alpha = 0.05 / repr_valid.shape[1] # Divided by number of components for Bonferroni correction\n",
        "print(f\"Minimum p-value: {p_val}\")\n",
        "print(f\"Component p-values: {p_vals}\")\n",
        "print(f\"Test statistics: {t_vals}\")\n",
        "\n",
        "if p_val < alpha:\n",
        "    print(\"Minimum p-value < alpha, therefore reject null hypothesis and conclude that their distributions are different.\")\n",
        "else:\n",
        "    print(\"Minimum p-value > alpha, therefore cannot reject null hypothesis, not enough evidence to indicate their distributions are different.\")"
      ],
      "execution_count": null,
      "outputs": [
        {
          "output_type": "stream",
          "text": [
            "Minimum p-value: 2.53257505807183e-155\n",
            "Component p-values: [1.82224210e-059 2.53257506e-155 1.02848358e-107]\n",
            "Test statistics: [0.0952, 0.1542, 0.1283333333333333]\n",
            "Minimum p-value < alpha, therefore reject null hypothesis and conclude that their distributions are different.\n"
          ],
          "name": "stdout"
        }
      ]
    },
    {
      "cell_type": "code",
      "metadata": {
        "colab": {
          "base_uri": "https://localhost:8080/"
        },
        "id": "mdgJLOKwOCwH",
        "outputId": "5611b203-46ea-4c68-bf1a-149dd2eb6d3c"
      },
      "source": [
        "## Small Image\n",
        "p_val, p_vals, t_vals = one_dimensional_test(repr_img_small, repr_valid)\n",
        "alpha = 0.05 / repr_valid.shape[1] # Divided by number of components for Bonferroni correction\n",
        "print(f\"Minimum p-value: {p_val}\")\n",
        "print(f\"Component p-values: {p_vals}\")\n",
        "print(f\"Test statistics: {t_vals}\")\n",
        "\n",
        "if p_val < alpha:\n",
        "    print(\"Minimum p-value < alpha, therefore reject null hypothesis and conclude that their distributions are different.\")\n",
        "else:\n",
        "    print(\"Minimum p-value > alpha, therefore cannot reject null hypothesis, not enough evidence to indicate their distributions are different.\")"
      ],
      "execution_count": null,
      "outputs": [
        {
          "output_type": "stream",
          "text": [
            "Minimum p-value: 7.6264189479015106e-31\n",
            "Component p-values: [1.18444205e-14 7.62641895e-31 2.38640825e-24]\n",
            "Test statistics: [0.04673333333333329, 0.06833333333333336, 0.06059999999999999]\n",
            "Minimum p-value < alpha, therefore reject null hypothesis and conclude that their distributions are different.\n"
          ],
          "name": "stdout"
        }
      ]
    },
    {
      "cell_type": "code",
      "metadata": {
        "colab": {
          "base_uri": "https://localhost:8080/"
        },
        "id": "WiY-LmrSNue1",
        "outputId": "a38d9682-f178-4ef7-8026-d6f6740638ad"
      },
      "source": [
        "## Knockout\n",
        "p_val, p_vals, t_vals = one_dimensional_test(repr_ko, repr_valid)\n",
        "alpha = 0.05 / repr_valid.shape[1] # Divided by number of components for Bonferroni correction\n",
        "print(f\"Minimum p-value: {p_val}\")\n",
        "print(f\"Component p-values: {p_vals}\")\n",
        "print(f\"Test statistics: {t_vals}\")\n",
        "\n",
        "if p_val < alpha:\n",
        "    print(\"Minimum p-value < alpha, therefore reject null hypothesis and conclude that their distributions are different.\")\n",
        "else:\n",
        "    print(\"Minimum p-value > alpha, therefore cannot reject null hypothesis, not enough evidence to indicate their distributions are different.\")"
      ],
      "execution_count": null,
      "outputs": [
        {
          "output_type": "stream",
          "text": [
            "Minimum p-value: 0.0\n",
            "Component p-values: [0.00000000e+000 0.00000000e+000 1.98047254e-147]\n",
            "Test statistics: [0.3336, 0.2554798810836089, 0.16805683936266153]\n",
            "Minimum p-value < alpha, therefore reject null hypothesis and conclude that their distributions are different.\n"
          ],
          "name": "stdout"
        }
      ]
    },
    {
      "cell_type": "markdown",
      "metadata": {
        "id": "cv7lSfFKooGH"
      },
      "source": [
        "### BBSDh\n",
        "Using the hard outputs (prediction) of the models as reduced representation."
      ]
    },
    {
      "cell_type": "code",
      "metadata": {
        "id": "T6qv5F44iUHh"
      },
      "source": [
        "## 1. Create reduce representation\n",
        "# Valid data reduced representation\n",
        "repr_valid = np.argmax(end_to_end_model.predict(x_valid), axis=1)"
      ],
      "execution_count": null,
      "outputs": []
    },
    {
      "cell_type": "code",
      "metadata": {
        "id": "e-dh1godiUH1"
      },
      "source": [
        "# Gaussian test reduced representation\n",
        "repr_gaussian_large = np.argmax(end_to_end_model.predict(x_test_gaussian_large.reshape(len(x_test_gaussian_large), \n",
        "                                                                             ORIGINAL_SHAPE[0], \n",
        "                                                                             ORIGINAL_SHAPE[1],\n",
        "                                                                             ORIGINAL_SHAPE[2])), axis=1)\n",
        "repr_gaussian_medium = np.argmax(end_to_end_model.predict(x_test_gaussian_medium.reshape(len(x_test_gaussian_medium), \n",
        "                                                                             ORIGINAL_SHAPE[0], \n",
        "                                                                             ORIGINAL_SHAPE[1],\n",
        "                                                                             ORIGINAL_SHAPE[2])), axis=1)\n",
        "repr_gaussian_small = np.argmax(end_to_end_model.predict(x_test_gaussian_small.reshape(len(x_test_gaussian_small), \n",
        "                                                                             ORIGINAL_SHAPE[0], \n",
        "                                                                             ORIGINAL_SHAPE[1],\n",
        "                                                                             ORIGINAL_SHAPE[2])), axis=1)"
      ],
      "execution_count": null,
      "outputs": []
    },
    {
      "cell_type": "code",
      "metadata": {
        "id": "xKM_bN6QiUH1"
      },
      "source": [
        "# Image test reduced representation\n",
        "repr_img_large = np.argmax(end_to_end_model.predict(x_test_img_large.reshape(len(x_test_img_large), \n",
        "                                                                             ORIGINAL_SHAPE[0], \n",
        "                                                                             ORIGINAL_SHAPE[1],\n",
        "                                                                             ORIGINAL_SHAPE[2])), axis=1)\n",
        "repr_img_medium = np.argmax(end_to_end_model.predict(x_test_img_medium.reshape(len(x_test_img_medium), \n",
        "                                                                             ORIGINAL_SHAPE[0], \n",
        "                                                                             ORIGINAL_SHAPE[1],\n",
        "                                                                             ORIGINAL_SHAPE[2])), axis=1)\n",
        "repr_img_small = np.argmax(end_to_end_model.predict(x_test_img_small.reshape(len(x_test_img_small), \n",
        "                                                                             ORIGINAL_SHAPE[0], \n",
        "                                                                             ORIGINAL_SHAPE[1],\n",
        "                                                                             ORIGINAL_SHAPE[2])), axis=1)"
      ],
      "execution_count": null,
      "outputs": []
    },
    {
      "cell_type": "code",
      "metadata": {
        "id": "VkWOHM-0iUH2"
      },
      "source": [
        "# Knockout reduced representation\n",
        "repr_ko = np.argmax(end_to_end_model.predict(x_test_ko.reshape(len(x_test_ko), \n",
        "                                                    ORIGINAL_SHAPE[0], \n",
        "                                                    ORIGINAL_SHAPE[1],\n",
        "                                                    ORIGINAL_SHAPE[2])), axis=1)"
      ],
      "execution_count": null,
      "outputs": []
    },
    {
      "cell_type": "code",
      "metadata": {
        "colab": {
          "base_uri": "https://localhost:8080/"
        },
        "id": "femO3ZktiUH3",
        "outputId": "fcf08c26-c3d1-4630-b0e0-86c25a6f0b0f"
      },
      "source": [
        " ## Show new size \n",
        " print(f\"Size reduced valid: {repr_valid.shape}\")\n",
        " print(f\"Size reduced gaussian: {repr_gaussian_large.shape}\")\n",
        " print(f\"Size reduced img: {repr_img_medium.shape}\")\n",
        " print(f\"Size reduced ko: {repr_ko.shape}\")"
      ],
      "execution_count": null,
      "outputs": [
        {
          "output_type": "stream",
          "text": [
            "Size reduced valid: (15000,)\n",
            "Size reduced gaussian: (15000,)\n",
            "Size reduced img: (15000,)\n",
            "Size reduced ko: (9979,)\n"
          ],
          "name": "stdout"
        }
      ]
    },
    {
      "cell_type": "markdown",
      "metadata": {
        "id": "mfR05n42iUH4"
      },
      "source": [
        "#### Categorical Testing: Chi-Squared Test\n",
        "\n",
        "For BBSDh, Chi-Squared Test is most appropriate."
      ]
    },
    {
      "cell_type": "code",
      "metadata": {
        "colab": {
          "base_uri": "https://localhost:8080/"
        },
        "id": "_vfCz-ZJiUH5",
        "outputId": "eaad7b2e-43c4-4af3-b817-c6db1491f620"
      },
      "source": [
        "## Baseline (no-shift)\n",
        "chi2, p_val = test_chi2_shift(repr_valid, repr_valid, num_classes)\n",
        "alpha = 0.05 \n",
        "print(f\"p-value: {p_val}\")\n",
        "print(f\"Test statistics: {chi2}\")\n",
        "\n",
        "if p_val < alpha:\n",
        "    print(\"Minimum p-value < alpha, therefore reject null hypothesis and conclude that their distributions are different.\")\n",
        "else:\n",
        "    print(\"Minimum p-value > alpha, therefore cannot reject null hypothesis, not enough evidence to indicate their distributions are different.\")"
      ],
      "execution_count": null,
      "outputs": [
        {
          "output_type": "stream",
          "text": [
            "p-value: 1.0\n",
            "Test statistics: 0.0\n",
            "Minimum p-value > alpha, therefore cannot reject null hypothesis, not enough evidence to indicate their distributions are different.\n"
          ],
          "name": "stdout"
        }
      ]
    },
    {
      "cell_type": "code",
      "metadata": {
        "colab": {
          "base_uri": "https://localhost:8080/"
        },
        "id": "cmBmnR8BiUH6",
        "outputId": "1c766a87-56e0-4cec-bdbb-dec8559b5c73"
      },
      "source": [
        "## Large Gaussian (NOT DEFINED SINCE ZERO-ELEMENT CLASSES EXIST)\n",
        "chi2, p_val = test_chi2_shift(repr_gaussian_large, repr_valid, num_classes)\n",
        "alpha = 0.05 \n",
        "print(f\"p-value: {p_val}\")\n",
        "print(f\"Test statistics: {chi2}\")\n",
        "\n",
        "if p_val < alpha:\n",
        "    print(\"Minimum p-value < alpha, therefore reject null hypothesis and conclude that their distributions are different.\")\n",
        "else:\n",
        "    print(\"Minimum p-value > alpha, therefore cannot reject null hypothesis, not enough evidence to indicate their distributions are different.\")"
      ],
      "execution_count": null,
      "outputs": [
        {
          "output_type": "stream",
          "text": [
            "p-value: 0.0\n",
            "Test statistics: inf\n",
            "Minimum p-value < alpha, therefore reject null hypothesis and conclude that their distributions are different.\n"
          ],
          "name": "stdout"
        }
      ]
    },
    {
      "cell_type": "code",
      "metadata": {
        "colab": {
          "base_uri": "https://localhost:8080/"
        },
        "id": "5ehwEXHLiUH6",
        "outputId": "2d08e378-e844-49d1-a69d-cbc9ba9c645a"
      },
      "source": [
        "## Medium Gaussian\n",
        "chi2, p_val = test_chi2_shift(repr_gaussian_medium, repr_valid, num_classes)\n",
        "alpha = 0.05 \n",
        "print(f\"p-value: {p_val}\")\n",
        "print(f\"Test statistics: {chi2}\")\n",
        "\n",
        "if p_val < alpha:\n",
        "    print(\"Minimum p-value < alpha, therefore reject null hypothesis and conclude that their distributions are different.\")\n",
        "else:\n",
        "    print(\"Minimum p-value > alpha, therefore cannot reject null hypothesis, not enough evidence to indicate their distributions are different.\")"
      ],
      "execution_count": null,
      "outputs": [
        {
          "output_type": "stream",
          "text": [
            "p-value: 2.2197506931661226e-09\n",
            "Test statistics: 39.851741895488004\n",
            "Minimum p-value < alpha, therefore reject null hypothesis and conclude that their distributions are different.\n"
          ],
          "name": "stdout"
        }
      ]
    },
    {
      "cell_type": "code",
      "metadata": {
        "colab": {
          "base_uri": "https://localhost:8080/"
        },
        "id": "ffiWXSWxiUH7",
        "outputId": "f319ea6c-98ba-4f78-9c74-6b1c56d704b5"
      },
      "source": [
        "## Small Gaussian\n",
        "chi2, p_val = test_chi2_shift(repr_gaussian_small, repr_valid, num_classes)\n",
        "alpha = 0.05 \n",
        "print(f\"p-value: {p_val}\")\n",
        "print(f\"Test statistics: {chi2}\")\n",
        "\n",
        "if p_val < alpha:\n",
        "    print(\"Minimum p-value < alpha, therefore reject null hypothesis and conclude that their distributions are different.\")\n",
        "else:\n",
        "    print(\"Minimum p-value > alpha, therefore cannot reject null hypothesis, not enough evidence to indicate their distributions are different.\")"
      ],
      "execution_count": null,
      "outputs": [
        {
          "output_type": "stream",
          "text": [
            "p-value: 0.9779460952989871\n",
            "Test statistics: 0.04460145549506436\n",
            "Minimum p-value > alpha, therefore cannot reject null hypothesis, not enough evidence to indicate their distributions are different.\n"
          ],
          "name": "stdout"
        }
      ]
    },
    {
      "cell_type": "code",
      "metadata": {
        "colab": {
          "base_uri": "https://localhost:8080/"
        },
        "id": "0B-fDxl9iUH8",
        "outputId": "875bbb62-f5d5-47da-b5d2-7fc4c26db537"
      },
      "source": [
        "## Large Image\n",
        "chi2, p_val = test_chi2_shift(repr_img_large, repr_valid, num_classes)\n",
        "alpha = 0.05 \n",
        "print(f\"p-value: {p_val}\")\n",
        "print(f\"Test statistics: {chi2}\")\n",
        "\n",
        "if p_val < alpha:\n",
        "    print(\"Minimum p-value < alpha, therefore reject null hypothesis and conclude that their distributions are different.\")\n",
        "else:\n",
        "    print(\"Minimum p-value > alpha, therefore cannot reject null hypothesis, not enough evidence to indicate their distributions are different.\")"
      ],
      "execution_count": null,
      "outputs": [
        {
          "output_type": "stream",
          "text": [
            "p-value: 0.0\n",
            "Test statistics: 1474.2805810466673\n",
            "Minimum p-value < alpha, therefore reject null hypothesis and conclude that their distributions are different.\n"
          ],
          "name": "stdout"
        }
      ]
    },
    {
      "cell_type": "code",
      "metadata": {
        "colab": {
          "base_uri": "https://localhost:8080/"
        },
        "id": "DAPijFstiUH8",
        "outputId": "d0d1ebc7-7ce3-43c6-eae9-6fb6af4d9753"
      },
      "source": [
        "## Medium Image\n",
        "chi2, p_val = test_chi2_shift(repr_img_medium, repr_valid, num_classes)\n",
        "alpha = 0.05 \n",
        "print(f\"p-value: {p_val}\")\n",
        "print(f\"Test statistics: {chi2}\")\n",
        "\n",
        "if p_val < alpha:\n",
        "    print(\"Minimum p-value < alpha, therefore reject null hypothesis and conclude that their distributions are different.\")\n",
        "else:\n",
        "    print(\"Minimum p-value > alpha, therefore cannot reject null hypothesis, not enough evidence to indicate their distributions are different.\")"
      ],
      "execution_count": null,
      "outputs": [
        {
          "output_type": "stream",
          "text": [
            "p-value: 6.086181315411701e-15\n",
            "Test statistics: 65.46551110333226\n",
            "Minimum p-value < alpha, therefore reject null hypothesis and conclude that their distributions are different.\n"
          ],
          "name": "stdout"
        }
      ]
    },
    {
      "cell_type": "code",
      "metadata": {
        "colab": {
          "base_uri": "https://localhost:8080/"
        },
        "id": "_IBYdsxHiUH9",
        "outputId": "c1f28367-bd31-4fa2-d9fd-ba1147a06fc7"
      },
      "source": [
        "## Small Image\n",
        "chi2, p_val = test_chi2_shift(repr_img_small, repr_valid, num_classes)\n",
        "alpha = 0.05 \n",
        "print(f\"p-value: {p_val}\")\n",
        "print(f\"Test statistics: {chi2}\")\n",
        "\n",
        "if p_val < alpha:\n",
        "    print(\"Minimum p-value < alpha, therefore reject null hypothesis and conclude that their distributions are different.\")\n",
        "else:\n",
        "    print(\"Minimum p-value > alpha, therefore cannot reject null hypothesis, not enough evidence to indicate their distributions are different.\")"
      ],
      "execution_count": null,
      "outputs": [
        {
          "output_type": "stream",
          "text": [
            "p-value: 0.3193951808222982\n",
            "Test statistics: 2.2826522630715713\n",
            "Minimum p-value > alpha, therefore cannot reject null hypothesis, not enough evidence to indicate their distributions are different.\n"
          ],
          "name": "stdout"
        }
      ]
    },
    {
      "cell_type": "code",
      "metadata": {
        "colab": {
          "base_uri": "https://localhost:8080/"
        },
        "id": "1unig3CTiUH-",
        "outputId": "832f13b8-49d4-4560-8f3a-65c713bed4af"
      },
      "source": [
        "## Knockout\n",
        "chi2, p_val = test_chi2_shift(repr_ko, repr_valid, num_classes)\n",
        "alpha = 0.05 \n",
        "print(f\"p-value: {p_val}\")\n",
        "print(f\"Test statistics: {chi2}\")\n",
        "\n",
        "if p_val < alpha:\n",
        "    print(\"Minimum p-value < alpha, therefore reject null hypothesis and conclude that their distributions are different.\")\n",
        "else:\n",
        "    print(\"Minimum p-value > alpha, therefore cannot reject null hypothesis, not enough evidence to indicate their distributions are different.\")"
      ],
      "execution_count": null,
      "outputs": [
        {
          "output_type": "stream",
          "text": [
            "p-value: 0.0\n",
            "Test statistics: inf\n",
            "Minimum p-value < alpha, therefore reject null hypothesis and conclude that their distributions are different.\n"
          ],
          "name": "stdout"
        }
      ]
    },
    {
      "cell_type": "markdown",
      "metadata": {
        "id": "8u2YmhJUpEjm"
      },
      "source": [
        "## BBSD: Concept Bottleneck Models\n",
        "\n",
        "This section experiments on concept bottleneck models (CBMs). We use the output of these models (or the concepts) as the reduced representation before conducting the relevant statistical tests.\n",
        "\n"
      ]
    },
    {
      "cell_type": "markdown",
      "metadata": {
        "id": "qGzQ-3rHpWX3"
      },
      "source": [
        "### Input to Concept Model\n",
        "\n",
        "In this section, we will three input-to-concept models (ITC):\n",
        "1. **Multitask Model**: model with shared convolutional layers and multiple heads for respective task to predict color, shape, scale, rotation, x and y positions.\n",
        "2. **Ensemble Model**: concatenation of six individual models, where each predicts color, shape, scale, rotation, x and y positions respectively.\n",
        "3. **Binary Model**: model where concept values are binaries (e.g., last layers comprised neurons with sigmoid activation functions."
      ]
    },
    {
      "cell_type": "markdown",
      "metadata": {
        "id": "2cGzMGhEt0Cp"
      },
      "source": [
        "#### Multitask Model"
      ]
    },
    {
      "cell_type": "code",
      "metadata": {
        "id": "X7juMvzIpUuH"
      },
      "source": [
        "multitask_model = MultitaskModel()\n",
        "optimizer = tf.keras.optimizers.Adam(lr=1e-4, amsgrad=True)\n",
        "multitask_model.compile(optimizer=optimizer,\n",
        "                    loss=[\n",
        "                        tf.keras.losses.SparseCategoricalCrossentropy(from_logits=False),\n",
        "                        tf.keras.losses.SparseCategoricalCrossentropy(from_logits=False),\n",
        "                        tf.keras.losses.SparseCategoricalCrossentropy(from_logits=False),\n",
        "                        tf.keras.losses.SparseCategoricalCrossentropy(from_logits=False),\n",
        "                        tf.keras.losses.SparseCategoricalCrossentropy(from_logits=False),\n",
        "                        tf.keras.losses.SparseCategoricalCrossentropy(from_logits=False)\n",
        "                    ], metrics=[\"accuracy\"])\n",
        "lr_reducer = ReduceLROnPlateau(factor=np.sqrt(0.1), cooldown=0, patience=5, min_lr=0.5e-6)\n",
        "early_stopper = EarlyStopping(min_delta=0.001, patience=10)\n",
        "\n",
        "history = multitask_model.fit(x=x_train, y=[c_train[:, 0], c_train[:, 1], c_train[:, 2]\n",
        "                                  , c_train[:, 3], c_train[:, 4], c_train[:, 5]], \n",
        "                    epochs=200, batch_size=128,\n",
        "                    validation_data=(x_valid, [c_valid[:, 0], c_valid[:, 1], c_valid[:, 2]\n",
        "                                  , c_valid[:, 3], c_valid[:, 4], c_valid[:, 5]]),\n",
        "                              callbacks=[lr_reducer, early_stopper])"
      ],
      "execution_count": 19,
      "outputs": []
    },
    {
      "cell_type": "code",
      "metadata": {
        "id": "BoSf22nfpUwA"
      },
      "source": [
        "fig = plt.figure(figsize=(12, 8))\n",
        "ax1 = fig.add_subplot(231)\n",
        "ax2 = fig.add_subplot(232)\n",
        "ax3 = fig.add_subplot(233)\n",
        "ax4 = fig.add_subplot(234)\n",
        "ax5 = fig.add_subplot(235)\n",
        "ax6 = fig.add_subplot(236)\n",
        "axes = [ax1, ax2, ax3, ax4, ax5, ax6]\n",
        "\n",
        "# Plot training validation accuracy\n",
        "ax1.plot(history.history[\"color_accuracy\"], label=\"Training Accuracy\")\n",
        "ax1.plot(history.history[\"val_color_accuracy\"], label=\"Validation Accuracy\")\n",
        "\n",
        "ax2.plot(history.history[\"shape_accuracy\"], label=\"Training Accuracy\")\n",
        "ax2.plot(history.history[\"val_shape_accuracy\"], label=\"Validation Accuracy\")\n",
        "\n",
        "ax3.plot(history.history[\"scale_accuracy\"], label=\"Training Accuracy\")\n",
        "ax3.plot(history.history[\"val_scale_accuracy\"], label=\"Validation Accuracy\")\n",
        "\n",
        "ax4.plot(history.history[\"rotation_accuracy\"], label=\"Training Accuracy\")\n",
        "ax4.plot(history.history[\"val_rotation_accuracy\"], label=\"Validation Accuracy\")\n",
        "\n",
        "ax5.plot(history.history[\"x_accuracy\"], label=\"Training Accuracy\")\n",
        "ax5.plot(history.history[\"val_x_accuracy\"], label=\"Validation Accuracy\")\n",
        "\n",
        "ax6.plot(history.history[\"y_accuracy\"], label=\"Training Accuracy\")\n",
        "ax6.plot(history.history[\"val_y_accuracy\"], label=\"Validation Accuracy\")\n",
        "\n",
        "for ax in axes:\n",
        "    ax.legend()\n",
        "    ax.grid(True)\n",
        "plt.show()"
      ],
      "execution_count": null,
      "outputs": []
    },
    {
      "cell_type": "code",
      "metadata": {
        "id": "8rsCL4avtt1D"
      },
      "source": [
        "# Evaluation\n",
        "concept_names = [\"color\", \"shape\", \"scale\", \"rotation\", \"x\", \"y\"]\n",
        "for i, pred in enumerate(multitask_model.predict(x_test)):\n",
        "    print(\"*\"*20, f\"Model: {concept_names[i]}\", \"*\"*20)\n",
        "    c_truth = c_test[:, i]\n",
        "    c_pred = np.argmax(pred, axis=1)\n",
        "    \n",
        "    print(classification_report(c_truth, c_pred))\n",
        "    print(confusion_matrix(c_truth, c_pred))\n",
        "    print(\"\\n\\n\")"
      ],
      "execution_count": null,
      "outputs": []
    },
    {
      "cell_type": "markdown",
      "metadata": {
        "id": "W67Xm5wbuHp3"
      },
      "source": [
        "#### Ensemble Model"
      ]
    },
    {
      "cell_type": "code",
      "metadata": {
        "id": "fIOpByTvuNrj"
      },
      "source": [
        "epochs = 200\n",
        "batch_size = 128\n",
        "histories = []\n",
        "ensemble_model = EnsembleModel()\n",
        "lr_reducer = ReduceLROnPlateau(factor=np.sqrt(0.1), cooldown=0, patience=5, min_lr=0.5e-6)\n",
        "early_stopper = EarlyStopping(min_delta=0.001, patience=10)\n",
        "\n",
        "# Train model\n",
        "for i, m in enumerate(ensemble_model):\n",
        "    optimizer = tf.keras.optimizers.Adam(lr=1e-4, amsgrad=True)\n",
        "\n",
        "    m.compile(optimizer=optimizer,\n",
        "                  loss=tf.keras.losses.SparseCategoricalCrossentropy(from_logits=False),\n",
        "                  metrics=['accuracy'])\n",
        "    \n",
        "    history = m.fit(x=x_train, y=c_train[:, i], \n",
        "                    epochs=epochs, \n",
        "                    batch_size=batch_size, \n",
        "                    validation_data=(x_valid, c_valid[:, i]),\n",
        "                    callbacks=[lr_reducer, early_stopper])\n",
        "    histories.append(history)"
      ],
      "execution_count": null,
      "outputs": []
    },
    {
      "cell_type": "code",
      "metadata": {
        "id": "tQp30DczuNuF"
      },
      "source": [
        "# Plot training-validation loss\n",
        "fig = plt.figure(figsize=(12, 8))\n",
        "ax1 = fig.add_subplot(231)\n",
        "ax2 = fig.add_subplot(232)\n",
        "ax3 = fig.add_subplot(233)\n",
        "ax4 = fig.add_subplot(234)\n",
        "ax5 = fig.add_subplot(235)\n",
        "ax6 = fig.add_subplot(236)\n",
        "axes = [ax1, ax2, ax3, ax4, ax5, ax6]\n",
        "\n",
        "# Plot training validation loss\n",
        "for ax, history in zip(axes, histories):\n",
        "    ax.plot(history.history[\"loss\"], label=\"Training Loss\")\n",
        "    ax.plot(history.history[\"val_loss\"], label=\"Validation Loss\")\n",
        "\n",
        "    ax.grid(True)\n",
        "    ax.legend()\n",
        "plt.show()"
      ],
      "execution_count": null,
      "outputs": []
    },
    {
      "cell_type": "code",
      "metadata": {
        "id": "N7pqB6jPuenu"
      },
      "source": [
        "# Evaluation of ensemble model\n",
        "for i, model in enumerate(ensemble_model):\n",
        "    print(\"*\"*20, f\"Model: {concept_names[i]}\", \"*\"*20)\n",
        "    c_truth = c_test[:, i]\n",
        "    c_pred = np.argmax(model.predict(x_test), axis=1)\n",
        "    print(classification_report(c_truth, c_pred))\n",
        "    print(confusion_matrix(c_truth, c_pred))\n",
        "    print(\"\\n\\n\")"
      ],
      "execution_count": null,
      "outputs": []
    },
    {
      "cell_type": "markdown",
      "metadata": {
        "id": "Z1lFimhpukqI"
      },
      "source": [
        "#### Binary Model"
      ]
    },
    {
      "cell_type": "code",
      "metadata": {
        "id": "CikEbOwIuqV-"
      },
      "source": [
        "# Modify training data so that it fits with the task\n",
        "x_train = x_train\n",
        "x_valid = x_valid\n",
        "\n",
        "rows = np.arange(x_train.shape[0])\n",
        "# Construct one-hot-encoding version for training\n",
        "c_train_color = np.zeros((x_train.shape[0], 1))\n",
        "c_train_shape = np.zeros((x_train.shape[0], 3))\n",
        "c_train_shape[rows, c_train[:,1]] = 1\n",
        "c_train_scale = np.zeros((x_train.shape[0], 6))\n",
        "c_train_scale[rows, c_train[:,2]] = 1\n",
        "c_train_rotation = np.zeros((x_train.shape[0], 40))\n",
        "c_train_rotation[rows, c_train[:,3]] = 1\n",
        "c_train_x = np.zeros((x_train.shape[0], 32))\n",
        "c_train_x[rows, c_train[:,4]] = 1\n",
        "c_train_y = np.zeros((x_train.shape[0], 32))\n",
        "c_train_y[rows, c_train[:,5]] = 1\n",
        "\n",
        "new_c_train = np.hstack([c_train_color, c_train_shape, c_train_scale, c_train_rotation, c_train_x, c_train_y])\n",
        "\n",
        "rows = np.arange(x_valid.shape[0])\n",
        "# Construct one-hot-encoding version for validation\n",
        "c_valid_color = np.zeros((x_valid.shape[0], 1))\n",
        "c_valid_shape = np.zeros((x_valid.shape[0], 3))\n",
        "c_valid_shape[rows, c_valid[:,1]] = 1\n",
        "c_valid_scale = np.zeros((x_valid.shape[0], 6))\n",
        "c_valid_scale[rows, c_valid[:,2]] = 1\n",
        "c_valid_rotation = np.zeros((x_valid.shape[0], 40))\n",
        "c_valid_rotation[rows, c_valid[:,3]] = 1\n",
        "c_valid_x = np.zeros((x_valid.shape[0], 32))\n",
        "c_valid_x[rows, c_valid[:,4]] = 1\n",
        "c_valid_y = np.zeros((x_valid.shape[0], 32))\n",
        "c_valid_y[rows, c_valid[:,5]] = 1\n",
        "\n",
        "new_c_valid = np.hstack([c_valid_color, c_valid_shape, c_valid_scale, c_valid_rotation, c_valid_x, c_valid_y])"
      ],
      "execution_count": null,
      "outputs": []
    },
    {
      "cell_type": "code",
      "metadata": {
        "id": "nFqShjwkuqjh"
      },
      "source": [
        "# Train model\n",
        "binary_model = BinaryModel()\n",
        "optimizer = tf.keras.optimizers.Adam(lr=1e-4, amsgrad=True)\n",
        "binary_model.compile(optimizer=optimizer,\n",
        "            loss=tf.keras.losses.BinaryCrossentropy(from_logits=False),\n",
        "            metrics=['accuracy'])\n",
        "lr_reducer = ReduceLROnPlateau(factor=np.sqrt(0.1), cooldown=0, patience=5, min_lr=0.5e-6)\n",
        "early_stopper = EarlyStopping(min_delta=0.001, patience=10)\n",
        "    \n",
        "history = binary_model.fit(x=x_train, y=new_c_train, \n",
        "                           epochs=200, batch_size=128, \n",
        "                           validation_data=(x_valid, new_c_valid),\n",
        "                           callbacks=[lr_reducer, early_stopper])"
      ],
      "execution_count": null,
      "outputs": []
    },
    {
      "cell_type": "code",
      "metadata": {
        "id": "_Y0mZ0xCuy6a"
      },
      "source": [
        "# Plot training-validation loss\n",
        "fig = plt.figure(figsize=(4, 4))\n",
        "ax = fig.add_subplot(111)\n",
        "\n",
        "ax.plot(history.history[\"loss\"], label=\"Training Loss\")\n",
        "ax.plot(history.history[\"val_loss\"], label=\"Validation Loss\")\n",
        "\n",
        "ax.grid(True)\n",
        "ax.legend()\n",
        "plt.show()"
      ],
      "execution_count": null,
      "outputs": []
    },
    {
      "cell_type": "code",
      "metadata": {
        "id": "7p3uBufKu7ou"
      },
      "source": [
        "c_test_color = np.argmax(binary_model.predict(x_test)[:, :1], axis=1)\n",
        "c_test_shape = np.argmax(binary_model.predict(x_test)[:, 1:4], axis=1)\n",
        "c_test_scale = np.argmax(binary_model.predict(x_test)[:, 4:10], axis=1)\n",
        "c_test_rotation = np.argmax(binary_model.predict(x_test)[:, 10:50], axis=1)\n",
        "c_test_x = np.argmax(binary_model.predict(x_test)[:, 50:82], axis=1)\n",
        "c_test_y = np.argmax(binary_model.predict(x_test)[:, 82:114], axis=1)\n",
        "\n",
        "c_pred = np.stack([c_test_color, c_test_shape, c_test_scale, c_test_rotation, c_test_x, c_test_y], axis=1)"
      ],
      "execution_count": null,
      "outputs": []
    },
    {
      "cell_type": "code",
      "metadata": {
        "id": "O00KBeghu8qp"
      },
      "source": [
        "concept_names = [\"color\", \"shape\", \"scale\", \"rotation\", \"x\", \"y\"]\n",
        "for i, concept in enumerate(concept_names):\n",
        "    print(\"*\"*20, f\"Model: {concept_names[i]}\", \"*\"*20)\n",
        "    c_truth = c_test[:, i]\n",
        "    c_pre = c_pred[:, i]\n",
        "    \n",
        "    print(classification_report(c_truth, c_pre))\n",
        "    print(confusion_matrix(c_truth, c_pre))\n",
        "    print(\"\\n\\n\")"
      ],
      "execution_count": null,
      "outputs": []
    },
    {
      "cell_type": "markdown",
      "metadata": {
        "id": "Srub9cvgpbsC"
      },
      "source": [
        "### Concept to Output Model\n",
        "\n",
        "In this section, we will train concept to output model. The model will take concepts as input and shape as output. We follow *Independent Bottleneck* training procedure."
      ]
    },
    {
      "cell_type": "code",
      "metadata": {
        "id": "IFnENpjkpb5s"
      },
      "source": [
        "# Build and train model\n",
        "com = DecisionTreeClassifier()\n",
        "com.fit(c_train, y_train)"
      ],
      "execution_count": null,
      "outputs": []
    },
    {
      "cell_type": "code",
      "metadata": {
        "id": "K7CJ_aJSpb72"
      },
      "source": [
        "y_test_pred = com.predict(c_test)\n",
        "print(classification_report(y_test_pred, y_test))\n",
        "print(confusion_matrix(y_test_pred, y_test))"
      ],
      "execution_count": null,
      "outputs": []
    },
    {
      "cell_type": "markdown",
      "metadata": {
        "id": "H4lCf1w1pTfI"
      },
      "source": [
        "### BBSDs (Concepts)\n",
        "Using the softmax outputs of the models as the reduced representation."
      ]
    },
    {
      "cell_type": "code",
      "metadata": {
        "id": "900S9nVnpEjp"
      },
      "source": [
        ""
      ],
      "execution_count": null,
      "outputs": []
    },
    {
      "cell_type": "code",
      "metadata": {
        "id": "LS_qFSENpEjp"
      },
      "source": [
        ""
      ],
      "execution_count": null,
      "outputs": []
    },
    {
      "cell_type": "code",
      "metadata": {
        "id": "iVAptTJgpEjq"
      },
      "source": [
        ""
      ],
      "execution_count": null,
      "outputs": []
    },
    {
      "cell_type": "markdown",
      "metadata": {
        "id": "we7kTqLBpEjr"
      },
      "source": [
        "### BBSDh (Concepts)\n",
        "Using the hard outputs (prediction) of the models as reduced representation."
      ]
    },
    {
      "cell_type": "code",
      "metadata": {
        "id": "wPLx7-MnpEjs"
      },
      "source": [
        ""
      ],
      "execution_count": null,
      "outputs": []
    },
    {
      "cell_type": "code",
      "metadata": {
        "id": "gn1hyjURpEjs"
      },
      "source": [
        ""
      ],
      "execution_count": null,
      "outputs": []
    },
    {
      "cell_type": "code",
      "metadata": {
        "id": "tbv9iZq7pEjt"
      },
      "source": [
        ""
      ],
      "execution_count": null,
      "outputs": []
    }
  ]
}