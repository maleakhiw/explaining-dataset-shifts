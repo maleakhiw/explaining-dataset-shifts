{
  "nbformat": 4,
  "nbformat_minor": 0,
  "metadata": {
    "colab": {
      "name": "Label Classifier.ipynb",
      "provenance": [],
      "collapsed_sections": [
        "isTThbu4nPeX",
        "7oDUQfNpn6K7",
        "W67Xm5wbuHp3",
        "Z1lFimhpukqI",
        "Srub9cvgpbsC"
      ],
      "machine_shape": "hm"
    },
    "kernelspec": {
      "name": "python3",
      "display_name": "Python 3"
    },
    "accelerator": "GPU"
  },
  "cells": [
    {
      "cell_type": "markdown",
      "metadata": {
        "id": "NMIHiJEZO9tK"
      },
      "source": [
        "# Label Classifier (dSprites)\n",
        "\n",
        "This notebook implement the original classifier and use its representation as shift detector. This method also known as Black Box Shift Detection (BBSD)."
      ]
    },
    {
      "cell_type": "code",
      "metadata": {
        "id": "rEeMJzAanB4-"
      },
      "source": [
        "## Solve dependency problem\n",
        "# !git clone https://github.com/josipd/torch-two-sample.git\n",
        "# %cd torch-two-sample\n",
        "# !python setup.py install"
      ],
      "execution_count": 35,
      "outputs": []
    },
    {
      "cell_type": "code",
      "metadata": {
        "id": "Bdnj5tRpBtuA"
      },
      "source": [
        "import numpy as np\n",
        "import torch\n",
        "import random\n",
        "from torch_two_sample import *\n",
        "from scipy.stats import ks_2samp, binom_test, chisquare, chi2_contingency, anderson_ksamp\n",
        "from scipy.spatial import distance\n",
        "import matplotlib.pyplot as plt\n",
        "import seaborn as sns\n",
        "from sklearn.model_selection import train_test_split\n",
        "import scipy.io\n",
        "from math import ceil\n",
        "from copy import deepcopy\n",
        "import pandas as pd\n",
        "import tensorflow as tf\n",
        "from tensorflow.keras.preprocessing.image import ImageDataGenerator\n",
        "from tensorflow.keras.utils import to_categorical\n",
        "from tensorflow.keras.callbacks import ReduceLROnPlateau, EarlyStopping\n",
        "from tensorflow.keras import optimizers\n",
        "from sklearn.linear_model import LogisticRegression\n",
        "from sklearn.metrics import confusion_matrix, classification_report, accuracy_score, plot_confusion_matrix\n",
        "from sklearn.tree import DecisionTreeClassifier\n",
        "from tensorflow.python import keras\n",
        "from tensorflow.python.keras import layers\n",
        "\n",
        "# Remove warnings\n",
        "import warnings\n",
        "warnings.filterwarnings('ignore')"
      ],
      "execution_count": 3,
      "outputs": []
    },
    {
      "cell_type": "code",
      "metadata": {
        "colab": {
          "base_uri": "https://localhost:8080/"
        },
        "id": "rClArgFinNFq",
        "outputId": "c57cefd0-ba67-46ef-f3c1-094f9adc106a"
      },
      "source": [
        "# Mount drive (if needed)\n",
        "from google.colab import drive\n",
        "drive.mount('/content/drive')"
      ],
      "execution_count": 2,
      "outputs": [
        {
          "output_type": "stream",
          "text": [
            "Mounted at /content/drive\n"
          ],
          "name": "stdout"
        }
      ]
    },
    {
      "cell_type": "code",
      "metadata": {
        "id": "_AyuNjX3nNMW"
      },
      "source": [
        "# Run utility functions\n",
        "%run drive/MyDrive/Colab\\ Notebooks/MPhil\\ Prototype/Utilities.ipynb"
      ],
      "execution_count": 3,
      "outputs": []
    },
    {
      "cell_type": "markdown",
      "metadata": {
        "id": "isTThbu4nPeX"
      },
      "source": [
        "## Load Dataset"
      ]
    },
    {
      "cell_type": "code",
      "metadata": {
        "colab": {
          "base_uri": "https://localhost:8080/"
        },
        "id": "6T2mfwGBnRfY",
        "outputId": "642fc3ca-c108-45e2-9b9d-96d9b50c8ad0"
      },
      "source": [
        "# Load dataset, split into train test\n",
        "path = 'drive/MyDrive/dsprites_ndarray_co1sh3sc6or40x32y32_64x64.npz'\n",
        "x_train, x_test, y_train, y_test, c_train, c_test = load_dsprites(path, 100000, train_size=0.85, class_index=1)\n",
        "\n",
        "# Split training into validation set as well \n",
        "x_train, x_valid = x_train[:70000], x_train[70000:]\n",
        "y_train, y_valid = y_train[:70000], y_train[70000:]\n",
        "c_train, c_valid = c_train[:70000], c_train[70000:]"
      ],
      "execution_count": 4,
      "outputs": [
        {
          "output_type": "stream",
          "text": [
            "Training samples: 85000\n",
            "Testing samples: 15000\n"
          ],
          "name": "stdout"
        }
      ]
    },
    {
      "cell_type": "code",
      "metadata": {
        "id": "84Rxx_ROnj4c"
      },
      "source": [
        "# Reshape to appropriate shift input\n",
        "# It is noteworthy that for efficiency, we represent the images as only 2 dimension\n",
        "# when we preprocessing (number of instances/ batch size * flatten size).\n",
        "# When visualising back the image, we need to reshape it back to the original dimension\n",
        "ORIGINAL_SHAPE = x_test.shape[1:] # constant hold the image original shape\n",
        "x_test_flatten = deepcopy(x_test.reshape(x_test.shape[0], -1))"
      ],
      "execution_count": 5,
      "outputs": []
    },
    {
      "cell_type": "markdown",
      "metadata": {
        "id": "7oDUQfNpn6K7"
      },
      "source": [
        "## Apply Shifts\n",
        "We apply shifts only to test data as discussed in the paper.\n"
      ]
    },
    {
      "cell_type": "markdown",
      "metadata": {
        "id": "GPN5L_hgoFkZ"
      },
      "source": [
        "### Gaussian Shift"
      ]
    },
    {
      "cell_type": "markdown",
      "metadata": {
        "id": "VmVIvtgH--c2"
      },
      "source": [
        "#### Large"
      ]
    },
    {
      "cell_type": "code",
      "metadata": {
        "colab": {
          "base_uri": "https://localhost:8080/"
        },
        "id": "UrLbe74soHxR",
        "outputId": "6bf3c510-f29a-45d8-d475-20a9843422c1"
      },
      "source": [
        "shift = \"large_gn_shift_1.0\"\n",
        "x_test_gaussian_large, y_test_gaussian_large = apply_shift(deepcopy(x_test_flatten), y_test, shift, ORIGINAL_SHAPE) "
      ],
      "execution_count": 6,
      "outputs": [
        {
          "output_type": "stream",
          "text": [
            "Large GN shift\n"
          ],
          "name": "stdout"
        }
      ]
    },
    {
      "cell_type": "markdown",
      "metadata": {
        "id": "__NEWuy4_Pzu"
      },
      "source": [
        "#### Medium"
      ]
    },
    {
      "cell_type": "code",
      "metadata": {
        "colab": {
          "base_uri": "https://localhost:8080/"
        },
        "id": "hvs2q4R3oHzd",
        "outputId": "be6d3a0b-3a5f-4798-a818-821e63f492f5"
      },
      "source": [
        "shift = \"medium_gn_shift_1.0\"\n",
        "x_test_gaussian_medium, y_test_gaussian_medium = apply_shift(deepcopy(x_test_flatten), y_test, shift, ORIGINAL_SHAPE) "
      ],
      "execution_count": 7,
      "outputs": [
        {
          "output_type": "stream",
          "text": [
            "Medium GN Shift\n"
          ],
          "name": "stdout"
        }
      ]
    },
    {
      "cell_type": "markdown",
      "metadata": {
        "id": "faRDF7AZ_W23"
      },
      "source": [
        "#### Small"
      ]
    },
    {
      "cell_type": "code",
      "metadata": {
        "colab": {
          "base_uri": "https://localhost:8080/"
        },
        "id": "PKbIhkcZoH1s",
        "outputId": "ad303670-6d66-4aff-c7d7-5e69f420829c"
      },
      "source": [
        "shift = \"small_gn_shift_1.0\"\n",
        "x_test_gaussian_small, y_test_gaussian_small = apply_shift(deepcopy(x_test_flatten), y_test, shift, ORIGINAL_SHAPE) "
      ],
      "execution_count": 8,
      "outputs": [
        {
          "output_type": "stream",
          "text": [
            "Small GN Shift\n"
          ],
          "name": "stdout"
        }
      ]
    },
    {
      "cell_type": "markdown",
      "metadata": {
        "id": "5-4VDQ9ioJ2c"
      },
      "source": [
        "### Image Shift"
      ]
    },
    {
      "cell_type": "markdown",
      "metadata": {
        "id": "6279S9tg_hoC"
      },
      "source": [
        "#### Large"
      ]
    },
    {
      "cell_type": "code",
      "metadata": {
        "colab": {
          "base_uri": "https://localhost:8080/"
        },
        "id": "m8aXmOJqoRFU",
        "outputId": "7f9104d5-e70f-4810-f8a7-f18ca513ecdf"
      },
      "source": [
        "shift = \"large_img_shift_1.0\"\n",
        "x_test_img_large, y_test_img_small = apply_shift(deepcopy(x_test_flatten), y_test, shift, ORIGINAL_SHAPE) "
      ],
      "execution_count": 9,
      "outputs": [
        {
          "output_type": "stream",
          "text": [
            "Large image shift\n"
          ],
          "name": "stdout"
        }
      ]
    },
    {
      "cell_type": "markdown",
      "metadata": {
        "id": "PqF9zl5y_jQq"
      },
      "source": [
        "#### Medium"
      ]
    },
    {
      "cell_type": "code",
      "metadata": {
        "colab": {
          "base_uri": "https://localhost:8080/"
        },
        "id": "yPSzyGwwB6y1",
        "outputId": "eb80c8e6-d6d4-4cdb-e68c-1b2a723660f8"
      },
      "source": [
        "shift = \"medium_img_shift_1.0\"\n",
        "x_test_img_medium, y_test_img_medium = apply_shift(deepcopy(x_test_flatten), y_test, shift, ORIGINAL_SHAPE) "
      ],
      "execution_count": 10,
      "outputs": [
        {
          "output_type": "stream",
          "text": [
            "Medium image shift\n"
          ],
          "name": "stdout"
        }
      ]
    },
    {
      "cell_type": "markdown",
      "metadata": {
        "id": "Vr1K81s__m3U"
      },
      "source": [
        "#### Small"
      ]
    },
    {
      "cell_type": "code",
      "metadata": {
        "colab": {
          "base_uri": "https://localhost:8080/"
        },
        "id": "hlXV4H7SoRKE",
        "outputId": "a9a9fd2d-1506-4c3b-c1b4-5fd6d2e67dc3"
      },
      "source": [
        "shift = \"small_img_shift_1.0\"\n",
        "x_test_img_small, y_test_img_small = apply_shift(deepcopy(x_test_flatten), y_test, shift, ORIGINAL_SHAPE) "
      ],
      "execution_count": 11,
      "outputs": [
        {
          "output_type": "stream",
          "text": [
            "Small image shift\n"
          ],
          "name": "stdout"
        }
      ]
    },
    {
      "cell_type": "markdown",
      "metadata": {
        "id": "YttGJwfFoRpj"
      },
      "source": [
        "### Knockout Shift"
      ]
    },
    {
      "cell_type": "code",
      "metadata": {
        "colab": {
          "base_uri": "https://localhost:8080/"
        },
        "id": "VLWkK_rMoUHE",
        "outputId": "ec5524d4-3d43-4b76-b118-d99eb23df622"
      },
      "source": [
        "shift = \"ko_shift_1.0\"\n",
        "x_test_ko, y_test_ko = apply_shift(deepcopy(x_test_flatten), y_test, shift, ORIGINAL_SHAPE) "
      ],
      "execution_count": 12,
      "outputs": [
        {
          "output_type": "stream",
          "text": [
            "Large knockout shift\n"
          ],
          "name": "stdout"
        }
      ]
    },
    {
      "cell_type": "markdown",
      "metadata": {
        "id": "LwlXohZtoVho"
      },
      "source": [
        "## BBSD: End to End Models\n",
        "\n",
        "This section experiments on end-to-end models. We use the output of these models as the reduced representation before conducting the relevant statistical tests."
      ]
    },
    {
      "cell_type": "code",
      "metadata": {
        "id": "kurX2pPiFeVf"
      },
      "source": [
        "epochs = 200\n",
        "lr_reducer = ReduceLROnPlateau(factor=np.sqrt(0.1), cooldown=0, patience=5, min_lr=0.5e-6)\n",
        "early_stopper = EarlyStopping(min_delta=0.001, patience=10)\n",
        "batch_size = 128\n",
        "num_classes = 3\n",
        "\n",
        "end_to_end_model = NeuralNetworkClassifier(num_classes)\n",
        "optimizer = tf.keras.optimizers.Adam(lr=1e-4, amsgrad=True)\n",
        "end_to_end_model.compile(loss=\"sparse_categorical_crossentropy\",\n",
        "                         metrics=[\"accuracy\"],\n",
        "                         optimizer=optimizer)\n",
        "\n",
        "histories = end_to_end_model.fit(x=x_train, y=y_train,\n",
        "                                 epochs=epochs,\n",
        "                                 batch_size=batch_size,\n",
        "                                 validation_data=(x_valid, y_valid),\n",
        "                                 callbacks=[lr_reducer, early_stopper])"
      ],
      "execution_count": null,
      "outputs": []
    },
    {
      "cell_type": "code",
      "metadata": {
        "colab": {
          "base_uri": "https://localhost:8080/",
          "height": 265
        },
        "id": "0gTVFz4eFeXk",
        "outputId": "eb0bdd4f-6bb4-4ddc-cdb0-c282b6efe6b1"
      },
      "source": [
        "fig = plt.figure(figsize=(4, 4))\n",
        "ax = fig.add_subplot(111)\n",
        "\n",
        "# Plot training validation loss\n",
        "ax.plot(histories.history[\"loss\"], label=\"Training Loss\")\n",
        "ax.plot(histories.history[\"val_loss\"], label=\"Validation Loss\")\n",
        "ax.grid(True)\n",
        "ax.legend()\n",
        "plt.show()"
      ],
      "execution_count": null,
      "outputs": [
        {
          "output_type": "display_data",
          "data": {
            "image/png": "[encoded data removed]",
            "text/plain": [
              "<Figure size 288x288 with 1 Axes>"
            ]
          },
          "metadata": {
            "tags": [],
            "needs_background": "light"
          }
        }
      ]
    },
    {
      "cell_type": "code",
      "metadata": {
        "colab": {
          "base_uri": "https://localhost:8080/"
        },
        "id": "i8FKqTs7HlTX",
        "outputId": "9d1c0fff-4f28-42a5-954c-c1be15fc0c55"
      },
      "source": [
        "# Evaluate model\n",
        "y_pred = end_to_end_model.predict(x_test)\n",
        "y_pred = np.argmax(y_pred, axis=1)\n",
        "print(classification_report(y_test, y_pred))\n",
        "print(confusion_matrix(y_test, y_pred))"
      ],
      "execution_count": null,
      "outputs": [
        {
          "output_type": "stream",
          "text": [
            "              precision    recall  f1-score   support\n",
            "\n",
            "           0       1.00      1.00      1.00      5021\n",
            "           1       1.00      1.00      1.00      4957\n",
            "           2       1.00      1.00      1.00      5022\n",
            "\n",
            "    accuracy                           1.00     15000\n",
            "   macro avg       1.00      1.00      1.00     15000\n",
            "weighted avg       1.00      1.00      1.00     15000\n",
            "\n",
            "[[5021    0    0]\n",
            " [   0 4957    0]\n",
            " [   0    0 5022]]\n"
          ],
          "name": "stdout"
        }
      ]
    },
    {
      "cell_type": "markdown",
      "metadata": {
        "id": "Z3VMwCXWFdld"
      },
      "source": [
        "### BBSDs\n",
        "Using the softmax outputs of the models as the reduced representation."
      ]
    },
    {
      "cell_type": "code",
      "metadata": {
        "id": "wi3ItuI-ojm3"
      },
      "source": [
        "## 1. Create reduce representation\n",
        "# Valid data reduced representation\n",
        "repr_valid = end_to_end_model.predict(x_valid)"
      ],
      "execution_count": null,
      "outputs": []
    },
    {
      "cell_type": "code",
      "metadata": {
        "id": "S4KlEL8Aojps"
      },
      "source": [
        "# Gaussian test reduced representation\n",
        "repr_gaussian_large = end_to_end_model.predict(x_test_gaussian_large.reshape(len(x_test_gaussian_large), \n",
        "                                                                             ORIGINAL_SHAPE[0], \n",
        "                                                                             ORIGINAL_SHAPE[1],\n",
        "                                                                             ORIGINAL_SHAPE[2]))\n",
        "repr_gaussian_medium = end_to_end_model.predict(x_test_gaussian_medium.reshape(len(x_test_gaussian_medium), \n",
        "                                                                             ORIGINAL_SHAPE[0], \n",
        "                                                                             ORIGINAL_SHAPE[1],\n",
        "                                                                             ORIGINAL_SHAPE[2]))\n",
        "repr_gaussian_small = end_to_end_model.predict(x_test_gaussian_small.reshape(len(x_test_gaussian_small), \n",
        "                                                                             ORIGINAL_SHAPE[0], \n",
        "                                                                             ORIGINAL_SHAPE[1],\n",
        "                                                                             ORIGINAL_SHAPE[2]))"
      ],
      "execution_count": null,
      "outputs": []
    },
    {
      "cell_type": "code",
      "metadata": {
        "id": "dM_CAFCdoj9M"
      },
      "source": [
        "# Image test reduced representation\n",
        "repr_img_large = end_to_end_model.predict(x_test_img_large.reshape(len(x_test_img_large), \n",
        "                                                                             ORIGINAL_SHAPE[0], \n",
        "                                                                             ORIGINAL_SHAPE[1],\n",
        "                                                                             ORIGINAL_SHAPE[2]))\n",
        "repr_img_medium = end_to_end_model.predict(x_test_img_medium.reshape(len(x_test_img_medium), \n",
        "                                                                             ORIGINAL_SHAPE[0], \n",
        "                                                                             ORIGINAL_SHAPE[1],\n",
        "                                                                             ORIGINAL_SHAPE[2]))\n",
        "repr_img_small = end_to_end_model.predict(x_test_img_small.reshape(len(x_test_img_small), \n",
        "                                                                             ORIGINAL_SHAPE[0], \n",
        "                                                                             ORIGINAL_SHAPE[1],\n",
        "                                                                             ORIGINAL_SHAPE[2]))"
      ],
      "execution_count": null,
      "outputs": []
    },
    {
      "cell_type": "code",
      "metadata": {
        "id": "5_RsJ0I5Jwjm"
      },
      "source": [
        "# Knockout reduced representation\n",
        "repr_ko = end_to_end_model.predict(x_test_ko.reshape(len(x_test_ko), \n",
        "                                                    ORIGINAL_SHAPE[0], \n",
        "                                                    ORIGINAL_SHAPE[1],\n",
        "                                                    ORIGINAL_SHAPE[2]))"
      ],
      "execution_count": null,
      "outputs": []
    },
    {
      "cell_type": "code",
      "metadata": {
        "colab": {
          "base_uri": "https://localhost:8080/"
        },
        "id": "iaPeDuUJKTC8",
        "outputId": "e70af8a0-abb3-476f-f39d-8f33d9ee627d"
      },
      "source": [
        " ## Show new size \n",
        " print(f\"Size reduced valid: {repr_valid.shape}\")\n",
        " print(f\"Size reduced gaussian: {repr_gaussian_large.shape}\")\n",
        " print(f\"Size reduced img: {repr_img_medium.shape}\")\n",
        " print(f\"Size reduced ko: {repr_ko.shape}\")"
      ],
      "execution_count": null,
      "outputs": [
        {
          "output_type": "stream",
          "text": [
            "Size reduced valid: (15000, 3)\n",
            "Size reduced gaussian: (15000, 3)\n",
            "Size reduced img: (15000, 3)\n",
            "Size reduced ko: (9979, 3)\n"
          ],
          "name": "stdout"
        }
      ]
    },
    {
      "cell_type": "markdown",
      "metadata": {
        "id": "lteFsqGvKryO"
      },
      "source": [
        "#### Multiple Univariate Testing"
      ]
    },
    {
      "cell_type": "code",
      "metadata": {
        "colab": {
          "base_uri": "https://localhost:8080/"
        },
        "id": "eXZbE1gZOO0Y",
        "outputId": "6c8e32d4-ef6a-4bd4-cc3a-dc111974a290"
      },
      "source": [
        "## Baseline (no-shift)\n",
        "p_val, p_vals, t_vals = one_dimensional_test(repr_valid, repr_valid)\n",
        "alpha = 0.05 / repr_valid.shape[1] # Divided by number of components for Bonferroni correction\n",
        "print(f\"Minimum p-value: {p_val}\")\n",
        "print(f\"Component p-values: {p_vals}\")\n",
        "print(f\"Test statistics: {t_vals}\")\n",
        "\n",
        "if p_val < alpha:\n",
        "    print(\"Minimum p-value < alpha, therefore reject null hypothesis and conclude that their distributions are different.\")\n",
        "else:\n",
        "    print(\"Minimum p-value > alpha, therefore cannot reject null hypothesis, not enough evidence to indicate their distributions are different.\")"
      ],
      "execution_count": null,
      "outputs": [
        {
          "output_type": "stream",
          "text": [
            "Minimum p-value: 1.0\n",
            "Component p-values: [1. 1. 1.]\n",
            "Test statistics: [-0.0, -0.0, -0.0]\n",
            "Minimum p-value > alpha, therefore cannot reject null hypothesis, not enough evidence to indicate their distributions are different.\n"
          ],
          "name": "stdout"
        }
      ]
    },
    {
      "cell_type": "code",
      "metadata": {
        "colab": {
          "base_uri": "https://localhost:8080/"
        },
        "id": "LOTLelcGKm7h",
        "outputId": "24eaa8e9-358e-48ac-d1ac-dc6c3294f2d3"
      },
      "source": [
        "## Large Gaussian\n",
        "p_val, p_vals, t_vals = one_dimensional_test(repr_gaussian_large, repr_valid)\n",
        "alpha = 0.05 / repr_valid.shape[1] # Divided by number of components for Bonferroni correction\n",
        "print(f\"Minimum p-value: {p_val}\")\n",
        "print(f\"Component p-values: {p_vals}\")\n",
        "print(f\"Test statistics: {t_vals}\")\n",
        "\n",
        "if p_val < alpha:\n",
        "    print(\"Minimum p-value < alpha, therefore reject null hypothesis and conclude that their distributions are different.\")\n",
        "else:\n",
        "    print(\"Minimum p-value > alpha, therefore cannot reject null hypothesis, not enough evidence to indicate their distributions are different.\")"
      ],
      "execution_count": null,
      "outputs": [
        {
          "output_type": "stream",
          "text": [
            "Minimum p-value: 0.0\n",
            "Component p-values: [0. 0. 0.]\n",
            "Test statistics: [0.7466666666666667, 0.9482, 0.8993333333333333]\n",
            "Minimum p-value < alpha, therefore reject null hypothesis and conclude that their distributions are different.\n"
          ],
          "name": "stdout"
        }
      ]
    },
    {
      "cell_type": "code",
      "metadata": {
        "colab": {
          "base_uri": "https://localhost:8080/"
        },
        "id": "yvi6DhW_NuCw",
        "outputId": "45c59a52-4e73-44fb-e89c-193d8abec7e8"
      },
      "source": [
        "## Medium Gaussian\n",
        "p_val, p_vals, t_vals = one_dimensional_test(repr_gaussian_medium, repr_valid)\n",
        "alpha = 0.05 / repr_valid.shape[1] # Divided by number of components for Bonferroni correction\n",
        "print(f\"Minimum p-value: {p_val}\")\n",
        "print(f\"Component p-values: {p_vals}\")\n",
        "print(f\"Test statistics: {t_vals}\")\n",
        "\n",
        "if p_val < alpha:\n",
        "    print(\"Minimum p-value < alpha, therefore reject null hypothesis and conclude that their distributions are different.\")\n",
        "else:\n",
        "    print(\"Minimum p-value > alpha, therefore cannot reject null hypothesis, not enough evidence to indicate their distributions are different.\")"
      ],
      "execution_count": null,
      "outputs": [
        {
          "output_type": "stream",
          "text": [
            "Minimum p-value: 6.2298568905972135e-174\n",
            "Component p-values: [6.22985689e-174 3.14839019e-044 3.02485359e-113]\n",
            "Test statistics: [0.1632, 0.08199999999999996, 0.13159999999999994]\n",
            "Minimum p-value < alpha, therefore reject null hypothesis and conclude that their distributions are different.\n"
          ],
          "name": "stdout"
        }
      ]
    },
    {
      "cell_type": "code",
      "metadata": {
        "colab": {
          "base_uri": "https://localhost:8080/"
        },
        "id": "LVqixsEMNuQM",
        "outputId": "49c7d575-cc3e-487b-9438-168f4d073299"
      },
      "source": [
        "## Small Gaussian\n",
        "p_val, p_vals, t_vals = one_dimensional_test(repr_gaussian_small, repr_valid)\n",
        "alpha = 0.05 / repr_valid.shape[1] # Divided by number of components for Bonferroni correction\n",
        "print(f\"Minimum p-value: {p_val}\")\n",
        "print(f\"Component p-values: {p_vals}\")\n",
        "print(f\"Test statistics: {t_vals}\")\n",
        "\n",
        "if p_val < alpha:\n",
        "    print(\"Minimum p-value < alpha, therefore reject null hypothesis and conclude that their distributions are different.\")\n",
        "else:\n",
        "    print(\"Minimum p-value > alpha, therefore cannot reject null hypothesis, not enough evidence to indicate their distributions are different.\")"
      ],
      "execution_count": null,
      "outputs": [
        {
          "output_type": "stream",
          "text": [
            "Minimum p-value: 0.0005171800493651045\n",
            "Component p-values: [0.00051718 0.0999341  0.01442028]\n",
            "Test statistics: [0.023466666666666636, 0.014133333333333331, 0.018133333333333335]\n",
            "Minimum p-value < alpha, therefore reject null hypothesis and conclude that their distributions are different.\n"
          ],
          "name": "stdout"
        }
      ]
    },
    {
      "cell_type": "code",
      "metadata": {
        "colab": {
          "base_uri": "https://localhost:8080/"
        },
        "id": "xAIbqLoPOCvp",
        "outputId": "059a3e3e-42f6-45d3-d9fe-45e4b072fc36"
      },
      "source": [
        "## Large Image\n",
        "p_val, p_vals, t_vals = one_dimensional_test(repr_img_large, repr_valid)\n",
        "alpha = 0.05 / repr_valid.shape[1] # Divided by number of components for Bonferroni correction\n",
        "print(f\"Minimum p-value: {p_val}\")\n",
        "print(f\"Component p-values: {p_vals}\")\n",
        "print(f\"Test statistics: {t_vals}\")\n",
        "\n",
        "if p_val < alpha:\n",
        "    print(\"Minimum p-value < alpha, therefore reject null hypothesis and conclude that their distributions are different.\")\n",
        "else:\n",
        "    print(\"Minimum p-value > alpha, therefore cannot reject null hypothesis, not enough evidence to indicate their distributions are different.\")"
      ],
      "execution_count": null,
      "outputs": [
        {
          "output_type": "stream",
          "text": [
            "Minimum p-value: 0.0\n",
            "Component p-values: [5.83198551e-129 0.00000000e+000 0.00000000e+000]\n",
            "Test statistics: [0.14046666666666663, 0.34659999999999996, 0.24026666666666668]\n",
            "Minimum p-value < alpha, therefore reject null hypothesis and conclude that their distributions are different.\n"
          ],
          "name": "stdout"
        }
      ]
    },
    {
      "cell_type": "code",
      "metadata": {
        "colab": {
          "base_uri": "https://localhost:8080/"
        },
        "id": "QrNmNLghOCwG",
        "outputId": "cae7d122-8aa8-402b-deef-151546b2e39a"
      },
      "source": [
        "## Medium Image\n",
        "p_val, p_vals, t_vals = one_dimensional_test(repr_img_medium, repr_valid)\n",
        "alpha = 0.05 / repr_valid.shape[1] # Divided by number of components for Bonferroni correction\n",
        "print(f\"Minimum p-value: {p_val}\")\n",
        "print(f\"Component p-values: {p_vals}\")\n",
        "print(f\"Test statistics: {t_vals}\")\n",
        "\n",
        "if p_val < alpha:\n",
        "    print(\"Minimum p-value < alpha, therefore reject null hypothesis and conclude that their distributions are different.\")\n",
        "else:\n",
        "    print(\"Minimum p-value > alpha, therefore cannot reject null hypothesis, not enough evidence to indicate their distributions are different.\")"
      ],
      "execution_count": null,
      "outputs": [
        {
          "output_type": "stream",
          "text": [
            "Minimum p-value: 2.53257505807183e-155\n",
            "Component p-values: [1.82224210e-059 2.53257506e-155 1.02848358e-107]\n",
            "Test statistics: [0.0952, 0.1542, 0.1283333333333333]\n",
            "Minimum p-value < alpha, therefore reject null hypothesis and conclude that their distributions are different.\n"
          ],
          "name": "stdout"
        }
      ]
    },
    {
      "cell_type": "code",
      "metadata": {
        "colab": {
          "base_uri": "https://localhost:8080/"
        },
        "id": "mdgJLOKwOCwH",
        "outputId": "5611b203-46ea-4c68-bf1a-149dd2eb6d3c"
      },
      "source": [
        "## Small Image\n",
        "p_val, p_vals, t_vals = one_dimensional_test(repr_img_small, repr_valid)\n",
        "alpha = 0.05 / repr_valid.shape[1] # Divided by number of components for Bonferroni correction\n",
        "print(f\"Minimum p-value: {p_val}\")\n",
        "print(f\"Component p-values: {p_vals}\")\n",
        "print(f\"Test statistics: {t_vals}\")\n",
        "\n",
        "if p_val < alpha:\n",
        "    print(\"Minimum p-value < alpha, therefore reject null hypothesis and conclude that their distributions are different.\")\n",
        "else:\n",
        "    print(\"Minimum p-value > alpha, therefore cannot reject null hypothesis, not enough evidence to indicate their distributions are different.\")"
      ],
      "execution_count": null,
      "outputs": [
        {
          "output_type": "stream",
          "text": [
            "Minimum p-value: 7.6264189479015106e-31\n",
            "Component p-values: [1.18444205e-14 7.62641895e-31 2.38640825e-24]\n",
            "Test statistics: [0.04673333333333329, 0.06833333333333336, 0.06059999999999999]\n",
            "Minimum p-value < alpha, therefore reject null hypothesis and conclude that their distributions are different.\n"
          ],
          "name": "stdout"
        }
      ]
    },
    {
      "cell_type": "code",
      "metadata": {
        "colab": {
          "base_uri": "https://localhost:8080/"
        },
        "id": "WiY-LmrSNue1",
        "outputId": "a38d9682-f178-4ef7-8026-d6f6740638ad"
      },
      "source": [
        "## Knockout\n",
        "p_val, p_vals, t_vals = one_dimensional_test(repr_ko, repr_valid)\n",
        "alpha = 0.05 / repr_valid.shape[1] # Divided by number of components for Bonferroni correction\n",
        "print(f\"Minimum p-value: {p_val}\")\n",
        "print(f\"Component p-values: {p_vals}\")\n",
        "print(f\"Test statistics: {t_vals}\")\n",
        "\n",
        "if p_val < alpha:\n",
        "    print(\"Minimum p-value < alpha, therefore reject null hypothesis and conclude that their distributions are different.\")\n",
        "else:\n",
        "    print(\"Minimum p-value > alpha, therefore cannot reject null hypothesis, not enough evidence to indicate their distributions are different.\")"
      ],
      "execution_count": null,
      "outputs": [
        {
          "output_type": "stream",
          "text": [
            "Minimum p-value: 0.0\n",
            "Component p-values: [0.00000000e+000 0.00000000e+000 1.98047254e-147]\n",
            "Test statistics: [0.3336, 0.2554798810836089, 0.16805683936266153]\n",
            "Minimum p-value < alpha, therefore reject null hypothesis and conclude that their distributions are different.\n"
          ],
          "name": "stdout"
        }
      ]
    },
    {
      "cell_type": "markdown",
      "metadata": {
        "id": "cv7lSfFKooGH"
      },
      "source": [
        "### BBSDh\n",
        "Using the hard outputs (prediction) of the models as reduced representation."
      ]
    },
    {
      "cell_type": "code",
      "metadata": {
        "id": "T6qv5F44iUHh"
      },
      "source": [
        "## 1. Create reduce representation\n",
        "# Valid data reduced representation\n",
        "repr_valid = np.argmax(end_to_end_model.predict(x_valid), axis=1)"
      ],
      "execution_count": null,
      "outputs": []
    },
    {
      "cell_type": "code",
      "metadata": {
        "id": "e-dh1godiUH1"
      },
      "source": [
        "# Gaussian test reduced representation\n",
        "repr_gaussian_large = np.argmax(end_to_end_model.predict(x_test_gaussian_large.reshape(len(x_test_gaussian_large), \n",
        "                                                                             ORIGINAL_SHAPE[0], \n",
        "                                                                             ORIGINAL_SHAPE[1],\n",
        "                                                                             ORIGINAL_SHAPE[2])), axis=1)\n",
        "repr_gaussian_medium = np.argmax(end_to_end_model.predict(x_test_gaussian_medium.reshape(len(x_test_gaussian_medium), \n",
        "                                                                             ORIGINAL_SHAPE[0], \n",
        "                                                                             ORIGINAL_SHAPE[1],\n",
        "                                                                             ORIGINAL_SHAPE[2])), axis=1)\n",
        "repr_gaussian_small = np.argmax(end_to_end_model.predict(x_test_gaussian_small.reshape(len(x_test_gaussian_small), \n",
        "                                                                             ORIGINAL_SHAPE[0], \n",
        "                                                                             ORIGINAL_SHAPE[1],\n",
        "                                                                             ORIGINAL_SHAPE[2])), axis=1)"
      ],
      "execution_count": null,
      "outputs": []
    },
    {
      "cell_type": "code",
      "metadata": {
        "id": "xKM_bN6QiUH1"
      },
      "source": [
        "# Image test reduced representation\n",
        "repr_img_large = np.argmax(end_to_end_model.predict(x_test_img_large.reshape(len(x_test_img_large), \n",
        "                                                                             ORIGINAL_SHAPE[0], \n",
        "                                                                             ORIGINAL_SHAPE[1],\n",
        "                                                                             ORIGINAL_SHAPE[2])), axis=1)\n",
        "repr_img_medium = np.argmax(end_to_end_model.predict(x_test_img_medium.reshape(len(x_test_img_medium), \n",
        "                                                                             ORIGINAL_SHAPE[0], \n",
        "                                                                             ORIGINAL_SHAPE[1],\n",
        "                                                                             ORIGINAL_SHAPE[2])), axis=1)\n",
        "repr_img_small = np.argmax(end_to_end_model.predict(x_test_img_small.reshape(len(x_test_img_small), \n",
        "                                                                             ORIGINAL_SHAPE[0], \n",
        "                                                                             ORIGINAL_SHAPE[1],\n",
        "                                                                             ORIGINAL_SHAPE[2])), axis=1)"
      ],
      "execution_count": null,
      "outputs": []
    },
    {
      "cell_type": "code",
      "metadata": {
        "id": "VkWOHM-0iUH2"
      },
      "source": [
        "# Knockout reduced representation\n",
        "repr_ko = np.argmax(end_to_end_model.predict(x_test_ko.reshape(len(x_test_ko), \n",
        "                                                    ORIGINAL_SHAPE[0], \n",
        "                                                    ORIGINAL_SHAPE[1],\n",
        "                                                    ORIGINAL_SHAPE[2])), axis=1)"
      ],
      "execution_count": null,
      "outputs": []
    },
    {
      "cell_type": "code",
      "metadata": {
        "colab": {
          "base_uri": "https://localhost:8080/"
        },
        "id": "femO3ZktiUH3",
        "outputId": "fcf08c26-c3d1-4630-b0e0-86c25a6f0b0f"
      },
      "source": [
        " ## Show new size \n",
        " print(f\"Size reduced valid: {repr_valid.shape}\")\n",
        " print(f\"Size reduced gaussian: {repr_gaussian_large.shape}\")\n",
        " print(f\"Size reduced img: {repr_img_medium.shape}\")\n",
        " print(f\"Size reduced ko: {repr_ko.shape}\")"
      ],
      "execution_count": null,
      "outputs": [
        {
          "output_type": "stream",
          "text": [
            "Size reduced valid: (15000,)\n",
            "Size reduced gaussian: (15000,)\n",
            "Size reduced img: (15000,)\n",
            "Size reduced ko: (9979,)\n"
          ],
          "name": "stdout"
        }
      ]
    },
    {
      "cell_type": "markdown",
      "metadata": {
        "id": "mfR05n42iUH4"
      },
      "source": [
        "#### Categorical Testing: Chi-Squared Test\n",
        "\n",
        "For BBSDh, Chi-Squared Test is most appropriate."
      ]
    },
    {
      "cell_type": "code",
      "metadata": {
        "colab": {
          "base_uri": "https://localhost:8080/"
        },
        "id": "_vfCz-ZJiUH5",
        "outputId": "eaad7b2e-43c4-4af3-b817-c6db1491f620"
      },
      "source": [
        "## Baseline (no-shift)\n",
        "chi2, p_val = test_chi2_shift(repr_valid, repr_valid, num_classes)\n",
        "alpha = 0.05 \n",
        "print(f\"p-value: {p_val}\")\n",
        "print(f\"Test statistics: {chi2}\")\n",
        "\n",
        "if p_val < alpha:\n",
        "    print(\"Minimum p-value < alpha, therefore reject null hypothesis and conclude that their distributions are different.\")\n",
        "else:\n",
        "    print(\"Minimum p-value > alpha, therefore cannot reject null hypothesis, not enough evidence to indicate their distributions are different.\")"
      ],
      "execution_count": null,
      "outputs": [
        {
          "output_type": "stream",
          "text": [
            "p-value: 1.0\n",
            "Test statistics: 0.0\n",
            "Minimum p-value > alpha, therefore cannot reject null hypothesis, not enough evidence to indicate their distributions are different.\n"
          ],
          "name": "stdout"
        }
      ]
    },
    {
      "cell_type": "code",
      "metadata": {
        "colab": {
          "base_uri": "https://localhost:8080/"
        },
        "id": "cmBmnR8BiUH6",
        "outputId": "1c766a87-56e0-4cec-bdbb-dec8559b5c73"
      },
      "source": [
        "## Large Gaussian (NOT DEFINED SINCE ZERO-ELEMENT CLASSES EXIST)\n",
        "chi2, p_val = test_chi2_shift(repr_gaussian_large, repr_valid, num_classes)\n",
        "alpha = 0.05 \n",
        "print(f\"p-value: {p_val}\")\n",
        "print(f\"Test statistics: {chi2}\")\n",
        "\n",
        "if p_val < alpha:\n",
        "    print(\"Minimum p-value < alpha, therefore reject null hypothesis and conclude that their distributions are different.\")\n",
        "else:\n",
        "    print(\"Minimum p-value > alpha, therefore cannot reject null hypothesis, not enough evidence to indicate their distributions are different.\")"
      ],
      "execution_count": null,
      "outputs": [
        {
          "output_type": "stream",
          "text": [
            "p-value: 0.0\n",
            "Test statistics: inf\n",
            "Minimum p-value < alpha, therefore reject null hypothesis and conclude that their distributions are different.\n"
          ],
          "name": "stdout"
        }
      ]
    },
    {
      "cell_type": "code",
      "metadata": {
        "colab": {
          "base_uri": "https://localhost:8080/"
        },
        "id": "5ehwEXHLiUH6",
        "outputId": "2d08e378-e844-49d1-a69d-cbc9ba9c645a"
      },
      "source": [
        "## Medium Gaussian\n",
        "chi2, p_val = test_chi2_shift(repr_gaussian_medium, repr_valid, num_classes)\n",
        "alpha = 0.05 \n",
        "print(f\"p-value: {p_val}\")\n",
        "print(f\"Test statistics: {chi2}\")\n",
        "\n",
        "if p_val < alpha:\n",
        "    print(\"Minimum p-value < alpha, therefore reject null hypothesis and conclude that their distributions are different.\")\n",
        "else:\n",
        "    print(\"Minimum p-value > alpha, therefore cannot reject null hypothesis, not enough evidence to indicate their distributions are different.\")"
      ],
      "execution_count": null,
      "outputs": [
        {
          "output_type": "stream",
          "text": [
            "p-value: 2.2197506931661226e-09\n",
            "Test statistics: 39.851741895488004\n",
            "Minimum p-value < alpha, therefore reject null hypothesis and conclude that their distributions are different.\n"
          ],
          "name": "stdout"
        }
      ]
    },
    {
      "cell_type": "code",
      "metadata": {
        "colab": {
          "base_uri": "https://localhost:8080/"
        },
        "id": "ffiWXSWxiUH7",
        "outputId": "f319ea6c-98ba-4f78-9c74-6b1c56d704b5"
      },
      "source": [
        "## Small Gaussian\n",
        "chi2, p_val = test_chi2_shift(repr_gaussian_small, repr_valid, num_classes)\n",
        "alpha = 0.05 \n",
        "print(f\"p-value: {p_val}\")\n",
        "print(f\"Test statistics: {chi2}\")\n",
        "\n",
        "if p_val < alpha:\n",
        "    print(\"Minimum p-value < alpha, therefore reject null hypothesis and conclude that their distributions are different.\")\n",
        "else:\n",
        "    print(\"Minimum p-value > alpha, therefore cannot reject null hypothesis, not enough evidence to indicate their distributions are different.\")"
      ],
      "execution_count": null,
      "outputs": [
        {
          "output_type": "stream",
          "text": [
            "p-value: 0.9779460952989871\n",
            "Test statistics: 0.04460145549506436\n",
            "Minimum p-value > alpha, therefore cannot reject null hypothesis, not enough evidence to indicate their distributions are different.\n"
          ],
          "name": "stdout"
        }
      ]
    },
    {
      "cell_type": "code",
      "metadata": {
        "colab": {
          "base_uri": "https://localhost:8080/"
        },
        "id": "0B-fDxl9iUH8",
        "outputId": "875bbb62-f5d5-47da-b5d2-7fc4c26db537"
      },
      "source": [
        "## Large Image\n",
        "chi2, p_val = test_chi2_shift(repr_img_large, repr_valid, num_classes)\n",
        "alpha = 0.05 \n",
        "print(f\"p-value: {p_val}\")\n",
        "print(f\"Test statistics: {chi2}\")\n",
        "\n",
        "if p_val < alpha:\n",
        "    print(\"Minimum p-value < alpha, therefore reject null hypothesis and conclude that their distributions are different.\")\n",
        "else:\n",
        "    print(\"Minimum p-value > alpha, therefore cannot reject null hypothesis, not enough evidence to indicate their distributions are different.\")"
      ],
      "execution_count": null,
      "outputs": [
        {
          "output_type": "stream",
          "text": [
            "p-value: 0.0\n",
            "Test statistics: 1474.2805810466673\n",
            "Minimum p-value < alpha, therefore reject null hypothesis and conclude that their distributions are different.\n"
          ],
          "name": "stdout"
        }
      ]
    },
    {
      "cell_type": "code",
      "metadata": {
        "colab": {
          "base_uri": "https://localhost:8080/"
        },
        "id": "DAPijFstiUH8",
        "outputId": "d0d1ebc7-7ce3-43c6-eae9-6fb6af4d9753"
      },
      "source": [
        "## Medium Image\n",
        "chi2, p_val = test_chi2_shift(repr_img_medium, repr_valid, num_classes)\n",
        "alpha = 0.05 \n",
        "print(f\"p-value: {p_val}\")\n",
        "print(f\"Test statistics: {chi2}\")\n",
        "\n",
        "if p_val < alpha:\n",
        "    print(\"Minimum p-value < alpha, therefore reject null hypothesis and conclude that their distributions are different.\")\n",
        "else:\n",
        "    print(\"Minimum p-value > alpha, therefore cannot reject null hypothesis, not enough evidence to indicate their distributions are different.\")"
      ],
      "execution_count": null,
      "outputs": [
        {
          "output_type": "stream",
          "text": [
            "p-value: 6.086181315411701e-15\n",
            "Test statistics: 65.46551110333226\n",
            "Minimum p-value < alpha, therefore reject null hypothesis and conclude that their distributions are different.\n"
          ],
          "name": "stdout"
        }
      ]
    },
    {
      "cell_type": "code",
      "metadata": {
        "colab": {
          "base_uri": "https://localhost:8080/"
        },
        "id": "_IBYdsxHiUH9",
        "outputId": "c1f28367-bd31-4fa2-d9fd-ba1147a06fc7"
      },
      "source": [
        "## Small Image\n",
        "chi2, p_val = test_chi2_shift(repr_img_small, repr_valid, num_classes)\n",
        "alpha = 0.05 \n",
        "print(f\"p-value: {p_val}\")\n",
        "print(f\"Test statistics: {chi2}\")\n",
        "\n",
        "if p_val < alpha:\n",
        "    print(\"Minimum p-value < alpha, therefore reject null hypothesis and conclude that their distributions are different.\")\n",
        "else:\n",
        "    print(\"Minimum p-value > alpha, therefore cannot reject null hypothesis, not enough evidence to indicate their distributions are different.\")"
      ],
      "execution_count": null,
      "outputs": [
        {
          "output_type": "stream",
          "text": [
            "p-value: 0.3193951808222982\n",
            "Test statistics: 2.2826522630715713\n",
            "Minimum p-value > alpha, therefore cannot reject null hypothesis, not enough evidence to indicate their distributions are different.\n"
          ],
          "name": "stdout"
        }
      ]
    },
    {
      "cell_type": "code",
      "metadata": {
        "colab": {
          "base_uri": "https://localhost:8080/"
        },
        "id": "1unig3CTiUH-",
        "outputId": "832f13b8-49d4-4560-8f3a-65c713bed4af"
      },
      "source": [
        "## Knockout\n",
        "chi2, p_val = test_chi2_shift(repr_ko, repr_valid, num_classes)\n",
        "alpha = 0.05 \n",
        "print(f\"p-value: {p_val}\")\n",
        "print(f\"Test statistics: {chi2}\")\n",
        "\n",
        "if p_val < alpha:\n",
        "    print(\"Minimum p-value < alpha, therefore reject null hypothesis and conclude that their distributions are different.\")\n",
        "else:\n",
        "    print(\"Minimum p-value > alpha, therefore cannot reject null hypothesis, not enough evidence to indicate their distributions are different.\")"
      ],
      "execution_count": null,
      "outputs": [
        {
          "output_type": "stream",
          "text": [
            "p-value: 0.0\n",
            "Test statistics: inf\n",
            "Minimum p-value < alpha, therefore reject null hypothesis and conclude that their distributions are different.\n"
          ],
          "name": "stdout"
        }
      ]
    },
    {
      "cell_type": "markdown",
      "metadata": {
        "id": "8u2YmhJUpEjm"
      },
      "source": [
        "## BBSD: Concept Bottleneck Models\n",
        "\n",
        "This section experiments on concept bottleneck models (CBMs). We use the output of these models (or the concepts) as the reduced representation before conducting the relevant statistical tests.\n",
        "\n"
      ]
    },
    {
      "cell_type": "markdown",
      "metadata": {
        "id": "qGzQ-3rHpWX3"
      },
      "source": [
        "### Input to Concept Model\n",
        "\n",
        "In this section, we will three input-to-concept models (ITC):\n",
        "1. **Multitask Model**: model with shared convolutional layers and multiple heads for respective task to predict color, shape, scale, rotation, x and y positions.\n",
        "2. **Ensemble Model**: concatenation of six individual models, where each predicts color, shape, scale, rotation, x and y positions respectively.\n",
        "3. **Binary Model**: model where concept values are binaries (e.g., last layers comprised neurons with sigmoid activation functions."
      ]
    },
    {
      "cell_type": "markdown",
      "metadata": {
        "id": "2cGzMGhEt0Cp"
      },
      "source": [
        "#### Multitask Model"
      ]
    },
    {
      "cell_type": "code",
      "metadata": {
        "id": "X7juMvzIpUuH"
      },
      "source": [
        "multitask_model = MultitaskModel()\n",
        "optimizer = tf.keras.optimizers.Adam(lr=1e-4, amsgrad=True)\n",
        "multitask_model.compile(optimizer=optimizer,\n",
        "                    loss=[\n",
        "                        tf.keras.losses.SparseCategoricalCrossentropy(from_logits=False),\n",
        "                        tf.keras.losses.SparseCategoricalCrossentropy(from_logits=False),\n",
        "                        tf.keras.losses.SparseCategoricalCrossentropy(from_logits=False),\n",
        "                        tf.keras.losses.SparseCategoricalCrossentropy(from_logits=False),\n",
        "                        tf.keras.losses.SparseCategoricalCrossentropy(from_logits=False),\n",
        "                        tf.keras.losses.SparseCategoricalCrossentropy(from_logits=False)\n",
        "                    ], metrics=[\"accuracy\"])\n",
        "lr_reducer = ReduceLROnPlateau(factor=np.sqrt(0.1), cooldown=0, patience=5, min_lr=0.5e-6)\n",
        "early_stopper = EarlyStopping(min_delta=0.001, patience=10)\n",
        "\n",
        "history = multitask_model.fit(x=x_train, y=[c_train[:, 0], c_train[:, 1], c_train[:, 2]\n",
        "                                  , c_train[:, 3], c_train[:, 4], c_train[:, 5]], \n",
        "                    epochs=200, batch_size=128,\n",
        "                    validation_data=(x_valid, [c_valid[:, 0], c_valid[:, 1], c_valid[:, 2]\n",
        "                                  , c_valid[:, 3], c_valid[:, 4], c_valid[:, 5]]),\n",
        "                              callbacks=[lr_reducer, early_stopper])"
      ],
      "execution_count": null,
      "outputs": []
    },
    {
      "cell_type": "code",
      "metadata": {
        "id": "BoSf22nfpUwA",
        "colab": {
          "base_uri": "https://localhost:8080/",
          "height": 483
        },
        "outputId": "798939af-b4ea-4025-b0c6-66065b265b5d"
      },
      "source": [
        "fig = plt.figure(figsize=(12, 8))\n",
        "ax1 = fig.add_subplot(231)\n",
        "ax2 = fig.add_subplot(232)\n",
        "ax3 = fig.add_subplot(233)\n",
        "ax4 = fig.add_subplot(234)\n",
        "ax5 = fig.add_subplot(235)\n",
        "ax6 = fig.add_subplot(236)\n",
        "axes = [ax1, ax2, ax3, ax4, ax5, ax6]\n",
        "\n",
        "# Plot training validation loss\n",
        "ax1.plot(history.history[\"color_loss\"], label=\"Training Loss\")\n",
        "ax1.plot(history.history[\"val_color_loss\"], label=\"Validation Loss\")\n",
        "\n",
        "ax2.plot(history.history[\"shape_loss\"], label=\"Training Loss\")\n",
        "ax2.plot(history.history[\"val_shape_loss\"], label=\"Validation Loss\")\n",
        "\n",
        "ax3.plot(history.history[\"scale_loss\"], label=\"Training Loss\")\n",
        "ax3.plot(history.history[\"val_scale_loss\"], label=\"Validation Loss\")\n",
        "\n",
        "ax4.plot(history.history[\"rotation_loss\"], label=\"Training Loss\")\n",
        "ax4.plot(history.history[\"val_rotation_loss\"], label=\"Validation Loss\")\n",
        "\n",
        "ax5.plot(history.history[\"x_loss\"], label=\"Training Loss\")\n",
        "ax5.plot(history.history[\"val_x_loss\"], label=\"Validation Loss\")\n",
        "\n",
        "ax6.plot(history.history[\"y_loss\"], label=\"Training Loss\")\n",
        "ax6.plot(history.history[\"val_y_loss\"], label=\"Validation Loss\")\n",
        "\n",
        "for ax in axes:\n",
        "    ax.legend()\n",
        "    ax.grid(True)\n",
        "plt.show()"
      ],
      "execution_count": 16,
      "outputs": [
        {
          "output_type": "display_data",
          "data": {
            "image/png": "[encoded data removed]",
            "text/plain": [
              "<Figure size 864x576 with 6 Axes>"
            ]
          },
          "metadata": {
            "tags": [],
            "needs_background": "light"
          }
        }
      ]
    },
    {
      "cell_type": "code",
      "metadata": {
        "id": "8rsCL4avtt1D",
        "colab": {
          "base_uri": "https://localhost:8080/"
        },
        "outputId": "2c5c72de-1e4a-46a3-f0ec-5bf34023daed"
      },
      "source": [
        "# Evaluation\n",
        "concept_names = [\"color\", \"shape\", \"scale\", \"rotation\", \"x\", \"y\"]\n",
        "for i, pred in enumerate(multitask_model.predict(x_test)):\n",
        "    print(\"*\"*20, f\"Model: {concept_names[i]}\", \"*\"*20)\n",
        "    c_truth = c_test[:, i]\n",
        "    c_pred = np.argmax(pred, axis=1)\n",
        "    \n",
        "    print(classification_report(c_truth, c_pred))\n",
        "    print(confusion_matrix(c_truth, c_pred))\n",
        "    print(\"\\n\\n\")"
      ],
      "execution_count": 15,
      "outputs": [
        {
          "output_type": "stream",
          "text": [
            "******************** Model: color ********************\n",
            "              precision    recall  f1-score   support\n",
            "\n",
            "           0       1.00      1.00      1.00     15000\n",
            "\n",
            "    accuracy                           1.00     15000\n",
            "   macro avg       1.00      1.00      1.00     15000\n",
            "weighted avg       1.00      1.00      1.00     15000\n",
            "\n",
            "[[15000]]\n",
            "\n",
            "\n",
            "\n",
            "******************** Model: shape ********************\n",
            "              precision    recall  f1-score   support\n",
            "\n",
            "           0       1.00      1.00      1.00      4987\n",
            "           1       1.00      1.00      1.00      5065\n",
            "           2       1.00      1.00      1.00      4948\n",
            "\n",
            "    accuracy                           1.00     15000\n",
            "   macro avg       1.00      1.00      1.00     15000\n",
            "weighted avg       1.00      1.00      1.00     15000\n",
            "\n",
            "[[4987    0    0]\n",
            " [   0 5065    0]\n",
            " [   0    0 4948]]\n",
            "\n",
            "\n",
            "\n",
            "******************** Model: scale ********************\n",
            "              precision    recall  f1-score   support\n",
            "\n",
            "           0       1.00      1.00      1.00      2448\n",
            "           1       1.00      1.00      1.00      2464\n",
            "           2       1.00      1.00      1.00      2547\n",
            "           3       1.00      1.00      1.00      2515\n",
            "           4       1.00      0.99      0.99      2533\n",
            "           5       0.99      1.00      1.00      2493\n",
            "\n",
            "    accuracy                           1.00     15000\n",
            "   macro avg       1.00      1.00      1.00     15000\n",
            "weighted avg       1.00      1.00      1.00     15000\n",
            "\n",
            "[[2448    0    0    0    0    0]\n",
            " [   2 2462    0    0    0    0]\n",
            " [   0    0 2547    0    0    0]\n",
            " [   0    0    3 2510    2    0]\n",
            " [   0    0    0    0 2508   25]\n",
            " [   0    0    0    0    0 2493]]\n",
            "\n",
            "\n",
            "\n",
            "******************** Model: rotation ********************\n",
            "              precision    recall  f1-score   support\n",
            "\n",
            "           0       0.26      0.39      0.31       385\n",
            "           1       0.55      0.45      0.50       404\n",
            "           2       0.56      0.59      0.57       351\n",
            "           3       0.63      0.38      0.47       361\n",
            "           4       0.39      0.61      0.48       353\n",
            "           5       0.40      0.27      0.32       372\n",
            "           6       0.43      0.41      0.42       380\n",
            "           7       0.52      0.75      0.62       387\n",
            "           8       0.54      0.52      0.53       359\n",
            "           9       0.57      0.68      0.62       386\n",
            "          10       0.64      0.36      0.46       398\n",
            "          11       0.46      0.26      0.34       385\n",
            "          12       0.55      0.73      0.62       390\n",
            "          13       0.50      0.59      0.54       341\n",
            "          14       0.48      0.55      0.51       370\n",
            "          15       0.48      0.70      0.57       381\n",
            "          16       0.53      0.66      0.59       359\n",
            "          17       0.59      0.65      0.62       380\n",
            "          18       0.69      0.43      0.53       381\n",
            "          19       0.52      0.37      0.43       408\n",
            "          20       0.41      0.46      0.43       355\n",
            "          21       0.58      0.48      0.53       364\n",
            "          22       0.48      0.71      0.57       365\n",
            "          23       0.47      0.48      0.48       395\n",
            "          24       0.34      0.46      0.39       366\n",
            "          25       0.43      0.60      0.50       400\n",
            "          26       0.65      0.39      0.49       409\n",
            "          27       0.48      0.43      0.46       361\n",
            "          28       0.59      0.48      0.53       355\n",
            "          29       0.55      0.35      0.42       343\n",
            "          30       0.43      0.61      0.51       339\n",
            "          31       0.42      0.54      0.47       395\n",
            "          32       0.66      0.21      0.32       367\n",
            "          33       0.48      0.67      0.56       389\n",
            "          34       0.62      0.33      0.43       390\n",
            "          35       0.60      0.30      0.41       397\n",
            "          36       0.64      0.54      0.59       353\n",
            "          37       0.54      0.65      0.59       353\n",
            "          38       0.52      0.38      0.44       376\n",
            "          39       0.29      0.32      0.31       397\n",
            "\n",
            "    accuracy                           0.49     15000\n",
            "   macro avg       0.51      0.49      0.49     15000\n",
            "weighted avg       0.51      0.49      0.49     15000\n",
            "\n",
            "[[149   5   0 ...   0   3 153]\n",
            " [ 11 182   3 ...   0   2   6]\n",
            " [  0   5 207 ...   0   0   0]\n",
            " ...\n",
            " [  0   2   1 ... 228   4   0]\n",
            " [ 29   0   0 ...   0 143  22]\n",
            " [178  13   0 ...   0   5 127]]\n",
            "\n",
            "\n",
            "\n",
            "******************** Model: x ********************\n",
            "              precision    recall  f1-score   support\n",
            "\n",
            "           0       0.97      0.88      0.93       493\n",
            "           1       0.85      0.88      0.86       503\n",
            "           2       0.82      0.90      0.86       464\n",
            "           3       0.84      0.88      0.86       454\n",
            "           4       0.90      0.84      0.87       469\n",
            "           5       0.91      0.82      0.86       483\n",
            "           6       0.83      0.90      0.87       465\n",
            "           7       0.86      0.85      0.85       455\n",
            "           8       0.88      0.83      0.85       457\n",
            "           9       0.85      0.88      0.86       457\n",
            "          10       0.84      0.92      0.88       425\n",
            "          11       0.91      0.85      0.88       465\n",
            "          12       0.85      0.86      0.86       498\n",
            "          13       0.83      0.89      0.86       473\n",
            "          14       0.89      0.86      0.88       469\n",
            "          15       0.93      0.86      0.89       467\n",
            "          16       0.87      0.90      0.88       474\n",
            "          17       0.85      0.87      0.86       471\n",
            "          18       0.86      0.91      0.88       478\n",
            "          19       0.94      0.88      0.91       486\n",
            "          20       0.91      0.90      0.91       434\n",
            "          21       0.89      0.89      0.89       502\n",
            "          22       0.88      0.84      0.86       484\n",
            "          23       0.83      0.89      0.86       477\n",
            "          24       0.87      0.84      0.85       471\n",
            "          25       0.85      0.82      0.83       460\n",
            "          26       0.84      0.87      0.85       452\n",
            "          27       0.83      0.90      0.87       432\n",
            "          28       0.92      0.80      0.86       466\n",
            "          29       0.83      0.92      0.87       477\n",
            "          30       0.89      0.82      0.85       478\n",
            "          31       0.91      0.96      0.93       461\n",
            "\n",
            "    accuracy                           0.87     15000\n",
            "   macro avg       0.87      0.87      0.87     15000\n",
            "weighted avg       0.87      0.87      0.87     15000\n",
            "\n",
            "[[436  57   0 ...   0   0   0]\n",
            " [ 12 443  48 ...   0   0   0]\n",
            " [  0  22 416 ...   0   0   0]\n",
            " ...\n",
            " [  0   0   0 ... 437  27   2]\n",
            " [  0   0   0 ...  46 390  41]\n",
            " [  0   0   0 ...   0  19 442]]\n",
            "\n",
            "\n",
            "\n",
            "******************** Model: y ********************\n",
            "              precision    recall  f1-score   support\n",
            "\n",
            "           0       0.88      0.94      0.91       462\n",
            "           1       0.90      0.76      0.83       491\n",
            "           2       0.82      0.92      0.87       476\n",
            "           3       0.86      0.85      0.86       461\n",
            "           4       0.87      0.83      0.85       494\n",
            "           5       0.84      0.84      0.84       478\n",
            "           6       0.88      0.83      0.85       453\n",
            "           7       0.85      0.88      0.86       472\n",
            "           8       0.85      0.91      0.88       461\n",
            "           9       0.85      0.89      0.87       470\n",
            "          10       0.88      0.83      0.85       463\n",
            "          11       0.87      0.85      0.86       457\n",
            "          12       0.84      0.87      0.85       449\n",
            "          13       0.90      0.87      0.89       471\n",
            "          14       0.90      0.90      0.90       467\n",
            "          15       0.88      0.81      0.85       422\n",
            "          16       0.80      0.87      0.83       502\n",
            "          17       0.85      0.79      0.82       453\n",
            "          18       0.88      0.89      0.89       439\n",
            "          19       0.85      0.91      0.88       476\n",
            "          20       0.87      0.84      0.86       496\n",
            "          21       0.88      0.85      0.86       485\n",
            "          22       0.88      0.85      0.86       469\n",
            "          23       0.87      0.85      0.86       467\n",
            "          24       0.85      0.84      0.85       470\n",
            "          25       0.81      0.89      0.85       446\n",
            "          26       0.84      0.92      0.88       502\n",
            "          27       0.89      0.86      0.87       439\n",
            "          28       0.93      0.82      0.87       459\n",
            "          29       0.88      0.89      0.89       498\n",
            "          30       0.84      0.87      0.85       484\n",
            "          31       0.90      0.92      0.91       468\n",
            "\n",
            "    accuracy                           0.86     15000\n",
            "   macro avg       0.87      0.86      0.86     15000\n",
            "weighted avg       0.86      0.86      0.86     15000\n",
            "\n",
            "[[433  29   0 ...   0   0   0]\n",
            " [ 59 373  59 ...   0   0   0]\n",
            " [  0  11 438 ...   0   0   0]\n",
            " ...\n",
            " [  0   0   0 ... 444  43   0]\n",
            " [  0   0   0 ...  15 421  48]\n",
            " [  0   0   0 ...   0  37 431]]\n",
            "\n",
            "\n",
            "\n"
          ],
          "name": "stdout"
        }
      ]
    },
    {
      "cell_type": "markdown",
      "metadata": {
        "id": "W67Xm5wbuHp3"
      },
      "source": [
        "#### Ensemble Model"
      ]
    },
    {
      "cell_type": "code",
      "metadata": {
        "id": "fIOpByTvuNrj"
      },
      "source": [
        "epochs = 200\n",
        "batch_size = 128\n",
        "histories = []\n",
        "ensemble_model = EnsembleModel()\n",
        "lr_reducer = ReduceLROnPlateau(factor=np.sqrt(0.1), cooldown=0, patience=5, min_lr=0.5e-6)\n",
        "early_stopper = EarlyStopping(min_delta=0.001, patience=10)\n",
        "\n",
        "# Train model\n",
        "for i, m in enumerate(ensemble_model):\n",
        "    optimizer = tf.keras.optimizers.Adam(lr=1e-4, amsgrad=True)\n",
        "\n",
        "    m.compile(optimizer=optimizer,\n",
        "                  loss=tf.keras.losses.SparseCategoricalCrossentropy(from_logits=False),\n",
        "                  metrics=['accuracy'])\n",
        "    \n",
        "    history = m.fit(x=x_train, y=c_train[:, i], \n",
        "                    epochs=epochs, \n",
        "                    batch_size=batch_size, \n",
        "                    validation_data=(x_valid, c_valid[:, i]),\n",
        "                    callbacks=[lr_reducer, early_stopper])\n",
        "    histories.append(history)"
      ],
      "execution_count": null,
      "outputs": []
    },
    {
      "cell_type": "code",
      "metadata": {
        "id": "tQp30DczuNuF"
      },
      "source": [
        "# Plot training-validation loss\n",
        "fig = plt.figure(figsize=(12, 8))\n",
        "ax1 = fig.add_subplot(231)\n",
        "ax2 = fig.add_subplot(232)\n",
        "ax3 = fig.add_subplot(233)\n",
        "ax4 = fig.add_subplot(234)\n",
        "ax5 = fig.add_subplot(235)\n",
        "ax6 = fig.add_subplot(236)\n",
        "axes = [ax1, ax2, ax3, ax4, ax5, ax6]\n",
        "\n",
        "# Plot training validation loss\n",
        "for ax, history in zip(axes, histories):\n",
        "    ax.plot(history.history[\"loss\"], label=\"Training Loss\")\n",
        "    ax.plot(history.history[\"val_loss\"], label=\"Validation Loss\")\n",
        "\n",
        "    ax.grid(True)\n",
        "    ax.legend()\n",
        "plt.show()"
      ],
      "execution_count": null,
      "outputs": []
    },
    {
      "cell_type": "code",
      "metadata": {
        "id": "N7pqB6jPuenu"
      },
      "source": [
        "# Evaluation of ensemble model\n",
        "for i, model in enumerate(ensemble_model):\n",
        "    print(\"*\"*20, f\"Model: {concept_names[i]}\", \"*\"*20)\n",
        "    c_truth = c_test[:, i]\n",
        "    c_pred = np.argmax(model.predict(x_test), axis=1)\n",
        "    print(classification_report(c_truth, c_pred))\n",
        "    print(confusion_matrix(c_truth, c_pred))\n",
        "    print(\"\\n\\n\")"
      ],
      "execution_count": null,
      "outputs": []
    },
    {
      "cell_type": "markdown",
      "metadata": {
        "id": "Z1lFimhpukqI"
      },
      "source": [
        "#### Binary Model"
      ]
    },
    {
      "cell_type": "code",
      "metadata": {
        "id": "CikEbOwIuqV-"
      },
      "source": [
        "# Modify training data so that it fits with the task\n",
        "x_train = x_train\n",
        "x_valid = x_valid\n",
        "\n",
        "rows = np.arange(x_train.shape[0])\n",
        "# Construct one-hot-encoding version for training\n",
        "c_train_color = np.zeros((x_train.shape[0], 1))\n",
        "c_train_shape = np.zeros((x_train.shape[0], 3))\n",
        "c_train_shape[rows, c_train[:,1]] = 1\n",
        "c_train_scale = np.zeros((x_train.shape[0], 6))\n",
        "c_train_scale[rows, c_train[:,2]] = 1\n",
        "c_train_rotation = np.zeros((x_train.shape[0], 40))\n",
        "c_train_rotation[rows, c_train[:,3]] = 1\n",
        "c_train_x = np.zeros((x_train.shape[0], 32))\n",
        "c_train_x[rows, c_train[:,4]] = 1\n",
        "c_train_y = np.zeros((x_train.shape[0], 32))\n",
        "c_train_y[rows, c_train[:,5]] = 1\n",
        "\n",
        "new_c_train = np.hstack([c_train_color, c_train_shape, c_train_scale, c_train_rotation, c_train_x, c_train_y])\n",
        "\n",
        "rows = np.arange(x_valid.shape[0])\n",
        "# Construct one-hot-encoding version for validation\n",
        "c_valid_color = np.zeros((x_valid.shape[0], 1))\n",
        "c_valid_shape = np.zeros((x_valid.shape[0], 3))\n",
        "c_valid_shape[rows, c_valid[:,1]] = 1\n",
        "c_valid_scale = np.zeros((x_valid.shape[0], 6))\n",
        "c_valid_scale[rows, c_valid[:,2]] = 1\n",
        "c_valid_rotation = np.zeros((x_valid.shape[0], 40))\n",
        "c_valid_rotation[rows, c_valid[:,3]] = 1\n",
        "c_valid_x = np.zeros((x_valid.shape[0], 32))\n",
        "c_valid_x[rows, c_valid[:,4]] = 1\n",
        "c_valid_y = np.zeros((x_valid.shape[0], 32))\n",
        "c_valid_y[rows, c_valid[:,5]] = 1\n",
        "\n",
        "new_c_valid = np.hstack([c_valid_color, c_valid_shape, c_valid_scale, c_valid_rotation, c_valid_x, c_valid_y])"
      ],
      "execution_count": null,
      "outputs": []
    },
    {
      "cell_type": "code",
      "metadata": {
        "id": "nFqShjwkuqjh"
      },
      "source": [
        "# Train model\n",
        "binary_model = BinaryModel()\n",
        "optimizer = tf.keras.optimizers.Adam(lr=1e-4, amsgrad=True)\n",
        "binary_model.compile(optimizer=optimizer,\n",
        "            loss=tf.keras.losses.BinaryCrossentropy(from_logits=False),\n",
        "            metrics=['accuracy'])\n",
        "lr_reducer = ReduceLROnPlateau(factor=np.sqrt(0.1), cooldown=0, patience=5, min_lr=0.5e-6)\n",
        "early_stopper = EarlyStopping(min_delta=0.001, patience=10)\n",
        "    \n",
        "history = binary_model.fit(x=x_train, y=new_c_train, \n",
        "                           epochs=200, batch_size=128, \n",
        "                           validation_data=(x_valid, new_c_valid),\n",
        "                           callbacks=[lr_reducer, early_stopper])"
      ],
      "execution_count": null,
      "outputs": []
    },
    {
      "cell_type": "code",
      "metadata": {
        "id": "_Y0mZ0xCuy6a"
      },
      "source": [
        "# Plot training-validation loss\n",
        "fig = plt.figure(figsize=(4, 4))\n",
        "ax = fig.add_subplot(111)\n",
        "\n",
        "ax.plot(history.history[\"loss\"], label=\"Training Loss\")\n",
        "ax.plot(history.history[\"val_loss\"], label=\"Validation Loss\")\n",
        "\n",
        "ax.grid(True)\n",
        "ax.legend()\n",
        "plt.show()"
      ],
      "execution_count": null,
      "outputs": []
    },
    {
      "cell_type": "code",
      "metadata": {
        "id": "7p3uBufKu7ou"
      },
      "source": [
        "c_test_color = np.argmax(binary_model.predict(x_test)[:, :1], axis=1)\n",
        "c_test_shape = np.argmax(binary_model.predict(x_test)[:, 1:4], axis=1)\n",
        "c_test_scale = np.argmax(binary_model.predict(x_test)[:, 4:10], axis=1)\n",
        "c_test_rotation = np.argmax(binary_model.predict(x_test)[:, 10:50], axis=1)\n",
        "c_test_x = np.argmax(binary_model.predict(x_test)[:, 50:82], axis=1)\n",
        "c_test_y = np.argmax(binary_model.predict(x_test)[:, 82:114], axis=1)\n",
        "\n",
        "c_pred = np.stack([c_test_color, c_test_shape, c_test_scale, c_test_rotation, c_test_x, c_test_y], axis=1)"
      ],
      "execution_count": null,
      "outputs": []
    },
    {
      "cell_type": "code",
      "metadata": {
        "id": "O00KBeghu8qp"
      },
      "source": [
        "concept_names = [\"color\", \"shape\", \"scale\", \"rotation\", \"x\", \"y\"]\n",
        "for i, concept in enumerate(concept_names):\n",
        "    print(\"*\"*20, f\"Model: {concept_names[i]}\", \"*\"*20)\n",
        "    c_truth = c_test[:, i]\n",
        "    c_pre = c_pred[:, i]\n",
        "    \n",
        "    print(classification_report(c_truth, c_pre))\n",
        "    print(confusion_matrix(c_truth, c_pre))\n",
        "    print(\"\\n\\n\")"
      ],
      "execution_count": null,
      "outputs": []
    },
    {
      "cell_type": "markdown",
      "metadata": {
        "id": "Srub9cvgpbsC"
      },
      "source": [
        "### Concept to Output Model\n",
        "\n",
        "In this section, we will train concept to output model. The model will take concepts as input and shape as output. We follow *Independent Bottleneck* training procedure."
      ]
    },
    {
      "cell_type": "code",
      "metadata": {
        "id": "IFnENpjkpb5s",
        "colab": {
          "base_uri": "https://localhost:8080/"
        },
        "outputId": "655079ad-f074-4ff8-f762-be6ba78aaf9d"
      },
      "source": [
        "# Build and train model\n",
        "com = DecisionTreeClassifier()\n",
        "com.fit(c_train, y_train)"
      ],
      "execution_count": 17,
      "outputs": [
        {
          "output_type": "execute_result",
          "data": {
            "text/plain": [
              "DecisionTreeClassifier(ccp_alpha=0.0, class_weight=None, criterion='gini',\n",
              "                       max_depth=None, max_features=None, max_leaf_nodes=None,\n",
              "                       min_impurity_decrease=0.0, min_impurity_split=None,\n",
              "                       min_samples_leaf=1, min_samples_split=2,\n",
              "                       min_weight_fraction_leaf=0.0, presort='deprecated',\n",
              "                       random_state=None, splitter='best')"
            ]
          },
          "metadata": {
            "tags": []
          },
          "execution_count": 17
        }
      ]
    },
    {
      "cell_type": "code",
      "metadata": {
        "id": "K7CJ_aJSpb72",
        "colab": {
          "base_uri": "https://localhost:8080/"
        },
        "outputId": "fe4cd043-3b60-40dc-cb81-4bf7a31abd56"
      },
      "source": [
        "y_test_pred = com.predict(c_test)\n",
        "print(classification_report(y_test_pred, y_test))\n",
        "print(confusion_matrix(y_test_pred, y_test))"
      ],
      "execution_count": 18,
      "outputs": [
        {
          "output_type": "stream",
          "text": [
            "              precision    recall  f1-score   support\n",
            "\n",
            "           0       1.00      1.00      1.00      4987\n",
            "           1       1.00      1.00      1.00      5065\n",
            "           2       1.00      1.00      1.00      4948\n",
            "\n",
            "    accuracy                           1.00     15000\n",
            "   macro avg       1.00      1.00      1.00     15000\n",
            "weighted avg       1.00      1.00      1.00     15000\n",
            "\n",
            "[[4987    0    0]\n",
            " [   0 5065    0]\n",
            " [   0    0 4948]]\n"
          ],
          "name": "stdout"
        }
      ]
    },
    {
      "cell_type": "markdown",
      "metadata": {
        "id": "H4lCf1w1pTfI"
      },
      "source": [
        "### BBSDs (Concepts)\n",
        "Using the softmax outputs of the models as the reduced representation."
      ]
    },
    {
      "cell_type": "code",
      "metadata": {
        "id": "900S9nVnpEjp"
      },
      "source": [
        "## Valid reduced representation\n",
        "concept_names = [\"color\", \"shape\", \"scale\", \"rotation\", \"x\", \"y\"]\n",
        "preds = multitask_model.predict(x_valid)\n",
        "color_repr_valid = preds[0]\n",
        "shape_repr_valid = preds[1]\n",
        "scale_repr_valid = preds[2]\n",
        "rotation_repr_valid = preds[3]\n",
        "x_repr_valid = preds[4]\n",
        "y_repr_valid = preds[5]\n",
        "\n",
        "# Store in list\n",
        "repr_valids = [color_repr_valid, shape_repr_valid, scale_repr_valid, rotation_repr_valid, x_repr_valid, y_repr_valid]"
      ],
      "execution_count": 28,
      "outputs": []
    },
    {
      "cell_type": "code",
      "metadata": {
        "id": "LS_qFSENpEjp"
      },
      "source": [
        "# Gaussian test reduced representation\n",
        "gaussian_preds = multitask_model.predict(x_test_gaussian_large.reshape(len(x_test_gaussian_large), \n",
        "                                                                             ORIGINAL_SHAPE[0], \n",
        "                                                                             ORIGINAL_SHAPE[1],\n",
        "                                                                             ORIGINAL_SHAPE[2]))\n",
        "color_repr_gaussian = gaussian_preds[0]\n",
        "shape_repr_gaussian = gaussian_preds[1]\n",
        "scale_repr_gaussian = gaussian_preds[2]\n",
        "rotation_repr_gaussian = gaussian_preds[3]\n",
        "x_repr_gaussian = gaussian_preds[4]\n",
        "y_repr_gaussian = gaussian_preds[5]\n",
        "\n",
        "# Store in list\n",
        "repr_gaussians = [color_repr_gaussian, shape_repr_gaussian, scale_repr_gaussian, rotation_repr_gaussian, x_repr_gaussian, y_repr_gaussian]"
      ],
      "execution_count": 29,
      "outputs": []
    },
    {
      "cell_type": "markdown",
      "metadata": {
        "id": "PETa0WEfFMNX"
      },
      "source": [
        "#### Multiple Univariate Testing"
      ]
    },
    {
      "cell_type": "code",
      "metadata": {
        "colab": {
          "base_uri": "https://localhost:8080/"
        },
        "id": "_17ciX2wFMqp",
        "outputId": "3f5344a6-5a55-4cb5-9efa-899feca6030b"
      },
      "source": [
        "## Statistical test\n",
        "classes = [1, 3, 6, 40, 32, 32]\n",
        "for concept, repr_valid, repr_gaussian in zip(concept_names, repr_valids, repr_gaussians):\n",
        "    print(\"\\n\", \"*\"*20, concept, \"*\"*20)\n",
        "    p_val, p_vals, t_vals = one_dimensional_test(repr_valid, repr_gaussian)\n",
        "    alpha = 0.05 / repr_valid.shape[1] # Divided by number of components for Bonferroni correction\n",
        "    print(f\"Minimum p-value: {p_val}\")\n",
        "    print(f\"Component p-values: {p_vals}\")\n",
        "    print(f\"Test statistics: {t_vals}\")\n",
        "    print(f\"Average test statistics: {np.mean(t_vals)}\")\n",
        "\n",
        "    if p_val < alpha:\n",
        "        print(\"Minimum p-value < alpha; reject H0\")\n",
        "    else:\n",
        "        print(\"Minimum p-value > alpha; not reject H0\")"
      ],
      "execution_count": 31,
      "outputs": [
        {
          "output_type": "stream",
          "text": [
            "\n",
            " ******************** color ********************\n",
            "Minimum p-value: 1.0\n",
            "Component p-values: [1.]\n",
            "Test statistics: [-0.0]\n",
            "Average test statistics: 0.0\n",
            "Minimum p-value > alpha; not reject H0\n",
            "\n",
            " ******************** shape ********************\n",
            "Minimum p-value: 0.0\n",
            "Component p-values: [0. 0. 0.]\n",
            "Test statistics: [0.6299333333333333, 0.5468000000000001, 0.8183333333333334]\n",
            "Average test statistics: 0.6650222222222223\n",
            "Minimum p-value < alpha; reject H0\n",
            "\n",
            " ******************** scale ********************\n",
            "Minimum p-value: 0.0\n",
            "Component p-values: [0. 0. 0. 0. 0. 0.]\n",
            "Test statistics: [0.8912, 0.8878, 0.8916666666666666, 0.9438666666666666, 0.5112, 0.9994666666666667]\n",
            "Average test statistics: 0.8542\n",
            "Minimum p-value < alpha; reject H0\n",
            "\n",
            " ******************** rotation ********************\n",
            "Minimum p-value: 0.0\n",
            "Component p-values: [0.00e+000 0.00e+000 0.00e+000 0.00e+000 0.00e+000 0.00e+000 0.00e+000\n",
            " 0.00e+000 0.00e+000 1.76e-321 0.00e+000 0.00e+000 0.00e+000 0.00e+000\n",
            " 0.00e+000 0.00e+000 0.00e+000 0.00e+000 0.00e+000 0.00e+000 0.00e+000\n",
            " 0.00e+000 0.00e+000 0.00e+000 0.00e+000 0.00e+000 0.00e+000 0.00e+000\n",
            " 0.00e+000 0.00e+000 0.00e+000 0.00e+000 0.00e+000 0.00e+000 0.00e+000\n",
            " 0.00e+000 0.00e+000 0.00e+000 0.00e+000 0.00e+000]\n",
            "Test statistics: [0.3712, 0.4186000000000001, 0.47346666666666665, 0.4774666666666667, 0.44006666666666666, 0.3518, 0.3765333333333334, 0.3259333333333333, 0.2908666666666667, 0.22200000000000003, 0.35239999999999994, 0.4038, 0.39060000000000006, 0.40873333333333334, 0.3856, 0.3714666666666667, 0.39486666666666664, 0.3196, 0.31226666666666664, 0.27999999999999997, 0.418, 0.4808, 0.5045999999999999, 0.4632666666666666, 0.392, 0.3436, 0.3386, 0.2875333333333333, 0.236, 0.2566666666666667, 0.35733333333333334, 0.4129333333333333, 0.4192666666666666, 0.3966666666666667, 0.3714, 0.3767333333333333, 0.3644, 0.32726666666666665, 0.27040000000000003, 0.34819999999999995]\n",
            "Average test statistics: 0.3683233333333333\n",
            "Minimum p-value < alpha; reject H0\n",
            "\n",
            " ******************** x ********************\n",
            "Minimum p-value: 0.0\n",
            "Component p-values: [0. 0. 0. 0. 0. 0. 0. 0. 0. 0. 0. 0. 0. 0. 0. 0. 0. 0. 0. 0. 0. 0. 0. 0.\n",
            " 0. 0. 0. 0. 0. 0. 0. 0.]\n",
            "Test statistics: [0.6914, 0.5933333333333334, 0.4812, 0.45360000000000006, 0.369, 0.3518, 0.2698666666666666, 0.24353333333333327, 0.2413333333333334, 0.3356, 0.41000000000000003, 0.4519333333333333, 0.47653333333333336, 0.5378000000000001, 0.6301333333333333, 0.6934, 0.6717333333333333, 0.6597333333333334, 0.6382, 0.6403333333333333, 0.5030666666666666, 0.33533333333333337, 0.3423333333333334, 0.3917333333333333, 0.4010666666666667, 0.3190666666666667, 0.2666666666666667, 0.2622, 0.32266666666666666, 0.49293333333333333, 0.49740000000000006, 0.49686666666666673]\n",
            "Average test statistics: 0.45224374999999994\n",
            "Minimum p-value < alpha; reject H0\n",
            "\n",
            " ******************** y ********************\n",
            "Minimum p-value: 0.0\n",
            "Component p-values: [0. 0. 0. 0. 0. 0. 0. 0. 0. 0. 0. 0. 0. 0. 0. 0. 0. 0. 0. 0. 0. 0. 0. 0.\n",
            " 0. 0. 0. 0. 0. 0. 0. 0.]\n",
            "Test statistics: [0.5518000000000001, 0.4865333333333333, 0.44633333333333336, 0.508, 0.5392, 0.5425333333333334, 0.48686666666666667, 0.48286666666666667, 0.5185333333333333, 0.5541333333333334, 0.5697333333333333, 0.5289333333333334, 0.5522666666666667, 0.6138666666666667, 0.6436666666666666, 0.7100666666666666, 0.7372, 0.6893333333333334, 0.644, 0.533, 0.44773333333333337, 0.47259999999999996, 0.5349333333333334, 0.5478, 0.5242, 0.5229333333333334, 0.5212000000000001, 0.6033333333333333, 0.6773333333333333, 0.6716, 0.6494, 0.595]\n",
            "Average test statistics: 0.5658416666666667\n",
            "Minimum p-value < alpha; reject H0\n"
          ],
          "name": "stdout"
        }
      ]
    },
    {
      "cell_type": "markdown",
      "metadata": {
        "id": "we7kTqLBpEjr"
      },
      "source": [
        "### BBSDh (Concepts)\n",
        "Using the hard outputs (prediction) of the models as reduced representation."
      ]
    },
    {
      "cell_type": "code",
      "metadata": {
        "id": "wPLx7-MnpEjs"
      },
      "source": [
        "## Valid reduced representation\n",
        "concept_names = [\"color\", \"shape\", \"scale\", \"rotation\", \"x\", \"y\"]\n",
        "preds = multitask_model.predict(x_valid)\n",
        "color_repr_valid = np.argmax(preds[0], axis=1)\n",
        "shape_repr_valid = np.argmax(preds[1], axis=1)\n",
        "scale_repr_valid = np.argmax(preds[2], axis=1)\n",
        "rotation_repr_valid = np.argmax(preds[3], axis=1)\n",
        "x_repr_valid = np.argmax(preds[4], axis=1)\n",
        "y_repr_valid = np.argmax(preds[5], axis=1)\n",
        "\n",
        "# Store in list\n",
        "repr_valids = [color_repr_valid, shape_repr_valid, scale_repr_valid, rotation_repr_valid, x_repr_valid, y_repr_valid]"
      ],
      "execution_count": 24,
      "outputs": []
    },
    {
      "cell_type": "code",
      "metadata": {
        "id": "gn1hyjURpEjs"
      },
      "source": [
        "# Gaussian test reduced representation\n",
        "gaussian_preds = multitask_model.predict(x_test_gaussian_large.reshape(len(x_test_gaussian_large), \n",
        "                                                                             ORIGINAL_SHAPE[0], \n",
        "                                                                             ORIGINAL_SHAPE[1],\n",
        "                                                                             ORIGINAL_SHAPE[2]))\n",
        "color_repr_gaussian = np.argmax(gaussian_preds[0], axis=1)\n",
        "shape_repr_gaussian = np.argmax(gaussian_preds[1], axis=1)\n",
        "scale_repr_gaussian = np.argmax(gaussian_preds[2], axis=1)\n",
        "rotation_repr_gaussian = np.argmax(gaussian_preds[3], axis=1)\n",
        "x_repr_gaussian = np.argmax(gaussian_preds[4], axis=1)\n",
        "y_repr_gaussian = np.argmax(gaussian_preds[5], axis=1)\n",
        "\n",
        "# Store in list\n",
        "repr_gaussians = [color_repr_gaussian, shape_repr_gaussian, scale_repr_gaussian, rotation_repr_gaussian, x_repr_gaussian, y_repr_gaussian]"
      ],
      "execution_count": 25,
      "outputs": []
    },
    {
      "cell_type": "markdown",
      "metadata": {
        "id": "Ny-FKDh4ELvn"
      },
      "source": [
        "#### Chi-Squared Test"
      ]
    },
    {
      "cell_type": "code",
      "metadata": {
        "id": "tbv9iZq7pEjt",
        "colab": {
          "base_uri": "https://localhost:8080/"
        },
        "outputId": "d1217e91-d3ab-40b4-ba14-bb6a3d5b6967"
      },
      "source": [
        "## Statistical test\n",
        "classes = [1, 3, 6, 40, 32, 32]\n",
        "for concept, repr_valid, repr_gaussian, num_classes in zip(concept_names, repr_valids, repr_gaussians, classes):\n",
        "    print(\"\\n\", \"*\"*20, concept, \"*\"*20)\n",
        "    chi2, p_val = test_chi2_shift(repr_valid, repr_gaussian, num_classes)\n",
        "    alpha = 0.05\n",
        "    print(f\"p-value: {p_val}\")\n",
        "    print(f\"Test statistics: {chi2}\")\n",
        "\n",
        "    if p_val < alpha:\n",
        "        print(\"Minimum p-value < alpha; reject H0\")\n",
        "    else:\n",
        "        print(\"Minimum p-value > alpha; not reject H0\")"
      ],
      "execution_count": 27,
      "outputs": [
        {
          "output_type": "stream",
          "text": [
            "\n",
            " ******************** color ********************\n",
            "p-value: 1.0\n",
            "Test statistics: 0.0\n",
            "Minimum p-value > alpha; not reject H0\n",
            "\n",
            " ******************** shape ********************\n",
            "p-value: 0.0\n",
            "Test statistics: 22171.25491834039\n",
            "Minimum p-value < alpha; reject H0\n",
            "\n",
            " ******************** scale ********************\n",
            "p-value: 0.0\n",
            "Test statistics: 76874.23438138016\n",
            "Minimum p-value < alpha; reject H0\n",
            "\n",
            " ******************** rotation ********************\n",
            "p-value: 0.0\n",
            "Test statistics: 51650.36655999373\n",
            "Minimum p-value < alpha; reject H0\n",
            "\n",
            " ******************** x ********************\n",
            "p-value: 0.0\n",
            "Test statistics: 9655.246410816573\n",
            "Minimum p-value < alpha; reject H0\n",
            "\n",
            " ******************** y ********************\n",
            "p-value: 0.0\n",
            "Test statistics: 24831.82313022606\n",
            "Minimum p-value < alpha; reject H0\n"
          ],
          "name": "stdout"
        }
      ]
    }
  ]
}