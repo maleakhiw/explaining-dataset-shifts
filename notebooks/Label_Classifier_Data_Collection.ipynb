{
  "nbformat": 4,
  "nbformat_minor": 0,
  "metadata": {
    "colab": {
      "name": "Label Classifier - Data Collection.ipynb",
      "provenance": [],
      "collapsed_sections": [
        "qGzQ-3rHpWX3",
        "thHTx2SU-rMJ",
        "6pvv83xOAUtJ",
        "sWGWuquMIenM"
      ],
      "machine_shape": "hm"
    },
    "kernelspec": {
      "name": "python3",
      "display_name": "Python 3"
    },
    "accelerator": "GPU",
    "widgets": {
      "application/vnd.jupyter.widget-state+json": {
        "8887688878624986860fdd9e261510ee": {
          "model_module": "@jupyter-widgets/controls",
          "model_name": "HBoxModel",
          "state": {
            "_view_name": "HBoxView",
            "_dom_classes": [],
            "_model_name": "HBoxModel",
            "_view_module": "@jupyter-widgets/controls",
            "_model_module_version": "1.5.0",
            "_view_count": null,
            "_view_module_version": "1.5.0",
            "box_style": "",
            "layout": "IPY_MODEL_aaebb58f33b9494e8acc8981e4caab4e",
            "_model_module": "@jupyter-widgets/controls",
            "children": [
              "IPY_MODEL_2b26c1d1a53e4620add879f916905a36",
              "IPY_MODEL_3d7257970c644943b0dcbc7b63a862db"
            ]
          }
        },
        "aaebb58f33b9494e8acc8981e4caab4e": {
          "model_module": "@jupyter-widgets/base",
          "model_name": "LayoutModel",
          "state": {
            "_view_name": "LayoutView",
            "grid_template_rows": null,
            "right": null,
            "justify_content": null,
            "_view_module": "@jupyter-widgets/base",
            "overflow": null,
            "_model_module_version": "1.2.0",
            "_view_count": null,
            "flex_flow": null,
            "width": null,
            "min_width": null,
            "border": null,
            "align_items": null,
            "bottom": null,
            "_model_module": "@jupyter-widgets/base",
            "top": null,
            "grid_column": null,
            "overflow_y": null,
            "overflow_x": null,
            "grid_auto_flow": null,
            "grid_area": null,
            "grid_template_columns": null,
            "flex": null,
            "_model_name": "LayoutModel",
            "justify_items": null,
            "grid_row": null,
            "max_height": null,
            "align_content": null,
            "visibility": null,
            "align_self": null,
            "height": null,
            "min_height": null,
            "padding": null,
            "grid_auto_rows": null,
            "grid_gap": null,
            "max_width": null,
            "order": null,
            "_view_module_version": "1.2.0",
            "grid_template_areas": null,
            "object_position": null,
            "object_fit": null,
            "grid_auto_columns": null,
            "margin": null,
            "display": null,
            "left": null
          }
        },
        "2b26c1d1a53e4620add879f916905a36": {
          "model_module": "@jupyter-widgets/controls",
          "model_name": "FloatProgressModel",
          "state": {
            "_view_name": "ProgressView",
            "style": "IPY_MODEL_840ce8bb63df4a2ab37f59e217328c51",
            "_dom_classes": [],
            "description": "100%",
            "_model_name": "FloatProgressModel",
            "bar_style": "success",
            "max": 3,
            "_view_module": "@jupyter-widgets/controls",
            "_model_module_version": "1.5.0",
            "value": 3,
            "_view_count": null,
            "_view_module_version": "1.5.0",
            "orientation": "horizontal",
            "min": 0,
            "description_tooltip": null,
            "_model_module": "@jupyter-widgets/controls",
            "layout": "IPY_MODEL_f10cad5890044d4e8321b85fa09a6449"
          }
        },
        "3d7257970c644943b0dcbc7b63a862db": {
          "model_module": "@jupyter-widgets/controls",
          "model_name": "HTMLModel",
          "state": {
            "_view_name": "HTMLView",
            "style": "IPY_MODEL_1e9a80cdb044404c87118043c6240df4",
            "_dom_classes": [],
            "description": "",
            "_model_name": "HTMLModel",
            "placeholder": "​",
            "_view_module": "@jupyter-widgets/controls",
            "_model_module_version": "1.5.0",
            "value": " 3/3 [14:04&lt;00:00, 281.57s/it]",
            "_view_count": null,
            "_view_module_version": "1.5.0",
            "description_tooltip": null,
            "_model_module": "@jupyter-widgets/controls",
            "layout": "IPY_MODEL_8798bef03f1c401db61b84ddbe4b4555"
          }
        },
        "840ce8bb63df4a2ab37f59e217328c51": {
          "model_module": "@jupyter-widgets/controls",
          "model_name": "ProgressStyleModel",
          "state": {
            "_view_name": "StyleView",
            "_model_name": "ProgressStyleModel",
            "description_width": "initial",
            "_view_module": "@jupyter-widgets/base",
            "_model_module_version": "1.5.0",
            "_view_count": null,
            "_view_module_version": "1.2.0",
            "bar_color": null,
            "_model_module": "@jupyter-widgets/controls"
          }
        },
        "f10cad5890044d4e8321b85fa09a6449": {
          "model_module": "@jupyter-widgets/base",
          "model_name": "LayoutModel",
          "state": {
            "_view_name": "LayoutView",
            "grid_template_rows": null,
            "right": null,
            "justify_content": null,
            "_view_module": "@jupyter-widgets/base",
            "overflow": null,
            "_model_module_version": "1.2.0",
            "_view_count": null,
            "flex_flow": null,
            "width": null,
            "min_width": null,
            "border": null,
            "align_items": null,
            "bottom": null,
            "_model_module": "@jupyter-widgets/base",
            "top": null,
            "grid_column": null,
            "overflow_y": null,
            "overflow_x": null,
            "grid_auto_flow": null,
            "grid_area": null,
            "grid_template_columns": null,
            "flex": null,
            "_model_name": "LayoutModel",
            "justify_items": null,
            "grid_row": null,
            "max_height": null,
            "align_content": null,
            "visibility": null,
            "align_self": null,
            "height": null,
            "min_height": null,
            "padding": null,
            "grid_auto_rows": null,
            "grid_gap": null,
            "max_width": null,
            "order": null,
            "_view_module_version": "1.2.0",
            "grid_template_areas": null,
            "object_position": null,
            "object_fit": null,
            "grid_auto_columns": null,
            "margin": null,
            "display": null,
            "left": null
          }
        },
        "1e9a80cdb044404c87118043c6240df4": {
          "model_module": "@jupyter-widgets/controls",
          "model_name": "DescriptionStyleModel",
          "state": {
            "_view_name": "StyleView",
            "_model_name": "DescriptionStyleModel",
            "description_width": "",
            "_view_module": "@jupyter-widgets/base",
            "_model_module_version": "1.5.0",
            "_view_count": null,
            "_view_module_version": "1.2.0",
            "_model_module": "@jupyter-widgets/controls"
          }
        },
        "8798bef03f1c401db61b84ddbe4b4555": {
          "model_module": "@jupyter-widgets/base",
          "model_name": "LayoutModel",
          "state": {
            "_view_name": "LayoutView",
            "grid_template_rows": null,
            "right": null,
            "justify_content": null,
            "_view_module": "@jupyter-widgets/base",
            "overflow": null,
            "_model_module_version": "1.2.0",
            "_view_count": null,
            "flex_flow": null,
            "width": null,
            "min_width": null,
            "border": null,
            "align_items": null,
            "bottom": null,
            "_model_module": "@jupyter-widgets/base",
            "top": null,
            "grid_column": null,
            "overflow_y": null,
            "overflow_x": null,
            "grid_auto_flow": null,
            "grid_area": null,
            "grid_template_columns": null,
            "flex": null,
            "_model_name": "LayoutModel",
            "justify_items": null,
            "grid_row": null,
            "max_height": null,
            "align_content": null,
            "visibility": null,
            "align_self": null,
            "height": null,
            "min_height": null,
            "padding": null,
            "grid_auto_rows": null,
            "grid_gap": null,
            "max_width": null,
            "order": null,
            "_view_module_version": "1.2.0",
            "grid_template_areas": null,
            "object_position": null,
            "object_fit": null,
            "grid_auto_columns": null,
            "margin": null,
            "display": null,
            "left": null
          }
        },
        "685ac0c277cc4a4989d92a7a26c239ad": {
          "model_module": "@jupyter-widgets/controls",
          "model_name": "HBoxModel",
          "state": {
            "_view_name": "HBoxView",
            "_dom_classes": [],
            "_model_name": "HBoxModel",
            "_view_module": "@jupyter-widgets/controls",
            "_model_module_version": "1.5.0",
            "_view_count": null,
            "_view_module_version": "1.5.0",
            "box_style": "",
            "layout": "IPY_MODEL_ea06c1f2230a4f18a96f0d1a78696802",
            "_model_module": "@jupyter-widgets/controls",
            "children": [
              "IPY_MODEL_1b452cdefee141efac2a55619c4781f4",
              "IPY_MODEL_77151d60d8e7484a8464f90babf19009"
            ]
          }
        },
        "ea06c1f2230a4f18a96f0d1a78696802": {
          "model_module": "@jupyter-widgets/base",
          "model_name": "LayoutModel",
          "state": {
            "_view_name": "LayoutView",
            "grid_template_rows": null,
            "right": null,
            "justify_content": null,
            "_view_module": "@jupyter-widgets/base",
            "overflow": null,
            "_model_module_version": "1.2.0",
            "_view_count": null,
            "flex_flow": null,
            "width": null,
            "min_width": null,
            "border": null,
            "align_items": null,
            "bottom": null,
            "_model_module": "@jupyter-widgets/base",
            "top": null,
            "grid_column": null,
            "overflow_y": null,
            "overflow_x": null,
            "grid_auto_flow": null,
            "grid_area": null,
            "grid_template_columns": null,
            "flex": null,
            "_model_name": "LayoutModel",
            "justify_items": null,
            "grid_row": null,
            "max_height": null,
            "align_content": null,
            "visibility": null,
            "align_self": null,
            "height": null,
            "min_height": null,
            "padding": null,
            "grid_auto_rows": null,
            "grid_gap": null,
            "max_width": null,
            "order": null,
            "_view_module_version": "1.2.0",
            "grid_template_areas": null,
            "object_position": null,
            "object_fit": null,
            "grid_auto_columns": null,
            "margin": null,
            "display": null,
            "left": null
          }
        },
        "1b452cdefee141efac2a55619c4781f4": {
          "model_module": "@jupyter-widgets/controls",
          "model_name": "FloatProgressModel",
          "state": {
            "_view_name": "ProgressView",
            "style": "IPY_MODEL_e5ce7011e59e430cb0d48cf4968e1cb5",
            "_dom_classes": [],
            "description": "100%",
            "_model_name": "FloatProgressModel",
            "bar_style": "success",
            "max": 3,
            "_view_module": "@jupyter-widgets/controls",
            "_model_module_version": "1.5.0",
            "value": 3,
            "_view_count": null,
            "_view_module_version": "1.5.0",
            "orientation": "horizontal",
            "min": 0,
            "description_tooltip": null,
            "_model_module": "@jupyter-widgets/controls",
            "layout": "IPY_MODEL_9282fa5ed9a34bc0a6577dfef213029d"
          }
        },
        "77151d60d8e7484a8464f90babf19009": {
          "model_module": "@jupyter-widgets/controls",
          "model_name": "HTMLModel",
          "state": {
            "_view_name": "HTMLView",
            "style": "IPY_MODEL_f75a176a6a384552b2f4c68e9042bb87",
            "_dom_classes": [],
            "description": "",
            "_model_name": "HTMLModel",
            "placeholder": "​",
            "_view_module": "@jupyter-widgets/controls",
            "_model_module_version": "1.5.0",
            "value": " 3/3 [12:24&lt;00:00, 248.03s/it]",
            "_view_count": null,
            "_view_module_version": "1.5.0",
            "description_tooltip": null,
            "_model_module": "@jupyter-widgets/controls",
            "layout": "IPY_MODEL_bae637f98c9e4c758d21d035d9ab6479"
          }
        },
        "e5ce7011e59e430cb0d48cf4968e1cb5": {
          "model_module": "@jupyter-widgets/controls",
          "model_name": "ProgressStyleModel",
          "state": {
            "_view_name": "StyleView",
            "_model_name": "ProgressStyleModel",
            "description_width": "initial",
            "_view_module": "@jupyter-widgets/base",
            "_model_module_version": "1.5.0",
            "_view_count": null,
            "_view_module_version": "1.2.0",
            "bar_color": null,
            "_model_module": "@jupyter-widgets/controls"
          }
        },
        "9282fa5ed9a34bc0a6577dfef213029d": {
          "model_module": "@jupyter-widgets/base",
          "model_name": "LayoutModel",
          "state": {
            "_view_name": "LayoutView",
            "grid_template_rows": null,
            "right": null,
            "justify_content": null,
            "_view_module": "@jupyter-widgets/base",
            "overflow": null,
            "_model_module_version": "1.2.0",
            "_view_count": null,
            "flex_flow": null,
            "width": null,
            "min_width": null,
            "border": null,
            "align_items": null,
            "bottom": null,
            "_model_module": "@jupyter-widgets/base",
            "top": null,
            "grid_column": null,
            "overflow_y": null,
            "overflow_x": null,
            "grid_auto_flow": null,
            "grid_area": null,
            "grid_template_columns": null,
            "flex": null,
            "_model_name": "LayoutModel",
            "justify_items": null,
            "grid_row": null,
            "max_height": null,
            "align_content": null,
            "visibility": null,
            "align_self": null,
            "height": null,
            "min_height": null,
            "padding": null,
            "grid_auto_rows": null,
            "grid_gap": null,
            "max_width": null,
            "order": null,
            "_view_module_version": "1.2.0",
            "grid_template_areas": null,
            "object_position": null,
            "object_fit": null,
            "grid_auto_columns": null,
            "margin": null,
            "display": null,
            "left": null
          }
        },
        "f75a176a6a384552b2f4c68e9042bb87": {
          "model_module": "@jupyter-widgets/controls",
          "model_name": "DescriptionStyleModel",
          "state": {
            "_view_name": "StyleView",
            "_model_name": "DescriptionStyleModel",
            "description_width": "",
            "_view_module": "@jupyter-widgets/base",
            "_model_module_version": "1.5.0",
            "_view_count": null,
            "_view_module_version": "1.2.0",
            "_model_module": "@jupyter-widgets/controls"
          }
        },
        "bae637f98c9e4c758d21d035d9ab6479": {
          "model_module": "@jupyter-widgets/base",
          "model_name": "LayoutModel",
          "state": {
            "_view_name": "LayoutView",
            "grid_template_rows": null,
            "right": null,
            "justify_content": null,
            "_view_module": "@jupyter-widgets/base",
            "overflow": null,
            "_model_module_version": "1.2.0",
            "_view_count": null,
            "flex_flow": null,
            "width": null,
            "min_width": null,
            "border": null,
            "align_items": null,
            "bottom": null,
            "_model_module": "@jupyter-widgets/base",
            "top": null,
            "grid_column": null,
            "overflow_y": null,
            "overflow_x": null,
            "grid_auto_flow": null,
            "grid_area": null,
            "grid_template_columns": null,
            "flex": null,
            "_model_name": "LayoutModel",
            "justify_items": null,
            "grid_row": null,
            "max_height": null,
            "align_content": null,
            "visibility": null,
            "align_self": null,
            "height": null,
            "min_height": null,
            "padding": null,
            "grid_auto_rows": null,
            "grid_gap": null,
            "max_width": null,
            "order": null,
            "_view_module_version": "1.2.0",
            "grid_template_areas": null,
            "object_position": null,
            "object_fit": null,
            "grid_auto_columns": null,
            "margin": null,
            "display": null,
            "left": null
          }
        },
        "5c16a845873f4741b360a8eb8711f30c": {
          "model_module": "@jupyter-widgets/controls",
          "model_name": "HBoxModel",
          "state": {
            "_view_name": "HBoxView",
            "_dom_classes": [],
            "_model_name": "HBoxModel",
            "_view_module": "@jupyter-widgets/controls",
            "_model_module_version": "1.5.0",
            "_view_count": null,
            "_view_module_version": "1.5.0",
            "box_style": "",
            "layout": "IPY_MODEL_236feb1a894d4d859d04b9f51e67c2dc",
            "_model_module": "@jupyter-widgets/controls",
            "children": [
              "IPY_MODEL_a0a5806e1b8e4057b163b0bffa2deab7",
              "IPY_MODEL_0e2cfec761b04c5db6c01e6ce6507f1e"
            ]
          }
        },
        "236feb1a894d4d859d04b9f51e67c2dc": {
          "model_module": "@jupyter-widgets/base",
          "model_name": "LayoutModel",
          "state": {
            "_view_name": "LayoutView",
            "grid_template_rows": null,
            "right": null,
            "justify_content": null,
            "_view_module": "@jupyter-widgets/base",
            "overflow": null,
            "_model_module_version": "1.2.0",
            "_view_count": null,
            "flex_flow": null,
            "width": null,
            "min_width": null,
            "border": null,
            "align_items": null,
            "bottom": null,
            "_model_module": "@jupyter-widgets/base",
            "top": null,
            "grid_column": null,
            "overflow_y": null,
            "overflow_x": null,
            "grid_auto_flow": null,
            "grid_area": null,
            "grid_template_columns": null,
            "flex": null,
            "_model_name": "LayoutModel",
            "justify_items": null,
            "grid_row": null,
            "max_height": null,
            "align_content": null,
            "visibility": null,
            "align_self": null,
            "height": null,
            "min_height": null,
            "padding": null,
            "grid_auto_rows": null,
            "grid_gap": null,
            "max_width": null,
            "order": null,
            "_view_module_version": "1.2.0",
            "grid_template_areas": null,
            "object_position": null,
            "object_fit": null,
            "grid_auto_columns": null,
            "margin": null,
            "display": null,
            "left": null
          }
        },
        "a0a5806e1b8e4057b163b0bffa2deab7": {
          "model_module": "@jupyter-widgets/controls",
          "model_name": "FloatProgressModel",
          "state": {
            "_view_name": "ProgressView",
            "style": "IPY_MODEL_13303a2215d645bb813335144c0ad7ef",
            "_dom_classes": [],
            "description": " 33%",
            "_model_name": "FloatProgressModel",
            "bar_style": "",
            "max": 3,
            "_view_module": "@jupyter-widgets/controls",
            "_model_module_version": "1.5.0",
            "value": 1,
            "_view_count": null,
            "_view_module_version": "1.5.0",
            "orientation": "horizontal",
            "min": 0,
            "description_tooltip": null,
            "_model_module": "@jupyter-widgets/controls",
            "layout": "IPY_MODEL_b9ca6148dbaf4d0cb8c6b8ff3dfae671"
          }
        },
        "0e2cfec761b04c5db6c01e6ce6507f1e": {
          "model_module": "@jupyter-widgets/controls",
          "model_name": "HTMLModel",
          "state": {
            "_view_name": "HTMLView",
            "style": "IPY_MODEL_ade18bbd5ba0408a802a163dcb66fc50",
            "_dom_classes": [],
            "description": "",
            "_model_name": "HTMLModel",
            "placeholder": "​",
            "_view_module": "@jupyter-widgets/controls",
            "_model_module_version": "1.5.0",
            "value": " 1/3 [04:03&lt;08:06, 243.47s/it]",
            "_view_count": null,
            "_view_module_version": "1.5.0",
            "description_tooltip": null,
            "_model_module": "@jupyter-widgets/controls",
            "layout": "IPY_MODEL_dab859cb657f4a99ae9fe46b1a3b8c7e"
          }
        },
        "13303a2215d645bb813335144c0ad7ef": {
          "model_module": "@jupyter-widgets/controls",
          "model_name": "ProgressStyleModel",
          "state": {
            "_view_name": "StyleView",
            "_model_name": "ProgressStyleModel",
            "description_width": "initial",
            "_view_module": "@jupyter-widgets/base",
            "_model_module_version": "1.5.0",
            "_view_count": null,
            "_view_module_version": "1.2.0",
            "bar_color": null,
            "_model_module": "@jupyter-widgets/controls"
          }
        },
        "b9ca6148dbaf4d0cb8c6b8ff3dfae671": {
          "model_module": "@jupyter-widgets/base",
          "model_name": "LayoutModel",
          "state": {
            "_view_name": "LayoutView",
            "grid_template_rows": null,
            "right": null,
            "justify_content": null,
            "_view_module": "@jupyter-widgets/base",
            "overflow": null,
            "_model_module_version": "1.2.0",
            "_view_count": null,
            "flex_flow": null,
            "width": null,
            "min_width": null,
            "border": null,
            "align_items": null,
            "bottom": null,
            "_model_module": "@jupyter-widgets/base",
            "top": null,
            "grid_column": null,
            "overflow_y": null,
            "overflow_x": null,
            "grid_auto_flow": null,
            "grid_area": null,
            "grid_template_columns": null,
            "flex": null,
            "_model_name": "LayoutModel",
            "justify_items": null,
            "grid_row": null,
            "max_height": null,
            "align_content": null,
            "visibility": null,
            "align_self": null,
            "height": null,
            "min_height": null,
            "padding": null,
            "grid_auto_rows": null,
            "grid_gap": null,
            "max_width": null,
            "order": null,
            "_view_module_version": "1.2.0",
            "grid_template_areas": null,
            "object_position": null,
            "object_fit": null,
            "grid_auto_columns": null,
            "margin": null,
            "display": null,
            "left": null
          }
        },
        "ade18bbd5ba0408a802a163dcb66fc50": {
          "model_module": "@jupyter-widgets/controls",
          "model_name": "DescriptionStyleModel",
          "state": {
            "_view_name": "StyleView",
            "_model_name": "DescriptionStyleModel",
            "description_width": "",
            "_view_module": "@jupyter-widgets/base",
            "_model_module_version": "1.5.0",
            "_view_count": null,
            "_view_module_version": "1.2.0",
            "_model_module": "@jupyter-widgets/controls"
          }
        },
        "dab859cb657f4a99ae9fe46b1a3b8c7e": {
          "model_module": "@jupyter-widgets/base",
          "model_name": "LayoutModel",
          "state": {
            "_view_name": "LayoutView",
            "grid_template_rows": null,
            "right": null,
            "justify_content": null,
            "_view_module": "@jupyter-widgets/base",
            "overflow": null,
            "_model_module_version": "1.2.0",
            "_view_count": null,
            "flex_flow": null,
            "width": null,
            "min_width": null,
            "border": null,
            "align_items": null,
            "bottom": null,
            "_model_module": "@jupyter-widgets/base",
            "top": null,
            "grid_column": null,
            "overflow_y": null,
            "overflow_x": null,
            "grid_auto_flow": null,
            "grid_area": null,
            "grid_template_columns": null,
            "flex": null,
            "_model_name": "LayoutModel",
            "justify_items": null,
            "grid_row": null,
            "max_height": null,
            "align_content": null,
            "visibility": null,
            "align_self": null,
            "height": null,
            "min_height": null,
            "padding": null,
            "grid_auto_rows": null,
            "grid_gap": null,
            "max_width": null,
            "order": null,
            "_view_module_version": "1.2.0",
            "grid_template_areas": null,
            "object_position": null,
            "object_fit": null,
            "grid_auto_columns": null,
            "margin": null,
            "display": null,
            "left": null
          }
        },
        "2fb3da50cc414171b1f5c184fbd279ba": {
          "model_module": "@jupyter-widgets/controls",
          "model_name": "HBoxModel",
          "state": {
            "_view_name": "HBoxView",
            "_dom_classes": [],
            "_model_name": "HBoxModel",
            "_view_module": "@jupyter-widgets/controls",
            "_model_module_version": "1.5.0",
            "_view_count": null,
            "_view_module_version": "1.5.0",
            "box_style": "",
            "layout": "IPY_MODEL_775c2458a5c94f11baec00ccdcfe6dc9",
            "_model_module": "@jupyter-widgets/controls",
            "children": [
              "IPY_MODEL_92d5ad7f027540d6bbecce6ee5116abc",
              "IPY_MODEL_3e2468bf1a2d4534bee5f4bc369f79f8"
            ]
          }
        },
        "775c2458a5c94f11baec00ccdcfe6dc9": {
          "model_module": "@jupyter-widgets/base",
          "model_name": "LayoutModel",
          "state": {
            "_view_name": "LayoutView",
            "grid_template_rows": null,
            "right": null,
            "justify_content": null,
            "_view_module": "@jupyter-widgets/base",
            "overflow": null,
            "_model_module_version": "1.2.0",
            "_view_count": null,
            "flex_flow": null,
            "width": null,
            "min_width": null,
            "border": null,
            "align_items": null,
            "bottom": null,
            "_model_module": "@jupyter-widgets/base",
            "top": null,
            "grid_column": null,
            "overflow_y": null,
            "overflow_x": null,
            "grid_auto_flow": null,
            "grid_area": null,
            "grid_template_columns": null,
            "flex": null,
            "_model_name": "LayoutModel",
            "justify_items": null,
            "grid_row": null,
            "max_height": null,
            "align_content": null,
            "visibility": null,
            "align_self": null,
            "height": null,
            "min_height": null,
            "padding": null,
            "grid_auto_rows": null,
            "grid_gap": null,
            "max_width": null,
            "order": null,
            "_view_module_version": "1.2.0",
            "grid_template_areas": null,
            "object_position": null,
            "object_fit": null,
            "grid_auto_columns": null,
            "margin": null,
            "display": null,
            "left": null
          }
        },
        "92d5ad7f027540d6bbecce6ee5116abc": {
          "model_module": "@jupyter-widgets/controls",
          "model_name": "FloatProgressModel",
          "state": {
            "_view_name": "ProgressView",
            "style": "IPY_MODEL_be0a557314b24a63a88cf940c72949fb",
            "_dom_classes": [],
            "description": "100%",
            "_model_name": "FloatProgressModel",
            "bar_style": "success",
            "max": 3,
            "_view_module": "@jupyter-widgets/controls",
            "_model_module_version": "1.5.0",
            "value": 3,
            "_view_count": null,
            "_view_module_version": "1.5.0",
            "orientation": "horizontal",
            "min": 0,
            "description_tooltip": null,
            "_model_module": "@jupyter-widgets/controls",
            "layout": "IPY_MODEL_062e7a2f0e124fa9bb8a760c0312f233"
          }
        },
        "3e2468bf1a2d4534bee5f4bc369f79f8": {
          "model_module": "@jupyter-widgets/controls",
          "model_name": "HTMLModel",
          "state": {
            "_view_name": "HTMLView",
            "style": "IPY_MODEL_5344c127348a4e2fbb5a2720908eb235",
            "_dom_classes": [],
            "description": "",
            "_model_name": "HTMLModel",
            "placeholder": "​",
            "_view_module": "@jupyter-widgets/controls",
            "_model_module_version": "1.5.0",
            "value": " 3/3 [09:43&lt;00:00, 194.36s/it]",
            "_view_count": null,
            "_view_module_version": "1.5.0",
            "description_tooltip": null,
            "_model_module": "@jupyter-widgets/controls",
            "layout": "IPY_MODEL_c6ebf95da925481d9342c23b17d31639"
          }
        },
        "be0a557314b24a63a88cf940c72949fb": {
          "model_module": "@jupyter-widgets/controls",
          "model_name": "ProgressStyleModel",
          "state": {
            "_view_name": "StyleView",
            "_model_name": "ProgressStyleModel",
            "description_width": "initial",
            "_view_module": "@jupyter-widgets/base",
            "_model_module_version": "1.5.0",
            "_view_count": null,
            "_view_module_version": "1.2.0",
            "bar_color": null,
            "_model_module": "@jupyter-widgets/controls"
          }
        },
        "062e7a2f0e124fa9bb8a760c0312f233": {
          "model_module": "@jupyter-widgets/base",
          "model_name": "LayoutModel",
          "state": {
            "_view_name": "LayoutView",
            "grid_template_rows": null,
            "right": null,
            "justify_content": null,
            "_view_module": "@jupyter-widgets/base",
            "overflow": null,
            "_model_module_version": "1.2.0",
            "_view_count": null,
            "flex_flow": null,
            "width": null,
            "min_width": null,
            "border": null,
            "align_items": null,
            "bottom": null,
            "_model_module": "@jupyter-widgets/base",
            "top": null,
            "grid_column": null,
            "overflow_y": null,
            "overflow_x": null,
            "grid_auto_flow": null,
            "grid_area": null,
            "grid_template_columns": null,
            "flex": null,
            "_model_name": "LayoutModel",
            "justify_items": null,
            "grid_row": null,
            "max_height": null,
            "align_content": null,
            "visibility": null,
            "align_self": null,
            "height": null,
            "min_height": null,
            "padding": null,
            "grid_auto_rows": null,
            "grid_gap": null,
            "max_width": null,
            "order": null,
            "_view_module_version": "1.2.0",
            "grid_template_areas": null,
            "object_position": null,
            "object_fit": null,
            "grid_auto_columns": null,
            "margin": null,
            "display": null,
            "left": null
          }
        },
        "5344c127348a4e2fbb5a2720908eb235": {
          "model_module": "@jupyter-widgets/controls",
          "model_name": "DescriptionStyleModel",
          "state": {
            "_view_name": "StyleView",
            "_model_name": "DescriptionStyleModel",
            "description_width": "",
            "_view_module": "@jupyter-widgets/base",
            "_model_module_version": "1.5.0",
            "_view_count": null,
            "_view_module_version": "1.2.0",
            "_model_module": "@jupyter-widgets/controls"
          }
        },
        "c6ebf95da925481d9342c23b17d31639": {
          "model_module": "@jupyter-widgets/base",
          "model_name": "LayoutModel",
          "state": {
            "_view_name": "LayoutView",
            "grid_template_rows": null,
            "right": null,
            "justify_content": null,
            "_view_module": "@jupyter-widgets/base",
            "overflow": null,
            "_model_module_version": "1.2.0",
            "_view_count": null,
            "flex_flow": null,
            "width": null,
            "min_width": null,
            "border": null,
            "align_items": null,
            "bottom": null,
            "_model_module": "@jupyter-widgets/base",
            "top": null,
            "grid_column": null,
            "overflow_y": null,
            "overflow_x": null,
            "grid_auto_flow": null,
            "grid_area": null,
            "grid_template_columns": null,
            "flex": null,
            "_model_name": "LayoutModel",
            "justify_items": null,
            "grid_row": null,
            "max_height": null,
            "align_content": null,
            "visibility": null,
            "align_self": null,
            "height": null,
            "min_height": null,
            "padding": null,
            "grid_auto_rows": null,
            "grid_gap": null,
            "max_width": null,
            "order": null,
            "_view_module_version": "1.2.0",
            "grid_template_areas": null,
            "object_position": null,
            "object_fit": null,
            "grid_auto_columns": null,
            "margin": null,
            "display": null,
            "left": null
          }
        },
        "74e1624a34614712945891841f01ca0d": {
          "model_module": "@jupyter-widgets/controls",
          "model_name": "HBoxModel",
          "state": {
            "_view_name": "HBoxView",
            "_dom_classes": [],
            "_model_name": "HBoxModel",
            "_view_module": "@jupyter-widgets/controls",
            "_model_module_version": "1.5.0",
            "_view_count": null,
            "_view_module_version": "1.5.0",
            "box_style": "",
            "layout": "IPY_MODEL_9d1980bf10954911baab3a3f032abd8f",
            "_model_module": "@jupyter-widgets/controls",
            "children": [
              "IPY_MODEL_3a3650a4991747a591d224e777e6d205",
              "IPY_MODEL_3d7cb8e537f6420b80c314811a4f02d9"
            ]
          }
        },
        "9d1980bf10954911baab3a3f032abd8f": {
          "model_module": "@jupyter-widgets/base",
          "model_name": "LayoutModel",
          "state": {
            "_view_name": "LayoutView",
            "grid_template_rows": null,
            "right": null,
            "justify_content": null,
            "_view_module": "@jupyter-widgets/base",
            "overflow": null,
            "_model_module_version": "1.2.0",
            "_view_count": null,
            "flex_flow": null,
            "width": null,
            "min_width": null,
            "border": null,
            "align_items": null,
            "bottom": null,
            "_model_module": "@jupyter-widgets/base",
            "top": null,
            "grid_column": null,
            "overflow_y": null,
            "overflow_x": null,
            "grid_auto_flow": null,
            "grid_area": null,
            "grid_template_columns": null,
            "flex": null,
            "_model_name": "LayoutModel",
            "justify_items": null,
            "grid_row": null,
            "max_height": null,
            "align_content": null,
            "visibility": null,
            "align_self": null,
            "height": null,
            "min_height": null,
            "padding": null,
            "grid_auto_rows": null,
            "grid_gap": null,
            "max_width": null,
            "order": null,
            "_view_module_version": "1.2.0",
            "grid_template_areas": null,
            "object_position": null,
            "object_fit": null,
            "grid_auto_columns": null,
            "margin": null,
            "display": null,
            "left": null
          }
        },
        "3a3650a4991747a591d224e777e6d205": {
          "model_module": "@jupyter-widgets/controls",
          "model_name": "FloatProgressModel",
          "state": {
            "_view_name": "ProgressView",
            "style": "IPY_MODEL_67e77ca12a324e96a5b298cb5e3ceb8e",
            "_dom_classes": [],
            "description": "100%",
            "_model_name": "FloatProgressModel",
            "bar_style": "success",
            "max": 3,
            "_view_module": "@jupyter-widgets/controls",
            "_model_module_version": "1.5.0",
            "value": 3,
            "_view_count": null,
            "_view_module_version": "1.5.0",
            "orientation": "horizontal",
            "min": 0,
            "description_tooltip": null,
            "_model_module": "@jupyter-widgets/controls",
            "layout": "IPY_MODEL_4f56b57d9e4f4013b05efbea718daeda"
          }
        },
        "3d7cb8e537f6420b80c314811a4f02d9": {
          "model_module": "@jupyter-widgets/controls",
          "model_name": "HTMLModel",
          "state": {
            "_view_name": "HTMLView",
            "style": "IPY_MODEL_61b891187eb4406f97b79f58ae37eeef",
            "_dom_classes": [],
            "description": "",
            "_model_name": "HTMLModel",
            "placeholder": "​",
            "_view_module": "@jupyter-widgets/controls",
            "_model_module_version": "1.5.0",
            "value": " 3/3 [09:21&lt;00:00, 187.04s/it]",
            "_view_count": null,
            "_view_module_version": "1.5.0",
            "description_tooltip": null,
            "_model_module": "@jupyter-widgets/controls",
            "layout": "IPY_MODEL_9de49e75c4594952b727f0ce710a89f4"
          }
        },
        "67e77ca12a324e96a5b298cb5e3ceb8e": {
          "model_module": "@jupyter-widgets/controls",
          "model_name": "ProgressStyleModel",
          "state": {
            "_view_name": "StyleView",
            "_model_name": "ProgressStyleModel",
            "description_width": "initial",
            "_view_module": "@jupyter-widgets/base",
            "_model_module_version": "1.5.0",
            "_view_count": null,
            "_view_module_version": "1.2.0",
            "bar_color": null,
            "_model_module": "@jupyter-widgets/controls"
          }
        },
        "4f56b57d9e4f4013b05efbea718daeda": {
          "model_module": "@jupyter-widgets/base",
          "model_name": "LayoutModel",
          "state": {
            "_view_name": "LayoutView",
            "grid_template_rows": null,
            "right": null,
            "justify_content": null,
            "_view_module": "@jupyter-widgets/base",
            "overflow": null,
            "_model_module_version": "1.2.0",
            "_view_count": null,
            "flex_flow": null,
            "width": null,
            "min_width": null,
            "border": null,
            "align_items": null,
            "bottom": null,
            "_model_module": "@jupyter-widgets/base",
            "top": null,
            "grid_column": null,
            "overflow_y": null,
            "overflow_x": null,
            "grid_auto_flow": null,
            "grid_area": null,
            "grid_template_columns": null,
            "flex": null,
            "_model_name": "LayoutModel",
            "justify_items": null,
            "grid_row": null,
            "max_height": null,
            "align_content": null,
            "visibility": null,
            "align_self": null,
            "height": null,
            "min_height": null,
            "padding": null,
            "grid_auto_rows": null,
            "grid_gap": null,
            "max_width": null,
            "order": null,
            "_view_module_version": "1.2.0",
            "grid_template_areas": null,
            "object_position": null,
            "object_fit": null,
            "grid_auto_columns": null,
            "margin": null,
            "display": null,
            "left": null
          }
        },
        "61b891187eb4406f97b79f58ae37eeef": {
          "model_module": "@jupyter-widgets/controls",
          "model_name": "DescriptionStyleModel",
          "state": {
            "_view_name": "StyleView",
            "_model_name": "DescriptionStyleModel",
            "description_width": "",
            "_view_module": "@jupyter-widgets/base",
            "_model_module_version": "1.5.0",
            "_view_count": null,
            "_view_module_version": "1.2.0",
            "_model_module": "@jupyter-widgets/controls"
          }
        },
        "9de49e75c4594952b727f0ce710a89f4": {
          "model_module": "@jupyter-widgets/base",
          "model_name": "LayoutModel",
          "state": {
            "_view_name": "LayoutView",
            "grid_template_rows": null,
            "right": null,
            "justify_content": null,
            "_view_module": "@jupyter-widgets/base",
            "overflow": null,
            "_model_module_version": "1.2.0",
            "_view_count": null,
            "flex_flow": null,
            "width": null,
            "min_width": null,
            "border": null,
            "align_items": null,
            "bottom": null,
            "_model_module": "@jupyter-widgets/base",
            "top": null,
            "grid_column": null,
            "overflow_y": null,
            "overflow_x": null,
            "grid_auto_flow": null,
            "grid_area": null,
            "grid_template_columns": null,
            "flex": null,
            "_model_name": "LayoutModel",
            "justify_items": null,
            "grid_row": null,
            "max_height": null,
            "align_content": null,
            "visibility": null,
            "align_self": null,
            "height": null,
            "min_height": null,
            "padding": null,
            "grid_auto_rows": null,
            "grid_gap": null,
            "max_width": null,
            "order": null,
            "_view_module_version": "1.2.0",
            "grid_template_areas": null,
            "object_position": null,
            "object_fit": null,
            "grid_auto_columns": null,
            "margin": null,
            "display": null,
            "left": null
          }
        },
        "feca3acfbb2c4d42b67ad7f23b4fbc03": {
          "model_module": "@jupyter-widgets/controls",
          "model_name": "HBoxModel",
          "state": {
            "_view_name": "HBoxView",
            "_dom_classes": [],
            "_model_name": "HBoxModel",
            "_view_module": "@jupyter-widgets/controls",
            "_model_module_version": "1.5.0",
            "_view_count": null,
            "_view_module_version": "1.5.0",
            "box_style": "",
            "layout": "IPY_MODEL_6e1eadf176d04a84ba257987b1cecced",
            "_model_module": "@jupyter-widgets/controls",
            "children": [
              "IPY_MODEL_424d8d02cfb6490680fc4249afdcb46e",
              "IPY_MODEL_c509ed91bc894478a10678b3ecdb083c"
            ]
          }
        },
        "6e1eadf176d04a84ba257987b1cecced": {
          "model_module": "@jupyter-widgets/base",
          "model_name": "LayoutModel",
          "state": {
            "_view_name": "LayoutView",
            "grid_template_rows": null,
            "right": null,
            "justify_content": null,
            "_view_module": "@jupyter-widgets/base",
            "overflow": null,
            "_model_module_version": "1.2.0",
            "_view_count": null,
            "flex_flow": null,
            "width": null,
            "min_width": null,
            "border": null,
            "align_items": null,
            "bottom": null,
            "_model_module": "@jupyter-widgets/base",
            "top": null,
            "grid_column": null,
            "overflow_y": null,
            "overflow_x": null,
            "grid_auto_flow": null,
            "grid_area": null,
            "grid_template_columns": null,
            "flex": null,
            "_model_name": "LayoutModel",
            "justify_items": null,
            "grid_row": null,
            "max_height": null,
            "align_content": null,
            "visibility": null,
            "align_self": null,
            "height": null,
            "min_height": null,
            "padding": null,
            "grid_auto_rows": null,
            "grid_gap": null,
            "max_width": null,
            "order": null,
            "_view_module_version": "1.2.0",
            "grid_template_areas": null,
            "object_position": null,
            "object_fit": null,
            "grid_auto_columns": null,
            "margin": null,
            "display": null,
            "left": null
          }
        },
        "424d8d02cfb6490680fc4249afdcb46e": {
          "model_module": "@jupyter-widgets/controls",
          "model_name": "FloatProgressModel",
          "state": {
            "_view_name": "ProgressView",
            "style": "IPY_MODEL_06b3c5fbb1bf4aac8c23ac42f7825b99",
            "_dom_classes": [],
            "description": "100%",
            "_model_name": "FloatProgressModel",
            "bar_style": "success",
            "max": 3,
            "_view_module": "@jupyter-widgets/controls",
            "_model_module_version": "1.5.0",
            "value": 3,
            "_view_count": null,
            "_view_module_version": "1.5.0",
            "orientation": "horizontal",
            "min": 0,
            "description_tooltip": null,
            "_model_module": "@jupyter-widgets/controls",
            "layout": "IPY_MODEL_5119ce6735fd4741927ea6d25ec45aae"
          }
        },
        "c509ed91bc894478a10678b3ecdb083c": {
          "model_module": "@jupyter-widgets/controls",
          "model_name": "HTMLModel",
          "state": {
            "_view_name": "HTMLView",
            "style": "IPY_MODEL_f1a7275fe9194e148c513ce8ffe9bff3",
            "_dom_classes": [],
            "description": "",
            "_model_name": "HTMLModel",
            "placeholder": "​",
            "_view_module": "@jupyter-widgets/controls",
            "_model_module_version": "1.5.0",
            "value": " 3/3 [10:14&lt;00:00, 204.69s/it]",
            "_view_count": null,
            "_view_module_version": "1.5.0",
            "description_tooltip": null,
            "_model_module": "@jupyter-widgets/controls",
            "layout": "IPY_MODEL_51e126b4ca224f34a986ba23a83e2c53"
          }
        },
        "06b3c5fbb1bf4aac8c23ac42f7825b99": {
          "model_module": "@jupyter-widgets/controls",
          "model_name": "ProgressStyleModel",
          "state": {
            "_view_name": "StyleView",
            "_model_name": "ProgressStyleModel",
            "description_width": "initial",
            "_view_module": "@jupyter-widgets/base",
            "_model_module_version": "1.5.0",
            "_view_count": null,
            "_view_module_version": "1.2.0",
            "bar_color": null,
            "_model_module": "@jupyter-widgets/controls"
          }
        },
        "5119ce6735fd4741927ea6d25ec45aae": {
          "model_module": "@jupyter-widgets/base",
          "model_name": "LayoutModel",
          "state": {
            "_view_name": "LayoutView",
            "grid_template_rows": null,
            "right": null,
            "justify_content": null,
            "_view_module": "@jupyter-widgets/base",
            "overflow": null,
            "_model_module_version": "1.2.0",
            "_view_count": null,
            "flex_flow": null,
            "width": null,
            "min_width": null,
            "border": null,
            "align_items": null,
            "bottom": null,
            "_model_module": "@jupyter-widgets/base",
            "top": null,
            "grid_column": null,
            "overflow_y": null,
            "overflow_x": null,
            "grid_auto_flow": null,
            "grid_area": null,
            "grid_template_columns": null,
            "flex": null,
            "_model_name": "LayoutModel",
            "justify_items": null,
            "grid_row": null,
            "max_height": null,
            "align_content": null,
            "visibility": null,
            "align_self": null,
            "height": null,
            "min_height": null,
            "padding": null,
            "grid_auto_rows": null,
            "grid_gap": null,
            "max_width": null,
            "order": null,
            "_view_module_version": "1.2.0",
            "grid_template_areas": null,
            "object_position": null,
            "object_fit": null,
            "grid_auto_columns": null,
            "margin": null,
            "display": null,
            "left": null
          }
        },
        "f1a7275fe9194e148c513ce8ffe9bff3": {
          "model_module": "@jupyter-widgets/controls",
          "model_name": "DescriptionStyleModel",
          "state": {
            "_view_name": "StyleView",
            "_model_name": "DescriptionStyleModel",
            "description_width": "",
            "_view_module": "@jupyter-widgets/base",
            "_model_module_version": "1.5.0",
            "_view_count": null,
            "_view_module_version": "1.2.0",
            "_model_module": "@jupyter-widgets/controls"
          }
        },
        "51e126b4ca224f34a986ba23a83e2c53": {
          "model_module": "@jupyter-widgets/base",
          "model_name": "LayoutModel",
          "state": {
            "_view_name": "LayoutView",
            "grid_template_rows": null,
            "right": null,
            "justify_content": null,
            "_view_module": "@jupyter-widgets/base",
            "overflow": null,
            "_model_module_version": "1.2.0",
            "_view_count": null,
            "flex_flow": null,
            "width": null,
            "min_width": null,
            "border": null,
            "align_items": null,
            "bottom": null,
            "_model_module": "@jupyter-widgets/base",
            "top": null,
            "grid_column": null,
            "overflow_y": null,
            "overflow_x": null,
            "grid_auto_flow": null,
            "grid_area": null,
            "grid_template_columns": null,
            "flex": null,
            "_model_name": "LayoutModel",
            "justify_items": null,
            "grid_row": null,
            "max_height": null,
            "align_content": null,
            "visibility": null,
            "align_self": null,
            "height": null,
            "min_height": null,
            "padding": null,
            "grid_auto_rows": null,
            "grid_gap": null,
            "max_width": null,
            "order": null,
            "_view_module_version": "1.2.0",
            "grid_template_areas": null,
            "object_position": null,
            "object_fit": null,
            "grid_auto_columns": null,
            "margin": null,
            "display": null,
            "left": null
          }
        },
        "ec3b981e148340f8bb023a1a3e8d785c": {
          "model_module": "@jupyter-widgets/controls",
          "model_name": "HBoxModel",
          "state": {
            "_view_name": "HBoxView",
            "_dom_classes": [],
            "_model_name": "HBoxModel",
            "_view_module": "@jupyter-widgets/controls",
            "_model_module_version": "1.5.0",
            "_view_count": null,
            "_view_module_version": "1.5.0",
            "box_style": "",
            "layout": "IPY_MODEL_697dbe08bfcb4764bef9a554823091e3",
            "_model_module": "@jupyter-widgets/controls",
            "children": [
              "IPY_MODEL_b566de50999c4d44ab2a61580a2f465a",
              "IPY_MODEL_e4a1cf1c4fc74df4ad93898e66728a70"
            ]
          }
        },
        "697dbe08bfcb4764bef9a554823091e3": {
          "model_module": "@jupyter-widgets/base",
          "model_name": "LayoutModel",
          "state": {
            "_view_name": "LayoutView",
            "grid_template_rows": null,
            "right": null,
            "justify_content": null,
            "_view_module": "@jupyter-widgets/base",
            "overflow": null,
            "_model_module_version": "1.2.0",
            "_view_count": null,
            "flex_flow": null,
            "width": null,
            "min_width": null,
            "border": null,
            "align_items": null,
            "bottom": null,
            "_model_module": "@jupyter-widgets/base",
            "top": null,
            "grid_column": null,
            "overflow_y": null,
            "overflow_x": null,
            "grid_auto_flow": null,
            "grid_area": null,
            "grid_template_columns": null,
            "flex": null,
            "_model_name": "LayoutModel",
            "justify_items": null,
            "grid_row": null,
            "max_height": null,
            "align_content": null,
            "visibility": null,
            "align_self": null,
            "height": null,
            "min_height": null,
            "padding": null,
            "grid_auto_rows": null,
            "grid_gap": null,
            "max_width": null,
            "order": null,
            "_view_module_version": "1.2.0",
            "grid_template_areas": null,
            "object_position": null,
            "object_fit": null,
            "grid_auto_columns": null,
            "margin": null,
            "display": null,
            "left": null
          }
        },
        "b566de50999c4d44ab2a61580a2f465a": {
          "model_module": "@jupyter-widgets/controls",
          "model_name": "FloatProgressModel",
          "state": {
            "_view_name": "ProgressView",
            "style": "IPY_MODEL_d37069c3599146eeb21fc3759ebfc3fd",
            "_dom_classes": [],
            "description": "100%",
            "_model_name": "FloatProgressModel",
            "bar_style": "success",
            "max": 3,
            "_view_module": "@jupyter-widgets/controls",
            "_model_module_version": "1.5.0",
            "value": 3,
            "_view_count": null,
            "_view_module_version": "1.5.0",
            "orientation": "horizontal",
            "min": 0,
            "description_tooltip": null,
            "_model_module": "@jupyter-widgets/controls",
            "layout": "IPY_MODEL_a3d01d15a51448838158e18f7a0bdb11"
          }
        },
        "e4a1cf1c4fc74df4ad93898e66728a70": {
          "model_module": "@jupyter-widgets/controls",
          "model_name": "HTMLModel",
          "state": {
            "_view_name": "HTMLView",
            "style": "IPY_MODEL_613ddc69d5aa450cb5614768865569df",
            "_dom_classes": [],
            "description": "",
            "_model_name": "HTMLModel",
            "placeholder": "​",
            "_view_module": "@jupyter-widgets/controls",
            "_model_module_version": "1.5.0",
            "value": " 3/3 [11:47&lt;00:00, 235.84s/it]",
            "_view_count": null,
            "_view_module_version": "1.5.0",
            "description_tooltip": null,
            "_model_module": "@jupyter-widgets/controls",
            "layout": "IPY_MODEL_5fc04caaf7d7428db394a7985dee4d34"
          }
        },
        "d37069c3599146eeb21fc3759ebfc3fd": {
          "model_module": "@jupyter-widgets/controls",
          "model_name": "ProgressStyleModel",
          "state": {
            "_view_name": "StyleView",
            "_model_name": "ProgressStyleModel",
            "description_width": "initial",
            "_view_module": "@jupyter-widgets/base",
            "_model_module_version": "1.5.0",
            "_view_count": null,
            "_view_module_version": "1.2.0",
            "bar_color": null,
            "_model_module": "@jupyter-widgets/controls"
          }
        },
        "a3d01d15a51448838158e18f7a0bdb11": {
          "model_module": "@jupyter-widgets/base",
          "model_name": "LayoutModel",
          "state": {
            "_view_name": "LayoutView",
            "grid_template_rows": null,
            "right": null,
            "justify_content": null,
            "_view_module": "@jupyter-widgets/base",
            "overflow": null,
            "_model_module_version": "1.2.0",
            "_view_count": null,
            "flex_flow": null,
            "width": null,
            "min_width": null,
            "border": null,
            "align_items": null,
            "bottom": null,
            "_model_module": "@jupyter-widgets/base",
            "top": null,
            "grid_column": null,
            "overflow_y": null,
            "overflow_x": null,
            "grid_auto_flow": null,
            "grid_area": null,
            "grid_template_columns": null,
            "flex": null,
            "_model_name": "LayoutModel",
            "justify_items": null,
            "grid_row": null,
            "max_height": null,
            "align_content": null,
            "visibility": null,
            "align_self": null,
            "height": null,
            "min_height": null,
            "padding": null,
            "grid_auto_rows": null,
            "grid_gap": null,
            "max_width": null,
            "order": null,
            "_view_module_version": "1.2.0",
            "grid_template_areas": null,
            "object_position": null,
            "object_fit": null,
            "grid_auto_columns": null,
            "margin": null,
            "display": null,
            "left": null
          }
        },
        "613ddc69d5aa450cb5614768865569df": {
          "model_module": "@jupyter-widgets/controls",
          "model_name": "DescriptionStyleModel",
          "state": {
            "_view_name": "StyleView",
            "_model_name": "DescriptionStyleModel",
            "description_width": "",
            "_view_module": "@jupyter-widgets/base",
            "_model_module_version": "1.5.0",
            "_view_count": null,
            "_view_module_version": "1.2.0",
            "_model_module": "@jupyter-widgets/controls"
          }
        },
        "5fc04caaf7d7428db394a7985dee4d34": {
          "model_module": "@jupyter-widgets/base",
          "model_name": "LayoutModel",
          "state": {
            "_view_name": "LayoutView",
            "grid_template_rows": null,
            "right": null,
            "justify_content": null,
            "_view_module": "@jupyter-widgets/base",
            "overflow": null,
            "_model_module_version": "1.2.0",
            "_view_count": null,
            "flex_flow": null,
            "width": null,
            "min_width": null,
            "border": null,
            "align_items": null,
            "bottom": null,
            "_model_module": "@jupyter-widgets/base",
            "top": null,
            "grid_column": null,
            "overflow_y": null,
            "overflow_x": null,
            "grid_auto_flow": null,
            "grid_area": null,
            "grid_template_columns": null,
            "flex": null,
            "_model_name": "LayoutModel",
            "justify_items": null,
            "grid_row": null,
            "max_height": null,
            "align_content": null,
            "visibility": null,
            "align_self": null,
            "height": null,
            "min_height": null,
            "padding": null,
            "grid_auto_rows": null,
            "grid_gap": null,
            "max_width": null,
            "order": null,
            "_view_module_version": "1.2.0",
            "grid_template_areas": null,
            "object_position": null,
            "object_fit": null,
            "grid_auto_columns": null,
            "margin": null,
            "display": null,
            "left": null
          }
        },
        "a6c2e2c0077a466b8837e53c9dcea906": {
          "model_module": "@jupyter-widgets/controls",
          "model_name": "HBoxModel",
          "state": {
            "_view_name": "HBoxView",
            "_dom_classes": [],
            "_model_name": "HBoxModel",
            "_view_module": "@jupyter-widgets/controls",
            "_model_module_version": "1.5.0",
            "_view_count": null,
            "_view_module_version": "1.5.0",
            "box_style": "",
            "layout": "IPY_MODEL_a410092bc9674a708742fa234742d4d0",
            "_model_module": "@jupyter-widgets/controls",
            "children": [
              "IPY_MODEL_bdca7fb0a7c440449c3a057fea938a1c",
              "IPY_MODEL_857bd02f20ad4f8ab7059f64f45ab423"
            ]
          }
        },
        "a410092bc9674a708742fa234742d4d0": {
          "model_module": "@jupyter-widgets/base",
          "model_name": "LayoutModel",
          "state": {
            "_view_name": "LayoutView",
            "grid_template_rows": null,
            "right": null,
            "justify_content": null,
            "_view_module": "@jupyter-widgets/base",
            "overflow": null,
            "_model_module_version": "1.2.0",
            "_view_count": null,
            "flex_flow": null,
            "width": null,
            "min_width": null,
            "border": null,
            "align_items": null,
            "bottom": null,
            "_model_module": "@jupyter-widgets/base",
            "top": null,
            "grid_column": null,
            "overflow_y": null,
            "overflow_x": null,
            "grid_auto_flow": null,
            "grid_area": null,
            "grid_template_columns": null,
            "flex": null,
            "_model_name": "LayoutModel",
            "justify_items": null,
            "grid_row": null,
            "max_height": null,
            "align_content": null,
            "visibility": null,
            "align_self": null,
            "height": null,
            "min_height": null,
            "padding": null,
            "grid_auto_rows": null,
            "grid_gap": null,
            "max_width": null,
            "order": null,
            "_view_module_version": "1.2.0",
            "grid_template_areas": null,
            "object_position": null,
            "object_fit": null,
            "grid_auto_columns": null,
            "margin": null,
            "display": null,
            "left": null
          }
        },
        "bdca7fb0a7c440449c3a057fea938a1c": {
          "model_module": "@jupyter-widgets/controls",
          "model_name": "FloatProgressModel",
          "state": {
            "_view_name": "ProgressView",
            "style": "IPY_MODEL_9e54285544b44988a814600f1e6e23e1",
            "_dom_classes": [],
            "description": "100%",
            "_model_name": "FloatProgressModel",
            "bar_style": "success",
            "max": 3,
            "_view_module": "@jupyter-widgets/controls",
            "_model_module_version": "1.5.0",
            "value": 3,
            "_view_count": null,
            "_view_module_version": "1.5.0",
            "orientation": "horizontal",
            "min": 0,
            "description_tooltip": null,
            "_model_module": "@jupyter-widgets/controls",
            "layout": "IPY_MODEL_548480e337a24e94b6839c551be5d389"
          }
        },
        "857bd02f20ad4f8ab7059f64f45ab423": {
          "model_module": "@jupyter-widgets/controls",
          "model_name": "HTMLModel",
          "state": {
            "_view_name": "HTMLView",
            "style": "IPY_MODEL_c413f2218d194a099be91b7d34115bea",
            "_dom_classes": [],
            "description": "",
            "_model_name": "HTMLModel",
            "placeholder": "​",
            "_view_module": "@jupyter-widgets/controls",
            "_model_module_version": "1.5.0",
            "value": " 3/3 [11:41&lt;00:00, 233.90s/it]",
            "_view_count": null,
            "_view_module_version": "1.5.0",
            "description_tooltip": null,
            "_model_module": "@jupyter-widgets/controls",
            "layout": "IPY_MODEL_eca3208b459340a0b814de02361aad17"
          }
        },
        "9e54285544b44988a814600f1e6e23e1": {
          "model_module": "@jupyter-widgets/controls",
          "model_name": "ProgressStyleModel",
          "state": {
            "_view_name": "StyleView",
            "_model_name": "ProgressStyleModel",
            "description_width": "initial",
            "_view_module": "@jupyter-widgets/base",
            "_model_module_version": "1.5.0",
            "_view_count": null,
            "_view_module_version": "1.2.0",
            "bar_color": null,
            "_model_module": "@jupyter-widgets/controls"
          }
        },
        "548480e337a24e94b6839c551be5d389": {
          "model_module": "@jupyter-widgets/base",
          "model_name": "LayoutModel",
          "state": {
            "_view_name": "LayoutView",
            "grid_template_rows": null,
            "right": null,
            "justify_content": null,
            "_view_module": "@jupyter-widgets/base",
            "overflow": null,
            "_model_module_version": "1.2.0",
            "_view_count": null,
            "flex_flow": null,
            "width": null,
            "min_width": null,
            "border": null,
            "align_items": null,
            "bottom": null,
            "_model_module": "@jupyter-widgets/base",
            "top": null,
            "grid_column": null,
            "overflow_y": null,
            "overflow_x": null,
            "grid_auto_flow": null,
            "grid_area": null,
            "grid_template_columns": null,
            "flex": null,
            "_model_name": "LayoutModel",
            "justify_items": null,
            "grid_row": null,
            "max_height": null,
            "align_content": null,
            "visibility": null,
            "align_self": null,
            "height": null,
            "min_height": null,
            "padding": null,
            "grid_auto_rows": null,
            "grid_gap": null,
            "max_width": null,
            "order": null,
            "_view_module_version": "1.2.0",
            "grid_template_areas": null,
            "object_position": null,
            "object_fit": null,
            "grid_auto_columns": null,
            "margin": null,
            "display": null,
            "left": null
          }
        },
        "c413f2218d194a099be91b7d34115bea": {
          "model_module": "@jupyter-widgets/controls",
          "model_name": "DescriptionStyleModel",
          "state": {
            "_view_name": "StyleView",
            "_model_name": "DescriptionStyleModel",
            "description_width": "",
            "_view_module": "@jupyter-widgets/base",
            "_model_module_version": "1.5.0",
            "_view_count": null,
            "_view_module_version": "1.2.0",
            "_model_module": "@jupyter-widgets/controls"
          }
        },
        "eca3208b459340a0b814de02361aad17": {
          "model_module": "@jupyter-widgets/base",
          "model_name": "LayoutModel",
          "state": {
            "_view_name": "LayoutView",
            "grid_template_rows": null,
            "right": null,
            "justify_content": null,
            "_view_module": "@jupyter-widgets/base",
            "overflow": null,
            "_model_module_version": "1.2.0",
            "_view_count": null,
            "flex_flow": null,
            "width": null,
            "min_width": null,
            "border": null,
            "align_items": null,
            "bottom": null,
            "_model_module": "@jupyter-widgets/base",
            "top": null,
            "grid_column": null,
            "overflow_y": null,
            "overflow_x": null,
            "grid_auto_flow": null,
            "grid_area": null,
            "grid_template_columns": null,
            "flex": null,
            "_model_name": "LayoutModel",
            "justify_items": null,
            "grid_row": null,
            "max_height": null,
            "align_content": null,
            "visibility": null,
            "align_self": null,
            "height": null,
            "min_height": null,
            "padding": null,
            "grid_auto_rows": null,
            "grid_gap": null,
            "max_width": null,
            "order": null,
            "_view_module_version": "1.2.0",
            "grid_template_areas": null,
            "object_position": null,
            "object_fit": null,
            "grid_auto_columns": null,
            "margin": null,
            "display": null,
            "left": null
          }
        },
        "cb68587cd83c4302826fe2a9080a6033": {
          "model_module": "@jupyter-widgets/controls",
          "model_name": "HBoxModel",
          "state": {
            "_view_name": "HBoxView",
            "_dom_classes": [],
            "_model_name": "HBoxModel",
            "_view_module": "@jupyter-widgets/controls",
            "_model_module_version": "1.5.0",
            "_view_count": null,
            "_view_module_version": "1.5.0",
            "box_style": "",
            "layout": "IPY_MODEL_57f412615f84478c9dae4dffeb6be696",
            "_model_module": "@jupyter-widgets/controls",
            "children": [
              "IPY_MODEL_1a57bd0ccd5544f19a236d2a8464390a",
              "IPY_MODEL_c0099cf2d16a49429d82c2199deec588"
            ]
          }
        },
        "57f412615f84478c9dae4dffeb6be696": {
          "model_module": "@jupyter-widgets/base",
          "model_name": "LayoutModel",
          "state": {
            "_view_name": "LayoutView",
            "grid_template_rows": null,
            "right": null,
            "justify_content": null,
            "_view_module": "@jupyter-widgets/base",
            "overflow": null,
            "_model_module_version": "1.2.0",
            "_view_count": null,
            "flex_flow": null,
            "width": null,
            "min_width": null,
            "border": null,
            "align_items": null,
            "bottom": null,
            "_model_module": "@jupyter-widgets/base",
            "top": null,
            "grid_column": null,
            "overflow_y": null,
            "overflow_x": null,
            "grid_auto_flow": null,
            "grid_area": null,
            "grid_template_columns": null,
            "flex": null,
            "_model_name": "LayoutModel",
            "justify_items": null,
            "grid_row": null,
            "max_height": null,
            "align_content": null,
            "visibility": null,
            "align_self": null,
            "height": null,
            "min_height": null,
            "padding": null,
            "grid_auto_rows": null,
            "grid_gap": null,
            "max_width": null,
            "order": null,
            "_view_module_version": "1.2.0",
            "grid_template_areas": null,
            "object_position": null,
            "object_fit": null,
            "grid_auto_columns": null,
            "margin": null,
            "display": null,
            "left": null
          }
        },
        "1a57bd0ccd5544f19a236d2a8464390a": {
          "model_module": "@jupyter-widgets/controls",
          "model_name": "FloatProgressModel",
          "state": {
            "_view_name": "ProgressView",
            "style": "IPY_MODEL_990294655027490d85e35a9b6161ed0b",
            "_dom_classes": [],
            "description": "100%",
            "_model_name": "FloatProgressModel",
            "bar_style": "success",
            "max": 3,
            "_view_module": "@jupyter-widgets/controls",
            "_model_module_version": "1.5.0",
            "value": 3,
            "_view_count": null,
            "_view_module_version": "1.5.0",
            "orientation": "horizontal",
            "min": 0,
            "description_tooltip": null,
            "_model_module": "@jupyter-widgets/controls",
            "layout": "IPY_MODEL_585ee2f457d64994918415b556faaee9"
          }
        },
        "c0099cf2d16a49429d82c2199deec588": {
          "model_module": "@jupyter-widgets/controls",
          "model_name": "HTMLModel",
          "state": {
            "_view_name": "HTMLView",
            "style": "IPY_MODEL_4d58ef9d0dde49e18cd023172fad531c",
            "_dom_classes": [],
            "description": "",
            "_model_name": "HTMLModel",
            "placeholder": "​",
            "_view_module": "@jupyter-widgets/controls",
            "_model_module_version": "1.5.0",
            "value": " 3/3 [15:04&lt;00:00, 301.53s/it]",
            "_view_count": null,
            "_view_module_version": "1.5.0",
            "description_tooltip": null,
            "_model_module": "@jupyter-widgets/controls",
            "layout": "IPY_MODEL_3e61ec2be9174010b83306e73bd48929"
          }
        },
        "990294655027490d85e35a9b6161ed0b": {
          "model_module": "@jupyter-widgets/controls",
          "model_name": "ProgressStyleModel",
          "state": {
            "_view_name": "StyleView",
            "_model_name": "ProgressStyleModel",
            "description_width": "initial",
            "_view_module": "@jupyter-widgets/base",
            "_model_module_version": "1.5.0",
            "_view_count": null,
            "_view_module_version": "1.2.0",
            "bar_color": null,
            "_model_module": "@jupyter-widgets/controls"
          }
        },
        "585ee2f457d64994918415b556faaee9": {
          "model_module": "@jupyter-widgets/base",
          "model_name": "LayoutModel",
          "state": {
            "_view_name": "LayoutView",
            "grid_template_rows": null,
            "right": null,
            "justify_content": null,
            "_view_module": "@jupyter-widgets/base",
            "overflow": null,
            "_model_module_version": "1.2.0",
            "_view_count": null,
            "flex_flow": null,
            "width": null,
            "min_width": null,
            "border": null,
            "align_items": null,
            "bottom": null,
            "_model_module": "@jupyter-widgets/base",
            "top": null,
            "grid_column": null,
            "overflow_y": null,
            "overflow_x": null,
            "grid_auto_flow": null,
            "grid_area": null,
            "grid_template_columns": null,
            "flex": null,
            "_model_name": "LayoutModel",
            "justify_items": null,
            "grid_row": null,
            "max_height": null,
            "align_content": null,
            "visibility": null,
            "align_self": null,
            "height": null,
            "min_height": null,
            "padding": null,
            "grid_auto_rows": null,
            "grid_gap": null,
            "max_width": null,
            "order": null,
            "_view_module_version": "1.2.0",
            "grid_template_areas": null,
            "object_position": null,
            "object_fit": null,
            "grid_auto_columns": null,
            "margin": null,
            "display": null,
            "left": null
          }
        },
        "4d58ef9d0dde49e18cd023172fad531c": {
          "model_module": "@jupyter-widgets/controls",
          "model_name": "DescriptionStyleModel",
          "state": {
            "_view_name": "StyleView",
            "_model_name": "DescriptionStyleModel",
            "description_width": "",
            "_view_module": "@jupyter-widgets/base",
            "_model_module_version": "1.5.0",
            "_view_count": null,
            "_view_module_version": "1.2.0",
            "_model_module": "@jupyter-widgets/controls"
          }
        },
        "3e61ec2be9174010b83306e73bd48929": {
          "model_module": "@jupyter-widgets/base",
          "model_name": "LayoutModel",
          "state": {
            "_view_name": "LayoutView",
            "grid_template_rows": null,
            "right": null,
            "justify_content": null,
            "_view_module": "@jupyter-widgets/base",
            "overflow": null,
            "_model_module_version": "1.2.0",
            "_view_count": null,
            "flex_flow": null,
            "width": null,
            "min_width": null,
            "border": null,
            "align_items": null,
            "bottom": null,
            "_model_module": "@jupyter-widgets/base",
            "top": null,
            "grid_column": null,
            "overflow_y": null,
            "overflow_x": null,
            "grid_auto_flow": null,
            "grid_area": null,
            "grid_template_columns": null,
            "flex": null,
            "_model_name": "LayoutModel",
            "justify_items": null,
            "grid_row": null,
            "max_height": null,
            "align_content": null,
            "visibility": null,
            "align_self": null,
            "height": null,
            "min_height": null,
            "padding": null,
            "grid_auto_rows": null,
            "grid_gap": null,
            "max_width": null,
            "order": null,
            "_view_module_version": "1.2.0",
            "grid_template_areas": null,
            "object_position": null,
            "object_fit": null,
            "grid_auto_columns": null,
            "margin": null,
            "display": null,
            "left": null
          }
        }
      }
    }
  },
  "cells": [
    {
      "cell_type": "markdown",
      "metadata": {
        "id": "NMIHiJEZO9tK"
      },
      "source": [
        "# Label Classifier (dSprites): Data Collection\n",
        "\n",
        "This notebook contains code used to collect experiments data for various shift detection methods discussed in Lipton's paper. We compare their performance with the novel method that we created for detecting shift using the concept activation."
      ]
    },
    {
      "cell_type": "code",
      "metadata": {
        "id": "rEeMJzAanB4-"
      },
      "source": [
        "## Solve dependency problem\n",
        "# !git clone https://github.com/josipd/torch-two-sample.git\n",
        "# %cd torch-two-sample\n",
        "# !python setup.py install"
      ],
      "execution_count": null,
      "outputs": []
    },
    {
      "cell_type": "code",
      "metadata": {
        "id": "Bdnj5tRpBtuA"
      },
      "source": [
        "import numpy as np\n",
        "import torch\n",
        "import random\n",
        "# from torch_two_sample import *\n",
        "from scipy.stats import ks_2samp, binom_test, chisquare, chi2_contingency, anderson_ksamp\n",
        "from scipy.spatial import distance\n",
        "import matplotlib.pyplot as plt\n",
        "import seaborn as sns\n",
        "from sklearn.model_selection import train_test_split\n",
        "import scipy.io\n",
        "from math import ceil\n",
        "from copy import deepcopy\n",
        "import pandas as pd\n",
        "import tensorflow as tf\n",
        "from tensorflow.keras.preprocessing.image import ImageDataGenerator\n",
        "from tensorflow.keras.utils import to_categorical\n",
        "from tensorflow.keras.callbacks import ReduceLROnPlateau, EarlyStopping\n",
        "from tensorflow.keras import optimizers\n",
        "from sklearn.linear_model import LogisticRegression\n",
        "from sklearn.metrics import confusion_matrix, classification_report, accuracy_score, plot_confusion_matrix\n",
        "from sklearn.tree import DecisionTreeClassifier\n",
        "from tensorflow.python import keras\n",
        "from tensorflow.python.keras import layers\n",
        "from tqdm.notebook import tqdm\n",
        "import pickle\n",
        "from IPython.display import display, Markdown, Latex\n",
        "\n",
        "# Remove warnings\n",
        "import warnings\n",
        "warnings.filterwarnings('ignore')"
      ],
      "execution_count": 2,
      "outputs": []
    },
    {
      "cell_type": "code",
      "metadata": {
        "colab": {
          "base_uri": "https://localhost:8080/"
        },
        "id": "rClArgFinNFq",
        "outputId": "6f46bd24-3a10-4f3d-e198-e32db8760d7a"
      },
      "source": [
        "# Mount drive (if needed)\n",
        "from google.colab import drive\n",
        "drive.mount('/content/drive')"
      ],
      "execution_count": 3,
      "outputs": [
        {
          "output_type": "stream",
          "text": [
            "Mounted at /content/drive\n"
          ],
          "name": "stdout"
        }
      ]
    },
    {
      "cell_type": "code",
      "metadata": {
        "id": "_AyuNjX3nNMW"
      },
      "source": [
        "# Run utility functions\n",
        "%run drive/MyDrive/Colab\\ Notebooks/MPhil\\ Project/Utilities.ipynb\n",
        "%run drive/MyDrive/Colab\\ Notebooks/MPhil\\ Project/Experiment\\ Utilities.ipynb"
      ],
      "execution_count": 18,
      "outputs": []
    },
    {
      "cell_type": "markdown",
      "metadata": {
        "id": "isTThbu4nPeX"
      },
      "source": [
        "## Load Dataset"
      ]
    },
    {
      "cell_type": "code",
      "metadata": {
        "colab": {
          "base_uri": "https://localhost:8080/"
        },
        "id": "6T2mfwGBnRfY",
        "outputId": "ab862171-fd4f-44d4-9868-17289869a7c8"
      },
      "source": [
        "SEED = 20\n",
        "np.random.seed(SEED)\n",
        "random.seed(SEED)\n",
        "tf.random.set_seed(SEED)\n",
        "\n",
        "# Load dataset, split into train, validation, and test sets\n",
        "path = 'drive/MyDrive/dsprites_ndarray_co1sh3sc6or40x32y32_64x64.npz'\n",
        "x_train, x_test, y_train, y_test, c_train, c_test = load_dsprites(path, 100000, train_size=0.85, class_index=1)\n",
        "\n",
        "# Split training into validation set as well \n",
        "x_train, x_valid = x_train[:70000], x_train[70000:]\n",
        "y_train, y_valid = y_train[:70000], y_train[70000:]\n",
        "c_train, c_valid = c_train[:70000], c_train[70000:]"
      ],
      "execution_count": 5,
      "outputs": [
        {
          "output_type": "stream",
          "text": [
            "Training samples: 85000\n",
            "Testing samples: 15000\n"
          ],
          "name": "stdout"
        }
      ]
    },
    {
      "cell_type": "code",
      "metadata": {
        "id": "84Rxx_ROnj4c"
      },
      "source": [
        "# Reshape to appropriate shift input\n",
        "# It is noteworthy that for efficiency, we represent the images as only 2 dimension\n",
        "# when we preprocessing (number of instances/ batch size * flatten size).\n",
        "# When visualising back the image, we need to reshape it back to the original dimension\n",
        "ORIGINAL_SHAPE = x_test.shape[1:] # constant hold the image original shape\n",
        "x_test_flatten = deepcopy(x_test.reshape(x_test.shape[0], -1))\n",
        "x_valid_flatten = deepcopy(x_valid.reshape(x_valid.shape[0], -1))"
      ],
      "execution_count": 6,
      "outputs": []
    },
    {
      "cell_type": "markdown",
      "metadata": {
        "id": "8u2YmhJUpEjm"
      },
      "source": [
        "## BBSD: Concept Bottleneck Models\n",
        "\n",
        "This section construct and train a concept bottleneck model (CBM). We use the output of these models (or the concepts) as the reduced representation before conducting the relevant statistical tests.\n",
        "\n"
      ]
    },
    {
      "cell_type": "markdown",
      "metadata": {
        "id": "qGzQ-3rHpWX3"
      },
      "source": [
        "### Input to Concept Model\n",
        "\n",
        "In this section, we will employ the multitask model. Nevertheless, we could use other models as listed below as a substitute:\n",
        "1. **Multitask Model**: model with shared convolutional layers and multiple heads for respective task to predict color, shape, scale, rotation, x and y positions.\n",
        "2. **Ensemble Model**: concatenation of six individual models, where each predicts color, shape, scale, rotation, x and y positions respectively.\n",
        "3. **Binary Model**: model where concept values are binaries (e.g., last layers comprised neurons with sigmoid activation functions."
      ]
    },
    {
      "cell_type": "code",
      "metadata": {
        "id": "X7juMvzIpUuH",
        "colab": {
          "base_uri": "https://localhost:8080/"
        },
        "outputId": "2ff7cb55-31a1-4bd2-9f59-a45519df3198"
      },
      "source": [
        "multitask_model = MultitaskModel()\n",
        "optimizer = tf.keras.optimizers.Adam(lr=1e-4, amsgrad=True)\n",
        "multitask_model.compile(optimizer=optimizer,\n",
        "                    loss=[\n",
        "                        tf.keras.losses.SparseCategoricalCrossentropy(from_logits=False),\n",
        "                        tf.keras.losses.SparseCategoricalCrossentropy(from_logits=False),\n",
        "                        tf.keras.losses.SparseCategoricalCrossentropy(from_logits=False),\n",
        "                        tf.keras.losses.SparseCategoricalCrossentropy(from_logits=False),\n",
        "                        tf.keras.losses.SparseCategoricalCrossentropy(from_logits=False),\n",
        "                        tf.keras.losses.SparseCategoricalCrossentropy(from_logits=False)\n",
        "                    ], metrics=[\"accuracy\"])\n",
        "lr_reducer = ReduceLROnPlateau(factor=np.sqrt(0.1), cooldown=0, patience=5, min_lr=0.5e-6)\n",
        "early_stopper = EarlyStopping(min_delta=0.001, patience=10)\n",
        "\n",
        "history = multitask_model.fit(x=x_train, y=[c_train[:, 0], c_train[:, 1], c_train[:, 2],\n",
        "                        c_train[:, 3], c_train[:, 4], c_train[:, 5]], \n",
        "                        epochs=1000, batch_size=128,\n",
        "                        validation_data=(x_valid, [c_valid[:, 0], c_valid[:, 1], c_valid[:, 2],\n",
        "                            c_valid[:, 3], c_valid[:, 4], c_valid[:, 5]]),\n",
        "                        callbacks=[lr_reducer, early_stopper])"
      ],
      "execution_count": null,
      "outputs": [
        {
          "output_type": "stream",
          "text": [
            "Epoch 1/1000\n",
            "547/547 [==============================] - 18s 23ms/step - loss: 13.7120 - color_loss: 0.0000e+00 - shape_loss: 1.1477 - scale_loss: 1.7765 - rotation_loss: 3.7951 - x_loss: 3.4979 - y_loss: 3.4948 - color_accuracy: 0.0000e+00 - shape_accuracy: 0.3670 - scale_accuracy: 0.2444 - rotation_accuracy: 0.0248 - x_accuracy: 0.0463 - y_accuracy: 0.0489 - val_loss: 12.8184 - val_color_loss: 0.0000e+00 - val_shape_loss: 1.0380 - val_scale_loss: 1.5115 - val_rotation_loss: 3.7031 - val_x_loss: 3.2845 - val_y_loss: 3.2813 - val_color_accuracy: 0.0000e+00 - val_shape_accuracy: 0.4391 - val_scale_accuracy: 0.4078 - val_rotation_accuracy: 0.0257 - val_x_accuracy: 0.1431 - val_y_accuracy: 0.1369\n",
            "Epoch 2/1000\n",
            "547/547 [==============================] - 12s 22ms/step - loss: 12.7149 - color_loss: 0.0000e+00 - shape_loss: 1.0813 - scale_loss: 1.4813 - rotation_loss: 3.8247 - x_loss: 3.1645 - y_loss: 3.1631 - color_accuracy: 0.0000e+00 - shape_accuracy: 0.4218 - scale_accuracy: 0.3497 - rotation_accuracy: 0.0255 - x_accuracy: 0.1109 - y_accuracy: 0.1063 - val_loss: 11.5008 - val_color_loss: 0.0000e+00 - val_shape_loss: 1.0081 - val_scale_loss: 1.2899 - val_rotation_loss: 3.7537 - val_x_loss: 2.7257 - val_y_loss: 2.7234 - val_color_accuracy: 0.0000e+00 - val_shape_accuracy: 0.4502 - val_scale_accuracy: 0.4537 - val_rotation_accuracy: 0.0239 - val_x_accuracy: 0.2295 - val_y_accuracy: 0.2169\n",
            "Epoch 3/1000\n",
            "547/547 [==============================] - 12s 22ms/step - loss: 11.9484 - color_loss: 0.0000e+00 - shape_loss: 1.0927 - scale_loss: 1.4147 - rotation_loss: 3.8867 - x_loss: 2.7859 - y_loss: 2.7685 - color_accuracy: 0.0000e+00 - shape_accuracy: 0.4270 - scale_accuracy: 0.3716 - rotation_accuracy: 0.0266 - x_accuracy: 0.1644 - y_accuracy: 0.1581 - val_loss: 10.5664 - val_color_loss: 0.0000e+00 - val_shape_loss: 1.0194 - val_scale_loss: 1.2199 - val_rotation_loss: 3.7855 - val_x_loss: 2.2419 - val_y_loss: 2.2997 - val_color_accuracy: 0.0000e+00 - val_shape_accuracy: 0.4321 - val_scale_accuracy: 0.4479 - val_rotation_accuracy: 0.0261 - val_x_accuracy: 0.2897 - val_y_accuracy: 0.2678\n",
            "Epoch 4/1000\n",
            "547/547 [==============================] - 12s 21ms/step - loss: 11.3049 - color_loss: 0.0000e+00 - shape_loss: 1.0785 - scale_loss: 1.3623 - rotation_loss: 3.8963 - x_loss: 2.4880 - y_loss: 2.4797 - color_accuracy: 0.0000e+00 - shape_accuracy: 0.4316 - scale_accuracy: 0.3899 - rotation_accuracy: 0.0263 - x_accuracy: 0.1984 - y_accuracy: 0.1892 - val_loss: 9.9777 - val_color_loss: 0.0000e+00 - val_shape_loss: 0.9973 - val_scale_loss: 1.1559 - val_rotation_loss: 3.7535 - val_x_loss: 2.0291 - val_y_loss: 2.0419 - val_color_accuracy: 0.0000e+00 - val_shape_accuracy: 0.4434 - val_scale_accuracy: 0.4649 - val_rotation_accuracy: 0.0276 - val_x_accuracy: 0.3429 - val_y_accuracy: 0.3210\n",
            "Epoch 5/1000\n",
            "547/547 [==============================] - 12s 22ms/step - loss: 10.8323 - color_loss: 0.0000e+00 - shape_loss: 1.0779 - scale_loss: 1.3307 - rotation_loss: 3.8845 - x_loss: 2.2586 - y_loss: 2.2807 - color_accuracy: 0.0000e+00 - shape_accuracy: 0.4299 - scale_accuracy: 0.3997 - rotation_accuracy: 0.0287 - x_accuracy: 0.2313 - y_accuracy: 0.2187 - val_loss: 9.3812 - val_color_loss: 0.0000e+00 - val_shape_loss: 1.0032 - val_scale_loss: 1.0832 - val_rotation_loss: 3.7647 - val_x_loss: 1.7423 - val_y_loss: 1.7878 - val_color_accuracy: 0.0000e+00 - val_shape_accuracy: 0.4427 - val_scale_accuracy: 0.4702 - val_rotation_accuracy: 0.0253 - val_x_accuracy: 0.3917 - val_y_accuracy: 0.3597\n",
            "Epoch 6/1000\n",
            "547/547 [==============================] - 12s 21ms/step - loss: 10.4743 - color_loss: 0.0000e+00 - shape_loss: 1.0642 - scale_loss: 1.2994 - rotation_loss: 3.8705 - x_loss: 2.0997 - y_loss: 2.1405 - color_accuracy: 0.0000e+00 - shape_accuracy: 0.4332 - scale_accuracy: 0.4079 - rotation_accuracy: 0.0274 - x_accuracy: 0.2520 - y_accuracy: 0.2368 - val_loss: 9.1097 - val_color_loss: 0.0000e+00 - val_shape_loss: 0.9975 - val_scale_loss: 1.0655 - val_rotation_loss: 3.7415 - val_x_loss: 1.6474 - val_y_loss: 1.6578 - val_color_accuracy: 0.0000e+00 - val_shape_accuracy: 0.4480 - val_scale_accuracy: 0.4673 - val_rotation_accuracy: 0.0264 - val_x_accuracy: 0.4319 - val_y_accuracy: 0.4006\n",
            "Epoch 7/1000\n",
            "547/547 [==============================] - 12s 21ms/step - loss: 10.1957 - color_loss: 0.0000e+00 - shape_loss: 1.0545 - scale_loss: 1.2738 - rotation_loss: 3.8611 - x_loss: 1.9782 - y_loss: 2.0281 - color_accuracy: 0.0000e+00 - shape_accuracy: 0.4387 - scale_accuracy: 0.4145 - rotation_accuracy: 0.0287 - x_accuracy: 0.2758 - y_accuracy: 0.2593 - val_loss: 8.9225 - val_color_loss: 0.0000e+00 - val_shape_loss: 1.0033 - val_scale_loss: 1.0967 - val_rotation_loss: 3.7369 - val_x_loss: 1.4660 - val_y_loss: 1.6196 - val_color_accuracy: 0.0000e+00 - val_shape_accuracy: 0.4447 - val_scale_accuracy: 0.4694 - val_rotation_accuracy: 0.0276 - val_x_accuracy: 0.4919 - val_y_accuracy: 0.3967\n",
            "Epoch 8/1000\n",
            "547/547 [==============================] - 12s 22ms/step - loss: 9.9624 - color_loss: 0.0000e+00 - shape_loss: 1.0483 - scale_loss: 1.2584 - rotation_loss: 3.8474 - x_loss: 1.8723 - y_loss: 1.9360 - color_accuracy: 0.0000e+00 - shape_accuracy: 0.4389 - scale_accuracy: 0.4166 - rotation_accuracy: 0.0279 - x_accuracy: 0.2982 - y_accuracy: 0.2715 - val_loss: 8.6467 - val_color_loss: 0.0000e+00 - val_shape_loss: 0.9964 - val_scale_loss: 1.0329 - val_rotation_loss: 3.7269 - val_x_loss: 1.3885 - val_y_loss: 1.5021 - val_color_accuracy: 0.0000e+00 - val_shape_accuracy: 0.4426 - val_scale_accuracy: 0.4746 - val_rotation_accuracy: 0.0293 - val_x_accuracy: 0.5137 - val_y_accuracy: 0.4410\n",
            "Epoch 9/1000\n",
            "547/547 [==============================] - 12s 22ms/step - loss: 9.7580 - color_loss: 0.0000e+00 - shape_loss: 1.0381 - scale_loss: 1.2310 - rotation_loss: 3.8326 - x_loss: 1.8029 - y_loss: 1.8533 - color_accuracy: 0.0000e+00 - shape_accuracy: 0.4405 - scale_accuracy: 0.4337 - rotation_accuracy: 0.0300 - x_accuracy: 0.3084 - y_accuracy: 0.2895 - val_loss: 8.5027 - val_color_loss: 0.0000e+00 - val_shape_loss: 0.9950 - val_scale_loss: 1.0182 - val_rotation_loss: 3.7163 - val_x_loss: 1.3502 - val_y_loss: 1.4231 - val_color_accuracy: 0.0000e+00 - val_shape_accuracy: 0.4430 - val_scale_accuracy: 0.4710 - val_rotation_accuracy: 0.0306 - val_x_accuracy: 0.5417 - val_y_accuracy: 0.4806\n",
            "Epoch 10/1000\n",
            "547/547 [==============================] - 12s 22ms/step - loss: 9.5860 - color_loss: 0.0000e+00 - shape_loss: 1.0373 - scale_loss: 1.2161 - rotation_loss: 3.8158 - x_loss: 1.7339 - y_loss: 1.7829 - color_accuracy: 0.0000e+00 - shape_accuracy: 0.4356 - scale_accuracy: 0.4341 - rotation_accuracy: 0.0293 - x_accuracy: 0.3242 - y_accuracy: 0.3031 - val_loss: 8.3712 - val_color_loss: 0.0000e+00 - val_shape_loss: 0.9954 - val_scale_loss: 1.0026 - val_rotation_loss: 3.7071 - val_x_loss: 1.2861 - val_y_loss: 1.3800 - val_color_accuracy: 0.0000e+00 - val_shape_accuracy: 0.4452 - val_scale_accuracy: 0.4716 - val_rotation_accuracy: 0.0306 - val_x_accuracy: 0.5919 - val_y_accuracy: 0.5111\n",
            "Epoch 11/1000\n",
            "547/547 [==============================] - 12s 22ms/step - loss: 9.4440 - color_loss: 0.0000e+00 - shape_loss: 1.0318 - scale_loss: 1.1929 - rotation_loss: 3.8110 - x_loss: 1.6763 - y_loss: 1.7321 - color_accuracy: 0.0000e+00 - shape_accuracy: 0.4418 - scale_accuracy: 0.4387 - rotation_accuracy: 0.0301 - x_accuracy: 0.3369 - y_accuracy: 0.3119 - val_loss: 8.2475 - val_color_loss: 0.0000e+00 - val_shape_loss: 0.9997 - val_scale_loss: 1.0071 - val_rotation_loss: 3.6975 - val_x_loss: 1.2412 - val_y_loss: 1.3021 - val_color_accuracy: 0.0000e+00 - val_shape_accuracy: 0.4381 - val_scale_accuracy: 0.4709 - val_rotation_accuracy: 0.0325 - val_x_accuracy: 0.5928 - val_y_accuracy: 0.5429\n",
            "Epoch 12/1000\n",
            "547/547 [==============================] - 12s 22ms/step - loss: 9.3129 - color_loss: 0.0000e+00 - shape_loss: 1.0305 - scale_loss: 1.1796 - rotation_loss: 3.8004 - x_loss: 1.6284 - y_loss: 1.6740 - color_accuracy: 0.0000e+00 - shape_accuracy: 0.4396 - scale_accuracy: 0.4429 - rotation_accuracy: 0.0306 - x_accuracy: 0.3516 - y_accuracy: 0.3292 - val_loss: 8.1310 - val_color_loss: 0.0000e+00 - val_shape_loss: 0.9957 - val_scale_loss: 0.9770 - val_rotation_loss: 3.6888 - val_x_loss: 1.2005 - val_y_loss: 1.2690 - val_color_accuracy: 0.0000e+00 - val_shape_accuracy: 0.4398 - val_scale_accuracy: 0.4793 - val_rotation_accuracy: 0.0341 - val_x_accuracy: 0.6277 - val_y_accuracy: 0.5657\n",
            "Epoch 13/1000\n",
            "547/547 [==============================] - 12s 22ms/step - loss: 9.1945 - color_loss: 0.0000e+00 - shape_loss: 1.0259 - scale_loss: 1.1669 - rotation_loss: 3.7867 - x_loss: 1.5805 - y_loss: 1.6345 - color_accuracy: 0.0000e+00 - shape_accuracy: 0.4397 - scale_accuracy: 0.4461 - rotation_accuracy: 0.0315 - x_accuracy: 0.3633 - y_accuracy: 0.3346 - val_loss: 8.1751 - val_color_loss: 0.0000e+00 - val_shape_loss: 1.0115 - val_scale_loss: 1.0807 - val_rotation_loss: 3.6828 - val_x_loss: 1.1687 - val_y_loss: 1.2314 - val_color_accuracy: 0.0000e+00 - val_shape_accuracy: 0.4306 - val_scale_accuracy: 0.4663 - val_rotation_accuracy: 0.0339 - val_x_accuracy: 0.6428 - val_y_accuracy: 0.5890\n",
            "Epoch 14/1000\n",
            "547/547 [==============================] - 12s 22ms/step - loss: 9.0909 - color_loss: 0.0000e+00 - shape_loss: 1.0259 - scale_loss: 1.1537 - rotation_loss: 3.7756 - x_loss: 1.5429 - y_loss: 1.5929 - color_accuracy: 0.0000e+00 - shape_accuracy: 0.4416 - scale_accuracy: 0.4548 - rotation_accuracy: 0.0326 - x_accuracy: 0.3749 - y_accuracy: 0.3496 - val_loss: 8.0071 - val_color_loss: 0.0000e+00 - val_shape_loss: 1.0014 - val_scale_loss: 0.9949 - val_rotation_loss: 3.6714 - val_x_loss: 1.1316 - val_y_loss: 1.2077 - val_color_accuracy: 0.0000e+00 - val_shape_accuracy: 0.4365 - val_scale_accuracy: 0.4627 - val_rotation_accuracy: 0.0363 - val_x_accuracy: 0.6485 - val_y_accuracy: 0.5953\n",
            "Epoch 15/1000\n",
            "547/547 [==============================] - 12s 22ms/step - loss: 8.9812 - color_loss: 0.0000e+00 - shape_loss: 1.0210 - scale_loss: 1.1436 - rotation_loss: 3.7504 - x_loss: 1.5072 - y_loss: 1.5589 - color_accuracy: 0.0000e+00 - shape_accuracy: 0.4425 - scale_accuracy: 0.4586 - rotation_accuracy: 0.0345 - x_accuracy: 0.3888 - y_accuracy: 0.3616 - val_loss: 7.9870 - val_color_loss: 0.0000e+00 - val_shape_loss: 1.0043 - val_scale_loss: 1.0354 - val_rotation_loss: 3.6528 - val_x_loss: 1.1140 - val_y_loss: 1.1805 - val_color_accuracy: 0.0000e+00 - val_shape_accuracy: 0.4461 - val_scale_accuracy: 0.4959 - val_rotation_accuracy: 0.0385 - val_x_accuracy: 0.6782 - val_y_accuracy: 0.6049\n",
            "Epoch 16/1000\n",
            "547/547 [==============================] - 12s 22ms/step - loss: 8.9028 - color_loss: 0.0000e+00 - shape_loss: 1.0211 - scale_loss: 1.1269 - rotation_loss: 3.7480 - x_loss: 1.4809 - y_loss: 1.5259 - color_accuracy: 0.0000e+00 - shape_accuracy: 0.4397 - scale_accuracy: 0.4601 - rotation_accuracy: 0.0344 - x_accuracy: 0.3953 - y_accuracy: 0.3681 - val_loss: 7.8369 - val_color_loss: 0.0000e+00 - val_shape_loss: 1.0022 - val_scale_loss: 0.9615 - val_rotation_loss: 3.6375 - val_x_loss: 1.0875 - val_y_loss: 1.1481 - val_color_accuracy: 0.0000e+00 - val_shape_accuracy: 0.4419 - val_scale_accuracy: 0.5092 - val_rotation_accuracy: 0.0407 - val_x_accuracy: 0.7046 - val_y_accuracy: 0.6529\n",
            "Epoch 17/1000\n",
            "547/547 [==============================] - 12s 21ms/step - loss: 8.7956 - color_loss: 0.0000e+00 - shape_loss: 1.0207 - scale_loss: 1.1170 - rotation_loss: 3.7241 - x_loss: 1.4431 - y_loss: 1.4906 - color_accuracy: 0.0000e+00 - shape_accuracy: 0.4382 - scale_accuracy: 0.4670 - rotation_accuracy: 0.0373 - x_accuracy: 0.4076 - y_accuracy: 0.3787 - val_loss: 7.7206 - val_color_loss: 0.0000e+00 - val_shape_loss: 1.0030 - val_scale_loss: 0.9663 - val_rotation_loss: 3.6277 - val_x_loss: 1.0298 - val_y_loss: 1.0938 - val_color_accuracy: 0.0000e+00 - val_shape_accuracy: 0.4333 - val_scale_accuracy: 0.4798 - val_rotation_accuracy: 0.0403 - val_x_accuracy: 0.6978 - val_y_accuracy: 0.6619\n",
            "Epoch 18/1000\n",
            "547/547 [==============================] - 12s 21ms/step - loss: 8.7320 - color_loss: 0.0000e+00 - shape_loss: 1.0178 - scale_loss: 1.1005 - rotation_loss: 3.7163 - x_loss: 1.4265 - y_loss: 1.4709 - color_accuracy: 0.0000e+00 - shape_accuracy: 0.4442 - scale_accuracy: 0.4718 - rotation_accuracy: 0.0352 - x_accuracy: 0.4166 - y_accuracy: 0.3880 - val_loss: 7.6694 - val_color_loss: 0.0000e+00 - val_shape_loss: 1.0006 - val_scale_loss: 0.9551 - val_rotation_loss: 3.6089 - val_x_loss: 1.0176 - val_y_loss: 1.0873 - val_color_accuracy: 0.0000e+00 - val_shape_accuracy: 0.4405 - val_scale_accuracy: 0.4807 - val_rotation_accuracy: 0.0421 - val_x_accuracy: 0.7234 - val_y_accuracy: 0.6728\n",
            "Epoch 19/1000\n",
            "547/547 [==============================] - 12s 21ms/step - loss: 8.6342 - color_loss: 0.0000e+00 - shape_loss: 1.0181 - scale_loss: 1.0832 - rotation_loss: 3.6911 - x_loss: 1.4007 - y_loss: 1.4410 - color_accuracy: 0.0000e+00 - shape_accuracy: 0.4435 - scale_accuracy: 0.4771 - rotation_accuracy: 0.0384 - x_accuracy: 0.4213 - y_accuracy: 0.3990 - val_loss: 7.5208 - val_color_loss: 0.0000e+00 - val_shape_loss: 0.9937 - val_scale_loss: 0.8987 - val_rotation_loss: 3.5833 - val_x_loss: 0.9890 - val_y_loss: 1.0562 - val_color_accuracy: 0.0000e+00 - val_shape_accuracy: 0.4469 - val_scale_accuracy: 0.5197 - val_rotation_accuracy: 0.0443 - val_x_accuracy: 0.7368 - val_y_accuracy: 0.6907\n",
            "Epoch 20/1000\n",
            "547/547 [==============================] - 12s 21ms/step - loss: 8.5528 - color_loss: 0.0000e+00 - shape_loss: 1.0153 - scale_loss: 1.0704 - rotation_loss: 3.6756 - x_loss: 1.3709 - y_loss: 1.4206 - color_accuracy: 0.0000e+00 - shape_accuracy: 0.4470 - scale_accuracy: 0.4831 - rotation_accuracy: 0.0404 - x_accuracy: 0.4319 - y_accuracy: 0.4065 - val_loss: 7.4749 - val_color_loss: 0.0000e+00 - val_shape_loss: 0.9871 - val_scale_loss: 0.8887 - val_rotation_loss: 3.5599 - val_x_loss: 0.9793 - val_y_loss: 1.0599 - val_color_accuracy: 0.0000e+00 - val_shape_accuracy: 0.4633 - val_scale_accuracy: 0.5319 - val_rotation_accuracy: 0.0465 - val_x_accuracy: 0.7498 - val_y_accuracy: 0.6943\n",
            "Epoch 21/1000\n",
            "547/547 [==============================] - 12s 21ms/step - loss: 8.4827 - color_loss: 0.0000e+00 - shape_loss: 1.0124 - scale_loss: 1.0662 - rotation_loss: 3.6501 - x_loss: 1.3570 - y_loss: 1.3970 - color_accuracy: 0.0000e+00 - shape_accuracy: 0.4503 - scale_accuracy: 0.4877 - rotation_accuracy: 0.0403 - x_accuracy: 0.4395 - y_accuracy: 0.4132 - val_loss: 7.3862 - val_color_loss: 0.0000e+00 - val_shape_loss: 0.9789 - val_scale_loss: 0.8779 - val_rotation_loss: 3.5403 - val_x_loss: 0.9829 - val_y_loss: 1.0062 - val_color_accuracy: 0.0000e+00 - val_shape_accuracy: 0.4775 - val_scale_accuracy: 0.5490 - val_rotation_accuracy: 0.0464 - val_x_accuracy: 0.7208 - val_y_accuracy: 0.7073\n",
            "Epoch 22/1000\n",
            "547/547 [==============================] - 12s 22ms/step - loss: 8.4091 - color_loss: 0.0000e+00 - shape_loss: 1.0067 - scale_loss: 1.0498 - rotation_loss: 3.6234 - x_loss: 1.3561 - y_loss: 1.3731 - color_accuracy: 0.0000e+00 - shape_accuracy: 0.4625 - scale_accuracy: 0.4925 - rotation_accuracy: 0.0432 - x_accuracy: 0.4360 - y_accuracy: 0.4229 - val_loss: 7.3221 - val_color_loss: 0.0000e+00 - val_shape_loss: 0.9659 - val_scale_loss: 0.8782 - val_rotation_loss: 3.5064 - val_x_loss: 0.9645 - val_y_loss: 1.0071 - val_color_accuracy: 0.0000e+00 - val_shape_accuracy: 0.5125 - val_scale_accuracy: 0.5608 - val_rotation_accuracy: 0.0517 - val_x_accuracy: 0.7443 - val_y_accuracy: 0.7136\n",
            "Epoch 23/1000\n",
            "547/547 [==============================] - 12s 21ms/step - loss: 8.3239 - color_loss: 0.0000e+00 - shape_loss: 0.9938 - scale_loss: 1.0387 - rotation_loss: 3.5943 - x_loss: 1.3344 - y_loss: 1.3628 - color_accuracy: 0.0000e+00 - shape_accuracy: 0.4788 - scale_accuracy: 0.4963 - rotation_accuracy: 0.0457 - x_accuracy: 0.4525 - y_accuracy: 0.4273 - val_loss: 7.1775 - val_color_loss: 0.0000e+00 - val_shape_loss: 0.9322 - val_scale_loss: 0.8456 - val_rotation_loss: 3.4671 - val_x_loss: 0.9328 - val_y_loss: 0.9999 - val_color_accuracy: 0.0000e+00 - val_shape_accuracy: 0.5531 - val_scale_accuracy: 0.5470 - val_rotation_accuracy: 0.0542 - val_x_accuracy: 0.7569 - val_y_accuracy: 0.7075\n",
            "Epoch 24/1000\n",
            "547/547 [==============================] - 12s 22ms/step - loss: 8.2317 - color_loss: 0.0000e+00 - shape_loss: 0.9719 - scale_loss: 1.0301 - rotation_loss: 3.5663 - x_loss: 1.3179 - y_loss: 1.3456 - color_accuracy: 0.0000e+00 - shape_accuracy: 0.5052 - scale_accuracy: 0.5014 - rotation_accuracy: 0.0473 - x_accuracy: 0.4556 - y_accuracy: 0.4351 - val_loss: 7.1212 - val_color_loss: 0.0000e+00 - val_shape_loss: 0.9019 - val_scale_loss: 0.8930 - val_rotation_loss: 3.4400 - val_x_loss: 0.9216 - val_y_loss: 0.9648 - val_color_accuracy: 0.0000e+00 - val_shape_accuracy: 0.5837 - val_scale_accuracy: 0.4998 - val_rotation_accuracy: 0.0551 - val_x_accuracy: 0.7589 - val_y_accuracy: 0.7159\n",
            "Epoch 25/1000\n",
            "547/547 [==============================] - 12s 22ms/step - loss: 8.1378 - color_loss: 0.0000e+00 - shape_loss: 0.9483 - scale_loss: 1.0076 - rotation_loss: 3.5433 - x_loss: 1.3019 - y_loss: 1.3367 - color_accuracy: 0.0000e+00 - shape_accuracy: 0.5257 - scale_accuracy: 0.5096 - rotation_accuracy: 0.0459 - x_accuracy: 0.4610 - y_accuracy: 0.4360 - val_loss: 6.9148 - val_color_loss: 0.0000e+00 - val_shape_loss: 0.8491 - val_scale_loss: 0.7986 - val_rotation_loss: 3.4090 - val_x_loss: 0.8908 - val_y_loss: 0.9673 - val_color_accuracy: 0.0000e+00 - val_shape_accuracy: 0.6361 - val_scale_accuracy: 0.5793 - val_rotation_accuracy: 0.0547 - val_x_accuracy: 0.7634 - val_y_accuracy: 0.7022\n",
            "Epoch 26/1000\n",
            "547/547 [==============================] - 12s 21ms/step - loss: 8.0663 - color_loss: 0.0000e+00 - shape_loss: 0.9243 - scale_loss: 0.9969 - rotation_loss: 3.5219 - x_loss: 1.3010 - y_loss: 1.3223 - color_accuracy: 0.0000e+00 - shape_accuracy: 0.5503 - scale_accuracy: 0.5192 - rotation_accuracy: 0.0468 - x_accuracy: 0.4589 - y_accuracy: 0.4439 - val_loss: 6.8298 - val_color_loss: 0.0000e+00 - val_shape_loss: 0.8101 - val_scale_loss: 0.8241 - val_rotation_loss: 3.3808 - val_x_loss: 0.8848 - val_y_loss: 0.9299 - val_color_accuracy: 0.0000e+00 - val_shape_accuracy: 0.6804 - val_scale_accuracy: 0.6011 - val_rotation_accuracy: 0.0557 - val_x_accuracy: 0.7634 - val_y_accuracy: 0.7361\n",
            "Epoch 27/1000\n",
            "547/547 [==============================] - 12s 22ms/step - loss: 8.0007 - color_loss: 0.0000e+00 - shape_loss: 0.9007 - scale_loss: 0.9868 - rotation_loss: 3.4924 - x_loss: 1.2967 - y_loss: 1.3240 - color_accuracy: 0.0000e+00 - shape_accuracy: 0.5677 - scale_accuracy: 0.5225 - rotation_accuracy: 0.0494 - x_accuracy: 0.4661 - y_accuracy: 0.4423 - val_loss: 6.6626 - val_color_loss: 0.0000e+00 - val_shape_loss: 0.7738 - val_scale_loss: 0.7627 - val_rotation_loss: 3.3598 - val_x_loss: 0.8601 - val_y_loss: 0.9062 - val_color_accuracy: 0.0000e+00 - val_shape_accuracy: 0.6919 - val_scale_accuracy: 0.5962 - val_rotation_accuracy: 0.0611 - val_x_accuracy: 0.7609 - val_y_accuracy: 0.7245\n",
            "Epoch 28/1000\n",
            "547/547 [==============================] - 12s 22ms/step - loss: 7.9205 - color_loss: 0.0000e+00 - shape_loss: 0.8701 - scale_loss: 0.9759 - rotation_loss: 3.4746 - x_loss: 1.2833 - y_loss: 1.3166 - color_accuracy: 0.0000e+00 - shape_accuracy: 0.5902 - scale_accuracy: 0.5300 - rotation_accuracy: 0.0515 - x_accuracy: 0.4692 - y_accuracy: 0.4460 - val_loss: 6.5553 - val_color_loss: 0.0000e+00 - val_shape_loss: 0.7198 - val_scale_loss: 0.7460 - val_rotation_loss: 3.3337 - val_x_loss: 0.8561 - val_y_loss: 0.8997 - val_color_accuracy: 0.0000e+00 - val_shape_accuracy: 0.7251 - val_scale_accuracy: 0.6011 - val_rotation_accuracy: 0.0595 - val_x_accuracy: 0.7647 - val_y_accuracy: 0.7320\n",
            "Epoch 29/1000\n",
            "547/547 [==============================] - 12s 22ms/step - loss: 7.8383 - color_loss: 0.0000e+00 - shape_loss: 0.8467 - scale_loss: 0.9562 - rotation_loss: 3.4578 - x_loss: 1.2789 - y_loss: 1.2987 - color_accuracy: 0.0000e+00 - shape_accuracy: 0.6025 - scale_accuracy: 0.5385 - rotation_accuracy: 0.0528 - x_accuracy: 0.4699 - y_accuracy: 0.4566 - val_loss: 6.5296 - val_color_loss: 0.0000e+00 - val_shape_loss: 0.6952 - val_scale_loss: 0.7483 - val_rotation_loss: 3.3237 - val_x_loss: 0.8583 - val_y_loss: 0.9041 - val_color_accuracy: 0.0000e+00 - val_shape_accuracy: 0.7466 - val_scale_accuracy: 0.6383 - val_rotation_accuracy: 0.0587 - val_x_accuracy: 0.7751 - val_y_accuracy: 0.7471\n",
            "Epoch 30/1000\n",
            "547/547 [==============================] - 12s 22ms/step - loss: 7.7538 - color_loss: 0.0000e+00 - shape_loss: 0.8191 - scale_loss: 0.9431 - rotation_loss: 3.4378 - x_loss: 1.2653 - y_loss: 1.2886 - color_accuracy: 0.0000e+00 - shape_accuracy: 0.6204 - scale_accuracy: 0.5459 - rotation_accuracy: 0.0539 - x_accuracy: 0.4764 - y_accuracy: 0.4593 - val_loss: 6.3834 - val_color_loss: 0.0000e+00 - val_shape_loss: 0.6498 - val_scale_loss: 0.7150 - val_rotation_loss: 3.2998 - val_x_loss: 0.8398 - val_y_loss: 0.8791 - val_color_accuracy: 0.0000e+00 - val_shape_accuracy: 0.7716 - val_scale_accuracy: 0.6502 - val_rotation_accuracy: 0.0639 - val_x_accuracy: 0.7821 - val_y_accuracy: 0.7551\n",
            "Epoch 31/1000\n",
            "547/547 [==============================] - 12s 22ms/step - loss: 7.6737 - color_loss: 0.0000e+00 - shape_loss: 0.7918 - scale_loss: 0.9384 - rotation_loss: 3.4125 - x_loss: 1.2484 - y_loss: 1.2826 - color_accuracy: 0.0000e+00 - shape_accuracy: 0.6358 - scale_accuracy: 0.5474 - rotation_accuracy: 0.0563 - x_accuracy: 0.4836 - y_accuracy: 0.4629 - val_loss: 6.2639 - val_color_loss: 0.0000e+00 - val_shape_loss: 0.6222 - val_scale_loss: 0.7065 - val_rotation_loss: 3.2795 - val_x_loss: 0.8016 - val_y_loss: 0.8542 - val_color_accuracy: 0.0000e+00 - val_shape_accuracy: 0.7665 - val_scale_accuracy: 0.6465 - val_rotation_accuracy: 0.0628 - val_x_accuracy: 0.7852 - val_y_accuracy: 0.7552\n",
            "Epoch 32/1000\n",
            "547/547 [==============================] - 12s 22ms/step - loss: 7.6172 - color_loss: 0.0000e+00 - shape_loss: 0.7695 - scale_loss: 0.9241 - rotation_loss: 3.3984 - x_loss: 1.2508 - y_loss: 1.2743 - color_accuracy: 0.0000e+00 - shape_accuracy: 0.6485 - scale_accuracy: 0.5590 - rotation_accuracy: 0.0577 - x_accuracy: 0.4833 - y_accuracy: 0.4654 - val_loss: 6.2376 - val_color_loss: 0.0000e+00 - val_shape_loss: 0.5929 - val_scale_loss: 0.6886 - val_rotation_loss: 3.2715 - val_x_loss: 0.8147 - val_y_loss: 0.8699 - val_color_accuracy: 0.0000e+00 - val_shape_accuracy: 0.7946 - val_scale_accuracy: 0.6785 - val_rotation_accuracy: 0.0607 - val_x_accuracy: 0.7861 - val_y_accuracy: 0.7333\n",
            "Epoch 33/1000\n",
            "547/547 [==============================] - 12s 22ms/step - loss: 7.5586 - color_loss: 0.0000e+00 - shape_loss: 0.7460 - scale_loss: 0.9110 - rotation_loss: 3.3884 - x_loss: 1.2423 - y_loss: 1.2709 - color_accuracy: 0.0000e+00 - shape_accuracy: 0.6597 - scale_accuracy: 0.5620 - rotation_accuracy: 0.0583 - x_accuracy: 0.4886 - y_accuracy: 0.4729 - val_loss: 6.1002 - val_color_loss: 0.0000e+00 - val_shape_loss: 0.5651 - val_scale_loss: 0.6688 - val_rotation_loss: 3.2468 - val_x_loss: 0.7872 - val_y_loss: 0.8323 - val_color_accuracy: 0.0000e+00 - val_shape_accuracy: 0.7729 - val_scale_accuracy: 0.6539 - val_rotation_accuracy: 0.0663 - val_x_accuracy: 0.7848 - val_y_accuracy: 0.7582\n",
            "Epoch 34/1000\n",
            "547/547 [==============================] - 12s 22ms/step - loss: 7.4975 - color_loss: 0.0000e+00 - shape_loss: 0.7274 - scale_loss: 0.9022 - rotation_loss: 3.3729 - x_loss: 1.2352 - y_loss: 1.2597 - color_accuracy: 0.0000e+00 - shape_accuracy: 0.6710 - scale_accuracy: 0.5689 - rotation_accuracy: 0.0571 - x_accuracy: 0.4906 - y_accuracy: 0.4750 - val_loss: 6.0891 - val_color_loss: 0.0000e+00 - val_shape_loss: 0.5379 - val_scale_loss: 0.6678 - val_rotation_loss: 3.2453 - val_x_loss: 0.7996 - val_y_loss: 0.8384 - val_color_accuracy: 0.0000e+00 - val_shape_accuracy: 0.8144 - val_scale_accuracy: 0.6729 - val_rotation_accuracy: 0.0637 - val_x_accuracy: 0.7853 - val_y_accuracy: 0.7672\n",
            "Epoch 35/1000\n",
            "547/547 [==============================] - 12s 22ms/step - loss: 7.4277 - color_loss: 0.0000e+00 - shape_loss: 0.7029 - scale_loss: 0.8910 - rotation_loss: 3.3573 - x_loss: 1.2271 - y_loss: 1.2494 - color_accuracy: 0.0000e+00 - shape_accuracy: 0.6837 - scale_accuracy: 0.5763 - rotation_accuracy: 0.0597 - x_accuracy: 0.4905 - y_accuracy: 0.4759 - val_loss: 5.9677 - val_color_loss: 0.0000e+00 - val_shape_loss: 0.5088 - val_scale_loss: 0.6458 - val_rotation_loss: 3.2228 - val_x_loss: 0.7733 - val_y_loss: 0.8169 - val_color_accuracy: 0.0000e+00 - val_shape_accuracy: 0.8123 - val_scale_accuracy: 0.6614 - val_rotation_accuracy: 0.0657 - val_x_accuracy: 0.7870 - val_y_accuracy: 0.7672\n",
            "Epoch 36/1000\n",
            "547/547 [==============================] - 12s 22ms/step - loss: 7.3745 - color_loss: 0.0000e+00 - shape_loss: 0.6847 - scale_loss: 0.8817 - rotation_loss: 3.3474 - x_loss: 1.2206 - y_loss: 1.2401 - color_accuracy: 0.0000e+00 - shape_accuracy: 0.6946 - scale_accuracy: 0.5830 - rotation_accuracy: 0.0598 - x_accuracy: 0.4994 - y_accuracy: 0.4825 - val_loss: 5.9958 - val_color_loss: 0.0000e+00 - val_shape_loss: 0.4993 - val_scale_loss: 0.6466 - val_rotation_loss: 3.2180 - val_x_loss: 0.7990 - val_y_loss: 0.8330 - val_color_accuracy: 0.0000e+00 - val_shape_accuracy: 0.8439 - val_scale_accuracy: 0.7231 - val_rotation_accuracy: 0.0681 - val_x_accuracy: 0.7857 - val_y_accuracy: 0.7717\n",
            "Epoch 37/1000\n",
            "547/547 [==============================] - 12s 22ms/step - loss: 7.3427 - color_loss: 0.0000e+00 - shape_loss: 0.6572 - scale_loss: 0.8853 - rotation_loss: 3.3375 - x_loss: 1.2189 - y_loss: 1.2438 - color_accuracy: 0.0000e+00 - shape_accuracy: 0.7129 - scale_accuracy: 0.5824 - rotation_accuracy: 0.0590 - x_accuracy: 0.4982 - y_accuracy: 0.4816 - val_loss: 5.8315 - val_color_loss: 0.0000e+00 - val_shape_loss: 0.4589 - val_scale_loss: 0.6406 - val_rotation_loss: 3.1860 - val_x_loss: 0.7560 - val_y_loss: 0.7901 - val_color_accuracy: 0.0000e+00 - val_shape_accuracy: 0.8474 - val_scale_accuracy: 0.7057 - val_rotation_accuracy: 0.0679 - val_x_accuracy: 0.7916 - val_y_accuracy: 0.7719\n",
            "Epoch 38/1000\n",
            "547/547 [==============================] - 12s 22ms/step - loss: 7.2696 - color_loss: 0.0000e+00 - shape_loss: 0.6360 - scale_loss: 0.8676 - rotation_loss: 3.3206 - x_loss: 1.2118 - y_loss: 1.2335 - color_accuracy: 0.0000e+00 - shape_accuracy: 0.7196 - scale_accuracy: 0.5906 - rotation_accuracy: 0.0610 - x_accuracy: 0.4993 - y_accuracy: 0.4880 - val_loss: 5.8127 - val_color_loss: 0.0000e+00 - val_shape_loss: 0.4355 - val_scale_loss: 0.6234 - val_rotation_loss: 3.1755 - val_x_loss: 0.7743 - val_y_loss: 0.8040 - val_color_accuracy: 0.0000e+00 - val_shape_accuracy: 0.8665 - val_scale_accuracy: 0.7029 - val_rotation_accuracy: 0.0727 - val_x_accuracy: 0.7934 - val_y_accuracy: 0.7733\n",
            "Epoch 39/1000\n",
            "547/547 [==============================] - 12s 22ms/step - loss: 7.2025 - color_loss: 0.0000e+00 - shape_loss: 0.6183 - scale_loss: 0.8565 - rotation_loss: 3.2949 - x_loss: 1.2040 - y_loss: 1.2288 - color_accuracy: 0.0000e+00 - shape_accuracy: 0.7302 - scale_accuracy: 0.5953 - rotation_accuracy: 0.0633 - x_accuracy: 0.5019 - y_accuracy: 0.4874 - val_loss: 5.6988 - val_color_loss: 0.0000e+00 - val_shape_loss: 0.4055 - val_scale_loss: 0.6035 - val_rotation_loss: 3.1441 - val_x_loss: 0.7465 - val_y_loss: 0.7992 - val_color_accuracy: 0.0000e+00 - val_shape_accuracy: 0.8755 - val_scale_accuracy: 0.7163 - val_rotation_accuracy: 0.0754 - val_x_accuracy: 0.8011 - val_y_accuracy: 0.7681\n",
            "Epoch 40/1000\n",
            "547/547 [==============================] - 12s 22ms/step - loss: 7.1631 - color_loss: 0.0000e+00 - shape_loss: 0.5997 - scale_loss: 0.8528 - rotation_loss: 3.2787 - x_loss: 1.1994 - y_loss: 1.2325 - color_accuracy: 0.0000e+00 - shape_accuracy: 0.7376 - scale_accuracy: 0.5966 - rotation_accuracy: 0.0657 - x_accuracy: 0.5063 - y_accuracy: 0.4842 - val_loss: 5.6382 - val_color_loss: 0.0000e+00 - val_shape_loss: 0.3805 - val_scale_loss: 0.5896 - val_rotation_loss: 3.1248 - val_x_loss: 0.7515 - val_y_loss: 0.7919 - val_color_accuracy: 0.0000e+00 - val_shape_accuracy: 0.9028 - val_scale_accuracy: 0.7723 - val_rotation_accuracy: 0.0794 - val_x_accuracy: 0.8031 - val_y_accuracy: 0.7734\n",
            "Epoch 41/1000\n",
            "547/547 [==============================] - 12s 22ms/step - loss: 7.0918 - color_loss: 0.0000e+00 - shape_loss: 0.5714 - scale_loss: 0.8480 - rotation_loss: 3.2585 - x_loss: 1.2008 - y_loss: 1.2132 - color_accuracy: 0.0000e+00 - shape_accuracy: 0.7507 - scale_accuracy: 0.6001 - rotation_accuracy: 0.0680 - x_accuracy: 0.5047 - y_accuracy: 0.4909 - val_loss: 5.6172 - val_color_loss: 0.0000e+00 - val_shape_loss: 0.3631 - val_scale_loss: 0.6123 - val_rotation_loss: 3.0961 - val_x_loss: 0.7555 - val_y_loss: 0.7901 - val_color_accuracy: 0.0000e+00 - val_shape_accuracy: 0.8925 - val_scale_accuracy: 0.7063 - val_rotation_accuracy: 0.0823 - val_x_accuracy: 0.7877 - val_y_accuracy: 0.7633\n",
            "Epoch 42/1000\n",
            "547/547 [==============================] - 12s 22ms/step - loss: 7.0447 - color_loss: 0.0000e+00 - shape_loss: 0.5510 - scale_loss: 0.8352 - rotation_loss: 3.2435 - x_loss: 1.1958 - y_loss: 1.2192 - color_accuracy: 0.0000e+00 - shape_accuracy: 0.7651 - scale_accuracy: 0.6103 - rotation_accuracy: 0.0667 - x_accuracy: 0.5061 - y_accuracy: 0.4950 - val_loss: 5.4642 - val_color_loss: 0.0000e+00 - val_shape_loss: 0.3305 - val_scale_loss: 0.5586 - val_rotation_loss: 3.0744 - val_x_loss: 0.7370 - val_y_loss: 0.7636 - val_color_accuracy: 0.0000e+00 - val_shape_accuracy: 0.9157 - val_scale_accuracy: 0.7595 - val_rotation_accuracy: 0.0845 - val_x_accuracy: 0.7944 - val_y_accuracy: 0.7883\n",
            "Epoch 43/1000\n",
            "547/547 [==============================] - 12s 22ms/step - loss: 6.9771 - color_loss: 0.0000e+00 - shape_loss: 0.5339 - scale_loss: 0.8244 - rotation_loss: 3.2218 - x_loss: 1.1841 - y_loss: 1.2129 - color_accuracy: 0.0000e+00 - shape_accuracy: 0.7738 - scale_accuracy: 0.6170 - rotation_accuracy: 0.0695 - x_accuracy: 0.5110 - y_accuracy: 0.4926 - val_loss: 5.4382 - val_color_loss: 0.0000e+00 - val_shape_loss: 0.3137 - val_scale_loss: 0.5579 - val_rotation_loss: 3.0581 - val_x_loss: 0.7370 - val_y_loss: 0.7715 - val_color_accuracy: 0.0000e+00 - val_shape_accuracy: 0.9210 - val_scale_accuracy: 0.7719 - val_rotation_accuracy: 0.0871 - val_x_accuracy: 0.8032 - val_y_accuracy: 0.7865\n",
            "Epoch 44/1000\n",
            "547/547 [==============================] - 12s 22ms/step - loss: 6.9359 - color_loss: 0.0000e+00 - shape_loss: 0.5151 - scale_loss: 0.8220 - rotation_loss: 3.2050 - x_loss: 1.1906 - y_loss: 1.2033 - color_accuracy: 0.0000e+00 - shape_accuracy: 0.7832 - scale_accuracy: 0.6186 - rotation_accuracy: 0.0713 - x_accuracy: 0.5115 - y_accuracy: 0.4997 - val_loss: 5.3647 - val_color_loss: 0.0000e+00 - val_shape_loss: 0.2924 - val_scale_loss: 0.5468 - val_rotation_loss: 3.0329 - val_x_loss: 0.7148 - val_y_loss: 0.7779 - val_color_accuracy: 0.0000e+00 - val_shape_accuracy: 0.9327 - val_scale_accuracy: 0.7822 - val_rotation_accuracy: 0.0876 - val_x_accuracy: 0.8084 - val_y_accuracy: 0.7596\n",
            "Epoch 45/1000\n",
            "547/547 [==============================] - 12s 22ms/step - loss: 6.8880 - color_loss: 0.0000e+00 - shape_loss: 0.5000 - scale_loss: 0.8181 - rotation_loss: 3.1983 - x_loss: 1.1654 - y_loss: 1.2062 - color_accuracy: 0.0000e+00 - shape_accuracy: 0.7919 - scale_accuracy: 0.6234 - rotation_accuracy: 0.0718 - x_accuracy: 0.5182 - y_accuracy: 0.5021 - val_loss: 5.3030 - val_color_loss: 0.0000e+00 - val_shape_loss: 0.2795 - val_scale_loss: 0.5498 - val_rotation_loss: 3.0107 - val_x_loss: 0.7122 - val_y_loss: 0.7507 - val_color_accuracy: 0.0000e+00 - val_shape_accuracy: 0.9292 - val_scale_accuracy: 0.7524 - val_rotation_accuracy: 0.0939 - val_x_accuracy: 0.8042 - val_y_accuracy: 0.7819\n",
            "Epoch 46/1000\n",
            "547/547 [==============================] - 12s 22ms/step - loss: 6.8419 - color_loss: 0.0000e+00 - shape_loss: 0.4839 - scale_loss: 0.8088 - rotation_loss: 3.1836 - x_loss: 1.1797 - y_loss: 1.1859 - color_accuracy: 0.0000e+00 - shape_accuracy: 0.7982 - scale_accuracy: 0.6261 - rotation_accuracy: 0.0732 - x_accuracy: 0.5204 - y_accuracy: 0.5110 - val_loss: 5.3896 - val_color_loss: 0.0000e+00 - val_shape_loss: 0.2792 - val_scale_loss: 0.6069 - val_rotation_loss: 3.0153 - val_x_loss: 0.7350 - val_y_loss: 0.7533 - val_color_accuracy: 0.0000e+00 - val_shape_accuracy: 0.9251 - val_scale_accuracy: 0.7330 - val_rotation_accuracy: 0.0887 - val_x_accuracy: 0.8017 - val_y_accuracy: 0.7909\n",
            "Epoch 47/1000\n",
            "547/547 [==============================] - 12s 22ms/step - loss: 6.7913 - color_loss: 0.0000e+00 - shape_loss: 0.4667 - scale_loss: 0.8026 - rotation_loss: 3.1703 - x_loss: 1.1628 - y_loss: 1.1888 - color_accuracy: 0.0000e+00 - shape_accuracy: 0.8092 - scale_accuracy: 0.6299 - rotation_accuracy: 0.0745 - x_accuracy: 0.5256 - y_accuracy: 0.5027 - val_loss: 5.1458 - val_color_loss: 0.0000e+00 - val_shape_loss: 0.2346 - val_scale_loss: 0.5030 - val_rotation_loss: 2.9697 - val_x_loss: 0.7096 - val_y_loss: 0.7289 - val_color_accuracy: 0.0000e+00 - val_shape_accuracy: 0.9535 - val_scale_accuracy: 0.8217 - val_rotation_accuracy: 0.0957 - val_x_accuracy: 0.7943 - val_y_accuracy: 0.7941\n",
            "Epoch 48/1000\n",
            "547/547 [==============================] - 12s 22ms/step - loss: 6.7520 - color_loss: 0.0000e+00 - shape_loss: 0.4513 - scale_loss: 0.7935 - rotation_loss: 3.1525 - x_loss: 1.1662 - y_loss: 1.1885 - color_accuracy: 0.0000e+00 - shape_accuracy: 0.8167 - scale_accuracy: 0.6353 - rotation_accuracy: 0.0778 - x_accuracy: 0.5193 - y_accuracy: 0.5068 - val_loss: 5.1548 - val_color_loss: 0.0000e+00 - val_shape_loss: 0.2260 - val_scale_loss: 0.5133 - val_rotation_loss: 2.9688 - val_x_loss: 0.7087 - val_y_loss: 0.7379 - val_color_accuracy: 0.0000e+00 - val_shape_accuracy: 0.9563 - val_scale_accuracy: 0.8113 - val_rotation_accuracy: 0.1058 - val_x_accuracy: 0.8035 - val_y_accuracy: 0.8001\n",
            "Epoch 49/1000\n",
            "547/547 [==============================] - 12s 22ms/step - loss: 6.7127 - color_loss: 0.0000e+00 - shape_loss: 0.4446 - scale_loss: 0.7877 - rotation_loss: 3.1462 - x_loss: 1.1575 - y_loss: 1.1767 - color_accuracy: 0.0000e+00 - shape_accuracy: 0.8225 - scale_accuracy: 0.6388 - rotation_accuracy: 0.0754 - x_accuracy: 0.5205 - y_accuracy: 0.5115 - val_loss: 5.0702 - val_color_loss: 0.0000e+00 - val_shape_loss: 0.2184 - val_scale_loss: 0.5040 - val_rotation_loss: 2.9436 - val_x_loss: 0.6803 - val_y_loss: 0.7239 - val_color_accuracy: 0.0000e+00 - val_shape_accuracy: 0.9551 - val_scale_accuracy: 0.8116 - val_rotation_accuracy: 0.1042 - val_x_accuracy: 0.8144 - val_y_accuracy: 0.7995\n",
            "Epoch 50/1000\n",
            "547/547 [==============================] - 12s 22ms/step - loss: 6.6830 - color_loss: 0.0000e+00 - shape_loss: 0.4255 - scale_loss: 0.7831 - rotation_loss: 3.1354 - x_loss: 1.1465 - y_loss: 1.1925 - color_accuracy: 0.0000e+00 - shape_accuracy: 0.8302 - scale_accuracy: 0.6447 - rotation_accuracy: 0.0796 - x_accuracy: 0.5282 - y_accuracy: 0.5087 - val_loss: 5.0078 - val_color_loss: 0.0000e+00 - val_shape_loss: 0.1964 - val_scale_loss: 0.4843 - val_rotation_loss: 2.9252 - val_x_loss: 0.6839 - val_y_loss: 0.7180 - val_color_accuracy: 0.0000e+00 - val_shape_accuracy: 0.9665 - val_scale_accuracy: 0.8355 - val_rotation_accuracy: 0.1052 - val_x_accuracy: 0.8087 - val_y_accuracy: 0.7929\n",
            "Epoch 51/1000\n",
            "547/547 [==============================] - 12s 22ms/step - loss: 6.6293 - color_loss: 0.0000e+00 - shape_loss: 0.4158 - scale_loss: 0.7769 - rotation_loss: 3.1158 - x_loss: 1.1472 - y_loss: 1.1736 - color_accuracy: 0.0000e+00 - shape_accuracy: 0.8322 - scale_accuracy: 0.6459 - rotation_accuracy: 0.0788 - x_accuracy: 0.5283 - y_accuracy: 0.5125 - val_loss: 4.9988 - val_color_loss: 0.0000e+00 - val_shape_loss: 0.1894 - val_scale_loss: 0.5059 - val_rotation_loss: 2.9134 - val_x_loss: 0.6714 - val_y_loss: 0.7187 - val_color_accuracy: 0.0000e+00 - val_shape_accuracy: 0.9668 - val_scale_accuracy: 0.8311 - val_rotation_accuracy: 0.1091 - val_x_accuracy: 0.8169 - val_y_accuracy: 0.8005\n",
            "Epoch 52/1000\n",
            "547/547 [==============================] - 12s 22ms/step - loss: 6.5999 - color_loss: 0.0000e+00 - shape_loss: 0.4049 - scale_loss: 0.7681 - rotation_loss: 3.1125 - x_loss: 1.1438 - y_loss: 1.1705 - color_accuracy: 0.0000e+00 - shape_accuracy: 0.8400 - scale_accuracy: 0.6504 - rotation_accuracy: 0.0780 - x_accuracy: 0.5301 - y_accuracy: 0.5148 - val_loss: 5.0475 - val_color_loss: 0.0000e+00 - val_shape_loss: 0.1813 - val_scale_loss: 0.5673 - val_rotation_loss: 2.9009 - val_x_loss: 0.6822 - val_y_loss: 0.7158 - val_color_accuracy: 0.0000e+00 - val_shape_accuracy: 0.9651 - val_scale_accuracy: 0.7666 - val_rotation_accuracy: 0.1157 - val_x_accuracy: 0.8157 - val_y_accuracy: 0.8000\n",
            "Epoch 53/1000\n",
            "547/547 [==============================] - 12s 22ms/step - loss: 6.5677 - color_loss: 0.0000e+00 - shape_loss: 0.3909 - scale_loss: 0.7670 - rotation_loss: 3.1000 - x_loss: 1.1402 - y_loss: 1.1695 - color_accuracy: 0.0000e+00 - shape_accuracy: 0.8460 - scale_accuracy: 0.6533 - rotation_accuracy: 0.0810 - x_accuracy: 0.5303 - y_accuracy: 0.5155 - val_loss: 4.9532 - val_color_loss: 0.0000e+00 - val_shape_loss: 0.1728 - val_scale_loss: 0.4987 - val_rotation_loss: 2.9006 - val_x_loss: 0.6729 - val_y_loss: 0.7083 - val_color_accuracy: 0.0000e+00 - val_shape_accuracy: 0.9673 - val_scale_accuracy: 0.8483 - val_rotation_accuracy: 0.1086 - val_x_accuracy: 0.8189 - val_y_accuracy: 0.8042\n",
            "Epoch 54/1000\n",
            "547/547 [==============================] - 12s 22ms/step - loss: 6.5125 - color_loss: 0.0000e+00 - shape_loss: 0.3786 - scale_loss: 0.7567 - rotation_loss: 3.0873 - x_loss: 1.1301 - y_loss: 1.1598 - color_accuracy: 0.0000e+00 - shape_accuracy: 0.8513 - scale_accuracy: 0.6541 - rotation_accuracy: 0.0828 - x_accuracy: 0.5356 - y_accuracy: 0.5199 - val_loss: 4.8447 - val_color_loss: 0.0000e+00 - val_shape_loss: 0.1477 - val_scale_loss: 0.4604 - val_rotation_loss: 2.8684 - val_x_loss: 0.6694 - val_y_loss: 0.6988 - val_color_accuracy: 0.0000e+00 - val_shape_accuracy: 0.9816 - val_scale_accuracy: 0.8586 - val_rotation_accuracy: 0.1145 - val_x_accuracy: 0.8145 - val_y_accuracy: 0.8066\n",
            "Epoch 55/1000\n",
            "547/547 [==============================] - 12s 22ms/step - loss: 6.4879 - color_loss: 0.0000e+00 - shape_loss: 0.3763 - scale_loss: 0.7557 - rotation_loss: 3.0808 - x_loss: 1.1266 - y_loss: 1.1486 - color_accuracy: 0.0000e+00 - shape_accuracy: 0.8536 - scale_accuracy: 0.6536 - rotation_accuracy: 0.0806 - x_accuracy: 0.5381 - y_accuracy: 0.5279 - val_loss: 4.8902 - val_color_loss: 0.0000e+00 - val_shape_loss: 0.1589 - val_scale_loss: 0.4747 - val_rotation_loss: 2.8751 - val_x_loss: 0.6747 - val_y_loss: 0.7067 - val_color_accuracy: 0.0000e+00 - val_shape_accuracy: 0.9637 - val_scale_accuracy: 0.8627 - val_rotation_accuracy: 0.1136 - val_x_accuracy: 0.8195 - val_y_accuracy: 0.8064\n",
            "Epoch 56/1000\n",
            "547/547 [==============================] - 12s 22ms/step - loss: 6.4494 - color_loss: 0.0000e+00 - shape_loss: 0.3590 - scale_loss: 0.7587 - rotation_loss: 3.0654 - x_loss: 1.1207 - y_loss: 1.1457 - color_accuracy: 0.0000e+00 - shape_accuracy: 0.8608 - scale_accuracy: 0.6553 - rotation_accuracy: 0.0822 - x_accuracy: 0.5416 - y_accuracy: 0.5235 - val_loss: 4.7878 - val_color_loss: 0.0000e+00 - val_shape_loss: 0.1460 - val_scale_loss: 0.4659 - val_rotation_loss: 2.8431 - val_x_loss: 0.6532 - val_y_loss: 0.6795 - val_color_accuracy: 0.0000e+00 - val_shape_accuracy: 0.9769 - val_scale_accuracy: 0.8044 - val_rotation_accuracy: 0.1221 - val_x_accuracy: 0.8140 - val_y_accuracy: 0.7981\n",
            "Epoch 57/1000\n",
            "547/547 [==============================] - 12s 22ms/step - loss: 6.4269 - color_loss: 0.0000e+00 - shape_loss: 0.3541 - scale_loss: 0.7502 - rotation_loss: 3.0590 - x_loss: 1.1235 - y_loss: 1.1401 - color_accuracy: 0.0000e+00 - shape_accuracy: 0.8625 - scale_accuracy: 0.6631 - rotation_accuracy: 0.0820 - x_accuracy: 0.5373 - y_accuracy: 0.5244 - val_loss: 4.8346 - val_color_loss: 0.0000e+00 - val_shape_loss: 0.1312 - val_scale_loss: 0.5247 - val_rotation_loss: 2.8362 - val_x_loss: 0.6594 - val_y_loss: 0.6830 - val_color_accuracy: 0.0000e+00 - val_shape_accuracy: 0.9841 - val_scale_accuracy: 0.7887 - val_rotation_accuracy: 0.1167 - val_x_accuracy: 0.8161 - val_y_accuracy: 0.8101\n",
            "Epoch 58/1000\n",
            "547/547 [==============================] - 12s 22ms/step - loss: 6.4159 - color_loss: 0.0000e+00 - shape_loss: 0.3433 - scale_loss: 0.7495 - rotation_loss: 3.0552 - x_loss: 1.1210 - y_loss: 1.1468 - color_accuracy: 0.0000e+00 - shape_accuracy: 0.8681 - scale_accuracy: 0.6601 - rotation_accuracy: 0.0855 - x_accuracy: 0.5419 - y_accuracy: 0.5231 - val_loss: 4.7722 - val_color_loss: 0.0000e+00 - val_shape_loss: 0.1249 - val_scale_loss: 0.4724 - val_rotation_loss: 2.8330 - val_x_loss: 0.6583 - val_y_loss: 0.6836 - val_color_accuracy: 0.0000e+00 - val_shape_accuracy: 0.9834 - val_scale_accuracy: 0.8223 - val_rotation_accuracy: 0.1170 - val_x_accuracy: 0.8201 - val_y_accuracy: 0.8035\n",
            "Epoch 59/1000\n",
            "547/547 [==============================] - 12s 22ms/step - loss: 6.3798 - color_loss: 0.0000e+00 - shape_loss: 0.3346 - scale_loss: 0.7413 - rotation_loss: 3.0450 - x_loss: 1.1195 - y_loss: 1.1394 - color_accuracy: 0.0000e+00 - shape_accuracy: 0.8731 - scale_accuracy: 0.6600 - rotation_accuracy: 0.0863 - x_accuracy: 0.5394 - y_accuracy: 0.5262 - val_loss: 4.6943 - val_color_loss: 0.0000e+00 - val_shape_loss: 0.1155 - val_scale_loss: 0.4314 - val_rotation_loss: 2.8231 - val_x_loss: 0.6478 - val_y_loss: 0.6765 - val_color_accuracy: 0.0000e+00 - val_shape_accuracy: 0.9869 - val_scale_accuracy: 0.8757 - val_rotation_accuracy: 0.1223 - val_x_accuracy: 0.8195 - val_y_accuracy: 0.8106\n",
            "Epoch 60/1000\n",
            "547/547 [==============================] - 12s 22ms/step - loss: 6.3639 - color_loss: 0.0000e+00 - shape_loss: 0.3293 - scale_loss: 0.7431 - rotation_loss: 3.0416 - x_loss: 1.1138 - y_loss: 1.1360 - color_accuracy: 0.0000e+00 - shape_accuracy: 0.8773 - scale_accuracy: 0.6649 - rotation_accuracy: 0.0857 - x_accuracy: 0.5424 - y_accuracy: 0.5270 - val_loss: 4.6875 - val_color_loss: 0.0000e+00 - val_shape_loss: 0.1078 - val_scale_loss: 0.4311 - val_rotation_loss: 2.8143 - val_x_loss: 0.6588 - val_y_loss: 0.6755 - val_color_accuracy: 0.0000e+00 - val_shape_accuracy: 0.9901 - val_scale_accuracy: 0.8996 - val_rotation_accuracy: 0.1250 - val_x_accuracy: 0.8170 - val_y_accuracy: 0.8143\n",
            "Epoch 61/1000\n",
            "547/547 [==============================] - 12s 22ms/step - loss: 6.2998 - color_loss: 0.0000e+00 - shape_loss: 0.3180 - scale_loss: 0.7246 - rotation_loss: 3.0200 - x_loss: 1.1043 - y_loss: 1.1329 - color_accuracy: 0.0000e+00 - shape_accuracy: 0.8798 - scale_accuracy: 0.6750 - rotation_accuracy: 0.0894 - x_accuracy: 0.5473 - y_accuracy: 0.5288 - val_loss: 4.6789 - val_color_loss: 0.0000e+00 - val_shape_loss: 0.1081 - val_scale_loss: 0.4581 - val_rotation_loss: 2.7894 - val_x_loss: 0.6410 - val_y_loss: 0.6823 - val_color_accuracy: 0.0000e+00 - val_shape_accuracy: 0.9861 - val_scale_accuracy: 0.8257 - val_rotation_accuracy: 0.1389 - val_x_accuracy: 0.8195 - val_y_accuracy: 0.7927\n",
            "Epoch 62/1000\n",
            "547/547 [==============================] - 12s 22ms/step - loss: 6.2797 - color_loss: 0.0000e+00 - shape_loss: 0.3062 - scale_loss: 0.7273 - rotation_loss: 3.0124 - x_loss: 1.1038 - y_loss: 1.1301 - color_accuracy: 0.0000e+00 - shape_accuracy: 0.8855 - scale_accuracy: 0.6740 - rotation_accuracy: 0.0900 - x_accuracy: 0.5449 - y_accuracy: 0.5317 - val_loss: 4.6021 - val_color_loss: 0.0000e+00 - val_shape_loss: 0.0943 - val_scale_loss: 0.4244 - val_rotation_loss: 2.7814 - val_x_loss: 0.6403 - val_y_loss: 0.6617 - val_color_accuracy: 0.0000e+00 - val_shape_accuracy: 0.9929 - val_scale_accuracy: 0.8814 - val_rotation_accuracy: 0.1367 - val_x_accuracy: 0.8265 - val_y_accuracy: 0.8142\n",
            "Epoch 63/1000\n",
            "547/547 [==============================] - 12s 22ms/step - loss: 6.2651 - color_loss: 0.0000e+00 - shape_loss: 0.2992 - scale_loss: 0.7185 - rotation_loss: 3.0048 - x_loss: 1.1111 - y_loss: 1.1315 - color_accuracy: 0.0000e+00 - shape_accuracy: 0.8893 - scale_accuracy: 0.6760 - rotation_accuracy: 0.0874 - x_accuracy: 0.5455 - y_accuracy: 0.5316 - val_loss: 4.5629 - val_color_loss: 0.0000e+00 - val_shape_loss: 0.1043 - val_scale_loss: 0.4256 - val_rotation_loss: 2.7558 - val_x_loss: 0.6260 - val_y_loss: 0.6513 - val_color_accuracy: 0.0000e+00 - val_shape_accuracy: 0.9869 - val_scale_accuracy: 0.8498 - val_rotation_accuracy: 0.1359 - val_x_accuracy: 0.8225 - val_y_accuracy: 0.8157\n",
            "Epoch 64/1000\n",
            "547/547 [==============================] - 12s 22ms/step - loss: 6.2264 - color_loss: 0.0000e+00 - shape_loss: 0.2935 - scale_loss: 0.7174 - rotation_loss: 2.9966 - x_loss: 1.1002 - y_loss: 1.1187 - color_accuracy: 0.0000e+00 - shape_accuracy: 0.8913 - scale_accuracy: 0.6783 - rotation_accuracy: 0.0902 - x_accuracy: 0.5511 - y_accuracy: 0.5363 - val_loss: 4.4995 - val_color_loss: 0.0000e+00 - val_shape_loss: 0.0821 - val_scale_loss: 0.3989 - val_rotation_loss: 2.7507 - val_x_loss: 0.6235 - val_y_loss: 0.6442 - val_color_accuracy: 0.0000e+00 - val_shape_accuracy: 0.9939 - val_scale_accuracy: 0.8966 - val_rotation_accuracy: 0.1401 - val_x_accuracy: 0.8188 - val_y_accuracy: 0.8209\n",
            "Epoch 65/1000\n",
            "547/547 [==============================] - 12s 22ms/step - loss: 6.1832 - color_loss: 0.0000e+00 - shape_loss: 0.2858 - scale_loss: 0.7104 - rotation_loss: 2.9863 - x_loss: 1.0878 - y_loss: 1.1128 - color_accuracy: 0.0000e+00 - shape_accuracy: 0.8947 - scale_accuracy: 0.6825 - rotation_accuracy: 0.0946 - x_accuracy: 0.5534 - y_accuracy: 0.5373 - val_loss: 4.5077 - val_color_loss: 0.0000e+00 - val_shape_loss: 0.0796 - val_scale_loss: 0.3975 - val_rotation_loss: 2.7558 - val_x_loss: 0.6215 - val_y_loss: 0.6534 - val_color_accuracy: 0.0000e+00 - val_shape_accuracy: 0.9953 - val_scale_accuracy: 0.9194 - val_rotation_accuracy: 0.1434 - val_x_accuracy: 0.8255 - val_y_accuracy: 0.8167\n",
            "Epoch 66/1000\n",
            "547/547 [==============================] - 12s 22ms/step - loss: 6.1660 - color_loss: 0.0000e+00 - shape_loss: 0.2792 - scale_loss: 0.7044 - rotation_loss: 2.9796 - x_loss: 1.0966 - y_loss: 1.1062 - color_accuracy: 0.0000e+00 - shape_accuracy: 0.8980 - scale_accuracy: 0.6859 - rotation_accuracy: 0.0938 - x_accuracy: 0.5516 - y_accuracy: 0.5425 - val_loss: 4.5008 - val_color_loss: 0.0000e+00 - val_shape_loss: 0.0770 - val_scale_loss: 0.4024 - val_rotation_loss: 2.7389 - val_x_loss: 0.6222 - val_y_loss: 0.6605 - val_color_accuracy: 0.0000e+00 - val_shape_accuracy: 0.9957 - val_scale_accuracy: 0.9133 - val_rotation_accuracy: 0.1506 - val_x_accuracy: 0.8264 - val_y_accuracy: 0.8245\n",
            "Epoch 67/1000\n",
            "547/547 [==============================] - 12s 22ms/step - loss: 6.1259 - color_loss: 0.0000e+00 - shape_loss: 0.2722 - scale_loss: 0.6983 - rotation_loss: 2.9625 - x_loss: 1.0843 - y_loss: 1.1087 - color_accuracy: 0.0000e+00 - shape_accuracy: 0.9028 - scale_accuracy: 0.6901 - rotation_accuracy: 0.0959 - x_accuracy: 0.5559 - y_accuracy: 0.5430 - val_loss: 4.4507 - val_color_loss: 0.0000e+00 - val_shape_loss: 0.0697 - val_scale_loss: 0.3942 - val_rotation_loss: 2.7170 - val_x_loss: 0.6197 - val_y_loss: 0.6501 - val_color_accuracy: 0.0000e+00 - val_shape_accuracy: 0.9973 - val_scale_accuracy: 0.8993 - val_rotation_accuracy: 0.1542 - val_x_accuracy: 0.8306 - val_y_accuracy: 0.8174\n",
            "Epoch 68/1000\n",
            "547/547 [==============================] - 12s 22ms/step - loss: 6.1108 - color_loss: 0.0000e+00 - shape_loss: 0.2682 - scale_loss: 0.6913 - rotation_loss: 2.9580 - x_loss: 1.0872 - y_loss: 1.1062 - color_accuracy: 0.0000e+00 - shape_accuracy: 0.9022 - scale_accuracy: 0.6942 - rotation_accuracy: 0.0963 - x_accuracy: 0.5552 - y_accuracy: 0.5416 - val_loss: 4.4339 - val_color_loss: 0.0000e+00 - val_shape_loss: 0.0648 - val_scale_loss: 0.3947 - val_rotation_loss: 2.7089 - val_x_loss: 0.6229 - val_y_loss: 0.6426 - val_color_accuracy: 0.0000e+00 - val_shape_accuracy: 0.9979 - val_scale_accuracy: 0.9211 - val_rotation_accuracy: 0.1579 - val_x_accuracy: 0.8246 - val_y_accuracy: 0.8215\n",
            "Epoch 69/1000\n",
            "547/547 [==============================] - 12s 22ms/step - loss: 6.0905 - color_loss: 0.0000e+00 - shape_loss: 0.2616 - scale_loss: 0.6936 - rotation_loss: 2.9500 - x_loss: 1.0797 - y_loss: 1.1056 - color_accuracy: 0.0000e+00 - shape_accuracy: 0.9078 - scale_accuracy: 0.6933 - rotation_accuracy: 0.0977 - x_accuracy: 0.5596 - y_accuracy: 0.5435 - val_loss: 4.4116 - val_color_loss: 0.0000e+00 - val_shape_loss: 0.0652 - val_scale_loss: 0.3971 - val_rotation_loss: 2.6929 - val_x_loss: 0.6138 - val_y_loss: 0.6426 - val_color_accuracy: 0.0000e+00 - val_shape_accuracy: 0.9981 - val_scale_accuracy: 0.8991 - val_rotation_accuracy: 0.1577 - val_x_accuracy: 0.8270 - val_y_accuracy: 0.8179\n",
            "Epoch 70/1000\n",
            "547/547 [==============================] - 12s 22ms/step - loss: 6.0534 - color_loss: 0.0000e+00 - shape_loss: 0.2555 - scale_loss: 0.6864 - rotation_loss: 2.9354 - x_loss: 1.0860 - y_loss: 1.0902 - color_accuracy: 0.0000e+00 - shape_accuracy: 0.9085 - scale_accuracy: 0.6960 - rotation_accuracy: 0.1003 - x_accuracy: 0.5580 - y_accuracy: 0.5439 - val_loss: 4.3448 - val_color_loss: 0.0000e+00 - val_shape_loss: 0.0628 - val_scale_loss: 0.3742 - val_rotation_loss: 2.6706 - val_x_loss: 0.6085 - val_y_loss: 0.6288 - val_color_accuracy: 0.0000e+00 - val_shape_accuracy: 0.9972 - val_scale_accuracy: 0.9185 - val_rotation_accuracy: 0.1680 - val_x_accuracy: 0.8227 - val_y_accuracy: 0.8195\n",
            "Epoch 71/1000\n",
            "547/547 [==============================] - 12s 22ms/step - loss: 6.0259 - color_loss: 0.0000e+00 - shape_loss: 0.2461 - scale_loss: 0.6836 - rotation_loss: 2.9198 - x_loss: 1.0785 - y_loss: 1.0979 - color_accuracy: 0.0000e+00 - shape_accuracy: 0.9116 - scale_accuracy: 0.6949 - rotation_accuracy: 0.1039 - x_accuracy: 0.5580 - y_accuracy: 0.5449 - val_loss: 4.3150 - val_color_loss: 0.0000e+00 - val_shape_loss: 0.0628 - val_scale_loss: 0.3737 - val_rotation_loss: 2.6522 - val_x_loss: 0.5980 - val_y_loss: 0.6282 - val_color_accuracy: 0.0000e+00 - val_shape_accuracy: 0.9969 - val_scale_accuracy: 0.9142 - val_rotation_accuracy: 0.1739 - val_x_accuracy: 0.8326 - val_y_accuracy: 0.8135\n",
            "Epoch 72/1000\n",
            "547/547 [==============================] - 12s 22ms/step - loss: 6.0043 - color_loss: 0.0000e+00 - shape_loss: 0.2464 - scale_loss: 0.6846 - rotation_loss: 2.9116 - x_loss: 1.0687 - y_loss: 1.0930 - color_accuracy: 0.0000e+00 - shape_accuracy: 0.9116 - scale_accuracy: 0.6970 - rotation_accuracy: 0.1037 - x_accuracy: 0.5641 - y_accuracy: 0.5469 - val_loss: 4.2996 - val_color_loss: 0.0000e+00 - val_shape_loss: 0.0549 - val_scale_loss: 0.3636 - val_rotation_loss: 2.6357 - val_x_loss: 0.6117 - val_y_loss: 0.6337 - val_color_accuracy: 0.0000e+00 - val_shape_accuracy: 0.9989 - val_scale_accuracy: 0.9285 - val_rotation_accuracy: 0.1785 - val_x_accuracy: 0.8190 - val_y_accuracy: 0.8185\n",
            "Epoch 73/1000\n",
            "547/547 [==============================] - 12s 22ms/step - loss: 5.9684 - color_loss: 0.0000e+00 - shape_loss: 0.2366 - scale_loss: 0.6742 - rotation_loss: 2.9013 - x_loss: 1.0692 - y_loss: 1.0871 - color_accuracy: 0.0000e+00 - shape_accuracy: 0.9163 - scale_accuracy: 0.7040 - rotation_accuracy: 0.1077 - x_accuracy: 0.5617 - y_accuracy: 0.5537 - val_loss: 4.3170 - val_color_loss: 0.0000e+00 - val_shape_loss: 0.0562 - val_scale_loss: 0.4003 - val_rotation_loss: 2.6321 - val_x_loss: 0.6033 - val_y_loss: 0.6251 - val_color_accuracy: 0.0000e+00 - val_shape_accuracy: 0.9973 - val_scale_accuracy: 0.8793 - val_rotation_accuracy: 0.1762 - val_x_accuracy: 0.8333 - val_y_accuracy: 0.8217\n",
            "Epoch 74/1000\n",
            "547/547 [==============================] - 12s 22ms/step - loss: 5.9415 - color_loss: 0.0000e+00 - shape_loss: 0.2348 - scale_loss: 0.6643 - rotation_loss: 2.8958 - x_loss: 1.0673 - y_loss: 1.0793 - color_accuracy: 0.0000e+00 - shape_accuracy: 0.9174 - scale_accuracy: 0.7061 - rotation_accuracy: 0.1053 - x_accuracy: 0.5671 - y_accuracy: 0.5526 - val_loss: 4.2462 - val_color_loss: 0.0000e+00 - val_shape_loss: 0.0534 - val_scale_loss: 0.3679 - val_rotation_loss: 2.6154 - val_x_loss: 0.5943 - val_y_loss: 0.6151 - val_color_accuracy: 0.0000e+00 - val_shape_accuracy: 0.9979 - val_scale_accuracy: 0.9041 - val_rotation_accuracy: 0.1912 - val_x_accuracy: 0.8295 - val_y_accuracy: 0.8274\n",
            "Epoch 75/1000\n",
            "547/547 [==============================] - 12s 22ms/step - loss: 5.9420 - color_loss: 0.0000e+00 - shape_loss: 0.2405 - scale_loss: 0.6738 - rotation_loss: 2.8869 - x_loss: 1.0644 - y_loss: 1.0764 - color_accuracy: 0.0000e+00 - shape_accuracy: 0.9140 - scale_accuracy: 0.7049 - rotation_accuracy: 0.1097 - x_accuracy: 0.5653 - y_accuracy: 0.5555 - val_loss: 4.2423 - val_color_loss: 0.0000e+00 - val_shape_loss: 0.0522 - val_scale_loss: 0.3814 - val_rotation_loss: 2.5953 - val_x_loss: 0.5952 - val_y_loss: 0.6181 - val_color_accuracy: 0.0000e+00 - val_shape_accuracy: 0.9982 - val_scale_accuracy: 0.8865 - val_rotation_accuracy: 0.1909 - val_x_accuracy: 0.8268 - val_y_accuracy: 0.8213\n",
            "Epoch 76/1000\n",
            "547/547 [==============================] - 12s 22ms/step - loss: 5.8942 - color_loss: 0.0000e+00 - shape_loss: 0.2281 - scale_loss: 0.6577 - rotation_loss: 2.8687 - x_loss: 1.0603 - y_loss: 1.0794 - color_accuracy: 0.0000e+00 - shape_accuracy: 0.9213 - scale_accuracy: 0.7114 - rotation_accuracy: 0.1104 - x_accuracy: 0.5662 - y_accuracy: 0.5538 - val_loss: 4.1929 - val_color_loss: 0.0000e+00 - val_shape_loss: 0.0479 - val_scale_loss: 0.3501 - val_rotation_loss: 2.5867 - val_x_loss: 0.5899 - val_y_loss: 0.6183 - val_color_accuracy: 0.0000e+00 - val_shape_accuracy: 0.9988 - val_scale_accuracy: 0.9367 - val_rotation_accuracy: 0.2005 - val_x_accuracy: 0.8311 - val_y_accuracy: 0.8173\n",
            "Epoch 77/1000\n",
            "547/547 [==============================] - 12s 22ms/step - loss: 5.8805 - color_loss: 0.0000e+00 - shape_loss: 0.2231 - scale_loss: 0.6578 - rotation_loss: 2.8620 - x_loss: 1.0639 - y_loss: 1.0738 - color_accuracy: 0.0000e+00 - shape_accuracy: 0.9216 - scale_accuracy: 0.7120 - rotation_accuracy: 0.1104 - x_accuracy: 0.5654 - y_accuracy: 0.5600 - val_loss: 4.1769 - val_color_loss: 0.0000e+00 - val_shape_loss: 0.0474 - val_scale_loss: 0.3683 - val_rotation_loss: 2.5713 - val_x_loss: 0.5814 - val_y_loss: 0.6085 - val_color_accuracy: 0.0000e+00 - val_shape_accuracy: 0.9982 - val_scale_accuracy: 0.9220 - val_rotation_accuracy: 0.2036 - val_x_accuracy: 0.8363 - val_y_accuracy: 0.8243\n",
            "Epoch 78/1000\n",
            "547/547 [==============================] - 12s 22ms/step - loss: 5.8634 - color_loss: 0.0000e+00 - shape_loss: 0.2220 - scale_loss: 0.6609 - rotation_loss: 2.8526 - x_loss: 1.0521 - y_loss: 1.0759 - color_accuracy: 0.0000e+00 - shape_accuracy: 0.9226 - scale_accuracy: 0.7131 - rotation_accuracy: 0.1133 - x_accuracy: 0.5718 - y_accuracy: 0.5567 - val_loss: 4.1246 - val_color_loss: 0.0000e+00 - val_shape_loss: 0.0456 - val_scale_loss: 0.3393 - val_rotation_loss: 2.5559 - val_x_loss: 0.5878 - val_y_loss: 0.5961 - val_color_accuracy: 0.0000e+00 - val_shape_accuracy: 0.9986 - val_scale_accuracy: 0.9269 - val_rotation_accuracy: 0.2013 - val_x_accuracy: 0.8304 - val_y_accuracy: 0.8233\n",
            "Epoch 79/1000\n",
            "547/547 [==============================] - 12s 22ms/step - loss: 5.8113 - color_loss: 0.0000e+00 - shape_loss: 0.2197 - scale_loss: 0.6516 - rotation_loss: 2.8363 - x_loss: 1.0445 - y_loss: 1.0591 - color_accuracy: 0.0000e+00 - shape_accuracy: 0.9241 - scale_accuracy: 0.7170 - rotation_accuracy: 0.1143 - x_accuracy: 0.5735 - y_accuracy: 0.5622 - val_loss: 4.0913 - val_color_loss: 0.0000e+00 - val_shape_loss: 0.0447 - val_scale_loss: 0.3367 - val_rotation_loss: 2.5309 - val_x_loss: 0.5789 - val_y_loss: 0.6001 - val_color_accuracy: 0.0000e+00 - val_shape_accuracy: 0.9990 - val_scale_accuracy: 0.9383 - val_rotation_accuracy: 0.2052 - val_x_accuracy: 0.8279 - val_y_accuracy: 0.8306\n",
            "Epoch 80/1000\n",
            "547/547 [==============================] - 12s 22ms/step - loss: 5.8151 - color_loss: 0.0000e+00 - shape_loss: 0.2110 - scale_loss: 0.6555 - rotation_loss: 2.8298 - x_loss: 1.0538 - y_loss: 1.0650 - color_accuracy: 0.0000e+00 - shape_accuracy: 0.9277 - scale_accuracy: 0.7138 - rotation_accuracy: 0.1175 - x_accuracy: 0.5716 - y_accuracy: 0.5660 - val_loss: 4.0752 - val_color_loss: 0.0000e+00 - val_shape_loss: 0.0471 - val_scale_loss: 0.3424 - val_rotation_loss: 2.5165 - val_x_loss: 0.5780 - val_y_loss: 0.5913 - val_color_accuracy: 0.0000e+00 - val_shape_accuracy: 0.9972 - val_scale_accuracy: 0.9204 - val_rotation_accuracy: 0.2123 - val_x_accuracy: 0.8309 - val_y_accuracy: 0.8250\n",
            "Epoch 81/1000\n",
            "547/547 [==============================] - 12s 22ms/step - loss: 5.7781 - color_loss: 0.0000e+00 - shape_loss: 0.2057 - scale_loss: 0.6393 - rotation_loss: 2.8242 - x_loss: 1.0463 - y_loss: 1.0625 - color_accuracy: 0.0000e+00 - shape_accuracy: 0.9297 - scale_accuracy: 0.7242 - rotation_accuracy: 0.1164 - x_accuracy: 0.5738 - y_accuracy: 0.5663 - val_loss: 4.1056 - val_color_loss: 0.0000e+00 - val_shape_loss: 0.0424 - val_scale_loss: 0.3436 - val_rotation_loss: 2.5225 - val_x_loss: 0.5908 - val_y_loss: 0.6062 - val_color_accuracy: 0.0000e+00 - val_shape_accuracy: 0.9993 - val_scale_accuracy: 0.9278 - val_rotation_accuracy: 0.2156 - val_x_accuracy: 0.8297 - val_y_accuracy: 0.8247\n",
            "Epoch 82/1000\n",
            "547/547 [==============================] - 12s 22ms/step - loss: 5.7502 - color_loss: 0.0000e+00 - shape_loss: 0.2057 - scale_loss: 0.6347 - rotation_loss: 2.8093 - x_loss: 1.0515 - y_loss: 1.0490 - color_accuracy: 0.0000e+00 - shape_accuracy: 0.9287 - scale_accuracy: 0.7228 - rotation_accuracy: 0.1187 - x_accuracy: 0.5744 - y_accuracy: 0.5691 - val_loss: 4.0232 - val_color_loss: 0.0000e+00 - val_shape_loss: 0.0390 - val_scale_loss: 0.3163 - val_rotation_loss: 2.5039 - val_x_loss: 0.5678 - val_y_loss: 0.5962 - val_color_accuracy: 0.0000e+00 - val_shape_accuracy: 0.9990 - val_scale_accuracy: 0.9556 - val_rotation_accuracy: 0.2208 - val_x_accuracy: 0.8359 - val_y_accuracy: 0.8299\n",
            "Epoch 83/1000\n",
            "547/547 [==============================] - 12s 22ms/step - loss: 5.7369 - color_loss: 0.0000e+00 - shape_loss: 0.2030 - scale_loss: 0.6320 - rotation_loss: 2.7975 - x_loss: 1.0439 - y_loss: 1.0606 - color_accuracy: 0.0000e+00 - shape_accuracy: 0.9300 - scale_accuracy: 0.7247 - rotation_accuracy: 0.1184 - x_accuracy: 0.5763 - y_accuracy: 0.5629 - val_loss: 4.0300 - val_color_loss: 0.0000e+00 - val_shape_loss: 0.0370 - val_scale_loss: 0.3130 - val_rotation_loss: 2.4965 - val_x_loss: 0.5874 - val_y_loss: 0.5960 - val_color_accuracy: 0.0000e+00 - val_shape_accuracy: 0.9993 - val_scale_accuracy: 0.9489 - val_rotation_accuracy: 0.2229 - val_x_accuracy: 0.8195 - val_y_accuracy: 0.8290\n",
            "Epoch 84/1000\n",
            "547/547 [==============================] - 12s 22ms/step - loss: 5.7093 - color_loss: 0.0000e+00 - shape_loss: 0.2026 - scale_loss: 0.6249 - rotation_loss: 2.7940 - x_loss: 1.0413 - y_loss: 1.0465 - color_accuracy: 0.0000e+00 - shape_accuracy: 0.9301 - scale_accuracy: 0.7298 - rotation_accuracy: 0.1210 - x_accuracy: 0.5773 - y_accuracy: 0.5699 - val_loss: 4.0170 - val_color_loss: 0.0000e+00 - val_shape_loss: 0.0392 - val_scale_loss: 0.3236 - val_rotation_loss: 2.4899 - val_x_loss: 0.5721 - val_y_loss: 0.5922 - val_color_accuracy: 0.0000e+00 - val_shape_accuracy: 0.9988 - val_scale_accuracy: 0.9388 - val_rotation_accuracy: 0.2281 - val_x_accuracy: 0.8361 - val_y_accuracy: 0.8310\n",
            "Epoch 85/1000\n",
            "547/547 [==============================] - 12s 22ms/step - loss: 5.6872 - color_loss: 0.0000e+00 - shape_loss: 0.1980 - scale_loss: 0.6281 - rotation_loss: 2.7779 - x_loss: 1.0362 - y_loss: 1.0471 - color_accuracy: 0.0000e+00 - shape_accuracy: 0.9314 - scale_accuracy: 0.7301 - rotation_accuracy: 0.1224 - x_accuracy: 0.5797 - y_accuracy: 0.5700 - val_loss: 3.9495 - val_color_loss: 0.0000e+00 - val_shape_loss: 0.0378 - val_scale_loss: 0.3145 - val_rotation_loss: 2.4542 - val_x_loss: 0.5642 - val_y_loss: 0.5788 - val_color_accuracy: 0.0000e+00 - val_shape_accuracy: 0.9987 - val_scale_accuracy: 0.9486 - val_rotation_accuracy: 0.2357 - val_x_accuracy: 0.8309 - val_y_accuracy: 0.8305\n",
            "Epoch 86/1000\n",
            "547/547 [==============================] - 12s 22ms/step - loss: 5.6689 - color_loss: 0.0000e+00 - shape_loss: 0.1906 - scale_loss: 0.6149 - rotation_loss: 2.7648 - x_loss: 1.0498 - y_loss: 1.0488 - color_accuracy: 0.0000e+00 - shape_accuracy: 0.9347 - scale_accuracy: 0.7329 - rotation_accuracy: 0.1244 - x_accuracy: 0.5777 - y_accuracy: 0.5694 - val_loss: 3.9131 - val_color_loss: 0.0000e+00 - val_shape_loss: 0.0390 - val_scale_loss: 0.3013 - val_rotation_loss: 2.4415 - val_x_loss: 0.5583 - val_y_loss: 0.5730 - val_color_accuracy: 0.0000e+00 - val_shape_accuracy: 0.9989 - val_scale_accuracy: 0.9518 - val_rotation_accuracy: 0.2347 - val_x_accuracy: 0.8351 - val_y_accuracy: 0.8284\n",
            "Epoch 87/1000\n",
            "547/547 [==============================] - 12s 22ms/step - loss: 5.6406 - color_loss: 0.0000e+00 - shape_loss: 0.1892 - scale_loss: 0.6196 - rotation_loss: 2.7597 - x_loss: 1.0354 - y_loss: 1.0368 - color_accuracy: 0.0000e+00 - shape_accuracy: 0.9357 - scale_accuracy: 0.7358 - rotation_accuracy: 0.1278 - x_accuracy: 0.5817 - y_accuracy: 0.5780 - val_loss: 3.9249 - val_color_loss: 0.0000e+00 - val_shape_loss: 0.0335 - val_scale_loss: 0.3058 - val_rotation_loss: 2.4368 - val_x_loss: 0.5674 - val_y_loss: 0.5815 - val_color_accuracy: 0.0000e+00 - val_shape_accuracy: 0.9993 - val_scale_accuracy: 0.9567 - val_rotation_accuracy: 0.2321 - val_x_accuracy: 0.8249 - val_y_accuracy: 0.8337\n",
            "Epoch 88/1000\n",
            "547/547 [==============================] - 12s 22ms/step - loss: 5.6128 - color_loss: 0.0000e+00 - shape_loss: 0.1868 - scale_loss: 0.6158 - rotation_loss: 2.7524 - x_loss: 1.0191 - y_loss: 1.0387 - color_accuracy: 0.0000e+00 - shape_accuracy: 0.9355 - scale_accuracy: 0.7353 - rotation_accuracy: 0.1272 - x_accuracy: 0.5890 - y_accuracy: 0.5728 - val_loss: 3.8497 - val_color_loss: 0.0000e+00 - val_shape_loss: 0.0301 - val_scale_loss: 0.2892 - val_rotation_loss: 2.4121 - val_x_loss: 0.5500 - val_y_loss: 0.5683 - val_color_accuracy: 0.0000e+00 - val_shape_accuracy: 0.9997 - val_scale_accuracy: 0.9636 - val_rotation_accuracy: 0.2464 - val_x_accuracy: 0.8384 - val_y_accuracy: 0.8312\n",
            "Epoch 89/1000\n",
            "547/547 [==============================] - 12s 22ms/step - loss: 5.5998 - color_loss: 0.0000e+00 - shape_loss: 0.1854 - scale_loss: 0.6104 - rotation_loss: 2.7313 - x_loss: 1.0270 - y_loss: 1.0457 - color_accuracy: 0.0000e+00 - shape_accuracy: 0.9363 - scale_accuracy: 0.7382 - rotation_accuracy: 0.1276 - x_accuracy: 0.5818 - y_accuracy: 0.5711 - val_loss: 3.8833 - val_color_loss: 0.0000e+00 - val_shape_loss: 0.0330 - val_scale_loss: 0.2964 - val_rotation_loss: 2.4151 - val_x_loss: 0.5696 - val_y_loss: 0.5693 - val_color_accuracy: 0.0000e+00 - val_shape_accuracy: 0.9994 - val_scale_accuracy: 0.9525 - val_rotation_accuracy: 0.2452 - val_x_accuracy: 0.8340 - val_y_accuracy: 0.8357\n",
            "Epoch 90/1000\n",
            "547/547 [==============================] - 12s 22ms/step - loss: 5.5777 - color_loss: 0.0000e+00 - shape_loss: 0.1801 - scale_loss: 0.6029 - rotation_loss: 2.7346 - x_loss: 1.0319 - y_loss: 1.0281 - color_accuracy: 0.0000e+00 - shape_accuracy: 0.9387 - scale_accuracy: 0.7407 - rotation_accuracy: 0.1276 - x_accuracy: 0.5836 - y_accuracy: 0.5797 - val_loss: 3.8284 - val_color_loss: 0.0000e+00 - val_shape_loss: 0.0271 - val_scale_loss: 0.2853 - val_rotation_loss: 2.3916 - val_x_loss: 0.5560 - val_y_loss: 0.5685 - val_color_accuracy: 0.0000e+00 - val_shape_accuracy: 0.9997 - val_scale_accuracy: 0.9657 - val_rotation_accuracy: 0.2464 - val_x_accuracy: 0.8366 - val_y_accuracy: 0.8371\n",
            "Epoch 91/1000\n",
            "547/547 [==============================] - 12s 22ms/step - loss: 5.5542 - color_loss: 0.0000e+00 - shape_loss: 0.1826 - scale_loss: 0.6020 - rotation_loss: 2.7129 - x_loss: 1.0289 - y_loss: 1.0278 - color_accuracy: 0.0000e+00 - shape_accuracy: 0.9387 - scale_accuracy: 0.7426 - rotation_accuracy: 0.1343 - x_accuracy: 0.5862 - y_accuracy: 0.5833 - val_loss: 3.8444 - val_color_loss: 0.0000e+00 - val_shape_loss: 0.0315 - val_scale_loss: 0.3147 - val_rotation_loss: 2.3779 - val_x_loss: 0.5524 - val_y_loss: 0.5678 - val_color_accuracy: 0.0000e+00 - val_shape_accuracy: 0.9995 - val_scale_accuracy: 0.9175 - val_rotation_accuracy: 0.2574 - val_x_accuracy: 0.8414 - val_y_accuracy: 0.8315\n",
            "Epoch 92/1000\n",
            "547/547 [==============================] - 12s 22ms/step - loss: 5.5111 - color_loss: 0.0000e+00 - shape_loss: 0.1758 - scale_loss: 0.5935 - rotation_loss: 2.7061 - x_loss: 1.0128 - y_loss: 1.0228 - color_accuracy: 0.0000e+00 - shape_accuracy: 0.9408 - scale_accuracy: 0.7460 - rotation_accuracy: 0.1342 - x_accuracy: 0.5915 - y_accuracy: 0.5803 - val_loss: 3.7807 - val_color_loss: 0.0000e+00 - val_shape_loss: 0.0272 - val_scale_loss: 0.2792 - val_rotation_loss: 2.3611 - val_x_loss: 0.5481 - val_y_loss: 0.5650 - val_color_accuracy: 0.0000e+00 - val_shape_accuracy: 0.9995 - val_scale_accuracy: 0.9575 - val_rotation_accuracy: 0.2618 - val_x_accuracy: 0.8359 - val_y_accuracy: 0.8334\n",
            "Epoch 93/1000\n",
            "547/547 [==============================] - 12s 22ms/step - loss: 5.5126 - color_loss: 0.0000e+00 - shape_loss: 0.1734 - scale_loss: 0.5925 - rotation_loss: 2.6960 - x_loss: 1.0247 - y_loss: 1.0260 - color_accuracy: 0.0000e+00 - shape_accuracy: 0.9415 - scale_accuracy: 0.7474 - rotation_accuracy: 0.1381 - x_accuracy: 0.5877 - y_accuracy: 0.5791 - val_loss: 3.7766 - val_color_loss: 0.0000e+00 - val_shape_loss: 0.0311 - val_scale_loss: 0.2799 - val_rotation_loss: 2.3527 - val_x_loss: 0.5508 - val_y_loss: 0.5621 - val_color_accuracy: 0.0000e+00 - val_shape_accuracy: 0.9996 - val_scale_accuracy: 0.9621 - val_rotation_accuracy: 0.2707 - val_x_accuracy: 0.8415 - val_y_accuracy: 0.8385\n",
            "Epoch 94/1000\n",
            "547/547 [==============================] - 12s 22ms/step - loss: 5.4930 - color_loss: 0.0000e+00 - shape_loss: 0.1715 - scale_loss: 0.5893 - rotation_loss: 2.6893 - x_loss: 1.0238 - y_loss: 1.0190 - color_accuracy: 0.0000e+00 - shape_accuracy: 0.9416 - scale_accuracy: 0.7491 - rotation_accuracy: 0.1393 - x_accuracy: 0.5891 - y_accuracy: 0.5826 - val_loss: 3.7390 - val_color_loss: 0.0000e+00 - val_shape_loss: 0.0321 - val_scale_loss: 0.2778 - val_rotation_loss: 2.3205 - val_x_loss: 0.5438 - val_y_loss: 0.5648 - val_color_accuracy: 0.0000e+00 - val_shape_accuracy: 0.9988 - val_scale_accuracy: 0.9575 - val_rotation_accuracy: 0.2787 - val_x_accuracy: 0.8426 - val_y_accuracy: 0.8289\n",
            "Epoch 95/1000\n",
            "547/547 [==============================] - 12s 22ms/step - loss: 5.4636 - color_loss: 0.0000e+00 - shape_loss: 0.1726 - scale_loss: 0.5800 - rotation_loss: 2.6750 - x_loss: 1.0188 - y_loss: 1.0172 - color_accuracy: 0.0000e+00 - shape_accuracy: 0.9414 - scale_accuracy: 0.7554 - rotation_accuracy: 0.1374 - x_accuracy: 0.5878 - y_accuracy: 0.5858 - val_loss: 3.7251 - val_color_loss: 0.0000e+00 - val_shape_loss: 0.0252 - val_scale_loss: 0.2699 - val_rotation_loss: 2.3309 - val_x_loss: 0.5417 - val_y_loss: 0.5573 - val_color_accuracy: 0.0000e+00 - val_shape_accuracy: 0.9995 - val_scale_accuracy: 0.9668 - val_rotation_accuracy: 0.2772 - val_x_accuracy: 0.8421 - val_y_accuracy: 0.8336\n",
            "Epoch 96/1000\n",
            "547/547 [==============================] - 12s 21ms/step - loss: 5.4455 - color_loss: 0.0000e+00 - shape_loss: 0.1684 - scale_loss: 0.5814 - rotation_loss: 2.6682 - x_loss: 1.0137 - y_loss: 1.0139 - color_accuracy: 0.0000e+00 - shape_accuracy: 0.9420 - scale_accuracy: 0.7575 - rotation_accuracy: 0.1408 - x_accuracy: 0.5898 - y_accuracy: 0.5853 - val_loss: 3.6527 - val_color_loss: 0.0000e+00 - val_shape_loss: 0.0238 - val_scale_loss: 0.2566 - val_rotation_loss: 2.2990 - val_x_loss: 0.5291 - val_y_loss: 0.5442 - val_color_accuracy: 0.0000e+00 - val_shape_accuracy: 0.9997 - val_scale_accuracy: 0.9689 - val_rotation_accuracy: 0.2913 - val_x_accuracy: 0.8450 - val_y_accuracy: 0.8283\n",
            "Epoch 97/1000\n",
            "547/547 [==============================] - 12s 22ms/step - loss: 5.4422 - color_loss: 0.0000e+00 - shape_loss: 0.1675 - scale_loss: 0.5785 - rotation_loss: 2.6593 - x_loss: 1.0165 - y_loss: 1.0205 - color_accuracy: 0.0000e+00 - shape_accuracy: 0.9430 - scale_accuracy: 0.7573 - rotation_accuracy: 0.1405 - x_accuracy: 0.5936 - y_accuracy: 0.5861 - val_loss: 3.6355 - val_color_loss: 0.0000e+00 - val_shape_loss: 0.0271 - val_scale_loss: 0.2536 - val_rotation_loss: 2.2829 - val_x_loss: 0.5275 - val_y_loss: 0.5444 - val_color_accuracy: 0.0000e+00 - val_shape_accuracy: 0.9989 - val_scale_accuracy: 0.9709 - val_rotation_accuracy: 0.2865 - val_x_accuracy: 0.8449 - val_y_accuracy: 0.8299\n",
            "Epoch 98/1000\n",
            "547/547 [==============================] - 12s 22ms/step - loss: 5.4019 - color_loss: 0.0000e+00 - shape_loss: 0.1623 - scale_loss: 0.5721 - rotation_loss: 2.6486 - x_loss: 1.0087 - y_loss: 1.0102 - color_accuracy: 0.0000e+00 - shape_accuracy: 0.9464 - scale_accuracy: 0.7585 - rotation_accuracy: 0.1459 - x_accuracy: 0.5965 - y_accuracy: 0.5864 - val_loss: 3.6331 - val_color_loss: 0.0000e+00 - val_shape_loss: 0.0265 - val_scale_loss: 0.2537 - val_rotation_loss: 2.2793 - val_x_loss: 0.5312 - val_y_loss: 0.5423 - val_color_accuracy: 0.0000e+00 - val_shape_accuracy: 0.9993 - val_scale_accuracy: 0.9715 - val_rotation_accuracy: 0.2962 - val_x_accuracy: 0.8421 - val_y_accuracy: 0.8381\n",
            "Epoch 99/1000\n",
            "547/547 [==============================] - 12s 22ms/step - loss: 5.3906 - color_loss: 0.0000e+00 - shape_loss: 0.1622 - scale_loss: 0.5731 - rotation_loss: 2.6451 - x_loss: 1.0101 - y_loss: 1.0001 - color_accuracy: 0.0000e+00 - shape_accuracy: 0.9452 - scale_accuracy: 0.7604 - rotation_accuracy: 0.1432 - x_accuracy: 0.5941 - y_accuracy: 0.5882 - val_loss: 3.6090 - val_color_loss: 0.0000e+00 - val_shape_loss: 0.0240 - val_scale_loss: 0.2497 - val_rotation_loss: 2.2663 - val_x_loss: 0.5277 - val_y_loss: 0.5413 - val_color_accuracy: 0.0000e+00 - val_shape_accuracy: 0.9998 - val_scale_accuracy: 0.9707 - val_rotation_accuracy: 0.3001 - val_x_accuracy: 0.8471 - val_y_accuracy: 0.8395\n",
            "Epoch 100/1000\n",
            "547/547 [==============================] - 12s 22ms/step - loss: 5.3882 - color_loss: 0.0000e+00 - shape_loss: 0.1620 - scale_loss: 0.5752 - rotation_loss: 2.6331 - x_loss: 1.0190 - y_loss: 0.9989 - color_accuracy: 0.0000e+00 - shape_accuracy: 0.9454 - scale_accuracy: 0.7611 - rotation_accuracy: 0.1441 - x_accuracy: 0.5951 - y_accuracy: 0.5918 - val_loss: 3.5925 - val_color_loss: 0.0000e+00 - val_shape_loss: 0.0281 - val_scale_loss: 0.2490 - val_rotation_loss: 2.2448 - val_x_loss: 0.5283 - val_y_loss: 0.5422 - val_color_accuracy: 0.0000e+00 - val_shape_accuracy: 0.9990 - val_scale_accuracy: 0.9676 - val_rotation_accuracy: 0.3109 - val_x_accuracy: 0.8359 - val_y_accuracy: 0.8353\n",
            "Epoch 101/1000\n",
            "547/547 [==============================] - 12s 22ms/step - loss: 5.3656 - color_loss: 0.0000e+00 - shape_loss: 0.1603 - scale_loss: 0.5660 - rotation_loss: 2.6258 - x_loss: 1.0080 - y_loss: 1.0054 - color_accuracy: 0.0000e+00 - shape_accuracy: 0.9457 - scale_accuracy: 0.7659 - rotation_accuracy: 0.1502 - x_accuracy: 0.5989 - y_accuracy: 0.5927 - val_loss: 3.5612 - val_color_loss: 0.0000e+00 - val_shape_loss: 0.0233 - val_scale_loss: 0.2480 - val_rotation_loss: 2.2298 - val_x_loss: 0.5234 - val_y_loss: 0.5367 - val_color_accuracy: 0.0000e+00 - val_shape_accuracy: 0.9998 - val_scale_accuracy: 0.9643 - val_rotation_accuracy: 0.3147 - val_x_accuracy: 0.8423 - val_y_accuracy: 0.8391\n",
            "Epoch 102/1000\n",
            "547/547 [==============================] - 12s 22ms/step - loss: 5.3264 - color_loss: 0.0000e+00 - shape_loss: 0.1572 - scale_loss: 0.5586 - rotation_loss: 2.6114 - x_loss: 1.0072 - y_loss: 0.9920 - color_accuracy: 0.0000e+00 - shape_accuracy: 0.9471 - scale_accuracy: 0.7686 - rotation_accuracy: 0.1491 - x_accuracy: 0.5979 - y_accuracy: 0.5983 - val_loss: 3.5258 - val_color_loss: 0.0000e+00 - val_shape_loss: 0.0239 - val_scale_loss: 0.2357 - val_rotation_loss: 2.2171 - val_x_loss: 0.5187 - val_y_loss: 0.5304 - val_color_accuracy: 0.0000e+00 - val_shape_accuracy: 0.9994 - val_scale_accuracy: 0.9748 - val_rotation_accuracy: 0.3103 - val_x_accuracy: 0.8423 - val_y_accuracy: 0.8433\n",
            "Epoch 103/1000\n",
            "547/547 [==============================] - 12s 22ms/step - loss: 5.3163 - color_loss: 0.0000e+00 - shape_loss: 0.1565 - scale_loss: 0.5536 - rotation_loss: 2.5970 - x_loss: 1.0108 - y_loss: 0.9984 - color_accuracy: 0.0000e+00 - shape_accuracy: 0.9480 - scale_accuracy: 0.7698 - rotation_accuracy: 0.1553 - x_accuracy: 0.5951 - y_accuracy: 0.5957 - val_loss: 3.5343 - val_color_loss: 0.0000e+00 - val_shape_loss: 0.0220 - val_scale_loss: 0.2349 - val_rotation_loss: 2.2204 - val_x_loss: 0.5242 - val_y_loss: 0.5328 - val_color_accuracy: 0.0000e+00 - val_shape_accuracy: 0.9998 - val_scale_accuracy: 0.9793 - val_rotation_accuracy: 0.3087 - val_x_accuracy: 0.8437 - val_y_accuracy: 0.8415\n",
            "Epoch 104/1000\n",
            "547/547 [==============================] - 12s 22ms/step - loss: 5.3030 - color_loss: 0.0000e+00 - shape_loss: 0.1564 - scale_loss: 0.5577 - rotation_loss: 2.6002 - x_loss: 0.9994 - y_loss: 0.9893 - color_accuracy: 0.0000e+00 - shape_accuracy: 0.9477 - scale_accuracy: 0.7692 - rotation_accuracy: 0.1528 - x_accuracy: 0.6042 - y_accuracy: 0.5961 - val_loss: 3.5129 - val_color_loss: 0.0000e+00 - val_shape_loss: 0.0218 - val_scale_loss: 0.2352 - val_rotation_loss: 2.2050 - val_x_loss: 0.5213 - val_y_loss: 0.5297 - val_color_accuracy: 0.0000e+00 - val_shape_accuracy: 0.9997 - val_scale_accuracy: 0.9752 - val_rotation_accuracy: 0.3261 - val_x_accuracy: 0.8437 - val_y_accuracy: 0.8441\n",
            "Epoch 105/1000\n",
            "547/547 [==============================] - 12s 22ms/step - loss: 5.2890 - color_loss: 0.0000e+00 - shape_loss: 0.1576 - scale_loss: 0.5571 - rotation_loss: 2.5820 - x_loss: 1.0080 - y_loss: 0.9842 - color_accuracy: 0.0000e+00 - shape_accuracy: 0.9463 - scale_accuracy: 0.7682 - rotation_accuracy: 0.1548 - x_accuracy: 0.5993 - y_accuracy: 0.5969 - val_loss: 3.4909 - val_color_loss: 0.0000e+00 - val_shape_loss: 0.0206 - val_scale_loss: 0.2342 - val_rotation_loss: 2.1855 - val_x_loss: 0.5155 - val_y_loss: 0.5351 - val_color_accuracy: 0.0000e+00 - val_shape_accuracy: 0.9999 - val_scale_accuracy: 0.9751 - val_rotation_accuracy: 0.3278 - val_x_accuracy: 0.8463 - val_y_accuracy: 0.8477\n",
            "Epoch 106/1000\n",
            "547/547 [==============================] - 12s 22ms/step - loss: 5.2643 - color_loss: 0.0000e+00 - shape_loss: 0.1498 - scale_loss: 0.5561 - rotation_loss: 2.5790 - x_loss: 0.9975 - y_loss: 0.9819 - color_accuracy: 0.0000e+00 - shape_accuracy: 0.9498 - scale_accuracy: 0.7687 - rotation_accuracy: 0.1568 - x_accuracy: 0.6010 - y_accuracy: 0.5993 - val_loss: 3.4958 - val_color_loss: 0.0000e+00 - val_shape_loss: 0.0209 - val_scale_loss: 0.2311 - val_rotation_loss: 2.1924 - val_x_loss: 0.5282 - val_y_loss: 0.5232 - val_color_accuracy: 0.0000e+00 - val_shape_accuracy: 0.9997 - val_scale_accuracy: 0.9799 - val_rotation_accuracy: 0.3192 - val_x_accuracy: 0.8406 - val_y_accuracy: 0.8429\n",
            "Epoch 107/1000\n",
            "547/547 [==============================] - 12s 22ms/step - loss: 5.2541 - color_loss: 0.0000e+00 - shape_loss: 0.1509 - scale_loss: 0.5550 - rotation_loss: 2.5758 - x_loss: 0.9952 - y_loss: 0.9772 - color_accuracy: 0.0000e+00 - shape_accuracy: 0.9496 - scale_accuracy: 0.7716 - rotation_accuracy: 0.1590 - x_accuracy: 0.6056 - y_accuracy: 0.6046 - val_loss: 3.4589 - val_color_loss: 0.0000e+00 - val_shape_loss: 0.0211 - val_scale_loss: 0.2332 - val_rotation_loss: 2.1682 - val_x_loss: 0.5128 - val_y_loss: 0.5238 - val_color_accuracy: 0.0000e+00 - val_shape_accuracy: 0.9998 - val_scale_accuracy: 0.9681 - val_rotation_accuracy: 0.3247 - val_x_accuracy: 0.8427 - val_y_accuracy: 0.8417\n",
            "Epoch 108/1000\n",
            "547/547 [==============================] - 12s 22ms/step - loss: 5.2258 - color_loss: 0.0000e+00 - shape_loss: 0.1506 - scale_loss: 0.5432 - rotation_loss: 2.5660 - x_loss: 0.9877 - y_loss: 0.9783 - color_accuracy: 0.0000e+00 - shape_accuracy: 0.9511 - scale_accuracy: 0.7761 - rotation_accuracy: 0.1560 - x_accuracy: 0.6047 - y_accuracy: 0.6014 - val_loss: 3.4944 - val_color_loss: 0.0000e+00 - val_shape_loss: 0.0219 - val_scale_loss: 0.2435 - val_rotation_loss: 2.1797 - val_x_loss: 0.5182 - val_y_loss: 0.5311 - val_color_accuracy: 0.0000e+00 - val_shape_accuracy: 0.9995 - val_scale_accuracy: 0.9641 - val_rotation_accuracy: 0.3263 - val_x_accuracy: 0.8487 - val_y_accuracy: 0.8437\n",
            "Epoch 109/1000\n",
            "547/547 [==============================] - 12s 22ms/step - loss: 5.1989 - color_loss: 0.0000e+00 - shape_loss: 0.1458 - scale_loss: 0.5369 - rotation_loss: 2.5562 - x_loss: 0.9873 - y_loss: 0.9727 - color_accuracy: 0.0000e+00 - shape_accuracy: 0.9513 - scale_accuracy: 0.7778 - rotation_accuracy: 0.1567 - x_accuracy: 0.6067 - y_accuracy: 0.6055 - val_loss: 3.4118 - val_color_loss: 0.0000e+00 - val_shape_loss: 0.0189 - val_scale_loss: 0.2313 - val_rotation_loss: 2.1409 - val_x_loss: 0.5065 - val_y_loss: 0.5141 - val_color_accuracy: 0.0000e+00 - val_shape_accuracy: 0.9997 - val_scale_accuracy: 0.9618 - val_rotation_accuracy: 0.3231 - val_x_accuracy: 0.8468 - val_y_accuracy: 0.8429\n",
            "Epoch 110/1000\n",
            "547/547 [==============================] - 12s 22ms/step - loss: 5.2044 - color_loss: 0.0000e+00 - shape_loss: 0.1458 - scale_loss: 0.5338 - rotation_loss: 2.5498 - x_loss: 1.0010 - y_loss: 0.9739 - color_accuracy: 0.0000e+00 - shape_accuracy: 0.9518 - scale_accuracy: 0.7815 - rotation_accuracy: 0.1582 - x_accuracy: 0.6055 - y_accuracy: 0.6023 - val_loss: 3.3893 - val_color_loss: 0.0000e+00 - val_shape_loss: 0.0185 - val_scale_loss: 0.2125 - val_rotation_loss: 2.1471 - val_x_loss: 0.5010 - val_y_loss: 0.5102 - val_color_accuracy: 0.0000e+00 - val_shape_accuracy: 0.9997 - val_scale_accuracy: 0.9809 - val_rotation_accuracy: 0.3297 - val_x_accuracy: 0.8491 - val_y_accuracy: 0.8441\n",
            "Epoch 111/1000\n",
            "547/547 [==============================] - 12s 22ms/step - loss: 5.1651 - color_loss: 0.0000e+00 - shape_loss: 0.1447 - scale_loss: 0.5328 - rotation_loss: 2.5381 - x_loss: 0.9842 - y_loss: 0.9653 - color_accuracy: 0.0000e+00 - shape_accuracy: 0.9515 - scale_accuracy: 0.7799 - rotation_accuracy: 0.1633 - x_accuracy: 0.6064 - y_accuracy: 0.6101 - val_loss: 3.4057 - val_color_loss: 0.0000e+00 - val_shape_loss: 0.0182 - val_scale_loss: 0.2208 - val_rotation_loss: 2.1366 - val_x_loss: 0.5091 - val_y_loss: 0.5209 - val_color_accuracy: 0.0000e+00 - val_shape_accuracy: 0.9999 - val_scale_accuracy: 0.9760 - val_rotation_accuracy: 0.3390 - val_x_accuracy: 0.8490 - val_y_accuracy: 0.8473\n",
            "Epoch 112/1000\n",
            "547/547 [==============================] - 12s 22ms/step - loss: 5.1840 - color_loss: 0.0000e+00 - shape_loss: 0.1489 - scale_loss: 0.5352 - rotation_loss: 2.5344 - x_loss: 0.9830 - y_loss: 0.9824 - color_accuracy: 0.0000e+00 - shape_accuracy: 0.9507 - scale_accuracy: 0.7838 - rotation_accuracy: 0.1636 - x_accuracy: 0.6083 - y_accuracy: 0.6023 - val_loss: 3.3437 - val_color_loss: 0.0000e+00 - val_shape_loss: 0.0195 - val_scale_loss: 0.2110 - val_rotation_loss: 2.1099 - val_x_loss: 0.5007 - val_y_loss: 0.5026 - val_color_accuracy: 0.0000e+00 - val_shape_accuracy: 0.9999 - val_scale_accuracy: 0.9793 - val_rotation_accuracy: 0.3511 - val_x_accuracy: 0.8482 - val_y_accuracy: 0.8449\n",
            "Epoch 113/1000\n",
            "547/547 [==============================] - 12s 22ms/step - loss: 5.1622 - color_loss: 0.0000e+00 - shape_loss: 0.1477 - scale_loss: 0.5308 - rotation_loss: 2.5310 - x_loss: 0.9832 - y_loss: 0.9694 - color_accuracy: 0.0000e+00 - shape_accuracy: 0.9510 - scale_accuracy: 0.7857 - rotation_accuracy: 0.1657 - x_accuracy: 0.6127 - y_accuracy: 0.6084 - val_loss: 3.3752 - val_color_loss: 0.0000e+00 - val_shape_loss: 0.0180 - val_scale_loss: 0.2143 - val_rotation_loss: 2.1199 - val_x_loss: 0.5051 - val_y_loss: 0.5179 - val_color_accuracy: 0.0000e+00 - val_shape_accuracy: 0.9999 - val_scale_accuracy: 0.9823 - val_rotation_accuracy: 0.3496 - val_x_accuracy: 0.8507 - val_y_accuracy: 0.8471\n",
            "Epoch 114/1000\n",
            "547/547 [==============================] - 12s 22ms/step - loss: 5.1518 - color_loss: 0.0000e+00 - shape_loss: 0.1476 - scale_loss: 0.5258 - rotation_loss: 2.5280 - x_loss: 0.9768 - y_loss: 0.9737 - color_accuracy: 0.0000e+00 - shape_accuracy: 0.9509 - scale_accuracy: 0.7842 - rotation_accuracy: 0.1649 - x_accuracy: 0.6123 - y_accuracy: 0.6054 - val_loss: 3.3479 - val_color_loss: 0.0000e+00 - val_shape_loss: 0.0179 - val_scale_loss: 0.2058 - val_rotation_loss: 2.1068 - val_x_loss: 0.5116 - val_y_loss: 0.5058 - val_color_accuracy: 0.0000e+00 - val_shape_accuracy: 0.9998 - val_scale_accuracy: 0.9779 - val_rotation_accuracy: 0.3485 - val_x_accuracy: 0.8449 - val_y_accuracy: 0.8479\n",
            "Epoch 115/1000\n",
            "547/547 [==============================] - 12s 22ms/step - loss: 5.1286 - color_loss: 0.0000e+00 - shape_loss: 0.1440 - scale_loss: 0.5281 - rotation_loss: 2.5184 - x_loss: 0.9739 - y_loss: 0.9643 - color_accuracy: 0.0000e+00 - shape_accuracy: 0.9525 - scale_accuracy: 0.7865 - rotation_accuracy: 0.1655 - x_accuracy: 0.6165 - y_accuracy: 0.6100 - val_loss: 3.3659 - val_color_loss: 0.0000e+00 - val_shape_loss: 0.0192 - val_scale_loss: 0.2277 - val_rotation_loss: 2.1004 - val_x_loss: 0.5059 - val_y_loss: 0.5127 - val_color_accuracy: 0.0000e+00 - val_shape_accuracy: 0.9997 - val_scale_accuracy: 0.9641 - val_rotation_accuracy: 0.3515 - val_x_accuracy: 0.8479 - val_y_accuracy: 0.8463\n",
            "Epoch 116/1000\n",
            "547/547 [==============================] - 12s 22ms/step - loss: 5.1127 - color_loss: 0.0000e+00 - shape_loss: 0.1417 - scale_loss: 0.5280 - rotation_loss: 2.5109 - x_loss: 0.9781 - y_loss: 0.9540 - color_accuracy: 0.0000e+00 - shape_accuracy: 0.9530 - scale_accuracy: 0.7864 - rotation_accuracy: 0.1655 - x_accuracy: 0.6196 - y_accuracy: 0.6117 - val_loss: 3.2902 - val_color_loss: 0.0000e+00 - val_shape_loss: 0.0147 - val_scale_loss: 0.1954 - val_rotation_loss: 2.0844 - val_x_loss: 0.4956 - val_y_loss: 0.5001 - val_color_accuracy: 0.0000e+00 - val_shape_accuracy: 0.9998 - val_scale_accuracy: 0.9855 - val_rotation_accuracy: 0.3539 - val_x_accuracy: 0.8493 - val_y_accuracy: 0.8497\n",
            "Epoch 117/1000\n",
            "547/547 [==============================] - 12s 22ms/step - loss: 5.0936 - color_loss: 0.0000e+00 - shape_loss: 0.1403 - scale_loss: 0.5257 - rotation_loss: 2.4984 - x_loss: 0.9701 - y_loss: 0.9592 - color_accuracy: 0.0000e+00 - shape_accuracy: 0.9525 - scale_accuracy: 0.7890 - rotation_accuracy: 0.1688 - x_accuracy: 0.6131 - y_accuracy: 0.6128 - val_loss: 3.3048 - val_color_loss: 0.0000e+00 - val_shape_loss: 0.0190 - val_scale_loss: 0.2148 - val_rotation_loss: 2.0716 - val_x_loss: 0.4994 - val_y_loss: 0.5000 - val_color_accuracy: 0.0000e+00 - val_shape_accuracy: 0.9999 - val_scale_accuracy: 0.9679 - val_rotation_accuracy: 0.3544 - val_x_accuracy: 0.8487 - val_y_accuracy: 0.8432\n",
            "Epoch 118/1000\n",
            "547/547 [==============================] - 12s 22ms/step - loss: 5.0739 - color_loss: 0.0000e+00 - shape_loss: 0.1374 - scale_loss: 0.5210 - rotation_loss: 2.4979 - x_loss: 0.9707 - y_loss: 0.9470 - color_accuracy: 0.0000e+00 - shape_accuracy: 0.9545 - scale_accuracy: 0.7912 - rotation_accuracy: 0.1715 - x_accuracy: 0.6120 - y_accuracy: 0.6169 - val_loss: 3.3023 - val_color_loss: 0.0000e+00 - val_shape_loss: 0.0175 - val_scale_loss: 0.2080 - val_rotation_loss: 2.0779 - val_x_loss: 0.4976 - val_y_loss: 0.5012 - val_color_accuracy: 0.0000e+00 - val_shape_accuracy: 0.9999 - val_scale_accuracy: 0.9739 - val_rotation_accuracy: 0.3524 - val_x_accuracy: 0.8477 - val_y_accuracy: 0.8420\n",
            "Epoch 119/1000\n",
            "547/547 [==============================] - 12s 22ms/step - loss: 5.0540 - color_loss: 0.0000e+00 - shape_loss: 0.1374 - scale_loss: 0.5101 - rotation_loss: 2.4929 - x_loss: 0.9717 - y_loss: 0.9419 - color_accuracy: 0.0000e+00 - shape_accuracy: 0.9561 - scale_accuracy: 0.7916 - rotation_accuracy: 0.1676 - x_accuracy: 0.6163 - y_accuracy: 0.6206 - val_loss: 3.2169 - val_color_loss: 0.0000e+00 - val_shape_loss: 0.0180 - val_scale_loss: 0.1951 - val_rotation_loss: 2.0371 - val_x_loss: 0.4793 - val_y_loss: 0.4873 - val_color_accuracy: 0.0000e+00 - val_shape_accuracy: 0.9995 - val_scale_accuracy: 0.9856 - val_rotation_accuracy: 0.3623 - val_x_accuracy: 0.8492 - val_y_accuracy: 0.8506\n",
            "Epoch 120/1000\n",
            "547/547 [==============================] - 12s 22ms/step - loss: 5.0236 - color_loss: 0.0000e+00 - shape_loss: 0.1335 - scale_loss: 0.5069 - rotation_loss: 2.4817 - x_loss: 0.9666 - y_loss: 0.9349 - color_accuracy: 0.0000e+00 - shape_accuracy: 0.9548 - scale_accuracy: 0.7936 - rotation_accuracy: 0.1703 - x_accuracy: 0.6174 - y_accuracy: 0.6197 - val_loss: 3.2904 - val_color_loss: 0.0000e+00 - val_shape_loss: 0.0160 - val_scale_loss: 0.2048 - val_rotation_loss: 2.0689 - val_x_loss: 0.4958 - val_y_loss: 0.5049 - val_color_accuracy: 0.0000e+00 - val_shape_accuracy: 0.9999 - val_scale_accuracy: 0.9788 - val_rotation_accuracy: 0.3576 - val_x_accuracy: 0.8514 - val_y_accuracy: 0.8499\n",
            "Epoch 121/1000\n",
            "547/547 [==============================] - 12s 22ms/step - loss: 5.0251 - color_loss: 0.0000e+00 - shape_loss: 0.1411 - scale_loss: 0.5092 - rotation_loss: 2.4799 - x_loss: 0.9532 - y_loss: 0.9417 - color_accuracy: 0.0000e+00 - shape_accuracy: 0.9547 - scale_accuracy: 0.7928 - rotation_accuracy: 0.1722 - x_accuracy: 0.6229 - y_accuracy: 0.6222 - val_loss: 3.2458 - val_color_loss: 0.0000e+00 - val_shape_loss: 0.0167 - val_scale_loss: 0.2003 - val_rotation_loss: 2.0469 - val_x_loss: 0.4916 - val_y_loss: 0.4904 - val_color_accuracy: 0.0000e+00 - val_shape_accuracy: 0.9999 - val_scale_accuracy: 0.9782 - val_rotation_accuracy: 0.3582 - val_x_accuracy: 0.8493 - val_y_accuracy: 0.8481\n",
            "Epoch 122/1000\n",
            "547/547 [==============================] - 12s 22ms/step - loss: 5.0117 - color_loss: 0.0000e+00 - shape_loss: 0.1404 - scale_loss: 0.5060 - rotation_loss: 2.4718 - x_loss: 0.9564 - y_loss: 0.9370 - color_accuracy: 0.0000e+00 - shape_accuracy: 0.9547 - scale_accuracy: 0.7948 - rotation_accuracy: 0.1733 - x_accuracy: 0.6234 - y_accuracy: 0.6226 - val_loss: 3.2373 - val_color_loss: 0.0000e+00 - val_shape_loss: 0.0158 - val_scale_loss: 0.1910 - val_rotation_loss: 2.0423 - val_x_loss: 0.4985 - val_y_loss: 0.4897 - val_color_accuracy: 0.0000e+00 - val_shape_accuracy: 0.9999 - val_scale_accuracy: 0.9856 - val_rotation_accuracy: 0.3653 - val_x_accuracy: 0.8469 - val_y_accuracy: 0.8485\n",
            "Epoch 123/1000\n",
            "547/547 [==============================] - 12s 22ms/step - loss: 5.0013 - color_loss: 0.0000e+00 - shape_loss: 0.1380 - scale_loss: 0.5001 - rotation_loss: 2.4758 - x_loss: 0.9546 - y_loss: 0.9329 - color_accuracy: 0.0000e+00 - shape_accuracy: 0.9552 - scale_accuracy: 0.7996 - rotation_accuracy: 0.1737 - x_accuracy: 0.6237 - y_accuracy: 0.6242 - val_loss: 3.1972 - val_color_loss: 0.0000e+00 - val_shape_loss: 0.0159 - val_scale_loss: 0.1865 - val_rotation_loss: 2.0236 - val_x_loss: 0.4825 - val_y_loss: 0.4887 - val_color_accuracy: 0.0000e+00 - val_shape_accuracy: 0.9999 - val_scale_accuracy: 0.9877 - val_rotation_accuracy: 0.3707 - val_x_accuracy: 0.8518 - val_y_accuracy: 0.8434\n",
            "Epoch 124/1000\n",
            "547/547 [==============================] - 12s 22ms/step - loss: 4.9931 - color_loss: 0.0000e+00 - shape_loss: 0.1399 - scale_loss: 0.5023 - rotation_loss: 2.4662 - x_loss: 0.9584 - y_loss: 0.9263 - color_accuracy: 0.0000e+00 - shape_accuracy: 0.9536 - scale_accuracy: 0.7991 - rotation_accuracy: 0.1732 - x_accuracy: 0.6240 - y_accuracy: 0.6231 - val_loss: 3.1966 - val_color_loss: 0.0000e+00 - val_shape_loss: 0.0158 - val_scale_loss: 0.1876 - val_rotation_loss: 2.0254 - val_x_loss: 0.4859 - val_y_loss: 0.4820 - val_color_accuracy: 0.0000e+00 - val_shape_accuracy: 0.9999 - val_scale_accuracy: 0.9853 - val_rotation_accuracy: 0.3699 - val_x_accuracy: 0.8526 - val_y_accuracy: 0.8569\n",
            "Epoch 125/1000\n",
            "547/547 [==============================] - 12s 21ms/step - loss: 4.9905 - color_loss: 0.0000e+00 - shape_loss: 0.1368 - scale_loss: 0.5034 - rotation_loss: 2.4667 - x_loss: 0.9589 - y_loss: 0.9247 - color_accuracy: 0.0000e+00 - shape_accuracy: 0.9548 - scale_accuracy: 0.7996 - rotation_accuracy: 0.1734 - x_accuracy: 0.6223 - y_accuracy: 0.6246 - val_loss: 3.1492 - val_color_loss: 0.0000e+00 - val_shape_loss: 0.0149 - val_scale_loss: 0.1747 - val_rotation_loss: 2.0032 - val_x_loss: 0.4743 - val_y_loss: 0.4821 - val_color_accuracy: 0.0000e+00 - val_shape_accuracy: 0.9999 - val_scale_accuracy: 0.9875 - val_rotation_accuracy: 0.3733 - val_x_accuracy: 0.8506 - val_y_accuracy: 0.8469\n",
            "Epoch 126/1000\n",
            "547/547 [==============================] - 12s 22ms/step - loss: 4.9897 - color_loss: 0.0000e+00 - shape_loss: 0.1384 - scale_loss: 0.4977 - rotation_loss: 2.4591 - x_loss: 0.9523 - y_loss: 0.9423 - color_accuracy: 0.0000e+00 - shape_accuracy: 0.9547 - scale_accuracy: 0.8025 - rotation_accuracy: 0.1725 - x_accuracy: 0.6238 - y_accuracy: 0.6204 - val_loss: 3.1475 - val_color_loss: 0.0000e+00 - val_shape_loss: 0.0154 - val_scale_loss: 0.1807 - val_rotation_loss: 1.9975 - val_x_loss: 0.4779 - val_y_loss: 0.4760 - val_color_accuracy: 0.0000e+00 - val_shape_accuracy: 0.9999 - val_scale_accuracy: 0.9851 - val_rotation_accuracy: 0.3739 - val_x_accuracy: 0.8568 - val_y_accuracy: 0.8489\n",
            "Epoch 127/1000\n",
            "547/547 [==============================] - 12s 22ms/step - loss: 4.9521 - color_loss: 0.0000e+00 - shape_loss: 0.1322 - scale_loss: 0.4992 - rotation_loss: 2.4558 - x_loss: 0.9356 - y_loss: 0.9294 - color_accuracy: 0.0000e+00 - shape_accuracy: 0.9559 - scale_accuracy: 0.8029 - rotation_accuracy: 0.1742 - x_accuracy: 0.6290 - y_accuracy: 0.6236 - val_loss: 3.1514 - val_color_loss: 0.0000e+00 - val_shape_loss: 0.0160 - val_scale_loss: 0.1785 - val_rotation_loss: 1.9979 - val_x_loss: 0.4754 - val_y_loss: 0.4837 - val_color_accuracy: 0.0000e+00 - val_shape_accuracy: 0.9999 - val_scale_accuracy: 0.9832 - val_rotation_accuracy: 0.3636 - val_x_accuracy: 0.8497 - val_y_accuracy: 0.8475\n",
            "Epoch 128/1000\n",
            "547/547 [==============================] - 12s 21ms/step - loss: 4.9589 - color_loss: 0.0000e+00 - shape_loss: 0.1357 - scale_loss: 0.5053 - rotation_loss: 2.4470 - x_loss: 0.9501 - y_loss: 0.9207 - color_accuracy: 0.0000e+00 - shape_accuracy: 0.9556 - scale_accuracy: 0.7958 - rotation_accuracy: 0.1769 - x_accuracy: 0.6267 - y_accuracy: 0.6286 - val_loss: 3.1510 - val_color_loss: 0.0000e+00 - val_shape_loss: 0.0146 - val_scale_loss: 0.1712 - val_rotation_loss: 1.9957 - val_x_loss: 0.4840 - val_y_loss: 0.4856 - val_color_accuracy: 0.0000e+00 - val_shape_accuracy: 0.9999 - val_scale_accuracy: 0.9872 - val_rotation_accuracy: 0.3816 - val_x_accuracy: 0.8529 - val_y_accuracy: 0.8529\n",
            "Epoch 129/1000\n",
            "547/547 [==============================] - 12s 22ms/step - loss: 4.9551 - color_loss: 0.0000e+00 - shape_loss: 0.1360 - scale_loss: 0.4964 - rotation_loss: 2.4450 - x_loss: 0.9476 - y_loss: 0.9302 - color_accuracy: 0.0000e+00 - shape_accuracy: 0.9560 - scale_accuracy: 0.8041 - rotation_accuracy: 0.1774 - x_accuracy: 0.6264 - y_accuracy: 0.6311 - val_loss: 3.1359 - val_color_loss: 0.0000e+00 - val_shape_loss: 0.0141 - val_scale_loss: 0.1800 - val_rotation_loss: 1.9900 - val_x_loss: 0.4755 - val_y_loss: 0.4763 - val_color_accuracy: 0.0000e+00 - val_shape_accuracy: 0.9999 - val_scale_accuracy: 0.9849 - val_rotation_accuracy: 0.3864 - val_x_accuracy: 0.8588 - val_y_accuracy: 0.8457\n",
            "Epoch 130/1000\n",
            "547/547 [==============================] - 12s 22ms/step - loss: 4.9240 - color_loss: 0.0000e+00 - shape_loss: 0.1325 - scale_loss: 0.4979 - rotation_loss: 2.4373 - x_loss: 0.9397 - y_loss: 0.9165 - color_accuracy: 0.0000e+00 - shape_accuracy: 0.9573 - scale_accuracy: 0.7998 - rotation_accuracy: 0.1787 - x_accuracy: 0.6285 - y_accuracy: 0.6293 - val_loss: 3.1769 - val_color_loss: 0.0000e+00 - val_shape_loss: 0.0154 - val_scale_loss: 0.2190 - val_rotation_loss: 1.9886 - val_x_loss: 0.4752 - val_y_loss: 0.4787 - val_color_accuracy: 0.0000e+00 - val_shape_accuracy: 0.9998 - val_scale_accuracy: 0.9475 - val_rotation_accuracy: 0.3802 - val_x_accuracy: 0.8530 - val_y_accuracy: 0.8501\n",
            "Epoch 131/1000\n",
            "547/547 [==============================] - 12s 22ms/step - loss: 4.9151 - color_loss: 0.0000e+00 - shape_loss: 0.1328 - scale_loss: 0.4914 - rotation_loss: 2.4384 - x_loss: 0.9418 - y_loss: 0.9108 - color_accuracy: 0.0000e+00 - shape_accuracy: 0.9571 - scale_accuracy: 0.8059 - rotation_accuracy: 0.1801 - x_accuracy: 0.6285 - y_accuracy: 0.6329 - val_loss: 3.1141 - val_color_loss: 0.0000e+00 - val_shape_loss: 0.0160 - val_scale_loss: 0.1754 - val_rotation_loss: 1.9834 - val_x_loss: 0.4734 - val_y_loss: 0.4658 - val_color_accuracy: 0.0000e+00 - val_shape_accuracy: 0.9998 - val_scale_accuracy: 0.9859 - val_rotation_accuracy: 0.3838 - val_x_accuracy: 0.8535 - val_y_accuracy: 0.8535\n",
            "Epoch 132/1000\n",
            "547/547 [==============================] - 12s 22ms/step - loss: 4.9023 - color_loss: 0.0000e+00 - shape_loss: 0.1296 - scale_loss: 0.4839 - rotation_loss: 2.4332 - x_loss: 0.9379 - y_loss: 0.9178 - color_accuracy: 0.0000e+00 - shape_accuracy: 0.9575 - scale_accuracy: 0.8081 - rotation_accuracy: 0.1788 - x_accuracy: 0.6325 - y_accuracy: 0.6274 - val_loss: 3.0907 - val_color_loss: 0.0000e+00 - val_shape_loss: 0.0161 - val_scale_loss: 0.1703 - val_rotation_loss: 1.9677 - val_x_loss: 0.4660 - val_y_loss: 0.4707 - val_color_accuracy: 0.0000e+00 - val_shape_accuracy: 0.9999 - val_scale_accuracy: 0.9836 - val_rotation_accuracy: 0.3832 - val_x_accuracy: 0.8546 - val_y_accuracy: 0.8521\n",
            "Epoch 133/1000\n",
            "547/547 [==============================] - 12s 22ms/step - loss: 4.8864 - color_loss: 0.0000e+00 - shape_loss: 0.1277 - scale_loss: 0.4925 - rotation_loss: 2.4190 - x_loss: 0.9322 - y_loss: 0.9150 - color_accuracy: 0.0000e+00 - shape_accuracy: 0.9587 - scale_accuracy: 0.8053 - rotation_accuracy: 0.1837 - x_accuracy: 0.6308 - y_accuracy: 0.6307 - val_loss: 3.0975 - val_color_loss: 0.0000e+00 - val_shape_loss: 0.0146 - val_scale_loss: 0.1702 - val_rotation_loss: 1.9695 - val_x_loss: 0.4737 - val_y_loss: 0.4696 - val_color_accuracy: 0.0000e+00 - val_shape_accuracy: 0.9999 - val_scale_accuracy: 0.9850 - val_rotation_accuracy: 0.3960 - val_x_accuracy: 0.8565 - val_y_accuracy: 0.8549\n",
            "Epoch 134/1000\n",
            "547/547 [==============================] - 12s 22ms/step - loss: 4.8909 - color_loss: 0.0000e+00 - shape_loss: 0.1343 - scale_loss: 0.4874 - rotation_loss: 2.4146 - x_loss: 0.9360 - y_loss: 0.9187 - color_accuracy: 0.0000e+00 - shape_accuracy: 0.9554 - scale_accuracy: 0.8064 - rotation_accuracy: 0.1851 - x_accuracy: 0.6342 - y_accuracy: 0.6313 - val_loss: 3.0622 - val_color_loss: 0.0000e+00 - val_shape_loss: 0.0148 - val_scale_loss: 0.1671 - val_rotation_loss: 1.9544 - val_x_loss: 0.4649 - val_y_loss: 0.4611 - val_color_accuracy: 0.0000e+00 - val_shape_accuracy: 0.9999 - val_scale_accuracy: 0.9898 - val_rotation_accuracy: 0.3966 - val_x_accuracy: 0.8540 - val_y_accuracy: 0.8555\n",
            "Epoch 135/1000\n",
            "547/547 [==============================] - 12s 22ms/step - loss: 4.8885 - color_loss: 0.0000e+00 - shape_loss: 0.1307 - scale_loss: 0.4886 - rotation_loss: 2.4253 - x_loss: 0.9337 - y_loss: 0.9101 - color_accuracy: 0.0000e+00 - shape_accuracy: 0.9578 - scale_accuracy: 0.8073 - rotation_accuracy: 0.1822 - x_accuracy: 0.6329 - y_accuracy: 0.6335 - val_loss: 3.0897 - val_color_loss: 0.0000e+00 - val_shape_loss: 0.0157 - val_scale_loss: 0.1868 - val_rotation_loss: 1.9570 - val_x_loss: 0.4680 - val_y_loss: 0.4622 - val_color_accuracy: 0.0000e+00 - val_shape_accuracy: 0.9999 - val_scale_accuracy: 0.9707 - val_rotation_accuracy: 0.3769 - val_x_accuracy: 0.8489 - val_y_accuracy: 0.8559\n",
            "Epoch 136/1000\n",
            "547/547 [==============================] - 12s 22ms/step - loss: 4.8802 - color_loss: 0.0000e+00 - shape_loss: 0.1300 - scale_loss: 0.4874 - rotation_loss: 2.4237 - x_loss: 0.9344 - y_loss: 0.9048 - color_accuracy: 0.0000e+00 - shape_accuracy: 0.9586 - scale_accuracy: 0.8071 - rotation_accuracy: 0.1827 - x_accuracy: 0.6320 - y_accuracy: 0.6369 - val_loss: 3.0550 - val_color_loss: 0.0000e+00 - val_shape_loss: 0.0149 - val_scale_loss: 0.1639 - val_rotation_loss: 1.9482 - val_x_loss: 0.4680 - val_y_loss: 0.4600 - val_color_accuracy: 0.0000e+00 - val_shape_accuracy: 0.9999 - val_scale_accuracy: 0.9869 - val_rotation_accuracy: 0.3850 - val_x_accuracy: 0.8564 - val_y_accuracy: 0.8485\n",
            "Epoch 137/1000\n",
            "547/547 [==============================] - 12s 22ms/step - loss: 4.8623 - color_loss: 0.0000e+00 - shape_loss: 0.1328 - scale_loss: 0.4841 - rotation_loss: 2.4156 - x_loss: 0.9259 - y_loss: 0.9039 - color_accuracy: 0.0000e+00 - shape_accuracy: 0.9565 - scale_accuracy: 0.8082 - rotation_accuracy: 0.1800 - x_accuracy: 0.6369 - y_accuracy: 0.6369 - val_loss: 3.0545 - val_color_loss: 0.0000e+00 - val_shape_loss: 0.0137 - val_scale_loss: 0.1599 - val_rotation_loss: 1.9492 - val_x_loss: 0.4690 - val_y_loss: 0.4627 - val_color_accuracy: 0.0000e+00 - val_shape_accuracy: 0.9999 - val_scale_accuracy: 0.9906 - val_rotation_accuracy: 0.3885 - val_x_accuracy: 0.8607 - val_y_accuracy: 0.8573\n",
            "Epoch 138/1000\n",
            "547/547 [==============================] - 12s 22ms/step - loss: 4.8622 - color_loss: 0.0000e+00 - shape_loss: 0.1293 - scale_loss: 0.4807 - rotation_loss: 2.4059 - x_loss: 0.9343 - y_loss: 0.9120 - color_accuracy: 0.0000e+00 - shape_accuracy: 0.9578 - scale_accuracy: 0.8112 - rotation_accuracy: 0.1849 - x_accuracy: 0.6339 - y_accuracy: 0.6343 - val_loss: 3.0326 - val_color_loss: 0.0000e+00 - val_shape_loss: 0.0145 - val_scale_loss: 0.1583 - val_rotation_loss: 1.9351 - val_x_loss: 0.4670 - val_y_loss: 0.4577 - val_color_accuracy: 0.0000e+00 - val_shape_accuracy: 0.9999 - val_scale_accuracy: 0.9905 - val_rotation_accuracy: 0.3971 - val_x_accuracy: 0.8569 - val_y_accuracy: 0.8543\n",
            "Epoch 139/1000\n",
            "547/547 [==============================] - 12s 22ms/step - loss: 4.8452 - color_loss: 0.0000e+00 - shape_loss: 0.1254 - scale_loss: 0.4838 - rotation_loss: 2.4031 - x_loss: 0.9258 - y_loss: 0.9070 - color_accuracy: 0.0000e+00 - shape_accuracy: 0.9602 - scale_accuracy: 0.8110 - rotation_accuracy: 0.1849 - x_accuracy: 0.6385 - y_accuracy: 0.6347 - val_loss: 3.0657 - val_color_loss: 0.0000e+00 - val_shape_loss: 0.0160 - val_scale_loss: 0.1871 - val_rotation_loss: 1.9317 - val_x_loss: 0.4670 - val_y_loss: 0.4638 - val_color_accuracy: 0.0000e+00 - val_shape_accuracy: 0.9999 - val_scale_accuracy: 0.9648 - val_rotation_accuracy: 0.3899 - val_x_accuracy: 0.8541 - val_y_accuracy: 0.8515\n",
            "Epoch 140/1000\n",
            "547/547 [==============================] - 12s 22ms/step - loss: 4.8425 - color_loss: 0.0000e+00 - shape_loss: 0.1306 - scale_loss: 0.4834 - rotation_loss: 2.3946 - x_loss: 0.9294 - y_loss: 0.9044 - color_accuracy: 0.0000e+00 - shape_accuracy: 0.9576 - scale_accuracy: 0.8096 - rotation_accuracy: 0.1877 - x_accuracy: 0.6320 - y_accuracy: 0.6391 - val_loss: 3.0438 - val_color_loss: 0.0000e+00 - val_shape_loss: 0.0133 - val_scale_loss: 0.1603 - val_rotation_loss: 1.9383 - val_x_loss: 0.4731 - val_y_loss: 0.4588 - val_color_accuracy: 0.0000e+00 - val_shape_accuracy: 0.9999 - val_scale_accuracy: 0.9845 - val_rotation_accuracy: 0.3988 - val_x_accuracy: 0.8572 - val_y_accuracy: 0.8554\n",
            "Epoch 141/1000\n",
            "547/547 [==============================] - 12s 22ms/step - loss: 4.8357 - color_loss: 0.0000e+00 - shape_loss: 0.1314 - scale_loss: 0.4756 - rotation_loss: 2.3980 - x_loss: 0.9273 - y_loss: 0.9034 - color_accuracy: 0.0000e+00 - shape_accuracy: 0.9567 - scale_accuracy: 0.8129 - rotation_accuracy: 0.1909 - x_accuracy: 0.6345 - y_accuracy: 0.6366 - val_loss: 3.0068 - val_color_loss: 0.0000e+00 - val_shape_loss: 0.0147 - val_scale_loss: 0.1562 - val_rotation_loss: 1.9222 - val_x_loss: 0.4633 - val_y_loss: 0.4504 - val_color_accuracy: 0.0000e+00 - val_shape_accuracy: 0.9999 - val_scale_accuracy: 0.9888 - val_rotation_accuracy: 0.3975 - val_x_accuracy: 0.8563 - val_y_accuracy: 0.8529\n",
            "Epoch 142/1000\n",
            "547/547 [==============================] - 12s 22ms/step - loss: 4.8219 - color_loss: 0.0000e+00 - shape_loss: 0.1275 - scale_loss: 0.4739 - rotation_loss: 2.3928 - x_loss: 0.9258 - y_loss: 0.9018 - color_accuracy: 0.0000e+00 - shape_accuracy: 0.9588 - scale_accuracy: 0.8148 - rotation_accuracy: 0.1900 - x_accuracy: 0.6383 - y_accuracy: 0.6388 - val_loss: 3.0130 - val_color_loss: 0.0000e+00 - val_shape_loss: 0.0144 - val_scale_loss: 0.1565 - val_rotation_loss: 1.9194 - val_x_loss: 0.4647 - val_y_loss: 0.4581 - val_color_accuracy: 0.0000e+00 - val_shape_accuracy: 0.9999 - val_scale_accuracy: 0.9928 - val_rotation_accuracy: 0.4033 - val_x_accuracy: 0.8603 - val_y_accuracy: 0.8550\n",
            "Epoch 143/1000\n",
            "547/547 [==============================] - 12s 22ms/step - loss: 4.8066 - color_loss: 0.0000e+00 - shape_loss: 0.1291 - scale_loss: 0.4703 - rotation_loss: 2.3863 - x_loss: 0.9322 - y_loss: 0.8886 - color_accuracy: 0.0000e+00 - shape_accuracy: 0.9574 - scale_accuracy: 0.8162 - rotation_accuracy: 0.1884 - x_accuracy: 0.6364 - y_accuracy: 0.6436 - val_loss: 2.9909 - val_color_loss: 0.0000e+00 - val_shape_loss: 0.0145 - val_scale_loss: 0.1500 - val_rotation_loss: 1.9082 - val_x_loss: 0.4652 - val_y_loss: 0.4529 - val_color_accuracy: 0.0000e+00 - val_shape_accuracy: 0.9998 - val_scale_accuracy: 0.9911 - val_rotation_accuracy: 0.3997 - val_x_accuracy: 0.8508 - val_y_accuracy: 0.8567\n",
            "Epoch 144/1000\n",
            "547/547 [==============================] - 12s 22ms/step - loss: 4.8009 - color_loss: 0.0000e+00 - shape_loss: 0.1290 - scale_loss: 0.4745 - rotation_loss: 2.3872 - x_loss: 0.9202 - y_loss: 0.8900 - color_accuracy: 0.0000e+00 - shape_accuracy: 0.9573 - scale_accuracy: 0.8149 - rotation_accuracy: 0.1867 - x_accuracy: 0.6388 - y_accuracy: 0.6425 - val_loss: 3.0021 - val_color_loss: 0.0000e+00 - val_shape_loss: 0.0127 - val_scale_loss: 0.1506 - val_rotation_loss: 1.9194 - val_x_loss: 0.4678 - val_y_loss: 0.4515 - val_color_accuracy: 0.0000e+00 - val_shape_accuracy: 0.9999 - val_scale_accuracy: 0.9932 - val_rotation_accuracy: 0.3974 - val_x_accuracy: 0.8558 - val_y_accuracy: 0.8656\n",
            "Epoch 145/1000\n",
            "547/547 [==============================] - 12s 22ms/step - loss: 4.7898 - color_loss: 0.0000e+00 - shape_loss: 0.1272 - scale_loss: 0.4723 - rotation_loss: 2.3809 - x_loss: 0.9211 - y_loss: 0.8883 - color_accuracy: 0.0000e+00 - shape_accuracy: 0.9578 - scale_accuracy: 0.8157 - rotation_accuracy: 0.1885 - x_accuracy: 0.6386 - y_accuracy: 0.6450 - val_loss: 2.9546 - val_color_loss: 0.0000e+00 - val_shape_loss: 0.0130 - val_scale_loss: 0.1403 - val_rotation_loss: 1.8998 - val_x_loss: 0.4571 - val_y_loss: 0.4444 - val_color_accuracy: 0.0000e+00 - val_shape_accuracy: 0.9999 - val_scale_accuracy: 0.9960 - val_rotation_accuracy: 0.4091 - val_x_accuracy: 0.8576 - val_y_accuracy: 0.8535\n",
            "Epoch 146/1000\n",
            "547/547 [==============================] - 12s 22ms/step - loss: 4.7945 - color_loss: 0.0000e+00 - shape_loss: 0.1288 - scale_loss: 0.4720 - rotation_loss: 2.3703 - x_loss: 0.9331 - y_loss: 0.8904 - color_accuracy: 0.0000e+00 - shape_accuracy: 0.9575 - scale_accuracy: 0.8140 - rotation_accuracy: 0.1923 - x_accuracy: 0.6356 - y_accuracy: 0.6395 - val_loss: 2.9812 - val_color_loss: 0.0000e+00 - val_shape_loss: 0.0118 - val_scale_loss: 0.1493 - val_rotation_loss: 1.9052 - val_x_loss: 0.4638 - val_y_loss: 0.4511 - val_color_accuracy: 0.0000e+00 - val_shape_accuracy: 0.9999 - val_scale_accuracy: 0.9937 - val_rotation_accuracy: 0.4014 - val_x_accuracy: 0.8565 - val_y_accuracy: 0.8522\n",
            "Epoch 147/1000\n",
            "547/547 [==============================] - 12s 22ms/step - loss: 4.7733 - color_loss: 0.0000e+00 - shape_loss: 0.1257 - scale_loss: 0.4633 - rotation_loss: 2.3745 - x_loss: 0.9149 - y_loss: 0.8948 - color_accuracy: 0.0000e+00 - shape_accuracy: 0.9585 - scale_accuracy: 0.8203 - rotation_accuracy: 0.1881 - x_accuracy: 0.6402 - y_accuracy: 0.6409 - val_loss: 2.9563 - val_color_loss: 0.0000e+00 - val_shape_loss: 0.0129 - val_scale_loss: 0.1588 - val_rotation_loss: 1.8931 - val_x_loss: 0.4461 - val_y_loss: 0.4454 - val_color_accuracy: 0.0000e+00 - val_shape_accuracy: 0.9999 - val_scale_accuracy: 0.9821 - val_rotation_accuracy: 0.4069 - val_x_accuracy: 0.8570 - val_y_accuracy: 0.8615\n",
            "Epoch 148/1000\n",
            "547/547 [==============================] - 12s 22ms/step - loss: 4.7686 - color_loss: 0.0000e+00 - shape_loss: 0.1241 - scale_loss: 0.4587 - rotation_loss: 2.3794 - x_loss: 0.9184 - y_loss: 0.8880 - color_accuracy: 0.0000e+00 - shape_accuracy: 0.9590 - scale_accuracy: 0.8227 - rotation_accuracy: 0.1883 - x_accuracy: 0.6406 - y_accuracy: 0.6461 - val_loss: 2.9318 - val_color_loss: 0.0000e+00 - val_shape_loss: 0.0137 - val_scale_loss: 0.1462 - val_rotation_loss: 1.8838 - val_x_loss: 0.4466 - val_y_loss: 0.4415 - val_color_accuracy: 0.0000e+00 - val_shape_accuracy: 0.9997 - val_scale_accuracy: 0.9873 - val_rotation_accuracy: 0.3899 - val_x_accuracy: 0.8555 - val_y_accuracy: 0.8597\n",
            "Epoch 149/1000\n",
            "547/547 [==============================] - 12s 21ms/step - loss: 4.7463 - color_loss: 0.0000e+00 - shape_loss: 0.1275 - scale_loss: 0.4671 - rotation_loss: 2.3668 - x_loss: 0.9101 - y_loss: 0.8749 - color_accuracy: 0.0000e+00 - shape_accuracy: 0.9568 - scale_accuracy: 0.8200 - rotation_accuracy: 0.1883 - x_accuracy: 0.6445 - y_accuracy: 0.6505 - val_loss: 2.9683 - val_color_loss: 0.0000e+00 - val_shape_loss: 0.0126 - val_scale_loss: 0.1467 - val_rotation_loss: 1.9029 - val_x_loss: 0.4541 - val_y_loss: 0.4521 - val_color_accuracy: 0.0000e+00 - val_shape_accuracy: 0.9999 - val_scale_accuracy: 0.9927 - val_rotation_accuracy: 0.4095 - val_x_accuracy: 0.8582 - val_y_accuracy: 0.8622\n",
            "Epoch 150/1000\n",
            "547/547 [==============================] - 12s 22ms/step - loss: 4.7574 - color_loss: 0.0000e+00 - shape_loss: 0.1284 - scale_loss: 0.4657 - rotation_loss: 2.3741 - x_loss: 0.9170 - y_loss: 0.8722 - color_accuracy: 0.0000e+00 - shape_accuracy: 0.9582 - scale_accuracy: 0.8178 - rotation_accuracy: 0.1892 - x_accuracy: 0.6448 - y_accuracy: 0.6481 - val_loss: 2.9619 - val_color_loss: 0.0000e+00 - val_shape_loss: 0.0140 - val_scale_loss: 0.1438 - val_rotation_loss: 1.9036 - val_x_loss: 0.4584 - val_y_loss: 0.4420 - val_color_accuracy: 0.0000e+00 - val_shape_accuracy: 0.9999 - val_scale_accuracy: 0.9957 - val_rotation_accuracy: 0.4060 - val_x_accuracy: 0.8610 - val_y_accuracy: 0.8609\n",
            "Epoch 151/1000\n",
            "547/547 [==============================] - 12s 22ms/step - loss: 4.7459 - color_loss: 0.0000e+00 - shape_loss: 0.1287 - scale_loss: 0.4655 - rotation_loss: 2.3602 - x_loss: 0.9132 - y_loss: 0.8783 - color_accuracy: 0.0000e+00 - shape_accuracy: 0.9570 - scale_accuracy: 0.8187 - rotation_accuracy: 0.1917 - x_accuracy: 0.6429 - y_accuracy: 0.6438 - val_loss: 2.9440 - val_color_loss: 0.0000e+00 - val_shape_loss: 0.0121 - val_scale_loss: 0.1384 - val_rotation_loss: 1.8915 - val_x_loss: 0.4604 - val_y_loss: 0.4417 - val_color_accuracy: 0.0000e+00 - val_shape_accuracy: 0.9999 - val_scale_accuracy: 0.9963 - val_rotation_accuracy: 0.4143 - val_x_accuracy: 0.8533 - val_y_accuracy: 0.8615\n",
            "Epoch 152/1000\n",
            "547/547 [==============================] - 12s 22ms/step - loss: 4.7181 - color_loss: 0.0000e+00 - shape_loss: 0.1292 - scale_loss: 0.4558 - rotation_loss: 2.3551 - x_loss: 0.9063 - y_loss: 0.8718 - color_accuracy: 0.0000e+00 - shape_accuracy: 0.9568 - scale_accuracy: 0.8220 - rotation_accuracy: 0.1953 - x_accuracy: 0.6452 - y_accuracy: 0.6502 - val_loss: 2.9464 - val_color_loss: 0.0000e+00 - val_shape_loss: 0.0123 - val_scale_loss: 0.1420 - val_rotation_loss: 1.8924 - val_x_loss: 0.4570 - val_y_loss: 0.4427 - val_color_accuracy: 0.0000e+00 - val_shape_accuracy: 0.9999 - val_scale_accuracy: 0.9940 - val_rotation_accuracy: 0.4155 - val_x_accuracy: 0.8607 - val_y_accuracy: 0.8608\n",
            "Epoch 153/1000\n",
            "547/547 [==============================] - 12s 22ms/step - loss: 4.7305 - color_loss: 0.0000e+00 - shape_loss: 0.1264 - scale_loss: 0.4589 - rotation_loss: 2.3591 - x_loss: 0.9200 - y_loss: 0.8662 - color_accuracy: 0.0000e+00 - shape_accuracy: 0.9581 - scale_accuracy: 0.8221 - rotation_accuracy: 0.1911 - x_accuracy: 0.6440 - y_accuracy: 0.6509 - val_loss: 2.9208 - val_color_loss: 0.0000e+00 - val_shape_loss: 0.0121 - val_scale_loss: 0.1471 - val_rotation_loss: 1.8745 - val_x_loss: 0.4532 - val_y_loss: 0.4339 - val_color_accuracy: 0.0000e+00 - val_shape_accuracy: 0.9999 - val_scale_accuracy: 0.9890 - val_rotation_accuracy: 0.4105 - val_x_accuracy: 0.8553 - val_y_accuracy: 0.8611\n",
            "Epoch 154/1000\n",
            "547/547 [==============================] - 12s 22ms/step - loss: 4.7063 - color_loss: 0.0000e+00 - shape_loss: 0.1212 - scale_loss: 0.4603 - rotation_loss: 2.3446 - x_loss: 0.9101 - y_loss: 0.8702 - color_accuracy: 0.0000e+00 - shape_accuracy: 0.9597 - scale_accuracy: 0.8203 - rotation_accuracy: 0.1982 - x_accuracy: 0.6422 - y_accuracy: 0.6506 - val_loss: 2.8755 - val_color_loss: 0.0000e+00 - val_shape_loss: 0.0131 - val_scale_loss: 0.1291 - val_rotation_loss: 1.8600 - val_x_loss: 0.4465 - val_y_loss: 0.4268 - val_color_accuracy: 0.0000e+00 - val_shape_accuracy: 0.9997 - val_scale_accuracy: 0.9943 - val_rotation_accuracy: 0.4013 - val_x_accuracy: 0.8551 - val_y_accuracy: 0.8588\n",
            "Epoch 155/1000\n",
            "547/547 [==============================] - 12s 22ms/step - loss: 4.7087 - color_loss: 0.0000e+00 - shape_loss: 0.1253 - scale_loss: 0.4499 - rotation_loss: 2.3554 - x_loss: 0.9055 - y_loss: 0.8726 - color_accuracy: 0.0000e+00 - shape_accuracy: 0.9593 - scale_accuracy: 0.8272 - rotation_accuracy: 0.1942 - x_accuracy: 0.6477 - y_accuracy: 0.6495 - val_loss: 2.8935 - val_color_loss: 0.0000e+00 - val_shape_loss: 0.0126 - val_scale_loss: 0.1317 - val_rotation_loss: 1.8644 - val_x_loss: 0.4472 - val_y_loss: 0.4378 - val_color_accuracy: 0.0000e+00 - val_shape_accuracy: 0.9999 - val_scale_accuracy: 0.9959 - val_rotation_accuracy: 0.4182 - val_x_accuracy: 0.8617 - val_y_accuracy: 0.8583\n",
            "Epoch 156/1000\n",
            "547/547 [==============================] - 12s 22ms/step - loss: 4.6846 - color_loss: 0.0000e+00 - shape_loss: 0.1211 - scale_loss: 0.4390 - rotation_loss: 2.3538 - x_loss: 0.9062 - y_loss: 0.8645 - color_accuracy: 0.0000e+00 - shape_accuracy: 0.9608 - scale_accuracy: 0.8338 - rotation_accuracy: 0.1965 - x_accuracy: 0.6481 - y_accuracy: 0.6547 - val_loss: 2.8814 - val_color_loss: 0.0000e+00 - val_shape_loss: 0.0123 - val_scale_loss: 0.1298 - val_rotation_loss: 1.8553 - val_x_loss: 0.4478 - val_y_loss: 0.4362 - val_color_accuracy: 0.0000e+00 - val_shape_accuracy: 0.9999 - val_scale_accuracy: 0.9951 - val_rotation_accuracy: 0.4207 - val_x_accuracy: 0.8573 - val_y_accuracy: 0.8592\n",
            "Epoch 157/1000\n",
            "547/547 [==============================] - 12s 22ms/step - loss: 4.6954 - color_loss: 0.0000e+00 - shape_loss: 0.1267 - scale_loss: 0.4538 - rotation_loss: 2.3443 - x_loss: 0.9015 - y_loss: 0.8691 - color_accuracy: 0.0000e+00 - shape_accuracy: 0.9586 - scale_accuracy: 0.8246 - rotation_accuracy: 0.1952 - x_accuracy: 0.6493 - y_accuracy: 0.6529 - val_loss: 2.9033 - val_color_loss: 0.0000e+00 - val_shape_loss: 0.0128 - val_scale_loss: 0.1386 - val_rotation_loss: 1.8650 - val_x_loss: 0.4452 - val_y_loss: 0.4417 - val_color_accuracy: 0.0000e+00 - val_shape_accuracy: 0.9999 - val_scale_accuracy: 0.9959 - val_rotation_accuracy: 0.4109 - val_x_accuracy: 0.8571 - val_y_accuracy: 0.8659\n",
            "Epoch 158/1000\n",
            "547/547 [==============================] - 12s 22ms/step - loss: 4.6985 - color_loss: 0.0000e+00 - shape_loss: 0.1207 - scale_loss: 0.4487 - rotation_loss: 2.3480 - x_loss: 0.9101 - y_loss: 0.8710 - color_accuracy: 0.0000e+00 - shape_accuracy: 0.9604 - scale_accuracy: 0.8253 - rotation_accuracy: 0.1945 - x_accuracy: 0.6427 - y_accuracy: 0.6498 - val_loss: 2.8693 - val_color_loss: 0.0000e+00 - val_shape_loss: 0.0127 - val_scale_loss: 0.1370 - val_rotation_loss: 1.8506 - val_x_loss: 0.4391 - val_y_loss: 0.4299 - val_color_accuracy: 0.0000e+00 - val_shape_accuracy: 0.9999 - val_scale_accuracy: 0.9888 - val_rotation_accuracy: 0.4133 - val_x_accuracy: 0.8563 - val_y_accuracy: 0.8643\n",
            "Epoch 159/1000\n",
            "547/547 [==============================] - 12s 22ms/step - loss: 4.6605 - color_loss: 0.0000e+00 - shape_loss: 0.1189 - scale_loss: 0.4463 - rotation_loss: 2.3291 - x_loss: 0.9054 - y_loss: 0.8608 - color_accuracy: 0.0000e+00 - shape_accuracy: 0.9598 - scale_accuracy: 0.8274 - rotation_accuracy: 0.1962 - x_accuracy: 0.6494 - y_accuracy: 0.6534 - val_loss: 2.8587 - val_color_loss: 0.0000e+00 - val_shape_loss: 0.0141 - val_scale_loss: 0.1280 - val_rotation_loss: 1.8474 - val_x_loss: 0.4440 - val_y_loss: 0.4252 - val_color_accuracy: 0.0000e+00 - val_shape_accuracy: 0.9999 - val_scale_accuracy: 0.9964 - val_rotation_accuracy: 0.3970 - val_x_accuracy: 0.8612 - val_y_accuracy: 0.8568\n",
            "Epoch 160/1000\n",
            "547/547 [==============================] - 12s 22ms/step - loss: 4.6733 - color_loss: 0.0000e+00 - shape_loss: 0.1236 - scale_loss: 0.4536 - rotation_loss: 2.3291 - x_loss: 0.9020 - y_loss: 0.8650 - color_accuracy: 0.0000e+00 - shape_accuracy: 0.9591 - scale_accuracy: 0.8248 - rotation_accuracy: 0.1979 - x_accuracy: 0.6524 - y_accuracy: 0.6504 - val_loss: 2.8615 - val_color_loss: 0.0000e+00 - val_shape_loss: 0.0115 - val_scale_loss: 0.1254 - val_rotation_loss: 1.8516 - val_x_loss: 0.4406 - val_y_loss: 0.4324 - val_color_accuracy: 0.0000e+00 - val_shape_accuracy: 0.9999 - val_scale_accuracy: 0.9935 - val_rotation_accuracy: 0.4144 - val_x_accuracy: 0.8579 - val_y_accuracy: 0.8637\n",
            "Epoch 161/1000\n",
            "547/547 [==============================] - 12s 22ms/step - loss: 4.6537 - color_loss: 0.0000e+00 - shape_loss: 0.1239 - scale_loss: 0.4398 - rotation_loss: 2.3321 - x_loss: 0.9019 - y_loss: 0.8561 - color_accuracy: 0.0000e+00 - shape_accuracy: 0.9595 - scale_accuracy: 0.8314 - rotation_accuracy: 0.2016 - x_accuracy: 0.6517 - y_accuracy: 0.6562 - val_loss: 2.8719 - val_color_loss: 0.0000e+00 - val_shape_loss: 0.0107 - val_scale_loss: 0.1249 - val_rotation_loss: 1.8625 - val_x_loss: 0.4435 - val_y_loss: 0.4304 - val_color_accuracy: 0.0000e+00 - val_shape_accuracy: 0.9999 - val_scale_accuracy: 0.9961 - val_rotation_accuracy: 0.4129 - val_x_accuracy: 0.8561 - val_y_accuracy: 0.8628\n",
            "Epoch 162/1000\n",
            "547/547 [==============================] - 12s 22ms/step - loss: 4.6404 - color_loss: 0.0000e+00 - shape_loss: 0.1227 - scale_loss: 0.4409 - rotation_loss: 2.3232 - x_loss: 0.8940 - y_loss: 0.8596 - color_accuracy: 0.0000e+00 - shape_accuracy: 0.9603 - scale_accuracy: 0.8305 - rotation_accuracy: 0.2028 - x_accuracy: 0.6500 - y_accuracy: 0.6557 - val_loss: 2.9947 - val_color_loss: 0.0000e+00 - val_shape_loss: 0.0147 - val_scale_loss: 0.2360 - val_rotation_loss: 1.8539 - val_x_loss: 0.4530 - val_y_loss: 0.4370 - val_color_accuracy: 0.0000e+00 - val_shape_accuracy: 0.9996 - val_scale_accuracy: 0.9169 - val_rotation_accuracy: 0.4125 - val_x_accuracy: 0.8574 - val_y_accuracy: 0.8617\n",
            "Epoch 163/1000\n",
            "547/547 [==============================] - 12s 22ms/step - loss: 4.6534 - color_loss: 0.0000e+00 - shape_loss: 0.1262 - scale_loss: 0.4552 - rotation_loss: 2.3157 - x_loss: 0.8979 - y_loss: 0.8585 - color_accuracy: 0.0000e+00 - shape_accuracy: 0.9591 - scale_accuracy: 0.8275 - rotation_accuracy: 0.2025 - x_accuracy: 0.6498 - y_accuracy: 0.6576 - val_loss: 2.9233 - val_color_loss: 0.0000e+00 - val_shape_loss: 0.0130 - val_scale_loss: 0.1790 - val_rotation_loss: 1.8455 - val_x_loss: 0.4530 - val_y_loss: 0.4327 - val_color_accuracy: 0.0000e+00 - val_shape_accuracy: 0.9999 - val_scale_accuracy: 0.9629 - val_rotation_accuracy: 0.4135 - val_x_accuracy: 0.8593 - val_y_accuracy: 0.8596\n",
            "Epoch 164/1000\n",
            "547/547 [==============================] - 12s 22ms/step - loss: 4.6287 - color_loss: 0.0000e+00 - shape_loss: 0.1262 - scale_loss: 0.4458 - rotation_loss: 2.3163 - x_loss: 0.8884 - y_loss: 0.8521 - color_accuracy: 0.0000e+00 - shape_accuracy: 0.9583 - scale_accuracy: 0.8317 - rotation_accuracy: 0.2033 - x_accuracy: 0.6546 - y_accuracy: 0.6593 - val_loss: 2.8334 - val_color_loss: 0.0000e+00 - val_shape_loss: 0.0118 - val_scale_loss: 0.1158 - val_rotation_loss: 1.8296 - val_x_loss: 0.4389 - val_y_loss: 0.4374 - val_color_accuracy: 0.0000e+00 - val_shape_accuracy: 0.9999 - val_scale_accuracy: 0.9982 - val_rotation_accuracy: 0.4147 - val_x_accuracy: 0.8626 - val_y_accuracy: 0.8588\n",
            "Epoch 165/1000\n",
            "547/547 [==============================] - 12s 22ms/step - loss: 4.6227 - color_loss: 0.0000e+00 - shape_loss: 0.1196 - scale_loss: 0.4417 - rotation_loss: 2.3167 - x_loss: 0.8870 - y_loss: 0.8576 - color_accuracy: 0.0000e+00 - shape_accuracy: 0.9602 - scale_accuracy: 0.8328 - rotation_accuracy: 0.1995 - x_accuracy: 0.6556 - y_accuracy: 0.6554 - val_loss: 2.8390 - val_color_loss: 0.0000e+00 - val_shape_loss: 0.0133 - val_scale_loss: 0.1229 - val_rotation_loss: 1.8339 - val_x_loss: 0.4438 - val_y_loss: 0.4251 - val_color_accuracy: 0.0000e+00 - val_shape_accuracy: 0.9999 - val_scale_accuracy: 0.9953 - val_rotation_accuracy: 0.4188 - val_x_accuracy: 0.8639 - val_y_accuracy: 0.8648\n",
            "Epoch 166/1000\n",
            "547/547 [==============================] - 12s 22ms/step - loss: 4.6001 - color_loss: 0.0000e+00 - shape_loss: 0.1218 - scale_loss: 0.4346 - rotation_loss: 2.3071 - x_loss: 0.8887 - y_loss: 0.8479 - color_accuracy: 0.0000e+00 - shape_accuracy: 0.9604 - scale_accuracy: 0.8329 - rotation_accuracy: 0.2009 - x_accuracy: 0.6550 - y_accuracy: 0.6621 - val_loss: 2.8381 - val_color_loss: 0.0000e+00 - val_shape_loss: 0.0126 - val_scale_loss: 0.1223 - val_rotation_loss: 1.8386 - val_x_loss: 0.4369 - val_y_loss: 0.4277 - val_color_accuracy: 0.0000e+00 - val_shape_accuracy: 0.9999 - val_scale_accuracy: 0.9972 - val_rotation_accuracy: 0.4231 - val_x_accuracy: 0.8609 - val_y_accuracy: 0.8661\n",
            "Epoch 167/1000\n",
            "547/547 [==============================] - 12s 22ms/step - loss: 4.6146 - color_loss: 0.0000e+00 - shape_loss: 0.1219 - scale_loss: 0.4406 - rotation_loss: 2.3138 - x_loss: 0.8875 - y_loss: 0.8507 - color_accuracy: 0.0000e+00 - shape_accuracy: 0.9601 - scale_accuracy: 0.8333 - rotation_accuracy: 0.2012 - x_accuracy: 0.6569 - y_accuracy: 0.6571 - val_loss: 2.8103 - val_color_loss: 0.0000e+00 - val_shape_loss: 0.0128 - val_scale_loss: 0.1201 - val_rotation_loss: 1.8214 - val_x_loss: 0.4343 - val_y_loss: 0.4217 - val_color_accuracy: 0.0000e+00 - val_shape_accuracy: 0.9999 - val_scale_accuracy: 0.9957 - val_rotation_accuracy: 0.4308 - val_x_accuracy: 0.8629 - val_y_accuracy: 0.8656\n",
            "Epoch 168/1000\n",
            "547/547 [==============================] - 12s 22ms/step - loss: 4.5990 - color_loss: 0.0000e+00 - shape_loss: 0.1197 - scale_loss: 0.4348 - rotation_loss: 2.3086 - x_loss: 0.8910 - y_loss: 0.8449 - color_accuracy: 0.0000e+00 - shape_accuracy: 0.9602 - scale_accuracy: 0.8339 - rotation_accuracy: 0.2015 - x_accuracy: 0.6563 - y_accuracy: 0.6603 - val_loss: 2.7898 - val_color_loss: 0.0000e+00 - val_shape_loss: 0.0132 - val_scale_loss: 0.1182 - val_rotation_loss: 1.8101 - val_x_loss: 0.4323 - val_y_loss: 0.4159 - val_color_accuracy: 0.0000e+00 - val_shape_accuracy: 0.9998 - val_scale_accuracy: 0.9970 - val_rotation_accuracy: 0.4221 - val_x_accuracy: 0.8627 - val_y_accuracy: 0.8571\n",
            "Epoch 169/1000\n",
            "547/547 [==============================] - 12s 22ms/step - loss: 4.6090 - color_loss: 0.0000e+00 - shape_loss: 0.1247 - scale_loss: 0.4419 - rotation_loss: 2.3082 - x_loss: 0.8879 - y_loss: 0.8462 - color_accuracy: 0.0000e+00 - shape_accuracy: 0.9590 - scale_accuracy: 0.8326 - rotation_accuracy: 0.2041 - x_accuracy: 0.6562 - y_accuracy: 0.6619 - val_loss: 2.7941 - val_color_loss: 0.0000e+00 - val_shape_loss: 0.0114 - val_scale_loss: 0.1181 - val_rotation_loss: 1.8133 - val_x_loss: 0.4308 - val_y_loss: 0.4205 - val_color_accuracy: 0.0000e+00 - val_shape_accuracy: 0.9999 - val_scale_accuracy: 0.9949 - val_rotation_accuracy: 0.4250 - val_x_accuracy: 0.8608 - val_y_accuracy: 0.8668\n",
            "Epoch 170/1000\n",
            "547/547 [==============================] - 12s 22ms/step - loss: 4.6052 - color_loss: 0.0000e+00 - shape_loss: 0.1230 - scale_loss: 0.4404 - rotation_loss: 2.3088 - x_loss: 0.8862 - y_loss: 0.8467 - color_accuracy: 0.0000e+00 - shape_accuracy: 0.9615 - scale_accuracy: 0.8325 - rotation_accuracy: 0.2048 - x_accuracy: 0.6574 - y_accuracy: 0.6587 - val_loss: 2.7796 - val_color_loss: 0.0000e+00 - val_shape_loss: 0.0141 - val_scale_loss: 0.1198 - val_rotation_loss: 1.7934 - val_x_loss: 0.4358 - val_y_loss: 0.4165 - val_color_accuracy: 0.0000e+00 - val_shape_accuracy: 0.9998 - val_scale_accuracy: 0.9953 - val_rotation_accuracy: 0.4383 - val_x_accuracy: 0.8574 - val_y_accuracy: 0.8604\n",
            "Epoch 171/1000\n",
            "547/547 [==============================] - 12s 22ms/step - loss: 4.6014 - color_loss: 0.0000e+00 - shape_loss: 0.1245 - scale_loss: 0.4404 - rotation_loss: 2.3035 - x_loss: 0.8855 - y_loss: 0.8476 - color_accuracy: 0.0000e+00 - shape_accuracy: 0.9582 - scale_accuracy: 0.8344 - rotation_accuracy: 0.2025 - x_accuracy: 0.6556 - y_accuracy: 0.6608 - val_loss: 2.7960 - val_color_loss: 0.0000e+00 - val_shape_loss: 0.0124 - val_scale_loss: 0.1136 - val_rotation_loss: 1.8028 - val_x_loss: 0.4464 - val_y_loss: 0.4208 - val_color_accuracy: 0.0000e+00 - val_shape_accuracy: 0.9999 - val_scale_accuracy: 0.9986 - val_rotation_accuracy: 0.4425 - val_x_accuracy: 0.8546 - val_y_accuracy: 0.8648\n",
            "Epoch 172/1000\n",
            "547/547 [==============================] - 12s 22ms/step - loss: 4.5798 - color_loss: 0.0000e+00 - shape_loss: 0.1188 - scale_loss: 0.4335 - rotation_loss: 2.3004 - x_loss: 0.8834 - y_loss: 0.8437 - color_accuracy: 0.0000e+00 - shape_accuracy: 0.9615 - scale_accuracy: 0.8370 - rotation_accuracy: 0.2041 - x_accuracy: 0.6595 - y_accuracy: 0.6608 - val_loss: 2.7719 - val_color_loss: 0.0000e+00 - val_shape_loss: 0.0116 - val_scale_loss: 0.1114 - val_rotation_loss: 1.8011 - val_x_loss: 0.4312 - val_y_loss: 0.4166 - val_color_accuracy: 0.0000e+00 - val_shape_accuracy: 0.9999 - val_scale_accuracy: 0.9979 - val_rotation_accuracy: 0.4393 - val_x_accuracy: 0.8577 - val_y_accuracy: 0.8627\n",
            "Epoch 173/1000\n",
            "547/547 [==============================] - 12s 22ms/step - loss: 4.5594 - color_loss: 0.0000e+00 - shape_loss: 0.1171 - scale_loss: 0.4344 - rotation_loss: 2.2833 - x_loss: 0.8792 - y_loss: 0.8454 - color_accuracy: 0.0000e+00 - shape_accuracy: 0.9623 - scale_accuracy: 0.8326 - rotation_accuracy: 0.2089 - x_accuracy: 0.6578 - y_accuracy: 0.6601 - val_loss: 2.7502 - val_color_loss: 0.0000e+00 - val_shape_loss: 0.0120 - val_scale_loss: 0.1104 - val_rotation_loss: 1.7906 - val_x_loss: 0.4306 - val_y_loss: 0.4064 - val_color_accuracy: 0.0000e+00 - val_shape_accuracy: 0.9998 - val_scale_accuracy: 0.9975 - val_rotation_accuracy: 0.4285 - val_x_accuracy: 0.8615 - val_y_accuracy: 0.8639\n",
            "Epoch 174/1000\n",
            "547/547 [==============================] - 12s 22ms/step - loss: 4.5705 - color_loss: 0.0000e+00 - shape_loss: 0.1200 - scale_loss: 0.4357 - rotation_loss: 2.2938 - x_loss: 0.8880 - y_loss: 0.8331 - color_accuracy: 0.0000e+00 - shape_accuracy: 0.9604 - scale_accuracy: 0.8381 - rotation_accuracy: 0.2051 - x_accuracy: 0.6578 - y_accuracy: 0.6632 - val_loss: 2.7535 - val_color_loss: 0.0000e+00 - val_shape_loss: 0.0108 - val_scale_loss: 0.1060 - val_rotation_loss: 1.7951 - val_x_loss: 0.4289 - val_y_loss: 0.4127 - val_color_accuracy: 0.0000e+00 - val_shape_accuracy: 0.9999 - val_scale_accuracy: 0.9986 - val_rotation_accuracy: 0.4399 - val_x_accuracy: 0.8622 - val_y_accuracy: 0.8645\n",
            "Epoch 175/1000\n",
            "547/547 [==============================] - 12s 22ms/step - loss: 4.5519 - color_loss: 0.0000e+00 - shape_loss: 0.1215 - scale_loss: 0.4225 - rotation_loss: 2.2822 - x_loss: 0.8858 - y_loss: 0.8399 - color_accuracy: 0.0000e+00 - shape_accuracy: 0.9612 - scale_accuracy: 0.8406 - rotation_accuracy: 0.2094 - x_accuracy: 0.6565 - y_accuracy: 0.6655 - val_loss: 2.7745 - val_color_loss: 0.0000e+00 - val_shape_loss: 0.0126 - val_scale_loss: 0.1151 - val_rotation_loss: 1.7919 - val_x_loss: 0.4372 - val_y_loss: 0.4177 - val_color_accuracy: 0.0000e+00 - val_shape_accuracy: 0.9999 - val_scale_accuracy: 0.9968 - val_rotation_accuracy: 0.4306 - val_x_accuracy: 0.8625 - val_y_accuracy: 0.8657\n",
            "Epoch 176/1000\n",
            "547/547 [==============================] - 12s 22ms/step - loss: 4.5638 - color_loss: 0.0000e+00 - shape_loss: 0.1213 - scale_loss: 0.4222 - rotation_loss: 2.2857 - x_loss: 0.8838 - y_loss: 0.8508 - color_accuracy: 0.0000e+00 - shape_accuracy: 0.9603 - scale_accuracy: 0.8382 - rotation_accuracy: 0.2072 - x_accuracy: 0.6582 - y_accuracy: 0.6602 - val_loss: 2.7554 - val_color_loss: 0.0000e+00 - val_shape_loss: 0.0114 - val_scale_loss: 0.1114 - val_rotation_loss: 1.7861 - val_x_loss: 0.4273 - val_y_loss: 0.4191 - val_color_accuracy: 0.0000e+00 - val_shape_accuracy: 0.9999 - val_scale_accuracy: 0.9955 - val_rotation_accuracy: 0.4381 - val_x_accuracy: 0.8590 - val_y_accuracy: 0.8658\n",
            "Epoch 177/1000\n",
            "547/547 [==============================] - 12s 22ms/step - loss: 4.5284 - color_loss: 0.0000e+00 - shape_loss: 0.1187 - scale_loss: 0.4185 - rotation_loss: 2.2813 - x_loss: 0.8672 - y_loss: 0.8427 - color_accuracy: 0.0000e+00 - shape_accuracy: 0.9611 - scale_accuracy: 0.8416 - rotation_accuracy: 0.2097 - x_accuracy: 0.6610 - y_accuracy: 0.6622 - val_loss: 2.7548 - val_color_loss: 0.0000e+00 - val_shape_loss: 0.0110 - val_scale_loss: 0.1190 - val_rotation_loss: 1.7824 - val_x_loss: 0.4254 - val_y_loss: 0.4170 - val_color_accuracy: 0.0000e+00 - val_shape_accuracy: 0.9999 - val_scale_accuracy: 0.9967 - val_rotation_accuracy: 0.4385 - val_x_accuracy: 0.8620 - val_y_accuracy: 0.8685\n",
            "Epoch 178/1000\n",
            "547/547 [==============================] - 12s 22ms/step - loss: 4.5387 - color_loss: 0.0000e+00 - shape_loss: 0.1209 - scale_loss: 0.4268 - rotation_loss: 2.2781 - x_loss: 0.8779 - y_loss: 0.8350 - color_accuracy: 0.0000e+00 - shape_accuracy: 0.9599 - scale_accuracy: 0.8400 - rotation_accuracy: 0.2093 - x_accuracy: 0.6589 - y_accuracy: 0.6641 - val_loss: 2.7408 - val_color_loss: 0.0000e+00 - val_shape_loss: 0.0121 - val_scale_loss: 0.1089 - val_rotation_loss: 1.7833 - val_x_loss: 0.4246 - val_y_loss: 0.4119 - val_color_accuracy: 0.0000e+00 - val_shape_accuracy: 0.9999 - val_scale_accuracy: 0.9975 - val_rotation_accuracy: 0.4289 - val_x_accuracy: 0.8610 - val_y_accuracy: 0.8627\n",
            "Epoch 179/1000\n",
            "547/547 [==============================] - 12s 22ms/step - loss: 4.5321 - color_loss: 0.0000e+00 - shape_loss: 0.1209 - scale_loss: 0.4249 - rotation_loss: 2.2794 - x_loss: 0.8742 - y_loss: 0.8327 - color_accuracy: 0.0000e+00 - shape_accuracy: 0.9602 - scale_accuracy: 0.8410 - rotation_accuracy: 0.2076 - x_accuracy: 0.6598 - y_accuracy: 0.6641 - val_loss: 2.7197 - val_color_loss: 0.0000e+00 - val_shape_loss: 0.0116 - val_scale_loss: 0.1084 - val_rotation_loss: 1.7654 - val_x_loss: 0.4242 - val_y_loss: 0.4101 - val_color_accuracy: 0.0000e+00 - val_shape_accuracy: 0.9999 - val_scale_accuracy: 0.9961 - val_rotation_accuracy: 0.4437 - val_x_accuracy: 0.8611 - val_y_accuracy: 0.8649\n",
            "Epoch 180/1000\n",
            "547/547 [==============================] - 12s 22ms/step - loss: 4.5417 - color_loss: 0.0000e+00 - shape_loss: 0.1208 - scale_loss: 0.4241 - rotation_loss: 2.2747 - x_loss: 0.8815 - y_loss: 0.8405 - color_accuracy: 0.0000e+00 - shape_accuracy: 0.9611 - scale_accuracy: 0.8427 - rotation_accuracy: 0.2054 - x_accuracy: 0.6583 - y_accuracy: 0.6647 - val_loss: 2.6985 - val_color_loss: 0.0000e+00 - val_shape_loss: 0.0123 - val_scale_loss: 0.1028 - val_rotation_loss: 1.7536 - val_x_loss: 0.4236 - val_y_loss: 0.4061 - val_color_accuracy: 0.0000e+00 - val_shape_accuracy: 0.9997 - val_scale_accuracy: 0.9981 - val_rotation_accuracy: 0.4458 - val_x_accuracy: 0.8598 - val_y_accuracy: 0.8604\n",
            "Epoch 181/1000\n",
            "547/547 [==============================] - 12s 22ms/step - loss: 4.5177 - color_loss: 0.0000e+00 - shape_loss: 0.1112 - scale_loss: 0.4209 - rotation_loss: 2.2726 - x_loss: 0.8786 - y_loss: 0.8343 - color_accuracy: 0.0000e+00 - shape_accuracy: 0.9636 - scale_accuracy: 0.8436 - rotation_accuracy: 0.2084 - x_accuracy: 0.6597 - y_accuracy: 0.6674 - val_loss: 2.7237 - val_color_loss: 0.0000e+00 - val_shape_loss: 0.0110 - val_scale_loss: 0.1044 - val_rotation_loss: 1.7657 - val_x_loss: 0.4358 - val_y_loss: 0.4069 - val_color_accuracy: 0.0000e+00 - val_shape_accuracy: 0.9999 - val_scale_accuracy: 0.9982 - val_rotation_accuracy: 0.4328 - val_x_accuracy: 0.8599 - val_y_accuracy: 0.8600\n",
            "Epoch 182/1000\n",
            "547/547 [==============================] - 12s 22ms/step - loss: 4.5197 - color_loss: 0.0000e+00 - shape_loss: 0.1195 - scale_loss: 0.4226 - rotation_loss: 2.2732 - x_loss: 0.8740 - y_loss: 0.8303 - color_accuracy: 0.0000e+00 - shape_accuracy: 0.9611 - scale_accuracy: 0.8433 - rotation_accuracy: 0.2134 - x_accuracy: 0.6615 - y_accuracy: 0.6651 - val_loss: 2.7327 - val_color_loss: 0.0000e+00 - val_shape_loss: 0.0128 - val_scale_loss: 0.1041 - val_rotation_loss: 1.7808 - val_x_loss: 0.4266 - val_y_loss: 0.4084 - val_color_accuracy: 0.0000e+00 - val_shape_accuracy: 0.9999 - val_scale_accuracy: 0.9991 - val_rotation_accuracy: 0.4351 - val_x_accuracy: 0.8636 - val_y_accuracy: 0.8678\n",
            "Epoch 183/1000\n",
            "547/547 [==============================] - 12s 22ms/step - loss: 4.5004 - color_loss: 0.0000e+00 - shape_loss: 0.1189 - scale_loss: 0.4222 - rotation_loss: 2.2639 - x_loss: 0.8646 - y_loss: 0.8308 - color_accuracy: 0.0000e+00 - shape_accuracy: 0.9612 - scale_accuracy: 0.8424 - rotation_accuracy: 0.2105 - x_accuracy: 0.6661 - y_accuracy: 0.6682 - val_loss: 2.7253 - val_color_loss: 0.0000e+00 - val_shape_loss: 0.0117 - val_scale_loss: 0.1031 - val_rotation_loss: 1.7706 - val_x_loss: 0.4311 - val_y_loss: 0.4088 - val_color_accuracy: 0.0000e+00 - val_shape_accuracy: 0.9999 - val_scale_accuracy: 0.9981 - val_rotation_accuracy: 0.4270 - val_x_accuracy: 0.8602 - val_y_accuracy: 0.8657\n",
            "Epoch 184/1000\n",
            "547/547 [==============================] - 12s 22ms/step - loss: 4.5008 - color_loss: 0.0000e+00 - shape_loss: 0.1223 - scale_loss: 0.4152 - rotation_loss: 2.2601 - x_loss: 0.8692 - y_loss: 0.8340 - color_accuracy: 0.0000e+00 - shape_accuracy: 0.9595 - scale_accuracy: 0.8420 - rotation_accuracy: 0.2123 - x_accuracy: 0.6625 - y_accuracy: 0.6675 - val_loss: 2.6853 - val_color_loss: 0.0000e+00 - val_shape_loss: 0.0119 - val_scale_loss: 0.1008 - val_rotation_loss: 1.7523 - val_x_loss: 0.4161 - val_y_loss: 0.4042 - val_color_accuracy: 0.0000e+00 - val_shape_accuracy: 0.9999 - val_scale_accuracy: 0.9986 - val_rotation_accuracy: 0.4437 - val_x_accuracy: 0.8657 - val_y_accuracy: 0.8633\n",
            "Epoch 185/1000\n",
            "547/547 [==============================] - 12s 22ms/step - loss: 4.4747 - color_loss: 0.0000e+00 - shape_loss: 0.1159 - scale_loss: 0.4097 - rotation_loss: 2.2574 - x_loss: 0.8607 - y_loss: 0.8311 - color_accuracy: 0.0000e+00 - shape_accuracy: 0.9624 - scale_accuracy: 0.8491 - rotation_accuracy: 0.2134 - x_accuracy: 0.6695 - y_accuracy: 0.6662 - val_loss: 2.7102 - val_color_loss: 0.0000e+00 - val_shape_loss: 0.0112 - val_scale_loss: 0.1015 - val_rotation_loss: 1.7638 - val_x_loss: 0.4220 - val_y_loss: 0.4116 - val_color_accuracy: 0.0000e+00 - val_shape_accuracy: 0.9999 - val_scale_accuracy: 0.9984 - val_rotation_accuracy: 0.4381 - val_x_accuracy: 0.8616 - val_y_accuracy: 0.8691\n",
            "Epoch 186/1000\n",
            "547/547 [==============================] - 12s 22ms/step - loss: 4.4759 - color_loss: 0.0000e+00 - shape_loss: 0.1187 - scale_loss: 0.4160 - rotation_loss: 2.2562 - x_loss: 0.8561 - y_loss: 0.8288 - color_accuracy: 0.0000e+00 - shape_accuracy: 0.9604 - scale_accuracy: 0.8459 - rotation_accuracy: 0.2124 - x_accuracy: 0.6690 - y_accuracy: 0.6693 - val_loss: 2.6920 - val_color_loss: 0.0000e+00 - val_shape_loss: 0.0111 - val_scale_loss: 0.1115 - val_rotation_loss: 1.7449 - val_x_loss: 0.4200 - val_y_loss: 0.4047 - val_color_accuracy: 0.0000e+00 - val_shape_accuracy: 0.9999 - val_scale_accuracy: 0.9935 - val_rotation_accuracy: 0.4381 - val_x_accuracy: 0.8607 - val_y_accuracy: 0.8648\n",
            "Epoch 187/1000\n",
            "547/547 [==============================] - 12s 22ms/step - loss: 4.4778 - color_loss: 0.0000e+00 - shape_loss: 0.1157 - scale_loss: 0.4169 - rotation_loss: 2.2558 - x_loss: 0.8605 - y_loss: 0.8288 - color_accuracy: 0.0000e+00 - shape_accuracy: 0.9617 - scale_accuracy: 0.8458 - rotation_accuracy: 0.2148 - x_accuracy: 0.6708 - y_accuracy: 0.6694 - val_loss: 2.7107 - val_color_loss: 0.0000e+00 - val_shape_loss: 0.0122 - val_scale_loss: 0.1107 - val_rotation_loss: 1.7536 - val_x_loss: 0.4266 - val_y_loss: 0.4075 - val_color_accuracy: 0.0000e+00 - val_shape_accuracy: 0.9999 - val_scale_accuracy: 0.9946 - val_rotation_accuracy: 0.4384 - val_x_accuracy: 0.8619 - val_y_accuracy: 0.8658\n",
            "Epoch 188/1000\n",
            "547/547 [==============================] - 12s 22ms/step - loss: 4.4825 - color_loss: 0.0000e+00 - shape_loss: 0.1208 - scale_loss: 0.4137 - rotation_loss: 2.2536 - x_loss: 0.8677 - y_loss: 0.8268 - color_accuracy: 0.0000e+00 - shape_accuracy: 0.9599 - scale_accuracy: 0.8478 - rotation_accuracy: 0.2104 - x_accuracy: 0.6672 - y_accuracy: 0.6686 - val_loss: 2.6767 - val_color_loss: 0.0000e+00 - val_shape_loss: 0.0111 - val_scale_loss: 0.1023 - val_rotation_loss: 1.7399 - val_x_loss: 0.4213 - val_y_loss: 0.4020 - val_color_accuracy: 0.0000e+00 - val_shape_accuracy: 0.9999 - val_scale_accuracy: 0.9981 - val_rotation_accuracy: 0.4614 - val_x_accuracy: 0.8640 - val_y_accuracy: 0.8665\n",
            "Epoch 189/1000\n",
            "547/547 [==============================] - 12s 22ms/step - loss: 4.4614 - color_loss: 0.0000e+00 - shape_loss: 0.1106 - scale_loss: 0.4144 - rotation_loss: 2.2460 - x_loss: 0.8649 - y_loss: 0.8255 - color_accuracy: 0.0000e+00 - shape_accuracy: 0.9626 - scale_accuracy: 0.8467 - rotation_accuracy: 0.2140 - x_accuracy: 0.6671 - y_accuracy: 0.6700 - val_loss: 2.6666 - val_color_loss: 0.0000e+00 - val_shape_loss: 0.0114 - val_scale_loss: 0.1081 - val_rotation_loss: 1.7312 - val_x_loss: 0.4167 - val_y_loss: 0.3992 - val_color_accuracy: 0.0000e+00 - val_shape_accuracy: 0.9998 - val_scale_accuracy: 0.9959 - val_rotation_accuracy: 0.4532 - val_x_accuracy: 0.8642 - val_y_accuracy: 0.8661\n",
            "Epoch 190/1000\n",
            "547/547 [==============================] - 12s 22ms/step - loss: 4.4644 - color_loss: 0.0000e+00 - shape_loss: 0.1192 - scale_loss: 0.4122 - rotation_loss: 2.2439 - x_loss: 0.8615 - y_loss: 0.8277 - color_accuracy: 0.0000e+00 - shape_accuracy: 0.9595 - scale_accuracy: 0.8456 - rotation_accuracy: 0.2191 - x_accuracy: 0.6680 - y_accuracy: 0.6666 - val_loss: 2.6648 - val_color_loss: 0.0000e+00 - val_shape_loss: 0.0116 - val_scale_loss: 0.0961 - val_rotation_loss: 1.7414 - val_x_loss: 0.4181 - val_y_loss: 0.3977 - val_color_accuracy: 0.0000e+00 - val_shape_accuracy: 0.9999 - val_scale_accuracy: 0.9991 - val_rotation_accuracy: 0.4611 - val_x_accuracy: 0.8648 - val_y_accuracy: 0.8679\n",
            "Epoch 191/1000\n",
            "547/547 [==============================] - 12s 22ms/step - loss: 4.4512 - color_loss: 0.0000e+00 - shape_loss: 0.1201 - scale_loss: 0.4047 - rotation_loss: 2.2506 - x_loss: 0.8590 - y_loss: 0.8168 - color_accuracy: 0.0000e+00 - shape_accuracy: 0.9614 - scale_accuracy: 0.8482 - rotation_accuracy: 0.2145 - x_accuracy: 0.6668 - y_accuracy: 0.6725 - val_loss: 2.6549 - val_color_loss: 0.0000e+00 - val_shape_loss: 0.0117 - val_scale_loss: 0.0972 - val_rotation_loss: 1.7314 - val_x_loss: 0.4152 - val_y_loss: 0.3994 - val_color_accuracy: 0.0000e+00 - val_shape_accuracy: 0.9999 - val_scale_accuracy: 0.9995 - val_rotation_accuracy: 0.4455 - val_x_accuracy: 0.8633 - val_y_accuracy: 0.8658\n",
            "Epoch 192/1000\n",
            "547/547 [==============================] - 12s 22ms/step - loss: 4.4354 - color_loss: 0.0000e+00 - shape_loss: 0.1144 - scale_loss: 0.4139 - rotation_loss: 2.2341 - x_loss: 0.8565 - y_loss: 0.8165 - color_accuracy: 0.0000e+00 - shape_accuracy: 0.9619 - scale_accuracy: 0.8445 - rotation_accuracy: 0.2183 - x_accuracy: 0.6692 - y_accuracy: 0.6750 - val_loss: 2.6482 - val_color_loss: 0.0000e+00 - val_shape_loss: 0.0126 - val_scale_loss: 0.0962 - val_rotation_loss: 1.7297 - val_x_loss: 0.4123 - val_y_loss: 0.3974 - val_color_accuracy: 0.0000e+00 - val_shape_accuracy: 0.9999 - val_scale_accuracy: 0.9985 - val_rotation_accuracy: 0.4469 - val_x_accuracy: 0.8607 - val_y_accuracy: 0.8715\n",
            "Epoch 193/1000\n",
            "547/547 [==============================] - 12s 22ms/step - loss: 4.4647 - color_loss: 0.0000e+00 - shape_loss: 0.1182 - scale_loss: 0.4114 - rotation_loss: 2.2375 - x_loss: 0.8692 - y_loss: 0.8285 - color_accuracy: 0.0000e+00 - shape_accuracy: 0.9600 - scale_accuracy: 0.8455 - rotation_accuracy: 0.2192 - x_accuracy: 0.6670 - y_accuracy: 0.6700 - val_loss: 2.6287 - val_color_loss: 0.0000e+00 - val_shape_loss: 0.0124 - val_scale_loss: 0.0913 - val_rotation_loss: 1.7180 - val_x_loss: 0.4105 - val_y_loss: 0.3965 - val_color_accuracy: 0.0000e+00 - val_shape_accuracy: 0.9999 - val_scale_accuracy: 0.9990 - val_rotation_accuracy: 0.4529 - val_x_accuracy: 0.8650 - val_y_accuracy: 0.8626\n",
            "Epoch 194/1000\n",
            "547/547 [==============================] - 12s 22ms/step - loss: 4.4337 - color_loss: 0.0000e+00 - shape_loss: 0.1165 - scale_loss: 0.4010 - rotation_loss: 2.2308 - x_loss: 0.8728 - y_loss: 0.8126 - color_accuracy: 0.0000e+00 - shape_accuracy: 0.9616 - scale_accuracy: 0.8529 - rotation_accuracy: 0.2164 - x_accuracy: 0.6656 - y_accuracy: 0.6751 - val_loss: 2.6585 - val_color_loss: 0.0000e+00 - val_shape_loss: 0.0106 - val_scale_loss: 0.0948 - val_rotation_loss: 1.7283 - val_x_loss: 0.4243 - val_y_loss: 0.4005 - val_color_accuracy: 0.0000e+00 - val_shape_accuracy: 0.9999 - val_scale_accuracy: 0.9987 - val_rotation_accuracy: 0.4452 - val_x_accuracy: 0.8604 - val_y_accuracy: 0.8681\n",
            "Epoch 195/1000\n",
            "547/547 [==============================] - 12s 22ms/step - loss: 4.4382 - color_loss: 0.0000e+00 - shape_loss: 0.1184 - scale_loss: 0.4058 - rotation_loss: 2.2317 - x_loss: 0.8634 - y_loss: 0.8190 - color_accuracy: 0.0000e+00 - shape_accuracy: 0.9620 - scale_accuracy: 0.8506 - rotation_accuracy: 0.2180 - x_accuracy: 0.6696 - y_accuracy: 0.6726 - val_loss: 2.6449 - val_color_loss: 0.0000e+00 - val_shape_loss: 0.0099 - val_scale_loss: 0.0908 - val_rotation_loss: 1.7209 - val_x_loss: 0.4169 - val_y_loss: 0.4065 - val_color_accuracy: 0.0000e+00 - val_shape_accuracy: 0.9999 - val_scale_accuracy: 0.9989 - val_rotation_accuracy: 0.4511 - val_x_accuracy: 0.8623 - val_y_accuracy: 0.8657\n",
            "Epoch 196/1000\n",
            "547/547 [==============================] - 12s 22ms/step - loss: 4.4300 - color_loss: 0.0000e+00 - shape_loss: 0.1160 - scale_loss: 0.3991 - rotation_loss: 2.2223 - x_loss: 0.8727 - y_loss: 0.8199 - color_accuracy: 0.0000e+00 - shape_accuracy: 0.9615 - scale_accuracy: 0.8517 - rotation_accuracy: 0.2183 - x_accuracy: 0.6658 - y_accuracy: 0.6742 - val_loss: 2.6268 - val_color_loss: 0.0000e+00 - val_shape_loss: 0.0118 - val_scale_loss: 0.0905 - val_rotation_loss: 1.7108 - val_x_loss: 0.4179 - val_y_loss: 0.3957 - val_color_accuracy: 0.0000e+00 - val_shape_accuracy: 0.9999 - val_scale_accuracy: 0.9991 - val_rotation_accuracy: 0.4622 - val_x_accuracy: 0.8600 - val_y_accuracy: 0.8631\n",
            "Epoch 197/1000\n",
            "547/547 [==============================] - 12s 22ms/step - loss: 4.4368 - color_loss: 0.0000e+00 - shape_loss: 0.1159 - scale_loss: 0.4055 - rotation_loss: 2.2222 - x_loss: 0.8709 - y_loss: 0.8223 - color_accuracy: 0.0000e+00 - shape_accuracy: 0.9625 - scale_accuracy: 0.8512 - rotation_accuracy: 0.2160 - x_accuracy: 0.6705 - y_accuracy: 0.6692 - val_loss: 2.6092 - val_color_loss: 0.0000e+00 - val_shape_loss: 0.0111 - val_scale_loss: 0.0907 - val_rotation_loss: 1.7011 - val_x_loss: 0.4181 - val_y_loss: 0.3882 - val_color_accuracy: 0.0000e+00 - val_shape_accuracy: 0.9997 - val_scale_accuracy: 0.9979 - val_rotation_accuracy: 0.4564 - val_x_accuracy: 0.8601 - val_y_accuracy: 0.8667\n",
            "Epoch 198/1000\n",
            "547/547 [==============================] - 12s 22ms/step - loss: 4.4308 - color_loss: 0.0000e+00 - shape_loss: 0.1122 - scale_loss: 0.4038 - rotation_loss: 2.2235 - x_loss: 0.8680 - y_loss: 0.8232 - color_accuracy: 0.0000e+00 - shape_accuracy: 0.9633 - scale_accuracy: 0.8500 - rotation_accuracy: 0.2200 - x_accuracy: 0.6703 - y_accuracy: 0.6744 - val_loss: 2.6590 - val_color_loss: 0.0000e+00 - val_shape_loss: 0.0110 - val_scale_loss: 0.0959 - val_rotation_loss: 1.7236 - val_x_loss: 0.4214 - val_y_loss: 0.4070 - val_color_accuracy: 0.0000e+00 - val_shape_accuracy: 0.9998 - val_scale_accuracy: 0.9990 - val_rotation_accuracy: 0.4635 - val_x_accuracy: 0.8639 - val_y_accuracy: 0.8713\n",
            "Epoch 199/1000\n",
            "547/547 [==============================] - 12s 22ms/step - loss: 4.4189 - color_loss: 0.0000e+00 - shape_loss: 0.1128 - scale_loss: 0.4019 - rotation_loss: 2.2333 - x_loss: 0.8486 - y_loss: 0.8224 - color_accuracy: 0.0000e+00 - shape_accuracy: 0.9629 - scale_accuracy: 0.8508 - rotation_accuracy: 0.2150 - x_accuracy: 0.6738 - y_accuracy: 0.6716 - val_loss: 2.6279 - val_color_loss: 0.0000e+00 - val_shape_loss: 0.0116 - val_scale_loss: 0.0993 - val_rotation_loss: 1.7060 - val_x_loss: 0.4161 - val_y_loss: 0.3949 - val_color_accuracy: 0.0000e+00 - val_shape_accuracy: 0.9997 - val_scale_accuracy: 0.9952 - val_rotation_accuracy: 0.4679 - val_x_accuracy: 0.8598 - val_y_accuracy: 0.8703\n",
            "Epoch 200/1000\n",
            "547/547 [==============================] - 12s 22ms/step - loss: 4.4069 - color_loss: 0.0000e+00 - shape_loss: 0.1128 - scale_loss: 0.4007 - rotation_loss: 2.2221 - x_loss: 0.8601 - y_loss: 0.8112 - color_accuracy: 0.0000e+00 - shape_accuracy: 0.9625 - scale_accuracy: 0.8538 - rotation_accuracy: 0.2232 - x_accuracy: 0.6688 - y_accuracy: 0.6749 - val_loss: 2.6194 - val_color_loss: 0.0000e+00 - val_shape_loss: 0.0103 - val_scale_loss: 0.0954 - val_rotation_loss: 1.7099 - val_x_loss: 0.4072 - val_y_loss: 0.3967 - val_color_accuracy: 0.0000e+00 - val_shape_accuracy: 0.9997 - val_scale_accuracy: 0.9990 - val_rotation_accuracy: 0.4629 - val_x_accuracy: 0.8648 - val_y_accuracy: 0.8691\n",
            "Epoch 201/1000\n",
            "547/547 [==============================] - 12s 22ms/step - loss: 4.4155 - color_loss: 0.0000e+00 - shape_loss: 0.1152 - scale_loss: 0.3948 - rotation_loss: 2.2196 - x_loss: 0.8649 - y_loss: 0.8211 - color_accuracy: 0.0000e+00 - shape_accuracy: 0.9617 - scale_accuracy: 0.8532 - rotation_accuracy: 0.2207 - x_accuracy: 0.6681 - y_accuracy: 0.6736 - val_loss: 2.6165 - val_color_loss: 0.0000e+00 - val_shape_loss: 0.0101 - val_scale_loss: 0.0909 - val_rotation_loss: 1.7055 - val_x_loss: 0.4142 - val_y_loss: 0.3958 - val_color_accuracy: 0.0000e+00 - val_shape_accuracy: 0.9999 - val_scale_accuracy: 0.9985 - val_rotation_accuracy: 0.4703 - val_x_accuracy: 0.8645 - val_y_accuracy: 0.8691\n",
            "Epoch 202/1000\n",
            "547/547 [==============================] - 12s 22ms/step - loss: 4.3827 - color_loss: 0.0000e+00 - shape_loss: 0.1127 - scale_loss: 0.3933 - rotation_loss: 2.2152 - x_loss: 0.8483 - y_loss: 0.8131 - color_accuracy: 0.0000e+00 - shape_accuracy: 0.9619 - scale_accuracy: 0.8562 - rotation_accuracy: 0.2210 - x_accuracy: 0.6723 - y_accuracy: 0.6759 - val_loss: 2.6328 - val_color_loss: 0.0000e+00 - val_shape_loss: 0.0103 - val_scale_loss: 0.0922 - val_rotation_loss: 1.7088 - val_x_loss: 0.4209 - val_y_loss: 0.4005 - val_color_accuracy: 0.0000e+00 - val_shape_accuracy: 0.9999 - val_scale_accuracy: 0.9979 - val_rotation_accuracy: 0.4607 - val_x_accuracy: 0.8664 - val_y_accuracy: 0.8640\n",
            "Epoch 203/1000\n",
            "547/547 [==============================] - 12s 22ms/step - loss: 4.3594 - color_loss: 0.0000e+00 - shape_loss: 0.1179 - scale_loss: 0.3898 - rotation_loss: 2.2046 - x_loss: 0.8455 - y_loss: 0.8016 - color_accuracy: 0.0000e+00 - shape_accuracy: 0.9618 - scale_accuracy: 0.8560 - rotation_accuracy: 0.2249 - x_accuracy: 0.6793 - y_accuracy: 0.6802 - val_loss: 2.5551 - val_color_loss: 0.0000e+00 - val_shape_loss: 0.0109 - val_scale_loss: 0.0824 - val_rotation_loss: 1.6771 - val_x_loss: 0.4033 - val_y_loss: 0.3813 - val_color_accuracy: 0.0000e+00 - val_shape_accuracy: 0.9999 - val_scale_accuracy: 0.9991 - val_rotation_accuracy: 0.4999 - val_x_accuracy: 0.8643 - val_y_accuracy: 0.8711\n",
            "Epoch 204/1000\n",
            "547/547 [==============================] - 12s 22ms/step - loss: 4.3324 - color_loss: 0.0000e+00 - shape_loss: 0.1105 - scale_loss: 0.3860 - rotation_loss: 2.2005 - x_loss: 0.8409 - y_loss: 0.7945 - color_accuracy: 0.0000e+00 - shape_accuracy: 0.9649 - scale_accuracy: 0.8576 - rotation_accuracy: 0.2273 - x_accuracy: 0.6803 - y_accuracy: 0.6809 - val_loss: 2.5522 - val_color_loss: 0.0000e+00 - val_shape_loss: 0.0101 - val_scale_loss: 0.0817 - val_rotation_loss: 1.6792 - val_x_loss: 0.4008 - val_y_loss: 0.3804 - val_color_accuracy: 0.0000e+00 - val_shape_accuracy: 0.9999 - val_scale_accuracy: 0.9993 - val_rotation_accuracy: 0.4938 - val_x_accuracy: 0.8664 - val_y_accuracy: 0.8700\n",
            "Epoch 205/1000\n",
            "547/547 [==============================] - 12s 22ms/step - loss: 4.3193 - color_loss: 0.0000e+00 - shape_loss: 0.1120 - scale_loss: 0.3885 - rotation_loss: 2.1895 - x_loss: 0.8304 - y_loss: 0.7989 - color_accuracy: 0.0000e+00 - shape_accuracy: 0.9626 - scale_accuracy: 0.8577 - rotation_accuracy: 0.2294 - x_accuracy: 0.6820 - y_accuracy: 0.6832 - val_loss: 2.5454 - val_color_loss: 0.0000e+00 - val_shape_loss: 0.0094 - val_scale_loss: 0.0828 - val_rotation_loss: 1.6767 - val_x_loss: 0.3991 - val_y_loss: 0.3775 - val_color_accuracy: 0.0000e+00 - val_shape_accuracy: 0.9999 - val_scale_accuracy: 0.9993 - val_rotation_accuracy: 0.5021 - val_x_accuracy: 0.8672 - val_y_accuracy: 0.8729\n",
            "Epoch 206/1000\n",
            "547/547 [==============================] - 12s 22ms/step - loss: 4.3141 - color_loss: 0.0000e+00 - shape_loss: 0.1066 - scale_loss: 0.3832 - rotation_loss: 2.1932 - x_loss: 0.8393 - y_loss: 0.7917 - color_accuracy: 0.0000e+00 - shape_accuracy: 0.9643 - scale_accuracy: 0.8585 - rotation_accuracy: 0.2270 - x_accuracy: 0.6785 - y_accuracy: 0.6866 - val_loss: 2.5538 - val_color_loss: 0.0000e+00 - val_shape_loss: 0.0106 - val_scale_loss: 0.0833 - val_rotation_loss: 1.6863 - val_x_loss: 0.3957 - val_y_loss: 0.3779 - val_color_accuracy: 0.0000e+00 - val_shape_accuracy: 0.9999 - val_scale_accuracy: 0.9994 - val_rotation_accuracy: 0.4929 - val_x_accuracy: 0.8673 - val_y_accuracy: 0.8740\n",
            "Epoch 207/1000\n",
            "547/547 [==============================] - 12s 22ms/step - loss: 4.3045 - color_loss: 0.0000e+00 - shape_loss: 0.1048 - scale_loss: 0.3825 - rotation_loss: 2.1853 - x_loss: 0.8379 - y_loss: 0.7940 - color_accuracy: 0.0000e+00 - shape_accuracy: 0.9659 - scale_accuracy: 0.8624 - rotation_accuracy: 0.2303 - x_accuracy: 0.6791 - y_accuracy: 0.6844 - val_loss: 2.5373 - val_color_loss: 0.0000e+00 - val_shape_loss: 0.0102 - val_scale_loss: 0.0818 - val_rotation_loss: 1.6740 - val_x_loss: 0.3974 - val_y_loss: 0.3738 - val_color_accuracy: 0.0000e+00 - val_shape_accuracy: 0.9999 - val_scale_accuracy: 0.9992 - val_rotation_accuracy: 0.4991 - val_x_accuracy: 0.8673 - val_y_accuracy: 0.8745\n",
            "Epoch 208/1000\n",
            "547/547 [==============================] - 12s 22ms/step - loss: 4.2990 - color_loss: 0.0000e+00 - shape_loss: 0.1083 - scale_loss: 0.3696 - rotation_loss: 2.1947 - x_loss: 0.8375 - y_loss: 0.7889 - color_accuracy: 0.0000e+00 - shape_accuracy: 0.9638 - scale_accuracy: 0.8629 - rotation_accuracy: 0.2306 - x_accuracy: 0.6784 - y_accuracy: 0.6853 - val_loss: 2.5583 - val_color_loss: 0.0000e+00 - val_shape_loss: 0.0098 - val_scale_loss: 0.0868 - val_rotation_loss: 1.6790 - val_x_loss: 0.4028 - val_y_loss: 0.3799 - val_color_accuracy: 0.0000e+00 - val_shape_accuracy: 0.9999 - val_scale_accuracy: 0.9991 - val_rotation_accuracy: 0.5043 - val_x_accuracy: 0.8667 - val_y_accuracy: 0.8738\n",
            "Epoch 209/1000\n",
            "547/547 [==============================] - 12s 22ms/step - loss: 4.2866 - color_loss: 0.0000e+00 - shape_loss: 0.1036 - scale_loss: 0.3876 - rotation_loss: 2.1751 - x_loss: 0.8313 - y_loss: 0.7890 - color_accuracy: 0.0000e+00 - shape_accuracy: 0.9670 - scale_accuracy: 0.8556 - rotation_accuracy: 0.2342 - x_accuracy: 0.6808 - y_accuracy: 0.6848 - val_loss: 2.5360 - val_color_loss: 0.0000e+00 - val_shape_loss: 0.0101 - val_scale_loss: 0.0835 - val_rotation_loss: 1.6682 - val_x_loss: 0.3968 - val_y_loss: 0.3774 - val_color_accuracy: 0.0000e+00 - val_shape_accuracy: 0.9999 - val_scale_accuracy: 0.9986 - val_rotation_accuracy: 0.4991 - val_x_accuracy: 0.8691 - val_y_accuracy: 0.8761\n",
            "Epoch 210/1000\n",
            "547/547 [==============================] - 12s 22ms/step - loss: 4.2944 - color_loss: 0.0000e+00 - shape_loss: 0.1114 - scale_loss: 0.3756 - rotation_loss: 2.1833 - x_loss: 0.8310 - y_loss: 0.7930 - color_accuracy: 0.0000e+00 - shape_accuracy: 0.9628 - scale_accuracy: 0.8642 - rotation_accuracy: 0.2364 - x_accuracy: 0.6792 - y_accuracy: 0.6857 - val_loss: 2.5460 - val_color_loss: 0.0000e+00 - val_shape_loss: 0.0110 - val_scale_loss: 0.0828 - val_rotation_loss: 1.6809 - val_x_loss: 0.3945 - val_y_loss: 0.3768 - val_color_accuracy: 0.0000e+00 - val_shape_accuracy: 0.9999 - val_scale_accuracy: 0.9992 - val_rotation_accuracy: 0.4955 - val_x_accuracy: 0.8684 - val_y_accuracy: 0.8739\n",
            "Epoch 211/1000\n",
            "547/547 [==============================] - 12s 22ms/step - loss: 4.2882 - color_loss: 0.0000e+00 - shape_loss: 0.1099 - scale_loss: 0.3803 - rotation_loss: 2.1810 - x_loss: 0.8227 - y_loss: 0.7943 - color_accuracy: 0.0000e+00 - shape_accuracy: 0.9629 - scale_accuracy: 0.8633 - rotation_accuracy: 0.2325 - x_accuracy: 0.6844 - y_accuracy: 0.6827 - val_loss: 2.5287 - val_color_loss: 0.0000e+00 - val_shape_loss: 0.0104 - val_scale_loss: 0.0816 - val_rotation_loss: 1.6681 - val_x_loss: 0.3936 - val_y_loss: 0.3750 - val_color_accuracy: 0.0000e+00 - val_shape_accuracy: 0.9999 - val_scale_accuracy: 0.9995 - val_rotation_accuracy: 0.5044 - val_x_accuracy: 0.8674 - val_y_accuracy: 0.8741\n",
            "Epoch 212/1000\n",
            "547/547 [==============================] - 12s 22ms/step - loss: 4.2726 - color_loss: 0.0000e+00 - shape_loss: 0.1075 - scale_loss: 0.3797 - rotation_loss: 2.1767 - x_loss: 0.8238 - y_loss: 0.7849 - color_accuracy: 0.0000e+00 - shape_accuracy: 0.9645 - scale_accuracy: 0.8616 - rotation_accuracy: 0.2339 - x_accuracy: 0.6859 - y_accuracy: 0.6899 - val_loss: 2.5524 - val_color_loss: 0.0000e+00 - val_shape_loss: 0.0107 - val_scale_loss: 0.0886 - val_rotation_loss: 1.6777 - val_x_loss: 0.3971 - val_y_loss: 0.3783 - val_color_accuracy: 0.0000e+00 - val_shape_accuracy: 0.9999 - val_scale_accuracy: 0.9987 - val_rotation_accuracy: 0.5021 - val_x_accuracy: 0.8684 - val_y_accuracy: 0.8775\n",
            "Epoch 213/1000\n",
            "547/547 [==============================] - 12s 22ms/step - loss: 4.2886 - color_loss: 0.0000e+00 - shape_loss: 0.1085 - scale_loss: 0.3773 - rotation_loss: 2.1833 - x_loss: 0.8338 - y_loss: 0.7858 - color_accuracy: 0.0000e+00 - shape_accuracy: 0.9651 - scale_accuracy: 0.8637 - rotation_accuracy: 0.2321 - x_accuracy: 0.6860 - y_accuracy: 0.6906 - val_loss: 2.5234 - val_color_loss: 0.0000e+00 - val_shape_loss: 0.0092 - val_scale_loss: 0.0804 - val_rotation_loss: 1.6678 - val_x_loss: 0.3914 - val_y_loss: 0.3745 - val_color_accuracy: 0.0000e+00 - val_shape_accuracy: 0.9999 - val_scale_accuracy: 0.9993 - val_rotation_accuracy: 0.5011 - val_x_accuracy: 0.8673 - val_y_accuracy: 0.8754\n",
            "Epoch 214/1000\n",
            "547/547 [==============================] - 12s 22ms/step - loss: 4.2900 - color_loss: 0.0000e+00 - shape_loss: 0.1101 - scale_loss: 0.3740 - rotation_loss: 2.1884 - x_loss: 0.8308 - y_loss: 0.7868 - color_accuracy: 0.0000e+00 - shape_accuracy: 0.9630 - scale_accuracy: 0.8646 - rotation_accuracy: 0.2323 - x_accuracy: 0.6804 - y_accuracy: 0.6875 - val_loss: 2.5225 - val_color_loss: 0.0000e+00 - val_shape_loss: 0.0096 - val_scale_loss: 0.0804 - val_rotation_loss: 1.6631 - val_x_loss: 0.3912 - val_y_loss: 0.3782 - val_color_accuracy: 0.0000e+00 - val_shape_accuracy: 0.9999 - val_scale_accuracy: 0.9991 - val_rotation_accuracy: 0.5077 - val_x_accuracy: 0.8684 - val_y_accuracy: 0.8724\n",
            "Epoch 215/1000\n",
            "547/547 [==============================] - 12s 22ms/step - loss: 4.2811 - color_loss: 0.0000e+00 - shape_loss: 0.1099 - scale_loss: 0.3748 - rotation_loss: 2.1838 - x_loss: 0.8312 - y_loss: 0.7814 - color_accuracy: 0.0000e+00 - shape_accuracy: 0.9647 - scale_accuracy: 0.8621 - rotation_accuracy: 0.2330 - x_accuracy: 0.6823 - y_accuracy: 0.6874 - val_loss: 2.5263 - val_color_loss: 0.0000e+00 - val_shape_loss: 0.0100 - val_scale_loss: 0.0818 - val_rotation_loss: 1.6676 - val_x_loss: 0.3926 - val_y_loss: 0.3744 - val_color_accuracy: 0.0000e+00 - val_shape_accuracy: 0.9999 - val_scale_accuracy: 0.9990 - val_rotation_accuracy: 0.4984 - val_x_accuracy: 0.8689 - val_y_accuracy: 0.8768\n",
            "Epoch 216/1000\n",
            "547/547 [==============================] - 12s 22ms/step - loss: 4.2789 - color_loss: 0.0000e+00 - shape_loss: 0.1115 - scale_loss: 0.3776 - rotation_loss: 2.1793 - x_loss: 0.8294 - y_loss: 0.7811 - color_accuracy: 0.0000e+00 - shape_accuracy: 0.9640 - scale_accuracy: 0.8632 - rotation_accuracy: 0.2344 - x_accuracy: 0.6850 - y_accuracy: 0.6866 - val_loss: 2.5361 - val_color_loss: 0.0000e+00 - val_shape_loss: 0.0097 - val_scale_loss: 0.0860 - val_rotation_loss: 1.6681 - val_x_loss: 0.3949 - val_y_loss: 0.3775 - val_color_accuracy: 0.0000e+00 - val_shape_accuracy: 0.9999 - val_scale_accuracy: 0.9986 - val_rotation_accuracy: 0.5031 - val_x_accuracy: 0.8684 - val_y_accuracy: 0.8750\n",
            "Epoch 217/1000\n",
            "547/547 [==============================] - 12s 22ms/step - loss: 4.3017 - color_loss: 0.0000e+00 - shape_loss: 0.1111 - scale_loss: 0.3845 - rotation_loss: 2.1900 - x_loss: 0.8304 - y_loss: 0.7856 - color_accuracy: 0.0000e+00 - shape_accuracy: 0.9636 - scale_accuracy: 0.8576 - rotation_accuracy: 0.2317 - x_accuracy: 0.6848 - y_accuracy: 0.6861 - val_loss: 2.5133 - val_color_loss: 0.0000e+00 - val_shape_loss: 0.0096 - val_scale_loss: 0.0843 - val_rotation_loss: 1.6609 - val_x_loss: 0.3877 - val_y_loss: 0.3709 - val_color_accuracy: 0.0000e+00 - val_shape_accuracy: 0.9999 - val_scale_accuracy: 0.9984 - val_rotation_accuracy: 0.5039 - val_x_accuracy: 0.8679 - val_y_accuracy: 0.8755\n",
            "Epoch 218/1000\n",
            "547/547 [==============================] - 12s 22ms/step - loss: 4.2865 - color_loss: 0.0000e+00 - shape_loss: 0.1090 - scale_loss: 0.3746 - rotation_loss: 2.1782 - x_loss: 0.8341 - y_loss: 0.7907 - color_accuracy: 0.0000e+00 - shape_accuracy: 0.9640 - scale_accuracy: 0.8650 - rotation_accuracy: 0.2355 - x_accuracy: 0.6816 - y_accuracy: 0.6832 - val_loss: 2.5329 - val_color_loss: 0.0000e+00 - val_shape_loss: 0.0087 - val_scale_loss: 0.0829 - val_rotation_loss: 1.6735 - val_x_loss: 0.3942 - val_y_loss: 0.3736 - val_color_accuracy: 0.0000e+00 - val_shape_accuracy: 0.9999 - val_scale_accuracy: 0.9992 - val_rotation_accuracy: 0.5051 - val_x_accuracy: 0.8688 - val_y_accuracy: 0.8755\n",
            "Epoch 219/1000\n",
            "547/547 [==============================] - 12s 22ms/step - loss: 4.2530 - color_loss: 0.0000e+00 - shape_loss: 0.1076 - scale_loss: 0.3832 - rotation_loss: 2.1750 - x_loss: 0.8160 - y_loss: 0.7713 - color_accuracy: 0.0000e+00 - shape_accuracy: 0.9649 - scale_accuracy: 0.8586 - rotation_accuracy: 0.2340 - x_accuracy: 0.6843 - y_accuracy: 0.6908 - val_loss: 2.5195 - val_color_loss: 0.0000e+00 - val_shape_loss: 0.0098 - val_scale_loss: 0.0798 - val_rotation_loss: 1.6654 - val_x_loss: 0.3925 - val_y_loss: 0.3721 - val_color_accuracy: 0.0000e+00 - val_shape_accuracy: 0.9999 - val_scale_accuracy: 0.9997 - val_rotation_accuracy: 0.5103 - val_x_accuracy: 0.8681 - val_y_accuracy: 0.8759\n",
            "Epoch 220/1000\n",
            "547/547 [==============================] - 12s 22ms/step - loss: 4.2539 - color_loss: 0.0000e+00 - shape_loss: 0.1076 - scale_loss: 0.3777 - rotation_loss: 2.1638 - x_loss: 0.8248 - y_loss: 0.7801 - color_accuracy: 0.0000e+00 - shape_accuracy: 0.9646 - scale_accuracy: 0.8596 - rotation_accuracy: 0.2381 - x_accuracy: 0.6846 - y_accuracy: 0.6908 - val_loss: 2.5306 - val_color_loss: 0.0000e+00 - val_shape_loss: 0.0098 - val_scale_loss: 0.0911 - val_rotation_loss: 1.6619 - val_x_loss: 0.3957 - val_y_loss: 0.3721 - val_color_accuracy: 0.0000e+00 - val_shape_accuracy: 0.9999 - val_scale_accuracy: 0.9979 - val_rotation_accuracy: 0.5057 - val_x_accuracy: 0.8665 - val_y_accuracy: 0.8753\n",
            "Epoch 221/1000\n",
            "547/547 [==============================] - 12s 23ms/step - loss: 4.2749 - color_loss: 0.0000e+00 - shape_loss: 0.1112 - scale_loss: 0.3771 - rotation_loss: 2.1767 - x_loss: 0.8284 - y_loss: 0.7817 - color_accuracy: 0.0000e+00 - shape_accuracy: 0.9634 - scale_accuracy: 0.8616 - rotation_accuracy: 0.2347 - x_accuracy: 0.6842 - y_accuracy: 0.6896 - val_loss: 2.5098 - val_color_loss: 0.0000e+00 - val_shape_loss: 0.0106 - val_scale_loss: 0.0813 - val_rotation_loss: 1.6615 - val_x_loss: 0.3882 - val_y_loss: 0.3680 - val_color_accuracy: 0.0000e+00 - val_shape_accuracy: 0.9999 - val_scale_accuracy: 0.9994 - val_rotation_accuracy: 0.5044 - val_x_accuracy: 0.8683 - val_y_accuracy: 0.8735\n",
            "Epoch 222/1000\n",
            "547/547 [==============================] - 12s 22ms/step - loss: 4.2645 - color_loss: 0.0000e+00 - shape_loss: 0.1094 - scale_loss: 0.3765 - rotation_loss: 2.1713 - x_loss: 0.8213 - y_loss: 0.7859 - color_accuracy: 0.0000e+00 - shape_accuracy: 0.9642 - scale_accuracy: 0.8612 - rotation_accuracy: 0.2338 - x_accuracy: 0.6838 - y_accuracy: 0.6901 - val_loss: 2.5215 - val_color_loss: 0.0000e+00 - val_shape_loss: 0.0101 - val_scale_loss: 0.0856 - val_rotation_loss: 1.6634 - val_x_loss: 0.3941 - val_y_loss: 0.3683 - val_color_accuracy: 0.0000e+00 - val_shape_accuracy: 0.9999 - val_scale_accuracy: 0.9987 - val_rotation_accuracy: 0.5085 - val_x_accuracy: 0.8676 - val_y_accuracy: 0.8775\n",
            "Epoch 223/1000\n",
            "547/547 [==============================] - 12s 22ms/step - loss: 4.2567 - color_loss: 0.0000e+00 - shape_loss: 0.1099 - scale_loss: 0.3712 - rotation_loss: 2.1678 - x_loss: 0.8303 - y_loss: 0.7774 - color_accuracy: 0.0000e+00 - shape_accuracy: 0.9653 - scale_accuracy: 0.8647 - rotation_accuracy: 0.2372 - x_accuracy: 0.6850 - y_accuracy: 0.6881 - val_loss: 2.5202 - val_color_loss: 0.0000e+00 - val_shape_loss: 0.0101 - val_scale_loss: 0.0822 - val_rotation_loss: 1.6666 - val_x_loss: 0.3929 - val_y_loss: 0.3684 - val_color_accuracy: 0.0000e+00 - val_shape_accuracy: 0.9999 - val_scale_accuracy: 0.9993 - val_rotation_accuracy: 0.5103 - val_x_accuracy: 0.8692 - val_y_accuracy: 0.8795\n",
            "Epoch 224/1000\n",
            "547/547 [==============================] - 12s 22ms/step - loss: 4.2518 - color_loss: 0.0000e+00 - shape_loss: 0.1062 - scale_loss: 0.3734 - rotation_loss: 2.1729 - x_loss: 0.8243 - y_loss: 0.7750 - color_accuracy: 0.0000e+00 - shape_accuracy: 0.9652 - scale_accuracy: 0.8617 - rotation_accuracy: 0.2311 - x_accuracy: 0.6882 - y_accuracy: 0.6947 - val_loss: 2.4995 - val_color_loss: 0.0000e+00 - val_shape_loss: 0.0099 - val_scale_loss: 0.0793 - val_rotation_loss: 1.6531 - val_x_loss: 0.3893 - val_y_loss: 0.3679 - val_color_accuracy: 0.0000e+00 - val_shape_accuracy: 0.9999 - val_scale_accuracy: 0.9994 - val_rotation_accuracy: 0.5160 - val_x_accuracy: 0.8693 - val_y_accuracy: 0.8761\n",
            "Epoch 225/1000\n",
            "547/547 [==============================] - 12s 22ms/step - loss: 4.2735 - color_loss: 0.0000e+00 - shape_loss: 0.1124 - scale_loss: 0.3724 - rotation_loss: 2.1746 - x_loss: 0.8262 - y_loss: 0.7879 - color_accuracy: 0.0000e+00 - shape_accuracy: 0.9628 - scale_accuracy: 0.8649 - rotation_accuracy: 0.2355 - x_accuracy: 0.6827 - y_accuracy: 0.6868 - val_loss: 2.5166 - val_color_loss: 0.0000e+00 - val_shape_loss: 0.0098 - val_scale_loss: 0.0821 - val_rotation_loss: 1.6616 - val_x_loss: 0.3900 - val_y_loss: 0.3732 - val_color_accuracy: 0.0000e+00 - val_shape_accuracy: 0.9999 - val_scale_accuracy: 0.9993 - val_rotation_accuracy: 0.5139 - val_x_accuracy: 0.8706 - val_y_accuracy: 0.8789\n",
            "Epoch 226/1000\n",
            "547/547 [==============================] - 12s 22ms/step - loss: 4.2582 - color_loss: 0.0000e+00 - shape_loss: 0.1049 - scale_loss: 0.3764 - rotation_loss: 2.1677 - x_loss: 0.8292 - y_loss: 0.7801 - color_accuracy: 0.0000e+00 - shape_accuracy: 0.9656 - scale_accuracy: 0.8638 - rotation_accuracy: 0.2361 - x_accuracy: 0.6822 - y_accuracy: 0.6886 - val_loss: 2.5054 - val_color_loss: 0.0000e+00 - val_shape_loss: 0.0101 - val_scale_loss: 0.0789 - val_rotation_loss: 1.6603 - val_x_loss: 0.3882 - val_y_loss: 0.3679 - val_color_accuracy: 0.0000e+00 - val_shape_accuracy: 0.9999 - val_scale_accuracy: 0.9993 - val_rotation_accuracy: 0.5040 - val_x_accuracy: 0.8697 - val_y_accuracy: 0.8763\n",
            "Epoch 227/1000\n",
            "547/547 [==============================] - 12s 22ms/step - loss: 4.2601 - color_loss: 0.0000e+00 - shape_loss: 0.1017 - scale_loss: 0.3735 - rotation_loss: 2.1721 - x_loss: 0.8315 - y_loss: 0.7812 - color_accuracy: 0.0000e+00 - shape_accuracy: 0.9669 - scale_accuracy: 0.8648 - rotation_accuracy: 0.2364 - x_accuracy: 0.6789 - y_accuracy: 0.6927 - val_loss: 2.5082 - val_color_loss: 0.0000e+00 - val_shape_loss: 0.0094 - val_scale_loss: 0.0802 - val_rotation_loss: 1.6588 - val_x_loss: 0.3919 - val_y_loss: 0.3678 - val_color_accuracy: 0.0000e+00 - val_shape_accuracy: 0.9999 - val_scale_accuracy: 0.9997 - val_rotation_accuracy: 0.5085 - val_x_accuracy: 0.8705 - val_y_accuracy: 0.8811\n",
            "Epoch 228/1000\n",
            "547/547 [==============================] - 12s 22ms/step - loss: 4.2455 - color_loss: 0.0000e+00 - shape_loss: 0.1110 - scale_loss: 0.3750 - rotation_loss: 2.1647 - x_loss: 0.8252 - y_loss: 0.7695 - color_accuracy: 0.0000e+00 - shape_accuracy: 0.9648 - scale_accuracy: 0.8646 - rotation_accuracy: 0.2375 - x_accuracy: 0.6861 - y_accuracy: 0.6936 - val_loss: 2.5032 - val_color_loss: 0.0000e+00 - val_shape_loss: 0.0104 - val_scale_loss: 0.0817 - val_rotation_loss: 1.6573 - val_x_loss: 0.3874 - val_y_loss: 0.3663 - val_color_accuracy: 0.0000e+00 - val_shape_accuracy: 0.9999 - val_scale_accuracy: 0.9993 - val_rotation_accuracy: 0.5124 - val_x_accuracy: 0.8675 - val_y_accuracy: 0.8757\n",
            "Epoch 229/1000\n",
            "547/547 [==============================] - 12s 22ms/step - loss: 4.2411 - color_loss: 0.0000e+00 - shape_loss: 0.1080 - scale_loss: 0.3700 - rotation_loss: 2.1685 - x_loss: 0.8228 - y_loss: 0.7718 - color_accuracy: 0.0000e+00 - shape_accuracy: 0.9636 - scale_accuracy: 0.8658 - rotation_accuracy: 0.2348 - x_accuracy: 0.6883 - y_accuracy: 0.6939 - val_loss: 2.4997 - val_color_loss: 0.0000e+00 - val_shape_loss: 0.0095 - val_scale_loss: 0.0795 - val_rotation_loss: 1.6582 - val_x_loss: 0.3860 - val_y_loss: 0.3666 - val_color_accuracy: 0.0000e+00 - val_shape_accuracy: 0.9999 - val_scale_accuracy: 0.9995 - val_rotation_accuracy: 0.5047 - val_x_accuracy: 0.8721 - val_y_accuracy: 0.8787\n",
            "Epoch 230/1000\n",
            "547/547 [==============================] - 12s 22ms/step - loss: 4.2350 - color_loss: 0.0000e+00 - shape_loss: 0.1088 - scale_loss: 0.3673 - rotation_loss: 2.1635 - x_loss: 0.8183 - y_loss: 0.7771 - color_accuracy: 0.0000e+00 - shape_accuracy: 0.9653 - scale_accuracy: 0.8668 - rotation_accuracy: 0.2384 - x_accuracy: 0.6862 - y_accuracy: 0.6940 - val_loss: 2.4872 - val_color_loss: 0.0000e+00 - val_shape_loss: 0.0096 - val_scale_loss: 0.0802 - val_rotation_loss: 1.6498 - val_x_loss: 0.3826 - val_y_loss: 0.3651 - val_color_accuracy: 0.0000e+00 - val_shape_accuracy: 0.9999 - val_scale_accuracy: 0.9990 - val_rotation_accuracy: 0.5157 - val_x_accuracy: 0.8691 - val_y_accuracy: 0.8762\n",
            "Epoch 231/1000\n",
            "547/547 [==============================] - 12s 22ms/step - loss: 4.2320 - color_loss: 0.0000e+00 - shape_loss: 0.1099 - scale_loss: 0.3743 - rotation_loss: 2.1608 - x_loss: 0.8118 - y_loss: 0.7750 - color_accuracy: 0.0000e+00 - shape_accuracy: 0.9638 - scale_accuracy: 0.8650 - rotation_accuracy: 0.2381 - x_accuracy: 0.6872 - y_accuracy: 0.6916 - val_loss: 2.4799 - val_color_loss: 0.0000e+00 - val_shape_loss: 0.0099 - val_scale_loss: 0.0765 - val_rotation_loss: 1.6468 - val_x_loss: 0.3837 - val_y_loss: 0.3629 - val_color_accuracy: 0.0000e+00 - val_shape_accuracy: 0.9999 - val_scale_accuracy: 0.9993 - val_rotation_accuracy: 0.5224 - val_x_accuracy: 0.8699 - val_y_accuracy: 0.8772\n",
            "Epoch 232/1000\n",
            "547/547 [==============================] - 12s 22ms/step - loss: 4.2223 - color_loss: 0.0000e+00 - shape_loss: 0.1067 - scale_loss: 0.3710 - rotation_loss: 2.1613 - x_loss: 0.8118 - y_loss: 0.7715 - color_accuracy: 0.0000e+00 - shape_accuracy: 0.9664 - scale_accuracy: 0.8627 - rotation_accuracy: 0.2379 - x_accuracy: 0.6890 - y_accuracy: 0.6932 - val_loss: 2.4795 - val_color_loss: 0.0000e+00 - val_shape_loss: 0.0100 - val_scale_loss: 0.0782 - val_rotation_loss: 1.6454 - val_x_loss: 0.3835 - val_y_loss: 0.3623 - val_color_accuracy: 0.0000e+00 - val_shape_accuracy: 0.9999 - val_scale_accuracy: 0.9992 - val_rotation_accuracy: 0.5242 - val_x_accuracy: 0.8693 - val_y_accuracy: 0.8767\n",
            "Epoch 233/1000\n",
            "547/547 [==============================] - 12s 22ms/step - loss: 4.2258 - color_loss: 0.0000e+00 - shape_loss: 0.1032 - scale_loss: 0.3702 - rotation_loss: 2.1631 - x_loss: 0.8194 - y_loss: 0.7699 - color_accuracy: 0.0000e+00 - shape_accuracy: 0.9656 - scale_accuracy: 0.8653 - rotation_accuracy: 0.2383 - x_accuracy: 0.6880 - y_accuracy: 0.6943 - val_loss: 2.4822 - val_color_loss: 0.0000e+00 - val_shape_loss: 0.0099 - val_scale_loss: 0.0773 - val_rotation_loss: 1.6489 - val_x_loss: 0.3834 - val_y_loss: 0.3627 - val_color_accuracy: 0.0000e+00 - val_shape_accuracy: 0.9999 - val_scale_accuracy: 0.9994 - val_rotation_accuracy: 0.5238 - val_x_accuracy: 0.8703 - val_y_accuracy: 0.8778\n",
            "Epoch 234/1000\n",
            "547/547 [==============================] - 12s 22ms/step - loss: 4.2284 - color_loss: 0.0000e+00 - shape_loss: 0.1081 - scale_loss: 0.3746 - rotation_loss: 2.1619 - x_loss: 0.8122 - y_loss: 0.7716 - color_accuracy: 0.0000e+00 - shape_accuracy: 0.9647 - scale_accuracy: 0.8631 - rotation_accuracy: 0.2341 - x_accuracy: 0.6917 - y_accuracy: 0.6929 - val_loss: 2.4779 - val_color_loss: 0.0000e+00 - val_shape_loss: 0.0097 - val_scale_loss: 0.0775 - val_rotation_loss: 1.6474 - val_x_loss: 0.3819 - val_y_loss: 0.3614 - val_color_accuracy: 0.0000e+00 - val_shape_accuracy: 0.9999 - val_scale_accuracy: 0.9995 - val_rotation_accuracy: 0.5233 - val_x_accuracy: 0.8700 - val_y_accuracy: 0.8801\n",
            "Epoch 235/1000\n",
            "547/547 [==============================] - 12s 22ms/step - loss: 4.2327 - color_loss: 0.0000e+00 - shape_loss: 0.1057 - scale_loss: 0.3676 - rotation_loss: 2.1665 - x_loss: 0.8174 - y_loss: 0.7754 - color_accuracy: 0.0000e+00 - shape_accuracy: 0.9652 - scale_accuracy: 0.8675 - rotation_accuracy: 0.2376 - x_accuracy: 0.6883 - y_accuracy: 0.6884 - val_loss: 2.4821 - val_color_loss: 0.0000e+00 - val_shape_loss: 0.0098 - val_scale_loss: 0.0791 - val_rotation_loss: 1.6477 - val_x_loss: 0.3831 - val_y_loss: 0.3623 - val_color_accuracy: 0.0000e+00 - val_shape_accuracy: 0.9999 - val_scale_accuracy: 0.9993 - val_rotation_accuracy: 0.5249 - val_x_accuracy: 0.8700 - val_y_accuracy: 0.8787\n",
            "Epoch 236/1000\n",
            "547/547 [==============================] - 12s 22ms/step - loss: 4.2237 - color_loss: 0.0000e+00 - shape_loss: 0.1068 - scale_loss: 0.3668 - rotation_loss: 2.1590 - x_loss: 0.8224 - y_loss: 0.7686 - color_accuracy: 0.0000e+00 - shape_accuracy: 0.9654 - scale_accuracy: 0.8671 - rotation_accuracy: 0.2367 - x_accuracy: 0.6857 - y_accuracy: 0.6943 - val_loss: 2.4829 - val_color_loss: 0.0000e+00 - val_shape_loss: 0.0098 - val_scale_loss: 0.0780 - val_rotation_loss: 1.6473 - val_x_loss: 0.3848 - val_y_loss: 0.3629 - val_color_accuracy: 0.0000e+00 - val_shape_accuracy: 0.9999 - val_scale_accuracy: 0.9996 - val_rotation_accuracy: 0.5272 - val_x_accuracy: 0.8693 - val_y_accuracy: 0.8797\n",
            "Epoch 237/1000\n",
            "547/547 [==============================] - 12s 22ms/step - loss: 4.2157 - color_loss: 0.0000e+00 - shape_loss: 0.1082 - scale_loss: 0.3712 - rotation_loss: 2.1571 - x_loss: 0.8106 - y_loss: 0.7687 - color_accuracy: 0.0000e+00 - shape_accuracy: 0.9647 - scale_accuracy: 0.8674 - rotation_accuracy: 0.2387 - x_accuracy: 0.6900 - y_accuracy: 0.6968 - val_loss: 2.4735 - val_color_loss: 0.0000e+00 - val_shape_loss: 0.0098 - val_scale_loss: 0.0767 - val_rotation_loss: 1.6427 - val_x_loss: 0.3832 - val_y_loss: 0.3611 - val_color_accuracy: 0.0000e+00 - val_shape_accuracy: 0.9999 - val_scale_accuracy: 0.9995 - val_rotation_accuracy: 0.5272 - val_x_accuracy: 0.8697 - val_y_accuracy: 0.8791\n",
            "Epoch 238/1000\n",
            "547/547 [==============================] - 12s 22ms/step - loss: 4.2063 - color_loss: 0.0000e+00 - shape_loss: 0.1070 - scale_loss: 0.3670 - rotation_loss: 2.1554 - x_loss: 0.8116 - y_loss: 0.7654 - color_accuracy: 0.0000e+00 - shape_accuracy: 0.9654 - scale_accuracy: 0.8677 - rotation_accuracy: 0.2390 - x_accuracy: 0.6895 - y_accuracy: 0.6968 - val_loss: 2.4718 - val_color_loss: 0.0000e+00 - val_shape_loss: 0.0101 - val_scale_loss: 0.0767 - val_rotation_loss: 1.6425 - val_x_loss: 0.3822 - val_y_loss: 0.3603 - val_color_accuracy: 0.0000e+00 - val_shape_accuracy: 0.9999 - val_scale_accuracy: 0.9993 - val_rotation_accuracy: 0.5245 - val_x_accuracy: 0.8687 - val_y_accuracy: 0.8791\n",
            "Epoch 239/1000\n",
            "547/547 [==============================] - 12s 22ms/step - loss: 4.2122 - color_loss: 0.0000e+00 - shape_loss: 0.1051 - scale_loss: 0.3592 - rotation_loss: 2.1584 - x_loss: 0.8161 - y_loss: 0.7734 - color_accuracy: 0.0000e+00 - shape_accuracy: 0.9656 - scale_accuracy: 0.8699 - rotation_accuracy: 0.2386 - x_accuracy: 0.6884 - y_accuracy: 0.6911 - val_loss: 2.4813 - val_color_loss: 0.0000e+00 - val_shape_loss: 0.0097 - val_scale_loss: 0.0776 - val_rotation_loss: 1.6476 - val_x_loss: 0.3835 - val_y_loss: 0.3628 - val_color_accuracy: 0.0000e+00 - val_shape_accuracy: 0.9999 - val_scale_accuracy: 0.9994 - val_rotation_accuracy: 0.5263 - val_x_accuracy: 0.8696 - val_y_accuracy: 0.8788\n",
            "Epoch 240/1000\n",
            "547/547 [==============================] - 12s 22ms/step - loss: 4.2100 - color_loss: 0.0000e+00 - shape_loss: 0.1060 - scale_loss: 0.3713 - rotation_loss: 2.1552 - x_loss: 0.8106 - y_loss: 0.7670 - color_accuracy: 0.0000e+00 - shape_accuracy: 0.9652 - scale_accuracy: 0.8630 - rotation_accuracy: 0.2422 - x_accuracy: 0.6877 - y_accuracy: 0.6938 - val_loss: 2.4746 - val_color_loss: 0.0000e+00 - val_shape_loss: 0.0098 - val_scale_loss: 0.0776 - val_rotation_loss: 1.6427 - val_x_loss: 0.3836 - val_y_loss: 0.3608 - val_color_accuracy: 0.0000e+00 - val_shape_accuracy: 0.9999 - val_scale_accuracy: 0.9993 - val_rotation_accuracy: 0.5283 - val_x_accuracy: 0.8702 - val_y_accuracy: 0.8787\n",
            "Epoch 241/1000\n",
            "547/547 [==============================] - 12s 22ms/step - loss: 4.2270 - color_loss: 0.0000e+00 - shape_loss: 0.1094 - scale_loss: 0.3708 - rotation_loss: 2.1621 - x_loss: 0.8128 - y_loss: 0.7720 - color_accuracy: 0.0000e+00 - shape_accuracy: 0.9644 - scale_accuracy: 0.8661 - rotation_accuracy: 0.2365 - x_accuracy: 0.6900 - y_accuracy: 0.6963 - val_loss: 2.4750 - val_color_loss: 0.0000e+00 - val_shape_loss: 0.0102 - val_scale_loss: 0.0781 - val_rotation_loss: 1.6426 - val_x_loss: 0.3837 - val_y_loss: 0.3605 - val_color_accuracy: 0.0000e+00 - val_shape_accuracy: 0.9999 - val_scale_accuracy: 0.9993 - val_rotation_accuracy: 0.5279 - val_x_accuracy: 0.8701 - val_y_accuracy: 0.8787\n",
            "Epoch 242/1000\n",
            "547/547 [==============================] - 12s 22ms/step - loss: 4.2226 - color_loss: 0.0000e+00 - shape_loss: 0.1061 - scale_loss: 0.3726 - rotation_loss: 2.1514 - x_loss: 0.8240 - y_loss: 0.7685 - color_accuracy: 0.0000e+00 - shape_accuracy: 0.9657 - scale_accuracy: 0.8651 - rotation_accuracy: 0.2393 - x_accuracy: 0.6863 - y_accuracy: 0.6943 - val_loss: 2.4736 - val_color_loss: 0.0000e+00 - val_shape_loss: 0.0096 - val_scale_loss: 0.0786 - val_rotation_loss: 1.6420 - val_x_loss: 0.3816 - val_y_loss: 0.3618 - val_color_accuracy: 0.0000e+00 - val_shape_accuracy: 0.9999 - val_scale_accuracy: 0.9992 - val_rotation_accuracy: 0.5271 - val_x_accuracy: 0.8709 - val_y_accuracy: 0.8777\n",
            "Epoch 243/1000\n",
            "547/547 [==============================] - 12s 22ms/step - loss: 4.2186 - color_loss: 0.0000e+00 - shape_loss: 0.1063 - scale_loss: 0.3740 - rotation_loss: 2.1534 - x_loss: 0.8179 - y_loss: 0.7669 - color_accuracy: 0.0000e+00 - shape_accuracy: 0.9653 - scale_accuracy: 0.8664 - rotation_accuracy: 0.2382 - x_accuracy: 0.6889 - y_accuracy: 0.6976 - val_loss: 2.4733 - val_color_loss: 0.0000e+00 - val_shape_loss: 0.0098 - val_scale_loss: 0.0776 - val_rotation_loss: 1.6438 - val_x_loss: 0.3817 - val_y_loss: 0.3605 - val_color_accuracy: 0.0000e+00 - val_shape_accuracy: 0.9999 - val_scale_accuracy: 0.9995 - val_rotation_accuracy: 0.5254 - val_x_accuracy: 0.8707 - val_y_accuracy: 0.8791\n",
            "Epoch 244/1000\n",
            "547/547 [==============================] - 12s 22ms/step - loss: 4.1946 - color_loss: 0.0000e+00 - shape_loss: 0.1090 - scale_loss: 0.3624 - rotation_loss: 2.1504 - x_loss: 0.8123 - y_loss: 0.7605 - color_accuracy: 0.0000e+00 - shape_accuracy: 0.9647 - scale_accuracy: 0.8680 - rotation_accuracy: 0.2373 - x_accuracy: 0.6897 - y_accuracy: 0.6954 - val_loss: 2.4723 - val_color_loss: 0.0000e+00 - val_shape_loss: 0.0098 - val_scale_loss: 0.0774 - val_rotation_loss: 1.6422 - val_x_loss: 0.3819 - val_y_loss: 0.3609 - val_color_accuracy: 0.0000e+00 - val_shape_accuracy: 0.9999 - val_scale_accuracy: 0.9993 - val_rotation_accuracy: 0.5293 - val_x_accuracy: 0.8705 - val_y_accuracy: 0.8775\n",
            "Epoch 245/1000\n",
            "547/547 [==============================] - 12s 22ms/step - loss: 4.2226 - color_loss: 0.0000e+00 - shape_loss: 0.1093 - scale_loss: 0.3696 - rotation_loss: 2.1536 - x_loss: 0.8145 - y_loss: 0.7756 - color_accuracy: 0.0000e+00 - shape_accuracy: 0.9647 - scale_accuracy: 0.8649 - rotation_accuracy: 0.2401 - x_accuracy: 0.6891 - y_accuracy: 0.6955 - val_loss: 2.4695 - val_color_loss: 0.0000e+00 - val_shape_loss: 0.0099 - val_scale_loss: 0.0767 - val_rotation_loss: 1.6412 - val_x_loss: 0.3817 - val_y_loss: 0.3601 - val_color_accuracy: 0.0000e+00 - val_shape_accuracy: 0.9999 - val_scale_accuracy: 0.9995 - val_rotation_accuracy: 0.5293 - val_x_accuracy: 0.8701 - val_y_accuracy: 0.8789\n",
            "Epoch 246/1000\n",
            "547/547 [==============================] - 12s 23ms/step - loss: 4.2032 - color_loss: 0.0000e+00 - shape_loss: 0.1062 - scale_loss: 0.3652 - rotation_loss: 2.1509 - x_loss: 0.8135 - y_loss: 0.7674 - color_accuracy: 0.0000e+00 - shape_accuracy: 0.9658 - scale_accuracy: 0.8677 - rotation_accuracy: 0.2393 - x_accuracy: 0.6868 - y_accuracy: 0.6971 - val_loss: 2.4687 - val_color_loss: 0.0000e+00 - val_shape_loss: 0.0097 - val_scale_loss: 0.0765 - val_rotation_loss: 1.6408 - val_x_loss: 0.3818 - val_y_loss: 0.3600 - val_color_accuracy: 0.0000e+00 - val_shape_accuracy: 0.9999 - val_scale_accuracy: 0.9995 - val_rotation_accuracy: 0.5314 - val_x_accuracy: 0.8700 - val_y_accuracy: 0.8795\n",
            "Epoch 247/1000\n",
            "547/547 [==============================] - 12s 22ms/step - loss: 4.2185 - color_loss: 0.0000e+00 - shape_loss: 0.1111 - scale_loss: 0.3683 - rotation_loss: 2.1580 - x_loss: 0.8152 - y_loss: 0.7658 - color_accuracy: 0.0000e+00 - shape_accuracy: 0.9638 - scale_accuracy: 0.8654 - rotation_accuracy: 0.2390 - x_accuracy: 0.6903 - y_accuracy: 0.6975 - val_loss: 2.4663 - val_color_loss: 0.0000e+00 - val_shape_loss: 0.0098 - val_scale_loss: 0.0759 - val_rotation_loss: 1.6397 - val_x_loss: 0.3815 - val_y_loss: 0.3594 - val_color_accuracy: 0.0000e+00 - val_shape_accuracy: 0.9999 - val_scale_accuracy: 0.9995 - val_rotation_accuracy: 0.5312 - val_x_accuracy: 0.8697 - val_y_accuracy: 0.8797\n",
            "Epoch 248/1000\n",
            "547/547 [==============================] - 12s 22ms/step - loss: 4.2261 - color_loss: 0.0000e+00 - shape_loss: 0.1101 - scale_loss: 0.3770 - rotation_loss: 2.1572 - x_loss: 0.8165 - y_loss: 0.7653 - color_accuracy: 0.0000e+00 - shape_accuracy: 0.9637 - scale_accuracy: 0.8641 - rotation_accuracy: 0.2409 - x_accuracy: 0.6882 - y_accuracy: 0.6949 - val_loss: 2.4726 - val_color_loss: 0.0000e+00 - val_shape_loss: 0.0098 - val_scale_loss: 0.0772 - val_rotation_loss: 1.6423 - val_x_loss: 0.3827 - val_y_loss: 0.3606 - val_color_accuracy: 0.0000e+00 - val_shape_accuracy: 0.9999 - val_scale_accuracy: 0.9995 - val_rotation_accuracy: 0.5308 - val_x_accuracy: 0.8703 - val_y_accuracy: 0.8791\n",
            "Epoch 249/1000\n",
            "547/547 [==============================] - 12s 22ms/step - loss: 4.2016 - color_loss: 0.0000e+00 - shape_loss: 0.1047 - scale_loss: 0.3651 - rotation_loss: 2.1524 - x_loss: 0.8165 - y_loss: 0.7629 - color_accuracy: 0.0000e+00 - shape_accuracy: 0.9664 - scale_accuracy: 0.8671 - rotation_accuracy: 0.2406 - x_accuracy: 0.6905 - y_accuracy: 0.6954 - val_loss: 2.4697 - val_color_loss: 0.0000e+00 - val_shape_loss: 0.0098 - val_scale_loss: 0.0774 - val_rotation_loss: 1.6403 - val_x_loss: 0.3819 - val_y_loss: 0.3603 - val_color_accuracy: 0.0000e+00 - val_shape_accuracy: 0.9999 - val_scale_accuracy: 0.9994 - val_rotation_accuracy: 0.5302 - val_x_accuracy: 0.8705 - val_y_accuracy: 0.8791\n",
            "Epoch 250/1000\n",
            "547/547 [==============================] - 12s 22ms/step - loss: 4.2243 - color_loss: 0.0000e+00 - shape_loss: 0.1064 - scale_loss: 0.3697 - rotation_loss: 2.1565 - x_loss: 0.8113 - y_loss: 0.7804 - color_accuracy: 0.0000e+00 - shape_accuracy: 0.9654 - scale_accuracy: 0.8669 - rotation_accuracy: 0.2412 - x_accuracy: 0.6924 - y_accuracy: 0.6924 - val_loss: 2.4714 - val_color_loss: 0.0000e+00 - val_shape_loss: 0.0098 - val_scale_loss: 0.0774 - val_rotation_loss: 1.6414 - val_x_loss: 0.3828 - val_y_loss: 0.3601 - val_color_accuracy: 0.0000e+00 - val_shape_accuracy: 0.9999 - val_scale_accuracy: 0.9993 - val_rotation_accuracy: 0.5291 - val_x_accuracy: 0.8697 - val_y_accuracy: 0.8793\n",
            "Epoch 251/1000\n",
            "547/547 [==============================] - 12s 22ms/step - loss: 4.1820 - color_loss: 0.0000e+00 - shape_loss: 0.1065 - scale_loss: 0.3587 - rotation_loss: 2.1480 - x_loss: 0.8044 - y_loss: 0.7645 - color_accuracy: 0.0000e+00 - shape_accuracy: 0.9650 - scale_accuracy: 0.8680 - rotation_accuracy: 0.2410 - x_accuracy: 0.6928 - y_accuracy: 0.6975 - val_loss: 2.4676 - val_color_loss: 0.0000e+00 - val_shape_loss: 0.0097 - val_scale_loss: 0.0766 - val_rotation_loss: 1.6399 - val_x_loss: 0.3816 - val_y_loss: 0.3597 - val_color_accuracy: 0.0000e+00 - val_shape_accuracy: 0.9999 - val_scale_accuracy: 0.9994 - val_rotation_accuracy: 0.5319 - val_x_accuracy: 0.8704 - val_y_accuracy: 0.8797\n",
            "Epoch 252/1000\n",
            "547/547 [==============================] - 12s 22ms/step - loss: 4.2095 - color_loss: 0.0000e+00 - shape_loss: 0.1040 - scale_loss: 0.3704 - rotation_loss: 2.1541 - x_loss: 0.8134 - y_loss: 0.7676 - color_accuracy: 0.0000e+00 - shape_accuracy: 0.9657 - scale_accuracy: 0.8674 - rotation_accuracy: 0.2386 - x_accuracy: 0.6882 - y_accuracy: 0.6949 - val_loss: 2.4699 - val_color_loss: 0.0000e+00 - val_shape_loss: 0.0096 - val_scale_loss: 0.0767 - val_rotation_loss: 1.6417 - val_x_loss: 0.3817 - val_y_loss: 0.3602 - val_color_accuracy: 0.0000e+00 - val_shape_accuracy: 0.9999 - val_scale_accuracy: 0.9996 - val_rotation_accuracy: 0.5307 - val_x_accuracy: 0.8700 - val_y_accuracy: 0.8803\n",
            "Epoch 253/1000\n",
            "547/547 [==============================] - 12s 22ms/step - loss: 4.2041 - color_loss: 0.0000e+00 - shape_loss: 0.1046 - scale_loss: 0.3579 - rotation_loss: 2.1552 - x_loss: 0.8188 - y_loss: 0.7676 - color_accuracy: 0.0000e+00 - shape_accuracy: 0.9656 - scale_accuracy: 0.8688 - rotation_accuracy: 0.2393 - x_accuracy: 0.6894 - y_accuracy: 0.6939 - val_loss: 2.4697 - val_color_loss: 0.0000e+00 - val_shape_loss: 0.0097 - val_scale_loss: 0.0766 - val_rotation_loss: 1.6416 - val_x_loss: 0.3820 - val_y_loss: 0.3598 - val_color_accuracy: 0.0000e+00 - val_shape_accuracy: 0.9999 - val_scale_accuracy: 0.9995 - val_rotation_accuracy: 0.5295 - val_x_accuracy: 0.8703 - val_y_accuracy: 0.8795\n",
            "Epoch 254/1000\n",
            "547/547 [==============================] - 12s 22ms/step - loss: 4.1770 - color_loss: 0.0000e+00 - shape_loss: 0.1033 - scale_loss: 0.3619 - rotation_loss: 2.1460 - x_loss: 0.8131 - y_loss: 0.7528 - color_accuracy: 0.0000e+00 - shape_accuracy: 0.9656 - scale_accuracy: 0.8689 - rotation_accuracy: 0.2460 - x_accuracy: 0.6897 - y_accuracy: 0.6992 - val_loss: 2.4674 - val_color_loss: 0.0000e+00 - val_shape_loss: 0.0097 - val_scale_loss: 0.0766 - val_rotation_loss: 1.6403 - val_x_loss: 0.3814 - val_y_loss: 0.3593 - val_color_accuracy: 0.0000e+00 - val_shape_accuracy: 0.9999 - val_scale_accuracy: 0.9995 - val_rotation_accuracy: 0.5298 - val_x_accuracy: 0.8703 - val_y_accuracy: 0.8793\n",
            "Epoch 255/1000\n",
            "547/547 [==============================] - 12s 22ms/step - loss: 4.2127 - color_loss: 0.0000e+00 - shape_loss: 0.1113 - scale_loss: 0.3745 - rotation_loss: 2.1533 - x_loss: 0.8132 - y_loss: 0.7604 - color_accuracy: 0.0000e+00 - shape_accuracy: 0.9645 - scale_accuracy: 0.8660 - rotation_accuracy: 0.2409 - x_accuracy: 0.6881 - y_accuracy: 0.6987 - val_loss: 2.4689 - val_color_loss: 0.0000e+00 - val_shape_loss: 0.0097 - val_scale_loss: 0.0770 - val_rotation_loss: 1.6409 - val_x_loss: 0.3816 - val_y_loss: 0.3597 - val_color_accuracy: 0.0000e+00 - val_shape_accuracy: 0.9999 - val_scale_accuracy: 0.9994 - val_rotation_accuracy: 0.5319 - val_x_accuracy: 0.8701 - val_y_accuracy: 0.8791\n",
            "Epoch 256/1000\n",
            "547/547 [==============================] - 12s 22ms/step - loss: 4.1967 - color_loss: 0.0000e+00 - shape_loss: 0.1061 - scale_loss: 0.3607 - rotation_loss: 2.1579 - x_loss: 0.8097 - y_loss: 0.7623 - color_accuracy: 0.0000e+00 - shape_accuracy: 0.9649 - scale_accuracy: 0.8684 - rotation_accuracy: 0.2422 - x_accuracy: 0.6867 - y_accuracy: 0.6971 - val_loss: 2.4663 - val_color_loss: 0.0000e+00 - val_shape_loss: 0.0097 - val_scale_loss: 0.0761 - val_rotation_loss: 1.6403 - val_x_loss: 0.3811 - val_y_loss: 0.3591 - val_color_accuracy: 0.0000e+00 - val_shape_accuracy: 0.9999 - val_scale_accuracy: 0.9996 - val_rotation_accuracy: 0.5318 - val_x_accuracy: 0.8700 - val_y_accuracy: 0.8790\n",
            "Epoch 257/1000\n",
            "547/547 [==============================] - 12s 22ms/step - loss: 4.2068 - color_loss: 0.0000e+00 - shape_loss: 0.1049 - scale_loss: 0.3729 - rotation_loss: 2.1596 - x_loss: 0.8053 - y_loss: 0.7642 - color_accuracy: 0.0000e+00 - shape_accuracy: 0.9664 - scale_accuracy: 0.8669 - rotation_accuracy: 0.2402 - x_accuracy: 0.6901 - y_accuracy: 0.6969 - val_loss: 2.4667 - val_color_loss: 0.0000e+00 - val_shape_loss: 0.0097 - val_scale_loss: 0.0762 - val_rotation_loss: 1.6403 - val_x_loss: 0.3812 - val_y_loss: 0.3593 - val_color_accuracy: 0.0000e+00 - val_shape_accuracy: 0.9999 - val_scale_accuracy: 0.9995 - val_rotation_accuracy: 0.5311 - val_x_accuracy: 0.8703 - val_y_accuracy: 0.8792\n"
          ],
          "name": "stdout"
        }
      ]
    },
    {
      "cell_type": "code",
      "metadata": {
        "id": "qeW261yLvx6S"
      },
      "source": [
        "## Run this cell to save models\n",
        "# Save whole model\n",
        "path = \"drive/MyDrive/multitask_saved_model/\"\n",
        "multitask_model.save(path)"
      ],
      "execution_count": null,
      "outputs": []
    },
    {
      "cell_type": "code",
      "metadata": {
        "id": "BoSf22nfpUwA"
      },
      "source": [
        "fig = plt.figure(figsize=(12, 8))\n",
        "ax1 = fig.add_subplot(231)\n",
        "ax2 = fig.add_subplot(232)\n",
        "ax3 = fig.add_subplot(233)\n",
        "ax4 = fig.add_subplot(234)\n",
        "ax5 = fig.add_subplot(235)\n",
        "ax6 = fig.add_subplot(236)\n",
        "axes = [ax1, ax2, ax3, ax4, ax5, ax6]\n",
        "\n",
        "# Plot training validation loss\n",
        "ax1.plot(history.history[\"color_loss\"], label=\"Training Loss\")\n",
        "ax1.plot(history.history[\"val_color_loss\"], label=\"Validation Loss\")\n",
        "\n",
        "ax2.plot(history.history[\"shape_loss\"], label=\"Training Loss\")\n",
        "ax2.plot(history.history[\"val_shape_loss\"], label=\"Validation Loss\")\n",
        "\n",
        "ax3.plot(history.history[\"scale_loss\"], label=\"Training Loss\")\n",
        "ax3.plot(history.history[\"val_scale_loss\"], label=\"Validation Loss\")\n",
        "\n",
        "ax4.plot(history.history[\"rotation_loss\"], label=\"Training Loss\")\n",
        "ax4.plot(history.history[\"val_rotation_loss\"], label=\"Validation Loss\")\n",
        "\n",
        "ax5.plot(history.history[\"x_loss\"], label=\"Training Loss\")\n",
        "ax5.plot(history.history[\"val_x_loss\"], label=\"Validation Loss\")\n",
        "\n",
        "ax6.plot(history.history[\"y_loss\"], label=\"Training Loss\")\n",
        "ax6.plot(history.history[\"val_y_loss\"], label=\"Validation Loss\")\n",
        "\n",
        "for ax in axes:\n",
        "    ax.legend()\n",
        "    ax.grid(True)\n",
        "plt.show()"
      ],
      "execution_count": null,
      "outputs": []
    },
    {
      "cell_type": "code",
      "metadata": {
        "id": "8rsCL4avtt1D",
        "colab": {
          "base_uri": "https://localhost:8080/"
        },
        "outputId": "387c585a-9e1f-4644-c518-0bd857140194"
      },
      "source": [
        "# Evaluation\n",
        "concept_names = [\"color\", \"shape\", \"scale\", \"rotation\", \"x\", \"y\"]\n",
        "for i, pred in enumerate(multitask_model.predict(x_test)):\n",
        "    print(\"*\"*20, f\"Model: {concept_names[i]}\", \"*\"*20)\n",
        "    c_truth = c_test[:, i]\n",
        "    c_pred = np.argmax(pred, axis=1)\n",
        "    \n",
        "    print(classification_report(c_truth, c_pred))\n",
        "    print(confusion_matrix(c_truth, c_pred))\n",
        "    print(\"\\n\\n\")"
      ],
      "execution_count": null,
      "outputs": [
        {
          "output_type": "stream",
          "text": [
            "******************** Model: color ********************\n",
            "              precision    recall  f1-score   support\n",
            "\n",
            "           0       1.00      1.00      1.00     15000\n",
            "\n",
            "    accuracy                           1.00     15000\n",
            "   macro avg       1.00      1.00      1.00     15000\n",
            "weighted avg       1.00      1.00      1.00     15000\n",
            "\n",
            "[[15000]]\n",
            "\n",
            "\n",
            "\n",
            "******************** Model: shape ********************\n",
            "              precision    recall  f1-score   support\n",
            "\n",
            "           0       1.00      1.00      1.00      5051\n",
            "           1       1.00      1.00      1.00      4965\n",
            "           2       1.00      1.00      1.00      4984\n",
            "\n",
            "    accuracy                           1.00     15000\n",
            "   macro avg       1.00      1.00      1.00     15000\n",
            "weighted avg       1.00      1.00      1.00     15000\n",
            "\n",
            "[[5051    0    0]\n",
            " [   0 4965    0]\n",
            " [   2    0 4982]]\n",
            "\n",
            "\n",
            "\n",
            "******************** Model: scale ********************\n",
            "              precision    recall  f1-score   support\n",
            "\n",
            "           0       1.00      1.00      1.00      2554\n",
            "           1       1.00      1.00      1.00      2482\n",
            "           2       1.00      1.00      1.00      2495\n",
            "           3       1.00      1.00      1.00      2455\n",
            "           4       1.00      1.00      1.00      2479\n",
            "           5       1.00      1.00      1.00      2535\n",
            "\n",
            "    accuracy                           1.00     15000\n",
            "   macro avg       1.00      1.00      1.00     15000\n",
            "weighted avg       1.00      1.00      1.00     15000\n",
            "\n",
            "[[2554    0    0    0    0    0]\n",
            " [   0 2482    0    0    0    0]\n",
            " [   0    0 2495    0    0    0]\n",
            " [   0    0    0 2455    0    0]\n",
            " [   0    0    0    0 2473    6]\n",
            " [   0    0    0    0    1 2534]]\n",
            "\n",
            "\n",
            "\n",
            "******************** Model: rotation ********************\n",
            "              precision    recall  f1-score   support\n",
            "\n",
            "           0       0.30      0.43      0.35       393\n",
            "           1       0.50      0.55      0.52       399\n",
            "           2       0.53      0.62      0.57       351\n",
            "           3       0.60      0.48      0.53       364\n",
            "           4       0.46      0.71      0.56       371\n",
            "           5       0.41      0.51      0.46       352\n",
            "           6       0.63      0.54      0.58       323\n",
            "           7       0.52      0.64      0.57       380\n",
            "           8       0.76      0.62      0.68       371\n",
            "           9       0.59      0.36      0.45       374\n",
            "          10       0.35      0.39      0.37       388\n",
            "          11       0.55      0.42      0.48       393\n",
            "          12       0.66      0.54      0.60       370\n",
            "          13       0.56      0.41      0.48       379\n",
            "          14       0.51      0.52      0.52       382\n",
            "          15       0.54      0.47      0.51       422\n",
            "          16       0.62      0.46      0.53       394\n",
            "          17       0.56      0.60      0.58       372\n",
            "          18       0.71      0.53      0.61       361\n",
            "          19       0.49      0.55      0.52       371\n",
            "          20       0.35      0.57      0.44       384\n",
            "          21       0.57      0.53      0.55       378\n",
            "          22       0.62      0.63      0.62       360\n",
            "          23       0.43      0.64      0.52       379\n",
            "          24       0.44      0.57      0.50       367\n",
            "          25       0.65      0.41      0.50       351\n",
            "          26       0.50      0.58      0.54       369\n",
            "          27       0.69      0.60      0.65       402\n",
            "          28       0.75      0.57      0.65       379\n",
            "          29       0.35      0.25      0.29       375\n",
            "          30       0.40      0.55      0.46       365\n",
            "          31       0.52      0.65      0.57       337\n",
            "          32       0.64      0.60      0.61       386\n",
            "          33       0.46      0.56      0.50       407\n",
            "          34       0.40      0.41      0.41       389\n",
            "          35       0.71      0.56      0.63       376\n",
            "          36       0.60      0.58      0.59       378\n",
            "          37       0.69      0.61      0.65       368\n",
            "          38       0.68      0.40      0.50       375\n",
            "          39       0.28      0.17      0.21       365\n",
            "\n",
            "    accuracy                           0.52     15000\n",
            "   macro avg       0.54      0.52      0.52     15000\n",
            "weighted avg       0.54      0.52      0.52     15000\n",
            "\n",
            "[[168  14   0 ...   0   0  88]\n",
            " [ 19 221   7 ...   0   0   3]\n",
            " [  0   7 217 ...   3   0   0]\n",
            " ...\n",
            " [  0   0   5 ... 225   0   0]\n",
            " [ 10  21   5 ...   0 150   1]\n",
            " [166   8   0 ...   0   0  63]]\n",
            "\n",
            "\n",
            "\n",
            "******************** Model: x ********************\n",
            "              precision    recall  f1-score   support\n",
            "\n",
            "           0       0.95      0.92      0.94       500\n",
            "           1       0.84      0.92      0.88       476\n",
            "           2       0.89      0.86      0.88       473\n",
            "           3       0.87      0.86      0.86       489\n",
            "           4       0.85      0.86      0.86       426\n",
            "           5       0.90      0.90      0.90       471\n",
            "           6       0.87      0.87      0.87       426\n",
            "           7       0.87      0.82      0.85       432\n",
            "           8       0.89      0.88      0.88       520\n",
            "           9       0.84      0.86      0.85       446\n",
            "          10       0.87      0.86      0.86       508\n",
            "          11       0.89      0.87      0.88       444\n",
            "          12       0.86      0.89      0.87       463\n",
            "          13       0.81      0.84      0.83       441\n",
            "          14       0.89      0.83      0.86       494\n",
            "          15       0.87      0.87      0.87       497\n",
            "          16       0.82      0.84      0.83       466\n",
            "          17       0.83      0.85      0.84       460\n",
            "          18       0.90      0.81      0.85       486\n",
            "          19       0.82      0.87      0.85       473\n",
            "          20       0.85      0.85      0.85       475\n",
            "          21       0.83      0.89      0.86       428\n",
            "          22       0.88      0.86      0.87       450\n",
            "          23       0.87      0.84      0.85       456\n",
            "          24       0.87      0.84      0.85       451\n",
            "          25       0.85      0.89      0.87       489\n",
            "          26       0.86      0.89      0.87       473\n",
            "          27       0.86      0.84      0.85       467\n",
            "          28       0.85      0.85      0.85       487\n",
            "          29       0.89      0.85      0.87       491\n",
            "          30       0.83      0.88      0.86       455\n",
            "          31       0.93      0.91      0.92       487\n",
            "\n",
            "    accuracy                           0.87     15000\n",
            "   macro avg       0.87      0.87      0.87     15000\n",
            "weighted avg       0.87      0.87      0.87     15000\n",
            "\n",
            "[[462  38   0 ...   0   0   0]\n",
            " [ 26 438  12 ...   0   0   0]\n",
            " [  0  41 408 ...   0   0   0]\n",
            " ...\n",
            " [  0   0   0 ... 416  38   0]\n",
            " [  0   0   0 ...  22 401  32]\n",
            " [  0   0   0 ...   0  43 444]]\n",
            "\n",
            "\n",
            "\n",
            "******************** Model: y ********************\n",
            "              precision    recall  f1-score   support\n",
            "\n",
            "           0       0.94      0.93      0.94       474\n",
            "           1       0.87      0.90      0.88       496\n",
            "           2       0.88      0.85      0.86       448\n",
            "           3       0.86      0.89      0.87       481\n",
            "           4       0.89      0.86      0.88       474\n",
            "           5       0.88      0.85      0.86       462\n",
            "           6       0.87      0.87      0.87       450\n",
            "           7       0.88      0.87      0.87       462\n",
            "           8       0.84      0.86      0.85       452\n",
            "           9       0.87      0.90      0.88       480\n",
            "          10       0.87      0.91      0.89       443\n",
            "          11       0.90      0.88      0.89       450\n",
            "          12       0.92      0.89      0.90       532\n",
            "          13       0.86      0.86      0.86       449\n",
            "          14       0.85      0.87      0.86       480\n",
            "          15       0.88      0.87      0.87       452\n",
            "          16       0.88      0.92      0.90       477\n",
            "          17       0.94      0.84      0.89       508\n",
            "          18       0.86      0.87      0.86       456\n",
            "          19       0.87      0.88      0.88       488\n",
            "          20       0.89      0.89      0.89       473\n",
            "          21       0.87      0.89      0.88       480\n",
            "          22       0.85      0.84      0.85       455\n",
            "          23       0.84      0.87      0.86       455\n",
            "          24       0.89      0.86      0.88       458\n",
            "          25       0.89      0.88      0.88       480\n",
            "          26       0.88      0.89      0.88       462\n",
            "          27       0.87      0.88      0.88       428\n",
            "          28       0.90      0.89      0.89       458\n",
            "          29       0.88      0.90      0.89       492\n",
            "          30       0.86      0.84      0.85       471\n",
            "          31       0.91      0.93      0.92       474\n",
            "\n",
            "    accuracy                           0.88     15000\n",
            "   macro avg       0.88      0.88      0.88     15000\n",
            "weighted avg       0.88      0.88      0.88     15000\n",
            "\n",
            "[[441  33   0 ...   0   0   0]\n",
            " [ 28 445  23 ...   0   0   0]\n",
            " [  0  35 379 ...   0   0   0]\n",
            " ...\n",
            " [  0   0   0 ... 442  30   0]\n",
            " [  0   0   0 ...  33 397  41]\n",
            " [  0   0   0 ...   0  34 440]]\n",
            "\n",
            "\n",
            "\n"
          ],
          "name": "stdout"
        }
      ]
    },
    {
      "cell_type": "markdown",
      "metadata": {
        "id": "Srub9cvgpbsC"
      },
      "source": [
        "### Concept to Output Model\n",
        "\n",
        "In this section, we will train concept to output model. The model will take concepts as input and shape as output. We follow *Independent Bottleneck* training procedure."
      ]
    },
    {
      "cell_type": "code",
      "metadata": {
        "id": "IFnENpjkpb5s",
        "colab": {
          "base_uri": "https://localhost:8080/"
        },
        "outputId": "61cb3b64-f736-4302-ce1c-25335ebd7718"
      },
      "source": [
        "# Build and train model\n",
        "com = LogisticRegression()\n",
        "com.fit(c_train, y_train)"
      ],
      "execution_count": 7,
      "outputs": [
        {
          "output_type": "execute_result",
          "data": {
            "text/plain": [
              "LogisticRegression(C=1.0, class_weight=None, dual=False, fit_intercept=True,\n",
              "                   intercept_scaling=1, l1_ratio=None, max_iter=100,\n",
              "                   multi_class='auto', n_jobs=None, penalty='l2',\n",
              "                   random_state=None, solver='lbfgs', tol=0.0001, verbose=0,\n",
              "                   warm_start=False)"
            ]
          },
          "metadata": {
            "tags": []
          },
          "execution_count": 7
        }
      ]
    },
    {
      "cell_type": "code",
      "metadata": {
        "colab": {
          "base_uri": "https://localhost:8080/"
        },
        "id": "ZXZkl2bME6lV",
        "outputId": "53170308-02e1-4aa1-e5fc-5c7f267a20db"
      },
      "source": [
        "y_test_pred = com.predict(c_test)\n",
        "print(classification_report(y_test_pred, y_test))\n",
        "print(confusion_matrix(y_test_pred, y_test))"
      ],
      "execution_count": 8,
      "outputs": [
        {
          "output_type": "stream",
          "text": [
            "              precision    recall  f1-score   support\n",
            "\n",
            "           0       1.00      1.00      1.00      5091\n",
            "           1       1.00      1.00      1.00      5017\n",
            "           2       1.00      1.00      1.00      4892\n",
            "\n",
            "    accuracy                           1.00     15000\n",
            "   macro avg       1.00      1.00      1.00     15000\n",
            "weighted avg       1.00      1.00      1.00     15000\n",
            "\n",
            "[[5091    0    0]\n",
            " [   0 5017    0]\n",
            " [   0    0 4892]]\n"
          ],
          "name": "stdout"
        }
      ]
    },
    {
      "cell_type": "markdown",
      "metadata": {
        "id": "ZTCRM1UnxLEL"
      },
      "source": [
        "## Data Collection\n",
        "\n",
        "This section performs various experiments to collect data using various methods further discussed in paper and thesis."
      ]
    },
    {
      "cell_type": "code",
      "metadata": {
        "id": "g1gc5wrp_2yz"
      },
      "source": [
        "# Load model\n",
        "path = \"drive/MyDrive/multitask_saved_model/\"\n",
        "multitask_model = keras.models.load_model(path)"
      ],
      "execution_count": 8,
      "outputs": []
    },
    {
      "cell_type": "code",
      "metadata": {
        "colab": {
          "base_uri": "https://localhost:8080/"
        },
        "id": "Fz5vl7nJveHu",
        "outputId": "f80d27f3-172f-4ee4-ee66-8073ba4420b4"
      },
      "source": [
        "# Sanity check (ensure no false positive)\n",
        "# For original data, no shift should be detected\n",
        "test_statistic, p_val, detection_result = single_experiment(multitask_model,\n",
        "                                                            \"BBSDs_concepts\",\n",
        "                                                            x_valid, y_valid,\n",
        "                                                            x_test_flatten,\n",
        "                                                            y_test,\n",
        "                                                            ORIGINAL_SHAPE)\n",
        "print(detection_result)"
      ],
      "execution_count": 9,
      "outputs": [
        {
          "output_type": "stream",
          "text": [
            "{'color': 0, 'shape': 0, 'scale': 0, 'rotation': 0, 'x': 0, 'y': 0}\n"
          ],
          "name": "stdout"
        }
      ]
    },
    {
      "cell_type": "markdown",
      "metadata": {
        "id": "2RHX5DFmyGj-"
      },
      "source": [
        "### BBSDs (Concepts)\n",
        "\n",
        "Use the softmax outputs of each concept predictions as the reduced representation."
      ]
    },
    {
      "cell_type": "code",
      "metadata": {
        "id": "luLGEUvf-usl"
      },
      "source": [
        "method = \"BBSDs_concepts\""
      ],
      "execution_count": 10,
      "outputs": []
    },
    {
      "cell_type": "markdown",
      "metadata": {
        "id": "thHTx2SU-rMJ"
      },
      "source": [
        "#### Knockout Shift"
      ]
    },
    {
      "cell_type": "code",
      "metadata": {
        "id": "jfb0Qnmb-28Y"
      },
      "source": [
        "shift_type = \"ko\"\n",
        "shift_type_params = {\"cl\": 0}"
      ],
      "execution_count": 11,
      "outputs": []
    },
    {
      "cell_type": "code",
      "metadata": {
        "colab": {
          "base_uri": "https://localhost:8080/",
          "height": 115,
          "referenced_widgets": [
            "8887688878624986860fdd9e261510ee",
            "aaebb58f33b9494e8acc8981e4caab4e",
            "2b26c1d1a53e4620add879f916905a36",
            "3d7257970c644943b0dcbc7b63a862db",
            "840ce8bb63df4a2ab37f59e217328c51",
            "f10cad5890044d4e8321b85fa09a6449",
            "1e9a80cdb044404c87118043c6240df4",
            "8798bef03f1c401db61b84ddbe4b4555",
            "685ac0c277cc4a4989d92a7a26c239ad",
            "ea06c1f2230a4f18a96f0d1a78696802",
            "1b452cdefee141efac2a55619c4781f4",
            "77151d60d8e7484a8464f90babf19009",
            "e5ce7011e59e430cb0d48cf4968e1cb5",
            "9282fa5ed9a34bc0a6577dfef213029d",
            "f75a176a6a384552b2f4c68e9042bb87",
            "bae637f98c9e4c758d21d035d9ab6479"
          ]
        },
        "id": "0HIOEGVN8YX3",
        "outputId": "52fe3c7d-b62d-4819-c2ef-58faa19b56eb"
      },
      "source": [
        "dict_result = dict()\n",
        "dict_result[\"test\"] = do_experiment_per_shift(multitask_model, method, x_valid, y_valid,\n",
        "                        c_valid, x_test_flatten, y_test, c_test, shift_type, ORIGINAL_SHAPE,\n",
        "                        shift_type_params)\n",
        "dict_result[\"valid\"] = do_experiment_per_shift(multitask_model, method, x_valid, y_valid,\n",
        "                        c_valid, x_valid_flatten, y_valid, c_valid, shift_type, ORIGINAL_SHAPE,\n",
        "                        shift_type_params)"
      ],
      "execution_count": 40,
      "outputs": [
        {
          "output_type": "display_data",
          "data": {
            "application/vnd.jupyter.widget-view+json": {
              "model_id": "8887688878624986860fdd9e261510ee",
              "version_minor": 0,
              "version_major": 2
            },
            "text/plain": [
              "HBox(children=(FloatProgress(value=0.0, max=3.0), HTML(value='')))"
            ]
          },
          "metadata": {
            "tags": []
          }
        },
        {
          "output_type": "stream",
          "text": [
            "\n"
          ],
          "name": "stdout"
        },
        {
          "output_type": "display_data",
          "data": {
            "application/vnd.jupyter.widget-view+json": {
              "model_id": "685ac0c277cc4a4989d92a7a26c239ad",
              "version_minor": 0,
              "version_major": 2
            },
            "text/plain": [
              "HBox(children=(FloatProgress(value=0.0, max=3.0), HTML(value='')))"
            ]
          },
          "metadata": {
            "tags": []
          }
        },
        {
          "output_type": "stream",
          "text": [
            "\n"
          ],
          "name": "stdout"
        }
      ]
    },
    {
      "cell_type": "code",
      "metadata": {
        "colab": {
          "base_uri": "https://localhost:8080/"
        },
        "id": "ONE_cPWS-h8l",
        "outputId": "3489333b-2d36-463c-e0cc-3072aa2b79e6"
      },
      "source": [
        "save_dict_result(shift_type, method, dict_result)"
      ],
      "execution_count": 41,
      "outputs": [
        {
          "output_type": "stream",
          "text": [
            "Saving successfully.\n"
          ],
          "name": "stdout"
        }
      ]
    },
    {
      "cell_type": "markdown",
      "metadata": {
        "id": "Kg9lVB2SCqnR"
      },
      "source": [
        "#### Concept Shift"
      ]
    },
    {
      "cell_type": "markdown",
      "metadata": {
        "id": "5E8qvfelCqnT"
      },
      "source": [
        "**Scale**"
      ]
    },
    {
      "cell_type": "code",
      "metadata": {
        "id": "X22FJ2xSCqnU"
      },
      "source": [
        "shift_type = \"concept_scale\"\n",
        "shift_type_params = {\"cl\": 0, \"concept_idx\": 2}"
      ],
      "execution_count": null,
      "outputs": []
    },
    {
      "cell_type": "code",
      "metadata": {
        "colab": {
          "base_uri": "https://localhost:8080/",
          "height": 49,
          "referenced_widgets": [
            "5c16a845873f4741b360a8eb8711f30c",
            "236feb1a894d4d859d04b9f51e67c2dc",
            "a0a5806e1b8e4057b163b0bffa2deab7",
            "0e2cfec761b04c5db6c01e6ce6507f1e",
            "13303a2215d645bb813335144c0ad7ef",
            "b9ca6148dbaf4d0cb8c6b8ff3dfae671",
            "ade18bbd5ba0408a802a163dcb66fc50",
            "dab859cb657f4a99ae9fe46b1a3b8c7e"
          ]
        },
        "id": "4X_J2uzjCqnV",
        "outputId": "bc27e2c0-eb5f-4fd6-dc32-e3efe597e06b"
      },
      "source": [
        "dict_result = dict()\n",
        "dict_result[\"test\"] = do_experiment_per_shift(multitask_model, method, x_valid, y_valid,\n",
        "                        c_valid, x_test_flatten, y_test, c_test, shift_type, ORIGINAL_SHAPE,\n",
        "                        shift_type_params)\n",
        "dict_result[\"valid\"] = do_experiment_per_shift(multitask_model, method, x_valid, y_valid,\n",
        "                        c_valid, x_valid_flatten, y_valid, c_valid, shift_type, ORIGINAL_SHAPE,\n",
        "                        shift_type_params)"
      ],
      "execution_count": null,
      "outputs": [
        {
          "output_type": "display_data",
          "data": {
            "application/vnd.jupyter.widget-view+json": {
              "model_id": "5c16a845873f4741b360a8eb8711f30c",
              "version_minor": 0,
              "version_major": 2
            },
            "text/plain": [
              "HBox(children=(FloatProgress(value=0.0, max=3.0), HTML(value='')))"
            ]
          },
          "metadata": {
            "tags": []
          }
        }
      ]
    },
    {
      "cell_type": "code",
      "metadata": {
        "id": "sYb1TPD7CqnY"
      },
      "source": [
        "save_dict_result(shift_type, method, dict_result)"
      ],
      "execution_count": null,
      "outputs": []
    },
    {
      "cell_type": "markdown",
      "metadata": {
        "id": "AqjxVXU1yYQk"
      },
      "source": [
        "### BBSDh (Concepts)\n",
        "Use the hard outputs of each concept predictions as the reduced representation."
      ]
    },
    {
      "cell_type": "code",
      "metadata": {
        "id": "RN3uw7DGASEJ"
      },
      "source": [
        "method = \"BBSDh_concepts\""
      ],
      "execution_count": 42,
      "outputs": []
    },
    {
      "cell_type": "markdown",
      "metadata": {
        "id": "6pvv83xOAUtJ"
      },
      "source": [
        "#### Knockout Shift"
      ]
    },
    {
      "cell_type": "code",
      "metadata": {
        "id": "5tjI7C6OygzK"
      },
      "source": [
        "shift_type = \"ko\"\n",
        "shift_type_params = {\"cl\": 0}"
      ],
      "execution_count": 43,
      "outputs": []
    },
    {
      "cell_type": "code",
      "metadata": {
        "id": "nU8ZyX-fyg1n",
        "colab": {
          "base_uri": "https://localhost:8080/",
          "height": 115,
          "referenced_widgets": [
            "2fb3da50cc414171b1f5c184fbd279ba",
            "775c2458a5c94f11baec00ccdcfe6dc9",
            "92d5ad7f027540d6bbecce6ee5116abc",
            "3e2468bf1a2d4534bee5f4bc369f79f8",
            "be0a557314b24a63a88cf940c72949fb",
            "062e7a2f0e124fa9bb8a760c0312f233",
            "5344c127348a4e2fbb5a2720908eb235",
            "c6ebf95da925481d9342c23b17d31639",
            "74e1624a34614712945891841f01ca0d",
            "9d1980bf10954911baab3a3f032abd8f",
            "3a3650a4991747a591d224e777e6d205",
            "3d7cb8e537f6420b80c314811a4f02d9",
            "67e77ca12a324e96a5b298cb5e3ceb8e",
            "4f56b57d9e4f4013b05efbea718daeda",
            "61b891187eb4406f97b79f58ae37eeef",
            "9de49e75c4594952b727f0ce710a89f4"
          ]
        },
        "outputId": "0a88fe10-960c-4e93-fec4-b21a09b46239"
      },
      "source": [
        "dict_result = dict()\n",
        "dict_result[\"test\"] = do_experiment_per_shift(multitask_model, method, x_valid, y_valid,\n",
        "                        c_valid, x_test_flatten, y_test, c_test, shift_type, ORIGINAL_SHAPE,\n",
        "                        shift_type_params)\n",
        "dict_result[\"valid\"] = do_experiment_per_shift(multitask_model, method, x_valid, y_valid,\n",
        "                        c_valid, x_valid_flatten, y_valid, c_valid, shift_type, ORIGINAL_SHAPE,\n",
        "                        shift_type_params)"
      ],
      "execution_count": 44,
      "outputs": [
        {
          "output_type": "display_data",
          "data": {
            "application/vnd.jupyter.widget-view+json": {
              "model_id": "2fb3da50cc414171b1f5c184fbd279ba",
              "version_minor": 0,
              "version_major": 2
            },
            "text/plain": [
              "HBox(children=(FloatProgress(value=0.0, max=3.0), HTML(value='')))"
            ]
          },
          "metadata": {
            "tags": []
          }
        },
        {
          "output_type": "stream",
          "text": [
            "\n"
          ],
          "name": "stdout"
        },
        {
          "output_type": "display_data",
          "data": {
            "application/vnd.jupyter.widget-view+json": {
              "model_id": "74e1624a34614712945891841f01ca0d",
              "version_minor": 0,
              "version_major": 2
            },
            "text/plain": [
              "HBox(children=(FloatProgress(value=0.0, max=3.0), HTML(value='')))"
            ]
          },
          "metadata": {
            "tags": []
          }
        },
        {
          "output_type": "stream",
          "text": [
            "\n"
          ],
          "name": "stdout"
        }
      ]
    },
    {
      "cell_type": "code",
      "metadata": {
        "id": "qxPhokp6yg4J",
        "colab": {
          "base_uri": "https://localhost:8080/"
        },
        "outputId": "098a05ff-3a5c-4e80-84e4-e33ccf6cbf00"
      },
      "source": [
        "save_dict_result(shift_type, method, dict_result)"
      ],
      "execution_count": 45,
      "outputs": [
        {
          "output_type": "stream",
          "text": [
            "Saving successfully.\n"
          ],
          "name": "stdout"
        }
      ]
    },
    {
      "cell_type": "markdown",
      "metadata": {
        "id": "mpxGgrycBl2Q"
      },
      "source": [
        "#### Concept Shift"
      ]
    },
    {
      "cell_type": "markdown",
      "metadata": {
        "id": "G8grauv_B__d"
      },
      "source": [
        "**Scale**"
      ]
    },
    {
      "cell_type": "code",
      "metadata": {
        "id": "QfDQlfpDBq1L"
      },
      "source": [
        "shift_type = \"concept_scale\"\n",
        "shift_type_params = {\"cl\": 0, \"concept_idx\": 2}"
      ],
      "execution_count": 16,
      "outputs": []
    },
    {
      "cell_type": "code",
      "metadata": {
        "colab": {
          "base_uri": "https://localhost:8080/",
          "height": 49,
          "referenced_widgets": [
            "5c16a845873f4741b360a8eb8711f30c",
            "236feb1a894d4d859d04b9f51e67c2dc",
            "a0a5806e1b8e4057b163b0bffa2deab7",
            "0e2cfec761b04c5db6c01e6ce6507f1e",
            "13303a2215d645bb813335144c0ad7ef",
            "b9ca6148dbaf4d0cb8c6b8ff3dfae671",
            "ade18bbd5ba0408a802a163dcb66fc50",
            "dab859cb657f4a99ae9fe46b1a3b8c7e"
          ]
        },
        "id": "phy0cd5pB72l",
        "outputId": "bc27e2c0-eb5f-4fd6-dc32-e3efe597e06b"
      },
      "source": [
        "dict_result = dict()\n",
        "dict_result[\"test\"] = do_experiment_per_shift(multitask_model, method, x_valid, y_valid,\n",
        "                        c_valid, x_test_flatten, y_test, c_test, shift_type, ORIGINAL_SHAPE,\n",
        "                        shift_type_params)\n",
        "dict_result[\"valid\"] = do_experiment_per_shift(multitask_model, method, x_valid, y_valid,\n",
        "                        c_valid, x_valid_flatten, y_valid, c_valid, shift_type, ORIGINAL_SHAPE,\n",
        "                        shift_type_params)"
      ],
      "execution_count": null,
      "outputs": [
        {
          "output_type": "display_data",
          "data": {
            "application/vnd.jupyter.widget-view+json": {
              "model_id": "5c16a845873f4741b360a8eb8711f30c",
              "version_minor": 0,
              "version_major": 2
            },
            "text/plain": [
              "HBox(children=(FloatProgress(value=0.0, max=3.0), HTML(value='')))"
            ]
          },
          "metadata": {
            "tags": []
          }
        }
      ]
    },
    {
      "cell_type": "code",
      "metadata": {
        "id": "xRF1V8crB_Oy"
      },
      "source": [
        "save_dict_result(shift_type, method, dict_result)"
      ],
      "execution_count": null,
      "outputs": []
    },
    {
      "cell_type": "markdown",
      "metadata": {
        "id": "LN4Cxa29yf2f"
      },
      "source": [
        "### BBSDs\n",
        "Standard BBSDs, use the softmax outputs of the final prediction task as the reduced representation."
      ]
    },
    {
      "cell_type": "code",
      "metadata": {
        "id": "PmnV7u_jyq6k"
      },
      "source": [
        "method = \"BBSDs\""
      ],
      "execution_count": 33,
      "outputs": []
    },
    {
      "cell_type": "code",
      "metadata": {
        "id": "Drm62L6cHV0C"
      },
      "source": [
        "# Wrap the concept bottleneck model into and end-to-end model\n",
        "# It is not necessary to use CBM, but we will use it for\n",
        "# fair comparison.\n",
        "model = FullModel(multitask_model, com)"
      ],
      "execution_count": 34,
      "outputs": []
    },
    {
      "cell_type": "markdown",
      "metadata": {
        "id": "Vs-huKQpHOp6"
      },
      "source": [
        "#### Knockout Shift"
      ]
    },
    {
      "cell_type": "code",
      "metadata": {
        "id": "bUPW6wp4yq9Q"
      },
      "source": [
        "shift_type = \"ko\"\n",
        "shift_type_params = {\"cl\": 0}"
      ],
      "execution_count": 35,
      "outputs": []
    },
    {
      "cell_type": "code",
      "metadata": {
        "id": "2BcaUWK2yrAA",
        "colab": {
          "base_uri": "https://localhost:8080/",
          "height": 115,
          "referenced_widgets": [
            "feca3acfbb2c4d42b67ad7f23b4fbc03",
            "6e1eadf176d04a84ba257987b1cecced",
            "424d8d02cfb6490680fc4249afdcb46e",
            "c509ed91bc894478a10678b3ecdb083c",
            "06b3c5fbb1bf4aac8c23ac42f7825b99",
            "5119ce6735fd4741927ea6d25ec45aae",
            "f1a7275fe9194e148c513ce8ffe9bff3",
            "51e126b4ca224f34a986ba23a83e2c53",
            "ec3b981e148340f8bb023a1a3e8d785c",
            "697dbe08bfcb4764bef9a554823091e3",
            "b566de50999c4d44ab2a61580a2f465a",
            "e4a1cf1c4fc74df4ad93898e66728a70",
            "d37069c3599146eeb21fc3759ebfc3fd",
            "a3d01d15a51448838158e18f7a0bdb11",
            "613ddc69d5aa450cb5614768865569df",
            "5fc04caaf7d7428db394a7985dee4d34"
          ]
        },
        "outputId": "16202082-e5f9-4f9e-da2b-379a24be6063"
      },
      "source": [
        "dict_result = dict()\n",
        "dict_result[\"test\"] = do_experiment_per_shift(model, method, x_valid, y_valid,\n",
        "                        c_valid, x_test_flatten, y_test, c_test, shift_type, ORIGINAL_SHAPE,\n",
        "                        shift_type_params)\n",
        "dict_result[\"valid\"] = do_experiment_per_shift(model, method, x_valid, y_valid,\n",
        "                        c_valid, x_valid_flatten, y_valid, c_valid, shift_type, ORIGINAL_SHAPE,\n",
        "                        shift_type_params)"
      ],
      "execution_count": 36,
      "outputs": [
        {
          "output_type": "display_data",
          "data": {
            "application/vnd.jupyter.widget-view+json": {
              "model_id": "feca3acfbb2c4d42b67ad7f23b4fbc03",
              "version_minor": 0,
              "version_major": 2
            },
            "text/plain": [
              "HBox(children=(FloatProgress(value=0.0, max=3.0), HTML(value='')))"
            ]
          },
          "metadata": {
            "tags": []
          }
        },
        {
          "output_type": "stream",
          "text": [
            "\n"
          ],
          "name": "stdout"
        },
        {
          "output_type": "display_data",
          "data": {
            "application/vnd.jupyter.widget-view+json": {
              "model_id": "ec3b981e148340f8bb023a1a3e8d785c",
              "version_minor": 0,
              "version_major": 2
            },
            "text/plain": [
              "HBox(children=(FloatProgress(value=0.0, max=3.0), HTML(value='')))"
            ]
          },
          "metadata": {
            "tags": []
          }
        },
        {
          "output_type": "stream",
          "text": [
            "\n"
          ],
          "name": "stdout"
        }
      ]
    },
    {
      "cell_type": "code",
      "metadata": {
        "colab": {
          "base_uri": "https://localhost:8080/"
        },
        "id": "eEs79zohTPas",
        "outputId": "8be00b0d-343e-4a88-f284-06a92d7a9f81"
      },
      "source": [
        "save_dict_result(shift_type, method, dict_result)"
      ],
      "execution_count": 37,
      "outputs": [
        {
          "output_type": "stream",
          "text": [
            "Saving successfully.\n"
          ],
          "name": "stdout"
        }
      ]
    },
    {
      "cell_type": "markdown",
      "metadata": {
        "id": "2Ud9-xJoCvzq"
      },
      "source": [
        "#### Concept Shift"
      ]
    },
    {
      "cell_type": "markdown",
      "metadata": {
        "id": "pca3SdqsCvzq"
      },
      "source": [
        "**Scale**"
      ]
    },
    {
      "cell_type": "code",
      "metadata": {
        "id": "Ym5KSOh4Cvzr"
      },
      "source": [
        "shift_type = \"concept_scale\"\n",
        "shift_type_params = {\"cl\": 0, \"concept_idx\": 2}"
      ],
      "execution_count": null,
      "outputs": []
    },
    {
      "cell_type": "code",
      "metadata": {
        "colab": {
          "base_uri": "https://localhost:8080/",
          "height": 49,
          "referenced_widgets": [
            "5c16a845873f4741b360a8eb8711f30c",
            "236feb1a894d4d859d04b9f51e67c2dc",
            "a0a5806e1b8e4057b163b0bffa2deab7",
            "0e2cfec761b04c5db6c01e6ce6507f1e",
            "13303a2215d645bb813335144c0ad7ef",
            "b9ca6148dbaf4d0cb8c6b8ff3dfae671",
            "ade18bbd5ba0408a802a163dcb66fc50",
            "dab859cb657f4a99ae9fe46b1a3b8c7e"
          ]
        },
        "id": "eYdg9XldCvzr",
        "outputId": "bc27e2c0-eb5f-4fd6-dc32-e3efe597e06b"
      },
      "source": [
        "dict_result = dict()\n",
        "dict_result[\"test\"] = do_experiment_per_shift(model, method, x_valid, y_valid,\n",
        "                        c_valid, x_test_flatten, y_test, c_test, shift_type, ORIGINAL_SHAPE,\n",
        "                        shift_type_params)\n",
        "dict_result[\"valid\"] = do_experiment_per_shift(model, method, x_valid, y_valid,\n",
        "                        c_valid, x_valid_flatten, y_valid, c_valid, shift_type, ORIGINAL_SHAPE,\n",
        "                        shift_type_params)"
      ],
      "execution_count": null,
      "outputs": [
        {
          "output_type": "display_data",
          "data": {
            "application/vnd.jupyter.widget-view+json": {
              "model_id": "5c16a845873f4741b360a8eb8711f30c",
              "version_minor": 0,
              "version_major": 2
            },
            "text/plain": [
              "HBox(children=(FloatProgress(value=0.0, max=3.0), HTML(value='')))"
            ]
          },
          "metadata": {
            "tags": []
          }
        }
      ]
    },
    {
      "cell_type": "code",
      "metadata": {
        "id": "qnUO0bW0Cvzr"
      },
      "source": [
        "save_dict_result(shift_type, method, dict_result)"
      ],
      "execution_count": null,
      "outputs": []
    },
    {
      "cell_type": "markdown",
      "metadata": {
        "id": "a1ni0Xppysl6"
      },
      "source": [
        "### BBSDh\n",
        "Standard BBSDh, use the hard prediction outputs of the final prediction task as the reduced representation."
      ]
    },
    {
      "cell_type": "code",
      "metadata": {
        "id": "g6ul3j65IWXI"
      },
      "source": [
        "method = \"BBSDh\""
      ],
      "execution_count": 26,
      "outputs": []
    },
    {
      "cell_type": "code",
      "metadata": {
        "id": "3G3ZIoLTIWfk"
      },
      "source": [
        "# Wrap the concept bottleneck model into and end-to-end model\n",
        "# It is not necessary to use CBM, but we will use it for\n",
        "# fair comparison.\n",
        "model = FullModel(multitask_model, com)"
      ],
      "execution_count": 22,
      "outputs": []
    },
    {
      "cell_type": "markdown",
      "metadata": {
        "id": "sWGWuquMIenM"
      },
      "source": [
        "#### Knockout Shift"
      ]
    },
    {
      "cell_type": "code",
      "metadata": {
        "id": "QwxPc5eEy3wn"
      },
      "source": [
        "shift_type = \"ko\"\n",
        "shift_type_params = {\"cl\": 0}"
      ],
      "execution_count": 25,
      "outputs": []
    },
    {
      "cell_type": "code",
      "metadata": {
        "id": "5-LGvZjKy3zG",
        "colab": {
          "base_uri": "https://localhost:8080/",
          "height": 115,
          "referenced_widgets": [
            "a6c2e2c0077a466b8837e53c9dcea906",
            "a410092bc9674a708742fa234742d4d0",
            "bdca7fb0a7c440449c3a057fea938a1c",
            "857bd02f20ad4f8ab7059f64f45ab423",
            "9e54285544b44988a814600f1e6e23e1",
            "548480e337a24e94b6839c551be5d389",
            "c413f2218d194a099be91b7d34115bea",
            "eca3208b459340a0b814de02361aad17",
            "cb68587cd83c4302826fe2a9080a6033",
            "57f412615f84478c9dae4dffeb6be696",
            "1a57bd0ccd5544f19a236d2a8464390a",
            "c0099cf2d16a49429d82c2199deec588",
            "990294655027490d85e35a9b6161ed0b",
            "585ee2f457d64994918415b556faaee9",
            "4d58ef9d0dde49e18cd023172fad531c",
            "3e61ec2be9174010b83306e73bd48929"
          ]
        },
        "outputId": "fbb9c5d5-a75a-43e7-88ab-44547547ab2c"
      },
      "source": [
        "dict_result = dict()\n",
        "dict_result[\"test\"] = do_experiment_per_shift(model, method, x_valid, y_valid,\n",
        "                        c_valid, x_test_flatten, y_test, c_test, shift_type, ORIGINAL_SHAPE,\n",
        "                        shift_type_params)\n",
        "dict_result[\"valid\"] = do_experiment_per_shift(model, method, x_valid, y_valid,\n",
        "                        c_valid, x_valid_flatten, y_valid, c_valid, shift_type, ORIGINAL_SHAPE,\n",
        "                        shift_type_params)"
      ],
      "execution_count": 29,
      "outputs": [
        {
          "output_type": "display_data",
          "data": {
            "application/vnd.jupyter.widget-view+json": {
              "model_id": "a6c2e2c0077a466b8837e53c9dcea906",
              "version_minor": 0,
              "version_major": 2
            },
            "text/plain": [
              "HBox(children=(FloatProgress(value=0.0, max=3.0), HTML(value='')))"
            ]
          },
          "metadata": {
            "tags": []
          }
        },
        {
          "output_type": "stream",
          "text": [
            "\n"
          ],
          "name": "stdout"
        },
        {
          "output_type": "display_data",
          "data": {
            "application/vnd.jupyter.widget-view+json": {
              "model_id": "cb68587cd83c4302826fe2a9080a6033",
              "version_minor": 0,
              "version_major": 2
            },
            "text/plain": [
              "HBox(children=(FloatProgress(value=0.0, max=3.0), HTML(value='')))"
            ]
          },
          "metadata": {
            "tags": []
          }
        },
        {
          "output_type": "stream",
          "text": [
            "\n"
          ],
          "name": "stdout"
        }
      ]
    },
    {
      "cell_type": "code",
      "metadata": {
        "colab": {
          "base_uri": "https://localhost:8080/"
        },
        "id": "oC3jDkggTIHs",
        "outputId": "eb81e4e5-5e61-4c29-d5b5-8d43ce1ad00b"
      },
      "source": [
        "save_dict_result(shift_type, method, dict_result)"
      ],
      "execution_count": 32,
      "outputs": [
        {
          "output_type": "stream",
          "text": [
            "Saving successfully.\n"
          ],
          "name": "stdout"
        }
      ]
    },
    {
      "cell_type": "markdown",
      "metadata": {
        "id": "aK5gn_sSCxTW"
      },
      "source": [
        "#### Concept Shift"
      ]
    },
    {
      "cell_type": "markdown",
      "metadata": {
        "id": "UuzJgip-CxTX"
      },
      "source": [
        "**Scale**"
      ]
    },
    {
      "cell_type": "code",
      "metadata": {
        "id": "TvBq6AXlCxTY"
      },
      "source": [
        "shift_type = \"concept_scale\"\n",
        "shift_type_params = {\"cl\": 0, \"concept_idx\": 2}"
      ],
      "execution_count": null,
      "outputs": []
    },
    {
      "cell_type": "code",
      "metadata": {
        "colab": {
          "base_uri": "https://localhost:8080/",
          "height": 49,
          "referenced_widgets": [
            "5c16a845873f4741b360a8eb8711f30c",
            "236feb1a894d4d859d04b9f51e67c2dc",
            "a0a5806e1b8e4057b163b0bffa2deab7",
            "0e2cfec761b04c5db6c01e6ce6507f1e",
            "13303a2215d645bb813335144c0ad7ef",
            "b9ca6148dbaf4d0cb8c6b8ff3dfae671",
            "ade18bbd5ba0408a802a163dcb66fc50",
            "dab859cb657f4a99ae9fe46b1a3b8c7e"
          ]
        },
        "id": "gJtuvBQSCxTZ",
        "outputId": "bc27e2c0-eb5f-4fd6-dc32-e3efe597e06b"
      },
      "source": [
        "dict_result = dict()\n",
        "dict_result[\"test\"] = do_experiment_per_shift(model, method, x_valid, y_valid,\n",
        "                        c_valid, x_test_flatten, y_test, c_test, shift_type, ORIGINAL_SHAPE,\n",
        "                        shift_type_params)\n",
        "dict_result[\"valid\"] = do_experiment_per_shift(model, method, x_valid, y_valid,\n",
        "                        c_valid, x_valid_flatten, y_valid, c_valid, shift_type, ORIGINAL_SHAPE,\n",
        "                        shift_type_params)"
      ],
      "execution_count": null,
      "outputs": [
        {
          "output_type": "display_data",
          "data": {
            "application/vnd.jupyter.widget-view+json": {
              "model_id": "5c16a845873f4741b360a8eb8711f30c",
              "version_minor": 0,
              "version_major": 2
            },
            "text/plain": [
              "HBox(children=(FloatProgress(value=0.0, max=3.0), HTML(value='')))"
            ]
          },
          "metadata": {
            "tags": []
          }
        }
      ]
    },
    {
      "cell_type": "code",
      "metadata": {
        "id": "txmD9g79CxTa"
      },
      "source": [
        "save_dict_result(shift_type, method, dict_result)"
      ],
      "execution_count": null,
      "outputs": []
    }
  ]
}