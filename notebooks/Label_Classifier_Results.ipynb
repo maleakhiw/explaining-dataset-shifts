{
  "nbformat": 4,
  "nbformat_minor": 0,
  "metadata": {
    "colab": {
      "name": "Label Classifier - Results.ipynb",
      "provenance": [],
      "collapsed_sections": [
        "OlxWJv-sixgy",
        "JS5una-1KreK",
        "fUv0cYMxgFhy",
        "4qAwT2hJMLCi",
        "f4YPiLwwLDuP",
        "eRBG-30aBquJ",
        "Qy5XHAwJCBAA"
      ]
    },
    "kernelspec": {
      "name": "python3",
      "display_name": "Python 3"
    }
  },
  "cells": [
    {
      "cell_type": "markdown",
      "metadata": {
        "id": "EFDchZfodnch"
      },
      "source": [
        "# Label Classifier (dSprites): Results\n",
        "\n",
        "This notebook contains code used to present experiment results for the dSprites dataset."
      ]
    },
    {
      "cell_type": "code",
      "metadata": {
        "id": "pBETb2a0AuOa"
      },
      "source": [
        "import seaborn as sns\n",
        "import matplotlib.style as style\n",
        "import numpy as np\n",
        "import torch\n",
        "import random\n",
        "from scipy.stats import ks_2samp, binom_test, chisquare, chi2_contingency, anderson_ksamp\n",
        "from scipy.spatial import distance\n",
        "import matplotlib.pyplot as plt\n",
        "import seaborn as sns\n",
        "from sklearn.model_selection import train_test_split\n",
        "import scipy.io\n",
        "from math import ceil\n",
        "from copy import deepcopy\n",
        "import pandas as pd\n",
        "import tensorflow as tf\n",
        "from tensorflow.keras.preprocessing.image import ImageDataGenerator\n",
        "from tensorflow.keras.utils import to_categorical\n",
        "from tensorflow.keras.callbacks import ReduceLROnPlateau, EarlyStopping\n",
        "from tensorflow.keras import optimizers\n",
        "from sklearn.linear_model import LogisticRegression\n",
        "from sklearn.metrics import confusion_matrix, classification_report, accuracy_score, plot_confusion_matrix\n",
        "from sklearn.tree import DecisionTreeClassifier\n",
        "from tensorflow.python import keras\n",
        "from tensorflow.python.keras import layers\n",
        "from tqdm.notebook import tqdm\n",
        "import pickle\n",
        "from IPython.display import display, Markdown, Latex\n",
        "from collections import Counter\n",
        "import plotly.express as px\n",
        "import plotly.graph_objects as go\n",
        "\n",
        "# Remove warnings\n",
        "import warnings\n",
        "warnings.filterwarnings('ignore')\n",
        "style.use('fivethirtyeight')"
      ],
      "execution_count": 35,
      "outputs": []
    },
    {
      "cell_type": "code",
      "metadata": {
        "colab": {
          "base_uri": "https://localhost:8080/"
        },
        "id": "zkU9Hu7bdzBu",
        "outputId": "693034fe-cc51-4918-d7a5-63ebec037aca"
      },
      "source": [
        "# Mount drive (if needed)\n",
        "from google.colab import drive\n",
        "drive.mount('/content/drive')"
      ],
      "execution_count": 2,
      "outputs": [
        {
          "output_type": "stream",
          "text": [
            "Mounted at /content/drive\n"
          ],
          "name": "stdout"
        }
      ]
    },
    {
      "cell_type": "code",
      "metadata": {
        "id": "oZ2Sa0qBd1JL"
      },
      "source": [
        "# Run utility functions\n",
        "%run drive/MyDrive/Colab\\ Notebooks/MPhil\\ Project/Utilities.ipynb\n",
        "%run drive/MyDrive/Colab\\ Notebooks/MPhil\\ Project/Experiment\\ Utilities.ipynb"
      ],
      "execution_count": 3,
      "outputs": []
    },
    {
      "cell_type": "markdown",
      "metadata": {
        "id": "V29XrEyod4uM"
      },
      "source": [
        "## Experiment Results"
      ]
    },
    {
      "cell_type": "code",
      "metadata": {
        "id": "fln2KeZPjCxR"
      },
      "source": [
        "concept_names = [\"color\", \"shape\", \"scale\", \"rotation\", \"x\", \"y\"]"
      ],
      "execution_count": 4,
      "outputs": []
    },
    {
      "cell_type": "markdown",
      "metadata": {
        "id": "5gmjc8AUgCCc"
      },
      "source": [
        "### Bar plots\n",
        "\n",
        "The bar plots depicts the test statistics for each concept when making detections. The bar plots show how significant each concept is affected by the dataset shifts -- the more affected the concept, the higher the test statistics. We display these bar plots for all combinations of configurations (shift types, shift intensities, # of test samples, proportion of test data affected by shift)."
      ]
    },
    {
      "cell_type": "markdown",
      "metadata": {
        "id": "OlxWJv-sixgy"
      },
      "source": [
        "#### Knockout Shift"
      ]
    },
    {
      "cell_type": "code",
      "metadata": {
        "colab": {
          "base_uri": "https://localhost:8080/"
        },
        "id": "ONlDpjuRf8nC",
        "outputId": "74a90b85-9dc3-45fe-ff60-95a9bf4cfb5d"
      },
      "source": [
        "shift_type = \"ko\"\n",
        "dict_result_bbsds = load_dict_result(shift_type, \"BBSDs_concepts\")\n",
        "dict_result_bbsdh = load_dict_result(shift_type, \"BBSDh_concepts\")"
      ],
      "execution_count": 5,
      "outputs": [
        {
          "output_type": "stream",
          "text": [
            "Loading file successfully.\n",
            "Loading file successfully.\n"
          ],
          "name": "stdout"
        }
      ]
    },
    {
      "cell_type": "code",
      "metadata": {
        "colab": {
          "base_uri": "https://localhost:8080/",
          "height": 1000
        },
        "id": "1wodmZ4Df8pQ",
        "outputId": "9a8f6b0e-9cb2-4ac3-e58b-90dfecaeb8fb"
      },
      "source": [
        "## Consider \"bigger\" and most significant shifts\n",
        "shift_intensity_list = [\"medium\", \"large\"]\n",
        "shift_prop_list = [1.0] # does not matter in knockout\n",
        "test_sample_list = [500, 1000, 10000]\n",
        "barplot_test_statistics(dict_result_bbsds, dict_result_bbsdh,\n",
        "                        concept_names, shift_intensity_list, \n",
        "                        shift_prop_list, test_sample_list)"
      ],
      "execution_count": 6,
      "outputs": [
        {
          "output_type": "display_data",
          "data": {
            "text/markdown": "---",
            "text/plain": [
              "<IPython.core.display.Markdown object>"
            ]
          },
          "metadata": {
            "tags": []
          }
        },
        {
          "output_type": "display_data",
          "data": {
            "text/markdown": "**Shift intensity**: medium",
            "text/plain": [
              "<IPython.core.display.Markdown object>"
            ]
          },
          "metadata": {
            "tags": []
          }
        },
        {
          "output_type": "display_data",
          "data": {
            "text/markdown": "**# Test sample**: 500",
            "text/plain": [
              "<IPython.core.display.Markdown object>"
            ]
          },
          "metadata": {
            "tags": []
          }
        },
        {
          "output_type": "display_data",
          "data": {
            "text/markdown": "**Detection valid (BBSDs)**: True",
            "text/plain": [
              "<IPython.core.display.Markdown object>"
            ]
          },
          "metadata": {
            "tags": []
          }
        },
        {
          "output_type": "display_data",
          "data": {
            "text/markdown": "**Detection valid (BBSDh)**: True",
            "text/plain": [
              "<IPython.core.display.Markdown object>"
            ]
          },
          "metadata": {
            "tags": []
          }
        },
        {
          "output_type": "display_data",
          "data": {
            "text/markdown": "**Detection test (BBSDs)**: True",
            "text/plain": [
              "<IPython.core.display.Markdown object>"
            ]
          },
          "metadata": {
            "tags": []
          }
        },
        {
          "output_type": "display_data",
          "data": {
            "text/markdown": "**Detection test (BBSDh)**: True",
            "text/plain": [
              "<IPython.core.display.Markdown object>"
            ]
          },
          "metadata": {
            "tags": []
          }
        },
        {
          "output_type": "stream",
          "text": [
            "\n",
            "\n"
          ],
          "name": "stdout"
        },
        {
          "output_type": "display_data",
          "data": {
            "image/png": "[encoded data removed]",
            "text/plain": [
              "<Figure size 864x288 with 2 Axes>"
            ]
          },
          "metadata": {
            "tags": []
          }
        },
        {
          "output_type": "display_data",
          "data": {
            "text/markdown": "---",
            "text/plain": [
              "<IPython.core.display.Markdown object>"
            ]
          },
          "metadata": {
            "tags": []
          }
        },
        {
          "output_type": "display_data",
          "data": {
            "text/markdown": "**Shift intensity**: medium",
            "text/plain": [
              "<IPython.core.display.Markdown object>"
            ]
          },
          "metadata": {
            "tags": []
          }
        },
        {
          "output_type": "display_data",
          "data": {
            "text/markdown": "**# Test sample**: 1000",
            "text/plain": [
              "<IPython.core.display.Markdown object>"
            ]
          },
          "metadata": {
            "tags": []
          }
        },
        {
          "output_type": "display_data",
          "data": {
            "text/markdown": "**Detection valid (BBSDs)**: True",
            "text/plain": [
              "<IPython.core.display.Markdown object>"
            ]
          },
          "metadata": {
            "tags": []
          }
        },
        {
          "output_type": "display_data",
          "data": {
            "text/markdown": "**Detection valid (BBSDh)**: True",
            "text/plain": [
              "<IPython.core.display.Markdown object>"
            ]
          },
          "metadata": {
            "tags": []
          }
        },
        {
          "output_type": "display_data",
          "data": {
            "text/markdown": "**Detection test (BBSDs)**: True",
            "text/plain": [
              "<IPython.core.display.Markdown object>"
            ]
          },
          "metadata": {
            "tags": []
          }
        },
        {
          "output_type": "display_data",
          "data": {
            "text/markdown": "**Detection test (BBSDh)**: True",
            "text/plain": [
              "<IPython.core.display.Markdown object>"
            ]
          },
          "metadata": {
            "tags": []
          }
        },
        {
          "output_type": "stream",
          "text": [
            "\n",
            "\n"
          ],
          "name": "stdout"
        },
        {
          "output_type": "display_data",
          "data": {
            "image/png": "[encoded data removed]",
            "text/plain": [
              "<Figure size 864x288 with 2 Axes>"
            ]
          },
          "metadata": {
            "tags": []
          }
        },
        {
          "output_type": "display_data",
          "data": {
            "text/markdown": "---",
            "text/plain": [
              "<IPython.core.display.Markdown object>"
            ]
          },
          "metadata": {
            "tags": []
          }
        },
        {
          "output_type": "display_data",
          "data": {
            "text/markdown": "**Shift intensity**: medium",
            "text/plain": [
              "<IPython.core.display.Markdown object>"
            ]
          },
          "metadata": {
            "tags": []
          }
        },
        {
          "output_type": "display_data",
          "data": {
            "text/markdown": "**# Test sample**: 10000",
            "text/plain": [
              "<IPython.core.display.Markdown object>"
            ]
          },
          "metadata": {
            "tags": []
          }
        },
        {
          "output_type": "display_data",
          "data": {
            "text/markdown": "**Detection valid (BBSDs)**: True",
            "text/plain": [
              "<IPython.core.display.Markdown object>"
            ]
          },
          "metadata": {
            "tags": []
          }
        },
        {
          "output_type": "display_data",
          "data": {
            "text/markdown": "**Detection valid (BBSDh)**: True",
            "text/plain": [
              "<IPython.core.display.Markdown object>"
            ]
          },
          "metadata": {
            "tags": []
          }
        },
        {
          "output_type": "display_data",
          "data": {
            "text/markdown": "**Detection test (BBSDs)**: True",
            "text/plain": [
              "<IPython.core.display.Markdown object>"
            ]
          },
          "metadata": {
            "tags": []
          }
        },
        {
          "output_type": "display_data",
          "data": {
            "text/markdown": "**Detection test (BBSDh)**: True",
            "text/plain": [
              "<IPython.core.display.Markdown object>"
            ]
          },
          "metadata": {
            "tags": []
          }
        },
        {
          "output_type": "stream",
          "text": [
            "\n",
            "\n"
          ],
          "name": "stdout"
        },
        {
          "output_type": "display_data",
          "data": {
            "image/png": "[encoded data removed]",
            "text/plain": [
              "<Figure size 864x288 with 2 Axes>"
            ]
          },
          "metadata": {
            "tags": []
          }
        },
        {
          "output_type": "display_data",
          "data": {
            "text/markdown": "---",
            "text/plain": [
              "<IPython.core.display.Markdown object>"
            ]
          },
          "metadata": {
            "tags": []
          }
        },
        {
          "output_type": "display_data",
          "data": {
            "text/markdown": "**Shift intensity**: large",
            "text/plain": [
              "<IPython.core.display.Markdown object>"
            ]
          },
          "metadata": {
            "tags": []
          }
        },
        {
          "output_type": "display_data",
          "data": {
            "text/markdown": "**# Test sample**: 500",
            "text/plain": [
              "<IPython.core.display.Markdown object>"
            ]
          },
          "metadata": {
            "tags": []
          }
        },
        {
          "output_type": "display_data",
          "data": {
            "text/markdown": "**Detection valid (BBSDs)**: True",
            "text/plain": [
              "<IPython.core.display.Markdown object>"
            ]
          },
          "metadata": {
            "tags": []
          }
        },
        {
          "output_type": "display_data",
          "data": {
            "text/markdown": "**Detection valid (BBSDh)**: True",
            "text/plain": [
              "<IPython.core.display.Markdown object>"
            ]
          },
          "metadata": {
            "tags": []
          }
        },
        {
          "output_type": "display_data",
          "data": {
            "text/markdown": "**Detection test (BBSDs)**: True",
            "text/plain": [
              "<IPython.core.display.Markdown object>"
            ]
          },
          "metadata": {
            "tags": []
          }
        },
        {
          "output_type": "display_data",
          "data": {
            "text/markdown": "**Detection test (BBSDh)**: True",
            "text/plain": [
              "<IPython.core.display.Markdown object>"
            ]
          },
          "metadata": {
            "tags": []
          }
        },
        {
          "output_type": "stream",
          "text": [
            "\n",
            "\n"
          ],
          "name": "stdout"
        },
        {
          "output_type": "display_data",
          "data": {
            "image/png": "[encoded data removed]",
            "text/plain": [
              "<Figure size 864x288 with 2 Axes>"
            ]
          },
          "metadata": {
            "tags": []
          }
        },
        {
          "output_type": "display_data",
          "data": {
            "text/markdown": "---",
            "text/plain": [
              "<IPython.core.display.Markdown object>"
            ]
          },
          "metadata": {
            "tags": []
          }
        },
        {
          "output_type": "display_data",
          "data": {
            "text/markdown": "**Shift intensity**: large",
            "text/plain": [
              "<IPython.core.display.Markdown object>"
            ]
          },
          "metadata": {
            "tags": []
          }
        },
        {
          "output_type": "display_data",
          "data": {
            "text/markdown": "**# Test sample**: 1000",
            "text/plain": [
              "<IPython.core.display.Markdown object>"
            ]
          },
          "metadata": {
            "tags": []
          }
        },
        {
          "output_type": "display_data",
          "data": {
            "text/markdown": "**Detection valid (BBSDs)**: True",
            "text/plain": [
              "<IPython.core.display.Markdown object>"
            ]
          },
          "metadata": {
            "tags": []
          }
        },
        {
          "output_type": "display_data",
          "data": {
            "text/markdown": "**Detection valid (BBSDh)**: True",
            "text/plain": [
              "<IPython.core.display.Markdown object>"
            ]
          },
          "metadata": {
            "tags": []
          }
        },
        {
          "output_type": "display_data",
          "data": {
            "text/markdown": "**Detection test (BBSDs)**: True",
            "text/plain": [
              "<IPython.core.display.Markdown object>"
            ]
          },
          "metadata": {
            "tags": []
          }
        },
        {
          "output_type": "display_data",
          "data": {
            "text/markdown": "**Detection test (BBSDh)**: True",
            "text/plain": [
              "<IPython.core.display.Markdown object>"
            ]
          },
          "metadata": {
            "tags": []
          }
        },
        {
          "output_type": "stream",
          "text": [
            "\n",
            "\n"
          ],
          "name": "stdout"
        },
        {
          "output_type": "display_data",
          "data": {
            "image/png": "[encoded data removed]",
            "text/plain": [
              "<Figure size 864x288 with 2 Axes>"
            ]
          },
          "metadata": {
            "tags": []
          }
        },
        {
          "output_type": "display_data",
          "data": {
            "text/markdown": "---",
            "text/plain": [
              "<IPython.core.display.Markdown object>"
            ]
          },
          "metadata": {
            "tags": []
          }
        },
        {
          "output_type": "display_data",
          "data": {
            "text/markdown": "**Shift intensity**: large",
            "text/plain": [
              "<IPython.core.display.Markdown object>"
            ]
          },
          "metadata": {
            "tags": []
          }
        },
        {
          "output_type": "display_data",
          "data": {
            "text/markdown": "**# Test sample**: 10000",
            "text/plain": [
              "<IPython.core.display.Markdown object>"
            ]
          },
          "metadata": {
            "tags": []
          }
        },
        {
          "output_type": "display_data",
          "data": {
            "text/markdown": "**Detection valid (BBSDs)**: True",
            "text/plain": [
              "<IPython.core.display.Markdown object>"
            ]
          },
          "metadata": {
            "tags": []
          }
        },
        {
          "output_type": "display_data",
          "data": {
            "text/markdown": "**Detection valid (BBSDh)**: True",
            "text/plain": [
              "<IPython.core.display.Markdown object>"
            ]
          },
          "metadata": {
            "tags": []
          }
        },
        {
          "output_type": "display_data",
          "data": {
            "text/markdown": "**Detection test (BBSDs)**: True",
            "text/plain": [
              "<IPython.core.display.Markdown object>"
            ]
          },
          "metadata": {
            "tags": []
          }
        },
        {
          "output_type": "display_data",
          "data": {
            "text/markdown": "**Detection test (BBSDh)**: True",
            "text/plain": [
              "<IPython.core.display.Markdown object>"
            ]
          },
          "metadata": {
            "tags": []
          }
        },
        {
          "output_type": "stream",
          "text": [
            "\n",
            "\n"
          ],
          "name": "stdout"
        },
        {
          "output_type": "display_data",
          "data": {
            "image/png": "[encoded data removed]",
            "text/plain": [
              "<Figure size 864x288 with 2 Axes>"
            ]
          },
          "metadata": {
            "tags": []
          }
        }
      ]
    },
    {
      "cell_type": "markdown",
      "metadata": {
        "id": "0Yp_A1mjB-Hz"
      },
      "source": [
        "*Observation*: We observed that our algorithm can detect the concept (**shape**) that is most significantly affected by the shift correctly in the larger shifts scenario -- those affecting large proportion of test data, high intensity, and with considerable amount of given test sample which we have access to detect the shift."
      ]
    },
    {
      "cell_type": "markdown",
      "metadata": {
        "id": "JS5una-1KreK"
      },
      "source": [
        "#### Concept Shift"
      ]
    },
    {
      "cell_type": "code",
      "metadata": {
        "id": "eJRxL7CnF5oc"
      },
      "source": [
        "# List of concept shifts that we consider\n",
        "shift_type_list = [\"concept_scale\",\n",
        "                   [\"concept_shape\", \"concept_scale\"],\n",
        "                   \"concept_x\",\n",
        "                   \"concept_y\",\n",
        "                   [\"concept_x\", \"concept_y\"],\n",
        "                   [\"concept_x\", \"concept_y\", \"scale\"],\n",
        "                   [\"concept_x\", \"concept_y\", \"scale\", \"shape\"]\n",
        "]"
      ],
      "execution_count": 14,
      "outputs": []
    },
    {
      "cell_type": "code",
      "metadata": {
        "id": "qZcoh-HXKj6p"
      },
      "source": [
        "for shift_type in shift_type_list:\n",
        "    # Load\n",
        "    dict_result_bbsds = load_dict_result(shift_type, \"BBSDs_concepts\")\n",
        "    dict_result_bbsdh = load_dict_result(shift_type, \"BBSDh_concepts\")\n",
        "\n",
        "    # Show shift type before drawing histograms \n",
        "    print()\n",
        "    display(Markdown(f\"**Shift type**: {shift_type}\"))\n",
        "    print() \n",
        "\n",
        "    # Draw histograms\n",
        "    ## Consider \"bigger\" and most significant shifts\n",
        "    shift_intensity_list = [\"medium\", \"large\"]\n",
        "    shift_prop_list = [1.0] # does not matter in knockout\n",
        "    test_sample_list = [500, 1000, 10000]\n",
        "    barplot_test_statistics(dict_result_bbsds, dict_result_bbsdh,\n",
        "                            concept_names, shift_intensity_list, \n",
        "                            shift_prop_list, test_sample_list)"
      ],
      "execution_count": 16,
      "outputs": []
    },
    {
      "cell_type": "markdown",
      "metadata": {
        "id": "fUv0cYMxgFhy"
      },
      "source": [
        "### Tables\n",
        "\n",
        "The tables depict detection accuracy for different sample numbers against shift intensity and shift proportion."
      ]
    },
    {
      "cell_type": "markdown",
      "metadata": {
        "id": "4qAwT2hJMLCi"
      },
      "source": [
        "#### Knockout Shift\n",
        "*Intensities vs # of samples*  \n",
        "Here we display tables of detection accuracy as a function of shift intensities and sample size. Note that the shift proportion and shift intensity is the same in knockout shift case."
      ]
    },
    {
      "cell_type": "code",
      "metadata": {
        "id": "Y4tPbWahvCrC",
        "colab": {
          "base_uri": "https://localhost:8080/"
        },
        "outputId": "b2909005-02bd-40bb-d867-034fe962635d"
      },
      "source": [
        "shift_type = \"ko\"\n",
        "dict_result_bbsds = load_dict_result(shift_type, \"BBSDs_concepts\")"
      ],
      "execution_count": null,
      "outputs": [
        {
          "output_type": "stream",
          "text": [
            "Loading file successfully.\n"
          ],
          "name": "stdout"
        }
      ]
    },
    {
      "cell_type": "code",
      "metadata": {
        "colab": {
          "base_uri": "https://localhost:8080/",
          "height": 359
        },
        "id": "GAiQ2LbZK3tf",
        "outputId": "3ab39caa-a34c-4d7b-a54c-ada8c1ea76b7"
      },
      "source": [
        "display(Markdown(\"*Valid*\"))\n",
        "display(single_intensity_vs_samples(dict_result_bbsds[\"valid\"], is_concept=True, display_md=False))\n",
        "print(\"\\n\")\n",
        "display(Markdown(\"*Test*\"))\n",
        "display(single_intensity_vs_samples(dict_result_bbsds[\"test\"], is_concept=True, display_md=False))"
      ],
      "execution_count": null,
      "outputs": [
        {
          "output_type": "display_data",
          "data": {
            "text/markdown": "*Valid*",
            "text/plain": [
              "<IPython.core.display.Markdown object>"
            ]
          },
          "metadata": {
            "tags": []
          }
        },
        {
          "output_type": "display_data",
          "data": {
            "text/html": [
              "<div>\n",
              "<style scoped>\n",
              "    .dataframe tbody tr th:only-of-type {\n",
              "        vertical-align: middle;\n",
              "    }\n",
              "\n",
              "    .dataframe tbody tr th {\n",
              "        vertical-align: top;\n",
              "    }\n",
              "\n",
              "    .dataframe thead th {\n",
              "        text-align: right;\n",
              "    }\n",
              "</style>\n",
              "<table border=\"1\" class=\"dataframe\">\n",
              "  <thead>\n",
              "    <tr style=\"text-align: right;\">\n",
              "      <th></th>\n",
              "      <th>10</th>\n",
              "      <th>20</th>\n",
              "      <th>50</th>\n",
              "      <th>100</th>\n",
              "      <th>200</th>\n",
              "      <th>500</th>\n",
              "      <th>1000</th>\n",
              "      <th>10000</th>\n",
              "    </tr>\n",
              "  </thead>\n",
              "  <tbody>\n",
              "    <tr>\n",
              "      <th>Small</th>\n",
              "      <td>0.15</td>\n",
              "      <td>0.0</td>\n",
              "      <td>0.1</td>\n",
              "      <td>0.15</td>\n",
              "      <td>0.0</td>\n",
              "      <td>0.15</td>\n",
              "      <td>0.2</td>\n",
              "      <td>0.95</td>\n",
              "    </tr>\n",
              "    <tr>\n",
              "      <th>Medium</th>\n",
              "      <td>0.05</td>\n",
              "      <td>0.2</td>\n",
              "      <td>0.2</td>\n",
              "      <td>0.55</td>\n",
              "      <td>1.0</td>\n",
              "      <td>1.00</td>\n",
              "      <td>1.0</td>\n",
              "      <td>1.00</td>\n",
              "    </tr>\n",
              "    <tr>\n",
              "      <th>Large</th>\n",
              "      <td>0.15</td>\n",
              "      <td>0.5</td>\n",
              "      <td>1.0</td>\n",
              "      <td>1.00</td>\n",
              "      <td>1.0</td>\n",
              "      <td>1.00</td>\n",
              "      <td>1.0</td>\n",
              "      <td>1.00</td>\n",
              "    </tr>\n",
              "  </tbody>\n",
              "</table>\n",
              "</div>"
            ],
            "text/plain": [
              "        10     20     50     100    200    500    1000   10000\n",
              "Small    0.15    0.0    0.1   0.15    0.0   0.15    0.2   0.95\n",
              "Medium   0.05    0.2    0.2   0.55    1.0   1.00    1.0   1.00\n",
              "Large    0.15    0.5    1.0   1.00    1.0   1.00    1.0   1.00"
            ]
          },
          "metadata": {
            "tags": []
          }
        },
        {
          "output_type": "stream",
          "text": [
            "\n",
            "\n"
          ],
          "name": "stdout"
        },
        {
          "output_type": "display_data",
          "data": {
            "text/markdown": "*Test*",
            "text/plain": [
              "<IPython.core.display.Markdown object>"
            ]
          },
          "metadata": {
            "tags": []
          }
        },
        {
          "output_type": "display_data",
          "data": {
            "text/html": [
              "<div>\n",
              "<style scoped>\n",
              "    .dataframe tbody tr th:only-of-type {\n",
              "        vertical-align: middle;\n",
              "    }\n",
              "\n",
              "    .dataframe tbody tr th {\n",
              "        vertical-align: top;\n",
              "    }\n",
              "\n",
              "    .dataframe thead th {\n",
              "        text-align: right;\n",
              "    }\n",
              "</style>\n",
              "<table border=\"1\" class=\"dataframe\">\n",
              "  <thead>\n",
              "    <tr style=\"text-align: right;\">\n",
              "      <th></th>\n",
              "      <th>10</th>\n",
              "      <th>20</th>\n",
              "      <th>50</th>\n",
              "      <th>100</th>\n",
              "      <th>200</th>\n",
              "      <th>500</th>\n",
              "      <th>1000</th>\n",
              "      <th>10000</th>\n",
              "    </tr>\n",
              "  </thead>\n",
              "  <tbody>\n",
              "    <tr>\n",
              "      <th>Small</th>\n",
              "      <td>0.05</td>\n",
              "      <td>0.15</td>\n",
              "      <td>0.10</td>\n",
              "      <td>0.05</td>\n",
              "      <td>0.10</td>\n",
              "      <td>0.3</td>\n",
              "      <td>0.25</td>\n",
              "      <td>1.0</td>\n",
              "    </tr>\n",
              "    <tr>\n",
              "      <th>Medium</th>\n",
              "      <td>0.00</td>\n",
              "      <td>0.20</td>\n",
              "      <td>0.45</td>\n",
              "      <td>0.80</td>\n",
              "      <td>0.85</td>\n",
              "      <td>1.0</td>\n",
              "      <td>1.00</td>\n",
              "      <td>1.0</td>\n",
              "    </tr>\n",
              "    <tr>\n",
              "      <th>Large</th>\n",
              "      <td>0.15</td>\n",
              "      <td>0.70</td>\n",
              "      <td>1.00</td>\n",
              "      <td>1.00</td>\n",
              "      <td>1.00</td>\n",
              "      <td>1.0</td>\n",
              "      <td>1.00</td>\n",
              "      <td>1.0</td>\n",
              "    </tr>\n",
              "  </tbody>\n",
              "</table>\n",
              "</div>"
            ],
            "text/plain": [
              "        10     20     50     100    200    500    1000   10000\n",
              "Small    0.05   0.15   0.10   0.05   0.10    0.3   0.25    1.0\n",
              "Medium   0.00   0.20   0.45   0.80   0.85    1.0   1.00    1.0\n",
              "Large    0.15   0.70   1.00   1.00   1.00    1.0   1.00    1.0"
            ]
          },
          "metadata": {
            "tags": []
          }
        }
      ]
    },
    {
      "cell_type": "markdown",
      "metadata": {
        "id": "f4YPiLwwLDuP"
      },
      "source": [
        "#### Concept Shift"
      ]
    },
    {
      "cell_type": "code",
      "metadata": {
        "id": "RAoXy7B8Gyuc"
      },
      "source": [
        "# List of concept shifts that we consider\n",
        "shift_type_list = [\"concept_scale\",\n",
        "                   [\"concept_shape\", \"concept_scale\"],\n",
        "                   \"concept_x\",\n",
        "                   \"concept_y\",\n",
        "                   [\"concept_x\", \"concept_y\"],\n",
        "                   [\"concept_x\", \"concept_y\", \"scale\"],\n",
        "                   [\"concept_x\", \"concept_y\", \"scale\", \"shape\"]\n",
        "]"
      ],
      "execution_count": null,
      "outputs": []
    },
    {
      "cell_type": "code",
      "metadata": {
        "id": "FkqCEtNeG6RX"
      },
      "source": [
        "for shift_type in shift_type_list:\n",
        "    # Load\n",
        "    dict_result_1 = load_dict_result(shift_type, \"BBSDs_concepts\")\n",
        "    dict_result_2 = load_dict_result(shift_type, \"BBSDh_concepts\")\n",
        "    dict_result_3 = load_dict_result(shift_type, \"BBSDs\")\n",
        "    dict_result_4 = load_dict_result(shift_type, \"BBSDh\")\n",
        "    list_dict_result = [dict_result_1, dict_result_2, dict_result_3, dict_result_4]\n",
        "    list_labels = [\"BBSDs (Concepts)\", \"BBSDh (Concepts)\", \"BBSDs\", \"BBSDh\"]\n",
        "    list_is_concepts = [True, True, False, False]\n",
        "\n",
        "    # Show shift type before drawing histograms \n",
        "    print()\n",
        "    display(Markdown(f\"**Shift type**: {shift_type}\"))\n",
        "    print() \n",
        "    \n",
        "    # Draw tables\n",
        "    for is_concept, label, dict_result in zip(list_is_concepts, list_labels, list_dict_result):\n",
        "        display(Markdown(f\"**{label}**\")\n",
        "        display(Markdown(\"*Valid*\"))\n",
        "        display(single_intensity_vs_samples(dict_result[\"valid\"], is_concept=is_concept, display_md=False))\n",
        "        print(\"\\n\")\n",
        "        display(Markdown(\"*Test*\"))\n",
        "        display(single_intensity_vs_samples(dict_result, is_concept=is_concept, display_md=False))"
      ],
      "execution_count": null,
      "outputs": []
    },
    {
      "cell_type": "markdown",
      "metadata": {
        "id": "125mpelRATp0"
      },
      "source": [
        "### Detection Accuracy vs Test Samples\n",
        "The figure plot how detection accuracy changes over different test (real-world) samples provided to each shift detector method to detect whether there are shifts between data that we have and unseen real-world data. We should observe general pattern that the shift detector methods should be more accurate when given more real-world data."
      ]
    },
    {
      "cell_type": "markdown",
      "metadata": {
        "id": "eRBG-30aBquJ"
      },
      "source": [
        "#### Knockout Shift"
      ]
    },
    {
      "cell_type": "code",
      "metadata": {
        "colab": {
          "base_uri": "https://localhost:8080/"
        },
        "id": "rYvy6kanBezF",
        "outputId": "ad597b1d-e54e-429c-94f7-bd2373590cb1"
      },
      "source": [
        "shift_type = \"ko\"\n",
        "dict_result_1 = load_dict_result(shift_type, \"BBSDs_concepts\")\n",
        "dict_result_2 = load_dict_result(shift_type, \"BBSDh_concepts\")\n",
        "dict_result_3 = load_dict_result(shift_type, \"BBSDs\")\n",
        "dict_result_4 = load_dict_result(shift_type, \"BBSDh\")\n",
        "list_dict_result = [dict_result_1, dict_result_2, dict_result_3, dict_result_4]\n",
        "list_is_concepts = [True, True, False, False]\n",
        "list_labels = [\"BBSDs (Concepts)\", \"BBSDh (Concepts)\", \"BBSDs\", \"BBSDh\"]"
      ],
      "execution_count": 11,
      "outputs": [
        {
          "output_type": "stream",
          "text": [
            "Loading file successfully.\n",
            "Loading file successfully.\n",
            "Loading file successfully.\n",
            "Loading file successfully.\n"
          ],
          "name": "stdout"
        }
      ]
    },
    {
      "cell_type": "code",
      "metadata": {
        "colab": {
          "base_uri": "https://localhost:8080/",
          "height": 262
        },
        "id": "CjugEthXFvkw",
        "outputId": "eea04e76-ca58-46c1-f809-430c4febcff8"
      },
      "source": [
        "# Plot the figures\n",
        "plot_accuracy_vs_samples(list_dict_result, list_labels, list_is_concepts, shift_prop=1.0)"
      ],
      "execution_count": 12,
      "outputs": [
        {
          "output_type": "display_data",
          "data": {
            "image/png": "[encoded data removed]",
            "text/plain": [
              "<Figure size 1440x360 with 3 Axes>"
            ]
          },
          "metadata": {
            "tags": []
          }
        }
      ]
    },
    {
      "cell_type": "markdown",
      "metadata": {
        "id": "Qy5XHAwJCBAA"
      },
      "source": [
        "#### Concept Shift"
      ]
    },
    {
      "cell_type": "code",
      "metadata": {
        "id": "dEDAUQNfFz8f"
      },
      "source": [
        "# List of concept shifts that we consider\n",
        "shift_type_list = [\"concept_scale\",\n",
        "                   [\"concept_shape\", \"concept_scale\"],\n",
        "                   \"concept_x\",\n",
        "                   \"concept_y\",\n",
        "                   [\"concept_x\", \"concept_y\"],\n",
        "                   [\"concept_x\", \"concept_y\", \"scale\"],\n",
        "                   [\"concept_x\", \"concept_y\", \"scale\", \"shape\"]\n",
        "]"
      ],
      "execution_count": 13,
      "outputs": []
    },
    {
      "cell_type": "code",
      "metadata": {
        "id": "fnxmp5jTCORT"
      },
      "source": [
        "# Iterate over shift type and plot\n",
        "for shift_type in shift_type_list:\n",
        "    dict_result_1 = load_dict_result(shift_type, \"BBSDs_concepts\")\n",
        "    dict_result_2 = load_dict_result(shift_type, \"BBSDh_concepts\")\n",
        "    dict_result_3 = load_dict_result(shift_type, \"BBSDs\")\n",
        "    dict_result_4 = load_dict_result(shift_type, \"BBSDh\")\n",
        "    list_dict_result = [dict_result_1, dict_result_2, dict_result_3, dict_result_4]\n",
        "    list_is_concepts = [True, True, False, False]\n",
        "    list_labels = [\"BBSDs (Concepts)\", \"BBSDh (Concepts)\", \"BBSDs\", \"BBSDh\"]\n",
        "\n",
        "    # Show the name of the shift\n",
        "    print()\n",
        "    display(Markdown(f\"**Shift type**: {shift_type}\")) \n",
        "    print()\n",
        "    \n",
        "    # Plot the detection accuracy vs # of samples\n",
        "    plot_accuracy_vs_samples(list_dict_result, list_labels, list_is_concepts, shift_prop=1.0)\n",
        "    display(Markdown(f\"---\"))"
      ],
      "execution_count": null,
      "outputs": []
    },
    {
      "cell_type": "markdown",
      "metadata": {
        "id": "ElFeAAnTIvCr"
      },
      "source": [
        "### Parallel Coordinate Plot of P-values\n",
        "\n",
        "The parallel coordinate plot shows average p-values over different methods (axis), shift intensity (axis), shift proportion (axis), and number of test samples (axis)."
      ]
    },
    {
      "cell_type": "code",
      "metadata": {
        "colab": {
          "base_uri": "https://localhost:8080/"
        },
        "id": "hfoEMaz6KnaR",
        "outputId": "66838cca-fb5c-40c8-91e1-5b1955d18ee1"
      },
      "source": [
        "shift_type = \"ko\"\n",
        "dict_result_1 = load_dict_result(shift_type, \"BBSDs_concepts\")\n",
        "dict_result_2 = load_dict_result(shift_type, \"BBSDh_concepts\")\n",
        "dict_result_3 = load_dict_result(shift_type, \"BBSDs\")\n",
        "dict_result_4 = load_dict_result(shift_type, \"BBSDh\")\n",
        "list_dict_result = [dict_result_1, dict_result_2, dict_result_3, dict_result_4]\n",
        "list_is_concepts = [True, True, False, False]\n",
        "list_labels = [\"BBSDs (Concepts)\", \"BBSDh (Concepts)\", \"BBSDs\", \"BBSDh\"]"
      ],
      "execution_count": 33,
      "outputs": [
        {
          "output_type": "stream",
          "text": [
            "Loading file successfully.\n",
            "Loading file successfully.\n",
            "Loading file successfully.\n",
            "Loading file successfully.\n"
          ],
          "name": "stdout"
        }
      ]
    },
    {
      "cell_type": "code",
      "metadata": {
        "colab": {
          "base_uri": "https://localhost:8080/",
          "height": 637
        },
        "id": "SOkouQkNn5CQ",
        "outputId": "9bb33f7d-1bfb-4934-dbe7-3db6b777e076"
      },
      "source": [
        "parallel_coordinate_p_values([\"ko\"], list_dict_result, list_labels, list_is_concepts)"
      ],
      "execution_count": 64,
      "outputs": [
        {
          "output_type": "display_data",
          "data": {
            "text/html": [
              "<html>\n",
              "<head><meta charset=\"utf-8\" /></head>\n",
              "<body>\n",
              "    <div>\n",
              "            <script src=\"https://cdnjs.cloudflare.com/ajax/libs/mathjax/2.7.5/MathJax.js?config=TeX-AMS-MML_SVG\"></script><script type=\"text/javascript\">if (window.MathJax) {MathJax.Hub.Config({SVG: {font: \"STIX-Web\"}});}</script>\n",
              "                <script type=\"text/javascript\">window.PlotlyConfig = {MathJaxConfig: 'local'};</script>\n",
              "        <script src=\"https://cdn.plot.ly/plotly-latest.min.js\"></script>    \n",
              "            <div id=\"87dd68a7-bf28-4e95-87ca-e293c021b2b0\" class=\"plotly-graph-div\" style=\"height:600px; width:900px;\"></div>\n",
              "            <script type=\"text/javascript\">\n",
              "                \n",
              "                    window.PLOTLYENV=window.PLOTLYENV || {};\n",
              "                    \n",
              "                if (document.getElementById(\"87dd68a7-bf28-4e95-87ca-e293c021b2b0\")) {\n",
              "                    Plotly.newPlot(\n",
              "                        '87dd68a7-bf28-4e95-87ca-e293c021b2b0',\n",
              "                        [{\"dimensions\": [{\"label\": \"Shift type\", \"range\": [0, 1], \"ticktext\": [\"ko\"], \"tickvals\": [0.5], \"values\": [0.5, 0.5, 0.5, 0.5, 0.5, 0.5, 0.5, 0.5, 0.5, 0.5, 0.5, 0.5, 0.5, 0.5, 0.5, 0.5, 0.5, 0.5, 0.5, 0.5, 0.5, 0.5, 0.5, 0.5, 0.5, 0.5, 0.5, 0.5, 0.5, 0.5, 0.5, 0.5, 0.5, 0.5, 0.5, 0.5, 0.5, 0.5, 0.5, 0.5, 0.5, 0.5, 0.5, 0.5, 0.5, 0.5, 0.5, 0.5, 0.5, 0.5, 0.5, 0.5, 0.5, 0.5, 0.5, 0.5, 0.5, 0.5, 0.5, 0.5, 0.5, 0.5, 0.5, 0.5, 0.5, 0.5, 0.5, 0.5, 0.5, 0.5, 0.5, 0.5, 0.5, 0.5, 0.5, 0.5, 0.5, 0.5, 0.5, 0.5, 0.5, 0.5, 0.5, 0.5, 0.5, 0.5, 0.5, 0.5, 0.5, 0.5, 0.5, 0.5, 0.5, 0.5, 0.5, 0.5]}, {\"label\": \"Methods\", \"range\": [0, 1], \"ticktext\": [\"BBSDs (Concepts)\", \"BBSDh (Concepts)\", \"BBSDs\", \"BBSDh\"], \"tickvals\": [0.2, 0.4, 0.6, 0.8], \"values\": [0.2, 0.2, 0.2, 0.2, 0.2, 0.2, 0.2, 0.2, 0.2, 0.2, 0.2, 0.2, 0.2, 0.2, 0.2, 0.2, 0.2, 0.2, 0.2, 0.2, 0.2, 0.2, 0.2, 0.2, 0.4, 0.4, 0.4, 0.4, 0.4, 0.4, 0.4, 0.4, 0.4, 0.4, 0.4, 0.4, 0.4, 0.4, 0.4, 0.4, 0.4, 0.4, 0.4, 0.4, 0.4, 0.4, 0.4, 0.4, 0.6, 0.6, 0.6, 0.6, 0.6, 0.6, 0.6, 0.6, 0.6, 0.6, 0.6, 0.6, 0.6, 0.6, 0.6, 0.6, 0.6, 0.6, 0.6, 0.6, 0.6, 0.6, 0.6, 0.6, 0.8, 0.8, 0.8, 0.8, 0.8, 0.8, 0.8, 0.8, 0.8, 0.8, 0.8, 0.8, 0.8, 0.8, 0.8, 0.8, 0.8, 0.8, 0.8, 0.8, 0.8, 0.8, 0.8, 0.8]}, {\"label\": \"Shift intensity\", \"range\": [0, 1], \"ticktext\": [\"small\", \"medium\", \"large\"], \"tickvals\": [0.2, 0.5, 0.8], \"values\": [0.2, 0.5, 0.8, 0.2, 0.5, 0.8, 0.2, 0.5, 0.8, 0.2, 0.5, 0.8, 0.2, 0.5, 0.8, 0.2, 0.5, 0.8, 0.2, 0.5, 0.8, 0.2, 0.5, 0.8, 0.2, 0.5, 0.8, 0.2, 0.5, 0.8, 0.2, 0.5, 0.8, 0.2, 0.5, 0.8, 0.2, 0.5, 0.8, 0.2, 0.5, 0.8, 0.2, 0.5, 0.8, 0.2, 0.5, 0.8, 0.2, 0.5, 0.8, 0.2, 0.5, 0.8, 0.2, 0.5, 0.8, 0.2, 0.5, 0.8, 0.2, 0.5, 0.8, 0.2, 0.5, 0.8, 0.2, 0.5, 0.8, 0.2, 0.5, 0.8, 0.2, 0.5, 0.8, 0.2, 0.5, 0.8, 0.2, 0.5, 0.8, 0.2, 0.5, 0.8, 0.2, 0.5, 0.8, 0.2, 0.5, 0.8, 0.2, 0.5, 0.8, 0.2, 0.5, 0.8]}, {\"label\": \"Shift proportion\", \"range\": [0, 1], \"ticktext\": [0.1, 0.5, 1.0], \"tickvals\": [0.2, 0.5, 0.8], \"values\": [0.2, 0.5, 0.8, 0.2, 0.5, 0.8, 0.2, 0.5, 0.8, 0.2, 0.5, 0.8, 0.2, 0.5, 0.8, 0.2, 0.5, 0.8, 0.2, 0.5, 0.8, 0.2, 0.5, 0.8, 0.2, 0.5, 0.8, 0.2, 0.5, 0.8, 0.2, 0.5, 0.8, 0.2, 0.5, 0.8, 0.2, 0.5, 0.8, 0.2, 0.5, 0.8, 0.2, 0.5, 0.8, 0.2, 0.5, 0.8, 0.2, 0.5, 0.8, 0.2, 0.5, 0.8, 0.2, 0.5, 0.8, 0.2, 0.5, 0.8, 0.2, 0.5, 0.8, 0.2, 0.5, 0.8, 0.2, 0.5, 0.8, 0.2, 0.5, 0.8, 0.2, 0.5, 0.8, 0.2, 0.5, 0.8, 0.2, 0.5, 0.8, 0.2, 0.5, 0.8, 0.2, 0.5, 0.8, 0.2, 0.5, 0.8, 0.2, 0.5, 0.8, 0.2, 0.5, 0.8]}, {\"label\": \"Test samples\", \"range\": [0, 1], \"ticktext\": [10, 20, 50, 100, 200, 500, 1000, 10000], \"tickvals\": [0.125, 0.25, 0.375, 0.5, 0.625, 0.75, 0.875, 1.0], \"values\": [0.125, 0.125, 0.125, 0.25, 0.25, 0.25, 0.375, 0.375, 0.375, 0.5, 0.5, 0.5, 0.625, 0.625, 0.625, 0.75, 0.75, 0.75, 0.875, 0.875, 0.875, 1.0, 1.0, 1.0, 0.125, 0.125, 0.125, 0.25, 0.25, 0.25, 0.375, 0.375, 0.375, 0.5, 0.5, 0.5, 0.625, 0.625, 0.625, 0.75, 0.75, 0.75, 0.875, 0.875, 0.875, 1.0, 1.0, 1.0, 0.125, 0.125, 0.125, 0.25, 0.25, 0.25, 0.375, 0.375, 0.375, 0.5, 0.5, 0.5, 0.625, 0.625, 0.625, 0.75, 0.75, 0.75, 0.875, 0.875, 0.875, 1.0, 1.0, 1.0, 0.125, 0.125, 0.125, 0.25, 0.25, 0.25, 0.375, 0.375, 0.375, 0.5, 0.5, 0.5, 0.625, 0.625, 0.625, 0.75, 0.75, 0.75, 0.875, 0.875, 0.875, 1.0, 1.0, 1.0]}, {\"label\": \"P-value\", \"range\": [0, 0.5], \"values\": [0.038123850675714645, 0.028962040315204763, 0.04310854310747852, 0.0380709595508452, 0.019185572110865915, 0.015245450860813903, 0.03904804971530369, 0.015713363999351825, 0.0005533098072575713, 0.03591046551586223, 0.005021583563947137, 4.859547683820827e-07, 0.028828434923105335, 0.0021656954013905927, 1.2303183319470902e-13, 0.013668956588147391, 5.476221493235337e-06, 1.924918322833354e-31, 0.027413904366022118, 1.3735884846223247e-10, 7.45874509647562e-60, 0.004241128686844429, 3.8980628869459465e-73, 0.0, 0.20027902212424215, 0.22406674320493805, 0.08084053805817133, 0.10851220365090894, 0.09618581024308953, 0.033127604749533086, 0.08992933386641358, 0.09343477483734357, 0.00017208078663004416, 0.1721135092317035, 0.028119240352921487, 1.202123564249735e-07, 0.1768374233781581, 0.005282344273074144, 4.09720904157069e-15, 0.15124641417685264, 4.4760870276640224e-08, 1.0543760056338449e-35, 0.21930782096091037, 5.217877577837414e-11, 1.8236398308249457e-71, 0.020466387820748794, 1.7522004073476518e-90, 0.0, 0.3168697486514823, 0.24952299888329238, 0.14403434991575922, 0.4340497168756722, 0.14425898151521718, 0.020733002801939005, 0.4382074501680231, 0.08564556015357447, 0.00039416736684344604, 0.2213490171851757, 0.036789760188722286, 1.437198456342759e-07, 0.29660046435507914, 0.014753710163545621, 2.211188636713156e-13, 0.23235908940253727, 2.8464245452650308e-05, 1.284628348295085e-31, 0.20719021115678687, 1.7107555009129712e-11, 3.884741343570997e-61, 0.006344644852995832, 1.7836905192052753e-76, 0.0, 0.3000068017525862, 0.421618130774928, 0.1417342238139188, 0.38410474215548457, 0.3279644869557121, 0.03461376655779671, 0.4454589686926894, 0.19967788019336694, 0.00016155204761726807, 0.3067499765762849, 0.036186753354031084, 1.0930030299395942e-07, 0.39076154194080825, 0.00374874241195592, 2.416785828009151e-13, 0.47149527996304014, 1.4065812143566486e-06, 2.023712274796813e-35, 0.2803007090977312, 9.853956814245249e-12, 5.711066276790065e-72, 0.02309584345688325, 8.819050787440911e-90, 0.0]}], \"line\": {\"cmax\": 0.5, \"cmin\": 0, \"color\": [0.038123850675714645, 0.028962040315204763, 0.04310854310747852, 0.0380709595508452, 0.019185572110865915, 0.015245450860813903, 0.03904804971530369, 0.015713363999351825, 0.0005533098072575713, 0.03591046551586223, 0.005021583563947137, 4.859547683820827e-07, 0.028828434923105335, 0.0021656954013905927, 1.2303183319470902e-13, 0.013668956588147391, 5.476221493235337e-06, 1.924918322833354e-31, 0.027413904366022118, 1.3735884846223247e-10, 7.45874509647562e-60, 0.004241128686844429, 3.8980628869459465e-73, 0.0, 0.20027902212424215, 0.22406674320493805, 0.08084053805817133, 0.10851220365090894, 0.09618581024308953, 0.033127604749533086, 0.08992933386641358, 0.09343477483734357, 0.00017208078663004416, 0.1721135092317035, 0.028119240352921487, 1.202123564249735e-07, 0.1768374233781581, 0.005282344273074144, 4.09720904157069e-15, 0.15124641417685264, 4.4760870276640224e-08, 1.0543760056338449e-35, 0.21930782096091037, 5.217877577837414e-11, 1.8236398308249457e-71, 0.020466387820748794, 1.7522004073476518e-90, 0.0, 0.3168697486514823, 0.24952299888329238, 0.14403434991575922, 0.4340497168756722, 0.14425898151521718, 0.020733002801939005, 0.4382074501680231, 0.08564556015357447, 0.00039416736684344604, 0.2213490171851757, 0.036789760188722286, 1.437198456342759e-07, 0.29660046435507914, 0.014753710163545621, 2.211188636713156e-13, 0.23235908940253727, 2.8464245452650308e-05, 1.284628348295085e-31, 0.20719021115678687, 1.7107555009129712e-11, 3.884741343570997e-61, 0.006344644852995832, 1.7836905192052753e-76, 0.0, 0.3000068017525862, 0.421618130774928, 0.1417342238139188, 0.38410474215548457, 0.3279644869557121, 0.03461376655779671, 0.4454589686926894, 0.19967788019336694, 0.00016155204761726807, 0.3067499765762849, 0.036186753354031084, 1.0930030299395942e-07, 0.39076154194080825, 0.00374874241195592, 2.416785828009151e-13, 0.47149527996304014, 1.4065812143566486e-06, 2.023712274796813e-35, 0.2803007090977312, 9.853956814245249e-12, 5.711066276790065e-72, 0.02309584345688325, 8.819050787440911e-90, 0.0], \"colorscale\": [[0.0, \"rgb(0,0,0)\"], [0.2, \"rgb(30,0,100)\"], [0.4, \"rgb(120,0,100)\"], [0.6, \"rgb(160,90,0)\"], [0.8, \"rgb(230,200,0)\"], [1.0, \"rgb(255,250,220)\"]], \"showscale\": true}, \"type\": \"parcoords\"}],\n",
              "                        {\"font\": {\"size\": 15}, \"height\": 600, \"paper_bgcolor\": \"white\", \"plot_bgcolor\": \"white\", \"template\": {\"data\": {\"bar\": [{\"error_x\": {\"color\": \"#2a3f5f\"}, \"error_y\": {\"color\": \"#2a3f5f\"}, \"marker\": {\"line\": {\"color\": \"#E5ECF6\", \"width\": 0.5}}, \"type\": \"bar\"}], \"barpolar\": [{\"marker\": {\"line\": {\"color\": \"#E5ECF6\", \"width\": 0.5}}, \"type\": \"barpolar\"}], \"carpet\": [{\"aaxis\": {\"endlinecolor\": \"#2a3f5f\", \"gridcolor\": \"white\", \"linecolor\": \"white\", \"minorgridcolor\": \"white\", \"startlinecolor\": \"#2a3f5f\"}, \"baxis\": {\"endlinecolor\": \"#2a3f5f\", \"gridcolor\": \"white\", \"linecolor\": \"white\", \"minorgridcolor\": \"white\", \"startlinecolor\": \"#2a3f5f\"}, \"type\": \"carpet\"}], \"choropleth\": [{\"colorbar\": {\"outlinewidth\": 0, \"ticks\": \"\"}, \"type\": \"choropleth\"}], \"contour\": [{\"colorbar\": {\"outlinewidth\": 0, \"ticks\": \"\"}, \"colorscale\": [[0.0, \"#0d0887\"], [0.1111111111111111, \"#46039f\"], [0.2222222222222222, \"#7201a8\"], [0.3333333333333333, \"#9c179e\"], [0.4444444444444444, \"#bd3786\"], [0.5555555555555556, \"#d8576b\"], [0.6666666666666666, \"#ed7953\"], [0.7777777777777778, \"#fb9f3a\"], [0.8888888888888888, \"#fdca26\"], [1.0, \"#f0f921\"]], \"type\": \"contour\"}], \"contourcarpet\": [{\"colorbar\": {\"outlinewidth\": 0, \"ticks\": \"\"}, \"type\": \"contourcarpet\"}], \"heatmap\": [{\"colorbar\": {\"outlinewidth\": 0, \"ticks\": \"\"}, \"colorscale\": [[0.0, \"#0d0887\"], [0.1111111111111111, \"#46039f\"], [0.2222222222222222, \"#7201a8\"], [0.3333333333333333, \"#9c179e\"], [0.4444444444444444, \"#bd3786\"], [0.5555555555555556, \"#d8576b\"], [0.6666666666666666, \"#ed7953\"], [0.7777777777777778, \"#fb9f3a\"], [0.8888888888888888, \"#fdca26\"], [1.0, \"#f0f921\"]], \"type\": \"heatmap\"}], \"heatmapgl\": [{\"colorbar\": {\"outlinewidth\": 0, \"ticks\": \"\"}, \"colorscale\": [[0.0, \"#0d0887\"], [0.1111111111111111, \"#46039f\"], [0.2222222222222222, \"#7201a8\"], [0.3333333333333333, \"#9c179e\"], [0.4444444444444444, \"#bd3786\"], [0.5555555555555556, \"#d8576b\"], [0.6666666666666666, \"#ed7953\"], [0.7777777777777778, \"#fb9f3a\"], [0.8888888888888888, \"#fdca26\"], [1.0, \"#f0f921\"]], \"type\": \"heatmapgl\"}], \"histogram\": [{\"marker\": {\"colorbar\": {\"outlinewidth\": 0, \"ticks\": \"\"}}, \"type\": \"histogram\"}], \"histogram2d\": [{\"colorbar\": {\"outlinewidth\": 0, \"ticks\": \"\"}, \"colorscale\": [[0.0, \"#0d0887\"], [0.1111111111111111, \"#46039f\"], [0.2222222222222222, \"#7201a8\"], [0.3333333333333333, \"#9c179e\"], [0.4444444444444444, \"#bd3786\"], [0.5555555555555556, \"#d8576b\"], [0.6666666666666666, \"#ed7953\"], [0.7777777777777778, \"#fb9f3a\"], [0.8888888888888888, \"#fdca26\"], [1.0, \"#f0f921\"]], \"type\": \"histogram2d\"}], \"histogram2dcontour\": [{\"colorbar\": {\"outlinewidth\": 0, \"ticks\": \"\"}, \"colorscale\": [[0.0, \"#0d0887\"], [0.1111111111111111, \"#46039f\"], [0.2222222222222222, \"#7201a8\"], [0.3333333333333333, \"#9c179e\"], [0.4444444444444444, \"#bd3786\"], [0.5555555555555556, \"#d8576b\"], [0.6666666666666666, \"#ed7953\"], [0.7777777777777778, \"#fb9f3a\"], [0.8888888888888888, \"#fdca26\"], [1.0, \"#f0f921\"]], \"type\": \"histogram2dcontour\"}], \"mesh3d\": [{\"colorbar\": {\"outlinewidth\": 0, \"ticks\": \"\"}, \"type\": \"mesh3d\"}], \"parcoords\": [{\"line\": {\"colorbar\": {\"outlinewidth\": 0, \"ticks\": \"\"}}, \"type\": \"parcoords\"}], \"pie\": [{\"automargin\": true, \"type\": \"pie\"}], \"scatter\": [{\"marker\": {\"colorbar\": {\"outlinewidth\": 0, \"ticks\": \"\"}}, \"type\": \"scatter\"}], \"scatter3d\": [{\"line\": {\"colorbar\": {\"outlinewidth\": 0, \"ticks\": \"\"}}, \"marker\": {\"colorbar\": {\"outlinewidth\": 0, \"ticks\": \"\"}}, \"type\": \"scatter3d\"}], \"scattercarpet\": [{\"marker\": {\"colorbar\": {\"outlinewidth\": 0, \"ticks\": \"\"}}, \"type\": \"scattercarpet\"}], \"scattergeo\": [{\"marker\": {\"colorbar\": {\"outlinewidth\": 0, \"ticks\": \"\"}}, \"type\": \"scattergeo\"}], \"scattergl\": [{\"marker\": {\"colorbar\": {\"outlinewidth\": 0, \"ticks\": \"\"}}, \"type\": \"scattergl\"}], \"scattermapbox\": [{\"marker\": {\"colorbar\": {\"outlinewidth\": 0, \"ticks\": \"\"}}, \"type\": \"scattermapbox\"}], \"scatterpolar\": [{\"marker\": {\"colorbar\": {\"outlinewidth\": 0, \"ticks\": \"\"}}, \"type\": \"scatterpolar\"}], \"scatterpolargl\": [{\"marker\": {\"colorbar\": {\"outlinewidth\": 0, \"ticks\": \"\"}}, \"type\": \"scatterpolargl\"}], \"scatterternary\": [{\"marker\": {\"colorbar\": {\"outlinewidth\": 0, \"ticks\": \"\"}}, \"type\": \"scatterternary\"}], \"surface\": [{\"colorbar\": {\"outlinewidth\": 0, \"ticks\": \"\"}, \"colorscale\": [[0.0, \"#0d0887\"], [0.1111111111111111, \"#46039f\"], [0.2222222222222222, \"#7201a8\"], [0.3333333333333333, \"#9c179e\"], [0.4444444444444444, \"#bd3786\"], [0.5555555555555556, \"#d8576b\"], [0.6666666666666666, \"#ed7953\"], [0.7777777777777778, \"#fb9f3a\"], [0.8888888888888888, \"#fdca26\"], [1.0, \"#f0f921\"]], \"type\": \"surface\"}], \"table\": [{\"cells\": {\"fill\": {\"color\": \"#EBF0F8\"}, \"line\": {\"color\": \"white\"}}, \"header\": {\"fill\": {\"color\": \"#C8D4E3\"}, \"line\": {\"color\": \"white\"}}, \"type\": \"table\"}]}, \"layout\": {\"annotationdefaults\": {\"arrowcolor\": \"#2a3f5f\", \"arrowhead\": 0, \"arrowwidth\": 1}, \"coloraxis\": {\"colorbar\": {\"outlinewidth\": 0, \"ticks\": \"\"}}, \"colorscale\": {\"diverging\": [[0, \"#8e0152\"], [0.1, \"#c51b7d\"], [0.2, \"#de77ae\"], [0.3, \"#f1b6da\"], [0.4, \"#fde0ef\"], [0.5, \"#f7f7f7\"], [0.6, \"#e6f5d0\"], [0.7, \"#b8e186\"], [0.8, \"#7fbc41\"], [0.9, \"#4d9221\"], [1, \"#276419\"]], \"sequential\": [[0.0, \"#0d0887\"], [0.1111111111111111, \"#46039f\"], [0.2222222222222222, \"#7201a8\"], [0.3333333333333333, \"#9c179e\"], [0.4444444444444444, \"#bd3786\"], [0.5555555555555556, \"#d8576b\"], [0.6666666666666666, \"#ed7953\"], [0.7777777777777778, \"#fb9f3a\"], [0.8888888888888888, \"#fdca26\"], [1.0, \"#f0f921\"]], \"sequentialminus\": [[0.0, \"#0d0887\"], [0.1111111111111111, \"#46039f\"], [0.2222222222222222, \"#7201a8\"], [0.3333333333333333, \"#9c179e\"], [0.4444444444444444, \"#bd3786\"], [0.5555555555555556, \"#d8576b\"], [0.6666666666666666, \"#ed7953\"], [0.7777777777777778, \"#fb9f3a\"], [0.8888888888888888, \"#fdca26\"], [1.0, \"#f0f921\"]]}, \"colorway\": [\"#636efa\", \"#EF553B\", \"#00cc96\", \"#ab63fa\", \"#FFA15A\", \"#19d3f3\", \"#FF6692\", \"#B6E880\", \"#FF97FF\", \"#FECB52\"], \"font\": {\"color\": \"#2a3f5f\"}, \"geo\": {\"bgcolor\": \"white\", \"lakecolor\": \"white\", \"landcolor\": \"#E5ECF6\", \"showlakes\": true, \"showland\": true, \"subunitcolor\": \"white\"}, \"hoverlabel\": {\"align\": \"left\"}, \"hovermode\": \"closest\", \"mapbox\": {\"style\": \"light\"}, \"paper_bgcolor\": \"white\", \"plot_bgcolor\": \"#E5ECF6\", \"polar\": {\"angularaxis\": {\"gridcolor\": \"white\", \"linecolor\": \"white\", \"ticks\": \"\"}, \"bgcolor\": \"#E5ECF6\", \"radialaxis\": {\"gridcolor\": \"white\", \"linecolor\": \"white\", \"ticks\": \"\"}}, \"scene\": {\"xaxis\": {\"backgroundcolor\": \"#E5ECF6\", \"gridcolor\": \"white\", \"gridwidth\": 2, \"linecolor\": \"white\", \"showbackground\": true, \"ticks\": \"\", \"zerolinecolor\": \"white\"}, \"yaxis\": {\"backgroundcolor\": \"#E5ECF6\", \"gridcolor\": \"white\", \"gridwidth\": 2, \"linecolor\": \"white\", \"showbackground\": true, \"ticks\": \"\", \"zerolinecolor\": \"white\"}, \"zaxis\": {\"backgroundcolor\": \"#E5ECF6\", \"gridcolor\": \"white\", \"gridwidth\": 2, \"linecolor\": \"white\", \"showbackground\": true, \"ticks\": \"\", \"zerolinecolor\": \"white\"}}, \"shapedefaults\": {\"line\": {\"color\": \"#2a3f5f\"}}, \"ternary\": {\"aaxis\": {\"gridcolor\": \"white\", \"linecolor\": \"white\", \"ticks\": \"\"}, \"baxis\": {\"gridcolor\": \"white\", \"linecolor\": \"white\", \"ticks\": \"\"}, \"bgcolor\": \"#E5ECF6\", \"caxis\": {\"gridcolor\": \"white\", \"linecolor\": \"white\", \"ticks\": \"\"}}, \"title\": {\"x\": 0.05}, \"xaxis\": {\"automargin\": true, \"gridcolor\": \"white\", \"linecolor\": \"white\", \"ticks\": \"\", \"title\": {\"standoff\": 15}, \"zerolinecolor\": \"white\", \"zerolinewidth\": 2}, \"yaxis\": {\"automargin\": true, \"gridcolor\": \"white\", \"linecolor\": \"white\", \"ticks\": \"\", \"title\": {\"standoff\": 15}, \"zerolinecolor\": \"white\", \"zerolinewidth\": 2}}}, \"width\": 900},\n",
              "                        {\"responsive\": true}\n",
              "                    ).then(function(){\n",
              "                            \n",
              "var gd = document.getElementById('87dd68a7-bf28-4e95-87ca-e293c021b2b0');\n",
              "var x = new MutationObserver(function (mutations, observer) {{\n",
              "        var display = window.getComputedStyle(gd).display;\n",
              "        if (!display || display === 'none') {{\n",
              "            console.log([gd, 'removed!']);\n",
              "            Plotly.purge(gd);\n",
              "            observer.disconnect();\n",
              "        }}\n",
              "}});\n",
              "\n",
              "// Listen for the removal of the full notebook cells\n",
              "var notebookContainer = gd.closest('#notebook-container');\n",
              "if (notebookContainer) {{\n",
              "    x.observe(notebookContainer, {childList: true});\n",
              "}}\n",
              "\n",
              "// Listen for the clearing of the current output cell\n",
              "var outputEl = gd.closest('.output');\n",
              "if (outputEl) {{\n",
              "    x.observe(outputEl, {childList: true});\n",
              "}}\n",
              "\n",
              "                        })\n",
              "                };\n",
              "                \n",
              "            </script>\n",
              "        </div>\n",
              "</body>\n",
              "</html>"
            ]
          },
          "metadata": {
            "tags": []
          }
        }
      ]
    }
  ]
}