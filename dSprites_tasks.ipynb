{
 "cells": [
  {
   "cell_type": "markdown",
   "metadata": {},
   "source": [
    "# dSprites - Disentanglement testing Sprites dataset\n",
    "\n",
    "**Description**: In this notebook, we will load and explore the datasets. We will also replicate the experiments shown in the CME paper.\n",
    "\n",
    "**Details**: The dSprite dataset consists of 2D shapes procedurally generated from 6 ground truth independent latent factors: *color (1 possible value), shape (3 possible values), scale (6), rotation (40), x (32) and y (32) positions of a sprite*. All possible combinations of these latents are present exactly once generating 737,280 total images shown in the dataset.\n",
    "\n",
    "**Notes**: see [dSprites](https://github.com/deepmind/dsprites-dataset) for more details."
   ]
  },
  {
   "cell_type": "code",
   "execution_count": 1,
   "metadata": {},
   "outputs": [],
   "source": [
    "import numpy as np\n",
    "import matplotlib.pyplot as plt\n",
    "import seaborn as sns\n",
    "from sklearn.model_selection import train_test_split\n",
    "import tensorflow as tf\n",
    "from sklearn.metrics import confusion_matrix, classification_report, accuracy_score, plot_confusion_matrix\n",
    "from sklearn.linear_model import LogisticRegression\n",
    "from sklearn.tree import DecisionTreeClassifier\n",
    "from tensorflow.python.keras.layers import Conv2D, MaxPooling2D, Flatten, Dense, Dropout, BatchNormalization\n",
    "\n",
    "\n",
    "# Change figure aesthetics\n",
    "%matplotlib inline\n",
    "# sns.set_context('talk', font_scale=1.2, rc={'lines.linewidth': 1.5})"
   ]
  },
  {
   "cell_type": "markdown",
   "metadata": {},
   "source": [
    "## Utilities\n",
    "\n",
    "Contains helper functions."
   ]
  },
  {
   "cell_type": "code",
   "execution_count": 2,
   "metadata": {},
   "outputs": [],
   "source": [
    "def get_latent_sizes():\n",
    "    \"\"\"\n",
    "    Get the size of each concept (see details above).\n",
    "    \"\"\"\n",
    "    \n",
    "    return np.array([1, 3, 6, 40, 32, 32])\n",
    "\n",
    "def get_latent_bases():\n",
    "    \"\"\"\n",
    "    Given vector (x, y, z) where each dimension is in base (a, b, c).\n",
    "    The following function will convert each of (x, y, z) dimensions to decimal.\n",
    "    \"\"\"\n",
    "    \n",
    "    latent_sizes = get_latent_sizes()\n",
    "    latent_bases = np.concatenate((latent_sizes[::-1].cumprod()[::-1][1:],\n",
    "                                np.array([1,])))\n",
    "    \n",
    "    return latent_bases"
   ]
  },
  {
   "cell_type": "code",
   "execution_count": 3,
   "metadata": {},
   "outputs": [],
   "source": [
    "def sample_latent(size=1):\n",
    "    \"\"\"\n",
    "    Used to randomly sample latent of size 'size'\n",
    "    \"\"\"\n",
    "    \n",
    "    latents_sizes = get_latent_sizes()\n",
    "    samples = np.zeros((size, len(latents_sizes)))\n",
    "    for lat_i, lat_size in enumerate(latents_sizes):\n",
    "        samples[:, lat_i] = np.random.randint(lat_size, size=size)\n",
    "\n",
    "    return samples"
   ]
  },
  {
   "cell_type": "code",
   "execution_count": 4,
   "metadata": {},
   "outputs": [],
   "source": [
    "def latent_to_index(latents):\n",
    "    \"\"\"\n",
    "    Convert from given latent to index position of it in the dataset\n",
    "    \"\"\"\n",
    "    \n",
    "    latents_bases = get_latent_bases()\n",
    "    return np.dot(latents, latents_bases).astype(int)"
   ]
  },
  {
   "cell_type": "code",
   "execution_count": 5,
   "metadata": {},
   "outputs": [],
   "source": [
    "def show_images_grid(imgs_, num_images=25):\n",
    "    \"\"\"\n",
    "    Used to visualise dSprite image in a grid\n",
    "    \"\"\"\n",
    "    \n",
    "    ncols = int(np.ceil(num_images**0.5))\n",
    "    nrows = int(np.ceil(num_images / ncols))\n",
    "    _, axes = plt.subplots(ncols, nrows, figsize=(nrows * 3, ncols * 3))\n",
    "    axes = axes.flatten()\n",
    "    \n",
    "    # Draw images on the given grid\n",
    "    for ax_i, ax in enumerate(axes):\n",
    "        if ax_i < num_images:\n",
    "            ax.imshow(imgs_[ax_i], cmap='Greys_r',  interpolation='nearest')\n",
    "            ax.set_xticks([])\n",
    "            ax.set_yticks([])\n",
    "        else:\n",
    "            ax.axis('off')"
   ]
  },
  {
   "cell_type": "markdown",
   "metadata": {},
   "source": [
    "## Exploring dSprites\n",
    "\n",
    "In this section, we will load and visualise the dSprite datasets."
   ]
  },
  {
   "cell_type": "markdown",
   "metadata": {},
   "source": [
    "### Load dataset"
   ]
  },
  {
   "cell_type": "code",
   "execution_count": 6,
   "metadata": {},
   "outputs": [],
   "source": [
    "# Load dataset (the zip file)\n",
    "dataset_zip = np.load('dsprites_ndarray_co1sh3sc6or40x32y32_64x64.npz')\n",
    "\n",
    "# Extract relevant datas from the zip file\n",
    "imgs = dataset_zip[\"imgs\"] # contains image data (737280 x 64 x 64)\n",
    "latents_values = dataset_zip['latents_values'] # values of latent factors (or in this case concepts)\n",
    "latents_classes = dataset_zip['latents_classes'] # classification targets (integer index of latents_values)"
   ]
  },
  {
   "cell_type": "markdown",
   "metadata": {},
   "source": [
    "### Draw samples"
   ]
  },
  {
   "cell_type": "code",
   "execution_count": 7,
   "metadata": {},
   "outputs": [
    {
     "data": {
      "image/png": "[encoded data removed]",
      "text/plain": [
       "<Figure size 1512x1512 with 49 Axes>"
      ]
     },
     "metadata": {},
     "output_type": "display_data"
    }
   ],
   "source": [
    "# Randomly sample some latents (from the dataset)\n",
    "latents_sampled = sample_latent(size=49)\n",
    "\n",
    "# Select images\n",
    "indices_sampled = latent_to_index(latents_sampled)\n",
    "imgs_sampled = imgs[indices_sampled]\n",
    "\n",
    "# Show images\n",
    "show_images_grid(imgs_sampled, num_images=49)"
   ]
  },
  {
   "cell_type": "markdown",
   "metadata": {},
   "source": [
    "### Splitting Training/ Testing Set"
   ]
  },
  {
   "cell_type": "code",
   "execution_count": 8,
   "metadata": {},
   "outputs": [
    {
     "name": "stdout",
     "output_type": "stream",
     "text": [
      "Training samples: 626688\n",
      "Testing samples: 110592\n"
     ]
    }
   ],
   "source": [
    "concept_names = ['color', 'shape', 'scale', 'rotation', 'x_pos', 'y_pos']\n",
    "class_index = 1 # shape\n",
    "\n",
    "X = imgs # image\n",
    "X = np.expand_dims(X, axis=-1)\n",
    "X = X.astype(('float32'))\n",
    "y = latents_classes[:, class_index] # shape for task 1\n",
    "c = latents_classes # concepts\n",
    "\n",
    "# Split X (image), y (shape for task 1), concepts to train test sets\n",
    "X_train, X_test, y_train, y_test, c_train, c_test = train_test_split(X, y, c, train_size=0.85)\n",
    "print('Training samples:', X_train.shape[0])\n",
    "print('Testing samples:', X_test.shape[0])"
   ]
  },
  {
   "cell_type": "markdown",
   "metadata": {},
   "source": [
    "## Input to Concept Model\n",
    "\n",
    "In this section, we will train input to concept model. The input to concept model will take an image and output concepts."
   ]
  },
  {
   "cell_type": "code",
   "execution_count": 13,
   "metadata": {},
   "outputs": [],
   "source": [
    "def build_input_to_concept_model():\n",
    "    \"\"\"\n",
    "    Build and return multi-task model.\n",
    "    \"\"\"\n",
    "        \n",
    "    img_inputs = tf.keras.Input(shape=(64,64,1))\n",
    "    \n",
    "    # Shared layers\n",
    "    x = Conv2D(64, (8, 8), strides=(2, 2), padding='same')(x)\n",
    "    x = Dropout(0.3)(x)\n",
    "    \n",
    "    x =  Conv2D(128, (6, 6), strides=(2, 2), padding='valid')(x)\n",
    "    x = BatchNormalization()(x)\n",
    "    \n",
    "    x = Conv2D(128, (5, 5), strides=(1, 1), padding='valid')(x)\n",
    "    x = MaxPooling2D((2, 2))(x)\n",
    "    x = Dropout(0.3)(x)\n",
    "    \n",
    "    x = Flatten()(x)\n",
    "    x = Dense(128, activation=\"relu\")(x)\n",
    "    x = Dropout(0.4)(x)\n",
    "    x = Dense(64, activation=\"relu\")(x)\n",
    "    x = Dropout(0.2)(x)\n",
    "    \n",
    "    # Task specific layer\n",
    "    task_color = Dense(1, activation=\"softmax\")(x)\n",
    "    task_shape = Dense(3, activation=\"softmax\")(x)\n",
    "    task_scale = Dense(6, activation=\"softmax\")(x)\n",
    "    task_rotation = Dense(40, activation=\"softmax\")(x)\n",
    "    task_x = Dense(32, activation=\"softmax\")(x)\n",
    "    task_y = Dense(32, activation=\"softmax\")(x)\n",
    "    \n",
    "    optimizer = tf.keras.optimizers.Adam(lr=1e-4, amsgrad=True)\n",
    "    model = tf.keras.Model(inputs=img_inputs, outputs=[task_color, task_shape, task_scale, task_rotation, task_x, task_y])\n",
    "    model.compile(optimizer=optimizer,\n",
    "                 loss={\n",
    "                     \"task_color\": \"categorical_crossentropy\",\n",
    "                     \"task_shape\": \"categorical_crossentropy\",\n",
    "                     \"task_scale\": \"categorical_crossentropy\",\n",
    "                     \"task_rotation\": \"categorical_crossentropy\",\n",
    "                     \"task_x\": \"categorical_crossentropy\",\n",
    "                     \"task_y\": \"categorical_crossentropy\",\n",
    "                 })\n",
    "    \n",
    "    return model"
   ]
  },
  {
   "cell_type": "code",
   "execution_count": null,
   "metadata": {},
   "outputs": [],
   "source": [
    "epochs = 10\n",
    "batch_size = 128\n",
    "\n",
    "\n",
    "model = build_input_to_concept_model()\n",
    "history = model.fit(x=X_train, y=c_train, epochs=epochs, batch_size=batch_size)"
   ]
  },
  {
   "cell_type": "code",
   "execution_count": null,
   "metadata": {},
   "outputs": [],
   "source": [
    "# Plot training-validation loss\n",
    "plt.plot(history.history[\"loss\"], label=\"Training Loss\")\n",
    "plt.plot(history.history[\"val_loss\"], label=\"Validation Loss\")\n",
    "plt.grid(True)\n",
    "plt.legend()\n",
    "plt.show()"
   ]
  },
  {
   "cell_type": "code",
   "execution_count": null,
   "metadata": {},
   "outputs": [],
   "source": []
  },
  {
   "cell_type": "code",
   "execution_count": null,
   "metadata": {},
   "outputs": [],
   "source": []
  },
  {
   "cell_type": "markdown",
   "metadata": {},
   "source": [
    "## Concept to Output Model\n",
    "\n",
    "In this section, we will train concept to output model. The model will take concepts as input and shape as output."
   ]
  },
  {
   "cell_type": "code",
   "execution_count": null,
   "metadata": {},
   "outputs": [],
   "source": [
    "# Build and train model\n",
    "com = DecisionTreeClassifier()\n",
    "com.fit(c_train, y_train)"
   ]
  },
  {
   "cell_type": "code",
   "execution_count": null,
   "metadata": {},
   "outputs": [],
   "source": [
    "y_test_pred = com.predict(c_test)\n",
    "print(classification_report(y_test_pred, y_test))\n",
    "plot_confusion_matrix(com, c_test, y_test)"
   ]
  },
  {
   "cell_type": "markdown",
   "metadata": {},
   "source": [
    "## End to End Model\n",
    "\n",
    "In this section, we will evaluate the performance of the model as a whole (merging input to concept and concept to output models)."
   ]
  },
  {
   "cell_type": "code",
   "execution_count": null,
   "metadata": {},
   "outputs": [],
   "source": []
  },
  {
   "cell_type": "code",
   "execution_count": null,
   "metadata": {},
   "outputs": [],
   "source": []
  },
  {
   "cell_type": "code",
   "execution_count": null,
   "metadata": {},
   "outputs": [],
   "source": []
  },
  {
   "cell_type": "code",
   "execution_count": null,
   "metadata": {},
   "outputs": [],
   "source": []
  }
 ],
 "metadata": {
  "kernelspec": {
   "display_name": "Python 3",
   "language": "python",
   "name": "python3"
  },
  "language_info": {
   "codemirror_mode": {
    "name": "ipython",
    "version": 3
   },
   "file_extension": ".py",
   "mimetype": "text/x-python",
   "name": "python",
   "nbconvert_exporter": "python",
   "pygments_lexer": "ipython3",
   "version": "3.7.6"
  }
 },
 "nbformat": 4,
 "nbformat_minor": 4
}
